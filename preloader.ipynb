{
 "cells": [
  {
   "cell_type": "code",
   "execution_count": 2,
   "metadata": {},
   "outputs": [],
   "source": [
    "import pandas as pd\n",
    "from IPython.core.debugger import set_trace\n",
    "import json\n",
    "import re\n",
    "import os\n",
    "import time\n",
    "import requests\n",
    "import csv\n",
    "from twython import Twython, TwythonRateLimitError, TwythonError\n",
    "from app.models import Brand, Profile, Hashtag\n",
    "from custom_user.models import EmailUser\n",
    "from tqdm.autonotebook import tqdm\n",
    "tqdm.pandas()"
   ]
  },
  {
   "cell_type": "markdown",
   "metadata": {},
   "source": [
    "# Scraping"
   ]
  },
  {
   "cell_type": "code",
   "execution_count": 79,
   "metadata": {},
   "outputs": [],
   "source": [
    "df = pd.read_excel('../texcrapy/keywords and logos.xlsx', \n",
    "                   sheet_name='20190304')[['shortname','kw_supporter','kw_supported','keywords']][3:];df\n",
    "_or = lambda kw: ' OR '.join(['#' + k.strip() for k in kw.split(',')])\n",
    "\n",
    "qry_base = {row.shortname:_or(row.keywords) for row in df.itertuples()}\n",
    "supporters = df.shortname[df.kw_supporter==True]\n",
    "qry_sup = ' OR '.join([qry_base[sup] for sup in supporters]); qry_sup\n",
    "qry = {row.shortname: '(' + qry_base[row.shortname] + ') AND (' + qry_sup + ')' if row.kw_supported==True else qry_base[row.shortname] for row in df.itertuples()}"
   ]
  },
  {
   "cell_type": "code",
   "execution_count": 58,
   "metadata": {
    "collapsed": true
   },
   "outputs": [
    {
     "ename": "NameError",
     "evalue": "name 'texcrapy' is not defined",
     "output_type": "error",
     "traceback": [
      "\u001b[1;31m---------------------------------------------------------------------------\u001b[0m",
      "\u001b[1;31mNameError\u001b[0m                                 Traceback (most recent call last)",
      "\u001b[1;32m<timed exec>\u001b[0m in \u001b[0;36m<module>\u001b[1;34m\u001b[0m\n",
      "\u001b[1;31mNameError\u001b[0m: name 'texcrapy' is not defined"
     ]
    }
   ],
   "source": [
    "%%time\n",
    "what = ['id']#, 'likes', 'text', 'timestamp', 'user']\n",
    "texcrapy.scrap(qry, what=what, lang='ko', start='2019-01-01', end='2019-06-20', download_to='scrapped/getch')"
   ]
  },
  {
   "cell_type": "code",
   "execution_count": null,
   "metadata": {},
   "outputs": [],
   "source": []
  },
  {
   "cell_type": "markdown",
   "metadata": {},
   "source": [
    "# 스크랩 파일명 가져오기"
   ]
  },
  {
   "cell_type": "code",
   "execution_count": 3,
   "metadata": {},
   "outputs": [],
   "source": [
    "from glob import glob\n",
    "glob_pattern = os.path.join('../texcrapy/scrapped/twitter_getch', '*')\n",
    "fnames = glob(glob_pattern)\n",
    "# fnames = ['scrapped/twitter_getch/' + fname for fname in os.listdir('../texcrapy/scrapped/twitter_getch')]"
   ]
  },
  {
   "cell_type": "code",
   "execution_count": 4,
   "metadata": {},
   "outputs": [
    {
     "data": {
      "application/vnd.jupyter.widget-view+json": {
       "model_id": "f6198a05a8ee407093285cae08263120",
       "version_major": 2,
       "version_minor": 0
      },
      "text/plain": [
       "HBox(children=(IntProgress(value=0, max=323), HTML(value='')))"
      ]
     },
     "metadata": {},
     "output_type": "display_data"
    },
    {
     "name": "stdout",
     "output_type": "stream",
     "text": [
      "\n"
     ]
    }
   ],
   "source": [
    "tweet_ids = {}\n",
    "for fname in tqdm(fnames[:]):\n",
    "    with open(fname, encoding='UTF-8-sig') as f:\n",
    "        for item, docs in json.load(f).items():\n",
    "            if len(docs) > 0:\n",
    "                tweet_ids[item] = set()\n",
    "                for doc in docs: tweet_ids[item].add(doc['id'])"
   ]
  },
  {
   "cell_type": "code",
   "execution_count": 6,
   "metadata": {},
   "outputs": [],
   "source": [
    "tweet_ids;"
   ]
  },
  {
   "cell_type": "code",
   "execution_count": null,
   "metadata": {},
   "outputs": [],
   "source": []
  },
  {
   "cell_type": "markdown",
   "metadata": {},
   "source": [
    "# 트위터 크롤링 (by ID)"
   ]
  },
  {
   "cell_type": "code",
   "execution_count": 6,
   "metadata": {},
   "outputs": [],
   "source": [
    "def get_hashtags(tweet):\n",
    "    _hashtags = tweet['entities']['hashtags']\n",
    "    \n",
    "    if len(_hashtags) > 0:\n",
    "        return {ht['text'] for ht in _hashtags}\n",
    "    else:\n",
    "        return set()\n",
    "                \n",
    "\n",
    "def get_user(tweet):\n",
    "    _user = tweet['user']\n",
    "    \n",
    "    user = {}\n",
    "    user['user'] = _user['screen_name']\n",
    "\n",
    "    if 'profile_image_url' in _user:\n",
    "        user['profile_image'] = _user['profile_image_url']\n",
    "            \n",
    "    return {_user['id']:user}\n",
    "        \n",
    "    \n",
    "def get_feed_image(tweet):\n",
    "    entities = tweet['entities']\n",
    "    \n",
    "    if 'media' in entities:\n",
    "        media = entities['media']\n",
    "        \n",
    "        if len(media) > 0:\n",
    "            _media = media[0]\n",
    "            \n",
    "            if 'media_url' in _media:\n",
    "                return _media['media_url']\n",
    "            \n",
    "    return None\n",
    "    \n",
    "\n",
    "def get_feed(tweet, bname, hashtags):\n",
    "    feed = {\n",
    "        'membership': bname, \n",
    "        'author': tweet['user']['screen_name'], \n",
    "        'created_at': tweet['created_at'], \n",
    "        'nlikes': tweet['favorite_count'], \n",
    "        'content': tweet['text'],\n",
    "        'hashtags': list(hashtags),\n",
    "    }\n",
    "    \n",
    "    feed_image = get_feed_image(tweet)\n",
    "    \n",
    "    if feed_image is not None:\n",
    "        feed['feed_image'] = feed_image\n",
    "        \n",
    "    return feed"
   ]
  },
  {
   "cell_type": "code",
   "execution_count": 16,
   "metadata": {
    "collapsed": true
   },
   "outputs": [
    {
     "data": {
      "application/vnd.jupyter.widget-view+json": {
       "model_id": "f1617a35bf6043cb879da4365496c40b",
       "version_major": 2,
       "version_minor": 0
      },
      "text/plain": [
       "HBox(children=(IntProgress(value=0, max=268), HTML(value='')))"
      ]
     },
     "metadata": {},
     "output_type": "display_data"
    },
    {
     "data": {
      "application/vnd.jupyter.widget-view+json": {
       "model_id": "",
       "version_major": 2,
       "version_minor": 0
      },
      "text/plain": [
       "HBox(children=(IntProgress(value=0, max=1), HTML(value='')))"
      ]
     },
     "metadata": {},
     "output_type": "display_data"
    },
    {
     "data": {
      "application/vnd.jupyter.widget-view+json": {
       "model_id": "",
       "version_major": 2,
       "version_minor": 0
      },
      "text/plain": [
       "HBox(children=(IntProgress(value=0, max=19), HTML(value='')))"
      ]
     },
     "metadata": {},
     "output_type": "display_data"
    },
    {
     "name": "stdout",
     "output_type": "stream",
     "text": [
      "8seconds 1138403305065893888 Twitter API returned a 404 (Not Found), Sorry, that page does not exist.\n"
     ]
    },
    {
     "data": {
      "application/vnd.jupyter.widget-view+json": {
       "model_id": "",
       "version_major": 2,
       "version_minor": 0
      },
      "text/plain": [
       "HBox(children=(IntProgress(value=0, max=4), HTML(value='')))"
      ]
     },
     "metadata": {},
     "output_type": "display_data"
    },
    {
     "data": {
      "application/vnd.jupyter.widget-view+json": {
       "model_id": "",
       "version_major": 2,
       "version_minor": 0
      },
      "text/plain": [
       "HBox(children=(IntProgress(value=0, max=2), HTML(value='')))"
      ]
     },
     "metadata": {},
     "output_type": "display_data"
    },
    {
     "data": {
      "application/vnd.jupyter.widget-view+json": {
       "model_id": "",
       "version_major": 2,
       "version_minor": 0
      },
      "text/plain": [
       "HBox(children=(IntProgress(value=0, max=19), HTML(value='')))"
      ]
     },
     "metadata": {},
     "output_type": "display_data"
    },
    {
     "data": {
      "application/vnd.jupyter.widget-view+json": {
       "model_id": "",
       "version_major": 2,
       "version_minor": 0
      },
      "text/plain": [
       "HBox(children=(IntProgress(value=0, max=8), HTML(value='')))"
      ]
     },
     "metadata": {},
     "output_type": "display_data"
    },
    {
     "data": {
      "application/vnd.jupyter.widget-view+json": {
       "model_id": "",
       "version_major": 2,
       "version_minor": 0
      },
      "text/plain": [
       "HBox(children=(IntProgress(value=0, max=4), HTML(value='')))"
      ]
     },
     "metadata": {},
     "output_type": "display_data"
    },
    {
     "data": {
      "application/vnd.jupyter.widget-view+json": {
       "model_id": "",
       "version_major": 2,
       "version_minor": 0
      },
      "text/plain": [
       "HBox(children=(IntProgress(value=0, max=8), HTML(value='')))"
      ]
     },
     "metadata": {},
     "output_type": "display_data"
    },
    {
     "data": {
      "application/vnd.jupyter.widget-view+json": {
       "model_id": "",
       "version_major": 2,
       "version_minor": 0
      },
      "text/plain": [
       "HBox(children=(IntProgress(value=0, max=1071), HTML(value='')))"
      ]
     },
     "metadata": {},
     "output_type": "display_data"
    },
    {
     "name": "stdout",
     "output_type": "stream",
     "text": [
      "adidas 1112177329516748800 Twitter API returned a 403 (Forbidden), Sorry, you are not authorized to see this status.\n",
      "adidas 1120901613751660544 Twitter API returned a 403 (Forbidden), User has been suspended.\n",
      "adidas 1132602291133882368 Twitter API returned a 404 (Not Found), No status found with that ID.\n",
      "adidas 1101442105350606848 Twitter API returned a 404 (Not Found), No status found with that ID.\n",
      "adidas 1129337167245824000 Twitter API returned a 403 (Forbidden), User has been suspended.\n",
      "adidas 1098856237049864192 Twitter API returned a 404 (Not Found), No status found with that ID.\n",
      "adidas 1109288860809416705 Twitter API returned a 403 (Forbidden), Sorry, you are not authorized to see this status.\n",
      "adidas 1097802347810443264 Twitter API returned a 404 (Not Found), No status found with that ID.\n",
      "adidas 1110026329968336896 Twitter API returned a 403 (Forbidden), Sorry, you are not authorized to see this status.\n",
      "adidas 1098854458262339585 Twitter API returned a 404 (Not Found), No status found with that ID.\n",
      "adidas 1108647200861519873 Twitter API returned a 404 (Not Found), No status found with that ID.\n",
      "adidas 1098727636702965760 Twitter API returned a 404 (Not Found), No status found with that ID.\n",
      "adidas 1109107487448412160 Twitter API returned a 403 (Forbidden), User has been suspended.\n",
      "adidas 1132560249456480257 Twitter API returned a 404 (Not Found), No status found with that ID.\n",
      "adidas 1108201695295746048 Twitter API returned a 403 (Forbidden), Sorry, you are not authorized to see this status.\n",
      "adidas 1117276183056355330 Twitter API returned a 404 (Not Found), Sorry, that page does not exist.\n",
      "adidas 1109294008784826368 Twitter API returned a 403 (Forbidden), Sorry, you are not authorized to see this status.\n",
      "adidas 1109294010529693696 Twitter API returned a 403 (Forbidden), Sorry, you are not authorized to see this status.\n",
      "adidas 1109452340359159809 Twitter API returned a 429 (Too Many Requests), Rate limit exceeded\n",
      "adidas 1109452340359159809 Twitter API returned a 429 (Too Many Requests), Rate limit exceeded\n",
      "adidas 1109452340359159809 Twitter API returned a 429 (Too Many Requests), Rate limit exceeded\n",
      "adidas 1109452340359159809 Twitter API returned a 429 (Too Many Requests), Rate limit exceeded\n",
      "adidas 1109237428626313216 Twitter API returned a 403 (Forbidden), Sorry, you are not authorized to see this status.\n",
      "adidas 1115630462423064576 Twitter API returned a 404 (Not Found), No status found with that ID.\n",
      "adidas 1109288858422788096 Twitter API returned a 403 (Forbidden), Sorry, you are not authorized to see this status.\n",
      "adidas 1098738605810315264 Twitter API returned a 404 (Not Found), No status found with that ID.\n",
      "adidas 1127166476413050881 Twitter API returned a 404 (Not Found), No status found with that ID.\n",
      "adidas 1129337153723330560 Twitter API returned a 403 (Forbidden), User has been suspended.\n"
     ]
    },
    {
     "data": {
      "application/vnd.jupyter.widget-view+json": {
       "model_id": "",
       "version_major": 2,
       "version_minor": 0
      },
      "text/plain": [
       "HBox(children=(IntProgress(value=0, max=200), HTML(value='')))"
      ]
     },
     "metadata": {},
     "output_type": "display_data"
    },
    {
     "name": "stdout",
     "output_type": "stream",
     "text": [
      "adidasoriginal 1084131496913453056 Twitter API returned a 403 (Forbidden), Sorry, you are not authorized to see this status.\n",
      "adidasoriginal 1083962574394347522 Twitter API returned a 403 (Forbidden), Sorry, you are not authorized to see this status.\n",
      "adidasoriginal 1105483424230445058 Twitter API returned a 403 (Forbidden), Sorry, you are not authorized to see this status.\n",
      "adidasoriginal 1084325238572236800 Twitter API returned a 403 (Forbidden), Sorry, you are not authorized to see this status.\n",
      "adidasoriginal 1084449014928625667 Twitter API returned a 403 (Forbidden), Sorry, you are not authorized to see this status.\n",
      "adidasoriginal 1084420689753501696 Twitter API returned a 403 (Forbidden), Sorry, you are not authorized to see this status.\n",
      "adidasoriginal 1084319999035092992 Twitter API returned a 403 (Forbidden), Sorry, you are not authorized to see this status.\n",
      "adidasoriginal 1083986050073223170 Twitter API returned a 403 (Forbidden), Sorry, you are not authorized to see this status.\n",
      "adidasoriginal 1083959832867155969 Twitter API returned a 403 (Forbidden), Sorry, you are not authorized to see this status.\n",
      "adidasoriginal 1084340810387259392 Twitter API returned a 403 (Forbidden), Sorry, you are not authorized to see this status.\n"
     ]
    },
    {
     "data": {
      "application/vnd.jupyter.widget-view+json": {
       "model_id": "",
       "version_major": 2,
       "version_minor": 0
      },
      "text/plain": [
       "HBox(children=(IntProgress(value=0, max=15), HTML(value='')))"
      ]
     },
     "metadata": {},
     "output_type": "display_data"
    },
    {
     "data": {
      "application/vnd.jupyter.widget-view+json": {
       "model_id": "",
       "version_major": 2,
       "version_minor": 0
      },
      "text/plain": [
       "HBox(children=(IntProgress(value=0, max=1), HTML(value='')))"
      ]
     },
     "metadata": {},
     "output_type": "display_data"
    },
    {
     "data": {
      "application/vnd.jupyter.widget-view+json": {
       "model_id": "",
       "version_major": 2,
       "version_minor": 0
      },
      "text/plain": [
       "HBox(children=(IntProgress(value=0, max=4), HTML(value='')))"
      ]
     },
     "metadata": {},
     "output_type": "display_data"
    },
    {
     "data": {
      "application/vnd.jupyter.widget-view+json": {
       "model_id": "",
       "version_major": 2,
       "version_minor": 0
      },
      "text/plain": [
       "HBox(children=(IntProgress(value=0, max=51), HTML(value='')))"
      ]
     },
     "metadata": {},
     "output_type": "display_data"
    },
    {
     "name": "stdout",
     "output_type": "stream",
     "text": [
      "alexandermcqueen 1137389845762805760 Twitter API returned a 403 (Forbidden), Sorry, you are not authorized to see this status.\n"
     ]
    },
    {
     "data": {
      "application/vnd.jupyter.widget-view+json": {
       "model_id": "",
       "version_major": 2,
       "version_minor": 0
      },
      "text/plain": [
       "HBox(children=(IntProgress(value=0, max=11), HTML(value='')))"
      ]
     },
     "metadata": {},
     "output_type": "display_data"
    },
    {
     "data": {
      "application/vnd.jupyter.widget-view+json": {
       "model_id": "",
       "version_major": 2,
       "version_minor": 0
      },
      "text/plain": [
       "HBox(children=(IntProgress(value=0, max=16), HTML(value='')))"
      ]
     },
     "metadata": {},
     "output_type": "display_data"
    },
    {
     "data": {
      "application/vnd.jupyter.widget-view+json": {
       "model_id": "",
       "version_major": 2,
       "version_minor": 0
      },
      "text/plain": [
       "HBox(children=(IntProgress(value=0, max=5), HTML(value='')))"
      ]
     },
     "metadata": {},
     "output_type": "display_data"
    },
    {
     "data": {
      "application/vnd.jupyter.widget-view+json": {
       "model_id": "",
       "version_major": 2,
       "version_minor": 0
      },
      "text/plain": [
       "HBox(children=(IntProgress(value=0, max=1), HTML(value='')))"
      ]
     },
     "metadata": {},
     "output_type": "display_data"
    },
    {
     "data": {
      "application/vnd.jupyter.widget-view+json": {
       "model_id": "",
       "version_major": 2,
       "version_minor": 0
      },
      "text/plain": [
       "HBox(children=(IntProgress(value=0, max=7730), HTML(value='')))"
      ]
     },
     "metadata": {},
     "output_type": "display_data"
    },
    {
     "name": "stdout",
     "output_type": "stream",
     "text": [
      "ami 1130714594924683265 Twitter API returned a 404 (Not Found), No status found with that ID.\n",
      "ami 1138333544596398081 Twitter API returned a 404 (Not Found), No status found with that ID.\n",
      "ami 1125398780004536325 Twitter API returned a 404 (Not Found), No status found with that ID.\n",
      "ami 1130504197739204608 Twitter API returned a 404 (Not Found), No status found with that ID.\n",
      "ami 1084025463490568193 Twitter API returned a 403 (Forbidden), Sorry, you are not authorized to see this status.\n",
      "ami 1102171799599513600 Twitter API returned a 404 (Not Found), No status found with that ID.\n",
      "ami 1132608977416495104 Twitter API returned a 404 (Not Found), Sorry, that page does not exist.\n",
      "ami 1131537900376547328 Twitter API returned a 404 (Not Found), Sorry, that page does not exist.\n",
      "ami 1141348174763663360 Twitter API returned a 404 (Not Found), Sorry, that page does not exist.\n",
      "ami 1141334290526945287 Twitter API returned a 404 (Not Found), No status found with that ID.\n",
      "ami 1139523505492414464 Twitter API returned a 404 (Not Found), No status found with that ID.\n",
      "ami 1081388307567669249 Twitter API returned a 429 (Too Many Requests), Rate limit exceeded\n",
      "ami 1081388307567669249 Twitter API returned a 429 (Too Many Requests), Rate limit exceeded\n",
      "ami 1081388307567669249 Twitter API returned a 429 (Too Many Requests), Rate limit exceeded\n",
      "ami 1081388307567669249 Twitter API returned a 429 (Too Many Requests), Rate limit exceeded\n",
      "ami 1100023762534027265 Twitter API returned a 404 (Not Found), Sorry, that page does not exist.\n",
      "ami 1092332804581380096 Twitter API returned a 403 (Forbidden), User has been suspended.\n",
      "ami 1137209058593726464 Twitter API returned a 404 (Not Found), Sorry, that page does not exist.\n",
      "ami 1113341478762188800 Twitter API returned a 403 (Forbidden), Sorry, you are not authorized to see this status.\n",
      "ami 1122037964219899904 Twitter API returned a 404 (Not Found), Sorry, that page does not exist.\n",
      "ami 1083561398016172034 Twitter API returned a 403 (Forbidden), Sorry, you are not authorized to see this status.\n",
      "ami 1140944065757736960 Twitter API returned a 404 (Not Found), Sorry, that page does not exist.\n",
      "ami 1134798987871973376 Twitter API returned a 404 (Not Found), Sorry, that page does not exist.\n",
      "ami 1118937553917362176 Twitter API returned a 403 (Forbidden), Sorry, you are not authorized to see this status.\n",
      "ami 1084443370720612354 Twitter API returned a 403 (Forbidden), Sorry, you are not authorized to see this status.\n",
      "ami 1136037894647402497 Twitter API returned a 404 (Not Found), No status found with that ID.\n",
      "ami 1140252726074286080 Twitter API returned a 404 (Not Found), No status found with that ID.\n",
      "ami 1096461578193362944 Twitter API returned a 404 (Not Found), Sorry, that page does not exist.\n",
      "ami 1134215206291161089 Twitter API returned a 404 (Not Found), No status found with that ID.\n",
      "ami 1121608996232712192 Twitter API returned a 404 (Not Found), No status found with that ID.\n",
      "ami 1097511780698357760 Twitter API returned a 403 (Forbidden), Sorry, you are not authorized to see this status.\n",
      "ami 1136202241709301760 Twitter API returned a 404 (Not Found), No status found with that ID.\n",
      "ami 1134793951162949637 Twitter API returned a 404 (Not Found), No status found with that ID.\n",
      "ami 1138807760760348673 Twitter API returned a 404 (Not Found), No status found with that ID.\n",
      "ami 1136566549903433728 Twitter API returned a 404 (Not Found), No status found with that ID.\n",
      "ami 1136175166868692992 Twitter API returned a 404 (Not Found), No status found with that ID.\n",
      "ami 1134060030439743490 Twitter API returned a 404 (Not Found), No status found with that ID.\n",
      "ami 1141120740961296384 Twitter API returned a 404 (Not Found), No status found with that ID.\n",
      "ami 1139346685820317696 Twitter API returned a 429 (Too Many Requests), Rate limit exceeded\n",
      "ami 1139346685820317696 Twitter API returned a 429 (Too Many Requests), Rate limit exceeded\n",
      "ami 1139346685820317696 Twitter API returned a 429 (Too Many Requests), Rate limit exceeded\n",
      "ami 1139346685820317696 Twitter API returned a 429 (Too Many Requests), Rate limit exceeded\n",
      "ami 1139846836825382913 Twitter API returned a 404 (Not Found), Sorry, that page does not exist.\n",
      "ami 1127919144299450369 Twitter API returned a 404 (Not Found), No status found with that ID.\n",
      "ami 1140668325099266057 Twitter API returned a 404 (Not Found), No status found with that ID.\n",
      "ami 1107290500988440577 Twitter API returned a 404 (Not Found), No status found with that ID.\n",
      "ami 1137013711305039874 Twitter API returned a 404 (Not Found), No status found with that ID.\n",
      "ami 1135093399625691136 Twitter API returned a 404 (Not Found), No status found with that ID.\n",
      "ami 1140599778184589312 Twitter API returned a 404 (Not Found), Sorry, that page does not exist.\n",
      "ami 1131537095334408192 Twitter API returned a 404 (Not Found), Sorry, that page does not exist.\n",
      "ami 1081962089424379904 Twitter API returned a 403 (Forbidden), Sorry, you are not authorized to see this status.\n",
      "ami 1131548365290762240 Twitter API returned a 403 (Forbidden), Sorry, you are not authorized to see this status.\n",
      "ami 1109273577428344832 Twitter API returned a 403 (Forbidden), Sorry, you are not authorized to see this status.\n",
      "ami 1096459858193203200 Twitter API returned a 404 (Not Found), Sorry, that page does not exist.\n",
      "ami 1140944022355099648 Twitter API returned a 404 (Not Found), Sorry, that page does not exist.\n",
      "ami 1131990376384847872 Twitter API returned a 429 (Too Many Requests), Rate limit exceeded\n",
      "ami 1131990376384847872 Twitter API returned a 429 (Too Many Requests), Rate limit exceeded\n",
      "ami 1131990376384847872 Twitter API returned a 429 (Too Many Requests), Rate limit exceeded\n",
      "ami 1131990376384847872 Twitter API returned a 429 (Too Many Requests), Rate limit exceeded\n",
      "ami 1112383587502833664 Twitter API returned a 404 (Not Found), Sorry, that page does not exist.\n",
      "ami 1134105436641042434 Twitter API returned a 404 (Not Found), No status found with that ID.\n",
      "ami 1088081971882876931 Twitter API returned a 404 (Not Found), Sorry, that page does not exist.\n",
      "ami 1134015295515795456 Twitter API returned a 404 (Not Found), No status found with that ID.\n",
      "ami 1112889736354385920 Twitter API returned a 404 (Not Found), No status found with that ID.\n",
      "ami 1134033540771790848 Twitter API returned a 404 (Not Found), No status found with that ID.\n",
      "ami 1134748474056925184 Twitter API returned a 404 (Not Found), No status found with that ID.\n",
      "ami 1092710539707314177 Twitter API returned a 404 (Not Found), No status found with that ID.\n",
      "ami 1131460691506786304 Twitter API returned a 403 (Forbidden), Sorry, you are not authorized to see this status.\n",
      "ami 1118740950321438721 Twitter API returned a 403 (Forbidden), Sorry, you are not authorized to see this status.\n",
      "ami 1117801621923098624 Twitter API returned a 403 (Forbidden), Sorry, you are not authorized to see this status.\n",
      "ami 1101044299519557632 Twitter API returned a 404 (Not Found), No status found with that ID.\n",
      "ami 1099057653177708545 Twitter API returned a 404 (Not Found), Sorry, that page does not exist.\n",
      "ami 1080586238015373312 Twitter API returned a 429 (Too Many Requests), Rate limit exceeded\n",
      "ami 1080586238015373312 Twitter API returned a 429 (Too Many Requests), Rate limit exceeded\n",
      "ami 1080586238015373312 Twitter API returned a 429 (Too Many Requests), Rate limit exceeded\n",
      "ami 1080586238015373312 Twitter API returned a 429 (Too Many Requests), Rate limit exceeded\n",
      "ami 1080586238015373312 Twitter API returned a 429 (Too Many Requests), Rate limit exceeded\n",
      "ami 1138092314155339776 Twitter API returned a 404 (Not Found), No status found with that ID.\n",
      "ami 1141484591980535808 Twitter API returned a 404 (Not Found), No status found with that ID.\n",
      "ami 1082618596356808706 Twitter API returned a 404 (Not Found), No status found with that ID.\n",
      "ami 1094671125156483072 Twitter API returned a 404 (Not Found), No status found with that ID.\n",
      "ami 1134095087313477632 Twitter API returned a 404 (Not Found), No status found with that ID.\n",
      "ami 1126475335581650946 Twitter API returned a 403 (Forbidden), Sorry, you are not authorized to see this status.\n",
      "ami 1138401790066475008 Twitter API returned a 404 (Not Found), Sorry, that page does not exist.\n",
      "ami 1134014447398187009 Twitter API returned a 404 (Not Found), No status found with that ID.\n",
      "ami 1128082731148013579 Twitter API returned a 404 (Not Found), No status found with that ID.\n",
      "ami 1134016568612933633 Twitter API returned a 404 (Not Found), No status found with that ID.\n",
      "ami 1082963033767309312 Twitter API returned a 403 (Forbidden), Sorry, you are not authorized to see this status.\n",
      "ami 1109482015022153728 Twitter API returned a 404 (Not Found), No status found with that ID.\n",
      "ami 1140563447911813121 Twitter API returned a 404 (Not Found), Sorry, that page does not exist.\n",
      "ami 1124986909187461120 Twitter API returned a 403 (Forbidden), Sorry, you are not authorized to see this status.\n",
      "ami 1135306118769418240 Twitter API returned a 404 (Not Found), No status found with that ID.\n",
      "ami 1140973735203098626 Twitter API returned a 404 (Not Found), No status found with that ID.\n",
      "ami 1098379286505902080 Twitter API returned a 404 (Not Found), Sorry, that page does not exist.\n",
      "ami 1140998199840104448 Twitter API returned a 404 (Not Found), Sorry, that page does not exist.\n",
      "ami 1102034870149120000 Twitter API returned a 429 (Too Many Requests), Rate limit exceeded\n",
      "ami 1102034870149120000 Twitter API returned a 429 (Too Many Requests), Rate limit exceeded\n",
      "ami 1102034870149120000 Twitter API returned a 429 (Too Many Requests), Rate limit exceeded\n",
      "ami 1102034870149120000 Twitter API returned a 429 (Too Many Requests), Rate limit exceeded\n",
      "ami 1118816297964441600 Twitter API returned a 403 (Forbidden), Sorry, you are not authorized to see this status.\n",
      "ami 1098211104327557120 Twitter API returned a 404 (Not Found), Sorry, that page does not exist.\n",
      "ami 1091532612223430658 Twitter API returned a 403 (Forbidden), Sorry, you are not authorized to see this status.\n",
      "ami 1127550960283185152 Twitter API returned a 404 (Not Found), No status found with that ID.\n",
      "ami 1140286296067198976 Twitter API returned a 404 (Not Found), No status found with that ID.\n",
      "ami 1079946858309406720 Twitter API returned a 403 (Forbidden), User has been suspended.\n",
      "ami 1118027172533288960 Twitter API returned a 404 (Not Found), No status found with that ID.\n",
      "ami 1132902371426627584 Twitter API returned a 404 (Not Found), No status found with that ID.\n",
      "ami 1080011394936958976 Twitter API returned a 403 (Forbidden), Sorry, you are not authorized to see this status.\n",
      "ami 1082167362005000192 Twitter API returned a 404 (Not Found), No status found with that ID.\n",
      "ami 1126734853179764736 Twitter API returned a 404 (Not Found), No status found with that ID.\n",
      "ami 1104426627105120258 Twitter API returned a 404 (Not Found), No status found with that ID.\n",
      "ami 1131319697608101888 Twitter API returned a 404 (Not Found), No status found with that ID.\n",
      "ami 1136056081451372544 Twitter API returned a 404 (Not Found), No status found with that ID.\n",
      "ami 1138070534451630080 Twitter API returned a 404 (Not Found), Sorry, that page does not exist.\n",
      "ami 1086798544634171392 Twitter API returned a 429 (Too Many Requests), Rate limit exceeded\n",
      "ami 1086798544634171392 Twitter API returned a 429 (Too Many Requests), Rate limit exceeded\n",
      "ami 1086798544634171392 Twitter API returned a 429 (Too Many Requests), Rate limit exceeded\n",
      "ami 1086798544634171392 Twitter API returned a 429 (Too Many Requests), Rate limit exceeded\n",
      "ami 1086798544634171392 Twitter API returned a 429 (Too Many Requests), Rate limit exceeded\n",
      "ami 1118016210216660993 Twitter API returned a 403 (Forbidden), Sorry, you are not authorized to see this status.\n",
      "ami 1095577039212400641 Twitter API returned a 404 (Not Found), Sorry, that page does not exist.\n",
      "ami 1108035454568402945 Twitter API returned a 403 (Forbidden), Sorry, you are not authorized to see this status.\n",
      "ami 1138376034250706944 Twitter API returned a 404 (Not Found), Sorry, that page does not exist.\n",
      "ami 1134015865949528064 Twitter API returned a 404 (Not Found), No status found with that ID.\n",
      "ami 1141152975890440192 Twitter API returned a 404 (Not Found), No status found with that ID.\n",
      "ami 1134854084043821056 Twitter API returned a 404 (Not Found), No status found with that ID.\n",
      "ami 1121347989216403457 Twitter API returned a 404 (Not Found), No status found with that ID.\n",
      "ami 1132282911762206720 Twitter API returned a 404 (Not Found), No status found with that ID.\n",
      "ami 1119254429541310465 Twitter API returned a 403 (Forbidden), User has been suspended.\n",
      "ami 1118756176919842816 Twitter API returned a 403 (Forbidden), Sorry, you are not authorized to see this status.\n",
      "ami 1141420395255386112 Twitter API returned a 403 (Forbidden), Sorry, you are not authorized to see this status.\n",
      "ami 1104348396167475202 Twitter API returned a 404 (Not Found), Sorry, that page does not exist.\n",
      "ami 1107594089770311693 Twitter API returned a 404 (Not Found), No status found with that ID.\n",
      "ami 1126139743828189184 Twitter API returned a 404 (Not Found), No status found with that ID.\n",
      "ami 1109046175452127232 Twitter API returned a 404 (Not Found), Sorry, that page does not exist.\n",
      "ami 1136312953995636736 Twitter API returned a 404 (Not Found), No status found with that ID.\n",
      "ami 1099652610808631296 Twitter API returned a 404 (Not Found), No status found with that ID.\n",
      "ami 1136288509906436096 Twitter API returned a 403 (Forbidden), Sorry, you are not authorized to see this status.\n",
      "ami 1121347906534019075 Twitter API returned a 403 (Forbidden), Sorry, you are not authorized to see this status.\n",
      "ami 1109454844149067776 Twitter API returned a 403 (Forbidden), Sorry, you are not authorized to see this status.\n",
      "ami 1096461122591281152 Twitter API returned a 404 (Not Found), Sorry, that page does not exist.\n",
      "ami 1125651649324666880 Twitter API returned a 429 (Too Many Requests), Rate limit exceeded\n",
      "ami 1125651649324666880 Twitter API returned a 429 (Too Many Requests), Rate limit exceeded\n",
      "ami 1125651649324666880 Twitter API returned a 429 (Too Many Requests), Rate limit exceeded\n",
      "ami 1125651649324666880 Twitter API returned a 429 (Too Many Requests), Rate limit exceeded\n",
      "ami 1125651649324666880 Twitter API returned a 429 (Too Many Requests), Rate limit exceeded\n",
      "ami 1128936865908662272 Twitter API returned a 404 (Not Found), Sorry, that page does not exist.\n",
      "ami 1140260188265435137 Twitter API returned a 404 (Not Found), Sorry, that page does not exist.\n",
      "ami 1141211536700002306 Twitter API returned a 404 (Not Found), Sorry, that page does not exist.\n",
      "ami 1135836837824491520 Twitter API returned a 404 (Not Found), No status found with that ID.\n",
      "ami 1140093102482284544 Twitter API returned a 404 (Not Found), Sorry, that page does not exist.\n",
      "ami 1139944224219000834 Twitter API returned a 404 (Not Found), No status found with that ID.\n",
      "ami 1139507443191259136 Twitter API returned a 404 (Not Found), No status found with that ID.\n",
      "ami 1088100317986603008 Twitter API returned a 404 (Not Found), No status found with that ID.\n",
      "ami 1119201985243127808 Twitter API returned a 403 (Forbidden), Sorry, you are not authorized to see this status.\n",
      "ami 1104723002866905094 Twitter API returned a 429 (Too Many Requests), Rate limit exceeded\n",
      "ami 1104723002866905094 Twitter API returned a 429 (Too Many Requests), Rate limit exceeded\n",
      "ami 1134500633170534400 Twitter API returned a 404 (Not Found), No status found with that ID.\n",
      "ami 1135175155934588928 Twitter API returned a 404 (Not Found), No status found with that ID.\n",
      "ami 1140974485694107648 Twitter API returned a 404 (Not Found), No status found with that ID.\n",
      "ami 1119533577522147328 Twitter API returned a 403 (Forbidden), Sorry, you are not authorized to see this status.\n",
      "ami 1112282411176353792 Twitter API returned a 404 (Not Found), No status found with that ID.\n",
      "ami 1110131769859170304 Twitter API returned a 404 (Not Found), Sorry, that page does not exist.\n",
      "ami 1085190937804853251 Twitter API returned a 404 (Not Found), No status found with that ID.\n",
      "ami 1141343132837003264 Twitter API returned a 404 (Not Found), No status found with that ID.\n",
      "ami 1119254566141296647 Twitter API returned a 403 (Forbidden), Sorry, you are not authorized to see this status.\n",
      "ami 1139780172154953728 Twitter API returned a 404 (Not Found), No status found with that ID.\n"
     ]
    },
    {
     "name": "stdout",
     "output_type": "stream",
     "text": [
      "ami 1137018788098916352 Twitter API returned a 404 (Not Found), No status found with that ID.\n",
      "ami 1112614187677577217 Twitter API returned a 403 (Forbidden), Sorry, you are not authorized to see this status.\n",
      "ami 1108639415537188864 Twitter API returned a 403 (Forbidden), Sorry, you are not authorized to see this status.\n",
      "ami 1118756278317219840 Twitter API returned a 403 (Forbidden), Sorry, you are not authorized to see this status.\n",
      "ami 1132646386149646336 Twitter API returned a 404 (Not Found), Sorry, that page does not exist.\n",
      "ami 1098832082485137408 Twitter API returned a 404 (Not Found), No status found with that ID.\n",
      "ami 1131898779525758976 Twitter API returned a 403 (Forbidden), Sorry, you are not authorized to see this status.\n",
      "ami 1080133405637898241 Twitter API returned a 429 (Too Many Requests), Rate limit exceeded\n",
      "ami 1080133405637898241 Twitter API returned a 429 (Too Many Requests), Rate limit exceeded\n",
      "ami 1080133405637898241 Twitter API returned a 429 (Too Many Requests), Rate limit exceeded\n",
      "ami 1080133405637898241 Twitter API returned a 429 (Too Many Requests), Rate limit exceeded\n",
      "ami 1133310431227891712 Twitter API returned a 403 (Forbidden), Sorry, you are not authorized to see this status.\n"
     ]
    },
    {
     "data": {
      "application/vnd.jupyter.widget-view+json": {
       "model_id": "",
       "version_major": 2,
       "version_minor": 0
      },
      "text/plain": [
       "HBox(children=(IntProgress(value=0, max=4), HTML(value='')))"
      ]
     },
     "metadata": {},
     "output_type": "display_data"
    },
    {
     "data": {
      "application/vnd.jupyter.widget-view+json": {
       "model_id": "",
       "version_major": 2,
       "version_minor": 0
      },
      "text/plain": [
       "HBox(children=(IntProgress(value=0, max=3), HTML(value='')))"
      ]
     },
     "metadata": {},
     "output_type": "display_data"
    },
    {
     "name": "stdout",
     "output_type": "stream",
     "text": [
      "antisocialsocialclub 1098224772515655680 Twitter API returned a 404 (Not Found), No status found with that ID.\n"
     ]
    },
    {
     "data": {
      "application/vnd.jupyter.widget-view+json": {
       "model_id": "",
       "version_major": 2,
       "version_minor": 0
      },
      "text/plain": [
       "HBox(children=(IntProgress(value=0, max=1), HTML(value='')))"
      ]
     },
     "metadata": {},
     "output_type": "display_data"
    },
    {
     "data": {
      "application/vnd.jupyter.widget-view+json": {
       "model_id": "",
       "version_major": 2,
       "version_minor": 0
      },
      "text/plain": [
       "HBox(children=(IntProgress(value=0, max=22), HTML(value='')))"
      ]
     },
     "metadata": {},
     "output_type": "display_data"
    },
    {
     "data": {
      "application/vnd.jupyter.widget-view+json": {
       "model_id": "",
       "version_major": 2,
       "version_minor": 0
      },
      "text/plain": [
       "HBox(children=(IntProgress(value=0, max=95), HTML(value='')))"
      ]
     },
     "metadata": {},
     "output_type": "display_data"
    },
    {
     "name": "stdout",
     "output_type": "stream",
     "text": [
      "asics 1139785331832528896 Twitter API returned a 404 (Not Found), No status found with that ID.\n",
      "asics 1106401535641030656 Twitter API returned a 403 (Forbidden), User has been suspended.\n"
     ]
    },
    {
     "data": {
      "application/vnd.jupyter.widget-view+json": {
       "model_id": "",
       "version_major": 2,
       "version_minor": 0
      },
      "text/plain": [
       "HBox(children=(IntProgress(value=0, max=1036), HTML(value='')))"
      ]
     },
     "metadata": {},
     "output_type": "display_data"
    },
    {
     "name": "stdout",
     "output_type": "stream",
     "text": [
      "balenciaga 1130457702583287808 Twitter API returned a 429 (Too Many Requests), Rate limit exceeded\n",
      "balenciaga 1130457702583287808 Twitter API returned a 429 (Too Many Requests), Rate limit exceeded\n",
      "balenciaga 1130457702583287808 Twitter API returned a 429 (Too Many Requests), Rate limit exceeded\n",
      "balenciaga 1130457702583287808 Twitter API returned a 429 (Too Many Requests), Rate limit exceeded\n"
     ]
    },
    {
     "data": {
      "application/vnd.jupyter.widget-view+json": {
       "model_id": "",
       "version_major": 2,
       "version_minor": 0
      },
      "text/plain": [
       "HBox(children=(IntProgress(value=0, max=192), HTML(value='')))"
      ]
     },
     "metadata": {},
     "output_type": "display_data"
    },
    {
     "data": {
      "application/vnd.jupyter.widget-view+json": {
       "model_id": "",
       "version_major": 2,
       "version_minor": 0
      },
      "text/plain": [
       "HBox(children=(IntProgress(value=0, max=41), HTML(value='')))"
      ]
     },
     "metadata": {},
     "output_type": "display_data"
    },
    {
     "data": {
      "application/vnd.jupyter.widget-view+json": {
       "model_id": "",
       "version_major": 2,
       "version_minor": 0
      },
      "text/plain": [
       "HBox(children=(IntProgress(value=0, max=29), HTML(value='')))"
      ]
     },
     "metadata": {},
     "output_type": "display_data"
    },
    {
     "name": "stdout",
     "output_type": "stream",
     "text": [
      "bape 1094105332354183168 Twitter API returned a 403 (Forbidden), Sorry, you are not authorized to see this status.\n"
     ]
    },
    {
     "data": {
      "application/vnd.jupyter.widget-view+json": {
       "model_id": "",
       "version_major": 2,
       "version_minor": 0
      },
      "text/plain": [
       "HBox(children=(IntProgress(value=0, max=15), HTML(value='')))"
      ]
     },
     "metadata": {},
     "output_type": "display_data"
    },
    {
     "data": {
      "application/vnd.jupyter.widget-view+json": {
       "model_id": "",
       "version_major": 2,
       "version_minor": 0
      },
      "text/plain": [
       "HBox(children=(IntProgress(value=0, max=66), HTML(value='')))"
      ]
     },
     "metadata": {},
     "output_type": "display_data"
    },
    {
     "name": "stdout",
     "output_type": "stream",
     "text": [
      "barrel 1136600073935003648 Twitter API returned a 403 (Forbidden), Sorry, you are not authorized to see this status.\n"
     ]
    },
    {
     "data": {
      "application/vnd.jupyter.widget-view+json": {
       "model_id": "",
       "version_major": 2,
       "version_minor": 0
      },
      "text/plain": [
       "HBox(children=(IntProgress(value=0, max=203), HTML(value='')))"
      ]
     },
     "metadata": {},
     "output_type": "display_data"
    },
    {
     "name": "stdout",
     "output_type": "stream",
     "text": [
      "bbc 1097745277505613825 Twitter API returned a 403 (Forbidden), User has been suspended.\n",
      "bbc 1131506682444435456 Twitter API returned a 429 (Too Many Requests), Rate limit exceeded\n",
      "bbc 1131506682444435456 Twitter API returned a 429 (Too Many Requests), Rate limit exceeded\n",
      "bbc 1131506682444435456 Twitter API returned a 429 (Too Many Requests), Rate limit exceeded\n",
      "bbc 1131506682444435456 Twitter API returned a 429 (Too Many Requests), Rate limit exceeded\n"
     ]
    },
    {
     "data": {
      "application/vnd.jupyter.widget-view+json": {
       "model_id": "",
       "version_major": 2,
       "version_minor": 0
      },
      "text/plain": [
       "HBox(children=(IntProgress(value=0, max=158), HTML(value='')))"
      ]
     },
     "metadata": {},
     "output_type": "display_data"
    },
    {
     "name": "stdout",
     "output_type": "stream",
     "text": [
      "beanpole 1127117630068813825 Twitter API returned a 403 (Forbidden), User has been suspended.\n"
     ]
    },
    {
     "data": {
      "application/vnd.jupyter.widget-view+json": {
       "model_id": "",
       "version_major": 2,
       "version_minor": 0
      },
      "text/plain": [
       "HBox(children=(IntProgress(value=0, max=1), HTML(value='')))"
      ]
     },
     "metadata": {},
     "output_type": "display_data"
    },
    {
     "data": {
      "application/vnd.jupyter.widget-view+json": {
       "model_id": "",
       "version_major": 2,
       "version_minor": 0
      },
      "text/plain": [
       "HBox(children=(IntProgress(value=0, max=1), HTML(value='')))"
      ]
     },
     "metadata": {},
     "output_type": "display_data"
    },
    {
     "data": {
      "application/vnd.jupyter.widget-view+json": {
       "model_id": "",
       "version_major": 2,
       "version_minor": 0
      },
      "text/plain": [
       "HBox(children=(IntProgress(value=0, max=11), HTML(value='')))"
      ]
     },
     "metadata": {},
     "output_type": "display_data"
    },
    {
     "data": {
      "application/vnd.jupyter.widget-view+json": {
       "model_id": "",
       "version_major": 2,
       "version_minor": 0
      },
      "text/plain": [
       "HBox(children=(IntProgress(value=0, max=142), HTML(value='')))"
      ]
     },
     "metadata": {},
     "output_type": "display_data"
    },
    {
     "name": "stdout",
     "output_type": "stream",
     "text": [
      "beyondcloset 1109382848694218754 Twitter API returned a 403 (Forbidden), Sorry, you are not authorized to see this status.\n"
     ]
    },
    {
     "data": {
      "application/vnd.jupyter.widget-view+json": {
       "model_id": "",
       "version_major": 2,
       "version_minor": 0
      },
      "text/plain": [
       "HBox(children=(IntProgress(value=0, max=22), HTML(value='')))"
      ]
     },
     "metadata": {},
     "output_type": "display_data"
    },
    {
     "name": "stdout",
     "output_type": "stream",
     "text": [
      "billylosangeles 1117678987277242369 Twitter API returned a 404 (Not Found), Sorry, that page does not exist.\n"
     ]
    },
    {
     "data": {
      "application/vnd.jupyter.widget-view+json": {
       "model_id": "",
       "version_major": 2,
       "version_minor": 0
      },
      "text/plain": [
       "HBox(children=(IntProgress(value=0, max=18), HTML(value='')))"
      ]
     },
     "metadata": {},
     "output_type": "display_data"
    },
    {
     "data": {
      "application/vnd.jupyter.widget-view+json": {
       "model_id": "",
       "version_major": 2,
       "version_minor": 0
      },
      "text/plain": [
       "HBox(children=(IntProgress(value=0, max=89), HTML(value='')))"
      ]
     },
     "metadata": {},
     "output_type": "display_data"
    },
    {
     "data": {
      "application/vnd.jupyter.widget-view+json": {
       "model_id": "",
       "version_major": 2,
       "version_minor": 0
      },
      "text/plain": [
       "HBox(children=(IntProgress(value=0, max=84), HTML(value='')))"
      ]
     },
     "metadata": {},
     "output_type": "display_data"
    },
    {
     "data": {
      "application/vnd.jupyter.widget-view+json": {
       "model_id": "",
       "version_major": 2,
       "version_minor": 0
      },
      "text/plain": [
       "HBox(children=(IntProgress(value=0, max=18), HTML(value='')))"
      ]
     },
     "metadata": {},
     "output_type": "display_data"
    },
    {
     "data": {
      "application/vnd.jupyter.widget-view+json": {
       "model_id": "",
       "version_major": 2,
       "version_minor": 0
      },
      "text/plain": [
       "HBox(children=(IntProgress(value=0, max=32), HTML(value='')))"
      ]
     },
     "metadata": {},
     "output_type": "display_data"
    },
    {
     "data": {
      "application/vnd.jupyter.widget-view+json": {
       "model_id": "",
       "version_major": 2,
       "version_minor": 0
      },
      "text/plain": [
       "HBox(children=(IntProgress(value=0, max=258), HTML(value='')))"
      ]
     },
     "metadata": {},
     "output_type": "display_data"
    },
    {
     "name": "stdout",
     "output_type": "stream",
     "text": [
      "burberry 1136300601128566784 Twitter API returned a 403 (Forbidden), Sorry, you are not authorized to see this status.\n"
     ]
    },
    {
     "data": {
      "application/vnd.jupyter.widget-view+json": {
       "model_id": "",
       "version_major": 2,
       "version_minor": 0
      },
      "text/plain": [
       "HBox(children=(IntProgress(value=0, max=69), HTML(value='')))"
      ]
     },
     "metadata": {},
     "output_type": "display_data"
    },
    {
     "name": "stdout",
     "output_type": "stream",
     "text": [
      "calvinklein 1117826942416359424 Twitter API returned a 429 (Too Many Requests), Rate limit exceeded\n",
      "calvinklein 1117826942416359424 Twitter API returned a 429 (Too Many Requests), Rate limit exceeded\n",
      "calvinklein 1117826942416359424 Twitter API returned a 429 (Too Many Requests), Rate limit exceeded\n",
      "calvinklein 1117826942416359424 Twitter API returned a 429 (Too Many Requests), Rate limit exceeded\n"
     ]
    },
    {
     "data": {
      "application/vnd.jupyter.widget-view+json": {
       "model_id": "",
       "version_major": 2,
       "version_minor": 0
      },
      "text/plain": [
       "HBox(children=(IntProgress(value=0, max=11), HTML(value='')))"
      ]
     },
     "metadata": {},
     "output_type": "display_data"
    },
    {
     "data": {
      "application/vnd.jupyter.widget-view+json": {
       "model_id": "",
       "version_major": 2,
       "version_minor": 0
      },
      "text/plain": [
       "HBox(children=(IntProgress(value=0, max=23), HTML(value='')))"
      ]
     },
     "metadata": {},
     "output_type": "display_data"
    },
    {
     "name": "stdout",
     "output_type": "stream",
     "text": [
      "carhartt 1122403884729638912 Twitter API returned a 403 (Forbidden), User has been suspended.\n"
     ]
    },
    {
     "data": {
      "application/vnd.jupyter.widget-view+json": {
       "model_id": "",
       "version_major": 2,
       "version_minor": 0
      },
      "text/plain": [
       "HBox(children=(IntProgress(value=0, max=1), HTML(value='')))"
      ]
     },
     "metadata": {},
     "output_type": "display_data"
    },
    {
     "data": {
      "application/vnd.jupyter.widget-view+json": {
       "model_id": "",
       "version_major": 2,
       "version_minor": 0
      },
      "text/plain": [
       "HBox(children=(IntProgress(value=0, max=36), HTML(value='')))"
      ]
     },
     "metadata": {},
     "output_type": "display_data"
    },
    {
     "data": {
      "application/vnd.jupyter.widget-view+json": {
       "model_id": "",
       "version_major": 2,
       "version_minor": 0
      },
      "text/plain": [
       "HBox(children=(IntProgress(value=0, max=128), HTML(value='')))"
      ]
     },
     "metadata": {},
     "output_type": "display_data"
    },
    {
     "data": {
      "application/vnd.jupyter.widget-view+json": {
       "model_id": "",
       "version_major": 2,
       "version_minor": 0
      },
      "text/plain": [
       "HBox(children=(IntProgress(value=0, max=697), HTML(value='')))"
      ]
     },
     "metadata": {},
     "output_type": "display_data"
    },
    {
     "name": "stdout",
     "output_type": "stream",
     "text": [
      "chanel 1136573986500939777 Twitter API returned a 403 (Forbidden), Sorry, you are not authorized to see this status.\n",
      "chanel 1107477099420549122 Twitter API returned a 403 (Forbidden), Sorry, you are not authorized to see this status.\n",
      "chanel 1133300513108217857 Twitter API returned a 404 (Not Found), No status found with that ID.\n",
      "chanel 1082558843664486401 Twitter API returned a 429 (Too Many Requests), Rate limit exceeded\n",
      "chanel 1082558843664486401 Twitter API returned a 429 (Too Many Requests), Rate limit exceeded\n",
      "chanel 1082558843664486401 Twitter API returned a 429 (Too Many Requests), Rate limit exceeded\n",
      "chanel 1124637250577285120 Twitter API returned a 404 (Not Found), No status found with that ID.\n",
      "chanel 1116235200365760513 Twitter API returned a 403 (Forbidden), Sorry, you are not authorized to see this status.\n"
     ]
    },
    {
     "data": {
      "application/vnd.jupyter.widget-view+json": {
       "model_id": "",
       "version_major": 2,
       "version_minor": 0
      },
      "text/plain": [
       "HBox(children=(IntProgress(value=0, max=2), HTML(value='')))"
      ]
     },
     "metadata": {},
     "output_type": "display_data"
    },
    {
     "data": {
      "application/vnd.jupyter.widget-view+json": {
       "model_id": "",
       "version_major": 2,
       "version_minor": 0
      },
      "text/plain": [
       "HBox(children=(IntProgress(value=0, max=200), HTML(value='')))"
      ]
     },
     "metadata": {},
     "output_type": "display_data"
    },
    {
     "name": "stdout",
     "output_type": "stream",
     "text": [
      "charms 1115455224351563776 Twitter API returned a 403 (Forbidden), User has been suspended.\n"
     ]
    },
    {
     "data": {
      "application/vnd.jupyter.widget-view+json": {
       "model_id": "",
       "version_major": 2,
       "version_minor": 0
      },
      "text/plain": [
       "HBox(children=(IntProgress(value=0, max=1768), HTML(value='')))"
      ]
     },
     "metadata": {},
     "output_type": "display_data"
    },
    {
     "name": "stdout",
     "output_type": "stream",
     "text": [
      "cherryla 1139986332489592833 Twitter API returned a 429 (Too Many Requests), Rate limit exceeded\n",
      "cherryla 1139986332489592833 Twitter API returned a 429 (Too Many Requests), Rate limit exceeded\n",
      "cherryla 1139986332489592833 Twitter API returned a 429 (Too Many Requests), Rate limit exceeded\n",
      "cherryla 1139986332489592833 Twitter API returned a 429 (Too Many Requests), Rate limit exceeded\n",
      "cherryla 1139193293323980800 Twitter API returned a 404 (Not Found), Sorry, that page does not exist.\n",
      "cherryla 1135890646621757441 Twitter API returned a 404 (Not Found), No status found with that ID.\n",
      "cherryla 1112852468562448384 Twitter API returned a 429 (Too Many Requests), Rate limit exceeded\n",
      "cherryla 1112852468562448384 Twitter API returned a 429 (Too Many Requests), Rate limit exceeded\n",
      "cherryla 1112852468562448384 Twitter API returned a 429 (Too Many Requests), Rate limit exceeded\n",
      "cherryla 1112852468562448384 Twitter API returned a 429 (Too Many Requests), Rate limit exceeded\n"
     ]
    },
    {
     "data": {
      "application/vnd.jupyter.widget-view+json": {
       "model_id": "",
       "version_major": 2,
       "version_minor": 0
      },
      "text/plain": [
       "HBox(children=(IntProgress(value=0, max=2), HTML(value='')))"
      ]
     },
     "metadata": {},
     "output_type": "display_data"
    },
    {
     "data": {
      "application/vnd.jupyter.widget-view+json": {
       "model_id": "",
       "version_major": 2,
       "version_minor": 0
      },
      "text/plain": [
       "HBox(children=(IntProgress(value=0, max=4), HTML(value='')))"
      ]
     },
     "metadata": {},
     "output_type": "display_data"
    },
    {
     "data": {
      "application/vnd.jupyter.widget-view+json": {
       "model_id": "",
       "version_major": 2,
       "version_minor": 0
      },
      "text/plain": [
       "HBox(children=(IntProgress(value=0, max=1), HTML(value='')))"
      ]
     },
     "metadata": {},
     "output_type": "display_data"
    },
    {
     "data": {
      "application/vnd.jupyter.widget-view+json": {
       "model_id": "",
       "version_major": 2,
       "version_minor": 0
      },
      "text/plain": [
       "HBox(children=(IntProgress(value=0, max=3414), HTML(value='')))"
      ]
     },
     "metadata": {},
     "output_type": "display_data"
    },
    {
     "name": "stdout",
     "output_type": "stream",
     "text": [
      "columbiasportswear 1081549408913698818 Twitter API returned a 429 (Too Many Requests), Rate limit exceeded\n",
      "columbiasportswear 1081549408913698818 Twitter API returned a 429 (Too Many Requests), Rate limit exceeded\n",
      "columbiasportswear 1081549408913698818 Twitter API returned a 429 (Too Many Requests), Rate limit exceeded\n",
      "columbiasportswear 1081549408913698818 Twitter API returned a 429 (Too Many Requests), Rate limit exceeded\n",
      "columbiasportswear 1111199678773628929 Twitter API returned a 403 (Forbidden), User has been suspended.\n",
      "columbiasportswear 1123700625684992000 Twitter API returned a 429 (Too Many Requests), Rate limit exceeded\n",
      "columbiasportswear 1123700625684992000 Twitter API returned a 429 (Too Many Requests), Rate limit exceeded\n",
      "columbiasportswear 1123700625684992000 Twitter API returned a 429 (Too Many Requests), Rate limit exceeded\n",
      "columbiasportswear 1123700625684992000 Twitter API returned a 429 (Too Many Requests), Rate limit exceeded\n",
      "columbiasportswear 1117791291121602560 Twitter API returned a 429 (Too Many Requests), Rate limit exceeded\n",
      "columbiasportswear 1117791291121602560 Twitter API returned a 429 (Too Many Requests), Rate limit exceeded\n",
      "columbiasportswear 1117791291121602560 Twitter API returned a 429 (Too Many Requests), Rate limit exceeded\n",
      "columbiasportswear 1117791291121602560 Twitter API returned a 429 (Too Many Requests), Rate limit exceeded\n",
      "columbiasportswear 1093402505172537344 Twitter API returned a 429 (Too Many Requests), Rate limit exceeded\n",
      "columbiasportswear 1093402505172537344 Twitter API returned a 429 (Too Many Requests), Rate limit exceeded\n",
      "columbiasportswear 1093402505172537344 Twitter API returned a 429 (Too Many Requests), Rate limit exceeded\n",
      "columbiasportswear 1093402505172537344 Twitter API returned a 429 (Too Many Requests), Rate limit exceeded\n"
     ]
    },
    {
     "data": {
      "application/vnd.jupyter.widget-view+json": {
       "model_id": "",
       "version_major": 2,
       "version_minor": 0
      },
      "text/plain": [
       "HBox(children=(IntProgress(value=0, max=27), HTML(value='')))"
      ]
     },
     "metadata": {},
     "output_type": "display_data"
    },
    {
     "name": "stdout",
     "output_type": "stream",
     "text": [
      "commedesgarcons 1118869788216811520 Twitter API returned a 404 (Not Found), No status found with that ID.\n"
     ]
    },
    {
     "data": {
      "application/vnd.jupyter.widget-view+json": {
       "model_id": "",
       "version_major": 2,
       "version_minor": 0
      },
      "text/plain": [
       "HBox(children=(IntProgress(value=0, max=209), HTML(value='')))"
      ]
     },
     "metadata": {},
     "output_type": "display_data"
    },
    {
     "name": "stdout",
     "output_type": "stream",
     "text": [
      "converse 1130393026558193664 Twitter API returned a 403 (Forbidden), User has been suspended.\n",
      "converse 1098721767927869441 Twitter API returned a 404 (Not Found), No status found with that ID.\n",
      "converse 1111897321082626049 Twitter API returned a 403 (Forbidden), User has been suspended.\n",
      "converse 1098720742684803072 Twitter API returned a 404 (Not Found), No status found with that ID.\n",
      "converse 1100030975285678080 Twitter API returned a 403 (Forbidden), Sorry, you are not authorized to see this status.\n",
      "converse 1097840091072851968 Twitter API returned a 404 (Not Found), No status found with that ID.\n",
      "converse 1111897318188564480 Twitter API returned a 403 (Forbidden), User has been suspended.\n"
     ]
    },
    {
     "data": {
      "application/vnd.jupyter.widget-view+json": {
       "model_id": "",
       "version_major": 2,
       "version_minor": 0
      },
      "text/plain": [
       "HBox(children=(IntProgress(value=0, max=40), HTML(value='')))"
      ]
     },
     "metadata": {},
     "output_type": "display_data"
    },
    {
     "data": {
      "application/vnd.jupyter.widget-view+json": {
       "model_id": "",
       "version_major": 2,
       "version_minor": 0
      },
      "text/plain": [
       "HBox(children=(IntProgress(value=0, max=28), HTML(value='')))"
      ]
     },
     "metadata": {},
     "output_type": "display_data"
    },
    {
     "data": {
      "application/vnd.jupyter.widget-view+json": {
       "model_id": "",
       "version_major": 2,
       "version_minor": 0
      },
      "text/plain": [
       "HBox(children=(IntProgress(value=0, max=106), HTML(value='')))"
      ]
     },
     "metadata": {},
     "output_type": "display_data"
    },
    {
     "name": "stdout",
     "output_type": "stream",
     "text": [
      "crocs 1122740823588610048 Twitter API returned a 404 (Not Found), No status found with that ID.\n"
     ]
    },
    {
     "data": {
      "application/vnd.jupyter.widget-view+json": {
       "model_id": "",
       "version_major": 2,
       "version_minor": 0
      },
      "text/plain": [
       "HBox(children=(IntProgress(value=0, max=31), HTML(value='')))"
      ]
     },
     "metadata": {},
     "output_type": "display_data"
    },
    {
     "data": {
      "application/vnd.jupyter.widget-view+json": {
       "model_id": "",
       "version_major": 2,
       "version_minor": 0
      },
      "text/plain": [
       "HBox(children=(IntProgress(value=0, max=1), HTML(value='')))"
      ]
     },
     "metadata": {},
     "output_type": "display_data"
    },
    {
     "data": {
      "application/vnd.jupyter.widget-view+json": {
       "model_id": "",
       "version_major": 2,
       "version_minor": 0
      },
      "text/plain": [
       "HBox(children=(IntProgress(value=0, max=1), HTML(value='')))"
      ]
     },
     "metadata": {},
     "output_type": "display_data"
    },
    {
     "data": {
      "application/vnd.jupyter.widget-view+json": {
       "model_id": "",
       "version_major": 2,
       "version_minor": 0
      },
      "text/plain": [
       "HBox(children=(IntProgress(value=0, max=5), HTML(value='')))"
      ]
     },
     "metadata": {},
     "output_type": "display_data"
    },
    {
     "data": {
      "application/vnd.jupyter.widget-view+json": {
       "model_id": "",
       "version_major": 2,
       "version_minor": 0
      },
      "text/plain": [
       "HBox(children=(IntProgress(value=0, max=22), HTML(value='')))"
      ]
     },
     "metadata": {},
     "output_type": "display_data"
    },
    {
     "data": {
      "application/vnd.jupyter.widget-view+json": {
       "model_id": "",
       "version_major": 2,
       "version_minor": 0
      },
      "text/plain": [
       "HBox(children=(IntProgress(value=0, max=6), HTML(value='')))"
      ]
     },
     "metadata": {},
     "output_type": "display_data"
    },
    {
     "data": {
      "application/vnd.jupyter.widget-view+json": {
       "model_id": "",
       "version_major": 2,
       "version_minor": 0
      },
      "text/plain": [
       "HBox(children=(IntProgress(value=0, max=412), HTML(value='')))"
      ]
     },
     "metadata": {},
     "output_type": "display_data"
    },
    {
     "name": "stdout",
     "output_type": "stream",
     "text": [
      "dior 1102549606599143424 Twitter API returned a 404 (Not Found), No status found with that ID.\n",
      "dior 1102038209167482880 Twitter API returned a 403 (Forbidden), Sorry, you are not authorized to see this status.\n",
      "dior 1104096061050695681 Twitter API returned a 403 (Forbidden), Sorry, you are not authorized to see this status.\n",
      "dior 1113770979245690881 Twitter API returned a 403 (Forbidden), Sorry, you are not authorized to see this status.\n",
      "dior 1113770363215798272 Twitter API returned a 403 (Forbidden), Sorry, you are not authorized to see this status.\n",
      "dior 1098727636702965760 Twitter API returned a 404 (Not Found), No status found with that ID.\n",
      "dior 1113769836545335297 Twitter API returned a 403 (Forbidden), Sorry, you are not authorized to see this status.\n",
      "dior 1098554083219140608 Twitter API returned a 404 (Not Found), No status found with that ID.\n",
      "dior 1086927008905474048 Twitter API returned a 403 (Forbidden), Sorry, you are not authorized to see this status.\n",
      "dior 1099521873853837312 Twitter API returned a 429 (Too Many Requests), Rate limit exceeded\n",
      "dior 1099521873853837312 Twitter API returned a 429 (Too Many Requests), Rate limit exceeded\n",
      "dior 1099521873853837312 Twitter API returned a 429 (Too Many Requests), Rate limit exceeded\n",
      "dior 1099521873853837312 Twitter API returned a 429 (Too Many Requests), Rate limit exceeded\n"
     ]
    },
    {
     "data": {
      "application/vnd.jupyter.widget-view+json": {
       "model_id": "",
       "version_major": 2,
       "version_minor": 0
      },
      "text/plain": [
       "HBox(children=(IntProgress(value=0, max=2), HTML(value='')))"
      ]
     },
     "metadata": {},
     "output_type": "display_data"
    },
    {
     "data": {
      "application/vnd.jupyter.widget-view+json": {
       "model_id": "",
       "version_major": 2,
       "version_minor": 0
      },
      "text/plain": [
       "HBox(children=(IntProgress(value=0, max=3), HTML(value='')))"
      ]
     },
     "metadata": {},
     "output_type": "display_data"
    },
    {
     "data": {
      "application/vnd.jupyter.widget-view+json": {
       "model_id": "",
       "version_major": 2,
       "version_minor": 0
      },
      "text/plain": [
       "HBox(children=(IntProgress(value=0, max=11), HTML(value='')))"
      ]
     },
     "metadata": {},
     "output_type": "display_data"
    },
    {
     "data": {
      "application/vnd.jupyter.widget-view+json": {
       "model_id": "",
       "version_major": 2,
       "version_minor": 0
      },
      "text/plain": [
       "HBox(children=(IntProgress(value=0, max=37), HTML(value='')))"
      ]
     },
     "metadata": {},
     "output_type": "display_data"
    },
    {
     "data": {
      "application/vnd.jupyter.widget-view+json": {
       "model_id": "",
       "version_major": 2,
       "version_minor": 0
      },
      "text/plain": [
       "HBox(children=(IntProgress(value=0, max=3), HTML(value='')))"
      ]
     },
     "metadata": {},
     "output_type": "display_data"
    },
    {
     "data": {
      "application/vnd.jupyter.widget-view+json": {
       "model_id": "",
       "version_major": 2,
       "version_minor": 0
      },
      "text/plain": [
       "HBox(children=(IntProgress(value=0, max=32), HTML(value='')))"
      ]
     },
     "metadata": {},
     "output_type": "display_data"
    },
    {
     "data": {
      "application/vnd.jupyter.widget-view+json": {
       "model_id": "",
       "version_major": 2,
       "version_minor": 0
      },
      "text/plain": [
       "HBox(children=(IntProgress(value=0, max=3), HTML(value='')))"
      ]
     },
     "metadata": {},
     "output_type": "display_data"
    },
    {
     "data": {
      "application/vnd.jupyter.widget-view+json": {
       "model_id": "",
       "version_major": 2,
       "version_minor": 0
      },
      "text/plain": [
       "HBox(children=(IntProgress(value=0, max=846), HTML(value='')))"
      ]
     },
     "metadata": {},
     "output_type": "display_data"
    },
    {
     "name": "stdout",
     "output_type": "stream",
     "text": [
      "eider 1100921999889588225 Twitter API returned a 403 (Forbidden), Sorry, you are not authorized to see this status.\n",
      "eider 1110709554092765190 Twitter API returned a 403 (Forbidden), Sorry, you are not authorized to see this status.\n",
      "eider 1096200251872927744 Twitter API returned a 403 (Forbidden), Sorry, you are not authorized to see this status.\n",
      "eider 1113389081151496192 Twitter API returned a 403 (Forbidden), Sorry, you are not authorized to see this status.\n",
      "eider 1102016270004772864 Twitter API returned a 403 (Forbidden), Sorry, you are not authorized to see this status.\n",
      "eider 1100909196600459265 Twitter API returned a 403 (Forbidden), User has been suspended.\n",
      "eider 1118709163129851905 Twitter API returned a 403 (Forbidden), Sorry, you are not authorized to see this status.\n",
      "eider 1113391092336971777 Twitter API returned a 403 (Forbidden), Sorry, you are not authorized to see this status.\n",
      "eider 1095853516281659393 Twitter API returned a 403 (Forbidden), Sorry, you are not authorized to see this status.\n",
      "eider 1141249979266191360 Twitter API returned a 404 (Not Found), No status found with that ID.\n",
      "eider 1123164683949621250 Twitter API returned a 403 (Forbidden), Sorry, you are not authorized to see this status.\n",
      "eider 1079895858961772544 Twitter API returned a 403 (Forbidden), User has been suspended.\n",
      "eider 1094858132604383232 Twitter API returned a 403 (Forbidden), Sorry, you are not authorized to see this status.\n",
      "eider 1110738294717898754 Twitter API returned a 403 (Forbidden), Sorry, you are not authorized to see this status.\n",
      "eider 1095854048966635520 Twitter API returned a 403 (Forbidden), Sorry, you are not authorized to see this status.\n",
      "eider 1118364867327660033 Twitter API returned a 403 (Forbidden), Sorry, you are not authorized to see this status.\n",
      "eider 1113381408020488192 Twitter API returned a 403 (Forbidden), Sorry, you are not authorized to see this status.\n",
      "eider 1134775109091188738 Twitter API returned a 404 (Not Found), No status found with that ID.\n",
      "eider 1094856383306944512 Twitter API returned a 429 (Too Many Requests), Rate limit exceeded\n",
      "eider 1094856383306944512 Twitter API returned a 429 (Too Many Requests), Rate limit exceeded\n",
      "eider 1094856383306944512 Twitter API returned a 429 (Too Many Requests), Rate limit exceeded\n",
      "eider 1094856383306944512 Twitter API returned a 429 (Too Many Requests), Rate limit exceeded\n",
      "eider 1100909043093135360 Twitter API returned a 403 (Forbidden), User has been suspended.\n",
      "eider 1095853760859885568 Twitter API returned a 403 (Forbidden), Sorry, you are not authorized to see this status.\n"
     ]
    },
    {
     "data": {
      "application/vnd.jupyter.widget-view+json": {
       "model_id": "",
       "version_major": 2,
       "version_minor": 0
      },
      "text/plain": [
       "HBox(children=(IntProgress(value=0, max=26), HTML(value='')))"
      ]
     },
     "metadata": {},
     "output_type": "display_data"
    },
    {
     "data": {
      "application/vnd.jupyter.widget-view+json": {
       "model_id": "",
       "version_major": 2,
       "version_minor": 0
      },
      "text/plain": [
       "HBox(children=(IntProgress(value=0, max=2), HTML(value='')))"
      ]
     },
     "metadata": {},
     "output_type": "display_data"
    },
    {
     "data": {
      "application/vnd.jupyter.widget-view+json": {
       "model_id": "",
       "version_major": 2,
       "version_minor": 0
      },
      "text/plain": [
       "HBox(children=(IntProgress(value=0, max=262), HTML(value='')))"
      ]
     },
     "metadata": {},
     "output_type": "display_data"
    },
    {
     "data": {
      "application/vnd.jupyter.widget-view+json": {
       "model_id": "",
       "version_major": 2,
       "version_minor": 0
      },
      "text/plain": [
       "HBox(children=(IntProgress(value=0, max=20), HTML(value='')))"
      ]
     },
     "metadata": {},
     "output_type": "display_data"
    },
    {
     "data": {
      "application/vnd.jupyter.widget-view+json": {
       "model_id": "",
       "version_major": 2,
       "version_minor": 0
      },
      "text/plain": [
       "HBox(children=(IntProgress(value=0, max=820), HTML(value='')))"
      ]
     },
     "metadata": {},
     "output_type": "display_data"
    },
    {
     "name": "stdout",
     "output_type": "stream",
     "text": [
      "fila 1128120965823631362 Twitter API returned a 404 (Not Found), Sorry, that page does not exist.\n",
      "fila 1134086433088520192 Twitter API returned a 403 (Forbidden), Sorry, you are not authorized to see this status.\n",
      "fila 1136153048982540288 Twitter API returned a 404 (Not Found), No status found with that ID.\n",
      "fila 1106284993544892416 Twitter API returned a 403 (Forbidden), Sorry, you are not authorized to see this status.\n",
      "fila 1099283811534290945 Twitter API returned a 403 (Forbidden), Sorry, you are not authorized to see this status.\n",
      "fila 1108341551392944128 Twitter API returned a 403 (Forbidden), Sorry, you are not authorized to see this status.\n",
      "fila 1107613605980073984 Twitter API returned a 403 (Forbidden), Sorry, you are not authorized to see this status.\n",
      "fila 1096483071161905152 Twitter API returned a 429 (Too Many Requests), Rate limit exceeded\n",
      "fila 1096483071161905152 Twitter API returned a 429 (Too Many Requests), Rate limit exceeded\n",
      "fila 1096483071161905152 Twitter API returned a 429 (Too Many Requests), Rate limit exceeded\n",
      "fila 1096483071161905152 Twitter API returned a 429 (Too Many Requests), Rate limit exceeded\n"
     ]
    },
    {
     "data": {
      "application/vnd.jupyter.widget-view+json": {
       "model_id": "",
       "version_major": 2,
       "version_minor": 0
      },
      "text/plain": [
       "HBox(children=(IntProgress(value=0, max=4), HTML(value='')))"
      ]
     },
     "metadata": {},
     "output_type": "display_data"
    },
    {
     "data": {
      "application/vnd.jupyter.widget-view+json": {
       "model_id": "",
       "version_major": 2,
       "version_minor": 0
      },
      "text/plain": [
       "HBox(children=(IntProgress(value=0, max=34), HTML(value='')))"
      ]
     },
     "metadata": {},
     "output_type": "display_data"
    },
    {
     "data": {
      "application/vnd.jupyter.widget-view+json": {
       "model_id": "",
       "version_major": 2,
       "version_minor": 0
      },
      "text/plain": [
       "HBox(children=(IntProgress(value=0, max=6), HTML(value='')))"
      ]
     },
     "metadata": {},
     "output_type": "display_data"
    },
    {
     "data": {
      "application/vnd.jupyter.widget-view+json": {
       "model_id": "",
       "version_major": 2,
       "version_minor": 0
      },
      "text/plain": [
       "HBox(children=(IntProgress(value=0, max=6), HTML(value='')))"
      ]
     },
     "metadata": {},
     "output_type": "display_data"
    },
    {
     "data": {
      "application/vnd.jupyter.widget-view+json": {
       "model_id": "",
       "version_major": 2,
       "version_minor": 0
      },
      "text/plain": [
       "HBox(children=(IntProgress(value=0, max=11), HTML(value='')))"
      ]
     },
     "metadata": {},
     "output_type": "display_data"
    },
    {
     "data": {
      "application/vnd.jupyter.widget-view+json": {
       "model_id": "",
       "version_major": 2,
       "version_minor": 0
      },
      "text/plain": [
       "HBox(children=(IntProgress(value=0, max=1), HTML(value='')))"
      ]
     },
     "metadata": {},
     "output_type": "display_data"
    },
    {
     "data": {
      "application/vnd.jupyter.widget-view+json": {
       "model_id": "",
       "version_major": 2,
       "version_minor": 0
      },
      "text/plain": [
       "HBox(children=(IntProgress(value=0, max=270), HTML(value='')))"
      ]
     },
     "metadata": {},
     "output_type": "display_data"
    },
    {
     "name": "stdout",
     "output_type": "stream",
     "text": [
      "gentlemonster 1094866292094296064 Twitter API returned a 403 (Forbidden), Sorry, you are not authorized to see this status.\n",
      "gentlemonster 1125775115361378311 Twitter API returned a 403 (Forbidden), Sorry, you are not authorized to see this status.\n",
      "gentlemonster 1104245444085858304 Twitter API returned a 403 (Forbidden), Sorry, you are not authorized to see this status.\n"
     ]
    },
    {
     "data": {
      "application/vnd.jupyter.widget-view+json": {
       "model_id": "",
       "version_major": 2,
       "version_minor": 0
      },
      "text/plain": [
       "HBox(children=(IntProgress(value=0, max=27), HTML(value='')))"
      ]
     },
     "metadata": {},
     "output_type": "display_data"
    },
    {
     "data": {
      "application/vnd.jupyter.widget-view+json": {
       "model_id": "",
       "version_major": 2,
       "version_minor": 0
      },
      "text/plain": [
       "HBox(children=(IntProgress(value=0, max=2), HTML(value='')))"
      ]
     },
     "metadata": {},
     "output_type": "display_data"
    },
    {
     "data": {
      "application/vnd.jupyter.widget-view+json": {
       "model_id": "",
       "version_major": 2,
       "version_minor": 0
      },
      "text/plain": [
       "HBox(children=(IntProgress(value=0, max=146), HTML(value='')))"
      ]
     },
     "metadata": {},
     "output_type": "display_data"
    },
    {
     "name": "stdout",
     "output_type": "stream",
     "text": [
      "givenchy 1082250154063814656 Twitter API returned a 404 (Not Found), No status found with that ID.\n"
     ]
    },
    {
     "data": {
      "application/vnd.jupyter.widget-view+json": {
       "model_id": "",
       "version_major": 2,
       "version_minor": 0
      },
      "text/plain": [
       "HBox(children=(IntProgress(value=0, max=2), HTML(value='')))"
      ]
     },
     "metadata": {},
     "output_type": "display_data"
    },
    {
     "data": {
      "application/vnd.jupyter.widget-view+json": {
       "model_id": "",
       "version_major": 2,
       "version_minor": 0
      },
      "text/plain": [
       "HBox(children=(IntProgress(value=0, max=1343), HTML(value='')))"
      ]
     },
     "metadata": {},
     "output_type": "display_data"
    },
    {
     "name": "stdout",
     "output_type": "stream",
     "text": [
      "goat 1096340295526961152 Twitter API returned a 429 (Too Many Requests), Rate limit exceeded\n",
      "goat 1096340295526961152 Twitter API returned a 429 (Too Many Requests), Rate limit exceeded\n",
      "goat 1096340295526961152 Twitter API returned a 429 (Too Many Requests), Rate limit exceeded\n",
      "goat 1096340295526961152 Twitter API returned a 429 (Too Many Requests), Rate limit exceeded\n",
      "goat 1100688947720540161 Twitter API returned a 429 (Too Many Requests), Rate limit exceeded\n",
      "goat 1100688947720540161 Twitter API returned a 429 (Too Many Requests), Rate limit exceeded\n",
      "goat 1100688947720540161 Twitter API returned a 429 (Too Many Requests), Rate limit exceeded\n",
      "goat 1100688947720540161 Twitter API returned a 429 (Too Many Requests), Rate limit exceeded\n"
     ]
    },
    {
     "data": {
      "application/vnd.jupyter.widget-view+json": {
       "model_id": "",
       "version_major": 2,
       "version_minor": 0
      },
      "text/plain": [
       "HBox(children=(IntProgress(value=0, max=30), HTML(value='')))"
      ]
     },
     "metadata": {},
     "output_type": "display_data"
    },
    {
     "data": {
      "application/vnd.jupyter.widget-view+json": {
       "model_id": "",
       "version_major": 2,
       "version_minor": 0
      },
      "text/plain": [
       "HBox(children=(IntProgress(value=0, max=3), HTML(value='')))"
      ]
     },
     "metadata": {},
     "output_type": "display_data"
    },
    {
     "data": {
      "application/vnd.jupyter.widget-view+json": {
       "model_id": "",
       "version_major": 2,
       "version_minor": 0
      },
      "text/plain": [
       "HBox(children=(IntProgress(value=0, max=39), HTML(value='')))"
      ]
     },
     "metadata": {},
     "output_type": "display_data"
    },
    {
     "name": "stdout",
     "output_type": "stream",
     "text": [
      "gregory 1090472974337986560 Twitter API returned a 404 (Not Found), No status found with that ID.\n"
     ]
    },
    {
     "data": {
      "application/vnd.jupyter.widget-view+json": {
       "model_id": "",
       "version_major": 2,
       "version_minor": 0
      },
      "text/plain": [
       "HBox(children=(IntProgress(value=0, max=664), HTML(value='')))"
      ]
     },
     "metadata": {},
     "output_type": "display_data"
    },
    {
     "name": "stdout",
     "output_type": "stream",
     "text": [
      "gucci 1116959976688365568 Twitter API returned a 403 (Forbidden), Sorry, you are not authorized to see this status.\n",
      "gucci 1109288663429640192 Twitter API returned a 403 (Forbidden), User has been suspended.\n",
      "gucci 1117307619062890502 Twitter API returned a 404 (Not Found), Sorry, that page does not exist.\n",
      "gucci 1098566869412327425 Twitter API returned a 404 (Not Found), No status found with that ID.\n",
      "gucci 1108693319142400000 Twitter API returned a 403 (Forbidden), Sorry, you are not authorized to see this status.\n",
      "gucci 1108693467297767425 Twitter API returned a 403 (Forbidden), Sorry, you are not authorized to see this status.\n",
      "gucci 1108693096898813952 Twitter API returned a 403 (Forbidden), Sorry, you are not authorized to see this status.\n",
      "gucci 1108926334833750016 Twitter API returned a 403 (Forbidden), User has been suspended.\n",
      "gucci 1108695409524768769 Twitter API returned a 403 (Forbidden), Sorry, you are not authorized to see this status.\n",
      "gucci 1108694306846445569 Twitter API returned a 403 (Forbidden), Sorry, you are not authorized to see this status.\n",
      "gucci 1090222340875714565 Twitter API returned a 429 (Too Many Requests), Rate limit exceeded\n",
      "gucci 1108692808129404929 Twitter API returned a 403 (Forbidden), Sorry, you are not authorized to see this status.\n",
      "gucci 1108693926741868546 Twitter API returned a 403 (Forbidden), Sorry, you are not authorized to see this status.\n",
      "gucci 1098721767927869441 Twitter API returned a 404 (Not Found), No status found with that ID.\n",
      "gucci 1116959974578688000 Twitter API returned a 403 (Forbidden), Sorry, you are not authorized to see this status.\n"
     ]
    },
    {
     "data": {
      "application/vnd.jupyter.widget-view+json": {
       "model_id": "",
       "version_major": 2,
       "version_minor": 0
      },
      "text/plain": [
       "HBox(children=(IntProgress(value=0, max=4), HTML(value='')))"
      ]
     },
     "metadata": {},
     "output_type": "display_data"
    },
    {
     "data": {
      "application/vnd.jupyter.widget-view+json": {
       "model_id": "",
       "version_major": 2,
       "version_minor": 0
      },
      "text/plain": [
       "HBox(children=(IntProgress(value=0, max=4), HTML(value='')))"
      ]
     },
     "metadata": {},
     "output_type": "display_data"
    },
    {
     "data": {
      "application/vnd.jupyter.widget-view+json": {
       "model_id": "",
       "version_major": 2,
       "version_minor": 0
      },
      "text/plain": [
       "HBox(children=(IntProgress(value=0, max=12), HTML(value='')))"
      ]
     },
     "metadata": {},
     "output_type": "display_data"
    },
    {
     "name": "stdout",
     "output_type": "stream",
     "text": [
      "haveagoodtime 1102131207846985730 Twitter API returned a 404 (Not Found), No status found with that ID.\n"
     ]
    },
    {
     "data": {
      "application/vnd.jupyter.widget-view+json": {
       "model_id": "",
       "version_major": 2,
       "version_minor": 0
      },
      "text/plain": [
       "HBox(children=(IntProgress(value=0, max=21), HTML(value='')))"
      ]
     },
     "metadata": {},
     "output_type": "display_data"
    },
    {
     "data": {
      "application/vnd.jupyter.widget-view+json": {
       "model_id": "",
       "version_major": 2,
       "version_minor": 0
      },
      "text/plain": [
       "HBox(children=(IntProgress(value=0, max=12), HTML(value='')))"
      ]
     },
     "metadata": {},
     "output_type": "display_data"
    },
    {
     "data": {
      "application/vnd.jupyter.widget-view+json": {
       "model_id": "",
       "version_major": 2,
       "version_minor": 0
      },
      "text/plain": [
       "HBox(children=(IntProgress(value=0, max=4), HTML(value='')))"
      ]
     },
     "metadata": {},
     "output_type": "display_data"
    },
    {
     "data": {
      "application/vnd.jupyter.widget-view+json": {
       "model_id": "",
       "version_major": 2,
       "version_minor": 0
      },
      "text/plain": [
       "HBox(children=(IntProgress(value=0, max=1), HTML(value='')))"
      ]
     },
     "metadata": {},
     "output_type": "display_data"
    },
    {
     "data": {
      "application/vnd.jupyter.widget-view+json": {
       "model_id": "",
       "version_major": 2,
       "version_minor": 0
      },
      "text/plain": [
       "HBox(children=(IntProgress(value=0, max=2), HTML(value='')))"
      ]
     },
     "metadata": {},
     "output_type": "display_data"
    },
    {
     "data": {
      "application/vnd.jupyter.widget-view+json": {
       "model_id": "",
       "version_major": 2,
       "version_minor": 0
      },
      "text/plain": [
       "HBox(children=(IntProgress(value=0, max=112), HTML(value='')))"
      ]
     },
     "metadata": {},
     "output_type": "display_data"
    },
    {
     "data": {
      "application/vnd.jupyter.widget-view+json": {
       "model_id": "",
       "version_major": 2,
       "version_minor": 0
      },
      "text/plain": [
       "HBox(children=(IntProgress(value=0, max=2), HTML(value='')))"
      ]
     },
     "metadata": {},
     "output_type": "display_data"
    },
    {
     "data": {
      "application/vnd.jupyter.widget-view+json": {
       "model_id": "",
       "version_major": 2,
       "version_minor": 0
      },
      "text/plain": [
       "HBox(children=(IntProgress(value=0, max=2), HTML(value='')))"
      ]
     },
     "metadata": {},
     "output_type": "display_data"
    },
    {
     "data": {
      "application/vnd.jupyter.widget-view+json": {
       "model_id": "",
       "version_major": 2,
       "version_minor": 0
      },
      "text/plain": [
       "HBox(children=(IntProgress(value=0, max=1733), HTML(value='')))"
      ]
     },
     "metadata": {},
     "output_type": "display_data"
    },
    {
     "name": "stdout",
     "output_type": "stream",
     "text": [
      "hm 1091008283551293440 Twitter API returned a 429 (Too Many Requests), Rate limit exceeded\n",
      "hm 1091008283551293440 Twitter API returned a 429 (Too Many Requests), Rate limit exceeded\n",
      "hm 1091008283551293440 Twitter API returned a 429 (Too Many Requests), Rate limit exceeded\n",
      "hm 1091008283551293440 Twitter API returned a 429 (Too Many Requests), Rate limit exceeded\n",
      "hm 1106963988393287680 Twitter API returned a 429 (Too Many Requests), Rate limit exceeded\n",
      "hm 1106963988393287680 Twitter API returned a 429 (Too Many Requests), Rate limit exceeded\n",
      "hm 1106963988393287680 Twitter API returned a 429 (Too Many Requests), Rate limit exceeded\n"
     ]
    },
    {
     "data": {
      "application/vnd.jupyter.widget-view+json": {
       "model_id": "",
       "version_major": 2,
       "version_minor": 0
      },
      "text/plain": [
       "HBox(children=(IntProgress(value=0, max=2), HTML(value='')))"
      ]
     },
     "metadata": {},
     "output_type": "display_data"
    },
    {
     "data": {
      "application/vnd.jupyter.widget-view+json": {
       "model_id": "",
       "version_major": 2,
       "version_minor": 0
      },
      "text/plain": [
       "HBox(children=(IntProgress(value=0, max=13), HTML(value='')))"
      ]
     },
     "metadata": {},
     "output_type": "display_data"
    },
    {
     "data": {
      "application/vnd.jupyter.widget-view+json": {
       "model_id": "",
       "version_major": 2,
       "version_minor": 0
      },
      "text/plain": [
       "HBox(children=(IntProgress(value=0, max=2), HTML(value='')))"
      ]
     },
     "metadata": {},
     "output_type": "display_data"
    },
    {
     "data": {
      "application/vnd.jupyter.widget-view+json": {
       "model_id": "",
       "version_major": 2,
       "version_minor": 0
      },
      "text/plain": [
       "HBox(children=(IntProgress(value=0, max=2), HTML(value='')))"
      ]
     },
     "metadata": {},
     "output_type": "display_data"
    },
    {
     "data": {
      "application/vnd.jupyter.widget-view+json": {
       "model_id": "",
       "version_major": 2,
       "version_minor": 0
      },
      "text/plain": [
       "HBox(children=(IntProgress(value=0, max=1), HTML(value='')))"
      ]
     },
     "metadata": {},
     "output_type": "display_data"
    },
    {
     "data": {
      "application/vnd.jupyter.widget-view+json": {
       "model_id": "",
       "version_major": 2,
       "version_minor": 0
      },
      "text/plain": [
       "HBox(children=(IntProgress(value=0, max=6), HTML(value='')))"
      ]
     },
     "metadata": {},
     "output_type": "display_data"
    },
    {
     "data": {
      "application/vnd.jupyter.widget-view+json": {
       "model_id": "",
       "version_major": 2,
       "version_minor": 0
      },
      "text/plain": [
       "HBox(children=(IntProgress(value=0, max=1), HTML(value='')))"
      ]
     },
     "metadata": {},
     "output_type": "display_data"
    },
    {
     "data": {
      "application/vnd.jupyter.widget-view+json": {
       "model_id": "",
       "version_major": 2,
       "version_minor": 0
      },
      "text/plain": [
       "HBox(children=(IntProgress(value=0, max=9), HTML(value='')))"
      ]
     },
     "metadata": {},
     "output_type": "display_data"
    },
    {
     "data": {
      "application/vnd.jupyter.widget-view+json": {
       "model_id": "",
       "version_major": 2,
       "version_minor": 0
      },
      "text/plain": [
       "HBox(children=(IntProgress(value=0, max=2), HTML(value='')))"
      ]
     },
     "metadata": {},
     "output_type": "display_data"
    },
    {
     "data": {
      "application/vnd.jupyter.widget-view+json": {
       "model_id": "",
       "version_major": 2,
       "version_minor": 0
      },
      "text/plain": [
       "HBox(children=(IntProgress(value=0, max=33), HTML(value='')))"
      ]
     },
     "metadata": {},
     "output_type": "display_data"
    },
    {
     "data": {
      "application/vnd.jupyter.widget-view+json": {
       "model_id": "",
       "version_major": 2,
       "version_minor": 0
      },
      "text/plain": [
       "HBox(children=(IntProgress(value=0, max=1), HTML(value='')))"
      ]
     },
     "metadata": {},
     "output_type": "display_data"
    },
    {
     "data": {
      "application/vnd.jupyter.widget-view+json": {
       "model_id": "",
       "version_major": 2,
       "version_minor": 0
      },
      "text/plain": [
       "HBox(children=(IntProgress(value=0, max=7), HTML(value='')))"
      ]
     },
     "metadata": {},
     "output_type": "display_data"
    },
    {
     "data": {
      "application/vnd.jupyter.widget-view+json": {
       "model_id": "",
       "version_major": 2,
       "version_minor": 0
      },
      "text/plain": [
       "HBox(children=(IntProgress(value=0, max=2), HTML(value='')))"
      ]
     },
     "metadata": {},
     "output_type": "display_data"
    },
    {
     "data": {
      "application/vnd.jupyter.widget-view+json": {
       "model_id": "",
       "version_major": 2,
       "version_minor": 0
      },
      "text/plain": [
       "HBox(children=(IntProgress(value=0, max=1), HTML(value='')))"
      ]
     },
     "metadata": {},
     "output_type": "display_data"
    },
    {
     "data": {
      "application/vnd.jupyter.widget-view+json": {
       "model_id": "",
       "version_major": 2,
       "version_minor": 0
      },
      "text/plain": [
       "HBox(children=(IntProgress(value=0, max=111), HTML(value='')))"
      ]
     },
     "metadata": {},
     "output_type": "display_data"
    },
    {
     "name": "stdout",
     "output_type": "stream",
     "text": [
      "juunj 1141277987431542785 Twitter API returned a 404 (Not Found), No status found with that ID.\n"
     ]
    },
    {
     "data": {
      "application/vnd.jupyter.widget-view+json": {
       "model_id": "",
       "version_major": 2,
       "version_minor": 0
      },
      "text/plain": [
       "HBox(children=(IntProgress(value=0, max=4), HTML(value='')))"
      ]
     },
     "metadata": {},
     "output_type": "display_data"
    },
    {
     "data": {
      "application/vnd.jupyter.widget-view+json": {
       "model_id": "",
       "version_major": 2,
       "version_minor": 0
      },
      "text/plain": [
       "HBox(children=(IntProgress(value=0, max=1), HTML(value='')))"
      ]
     },
     "metadata": {},
     "output_type": "display_data"
    },
    {
     "data": {
      "application/vnd.jupyter.widget-view+json": {
       "model_id": "",
       "version_major": 2,
       "version_minor": 0
      },
      "text/plain": [
       "HBox(children=(IntProgress(value=0, max=18), HTML(value='')))"
      ]
     },
     "metadata": {},
     "output_type": "display_data"
    },
    {
     "data": {
      "application/vnd.jupyter.widget-view+json": {
       "model_id": "",
       "version_major": 2,
       "version_minor": 0
      },
      "text/plain": [
       "HBox(children=(IntProgress(value=0, max=8), HTML(value='')))"
      ]
     },
     "metadata": {},
     "output_type": "display_data"
    },
    {
     "data": {
      "application/vnd.jupyter.widget-view+json": {
       "model_id": "",
       "version_major": 2,
       "version_minor": 0
      },
      "text/plain": [
       "HBox(children=(IntProgress(value=0, max=1), HTML(value='')))"
      ]
     },
     "metadata": {},
     "output_type": "display_data"
    },
    {
     "data": {
      "application/vnd.jupyter.widget-view+json": {
       "model_id": "",
       "version_major": 2,
       "version_minor": 0
      },
      "text/plain": [
       "HBox(children=(IntProgress(value=0, max=28), HTML(value='')))"
      ]
     },
     "metadata": {},
     "output_type": "display_data"
    },
    {
     "data": {
      "application/vnd.jupyter.widget-view+json": {
       "model_id": "",
       "version_major": 2,
       "version_minor": 0
      },
      "text/plain": [
       "HBox(children=(IntProgress(value=0, max=12), HTML(value='')))"
      ]
     },
     "metadata": {},
     "output_type": "display_data"
    },
    {
     "data": {
      "application/vnd.jupyter.widget-view+json": {
       "model_id": "",
       "version_major": 2,
       "version_minor": 0
      },
      "text/plain": [
       "HBox(children=(IntProgress(value=0, max=77), HTML(value='')))"
      ]
     },
     "metadata": {},
     "output_type": "display_data"
    },
    {
     "name": "stdout",
     "output_type": "stream",
     "text": [
      "kolonsport 1115883146925441025 Twitter API returned a 403 (Forbidden), Sorry, you are not authorized to see this status.\n"
     ]
    },
    {
     "data": {
      "application/vnd.jupyter.widget-view+json": {
       "model_id": "",
       "version_major": 2,
       "version_minor": 0
      },
      "text/plain": [
       "HBox(children=(IntProgress(value=0, max=38), HTML(value='')))"
      ]
     },
     "metadata": {},
     "output_type": "display_data"
    },
    {
     "data": {
      "application/vnd.jupyter.widget-view+json": {
       "model_id": "",
       "version_major": 2,
       "version_minor": 0
      },
      "text/plain": [
       "HBox(children=(IntProgress(value=0, max=26), HTML(value='')))"
      ]
     },
     "metadata": {},
     "output_type": "display_data"
    },
    {
     "name": "stdout",
     "output_type": "stream",
     "text": [
      "lacoste 1100763045050036225 Twitter API returned a 404 (Not Found), No status found with that ID.\n"
     ]
    },
    {
     "data": {
      "application/vnd.jupyter.widget-view+json": {
       "model_id": "",
       "version_major": 2,
       "version_minor": 0
      },
      "text/plain": [
       "HBox(children=(IntProgress(value=0, max=91), HTML(value='')))"
      ]
     },
     "metadata": {},
     "output_type": "display_data"
    },
    {
     "name": "stdout",
     "output_type": "stream",
     "text": [
      "lafuma 1100763045050036225 Twitter API returned a 404 (Not Found), No status found with that ID.\n"
     ]
    },
    {
     "data": {
      "application/vnd.jupyter.widget-view+json": {
       "model_id": "",
       "version_major": 2,
       "version_minor": 0
      },
      "text/plain": [
       "HBox(children=(IntProgress(value=0, max=17), HTML(value='')))"
      ]
     },
     "metadata": {},
     "output_type": "display_data"
    },
    {
     "data": {
      "application/vnd.jupyter.widget-view+json": {
       "model_id": "",
       "version_major": 2,
       "version_minor": 0
      },
      "text/plain": [
       "HBox(children=(IntProgress(value=0, max=1), HTML(value='')))"
      ]
     },
     "metadata": {},
     "output_type": "display_data"
    },
    {
     "data": {
      "application/vnd.jupyter.widget-view+json": {
       "model_id": "",
       "version_major": 2,
       "version_minor": 0
      },
      "text/plain": [
       "HBox(children=(IntProgress(value=0, max=61), HTML(value='')))"
      ]
     },
     "metadata": {},
     "output_type": "display_data"
    },
    {
     "name": "stdout",
     "output_type": "stream",
     "text": [
      "lecoqsportif 1140145883998302208 Twitter API returned a 404 (Not Found), Sorry, that page does not exist.\n"
     ]
    },
    {
     "data": {
      "application/vnd.jupyter.widget-view+json": {
       "model_id": "",
       "version_major": 2,
       "version_minor": 0
      },
      "text/plain": [
       "HBox(children=(IntProgress(value=0, max=121), HTML(value='')))"
      ]
     },
     "metadata": {},
     "output_type": "display_data"
    },
    {
     "name": "stdout",
     "output_type": "stream",
     "text": [
      "levis 1132803240578490368 Twitter API returned a 429 (Too Many Requests), Rate limit exceeded\n",
      "levis 1132803240578490368 Twitter API returned a 429 (Too Many Requests), Rate limit exceeded\n",
      "levis 1132803240578490368 Twitter API returned a 429 (Too Many Requests), Rate limit exceeded\n",
      "levis 1132803240578490368 Twitter API returned a 429 (Too Many Requests), Rate limit exceeded\n"
     ]
    },
    {
     "data": {
      "application/vnd.jupyter.widget-view+json": {
       "model_id": "",
       "version_major": 2,
       "version_minor": 0
      },
      "text/plain": [
       "HBox(children=(IntProgress(value=0, max=2), HTML(value='')))"
      ]
     },
     "metadata": {},
     "output_type": "display_data"
    },
    {
     "data": {
      "application/vnd.jupyter.widget-view+json": {
       "model_id": "",
       "version_major": 2,
       "version_minor": 0
      },
      "text/plain": [
       "HBox(children=(IntProgress(value=0, max=16), HTML(value='')))"
      ]
     },
     "metadata": {},
     "output_type": "display_data"
    },
    {
     "data": {
      "application/vnd.jupyter.widget-view+json": {
       "model_id": "",
       "version_major": 2,
       "version_minor": 0
      },
      "text/plain": [
       "HBox(children=(IntProgress(value=0, max=1558), HTML(value='')))"
      ]
     },
     "metadata": {},
     "output_type": "display_data"
    },
    {
     "name": "stdout",
     "output_type": "stream",
     "text": [
      "louisvuitton 1126112764710215680 Twitter API returned a 403 (Forbidden), Sorry, you are not authorized to see this status.\n",
      "louisvuitton 1126395830796034048 Twitter API returned a 403 (Forbidden), Sorry, you are not authorized to see this status.\n",
      "louisvuitton 1126530991697215488 Twitter API returned a 403 (Forbidden), Sorry, you are not authorized to see this status.\n",
      "louisvuitton 1126415924620214272 Twitter API returned a 403 (Forbidden), Sorry, you are not authorized to see this status.\n",
      "louisvuitton 1110375448133791746 Twitter API returned a 429 (Too Many Requests), Rate limit exceeded\n",
      "louisvuitton 1110375448133791746 Twitter API returned a 429 (Too Many Requests), Rate limit exceeded\n",
      "louisvuitton 1110375448133791746 Twitter API returned a 429 (Too Many Requests), Rate limit exceeded\n",
      "louisvuitton 1110375448133791746 Twitter API returned a 429 (Too Many Requests), Rate limit exceeded\n",
      "louisvuitton 1107328321157644288 Twitter API returned a 403 (Forbidden), Sorry, you are not authorized to see this status.\n",
      "louisvuitton 1128174607746252801 Twitter API returned a 403 (Forbidden), Sorry, you are not authorized to see this status.\n",
      "louisvuitton 1126415800145866753 Twitter API returned a 403 (Forbidden), Sorry, you are not authorized to see this status.\n",
      "louisvuitton 1127185113396072448 Twitter API returned a 403 (Forbidden), Sorry, you are not authorized to see this status.\n",
      "louisvuitton 1126371776945098752 Twitter API returned a 403 (Forbidden), Sorry, you are not authorized to see this status.\n",
      "louisvuitton 1126112857672699904 Twitter API returned a 403 (Forbidden), Sorry, you are not authorized to see this status.\n"
     ]
    },
    {
     "data": {
      "application/vnd.jupyter.widget-view+json": {
       "model_id": "",
       "version_major": 2,
       "version_minor": 0
      },
      "text/plain": [
       "HBox(children=(IntProgress(value=0, max=246), HTML(value='')))"
      ]
     },
     "metadata": {},
     "output_type": "display_data"
    },
    {
     "name": "stdout",
     "output_type": "stream",
     "text": [
      "lynn 1097405600823074816 Twitter API returned a 404 (Not Found), No status found with that ID.\n",
      "lynn 1136108398892634112 Twitter API returned a 403 (Forbidden), User has been suspended.\n",
      "lynn 1091350532080324608 Twitter API returned a 429 (Too Many Requests), Rate limit exceeded\n",
      "lynn 1091350532080324608 Twitter API returned a 429 (Too Many Requests), Rate limit exceeded\n",
      "lynn 1091350532080324608 Twitter API returned a 429 (Too Many Requests), Rate limit exceeded\n",
      "lynn 1091350532080324608 Twitter API returned a 429 (Too Many Requests), Rate limit exceeded\n"
     ]
    },
    {
     "data": {
      "application/vnd.jupyter.widget-view+json": {
       "model_id": "",
       "version_major": 2,
       "version_minor": 0
      },
      "text/plain": [
       "HBox(children=(IntProgress(value=0, max=14), HTML(value='')))"
      ]
     },
     "metadata": {},
     "output_type": "display_data"
    },
    {
     "data": {
      "application/vnd.jupyter.widget-view+json": {
       "model_id": "",
       "version_major": 2,
       "version_minor": 0
      },
      "text/plain": [
       "HBox(children=(IntProgress(value=0, max=21), HTML(value='')))"
      ]
     },
     "metadata": {},
     "output_type": "display_data"
    },
    {
     "name": "stdout",
     "output_type": "stream",
     "text": [
      "maisonmargiela 1129216825366065152 Twitter API returned a 404 (Not Found), No status found with that ID.\n"
     ]
    },
    {
     "data": {
      "application/vnd.jupyter.widget-view+json": {
       "model_id": "",
       "version_major": 2,
       "version_minor": 0
      },
      "text/plain": [
       "HBox(children=(IntProgress(value=0, max=12), HTML(value='')))"
      ]
     },
     "metadata": {},
     "output_type": "display_data"
    },
    {
     "data": {
      "application/vnd.jupyter.widget-view+json": {
       "model_id": "",
       "version_major": 2,
       "version_minor": 0
      },
      "text/plain": [
       "HBox(children=(IntProgress(value=0, max=15), HTML(value='')))"
      ]
     },
     "metadata": {},
     "output_type": "display_data"
    },
    {
     "data": {
      "application/vnd.jupyter.widget-view+json": {
       "model_id": "",
       "version_major": 2,
       "version_minor": 0
      },
      "text/plain": [
       "HBox(children=(IntProgress(value=0, max=42), HTML(value='')))"
      ]
     },
     "metadata": {},
     "output_type": "display_data"
    },
    {
     "name": "stdout",
     "output_type": "stream",
     "text": [
      "marcjacobs 1098363896266518529 Twitter API returned a 404 (Not Found), No status found with that ID.\n",
      "marcjacobs 1098853682303520769 Twitter API returned a 404 (Not Found), No status found with that ID.\n",
      "marcjacobs 1098368616083251201 Twitter API returned a 404 (Not Found), No status found with that ID.\n",
      "marcjacobs 1098832190480166913 Twitter API returned a 404 (Not Found), No status found with that ID.\n",
      "marcjacobs 1098169828173537280 Twitter API returned a 404 (Not Found), No status found with that ID.\n",
      "marcjacobs 1098816926099288069 Twitter API returned a 404 (Not Found), No status found with that ID.\n"
     ]
    },
    {
     "data": {
      "application/vnd.jupyter.widget-view+json": {
       "model_id": "",
       "version_major": 2,
       "version_minor": 0
      },
      "text/plain": [
       "HBox(children=(IntProgress(value=0, max=5), HTML(value='')))"
      ]
     },
     "metadata": {},
     "output_type": "display_data"
    },
    {
     "data": {
      "application/vnd.jupyter.widget-view+json": {
       "model_id": "",
       "version_major": 2,
       "version_minor": 0
      },
      "text/plain": [
       "HBox(children=(IntProgress(value=0, max=2), HTML(value='')))"
      ]
     },
     "metadata": {},
     "output_type": "display_data"
    },
    {
     "data": {
      "application/vnd.jupyter.widget-view+json": {
       "model_id": "",
       "version_major": 2,
       "version_minor": 0
      },
      "text/plain": [
       "HBox(children=(IntProgress(value=0, max=5), HTML(value='')))"
      ]
     },
     "metadata": {},
     "output_type": "display_data"
    },
    {
     "data": {
      "application/vnd.jupyter.widget-view+json": {
       "model_id": "",
       "version_major": 2,
       "version_minor": 0
      },
      "text/plain": [
       "HBox(children=(IntProgress(value=0, max=11), HTML(value='')))"
      ]
     },
     "metadata": {},
     "output_type": "display_data"
    },
    {
     "data": {
      "application/vnd.jupyter.widget-view+json": {
       "model_id": "",
       "version_major": 2,
       "version_minor": 0
      },
      "text/plain": [
       "HBox(children=(IntProgress(value=0, max=29), HTML(value='')))"
      ]
     },
     "metadata": {},
     "output_type": "display_data"
    },
    {
     "data": {
      "application/vnd.jupyter.widget-view+json": {
       "model_id": "",
       "version_major": 2,
       "version_minor": 0
      },
      "text/plain": [
       "HBox(children=(IntProgress(value=0, max=3), HTML(value='')))"
      ]
     },
     "metadata": {},
     "output_type": "display_data"
    },
    {
     "data": {
      "application/vnd.jupyter.widget-view+json": {
       "model_id": "",
       "version_major": 2,
       "version_minor": 0
      },
      "text/plain": [
       "HBox(children=(IntProgress(value=0, max=3), HTML(value='')))"
      ]
     },
     "metadata": {},
     "output_type": "display_data"
    },
    {
     "data": {
      "application/vnd.jupyter.widget-view+json": {
       "model_id": "",
       "version_major": 2,
       "version_minor": 0
      },
      "text/plain": [
       "HBox(children=(IntProgress(value=0, max=55), HTML(value='')))"
      ]
     },
     "metadata": {},
     "output_type": "display_data"
    },
    {
     "data": {
      "application/vnd.jupyter.widget-view+json": {
       "model_id": "",
       "version_major": 2,
       "version_minor": 0
      },
      "text/plain": [
       "HBox(children=(IntProgress(value=0, max=58), HTML(value='')))"
      ]
     },
     "metadata": {},
     "output_type": "display_data"
    },
    {
     "data": {
      "application/vnd.jupyter.widget-view+json": {
       "model_id": "",
       "version_major": 2,
       "version_minor": 0
      },
      "text/plain": [
       "HBox(children=(IntProgress(value=0, max=27), HTML(value='')))"
      ]
     },
     "metadata": {},
     "output_type": "display_data"
    },
    {
     "data": {
      "application/vnd.jupyter.widget-view+json": {
       "model_id": "",
       "version_major": 2,
       "version_minor": 0
      },
      "text/plain": [
       "HBox(children=(IntProgress(value=0, max=1), HTML(value='')))"
      ]
     },
     "metadata": {},
     "output_type": "display_data"
    },
    {
     "data": {
      "application/vnd.jupyter.widget-view+json": {
       "model_id": "",
       "version_major": 2,
       "version_minor": 0
      },
      "text/plain": [
       "HBox(children=(IntProgress(value=0, max=43), HTML(value='')))"
      ]
     },
     "metadata": {},
     "output_type": "display_data"
    },
    {
     "name": "stdout",
     "output_type": "stream",
     "text": [
      "miumiu 1139764346781720576 Twitter API returned a 403 (Forbidden), Sorry, you are not authorized to see this status.\n",
      "miumiu 1098554083219140608 Twitter API returned a 404 (Not Found), No status found with that ID.\n"
     ]
    },
    {
     "data": {
      "application/vnd.jupyter.widget-view+json": {
       "model_id": "",
       "version_major": 2,
       "version_minor": 0
      },
      "text/plain": [
       "HBox(children=(IntProgress(value=0, max=12), HTML(value='')))"
      ]
     },
     "metadata": {},
     "output_type": "display_data"
    },
    {
     "data": {
      "application/vnd.jupyter.widget-view+json": {
       "model_id": "",
       "version_major": 2,
       "version_minor": 0
      },
      "text/plain": [
       "HBox(children=(IntProgress(value=0, max=3), HTML(value='')))"
      ]
     },
     "metadata": {},
     "output_type": "display_data"
    },
    {
     "data": {
      "application/vnd.jupyter.widget-view+json": {
       "model_id": "",
       "version_major": 2,
       "version_minor": 0
      },
      "text/plain": [
       "HBox(children=(IntProgress(value=0, max=274), HTML(value='')))"
      ]
     },
     "metadata": {},
     "output_type": "display_data"
    },
    {
     "data": {
      "application/vnd.jupyter.widget-view+json": {
       "model_id": "",
       "version_major": 2,
       "version_minor": 0
      },
      "text/plain": [
       "HBox(children=(IntProgress(value=0, max=17), HTML(value='')))"
      ]
     },
     "metadata": {},
     "output_type": "display_data"
    },
    {
     "data": {
      "application/vnd.jupyter.widget-view+json": {
       "model_id": "",
       "version_major": 2,
       "version_minor": 0
      },
      "text/plain": [
       "HBox(children=(IntProgress(value=0, max=91), HTML(value='')))"
      ]
     },
     "metadata": {},
     "output_type": "display_data"
    },
    {
     "name": "stdout",
     "output_type": "stream",
     "text": [
      "montblanc 1098826412096516096 Twitter API returned a 404 (Not Found), No status found with that ID.\n"
     ]
    },
    {
     "data": {
      "application/vnd.jupyter.widget-view+json": {
       "model_id": "",
       "version_major": 2,
       "version_minor": 0
      },
      "text/plain": [
       "HBox(children=(IntProgress(value=0, max=28), HTML(value='')))"
      ]
     },
     "metadata": {},
     "output_type": "display_data"
    },
    {
     "data": {
      "application/vnd.jupyter.widget-view+json": {
       "model_id": "",
       "version_major": 2,
       "version_minor": 0
      },
      "text/plain": [
       "HBox(children=(IntProgress(value=0, max=113), HTML(value='')))"
      ]
     },
     "metadata": {},
     "output_type": "display_data"
    },
    {
     "name": "stdout",
     "output_type": "stream",
     "text": [
      "muji 1080774033723973633 Twitter API returned a 403 (Forbidden), Sorry, you are not authorized to see this status.\n",
      "muji 1105642727427866624 Twitter API returned a 429 (Too Many Requests), Rate limit exceeded\n",
      "muji 1105642727427866624 Twitter API returned a 429 (Too Many Requests), Rate limit exceeded\n",
      "muji 1105642727427866624 Twitter API returned a 429 (Too Many Requests), Rate limit exceeded\n",
      "muji 1105642727427866624 Twitter API returned a 429 (Too Many Requests), Rate limit exceeded\n"
     ]
    },
    {
     "data": {
      "application/vnd.jupyter.widget-view+json": {
       "model_id": "",
       "version_major": 2,
       "version_minor": 0
      },
      "text/plain": [
       "HBox(children=(IntProgress(value=0, max=6), HTML(value='')))"
      ]
     },
     "metadata": {},
     "output_type": "display_data"
    },
    {
     "data": {
      "application/vnd.jupyter.widget-view+json": {
       "model_id": "",
       "version_major": 2,
       "version_minor": 0
      },
      "text/plain": [
       "HBox(children=(IntProgress(value=0, max=1), HTML(value='')))"
      ]
     },
     "metadata": {},
     "output_type": "display_data"
    },
    {
     "data": {
      "application/vnd.jupyter.widget-view+json": {
       "model_id": "",
       "version_major": 2,
       "version_minor": 0
      },
      "text/plain": [
       "HBox(children=(IntProgress(value=0, max=2), HTML(value='')))"
      ]
     },
     "metadata": {},
     "output_type": "display_data"
    },
    {
     "data": {
      "application/vnd.jupyter.widget-view+json": {
       "model_id": "",
       "version_major": 2,
       "version_minor": 0
      },
      "text/plain": [
       "HBox(children=(IntProgress(value=0, max=28), HTML(value='')))"
      ]
     },
     "metadata": {},
     "output_type": "display_data"
    },
    {
     "data": {
      "application/vnd.jupyter.widget-view+json": {
       "model_id": "",
       "version_major": 2,
       "version_minor": 0
      },
      "text/plain": [
       "HBox(children=(IntProgress(value=0, max=15), HTML(value='')))"
      ]
     },
     "metadata": {},
     "output_type": "display_data"
    },
    {
     "data": {
      "application/vnd.jupyter.widget-view+json": {
       "model_id": "",
       "version_major": 2,
       "version_minor": 0
      },
      "text/plain": [
       "HBox(children=(IntProgress(value=0, max=51), HTML(value='')))"
      ]
     },
     "metadata": {},
     "output_type": "display_data"
    },
    {
     "name": "stdout",
     "output_type": "stream",
     "text": [
      "nepa 1123813374373052417 Twitter API returned a 404 (Not Found), No status found with that ID.\n"
     ]
    },
    {
     "data": {
      "application/vnd.jupyter.widget-view+json": {
       "model_id": "",
       "version_major": 2,
       "version_minor": 0
      },
      "text/plain": [
       "HBox(children=(IntProgress(value=0, max=195), HTML(value='')))"
      ]
     },
     "metadata": {},
     "output_type": "display_data"
    },
    {
     "name": "stdout",
     "output_type": "stream",
     "text": [
      "nerdy 1141322238085353478 Twitter API returned a 404 (Not Found), No status found with that ID.\n",
      "nerdy 1081358133971144704 Twitter API returned a 403 (Forbidden), Sorry, you are not authorized to see this status.\n",
      "nerdy 1141341937733009409 Twitter API returned a 404 (Not Found), No status found with that ID.\n",
      "nerdy 1080699744660279296 Twitter API returned a 403 (Forbidden), Sorry, you are not authorized to see this status.\n",
      "nerdy 1098574057014849536 Twitter API returned a 403 (Forbidden), Sorry, you are not authorized to see this status.\n",
      "nerdy 1082134600460058624 Twitter API returned a 403 (Forbidden), Sorry, you are not authorized to see this status.\n"
     ]
    },
    {
     "data": {
      "application/vnd.jupyter.widget-view+json": {
       "model_id": "",
       "version_major": 2,
       "version_minor": 0
      },
      "text/plain": [
       "HBox(children=(IntProgress(value=0, max=233), HTML(value='')))"
      ]
     },
     "metadata": {},
     "output_type": "display_data"
    },
    {
     "name": "stdout",
     "output_type": "stream",
     "text": [
      "newbalance 1139912400893726720 Twitter API returned a 404 (Not Found), Sorry, that page does not exist.\n",
      "newbalance 1098184003553656832 Twitter API returned a 404 (Not Found), No status found with that ID.\n"
     ]
    },
    {
     "data": {
      "application/vnd.jupyter.widget-view+json": {
       "model_id": "",
       "version_major": 2,
       "version_minor": 0
      },
      "text/plain": [
       "HBox(children=(IntProgress(value=0, max=55), HTML(value='')))"
      ]
     },
     "metadata": {},
     "output_type": "display_data"
    },
    {
     "data": {
      "application/vnd.jupyter.widget-view+json": {
       "model_id": "",
       "version_major": 2,
       "version_minor": 0
      },
      "text/plain": [
       "HBox(children=(IntProgress(value=0, max=1391), HTML(value='')))"
      ]
     },
     "metadata": {},
     "output_type": "display_data"
    },
    {
     "name": "stdout",
     "output_type": "stream",
     "text": [
      "nike 1081103672577159168 Twitter API returned a 404 (Not Found), No status found with that ID.\n",
      "nike 1098723922973929472 Twitter API returned a 404 (Not Found), No status found with that ID.\n",
      "nike 1140078425450807297 Twitter API returned a 403 (Forbidden), User has been suspended.\n",
      "nike 1098058646640939008 Twitter API returned a 404 (Not Found), No status found with that ID.\n",
      "nike 1098730101036933120 Twitter API returned a 404 (Not Found), No status found with that ID.\n",
      "nike 1090993582578720768 Twitter API returned a 429 (Too Many Requests), Rate limit exceeded\n",
      "nike 1090993582578720768 Twitter API returned a 429 (Too Many Requests), Rate limit exceeded\n",
      "nike 1090993582578720768 Twitter API returned a 429 (Too Many Requests), Rate limit exceeded\n",
      "nike 1090993582578720768 Twitter API returned a 429 (Too Many Requests), Rate limit exceeded\n",
      "nike 1140077524250005506 Twitter API returned a 403 (Forbidden), User has been suspended.\n",
      "nike 1120103685671964673 Twitter API returned a 404 (Not Found), No status found with that ID.\n",
      "nike 1098165675736981504 Twitter API returned a 404 (Not Found), No status found with that ID.\n",
      "nike 1098731535908237313 Twitter API returned a 404 (Not Found), No status found with that ID.\n",
      "nike 1104629311569575936 Twitter API returned a 403 (Forbidden), User has been suspended.\n",
      "nike 1098816926099288069 Twitter API returned a 404 (Not Found), No status found with that ID.\n",
      "nike 1137337555068657664 Twitter API returned a 404 (Not Found), No status found with that ID.\n",
      "nike 1095590378386817024 Twitter API returned a 429 (Too Many Requests), Rate limit exceeded\n",
      "nike 1095590378386817024 Twitter API returned a 429 (Too Many Requests), Rate limit exceeded\n",
      "nike 1095590378386817024 Twitter API returned a 429 (Too Many Requests), Rate limit exceeded\n",
      "nike 1095590378386817024 Twitter API returned a 429 (Too Many Requests), Rate limit exceeded\n",
      "nike 1098223831414534146 Twitter API returned a 404 (Not Found), No status found with that ID.\n"
     ]
    },
    {
     "data": {
      "application/vnd.jupyter.widget-view+json": {
       "model_id": "",
       "version_major": 2,
       "version_minor": 0
      },
      "text/plain": [
       "HBox(children=(IntProgress(value=0, max=101), HTML(value='')))"
      ]
     },
     "metadata": {},
     "output_type": "display_data"
    },
    {
     "name": "stdout",
     "output_type": "stream",
     "text": [
      "noah 1129158754388201472 Twitter API returned a 404 (Not Found), No status found with that ID.\n",
      "noah 1101558084541939712 Twitter API returned a 404 (Not Found), Sorry, that page does not exist.\n"
     ]
    },
    {
     "data": {
      "application/vnd.jupyter.widget-view+json": {
       "model_id": "",
       "version_major": 2,
       "version_minor": 0
      },
      "text/plain": [
       "HBox(children=(IntProgress(value=0, max=14), HTML(value='')))"
      ]
     },
     "metadata": {},
     "output_type": "display_data"
    },
    {
     "data": {
      "application/vnd.jupyter.widget-view+json": {
       "model_id": "",
       "version_major": 2,
       "version_minor": 0
      },
      "text/plain": [
       "HBox(children=(IntProgress(value=0, max=19), HTML(value='')))"
      ]
     },
     "metadata": {},
     "output_type": "display_data"
    },
    {
     "data": {
      "application/vnd.jupyter.widget-view+json": {
       "model_id": "",
       "version_major": 2,
       "version_minor": 0
      },
      "text/plain": [
       "HBox(children=(IntProgress(value=0, max=1), HTML(value='')))"
      ]
     },
     "metadata": {},
     "output_type": "display_data"
    },
    {
     "data": {
      "application/vnd.jupyter.widget-view+json": {
       "model_id": "",
       "version_major": 2,
       "version_minor": 0
      },
      "text/plain": [
       "HBox(children=(IntProgress(value=0, max=161), HTML(value='')))"
      ]
     },
     "metadata": {},
     "output_type": "display_data"
    },
    {
     "name": "stdout",
     "output_type": "stream",
     "text": [
      "offwhite 1131880201422401536 Twitter API returned a 404 (Not Found), No status found with that ID.\n",
      "offwhite 1081103672577159168 Twitter API returned a 404 (Not Found), No status found with that ID.\n",
      "offwhite 1131889109906051073 Twitter API returned a 404 (Not Found), No status found with that ID.\n",
      "offwhite 1131888995539931137 Twitter API returned a 404 (Not Found), No status found with that ID.\n",
      "offwhite 1131881272228188160 Twitter API returned a 404 (Not Found), No status found with that ID.\n",
      "offwhite 1131889055031894017 Twitter API returned a 404 (Not Found), No status found with that ID.\n",
      "offwhite 1131879707673186305 Twitter API returned a 404 (Not Found), No status found with that ID.\n"
     ]
    },
    {
     "data": {
      "application/vnd.jupyter.widget-view+json": {
       "model_id": "",
       "version_major": 2,
       "version_minor": 0
      },
      "text/plain": [
       "HBox(children=(IntProgress(value=0, max=45), HTML(value='')))"
      ]
     },
     "metadata": {},
     "output_type": "display_data"
    },
    {
     "data": {
      "application/vnd.jupyter.widget-view+json": {
       "model_id": "",
       "version_major": 2,
       "version_minor": 0
      },
      "text/plain": [
       "HBox(children=(IntProgress(value=0, max=5), HTML(value='')))"
      ]
     },
     "metadata": {},
     "output_type": "display_data"
    },
    {
     "data": {
      "application/vnd.jupyter.widget-view+json": {
       "model_id": "",
       "version_major": 2,
       "version_minor": 0
      },
      "text/plain": [
       "HBox(children=(IntProgress(value=0, max=17), HTML(value='')))"
      ]
     },
     "metadata": {},
     "output_type": "display_data"
    },
    {
     "data": {
      "application/vnd.jupyter.widget-view+json": {
       "model_id": "",
       "version_major": 2,
       "version_minor": 0
      },
      "text/plain": [
       "HBox(children=(IntProgress(value=0, max=2), HTML(value='')))"
      ]
     },
     "metadata": {},
     "output_type": "display_data"
    },
    {
     "data": {
      "application/vnd.jupyter.widget-view+json": {
       "model_id": "",
       "version_major": 2,
       "version_minor": 0
      },
      "text/plain": [
       "HBox(children=(IntProgress(value=0, max=28), HTML(value='')))"
      ]
     },
     "metadata": {},
     "output_type": "display_data"
    },
    {
     "data": {
      "application/vnd.jupyter.widget-view+json": {
       "model_id": "",
       "version_major": 2,
       "version_minor": 0
      },
      "text/plain": [
       "HBox(children=(IntProgress(value=0, max=42), HTML(value='')))"
      ]
     },
     "metadata": {},
     "output_type": "display_data"
    },
    {
     "data": {
      "application/vnd.jupyter.widget-view+json": {
       "model_id": "",
       "version_major": 2,
       "version_minor": 0
      },
      "text/plain": [
       "HBox(children=(IntProgress(value=0, max=37), HTML(value='')))"
      ]
     },
     "metadata": {},
     "output_type": "display_data"
    },
    {
     "data": {
      "application/vnd.jupyter.widget-view+json": {
       "model_id": "",
       "version_major": 2,
       "version_minor": 0
      },
      "text/plain": [
       "HBox(children=(IntProgress(value=0, max=24), HTML(value='')))"
      ]
     },
     "metadata": {},
     "output_type": "display_data"
    },
    {
     "data": {
      "application/vnd.jupyter.widget-view+json": {
       "model_id": "",
       "version_major": 2,
       "version_minor": 0
      },
      "text/plain": [
       "HBox(children=(IntProgress(value=0, max=74), HTML(value='')))"
      ]
     },
     "metadata": {},
     "output_type": "display_data"
    },
    {
     "name": "stdout",
     "output_type": "stream",
     "text": [
      "paulsmith 1136210310585434112 Twitter API returned a 404 (Not Found), No status found with that ID.\n",
      "paulsmith 1136207006820290560 Twitter API returned a 404 (Not Found), No status found with that ID.\n",
      "paulsmith 1136207787434733568 Twitter API returned a 404 (Not Found), No status found with that ID.\n",
      "paulsmith 1136211782987464704 Twitter API returned a 404 (Not Found), No status found with that ID.\n",
      "paulsmith 1136212353664503808 Twitter API returned a 404 (Not Found), No status found with that ID.\n",
      "paulsmith 1136206459933298688 Twitter API returned a 404 (Not Found), No status found with that ID.\n",
      "paulsmith 1136207522358894596 Twitter API returned a 404 (Not Found), No status found with that ID.\n",
      "paulsmith 1136211042726318080 Twitter API returned a 404 (Not Found), No status found with that ID.\n"
     ]
    },
    {
     "data": {
      "application/vnd.jupyter.widget-view+json": {
       "model_id": "",
       "version_major": 2,
       "version_minor": 0
      },
      "text/plain": [
       "HBox(children=(IntProgress(value=0, max=151), HTML(value='')))"
      ]
     },
     "metadata": {},
     "output_type": "display_data"
    },
    {
     "name": "stdout",
     "output_type": "stream",
     "text": [
      "peaceminusone 1121379882691223553 Twitter API returned a 404 (Not Found), No status found with that ID.\n",
      "peaceminusone 1117724560877469696 Twitter API returned a 429 (Too Many Requests), Rate limit exceeded\n",
      "peaceminusone 1117724560877469696 Twitter API returned a 429 (Too Many Requests), Rate limit exceeded\n",
      "peaceminusone 1117724560877469696 Twitter API returned a 429 (Too Many Requests), Rate limit exceeded\n",
      "peaceminusone 1117724560877469696 Twitter API returned a 429 (Too Many Requests), Rate limit exceeded\n"
     ]
    },
    {
     "data": {
      "application/vnd.jupyter.widget-view+json": {
       "model_id": "",
       "version_major": 2,
       "version_minor": 0
      },
      "text/plain": [
       "HBox(children=(IntProgress(value=0, max=13), HTML(value='')))"
      ]
     },
     "metadata": {},
     "output_type": "display_data"
    },
    {
     "data": {
      "application/vnd.jupyter.widget-view+json": {
       "model_id": "",
       "version_major": 2,
       "version_minor": 0
      },
      "text/plain": [
       "HBox(children=(IntProgress(value=0, max=34), HTML(value='')))"
      ]
     },
     "metadata": {},
     "output_type": "display_data"
    },
    {
     "data": {
      "application/vnd.jupyter.widget-view+json": {
       "model_id": "",
       "version_major": 2,
       "version_minor": 0
      },
      "text/plain": [
       "HBox(children=(IntProgress(value=0, max=5), HTML(value='')))"
      ]
     },
     "metadata": {},
     "output_type": "display_data"
    },
    {
     "data": {
      "application/vnd.jupyter.widget-view+json": {
       "model_id": "",
       "version_major": 2,
       "version_minor": 0
      },
      "text/plain": [
       "HBox(children=(IntProgress(value=0, max=68), HTML(value='')))"
      ]
     },
     "metadata": {},
     "output_type": "display_data"
    },
    {
     "data": {
      "application/vnd.jupyter.widget-view+json": {
       "model_id": "",
       "version_major": 2,
       "version_minor": 0
      },
      "text/plain": [
       "HBox(children=(IntProgress(value=0, max=11), HTML(value='')))"
      ]
     },
     "metadata": {},
     "output_type": "display_data"
    },
    {
     "data": {
      "application/vnd.jupyter.widget-view+json": {
       "model_id": "",
       "version_major": 2,
       "version_minor": 0
      },
      "text/plain": [
       "HBox(children=(IntProgress(value=0, max=221), HTML(value='')))"
      ]
     },
     "metadata": {},
     "output_type": "display_data"
    },
    {
     "name": "stdout",
     "output_type": "stream",
     "text": [
      "prada 1115964694618157057 Twitter API returned a 403 (Forbidden), Sorry, you are not authorized to see this status.\n"
     ]
    },
    {
     "data": {
      "application/vnd.jupyter.widget-view+json": {
       "model_id": "",
       "version_major": 2,
       "version_minor": 0
      },
      "text/plain": [
       "HBox(children=(IntProgress(value=0, max=50), HTML(value='')))"
      ]
     },
     "metadata": {},
     "output_type": "display_data"
    },
    {
     "data": {
      "application/vnd.jupyter.widget-view+json": {
       "model_id": "",
       "version_major": 2,
       "version_minor": 0
      },
      "text/plain": [
       "HBox(children=(IntProgress(value=0, max=282), HTML(value='')))"
      ]
     },
     "metadata": {},
     "output_type": "display_data"
    },
    {
     "data": {
      "application/vnd.jupyter.widget-view+json": {
       "model_id": "",
       "version_major": 2,
       "version_minor": 0
      },
      "text/plain": [
       "HBox(children=(IntProgress(value=0, max=7), HTML(value='')))"
      ]
     },
     "metadata": {},
     "output_type": "display_data"
    },
    {
     "data": {
      "application/vnd.jupyter.widget-view+json": {
       "model_id": "",
       "version_major": 2,
       "version_minor": 0
      },
      "text/plain": [
       "HBox(children=(IntProgress(value=0, max=1), HTML(value='')))"
      ]
     },
     "metadata": {},
     "output_type": "display_data"
    },
    {
     "data": {
      "application/vnd.jupyter.widget-view+json": {
       "model_id": "",
       "version_major": 2,
       "version_minor": 0
      },
      "text/plain": [
       "HBox(children=(IntProgress(value=0, max=5), HTML(value='')))"
      ]
     },
     "metadata": {},
     "output_type": "display_data"
    },
    {
     "data": {
      "application/vnd.jupyter.widget-view+json": {
       "model_id": "",
       "version_major": 2,
       "version_minor": 0
      },
      "text/plain": [
       "HBox(children=(IntProgress(value=0, max=449), HTML(value='')))"
      ]
     },
     "metadata": {},
     "output_type": "display_data"
    },
    {
     "name": "stdout",
     "output_type": "stream",
     "text": [
      "readymade 1096047430783533057 Twitter API returned a 403 (Forbidden), Sorry, you are not authorized to see this status.\n",
      "readymade 1099622273684668418 Twitter API returned a 403 (Forbidden), Sorry, you are not authorized to see this status.\n",
      "readymade 1114781606399492096 Twitter API returned a 404 (Not Found), No status found with that ID.\n",
      "readymade 1113389047450263552 Twitter API returned a 404 (Not Found), No status found with that ID.\n",
      "readymade 1096045950336815105 Twitter API returned a 403 (Forbidden), Sorry, you are not authorized to see this status.\n",
      "readymade 1099636734537523201 Twitter API returned a 403 (Forbidden), Sorry, you are not authorized to see this status.\n",
      "readymade 1107658455962120192 Twitter API returned a 429 (Too Many Requests), Rate limit exceeded\n",
      "readymade 1107658455962120192 Twitter API returned a 429 (Too Many Requests), Rate limit exceeded\n",
      "readymade 1107658455962120192 Twitter API returned a 429 (Too Many Requests), Rate limit exceeded\n",
      "readymade 1107658455962120192 Twitter API returned a 429 (Too Many Requests), Rate limit exceeded\n",
      "readymade 1096749598490554374 Twitter API returned a 403 (Forbidden), Sorry, you are not authorized to see this status.\n",
      "readymade 1106831570181083136 Twitter API returned a 404 (Not Found), No status found with that ID.\n",
      "readymade 1113414414554660865 Twitter API returned a 404 (Not Found), No status found with that ID.\n",
      "readymade 1105826156694200323 Twitter API returned a 404 (Not Found), No status found with that ID.\n",
      "readymade 1112208328644415490 Twitter API returned a 403 (Forbidden), Sorry, you are not authorized to see this status.\n",
      "readymade 1096047659406614529 Twitter API returned a 403 (Forbidden), Sorry, you are not authorized to see this status.\n",
      "readymade 1113057220499988480 Twitter API returned a 404 (Not Found), No status found with that ID.\n",
      "readymade 1096045271933280257 Twitter API returned a 403 (Forbidden), Sorry, you are not authorized to see this status.\n",
      "readymade 1096045440942800897 Twitter API returned a 403 (Forbidden), Sorry, you are not authorized to see this status.\n",
      "readymade 1096047230824341504 Twitter API returned a 403 (Forbidden), Sorry, you are not authorized to see this status.\n",
      "readymade 1113404851520569344 Twitter API returned a 404 (Not Found), No status found with that ID.\n",
      "readymade 1096046184118898688 Twitter API returned a 403 (Forbidden), Sorry, you are not authorized to see this status.\n",
      "readymade 1096690800203689984 Twitter API returned a 403 (Forbidden), Sorry, you are not authorized to see this status.\n",
      "readymade 1115220512001519616 Twitter API returned a 404 (Not Found), No status found with that ID.\n",
      "readymade 1115592535882125312 Twitter API returned a 404 (Not Found), No status found with that ID.\n",
      "readymade 1096044913299382273 Twitter API returned a 403 (Forbidden), Sorry, you are not authorized to see this status.\n",
      "readymade 1105764474508709889 Twitter API returned a 404 (Not Found), No status found with that ID.\n",
      "readymade 1114819970641190913 Twitter API returned a 404 (Not Found), No status found with that ID.\n"
     ]
    },
    {
     "data": {
      "application/vnd.jupyter.widget-view+json": {
       "model_id": "",
       "version_major": 2,
       "version_minor": 0
      },
      "text/plain": [
       "HBox(children=(IntProgress(value=0, max=192), HTML(value='')))"
      ]
     },
     "metadata": {},
     "output_type": "display_data"
    },
    {
     "name": "stdout",
     "output_type": "stream",
     "text": [
      "reebok 1098741036942209024 Twitter API returned a 404 (Not Found), No status found with that ID.\n",
      "reebok 1132150297885675520 Twitter API returned a 404 (Not Found), Sorry, that page does not exist.\n",
      "reebok 1097808944402026499 Twitter API returned a 404 (Not Found), No status found with that ID.\n"
     ]
    },
    {
     "data": {
      "application/vnd.jupyter.widget-view+json": {
       "model_id": "",
       "version_major": 2,
       "version_minor": 0
      },
      "text/plain": [
       "HBox(children=(IntProgress(value=0, max=4), HTML(value='')))"
      ]
     },
     "metadata": {},
     "output_type": "display_data"
    },
    {
     "data": {
      "application/vnd.jupyter.widget-view+json": {
       "model_id": "",
       "version_major": 2,
       "version_minor": 0
      },
      "text/plain": [
       "HBox(children=(IntProgress(value=0, max=5), HTML(value='')))"
      ]
     },
     "metadata": {},
     "output_type": "display_data"
    },
    {
     "data": {
      "application/vnd.jupyter.widget-view+json": {
       "model_id": "",
       "version_major": 2,
       "version_minor": 0
      },
      "text/plain": [
       "HBox(children=(IntProgress(value=0, max=11), HTML(value='')))"
      ]
     },
     "metadata": {},
     "output_type": "display_data"
    },
    {
     "name": "stdout",
     "output_type": "stream",
     "text": [
      "rimowa 1120609451327705088 Twitter API returned a 404 (Not Found), No status found with that ID.\n"
     ]
    },
    {
     "data": {
      "application/vnd.jupyter.widget-view+json": {
       "model_id": "",
       "version_major": 2,
       "version_minor": 0
      },
      "text/plain": [
       "HBox(children=(IntProgress(value=0, max=62), HTML(value='')))"
      ]
     },
     "metadata": {},
     "output_type": "display_data"
    },
    {
     "data": {
      "application/vnd.jupyter.widget-view+json": {
       "model_id": "",
       "version_major": 2,
       "version_minor": 0
      },
      "text/plain": [
       "HBox(children=(IntProgress(value=0, max=118), HTML(value='')))"
      ]
     },
     "metadata": {},
     "output_type": "display_data"
    },
    {
     "data": {
      "application/vnd.jupyter.widget-view+json": {
       "model_id": "",
       "version_major": 2,
       "version_minor": 0
      },
      "text/plain": [
       "HBox(children=(IntProgress(value=0, max=4), HTML(value='')))"
      ]
     },
     "metadata": {},
     "output_type": "display_data"
    },
    {
     "data": {
      "application/vnd.jupyter.widget-view+json": {
       "model_id": "",
       "version_major": 2,
       "version_minor": 0
      },
      "text/plain": [
       "HBox(children=(IntProgress(value=0, max=53), HTML(value='')))"
      ]
     },
     "metadata": {},
     "output_type": "display_data"
    },
    {
     "name": "stdout",
     "output_type": "stream",
     "text": [
      "samsonite 1082553885321945088 Twitter API returned a 403 (Forbidden), User has been suspended.\n"
     ]
    },
    {
     "data": {
      "application/vnd.jupyter.widget-view+json": {
       "model_id": "",
       "version_major": 2,
       "version_minor": 0
      },
      "text/plain": [
       "HBox(children=(IntProgress(value=0, max=10), HTML(value='')))"
      ]
     },
     "metadata": {},
     "output_type": "display_data"
    },
    {
     "data": {
      "application/vnd.jupyter.widget-view+json": {
       "model_id": "",
       "version_major": 2,
       "version_minor": 0
      },
      "text/plain": [
       "HBox(children=(IntProgress(value=0, max=171), HTML(value='')))"
      ]
     },
     "metadata": {},
     "output_type": "display_data"
    },
    {
     "name": "stdout",
     "output_type": "stream",
     "text": [
      "series 1129250339910066176 Twitter API returned a 403 (Forbidden), User has been suspended.\n",
      "series 1113600379961221120 Twitter API returned a 403 (Forbidden), User has been suspended.\n",
      "series 1124444218485817344 Twitter API returned a 429 (Too Many Requests), Rate limit exceeded\n",
      "series 1124444218485817344 Twitter API returned a 429 (Too Many Requests), Rate limit exceeded\n",
      "series 1124444218485817344 Twitter API returned a 429 (Too Many Requests), Rate limit exceeded\n",
      "series 1135093021144305664 Twitter API returned a 404 (Not Found), No status found with that ID.\n",
      "series 1116143039808819207 Twitter API returned a 403 (Forbidden), User has been suspended.\n"
     ]
    },
    {
     "data": {
      "application/vnd.jupyter.widget-view+json": {
       "model_id": "",
       "version_major": 2,
       "version_minor": 0
      },
      "text/plain": [
       "HBox(children=(IntProgress(value=0, max=12), HTML(value='')))"
      ]
     },
     "metadata": {},
     "output_type": "display_data"
    },
    {
     "data": {
      "application/vnd.jupyter.widget-view+json": {
       "model_id": "",
       "version_major": 2,
       "version_minor": 0
      },
      "text/plain": [
       "HBox(children=(IntProgress(value=0, max=19), HTML(value='')))"
      ]
     },
     "metadata": {},
     "output_type": "display_data"
    },
    {
     "data": {
      "application/vnd.jupyter.widget-view+json": {
       "model_id": "",
       "version_major": 2,
       "version_minor": 0
      },
      "text/plain": [
       "HBox(children=(IntProgress(value=0, max=1), HTML(value='')))"
      ]
     },
     "metadata": {},
     "output_type": "display_data"
    },
    {
     "data": {
      "application/vnd.jupyter.widget-view+json": {
       "model_id": "",
       "version_major": 2,
       "version_minor": 0
      },
      "text/plain": [
       "HBox(children=(IntProgress(value=0, max=2), HTML(value='')))"
      ]
     },
     "metadata": {},
     "output_type": "display_data"
    },
    {
     "data": {
      "application/vnd.jupyter.widget-view+json": {
       "model_id": "",
       "version_major": 2,
       "version_minor": 0
      },
      "text/plain": [
       "HBox(children=(IntProgress(value=0, max=87), HTML(value='')))"
      ]
     },
     "metadata": {},
     "output_type": "display_data"
    },
    {
     "data": {
      "application/vnd.jupyter.widget-view+json": {
       "model_id": "",
       "version_major": 2,
       "version_minor": 0
      },
      "text/plain": [
       "HBox(children=(IntProgress(value=0, max=2), HTML(value='')))"
      ]
     },
     "metadata": {},
     "output_type": "display_data"
    },
    {
     "data": {
      "application/vnd.jupyter.widget-view+json": {
       "model_id": "",
       "version_major": 2,
       "version_minor": 0
      },
      "text/plain": [
       "HBox(children=(IntProgress(value=0, max=22), HTML(value='')))"
      ]
     },
     "metadata": {},
     "output_type": "display_data"
    },
    {
     "data": {
      "application/vnd.jupyter.widget-view+json": {
       "model_id": "",
       "version_major": 2,
       "version_minor": 0
      },
      "text/plain": [
       "HBox(children=(IntProgress(value=0, max=19), HTML(value='')))"
      ]
     },
     "metadata": {},
     "output_type": "display_data"
    },
    {
     "data": {
      "application/vnd.jupyter.widget-view+json": {
       "model_id": "",
       "version_major": 2,
       "version_minor": 0
      },
      "text/plain": [
       "HBox(children=(IntProgress(value=0, max=29), HTML(value='')))"
      ]
     },
     "metadata": {},
     "output_type": "display_data"
    },
    {
     "name": "stdout",
     "output_type": "stream",
     "text": [
      "stussy 1097802347810443264 Twitter API returned a 404 (Not Found), No status found with that ID.\n"
     ]
    },
    {
     "data": {
      "application/vnd.jupyter.widget-view+json": {
       "model_id": "",
       "version_major": 2,
       "version_minor": 0
      },
      "text/plain": [
       "HBox(children=(IntProgress(value=0, max=35), HTML(value='')))"
      ]
     },
     "metadata": {},
     "output_type": "display_data"
    },
    {
     "data": {
      "application/vnd.jupyter.widget-view+json": {
       "model_id": "",
       "version_major": 2,
       "version_minor": 0
      },
      "text/plain": [
       "HBox(children=(IntProgress(value=0, max=1), HTML(value='')))"
      ]
     },
     "metadata": {},
     "output_type": "display_data"
    },
    {
     "data": {
      "application/vnd.jupyter.widget-view+json": {
       "model_id": "",
       "version_major": 2,
       "version_minor": 0
      },
      "text/plain": [
       "HBox(children=(IntProgress(value=0, max=11), HTML(value='')))"
      ]
     },
     "metadata": {},
     "output_type": "display_data"
    },
    {
     "name": "stdout",
     "output_type": "stream",
     "text": [
      "superga 1086497758712741890 Twitter API returned a 403 (Forbidden), Sorry, you are not authorized to see this status.\n",
      "superga 1103462389029064704 Twitter API returned a 403 (Forbidden), Sorry, you are not authorized to see this status.\n"
     ]
    },
    {
     "data": {
      "application/vnd.jupyter.widget-view+json": {
       "model_id": "",
       "version_major": 2,
       "version_minor": 0
      },
      "text/plain": [
       "HBox(children=(IntProgress(value=0, max=109), HTML(value='')))"
      ]
     },
     "metadata": {},
     "output_type": "display_data"
    },
    {
     "name": "stdout",
     "output_type": "stream",
     "text": [
      "supreme 1098368976311074817 Twitter API returned a 404 (Not Found), No status found with that ID.\n",
      "supreme 1097097518616174595 Twitter API returned a 404 (Not Found), No status found with that ID.\n",
      "supreme 1098730101036933120 Twitter API returned a 404 (Not Found), No status found with that ID.\n",
      "supreme 1098741036942209024 Twitter API returned a 404 (Not Found), No status found with that ID.\n",
      "supreme 1098856237049864192 Twitter API returned a 404 (Not Found), No status found with that ID.\n",
      "supreme 1097808944402026499 Twitter API returned a 404 (Not Found), No status found with that ID.\n",
      "supreme 1098846487025311745 Twitter API returned a 404 (Not Found), No status found with that ID.\n",
      "supreme 1098167625224318977 Twitter API returned a 404 (Not Found), No status found with that ID.\n",
      "supreme 1098166960401969152 Twitter API returned a 404 (Not Found), No status found with that ID.\n",
      "supreme 1098166391473991681 Twitter API returned a 404 (Not Found), No status found with that ID.\n",
      "supreme 1097802347810443264 Twitter API returned a 404 (Not Found), No status found with that ID.\n",
      "supreme 1098560464957501440 Twitter API returned a 404 (Not Found), No status found with that ID.\n",
      "supreme 1098738605810315264 Twitter API returned a 404 (Not Found), No status found with that ID.\n",
      "supreme 1098830537731432448 Twitter API returned a 404 (Not Found), No status found with that ID.\n"
     ]
    },
    {
     "data": {
      "application/vnd.jupyter.widget-view+json": {
       "model_id": "",
       "version_major": 2,
       "version_minor": 0
      },
      "text/plain": [
       "HBox(children=(IntProgress(value=0, max=1600), HTML(value='')))"
      ]
     },
     "metadata": {},
     "output_type": "display_data"
    },
    {
     "name": "stdout",
     "output_type": "stream",
     "text": [
      "system 1134706584523665408 Twitter API returned a 403 (Forbidden), Sorry, you are not authorized to see this status.\n",
      "system 1130825706831671296 Twitter API returned a 429 (Too Many Requests), Rate limit exceeded\n",
      "system 1130825706831671296 Twitter API returned a 429 (Too Many Requests), Rate limit exceeded\n",
      "system 1130825706831671296 Twitter API returned a 429 (Too Many Requests), Rate limit exceeded\n",
      "system 1130825706831671296 Twitter API returned a 429 (Too Many Requests), Rate limit exceeded\n",
      "system 1134706441619615744 Twitter API returned a 403 (Forbidden), Sorry, you are not authorized to see this status.\n",
      "system 1114676762724536320 Twitter API returned a 429 (Too Many Requests), Rate limit exceeded\n",
      "system 1114676762724536320 Twitter API returned a 429 (Too Many Requests), Rate limit exceeded\n",
      "system 1114676762724536320 Twitter API returned a 429 (Too Many Requests), Rate limit exceeded\n",
      "system 1114676762724536320 Twitter API returned a 429 (Too Many Requests), Rate limit exceeded\n",
      "system 1134706790476607489 Twitter API returned a 403 (Forbidden), Sorry, you are not authorized to see this status.\n"
     ]
    },
    {
     "data": {
      "application/vnd.jupyter.widget-view+json": {
       "model_id": "",
       "version_major": 2,
       "version_minor": 0
      },
      "text/plain": [
       "HBox(children=(IntProgress(value=0, max=27), HTML(value='')))"
      ]
     },
     "metadata": {},
     "output_type": "display_data"
    },
    {
     "data": {
      "application/vnd.jupyter.widget-view+json": {
       "model_id": "",
       "version_major": 2,
       "version_minor": 0
      },
      "text/plain": [
       "HBox(children=(IntProgress(value=0, max=2), HTML(value='')))"
      ]
     },
     "metadata": {},
     "output_type": "display_data"
    },
    {
     "data": {
      "application/vnd.jupyter.widget-view+json": {
       "model_id": "",
       "version_major": 2,
       "version_minor": 0
      },
      "text/plain": [
       "HBox(children=(IntProgress(value=0, max=59), HTML(value='')))"
      ]
     },
     "metadata": {},
     "output_type": "display_data"
    },
    {
     "name": "stdout",
     "output_type": "stream",
     "text": [
      "thenorthface 1098224772515655680 Twitter API returned a 404 (Not Found), No status found with that ID.\n"
     ]
    },
    {
     "data": {
      "application/vnd.jupyter.widget-view+json": {
       "model_id": "",
       "version_major": 2,
       "version_minor": 0
      },
      "text/plain": [
       "HBox(children=(IntProgress(value=0, max=17), HTML(value='')))"
      ]
     },
     "metadata": {},
     "output_type": "display_data"
    },
    {
     "data": {
      "application/vnd.jupyter.widget-view+json": {
       "model_id": "",
       "version_major": 2,
       "version_minor": 0
      },
      "text/plain": [
       "HBox(children=(IntProgress(value=0, max=5), HTML(value='')))"
      ]
     },
     "metadata": {},
     "output_type": "display_data"
    },
    {
     "data": {
      "application/vnd.jupyter.widget-view+json": {
       "model_id": "",
       "version_major": 2,
       "version_minor": 0
      },
      "text/plain": [
       "HBox(children=(IntProgress(value=0, max=97), HTML(value='')))"
      ]
     },
     "metadata": {},
     "output_type": "display_data"
    },
    {
     "data": {
      "application/vnd.jupyter.widget-view+json": {
       "model_id": "",
       "version_major": 2,
       "version_minor": 0
      },
      "text/plain": [
       "HBox(children=(IntProgress(value=0, max=1), HTML(value='')))"
      ]
     },
     "metadata": {},
     "output_type": "display_data"
    },
    {
     "data": {
      "application/vnd.jupyter.widget-view+json": {
       "model_id": "",
       "version_major": 2,
       "version_minor": 0
      },
      "text/plain": [
       "HBox(children=(IntProgress(value=0, max=2), HTML(value='')))"
      ]
     },
     "metadata": {},
     "output_type": "display_data"
    },
    {
     "data": {
      "application/vnd.jupyter.widget-view+json": {
       "model_id": "",
       "version_major": 2,
       "version_minor": 0
      },
      "text/plain": [
       "HBox(children=(IntProgress(value=0, max=109), HTML(value='')))"
      ]
     },
     "metadata": {},
     "output_type": "display_data"
    },
    {
     "data": {
      "application/vnd.jupyter.widget-view+json": {
       "model_id": "",
       "version_major": 2,
       "version_minor": 0
      },
      "text/plain": [
       "HBox(children=(IntProgress(value=0, max=85), HTML(value='')))"
      ]
     },
     "metadata": {},
     "output_type": "display_data"
    },
    {
     "name": "stdout",
     "output_type": "stream",
     "text": [
      "tods 1131525497806942208 Twitter API returned a 404 (Not Found), No status found with that ID.\n",
      "tods 1131526831100686339 Twitter API returned a 404 (Not Found), No status found with that ID.\n",
      "tods 1131525902460805122 Twitter API returned a 404 (Not Found), No status found with that ID.\n",
      "tods 1131524667729072130 Twitter API returned a 404 (Not Found), No status found with that ID.\n",
      "tods 1131525077831340033 Twitter API returned a 404 (Not Found), No status found with that ID.\n"
     ]
    },
    {
     "data": {
      "application/vnd.jupyter.widget-view+json": {
       "model_id": "",
       "version_major": 2,
       "version_minor": 0
      },
      "text/plain": [
       "HBox(children=(IntProgress(value=0, max=14), HTML(value='')))"
      ]
     },
     "metadata": {},
     "output_type": "display_data"
    },
    {
     "data": {
      "application/vnd.jupyter.widget-view+json": {
       "model_id": "",
       "version_major": 2,
       "version_minor": 0
      },
      "text/plain": [
       "HBox(children=(IntProgress(value=0, max=23), HTML(value='')))"
      ]
     },
     "metadata": {},
     "output_type": "display_data"
    },
    {
     "data": {
      "application/vnd.jupyter.widget-view+json": {
       "model_id": "",
       "version_major": 2,
       "version_minor": 0
      },
      "text/plain": [
       "HBox(children=(IntProgress(value=0, max=356), HTML(value='')))"
      ]
     },
     "metadata": {},
     "output_type": "display_data"
    },
    {
     "name": "stdout",
     "output_type": "stream",
     "text": [
      "tommyhilfiger 1111576662767034368 Twitter API returned a 403 (Forbidden), Sorry, you are not authorized to see this status.\n",
      "tommyhilfiger 1112611058060009472 Twitter API returned a 403 (Forbidden), Sorry, you are not authorized to see this status.\n",
      "tommyhilfiger 1109376830656659456 Twitter API returned a 403 (Forbidden), Sorry, you are not authorized to see this status.\n",
      "tommyhilfiger 1112379621729845248 Twitter API returned a 403 (Forbidden), Sorry, you are not authorized to see this status.\n",
      "tommyhilfiger 1122033435613253632 Twitter API returned a 403 (Forbidden), Sorry, you are not authorized to see this status.\n",
      "tommyhilfiger 1115148690329677824 Twitter API returned a 403 (Forbidden), Sorry, you are not authorized to see this status.\n",
      "tommyhilfiger 1122033439337787392 Twitter API returned a 403 (Forbidden), Sorry, you are not authorized to see this status.\n",
      "tommyhilfiger 1110159984715853829 Twitter API returned a 403 (Forbidden), Sorry, you are not authorized to see this status.\n",
      "tommyhilfiger 1110898321093218306 Twitter API returned a 403 (Forbidden), Sorry, you are not authorized to see this status.\n",
      "tommyhilfiger 1112625461463601152 Twitter API returned a 403 (Forbidden), Sorry, you are not authorized to see this status.\n",
      "tommyhilfiger 1109404937946058752 Twitter API returned a 403 (Forbidden), Sorry, you are not authorized to see this status.\n",
      "tommyhilfiger 1111576666579628032 Twitter API returned a 403 (Forbidden), Sorry, you are not authorized to see this status.\n",
      "tommyhilfiger 1112625463267082241 Twitter API returned a 403 (Forbidden), Sorry, you are not authorized to see this status.\n",
      "tommyhilfiger 1102027776385642499 Twitter API returned a 429 (Too Many Requests), Rate limit exceeded\n",
      "tommyhilfiger 1102027776385642499 Twitter API returned a 429 (Too Many Requests), Rate limit exceeded\n",
      "tommyhilfiger 1102027776385642499 Twitter API returned a 429 (Too Many Requests), Rate limit exceeded\n",
      "tommyhilfiger 1102027776385642499 Twitter API returned a 429 (Too Many Requests), Rate limit exceeded\n",
      "tommyhilfiger 1111576664755064833 Twitter API returned a 403 (Forbidden), Sorry, you are not authorized to see this status.\n",
      "tommyhilfiger 1101951120535019520 Twitter API returned a 403 (Forbidden), User has been suspended.\n",
      "tommyhilfiger 1113252538449518592 Twitter API returned a 403 (Forbidden), Sorry, you are not authorized to see this status.\n",
      "tommyhilfiger 1124313479370948608 Twitter API returned a 403 (Forbidden), Sorry, you are not authorized to see this status.\n",
      "tommyhilfiger 1113252536742481921 Twitter API returned a 403 (Forbidden), Sorry, you are not authorized to see this status.\n"
     ]
    },
    {
     "data": {
      "application/vnd.jupyter.widget-view+json": {
       "model_id": "",
       "version_major": 2,
       "version_minor": 0
      },
      "text/plain": [
       "HBox(children=(IntProgress(value=0, max=8661), HTML(value='')))"
      ]
     },
     "metadata": {},
     "output_type": "display_data"
    },
    {
     "name": "stdout",
     "output_type": "stream",
     "text": [
      "tomsshoes 1108681224090902529 Twitter API returned a 429 (Too Many Requests), Rate limit exceeded\n",
      "tomsshoes 1108681224090902529 Twitter API returned a 429 (Too Many Requests), Rate limit exceeded\n",
      "tomsshoes 1108681224090902529 Twitter API returned a 429 (Too Many Requests), Rate limit exceeded\n",
      "tomsshoes 1108681224090902529 Twitter API returned a 429 (Too Many Requests), Rate limit exceeded\n",
      "tomsshoes 1104393509694406657 Twitter API returned a 429 (Too Many Requests), Rate limit exceeded\n",
      "tomsshoes 1104393509694406657 Twitter API returned a 429 (Too Many Requests), Rate limit exceeded\n",
      "tomsshoes 1104393509694406657 Twitter API returned a 429 (Too Many Requests), Rate limit exceeded\n",
      "tomsshoes 1104393509694406657 Twitter API returned a 429 (Too Many Requests), Rate limit exceeded\n",
      "tomsshoes 1128755995935526912 Twitter API returned a 429 (Too Many Requests), Rate limit exceeded\n",
      "tomsshoes 1128755995935526912 Twitter API returned a 429 (Too Many Requests), Rate limit exceeded\n",
      "tomsshoes 1128755995935526912 Twitter API returned a 429 (Too Many Requests), Rate limit exceeded\n",
      "tomsshoes 1128755995935526912 Twitter API returned a 429 (Too Many Requests), Rate limit exceeded\n",
      "tomsshoes 1084627736331616256 Twitter API returned a 429 (Too Many Requests), Rate limit exceeded\n",
      "tomsshoes 1084627736331616256 Twitter API returned a 429 (Too Many Requests), Rate limit exceeded\n",
      "tomsshoes 1084627736331616256 Twitter API returned a 429 (Too Many Requests), Rate limit exceeded\n",
      "tomsshoes 1084627736331616256 Twitter API returned a 429 (Too Many Requests), Rate limit exceeded\n",
      "tomsshoes 1137506152768348160 Twitter API returned a 429 (Too Many Requests), Rate limit exceeded\n",
      "tomsshoes 1137506152768348160 Twitter API returned a 429 (Too Many Requests), Rate limit exceeded\n",
      "tomsshoes 1137506152768348160 Twitter API returned a 429 (Too Many Requests), Rate limit exceeded\n",
      "tomsshoes 1137506152768348160 Twitter API returned a 429 (Too Many Requests), Rate limit exceeded\n",
      "tomsshoes 1089996141263908864 Twitter API returned a 429 (Too Many Requests), Rate limit exceeded\n",
      "tomsshoes 1089996141263908864 Twitter API returned a 429 (Too Many Requests), Rate limit exceeded\n",
      "tomsshoes 1089996141263908864 Twitter API returned a 429 (Too Many Requests), Rate limit exceeded\n",
      "tomsshoes 1089996141263908864 Twitter API returned a 429 (Too Many Requests), Rate limit exceeded\n",
      "tomsshoes 1125532802953273344 Twitter API returned a 429 (Too Many Requests), Rate limit exceeded\n",
      "tomsshoes 1125532802953273344 Twitter API returned a 429 (Too Many Requests), Rate limit exceeded\n",
      "tomsshoes 1125532802953273344 Twitter API returned a 429 (Too Many Requests), Rate limit exceeded\n",
      "tomsshoes 1125532802953273344 Twitter API returned a 429 (Too Many Requests), Rate limit exceeded\n",
      "tomsshoes 1090320779298787328 Twitter API returned a 429 (Too Many Requests), Rate limit exceeded\n",
      "tomsshoes 1090320779298787328 Twitter API returned a 429 (Too Many Requests), Rate limit exceeded\n",
      "tomsshoes 1090320779298787328 Twitter API returned a 429 (Too Many Requests), Rate limit exceeded\n",
      "tomsshoes 1101207514727632896 Twitter API returned a 429 (Too Many Requests), Rate limit exceeded\n",
      "tomsshoes 1101207514727632896 Twitter API returned a 429 (Too Many Requests), Rate limit exceeded\n",
      "tomsshoes 1101207514727632896 Twitter API returned a 429 (Too Many Requests), Rate limit exceeded\n",
      "tomsshoes 1101207514727632896 Twitter API returned a 429 (Too Many Requests), Rate limit exceeded\n"
     ]
    },
    {
     "data": {
      "application/vnd.jupyter.widget-view+json": {
       "model_id": "",
       "version_major": 2,
       "version_minor": 0
      },
      "text/plain": [
       "HBox(children=(IntProgress(value=0, max=23), HTML(value='')))"
      ]
     },
     "metadata": {},
     "output_type": "display_data"
    },
    {
     "name": "stdout",
     "output_type": "stream",
     "text": [
      "topten 1138767698970652672 Twitter API returned a 404 (Not Found), No status found with that ID.\n"
     ]
    },
    {
     "data": {
      "application/vnd.jupyter.widget-view+json": {
       "model_id": "",
       "version_major": 2,
       "version_minor": 0
      },
      "text/plain": [
       "HBox(children=(IntProgress(value=0, max=9), HTML(value='')))"
      ]
     },
     "metadata": {},
     "output_type": "display_data"
    },
    {
     "data": {
      "application/vnd.jupyter.widget-view+json": {
       "model_id": "",
       "version_major": 2,
       "version_minor": 0
      },
      "text/plain": [
       "HBox(children=(IntProgress(value=0, max=8), HTML(value='')))"
      ]
     },
     "metadata": {},
     "output_type": "display_data"
    },
    {
     "data": {
      "application/vnd.jupyter.widget-view+json": {
       "model_id": "",
       "version_major": 2,
       "version_minor": 0
      },
      "text/plain": [
       "HBox(children=(IntProgress(value=0, max=6), HTML(value='')))"
      ]
     },
     "metadata": {},
     "output_type": "display_data"
    },
    {
     "data": {
      "application/vnd.jupyter.widget-view+json": {
       "model_id": "",
       "version_major": 2,
       "version_minor": 0
      },
      "text/plain": [
       "HBox(children=(IntProgress(value=0, max=28), HTML(value='')))"
      ]
     },
     "metadata": {},
     "output_type": "display_data"
    },
    {
     "data": {
      "application/vnd.jupyter.widget-view+json": {
       "model_id": "",
       "version_major": 2,
       "version_minor": 0
      },
      "text/plain": [
       "HBox(children=(IntProgress(value=0, max=2), HTML(value='')))"
      ]
     },
     "metadata": {},
     "output_type": "display_data"
    },
    {
     "data": {
      "application/vnd.jupyter.widget-view+json": {
       "model_id": "",
       "version_major": 2,
       "version_minor": 0
      },
      "text/plain": [
       "HBox(children=(IntProgress(value=0, max=34), HTML(value='')))"
      ]
     },
     "metadata": {},
     "output_type": "display_data"
    },
    {
     "name": "stdout",
     "output_type": "stream",
     "text": [
      "underarmour 1090136065891958784 Twitter API returned a 403 (Forbidden), Sorry, you are not authorized to see this status.\n"
     ]
    },
    {
     "data": {
      "application/vnd.jupyter.widget-view+json": {
       "model_id": "",
       "version_major": 2,
       "version_minor": 0
      },
      "text/plain": [
       "HBox(children=(IntProgress(value=0, max=1529), HTML(value='')))"
      ]
     },
     "metadata": {},
     "output_type": "display_data"
    },
    {
     "name": "stdout",
     "output_type": "stream",
     "text": [
      "undercover 1123138788220231680 Twitter API returned a 404 (Not Found), No status found with that ID.\n",
      "undercover 1122153976542031872 Twitter API returned a 404 (Not Found), No status found with that ID.\n",
      "undercover 1132531699613462533 Twitter API returned a 429 (Too Many Requests), Rate limit exceeded\n",
      "undercover 1132531699613462533 Twitter API returned a 429 (Too Many Requests), Rate limit exceeded\n",
      "undercover 1132531699613462533 Twitter API returned a 429 (Too Many Requests), Rate limit exceeded\n",
      "undercover 1132531699613462533 Twitter API returned a 429 (Too Many Requests), Rate limit exceeded\n",
      "undercover 1125345687900573697 Twitter API returned a 404 (Not Found), No status found with that ID.\n",
      "undercover 1124318207932715008 Twitter API returned a 404 (Not Found), No status found with that ID.\n",
      "undercover 1125347570450980864 Twitter API returned a 404 (Not Found), No status found with that ID.\n",
      "undercover 1138385124607660032 Twitter API returned a 404 (Not Found), No status found with that ID.\n",
      "undercover 1125347724637786112 Twitter API returned a 404 (Not Found), No status found with that ID.\n",
      "undercover 1123252537623080960 Twitter API returned a 404 (Not Found), No status found with that ID.\n",
      "undercover 1125345937298034688 Twitter API returned a 404 (Not Found), No status found with that ID.\n",
      "undercover 1141349903584698368 Twitter API returned a 403 (Forbidden), User has been suspended.\n",
      "undercover 1124318316447686657 Twitter API returned a 404 (Not Found), No status found with that ID.\n",
      "undercover 1130059966826422272 Twitter API returned a 404 (Not Found), No status found with that ID.\n",
      "undercover 1125288383649964032 Twitter API returned a 404 (Not Found), No status found with that ID.\n",
      "undercover 1125299836394172418 Twitter API returned a 404 (Not Found), No status found with that ID.\n",
      "undercover 1125345793144020994 Twitter API returned a 404 (Not Found), No status found with that ID.\n",
      "undercover 1125299908100014080 Twitter API returned a 404 (Not Found), No status found with that ID.\n",
      "undercover 1140851949346021376 Twitter API returned a 404 (Not Found), No status found with that ID.\n",
      "undercover 1084110794147618818 Twitter API returned a 403 (Forbidden), Sorry, you are not authorized to see this status.\n",
      "undercover 1123252274380197893 Twitter API returned a 404 (Not Found), No status found with that ID.\n",
      "undercover 1125385766534696968 Twitter API returned a 404 (Not Found), No status found with that ID.\n",
      "undercover 1133008378232369154 Twitter API returned a 404 (Not Found), No status found with that ID.\n",
      "undercover 1123124920483901440 Twitter API returned a 404 (Not Found), No status found with that ID.\n",
      "undercover 1133010120793657344 Twitter API returned a 404 (Not Found), No status found with that ID.\n",
      "undercover 1141350194690383872 Twitter API returned a 403 (Forbidden), User has been suspended.\n",
      "undercover 1136739310319935489 Twitter API returned a 429 (Too Many Requests), Rate limit exceeded\n",
      "undercover 1136739310319935489 Twitter API returned a 429 (Too Many Requests), Rate limit exceeded\n",
      "undercover 1136739310319935489 Twitter API returned a 429 (Too Many Requests), Rate limit exceeded\n",
      "undercover 1136739310319935489 Twitter API returned a 429 (Too Many Requests), Rate limit exceeded\n",
      "undercover 1098169828173537280 Twitter API returned a 404 (Not Found), No status found with that ID.\n",
      "undercover 1125301076725358592 Twitter API returned a 404 (Not Found), No status found with that ID.\n",
      "undercover 1125345890183421952 Twitter API returned a 404 (Not Found), No status found with that ID.\n",
      "undercover 1125347687497207808 Twitter API returned a 404 (Not Found), No status found with that ID.\n",
      "undercover 1125256952953466881 Twitter API returned a 404 (Not Found), No status found with that ID.\n",
      "undercover 1125351265909628928 Twitter API returned a 404 (Not Found), No status found with that ID.\n"
     ]
    },
    {
     "data": {
      "application/vnd.jupyter.widget-view+json": {
       "model_id": "",
       "version_major": 2,
       "version_minor": 0
      },
      "text/plain": [
       "HBox(children=(IntProgress(value=0, max=301), HTML(value='')))"
      ]
     },
     "metadata": {},
     "output_type": "display_data"
    },
    {
     "name": "stdout",
     "output_type": "stream",
     "text": [
      "uniqlo 1098730101036933120 Twitter API returned a 404 (Not Found), No status found with that ID.\n",
      "uniqlo 1106125713810358272 Twitter API returned a 403 (Forbidden), Sorry, you are not authorized to see this status.\n",
      "uniqlo 1098223831414534146 Twitter API returned a 404 (Not Found), No status found with that ID.\n",
      "uniqlo 1132902119172739072 Twitter API returned a 403 (Forbidden), Sorry, you are not authorized to see this status.\n",
      "uniqlo 1130785624774963202 Twitter API returned a 404 (Not Found), No status found with that ID.\n",
      "uniqlo 1106124461751914497 Twitter API returned a 403 (Forbidden), Sorry, you are not authorized to see this status.\n",
      "uniqlo 1106124460162199558 Twitter API returned a 403 (Forbidden), Sorry, you are not authorized to see this status.\n",
      "uniqlo 1106123638619729920 Twitter API returned a 403 (Forbidden), Sorry, you are not authorized to see this status.\n",
      "uniqlo 1106124977252823040 Twitter API returned a 403 (Forbidden), Sorry, you are not authorized to see this status.\n",
      "uniqlo 1134239621083123712 Twitter API returned a 404 (Not Found), No status found with that ID.\n",
      "uniqlo 1106124979341590528 Twitter API returned a 403 (Forbidden), Sorry, you are not authorized to see this status.\n",
      "uniqlo 1130740930334474240 Twitter API returned a 403 (Forbidden), Sorry, you are not authorized to see this status.\n"
     ]
    },
    {
     "data": {
      "application/vnd.jupyter.widget-view+json": {
       "model_id": "",
       "version_major": 2,
       "version_minor": 0
      },
      "text/plain": [
       "HBox(children=(IntProgress(value=0, max=10), HTML(value='')))"
      ]
     },
     "metadata": {},
     "output_type": "display_data"
    },
    {
     "data": {
      "application/vnd.jupyter.widget-view+json": {
       "model_id": "",
       "version_major": 2,
       "version_minor": 0
      },
      "text/plain": [
       "HBox(children=(IntProgress(value=0, max=204), HTML(value='')))"
      ]
     },
     "metadata": {},
     "output_type": "display_data"
    },
    {
     "name": "stdout",
     "output_type": "stream",
     "text": [
      "valentino 1104195060067790849 Twitter API returned a 403 (Forbidden), Sorry, you are not authorized to see this status.\n",
      "valentino 1112618882034855937 Twitter API returned a 403 (Forbidden), Sorry, you are not authorized to see this status.\n",
      "valentino 1090516934855139328 Twitter API returned a 429 (Too Many Requests), Rate limit exceeded\n",
      "valentino 1090516934855139328 Twitter API returned a 429 (Too Many Requests), Rate limit exceeded\n",
      "valentino 1090516934855139328 Twitter API returned a 429 (Too Many Requests), Rate limit exceeded\n",
      "valentino 1090516934855139328 Twitter API returned a 429 (Too Many Requests), Rate limit exceeded\n",
      "valentino 1106062778748432384 Twitter API returned a 403 (Forbidden), User has been suspended.\n",
      "valentino 1106063251345829889 Twitter API returned a 403 (Forbidden), User has been suspended.\n",
      "valentino 1106066184615518208 Twitter API returned a 403 (Forbidden), User has been suspended.\n"
     ]
    },
    {
     "data": {
      "application/vnd.jupyter.widget-view+json": {
       "model_id": "",
       "version_major": 2,
       "version_minor": 0
      },
      "text/plain": [
       "HBox(children=(IntProgress(value=0, max=173), HTML(value='')))"
      ]
     },
     "metadata": {},
     "output_type": "display_data"
    },
    {
     "name": "stdout",
     "output_type": "stream",
     "text": [
      "vans 1115964097672048640 Twitter API returned a 404 (Not Found), No status found with that ID.\n",
      "vans 1084457760979329024 Twitter API returned a 403 (Forbidden), Sorry, you are not authorized to see this status.\n",
      "vans 1120208499718287360 Twitter API returned a 403 (Forbidden), Sorry, you are not authorized to see this status.\n",
      "vans 1098166960401969152 Twitter API returned a 404 (Not Found), No status found with that ID.\n",
      "vans 1098166391473991681 Twitter API returned a 404 (Not Found), No status found with that ID.\n",
      "vans 1120103685671964673 Twitter API returned a 404 (Not Found), No status found with that ID.\n",
      "vans 1115243600365797376 Twitter API returned a 404 (Not Found), No status found with that ID.\n"
     ]
    },
    {
     "data": {
      "application/vnd.jupyter.widget-view+json": {
       "model_id": "",
       "version_major": 2,
       "version_minor": 0
      },
      "text/plain": [
       "HBox(children=(IntProgress(value=0, max=40), HTML(value='')))"
      ]
     },
     "metadata": {},
     "output_type": "display_data"
    },
    {
     "data": {
      "application/vnd.jupyter.widget-view+json": {
       "model_id": "",
       "version_major": 2,
       "version_minor": 0
      },
      "text/plain": [
       "HBox(children=(IntProgress(value=0, max=6), HTML(value='')))"
      ]
     },
     "metadata": {},
     "output_type": "display_data"
    },
    {
     "data": {
      "application/vnd.jupyter.widget-view+json": {
       "model_id": "",
       "version_major": 2,
       "version_minor": 0
      },
      "text/plain": [
       "HBox(children=(IntProgress(value=0, max=6), HTML(value='')))"
      ]
     },
     "metadata": {},
     "output_type": "display_data"
    },
    {
     "data": {
      "application/vnd.jupyter.widget-view+json": {
       "model_id": "",
       "version_major": 2,
       "version_minor": 0
      },
      "text/plain": [
       "HBox(children=(IntProgress(value=0, max=6), HTML(value='')))"
      ]
     },
     "metadata": {},
     "output_type": "display_data"
    },
    {
     "data": {
      "application/vnd.jupyter.widget-view+json": {
       "model_id": "",
       "version_major": 2,
       "version_minor": 0
      },
      "text/plain": [
       "HBox(children=(IntProgress(value=0, max=17), HTML(value='')))"
      ]
     },
     "metadata": {},
     "output_type": "display_data"
    },
    {
     "data": {
      "application/vnd.jupyter.widget-view+json": {
       "model_id": "",
       "version_major": 2,
       "version_minor": 0
      },
      "text/plain": [
       "HBox(children=(IntProgress(value=0, max=1), HTML(value='')))"
      ]
     },
     "metadata": {},
     "output_type": "display_data"
    },
    {
     "data": {
      "application/vnd.jupyter.widget-view+json": {
       "model_id": "",
       "version_major": 2,
       "version_minor": 0
      },
      "text/plain": [
       "HBox(children=(IntProgress(value=0, max=73), HTML(value='')))"
      ]
     },
     "metadata": {},
     "output_type": "display_data"
    },
    {
     "data": {
      "application/vnd.jupyter.widget-view+json": {
       "model_id": "",
       "version_major": 2,
       "version_minor": 0
      },
      "text/plain": [
       "HBox(children=(IntProgress(value=0, max=1), HTML(value='')))"
      ]
     },
     "metadata": {},
     "output_type": "display_data"
    },
    {
     "data": {
      "application/vnd.jupyter.widget-view+json": {
       "model_id": "",
       "version_major": 2,
       "version_minor": 0
      },
      "text/plain": [
       "HBox(children=(IntProgress(value=0, max=1), HTML(value='')))"
      ]
     },
     "metadata": {},
     "output_type": "display_data"
    },
    {
     "data": {
      "application/vnd.jupyter.widget-view+json": {
       "model_id": "",
       "version_major": 2,
       "version_minor": 0
      },
      "text/plain": [
       "HBox(children=(IntProgress(value=0, max=11), HTML(value='')))"
      ]
     },
     "metadata": {},
     "output_type": "display_data"
    },
    {
     "data": {
      "application/vnd.jupyter.widget-view+json": {
       "model_id": "",
       "version_major": 2,
       "version_minor": 0
      },
      "text/plain": [
       "HBox(children=(IntProgress(value=0, max=53), HTML(value='')))"
      ]
     },
     "metadata": {},
     "output_type": "display_data"
    },
    {
     "name": "stdout",
     "output_type": "stream",
     "text": [
      "yeezy 1129285844999725056 Twitter API returned a 403 (Forbidden), Sorry, you are not authorized to see this status.\n"
     ]
    },
    {
     "data": {
      "application/vnd.jupyter.widget-view+json": {
       "model_id": "",
       "version_major": 2,
       "version_minor": 0
      },
      "text/plain": [
       "HBox(children=(IntProgress(value=0, max=5), HTML(value='')))"
      ]
     },
     "metadata": {},
     "output_type": "display_data"
    },
    {
     "data": {
      "application/vnd.jupyter.widget-view+json": {
       "model_id": "",
       "version_major": 2,
       "version_minor": 0
      },
      "text/plain": [
       "HBox(children=(IntProgress(value=0, max=81), HTML(value='')))"
      ]
     },
     "metadata": {},
     "output_type": "display_data"
    },
    {
     "name": "stdout",
     "output_type": "stream",
     "text": [
      "zara 1098727636702965760 Twitter API returned a 404 (Not Found), No status found with that ID.\n",
      "zara 1098730101036933120 Twitter API returned a 404 (Not Found), No status found with that ID.\n",
      "zara 1098169828173537280 Twitter API returned a 404 (Not Found), No status found with that ID.\n",
      "zara 1098369610158530561 Twitter API returned a 404 (Not Found), No status found with that ID.\n",
      "zara 1097805506863804416 Twitter API returned a 404 (Not Found), No status found with that ID.\n"
     ]
    }
   ],
   "source": [
    "CONSUMER_KEY = 'gFeP16lpEBKux4K6GO2LfLEWI'\n",
    "CONSUMER_SECRET = '38yzPyI8vqUqrCV0RLc1ugl8Se1pYA2Nlderk9Rj3DUaE5VTpA'\n",
    "OAUTH_TOKEN = '1085907708413267970-nyk4nvgG9miNTqRmg4jkFnmZfqW254'\n",
    "OAUTH_TOKEN_SECRET = 'ty2TIFFSorxmMKMq0VlqcIWrgqpJqdHBW9z3ye0J4BeL7'\n",
    "twitter = Twython(CONSUMER_KEY, CONSUMER_SECRET, OAUTH_TOKEN, OAUTH_TOKEN_SECRET)\n",
    "\n",
    "feeds = []\n",
    "users = dict()\n",
    "hashtags = set()\n",
    "\n",
    "for bname, ids in tqdm(list(tweet_ids.items())[:]):\n",
    "    for tw_id in tqdm(ids, leave=False):\n",
    "        while True:\n",
    "            try:\n",
    "                tw = twitter.show_status(id=tw_id)\n",
    "                _hashtags = get_hashtags(tw)\n",
    "                _user = get_user(tw)\n",
    "                _feed = get_feed(tw, bname, _hashtags)\n",
    "\n",
    "                hashtags |= _hashtags\n",
    "                users.update(_user)\n",
    "                feeds.append(_feed)\n",
    "\n",
    "            except TwythonRateLimitError as e:\n",
    "                print(bname, tw_id, e)\n",
    "                remainder = float(twitter.get_lastfunction_header(header='x-rate-limit-reset')) - time.time()\n",
    "                remainder = max(0, remainder)\n",
    "                del twitter\n",
    "                time.sleep(remainder)\n",
    "                twitter = Twython(CONSUMER_KEY, CONSUMER_SECRET, OAUTH_TOKEN, OAUTH_TOKEN_SECRET)\n",
    "                continue\n",
    "\n",
    "            except TwythonError as e:\n",
    "                print(bname, tw_id, e)\n",
    "\n",
    "            break"
   ]
  },
  {
   "cell_type": "code",
   "execution_count": 19,
   "metadata": {},
   "outputs": [],
   "source": [
    "users;\n",
    "with open('users.json', 'w') as f:\n",
    "    json.dump(users, f)"
   ]
  },
  {
   "cell_type": "code",
   "execution_count": 27,
   "metadata": {},
   "outputs": [],
   "source": [
    "hashtags;\n",
    "with open('hashtags.json', 'w') as f:\n",
    "    json.dump(list(hashtags), f)"
   ]
  },
  {
   "cell_type": "code",
   "execution_count": 31,
   "metadata": {
    "scrolled": true
   },
   "outputs": [],
   "source": [
    "feeds;\n",
    "with open('feeds.json', 'w') as f:\n",
    "    json.dump(feeds, f)"
   ]
  },
  {
   "cell_type": "code",
   "execution_count": null,
   "metadata": {},
   "outputs": [],
   "source": []
  },
  {
   "cell_type": "code",
   "execution_count": null,
   "metadata": {},
   "outputs": [],
   "source": []
  },
  {
   "cell_type": "markdown",
   "metadata": {},
   "source": [
    "# Profile image 저장하기"
   ]
  },
  {
   "cell_type": "code",
   "execution_count": 24,
   "metadata": {},
   "outputs": [],
   "source": [
    "users = None\n",
    "with open('users.json', encoding='UTF-8-sig') as f:\n",
    "    users = json.load(f)"
   ]
  },
  {
   "cell_type": "code",
   "execution_count": 22,
   "metadata": {},
   "outputs": [
    {
     "data": {
      "application/vnd.jupyter.widget-view+json": {
       "model_id": "a064c207482048acb900456d6a3412fd",
       "version_major": 2,
       "version_minor": 0
      },
      "text/plain": [
       "HBox(children=(IntProgress(value=0, max=8872), HTML(value='')))"
      ]
     },
     "metadata": {},
     "output_type": "display_data"
    },
    {
     "name": "stdout",
     "output_type": "stream",
     "text": [
      "\n"
     ]
    }
   ],
   "source": [
    "for k,v in tqdm(users.items()):\n",
    "    profile_dir = 'uploads/profile_images/' + v['user'] + '@getch.com'\n",
    "    # profile_dir = 'uploads/profile_images/' + str(k)\n",
    "    \n",
    "    if not os.path.isdir(profile_dir):\n",
    "        os.mkdir(profile_dir)\n",
    "    \n",
    "    profile_image = v['profile_image']\n",
    "    fname = profile_dir + '/' + profile_image.split('/')[-1]\n",
    "\n",
    "    if not os.path.isfile(fname):\n",
    "        try:\n",
    "            img = requests.get(profile_image).content\n",
    "            with open(fname, 'wb') as f:\n",
    "                f.write(img)\n",
    "        except:\n",
    "            print(v['user'])"
   ]
  },
  {
   "cell_type": "code",
   "execution_count": null,
   "metadata": {},
   "outputs": [],
   "source": []
  },
  {
   "cell_type": "markdown",
   "metadata": {},
   "source": [
    "# Feed image 저장하기"
   ]
  },
  {
   "cell_type": "code",
   "execution_count": 26,
   "metadata": {},
   "outputs": [],
   "source": [
    "feeds = None\n",
    "with open('feeds.json', encoding='UTF-8-sig') as f:\n",
    "    feeds = json.load(f)"
   ]
  },
  {
   "cell_type": "code",
   "execution_count": 29,
   "metadata": {},
   "outputs": [],
   "source": [
    "feeds;"
   ]
  },
  {
   "cell_type": "code",
   "execution_count": 28,
   "metadata": {},
   "outputs": [
    {
     "data": {
      "application/vnd.jupyter.widget-view+json": {
       "model_id": "15a182548ba34221bdeff47e3e5d4a36",
       "version_major": 2,
       "version_minor": 0
      },
      "text/plain": [
       "HBox(children=(IntProgress(value=0, max=46960), HTML(value='')))"
      ]
     },
     "metadata": {},
     "output_type": "display_data"
    },
    {
     "name": "stdout",
     "output_type": "stream",
     "text": [
      "uploads/feed_images/ami/bts_loverone@getch.com/D7Acz_6UcAEwPsd.jpg\n",
      "uploads/feed_images/samsonite/eunhasoocake@getch.com/DxEoQwMU0AAB07p.jpg\n",
      "\n"
     ]
    }
   ],
   "source": [
    "for feed in tqdm(feeds):\n",
    "    if 'feed_image' not in feed:\n",
    "        continue\n",
    "    \n",
    "    feed_image = feed['feed_image']\n",
    "    feed_memb_dir = 'uploads/feed_images/' + feed['membership']\n",
    "\n",
    "    if not os.path.isdir(feed_memb_dir):\n",
    "        os.mkdir(feed_memb_dir)\n",
    "    \n",
    "    feed_memb_author_dir = feed_memb_dir + '/' + feed['author'] + '@getch.com'\n",
    "    \n",
    "    if not os.path.isdir(feed_memb_author_dir):\n",
    "        os.mkdir(feed_memb_author_dir)\n",
    "    \n",
    "    fname = feed_memb_author_dir + '/' + feed_image.split('/')[-1]\n",
    "\n",
    "    if not os.path.isfile(fname):\n",
    "        try:\n",
    "            img = requests.get(feed_image).content\n",
    "            with open(fname, 'wb') as f:\n",
    "                f.write(img)\n",
    "        except:\n",
    "            print(fname)"
   ]
  },
  {
   "cell_type": "code",
   "execution_count": null,
   "metadata": {},
   "outputs": [],
   "source": []
  },
  {
   "cell_type": "code",
   "execution_count": null,
   "metadata": {
    "scrolled": true
   },
   "outputs": [],
   "source": []
  },
  {
   "cell_type": "markdown",
   "metadata": {},
   "source": [
    "# 테스트유저 만들기\n",
    "## 1. Custom user model (email 기반)"
   ]
  },
  {
   "cell_type": "code",
   "execution_count": 3,
   "metadata": {},
   "outputs": [],
   "source": [
    "from app.models import CustomEmailUser"
   ]
  },
  {
   "cell_type": "code",
   "execution_count": 4,
   "metadata": {},
   "outputs": [],
   "source": [
    "users = None\n",
    "with open('users.json', encoding='UTF-8-sig') as f:\n",
    "    users = json.load(f)"
   ]
  },
  {
   "cell_type": "code",
   "execution_count": 5,
   "metadata": {},
   "outputs": [],
   "source": [
    "users;"
   ]
  },
  {
   "cell_type": "code",
   "execution_count": 6,
   "metadata": {
    "collapsed": true
   },
   "outputs": [
    {
     "data": {
      "text/plain": [
       "[<CustomEmailUser: DazedKorea@getch.com>,\n",
       " <CustomEmailUser: 8056LpjXNJdgwuj@getch.com>,\n",
       " <CustomEmailUser: musinsacom@getch.com>,\n",
       " <CustomEmailUser: rvd3065@getch.com>,\n",
       " <CustomEmailUser: woodz_golmu@getch.com>,\n",
       " <CustomEmailUser: fashionncom@getch.com>,\n",
       " <CustomEmailUser: Lilith36910318@getch.com>,\n",
       " <CustomEmailUser: SeoulStore_twt@getch.com>,\n",
       " <CustomEmailUser: 4buynsell@getch.com>,\n",
       " <CustomEmailUser: kanghui__@getch.com>,\n",
       " <CustomEmailUser: agonyman@getch.com>,\n",
       " <CustomEmailUser: i_ilyo@getch.com>,\n",
       " <CustomEmailUser: jung_sang_won@getch.com>,\n",
       " <CustomEmailUser: thin_krungy0314@getch.com>,\n",
       " <CustomEmailUser: _feelthat2NE1@getch.com>,\n",
       " <CustomEmailUser: Denny19871207@getch.com>,\n",
       " <CustomEmailUser: yogipower@getch.com>,\n",
       " <CustomEmailUser: DongWoonK@getch.com>,\n",
       " <CustomEmailUser: pat5007@getch.com>,\n",
       " <CustomEmailUser: ZENITH_NEWS@getch.com>,\n",
       " <CustomEmailUser: tommygnosys@getch.com>,\n",
       " <CustomEmailUser: FuxxingFabulous@getch.com>,\n",
       " <CustomEmailUser: stussygo@getch.com>,\n",
       " <CustomEmailUser: CorsoComoSeoul@getch.com>,\n",
       " <CustomEmailUser: MARKO_CMO@getch.com>,\n",
       " <CustomEmailUser: MrRaonKim@getch.com>,\n",
       " <CustomEmailUser: makemesmile2030@getch.com>,\n",
       " <CustomEmailUser: 6_closet@getch.com>,\n",
       " <CustomEmailUser: allthekshop@getch.com>,\n",
       " <CustomEmailUser: mh_wadrobe@getch.com>,\n",
       " <CustomEmailUser: _MasterShoe_@getch.com>,\n",
       " <CustomEmailUser: lolliesstreet@getch.com>,\n",
       " <CustomEmailUser: esteem_now@getch.com>,\n",
       " <CustomEmailUser: JUPSTORY@getch.com>,\n",
       " <CustomEmailUser: IMBOLDN_KR@getch.com>,\n",
       " <CustomEmailUser: LEEHDann@getch.com>,\n",
       " <CustomEmailUser: doubledvv@getch.com>,\n",
       " <CustomEmailUser: Ieechaeeun@getch.com>,\n",
       " <CustomEmailUser: JWTHFC@getch.com>,\n",
       " <CustomEmailUser: duyoungjung@getch.com>,\n",
       " <CustomEmailUser: u__ufxx@getch.com>,\n",
       " <CustomEmailUser: PSMJang@getch.com>,\n",
       " <CustomEmailUser: hnskyz@getch.com>,\n",
       " <CustomEmailUser: aesthetic__sun@getch.com>,\n",
       " <CustomEmailUser: snrkdnfj@getch.com>,\n",
       " <CustomEmailUser: mymoonjunwon@getch.com>,\n",
       " <CustomEmailUser: outomoa@getch.com>,\n",
       " <CustomEmailUser: helloanimals@getch.com>,\n",
       " <CustomEmailUser: altchang@getch.com>,\n",
       " <CustomEmailUser: cleaningmaster3@getch.com>,\n",
       " <CustomEmailUser: cool83031@getch.com>,\n",
       " <CustomEmailUser: JmDH9oYlQfIT989@getch.com>,\n",
       " <CustomEmailUser: mjym19951225@getch.com>,\n",
       " <CustomEmailUser: winnergogosing@getch.com>,\n",
       " <CustomEmailUser: A6xscH2NnjdAiC2@getch.com>,\n",
       " <CustomEmailUser: RUNA_NUNA@getch.com>,\n",
       " <CustomEmailUser: eun_photo_a57@getch.com>,\n",
       " <CustomEmailUser: orekatty2@getch.com>,\n",
       " <CustomEmailUser: kangdanieldaze@getch.com>,\n",
       " <CustomEmailUser: sellittoyou@getch.com>,\n",
       " <CustomEmailUser: ddungbom_mino@getch.com>,\n",
       " <CustomEmailUser: Lily_4_JINU@getch.com>,\n",
       " <CustomEmailUser: lee_s_w_cute@getch.com>,\n",
       " <CustomEmailUser: Foymina@getch.com>,\n",
       " <CustomEmailUser: pinkpandacanada@getch.com>,\n",
       " <CustomEmailUser: ckbroadcast@getch.com>,\n",
       " <CustomEmailUser: topstarnews@getch.com>,\n",
       " <CustomEmailUser: v_jinu_v@getch.com>,\n",
       " <CustomEmailUser: sY09STZgaz7gIbl@getch.com>,\n",
       " <CustomEmailUser: 1996Reel@getch.com>,\n",
       " <CustomEmailUser: 9o_clock3@getch.com>,\n",
       " <CustomEmailUser: Hhhhhhh_1234y@getch.com>,\n",
       " <CustomEmailUser: All_in_winner@getch.com>,\n",
       " <CustomEmailUser: yYtlszlvd8Ym4Fm@getch.com>,\n",
       " <CustomEmailUser: daon3333@getch.com>,\n",
       " <CustomEmailUser: AidenLee862@getch.com>,\n",
       " <CustomEmailUser: Dorothy_SH_@getch.com>,\n",
       " <CustomEmailUser: midasmarin@getch.com>,\n",
       " <CustomEmailUser: st_cherry_pink@getch.com>,\n",
       " <CustomEmailUser: chulhonp@getch.com>,\n",
       " <CustomEmailUser: minjohi@getch.com>,\n",
       " <CustomEmailUser: URmystar_0330@getch.com>,\n",
       " <CustomEmailUser: doyeonac@getch.com>,\n",
       " <CustomEmailUser: Kim_JiSooYG1@getch.com>,\n",
       " <CustomEmailUser: getitk@getch.com>,\n",
       " <CustomEmailUser: 910926JINWOObar@getch.com>,\n",
       " <CustomEmailUser: pyobongbong@getch.com>,\n",
       " <CustomEmailUser: nanpooh78@getch.com>,\n",
       " <CustomEmailUser: jooggul94@getch.com>,\n",
       " <CustomEmailUser: SUN__neeOO@getch.com>,\n",
       " <CustomEmailUser: Apink6sne@getch.com>,\n",
       " <CustomEmailUser: rosuean@getch.com>,\n",
       " <CustomEmailUser: weloveadidas@getch.com>,\n",
       " <CustomEmailUser: gwangjununa@getch.com>,\n",
       " <CustomEmailUser: Rooviyaaa@getch.com>,\n",
       " <CustomEmailUser: Eternal_1229@getch.com>,\n",
       " <CustomEmailUser: around_b6@getch.com>,\n",
       " <CustomEmailUser: hyun8034@getch.com>,\n",
       " <CustomEmailUser: ICARSHOPKOREA@getch.com>,\n",
       " <CustomEmailUser: ham_flea@getch.com>,\n",
       " <CustomEmailUser: 35thanks1@getch.com>,\n",
       " <CustomEmailUser: zzim4989@getch.com>,\n",
       " <CustomEmailUser: fatenumber_4@getch.com>,\n",
       " <CustomEmailUser: hwanghuipapa@getch.com>,\n",
       " <CustomEmailUser: yoonjaecheol@getch.com>,\n",
       " <CustomEmailUser: parkjk22@getch.com>,\n",
       " <CustomEmailUser: BlowFysh@getch.com>,\n",
       " <CustomEmailUser: lazy_momo@getch.com>,\n",
       " <CustomEmailUser: sweetnebula_@getch.com>,\n",
       " <CustomEmailUser: JinhunLee@getch.com>,\n",
       " <CustomEmailUser: luna520_rose@getch.com>,\n",
       " <CustomEmailUser: rose_aree_rosie@getch.com>,\n",
       " <CustomEmailUser: DontFlirtJINWOO@getch.com>,\n",
       " <CustomEmailUser: reelsite06@getch.com>,\n",
       " <CustomEmailUser: hyominidot@getch.com>,\n",
       " <CustomEmailUser: scnnaeun@getch.com>,\n",
       " <CustomEmailUser: songminob@getch.com>,\n",
       " <CustomEmailUser: bona_preorder@getch.com>,\n",
       " <CustomEmailUser: urjendeuk@getch.com>,\n",
       " <CustomEmailUser: 173tong_girl@getch.com>,\n",
       " <CustomEmailUser: rlnaevn@getch.com>,\n",
       " <CustomEmailUser: y8n_michaela@getch.com>,\n",
       " <CustomEmailUser: didehdyd_tkwntp@getch.com>,\n",
       " <CustomEmailUser: jackdaniecl@getch.com>,\n",
       " <CustomEmailUser: apwink@getch.com>,\n",
       " <CustomEmailUser: may_pyohappyBB@getch.com>,\n",
       " <CustomEmailUser: thsehoon@getch.com>,\n",
       " <CustomEmailUser: yangdo109@getch.com>,\n",
       " <CustomEmailUser: honeyddeew@getch.com>,\n",
       " <CustomEmailUser: theeastlightph@getch.com>,\n",
       " <CustomEmailUser: SS_MINO@getch.com>,\n",
       " <CustomEmailUser: 24K_SeokJune@getch.com>,\n",
       " <CustomEmailUser: berryyangyang@getch.com>,\n",
       " <CustomEmailUser: PINKPOP_JW@getch.com>,\n",
       " <CustomEmailUser: winener_cf@getch.com>,\n",
       " <CustomEmailUser: znPDhH0rVIFKe4P@getch.com>,\n",
       " <CustomEmailUser: iamcsd_@getch.com>,\n",
       " <CustomEmailUser: Boogiedogg303@getch.com>,\n",
       " <CustomEmailUser: QuanTaiwanfam@getch.com>,\n",
       " <CustomEmailUser: newsenstar@getch.com>,\n",
       " <CustomEmailUser: steffany9989@getch.com>,\n",
       " <CustomEmailUser: ct_riss@getch.com>,\n",
       " <CustomEmailUser: peopleingm@getch.com>,\n",
       " <CustomEmailUser: lovelyz_Muwmin@getch.com>,\n",
       " <CustomEmailUser: lana_blue1002@getch.com>,\n",
       " <CustomEmailUser: rosearkne@getch.com>,\n",
       " <CustomEmailUser: hanieul@getch.com>,\n",
       " <CustomEmailUser: deuxim01@getch.com>,\n",
       " <CustomEmailUser: ppmmjj123@getch.com>,\n",
       " <CustomEmailUser: furirin_ruby@getch.com>,\n",
       " <CustomEmailUser: noonebut_PSH@getch.com>,\n",
       " <CustomEmailUser: MUSINSATV@getch.com>,\n",
       " <CustomEmailUser: Ala_azul_SUHO@getch.com>,\n",
       " <CustomEmailUser: YongsukHur@getch.com>,\n",
       " <CustomEmailUser: peachonedaniel@getch.com>,\n",
       " <CustomEmailUser: AD08NM0buUQ8Vlg@getch.com>,\n",
       " <CustomEmailUser: CHAEMOGIRI@getch.com>,\n",
       " <CustomEmailUser: CureVintage@getch.com>,\n",
       " <CustomEmailUser: kuzira1go@getch.com>,\n",
       " <CustomEmailUser: wikitree@getch.com>,\n",
       " <CustomEmailUser: Rachel_1021@getch.com>,\n",
       " <CustomEmailUser: jisoovely@getch.com>,\n",
       " <CustomEmailUser: caviadona@getch.com>,\n",
       " <CustomEmailUser: PlayM_Official@getch.com>,\n",
       " <CustomEmailUser: bluebird930330@getch.com>,\n",
       " <CustomEmailUser: notsimple@getch.com>,\n",
       " <CustomEmailUser: SW_Lee98@getch.com>,\n",
       " <CustomEmailUser: OvsDnif1ilGTKKX@getch.com>,\n",
       " <CustomEmailUser: everyday4kksl@getch.com>,\n",
       " <CustomEmailUser: CRpE28rjnNgcX7z@getch.com>,\n",
       " <CustomEmailUser: nhamjoohyuk@getch.com>,\n",
       " <CustomEmailUser: proj2k@getch.com>,\n",
       " <CustomEmailUser: Gettheride@getch.com>,\n",
       " <CustomEmailUser: krmdaon@getch.com>,\n",
       " <CustomEmailUser: dispatchsns@getch.com>,\n",
       " <CustomEmailUser: hjvm17L5EL0QbsD@getch.com>,\n",
       " <CustomEmailUser: Jayden_WKT@getch.com>,\n",
       " <CustomEmailUser: mj_closet_0305@getch.com>,\n",
       " <CustomEmailUser: bts528@getch.com>,\n",
       " <CustomEmailUser: stylenstar@getch.com>,\n",
       " <CustomEmailUser: ab_Apple_box@getch.com>,\n",
       " <CustomEmailUser: USA_INNERCIRCLE@getch.com>,\n",
       " <CustomEmailUser: gwonsoo@getch.com>,\n",
       " <CustomEmailUser: cherish4860@getch.com>,\n",
       " <CustomEmailUser: nicev3@getch.com>,\n",
       " <CustomEmailUser: sooo_pilates@getch.com>,\n",
       " <CustomEmailUser: Y8NsWORLD@getch.com>,\n",
       " <CustomEmailUser: djungwheein@getch.com>,\n",
       " <CustomEmailUser: aepe0619@getch.com>,\n",
       " <CustomEmailUser: hello_hoony@getch.com>,\n",
       " <CustomEmailUser: Maximus62056417@getch.com>,\n",
       " <CustomEmailUser: calmtot@getch.com>,\n",
       " <CustomEmailUser: TheSueKim@getch.com>,\n",
       " <CustomEmailUser: mj8180@getch.com>,\n",
       " <CustomEmailUser: theksy0121@getch.com>,\n",
       " <CustomEmailUser: got7_sell_goods@getch.com>,\n",
       " <CustomEmailUser: prkrojeu@getch.com>,\n",
       " <CustomEmailUser: sonny_cut@getch.com>,\n",
       " <CustomEmailUser: PatatoSweet@getch.com>,\n",
       " <CustomEmailUser: izone_fashion@getch.com>,\n",
       " <CustomEmailUser: mjym951225@getch.com>,\n",
       " <CustomEmailUser: theSTAR_korea@getch.com>,\n",
       " <CustomEmailUser: seekpif@getch.com>,\n",
       " <CustomEmailUser: HyggeJourney@getch.com>,\n",
       " <CustomEmailUser: seochonews@getch.com>,\n",
       " <CustomEmailUser: 09_jun_k@getch.com>,\n",
       " <CustomEmailUser: oxYGen21W@getch.com>,\n",
       " <CustomEmailUser: sh_momo_@getch.com>,\n",
       " <CustomEmailUser: jinuSEAN3000@getch.com>,\n",
       " <CustomEmailUser: _aka_kei@getch.com>,\n",
       " <CustomEmailUser: Funnyshopper@getch.com>,\n",
       " <CustomEmailUser: _merlinbeard_@getch.com>,\n",
       " <CustomEmailUser: thuhao559@getch.com>,\n",
       " <CustomEmailUser: Y9HNbEexaWRbMjT@getch.com>,\n",
       " <CustomEmailUser: rideordiewith@getch.com>,\n",
       " <CustomEmailUser: algae03033@getch.com>,\n",
       " <CustomEmailUser: haonly_@getch.com>,\n",
       " <CustomEmailUser: 1999oh1102@getch.com>,\n",
       " <CustomEmailUser: Huing_may_529@getch.com>,\n",
       " <CustomEmailUser: frvr_blackpink@getch.com>,\n",
       " <CustomEmailUser: mmoentertainmen@getch.com>,\n",
       " <CustomEmailUser: rikako_info_KOR@getch.com>,\n",
       " <CustomEmailUser: S2aurora_4@getch.com>,\n",
       " <CustomEmailUser: Seunghyun10000@getch.com>,\n",
       " <CustomEmailUser: sunghoon105@getch.com>,\n",
       " <CustomEmailUser: phoichan@getch.com>,\n",
       " <CustomEmailUser: GVGSHOP@getch.com>,\n",
       " <CustomEmailUser: heikaku@getch.com>,\n",
       " <CustomEmailUser: w__n_r00@getch.com>,\n",
       " <CustomEmailUser: junghyeri1993@getch.com>,\n",
       " <CustomEmailUser: Ssoys@getch.com>,\n",
       " <CustomEmailUser: reelly6@getch.com>,\n",
       " <CustomEmailUser: jichuuby@getch.com>,\n",
       " <CustomEmailUser: saxmanjang@getch.com>,\n",
       " <CustomEmailUser: tonyjjong@getch.com>,\n",
       " <CustomEmailUser: instiz@getch.com>,\n",
       " <CustomEmailUser: minconghee@getch.com>,\n",
       " <CustomEmailUser: moussyofficial@getch.com>,\n",
       " <CustomEmailUser: adidaskorea@getch.com>,\n",
       " <CustomEmailUser: styleby_rv@getch.com>,\n",
       " <CustomEmailUser: tmaxminchul@getch.com>,\n",
       " <CustomEmailUser: wy8aiwlab7TYK8s@getch.com>,\n",
       " <CustomEmailUser: 5siItDafgZTta4o@getch.com>,\n",
       " <CustomEmailUser: Jeon92717470@getch.com>,\n",
       " <CustomEmailUser: hvZOffK7RUi21Lg@getch.com>,\n",
       " <CustomEmailUser: tk2322@getch.com>,\n",
       " <CustomEmailUser: friendlykevin@getch.com>,\n",
       " <CustomEmailUser: WIMTvtsjkdgX2py@getch.com>,\n",
       " <CustomEmailUser: wonixuk@getch.com>,\n",
       " <CustomEmailUser: faceinmusic@getch.com>,\n",
       " <CustomEmailUser: Canada_Dobie@getch.com>,\n",
       " <CustomEmailUser: GOT7_goods0116@getch.com>,\n",
       " <CustomEmailUser: hyun_jin_0222@getch.com>,\n",
       " <CustomEmailUser: StyleShare_twt@getch.com>,\n",
       " <CustomEmailUser: OwABOzgCP8ZU0hZ@getch.com>,\n",
       " <CustomEmailUser: brandiapp@getch.com>,\n",
       " <CustomEmailUser: j_hs_luv@getch.com>,\n",
       " <CustomEmailUser: wlqkdtl@getch.com>,\n",
       " <CustomEmailUser: rowseparkk@getch.com>,\n",
       " <CustomEmailUser: lovenk1130@getch.com>,\n",
       " <CustomEmailUser: wpistheone@getch.com>,\n",
       " <CustomEmailUser: wngus010404@getch.com>,\n",
       " <CustomEmailUser: s_na114@getch.com>,\n",
       " <CustomEmailUser: rina_Lin99@getch.com>,\n",
       " <CustomEmailUser: TribeP@getch.com>,\n",
       " <CustomEmailUser: 275ichiro@getch.com>,\n",
       " <CustomEmailUser: PULPLE_BML@getch.com>,\n",
       " <CustomEmailUser: libing0226@getch.com>,\n",
       " <CustomEmailUser: linptint@getch.com>,\n",
       " <CustomEmailUser: hKS1tElnoLSRfyk@getch.com>,\n",
       " <CustomEmailUser: FelizWinner@getch.com>,\n",
       " <CustomEmailUser: HOONY_FANCAFE@getch.com>,\n",
       " <CustomEmailUser: 61i4AvXKMFfBQFR@getch.com>,\n",
       " <CustomEmailUser: T_araTH@getch.com>,\n",
       " <CustomEmailUser: 0kunaUeCnFbhx7Y@getch.com>,\n",
       " <CustomEmailUser: MinoWlN@getch.com>,\n",
       " <CustomEmailUser: xxppprrr@getch.com>,\n",
       " <CustomEmailUser: wonkuk09@getch.com>,\n",
       " <CustomEmailUser: Hariboisnice@getch.com>,\n",
       " <CustomEmailUser: YUNAangel132@getch.com>,\n",
       " <CustomEmailUser: musiczhong@getch.com>,\n",
       " <CustomEmailUser: Egong_Schiele@getch.com>,\n",
       " <CustomEmailUser: aminike24@getch.com>,\n",
       " <CustomEmailUser: igykfWayQtOTDNJ@getch.com>,\n",
       " <CustomEmailUser: eeeskyeee@getch.com>,\n",
       " <CustomEmailUser: i16go6YPy9qLo2A@getch.com>,\n",
       " <CustomEmailUser: dindinem@getch.com>,\n",
       " <CustomEmailUser: suouzy@getch.com>,\n",
       " <CustomEmailUser: gmBamCh@getch.com>,\n",
       " <CustomEmailUser: WINNER_holic@getch.com>,\n",
       " <CustomEmailUser: nunbyt@getch.com>,\n",
       " <CustomEmailUser: kkP5W7TeATN4y9A@getch.com>,\n",
       " <CustomEmailUser: maekyungsns@getch.com>,\n",
       " <CustomEmailUser: XCkheSlOLst3eRx@getch.com>,\n",
       " <CustomEmailUser: P9RSMQGs6uUAX1N@getch.com>,\n",
       " <CustomEmailUser: ContactDreamer@getch.com>,\n",
       " <CustomEmailUser: a9j8NyXpViMYJdu@getch.com>,\n",
       " <CustomEmailUser: jebi_167@getch.com>,\n",
       " <CustomEmailUser: jingwen1119@getch.com>,\n",
       " <CustomEmailUser: 2mindc@getch.com>,\n",
       " <CustomEmailUser: JeewonRyu@getch.com>,\n",
       " <CustomEmailUser: berrydx@getch.com>,\n",
       " <CustomEmailUser: chinbat6@getch.com>,\n",
       " <CustomEmailUser: ququ0987@getch.com>,\n",
       " <CustomEmailUser: clonetech_xyz@getch.com>,\n",
       " <CustomEmailUser: WJAB6IX1@getch.com>,\n",
       " <CustomEmailUser: tqern1byIZfFUuE@getch.com>,\n",
       " <CustomEmailUser: A_YAN_kr@getch.com>,\n",
       " <CustomEmailUser: lkymj@getch.com>,\n",
       " <CustomEmailUser: rupiah74@getch.com>,\n",
       " <CustomEmailUser: koosy11041@getch.com>,\n",
       " <CustomEmailUser: JoanaAParkSsi@getch.com>,\n",
       " <CustomEmailUser: YhFx7iXDfIYxcxg@getch.com>,\n",
       " <CustomEmailUser: elluibass@getch.com>,\n",
       " <CustomEmailUser: citywatchescokr@getch.com>,\n",
       " <CustomEmailUser: FREECOMPANiON1@getch.com>,\n",
       " <CustomEmailUser: FUHCA6LBjjdGgre@getch.com>,\n",
       " <CustomEmailUser: WeatherOfWhite@getch.com>,\n",
       " <CustomEmailUser: Bom_love_49@getch.com>,\n",
       " <CustomEmailUser: BCSEUNGYOON94@getch.com>,\n",
       " <CustomEmailUser: YGwinnerPH@getch.com>,\n",
       " <CustomEmailUser: paranjajeonger@getch.com>,\n",
       " <CustomEmailUser: phebruary@getch.com>,\n",
       " <CustomEmailUser: qCcx80EiDMaW3f7@getch.com>,\n",
       " <CustomEmailUser: really_loveme_w@getch.com>,\n",
       " <CustomEmailUser: break_job@getch.com>,\n",
       " <CustomEmailUser: hyggepost@getch.com>,\n",
       " <CustomEmailUser: aruxxi111@getch.com>,\n",
       " <CustomEmailUser: kjizhoo@getch.com>,\n",
       " <CustomEmailUser: alexrhino3@getch.com>,\n",
       " <CustomEmailUser: limmj87@getch.com>,\n",
       " <CustomEmailUser: winx3467@getch.com>,\n",
       " <CustomEmailUser: kimmiri13@getch.com>,\n",
       " <CustomEmailUser: starboyutube@getch.com>,\n",
       " <CustomEmailUser: Rudelulu@getch.com>,\n",
       " <CustomEmailUser: Naivety0210@getch.com>,\n",
       " <CustomEmailUser: nobu__89KSY@getch.com>,\n",
       " <CustomEmailUser: chowaathing@getch.com>,\n",
       " <CustomEmailUser: duku809@getch.com>,\n",
       " <CustomEmailUser: eroinkyung@getch.com>,\n",
       " <CustomEmailUser: SKzUxSEJW4n1ibb@getch.com>,\n",
       " <CustomEmailUser: _jinujinu_@getch.com>,\n",
       " <CustomEmailUser: dKljww5Fx2Z03yY@getch.com>,\n",
       " <CustomEmailUser: fifazz@getch.com>,\n",
       " <CustomEmailUser: ELOQUENCE_2000@getch.com>,\n",
       " <CustomEmailUser: 10kdam@getch.com>,\n",
       " <CustomEmailUser: zinupix@getch.com>,\n",
       " <CustomEmailUser: harrypoplar@getch.com>,\n",
       " <CustomEmailUser: etodaynews@getch.com>,\n",
       " <CustomEmailUser: ynom123@getch.com>,\n",
       " <CustomEmailUser: findpsj@getch.com>,\n",
       " <CustomEmailUser: yuzuade@getch.com>,\n",
       " <CustomEmailUser: zhang_gu@getch.com>,\n",
       " <CustomEmailUser: sophiasin@getch.com>,\n",
       " <CustomEmailUser: Soon2ndbox@getch.com>,\n",
       " <CustomEmailUser: 1mokiss@getch.com>,\n",
       " <CustomEmailUser: yeahyeahv@getch.com>,\n",
       " <CustomEmailUser: Itslilfresh@getch.com>,\n",
       " <CustomEmailUser: dk__1988@getch.com>,\n",
       " <CustomEmailUser: Bg8lGC8f2lpD33L@getch.com>,\n",
       " <CustomEmailUser: Sylu21@getch.com>,\n",
       " <CustomEmailUser: winner4lover@getch.com>,\n",
       " <CustomEmailUser: SagkmXoaQWNUpNs@getch.com>,\n",
       " <CustomEmailUser: dbsduddk13@getch.com>,\n",
       " <CustomEmailUser: smilehninggg_@getch.com>,\n",
       " <CustomEmailUser: epodomall@getch.com>,\n",
       " <CustomEmailUser: c_jaeeun_jp@getch.com>,\n",
       " <CustomEmailUser: MySignValue@getch.com>,\n",
       " <CustomEmailUser: y8n____@getch.com>,\n",
       " <CustomEmailUser: swtlyuv@getch.com>,\n",
       " <CustomEmailUser: inquration@getch.com>,\n",
       " <CustomEmailUser: jeygnteng@getch.com>,\n",
       " <CustomEmailUser: jewnir@getch.com>,\n",
       " <CustomEmailUser: Originals_kr@getch.com>,\n",
       " <CustomEmailUser: kjednni@getch.com>,\n",
       " <CustomEmailUser: nalaliisa_m@getch.com>,\n",
       " <CustomEmailUser: JACKSON_IGOT7ES@getch.com>,\n",
       " <CustomEmailUser: llaalisa@getch.com>,\n",
       " <CustomEmailUser: JungYer21472196@getch.com>,\n",
       " <CustomEmailUser: vacxnila@getch.com>,\n",
       " <CustomEmailUser: suhyah@getch.com>,\n",
       " <CustomEmailUser: ninirubiyjane@getch.com>,\n",
       " <CustomEmailUser: cantiilk@getch.com>,\n",
       " <CustomEmailUser: crysstalfx@getch.com>,\n",
       " <CustomEmailUser: azularubyjane@getch.com>,\n",
       " <CustomEmailUser: V87SQ@getch.com>,\n",
       " <CustomEmailUser: fromahnxxviv@getch.com>,\n",
       " <CustomEmailUser: lalipsa@getch.com>,\n",
       " <CustomEmailUser: laylisac@getch.com>,\n",
       " <CustomEmailUser: naecnz@getch.com>,\n",
       " <CustomEmailUser: ShristyNese@getch.com>,\n",
       " <CustomEmailUser: BlackPinkUY@getch.com>,\n",
       " <CustomEmailUser: ViaGarnett@getch.com>,\n",
       " <CustomEmailUser: nctscrush@getch.com>,\n",
       " <CustomEmailUser: laliceic@getch.com>,\n",
       " <CustomEmailUser: kirnjichuya@getch.com>,\n",
       " <CustomEmailUser: vowdkas@getch.com>,\n",
       " <CustomEmailUser: RedfernDuff@getch.com>,\n",
       " <CustomEmailUser: jennhiep@getch.com>,\n",
       " <CustomEmailUser: dcmino0330@getch.com>,\n",
       " <CustomEmailUser: lalishamyang@getch.com>,\n",
       " <CustomEmailUser: iamceye@getch.com>,\n",
       " <CustomEmailUser: byunbern@getch.com>,\n",
       " <CustomEmailUser: sophyxxc@getch.com>,\n",
       " <CustomEmailUser: kjeunnys@getch.com>,\n",
       " <CustomEmailUser: Katal77@getch.com>,\n",
       " <CustomEmailUser: grey_pearla@getch.com>,\n",
       " <CustomEmailUser: jeneukim@getch.com>,\n",
       " <CustomEmailUser: lalisaxmnbn@getch.com>,\n",
       " <CustomEmailUser: prkchoroung@getch.com>,\n",
       " <CustomEmailUser: sefhunz@getch.com>,\n",
       " <CustomEmailUser: rpekjs@getch.com>,\n",
       " <CustomEmailUser: shmheung975@getch.com>,\n",
       " <CustomEmailUser: FredrickaErti@getch.com>,\n",
       " <CustomEmailUser: rvsseugie@getch.com>,\n",
       " <CustomEmailUser: woxnusvt@getch.com>,\n",
       " <CustomEmailUser: vrcsace@getch.com>,\n",
       " <CustomEmailUser: jeyndeukim@getch.com>,\n",
       " <CustomEmailUser: yedjiz@getch.com>,\n",
       " <CustomEmailUser: SipheloSafet@getch.com>,\n",
       " <CustomEmailUser: hneuIinaf@getch.com>,\n",
       " <CustomEmailUser: jdeniy@getch.com>,\n",
       " <CustomEmailUser: jeennierubyjane@getch.com>,\n",
       " <CustomEmailUser: Tammy_Choi@getch.com>,\n",
       " <CustomEmailUser: giunupup@getch.com>,\n",
       " <CustomEmailUser: arenaon@getch.com>,\n",
       " <CustomEmailUser: memoLoving@getch.com>,\n",
       " <CustomEmailUser: ptmassdol0002@getch.com>,\n",
       " <CustomEmailUser: smilesmile2197@getch.com>,\n",
       " <CustomEmailUser: littlewind97@getch.com>,\n",
       " <CustomEmailUser: rugin01ms001001@getch.com>,\n",
       " <CustomEmailUser: gkstdrbox@getch.com>,\n",
       " <CustomEmailUser: starfull097@getch.com>,\n",
       " <CustomEmailUser: rjwuwnffo99@getch.com>,\n",
       " <CustomEmailUser: smat2ya@getch.com>,\n",
       " <CustomEmailUser: HiHeeeeeee@getch.com>,\n",
       " <CustomEmailUser: Like_syrup@getch.com>,\n",
       " <CustomEmailUser: moonsub_shin@getch.com>,\n",
       " <CustomEmailUser: alcia_merc@getch.com>,\n",
       " <CustomEmailUser: lacarissima@getch.com>,\n",
       " <CustomEmailUser: terwild@getch.com>,\n",
       " <CustomEmailUser: JOY96ON@getch.com>,\n",
       " <CustomEmailUser: haewonchin@getch.com>,\n",
       " <CustomEmailUser: rpbjhs@getch.com>,\n",
       " <CustomEmailUser: hy_ewon@getch.com>,\n",
       " <CustomEmailUser: kimjin22375999@getch.com>,\n",
       " <CustomEmailUser: SMTOWN_SUPPORT@getch.com>,\n",
       " <CustomEmailUser: _vvano@getch.com>,\n",
       " <CustomEmailUser: roses_are_rosej@getch.com>,\n",
       " <CustomEmailUser: S0YJ0YRV@getch.com>,\n",
       " <CustomEmailUser: j0fliiet@getch.com>,\n",
       " <CustomEmailUser: roseance@getch.com>,\n",
       " <CustomEmailUser: shitneyj@getch.com>,\n",
       " <CustomEmailUser: _imyour_jjoyie@getch.com>,\n",
       " <CustomEmailUser: newcloudless@getch.com>,\n",
       " <CustomEmailUser: bucween@getch.com>,\n",
       " <CustomEmailUser: ixyujin@getch.com>,\n",
       " <CustomEmailUser: jheejint@getch.com>,\n",
       " <CustomEmailUser: JOY93BT@getch.com>,\n",
       " <CustomEmailUser: parkjoyieo@getch.com>,\n",
       " <CustomEmailUser: hi_hankyung@getch.com>,\n",
       " <CustomEmailUser: poseidonyu@getch.com>,\n",
       " <CustomEmailUser: joyful0903rv@getch.com>,\n",
       " <CustomEmailUser: anyujeen@getch.com>,\n",
       " <CustomEmailUser: iamkfanboy@getch.com>,\n",
       " <CustomEmailUser: _imyour_joyi@getch.com>,\n",
       " <CustomEmailUser: bingsooyoung@getch.com>,\n",
       " <CustomEmailUser: yoshia79@getch.com>,\n",
       " <CustomEmailUser: akuseulgi@getch.com>,\n",
       " <CustomEmailUser: TYTRUK@getch.com>,\n",
       " <CustomEmailUser: RedVelvetIns@getch.com>,\n",
       " <CustomEmailUser: StylistHyunjung@getch.com>,\n",
       " <CustomEmailUser: itsEunTaeHee@getch.com>,\n",
       " <CustomEmailUser: __imyuor_joy@getch.com>,\n",
       " <CustomEmailUser: 9604953@getch.com>,\n",
       " <CustomEmailUser: softiekisseu@getch.com>,\n",
       " <CustomEmailUser: HyunaTH@getch.com>,\n",
       " <CustomEmailUser: Honey_lin0923@getch.com>,\n",
       " <CustomEmailUser: dreamboylin@getch.com>,\n",
       " <CustomEmailUser: lai_kuanlin923@getch.com>,\n",
       " <CustomEmailUser: laikkuanlxn@getch.com>,\n",
       " <CustomEmailUser: bossloveapple@getch.com>,\n",
       " <CustomEmailUser: cookpark85@getch.com>,\n",
       " <CustomEmailUser: TrAd0209@getch.com>,\n",
       " <CustomEmailUser: bestmyminds@getch.com>,\n",
       " <CustomEmailUser: NFloset@getch.com>,\n",
       " <CustomEmailUser: DongnaehoguNO1@getch.com>,\n",
       " <CustomEmailUser: rpholic3@getch.com>,\n",
       " <CustomEmailUser: JIN_fanaccount_@getch.com>,\n",
       " <CustomEmailUser: btsbtsbts111222@getch.com>,\n",
       " <CustomEmailUser: bbbtttsss_A@getch.com>,\n",
       " <CustomEmailUser: Amy_V_3030@getch.com>,\n",
       " <CustomEmailUser: sadboss007@getch.com>,\n",
       " <CustomEmailUser: Golden_Kook_901@getch.com>,\n",
       " <CustomEmailUser: min_ah974@getch.com>,\n",
       " <CustomEmailUser: a1SSlafnmTXZkJD@getch.com>,\n",
       " <CustomEmailUser: SooHeeinJESUS@getch.com>,\n",
       " <CustomEmailUser: YapVcAfWllXeHYJ@getch.com>,\n",
       " <CustomEmailUser: Jim_bts_95z@getch.com>,\n",
       " <CustomEmailUser: sumutiah_99@getch.com>,\n",
       " <CustomEmailUser: BTS_Army_76_@getch.com>,\n",
       " <CustomEmailUser: xx_camilix@getch.com>,\n",
       " <CustomEmailUser: wannaone112100@getch.com>,\n",
       " <CustomEmailUser: BOMJI__@getch.com>,\n",
       " <CustomEmailUser: urlaikuqnlin@getch.com>,\n",
       " <CustomEmailUser: artCoffiano@getch.com>,\n",
       " <CustomEmailUser: nananyanyo@getch.com>,\n",
       " <CustomEmailUser: unjk99@getch.com>,\n",
       " <CustomEmailUser: MKIBvF1UmCyn7iu@getch.com>,\n",
       " <CustomEmailUser: h1laNg@getch.com>,\n",
       " <CustomEmailUser: Portions_ofS@getch.com>,\n",
       " <CustomEmailUser: salkjskdf620th@getch.com>,\n",
       " <CustomEmailUser: BTboys_and_girl@getch.com>,\n",
       " <CustomEmailUser: WtxEarN1lKTHyi6@getch.com>,\n",
       " <CustomEmailUser: lilyayo8464@getch.com>,\n",
       " <CustomEmailUser: iniapasihh@getch.com>,\n",
       " <CustomEmailUser: Love92__@getch.com>,\n",
       " <CustomEmailUser: vd_cho@getch.com>,\n",
       " <CustomEmailUser: chaeeunbaeg9@getch.com>,\n",
       " <CustomEmailUser: deldeldelhee@getch.com>,\n",
       " <CustomEmailUser: _pun_army@getch.com>,\n",
       " <CustomEmailUser: MissSarahLouise@getch.com>,\n",
       " <CustomEmailUser: bjtysk916@getch.com>,\n",
       " <CustomEmailUser: Esther050818@getch.com>,\n",
       " <CustomEmailUser: jkl2347@getch.com>,\n",
       " <CustomEmailUser: helpingducklife@getch.com>,\n",
       " <CustomEmailUser: dfgJ4297@getch.com>,\n",
       " <CustomEmailUser: asdfkjsdfi630th@getch.com>,\n",
       " <CustomEmailUser: J_K_hello_3@getch.com>,\n",
       " <CustomEmailUser: Sweetchim1013@getch.com>,\n",
       " <CustomEmailUser: BTS123Oru@getch.com>,\n",
       " <CustomEmailUser: JUN4EHEH@getch.com>,\n",
       " <CustomEmailUser: jun19940912@getch.com>,\n",
       " <CustomEmailUser: jeonjiwooe@getch.com>,\n",
       " <CustomEmailUser: 930309vely@getch.com>,\n",
       " <CustomEmailUser: BTS__LOVEYOUR@getch.com>,\n",
       " <CustomEmailUser: Park_kim131095@getch.com>,\n",
       " <CustomEmailUser: GUCCI__ye@getch.com>,\n",
       " <CustomEmailUser: tanluvluv@getch.com>,\n",
       " <CustomEmailUser: iteen2013@getch.com>,\n",
       " <CustomEmailUser: Glorious_namE@getch.com>,\n",
       " <CustomEmailUser: RROTH_twt@getch.com>,\n",
       " <CustomEmailUser: likeyfal@getch.com>,\n",
       " <CustomEmailUser: PIzbtq153WovWbw@getch.com>,\n",
       " <CustomEmailUser: army_juju98@getch.com>,\n",
       " <CustomEmailUser: nieahnah0309@getch.com>,\n",
       " <CustomEmailUser: ReneeCh79448146@getch.com>,\n",
       " <CustomEmailUser: Hq1hxMkyZ3DeUk7@getch.com>,\n",
       " <CustomEmailUser: 9x0x0x@getch.com>,\n",
       " <CustomEmailUser: Alisontorres170@getch.com>,\n",
       " <CustomEmailUser: J_K_hello_6@getch.com>,\n",
       " <CustomEmailUser: PT1WUR0B6cvaI4z@getch.com>,\n",
       " <CustomEmailUser: JIMNIDANI@getch.com>,\n",
       " <CustomEmailUser: jy7bangtan@getch.com>,\n",
       " <CustomEmailUser: pessawy@getch.com>,\n",
       " <CustomEmailUser: mushroom_921204@getch.com>,\n",
       " <CustomEmailUser: btsmd0613@getch.com>,\n",
       " <CustomEmailUser: qkdxks0922@getch.com>,\n",
       " <CustomEmailUser: fJTGqD4vamjQSGk@getch.com>,\n",
       " <CustomEmailUser: trangggjkggg@getch.com>,\n",
       " <CustomEmailUser: a9IJhlMjLX7K5is@getch.com>,\n",
       " <CustomEmailUser: ticketpay1101@getch.com>,\n",
       " <CustomEmailUser: arlangbangu@getch.com>,\n",
       " <CustomEmailUser: ilililil_x@getch.com>,\n",
       " <CustomEmailUser: lila_koreaboo@getch.com>,\n",
       " <CustomEmailUser: ga_ram_0613@getch.com>,\n",
       " <CustomEmailUser: ge02420477@getch.com>,\n",
       " <CustomEmailUser: Heart_Lyn35@getch.com>,\n",
       " <CustomEmailUser: NSYHJTJch@getch.com>,\n",
       " <CustomEmailUser: nuninuni_bts@getch.com>,\n",
       " <CustomEmailUser: _snowy_crystal@getch.com>,\n",
       " <CustomEmailUser: shaynefanclub@getch.com>,\n",
       " <CustomEmailUser: HJKANGYANG@getch.com>,\n",
       " <CustomEmailUser: mkookiemang@getch.com>,\n",
       " <CustomEmailUser: ktaeyxg@getch.com>,\n",
       " <CustomEmailUser: taehyungchitsu@getch.com>,\n",
       " <CustomEmailUser: I_LOVE_SJ1204@getch.com>,\n",
       " <CustomEmailUser: OgUJtoYATLh5wSF@getch.com>,\n",
       " <CustomEmailUser: JanahAlexander@getch.com>,\n",
       " <CustomEmailUser: agusdmin@getch.com>,\n",
       " <CustomEmailUser: dprwhdprwh@getch.com>,\n",
       " <CustomEmailUser: happynanum@getch.com>,\n",
       " <CustomEmailUser: nn091___@getch.com>,\n",
       " <CustomEmailUser: hX9ZwrZ4DAEo7KD@getch.com>,\n",
       " <CustomEmailUser: BTStaetae_jimin@getch.com>,\n",
       " <CustomEmailUser: Graegaejung__@getch.com>,\n",
       " <CustomEmailUser: _BTS1_ARMY1@getch.com>,\n",
       " <CustomEmailUser: coolnakim@getch.com>,\n",
       " <CustomEmailUser: xinyujm@getch.com>,\n",
       " <CustomEmailUser: OFFICIAL_WANNAB@getch.com>,\n",
       " <CustomEmailUser: _scoopcafe_@getch.com>,\n",
       " <CustomEmailUser: 77f0ad74dbd0447@getch.com>,\n",
       " <CustomEmailUser: Minsterious@getch.com>,\n",
       " <CustomEmailUser: Cabbage_g@getch.com>,\n",
       " <CustomEmailUser: i997ivu@getch.com>,\n",
       " <CustomEmailUser: chimbomy@getch.com>,\n",
       " <CustomEmailUser: aHYun_st@getch.com>,\n",
       " <CustomEmailUser: irene_9795@getch.com>,\n",
       " <CustomEmailUser: Hashtag_Jin@getch.com>,\n",
       " <CustomEmailUser: yohavnt@getch.com>,\n",
       " <CustomEmailUser: jjan_love@getch.com>,\n",
       " <CustomEmailUser: tjffl0817@getch.com>,\n",
       " <CustomEmailUser: YOUR__SEASON__@getch.com>,\n",
       " <CustomEmailUser: kookiandI@getch.com>,\n",
       " <CustomEmailUser: RXmxhxNzLPphFxU@getch.com>,\n",
       " <CustomEmailUser: e_lee_e_e@getch.com>,\n",
       " <CustomEmailUser: bts06130517@getch.com>,\n",
       " <CustomEmailUser: aUdis_o@getch.com>,\n",
       " <CustomEmailUser: ARMY06772295@getch.com>,\n",
       " <CustomEmailUser: SBts0906@getch.com>,\n",
       " <CustomEmailUser: kangutang@getch.com>,\n",
       " <CustomEmailUser: wink_kookie@getch.com>,\n",
       " <CustomEmailUser: lwDzrnQt372fh1b@getch.com>,\n",
       " <CustomEmailUser: jiyeonkim040802@getch.com>,\n",
       " <CustomEmailUser: mitsukiblanco@getch.com>,\n",
       " <CustomEmailUser: Chube1997@getch.com>,\n",
       " <CustomEmailUser: whitedumplings@getch.com>,\n",
       " <CustomEmailUser: Lemonwhereareu@getch.com>,\n",
       " <CustomEmailUser: Sultanghalmi@getch.com>,\n",
       " <CustomEmailUser: gOodS_GooDsS@getch.com>,\n",
       " <CustomEmailUser: TQDTmJjgr3zoEFu@getch.com>,\n",
       " <CustomEmailUser: dmsrud_bts_love@getch.com>,\n",
       " <CustomEmailUser: NeSnT8qzMbDqSOh@getch.com>,\n",
       " <CustomEmailUser: bbbbbts__@getch.com>,\n",
       " <CustomEmailUser: yangdoooarmy@getch.com>,\n",
       " <CustomEmailUser: 0613Tutu@getch.com>,\n",
       " <CustomEmailUser: AnaESeip@getch.com>,\n",
       " <CustomEmailUser: dlqhrh1@getch.com>,\n",
       " <CustomEmailUser: Kristel84530731@getch.com>,\n",
       " <CustomEmailUser: Artallaroundyou@getch.com>,\n",
       " <CustomEmailUser: BOEWEN1010123@getch.com>,\n",
       " <CustomEmailUser: ArmyaroundW@getch.com>,\n",
       " <CustomEmailUser: Mrkimv@getch.com>,\n",
       " <CustomEmailUser: 7ngPdxlbCSbIIGC@getch.com>,\n",
       " <CustomEmailUser: danmuji_army@getch.com>,\n",
       " <CustomEmailUser: IPU_BTS__@getch.com>,\n",
       " <CustomEmailUser: adavengers3@getch.com>,\n",
       " <CustomEmailUser: Maymuna91173297@getch.com>,\n",
       " <CustomEmailUser: LYFZPu9FPPEbpzV@getch.com>,\n",
       " <CustomEmailUser: 00rkdms00@getch.com>,\n",
       " <CustomEmailUser: codud930@getch.com>,\n",
       " <CustomEmailUser: jiminimoni@getch.com>,\n",
       " <CustomEmailUser: h_____se_jin@getch.com>,\n",
       " <CustomEmailUser: tans_v_7024@getch.com>,\n",
       " <CustomEmailUser: 0211_yona@getch.com>,\n",
       " <CustomEmailUser: bts__army_b@getch.com>,\n",
       " <CustomEmailUser: howngseok@getch.com>,\n",
       " <CustomEmailUser: magicshop_bts@getch.com>,\n",
       " <CustomEmailUser: syub93_@getch.com>,\n",
       " <CustomEmailUser: junng587@getch.com>,\n",
       " <CustomEmailUser: KWqNHbLx3QG0v1v@getch.com>,\n",
       " <CustomEmailUser: BINGTAE0613@getch.com>,\n",
       " <CustomEmailUser: dogjobdeok@getch.com>,\n",
       " <CustomEmailUser: tTN9H0Swj9l2n1U@getch.com>,\n",
       " <CustomEmailUser: 95TAE_JIM@getch.com>,\n",
       " <CustomEmailUser: btsarmy2013061@getch.com>,\n",
       " <CustomEmailUser: tatanata1830@getch.com>,\n",
       " <CustomEmailUser: ghj0944@getch.com>,\n",
       " <CustomEmailUser: bts_hiioo@getch.com>,\n",
       " <CustomEmailUser: dearyouni_twt@getch.com>,\n",
       " <CustomEmailUser: wonbin9093@getch.com>,\n",
       " <CustomEmailUser: love613_S2@getch.com>,\n",
       " <CustomEmailUser: 3_LOVE_MYSELF_3@getch.com>,\n",
       " <CustomEmailUser: Z55fV@getch.com>,\n",
       " <CustomEmailUser: RMj_Oql2@getch.com>,\n",
       " <CustomEmailUser: pss9876@getch.com>,\n",
       " <CustomEmailUser: 07dhrk_bdje@getch.com>,\n",
       " <CustomEmailUser: 9jjqr0FcZhnqHaP@getch.com>,\n",
       " <CustomEmailUser: 1230VN_@getch.com>,\n",
       " <CustomEmailUser: kimnavi76@getch.com>,\n",
       " <CustomEmailUser: Him_4r@getch.com>,\n",
       " <CustomEmailUser: sugaberry0309@getch.com>,\n",
       " <CustomEmailUser: ruda_moon@getch.com>,\n",
       " <CustomEmailUser: noname18967006@getch.com>,\n",
       " <CustomEmailUser: jin2880@getch.com>,\n",
       " <CustomEmailUser: yu_ja_kook@getch.com>,\n",
       " <CustomEmailUser: bettakpop@getch.com>,\n",
       " <CustomEmailUser: oneenough3@getch.com>,\n",
       " <CustomEmailUser: BTS_JK___D@getch.com>,\n",
       " <CustomEmailUser: iamlunartic@getch.com>,\n",
       " <CustomEmailUser: mo1st2ar3@getch.com>,\n",
       " <CustomEmailUser: cksgn5@getch.com>,\n",
       " <CustomEmailUser: 951013_JIMINI@getch.com>,\n",
       " <CustomEmailUser: iamrealmel@getch.com>,\n",
       " <CustomEmailUser: 52_EHYOLO@getch.com>,\n",
       " <CustomEmailUser: ragi4053@getch.com>,\n",
       " <CustomEmailUser: chaptein@getch.com>,\n",
       " <CustomEmailUser: kwangpal@getch.com>,\n",
       " <CustomEmailUser: Heidi82231216@getch.com>,\n",
       " <CustomEmailUser: geniuscat03@getch.com>,\n",
       " <CustomEmailUser: G2gHvxScNLT4642@getch.com>,\n",
       " <CustomEmailUser: hhbhh___@getch.com>,\n",
       " <CustomEmailUser: SS0b1O4x6CZkbtN@getch.com>,\n",
       " <CustomEmailUser: H_HYUNI@getch.com>,\n",
       " <CustomEmailUser: jengnei@getch.com>,\n",
       " <CustomEmailUser: JjJjJjjei@getch.com>,\n",
       " <CustomEmailUser: wuxo3svRYcDKcJE@getch.com>,\n",
       " <CustomEmailUser: KITTYJM_31@getch.com>,\n",
       " <CustomEmailUser: ACQ5KGu3sLL38hb@getch.com>,\n",
       " <CustomEmailUser: jimin10130325@getch.com>,\n",
       " <CustomEmailUser: JIMIN_SJ@getch.com>,\n",
       " <CustomEmailUser: taehyung_8999@getch.com>,\n",
       " <CustomEmailUser: Pangtan21@getch.com>,\n",
       " <CustomEmailUser: shriya_bjr@getch.com>,\n",
       " <CustomEmailUser: whdkgnl000@getch.com>,\n",
       " <CustomEmailUser: YANGDOcool@getch.com>,\n",
       " <CustomEmailUser: btskai0613@getch.com>,\n",
       " <CustomEmailUser: bolabe0613@getch.com>,\n",
       " <CustomEmailUser: minasama0@getch.com>,\n",
       " <CustomEmailUser: Violet_0906@getch.com>,\n",
       " <CustomEmailUser: 130613_vope@getch.com>,\n",
       " <CustomEmailUser: 1013_1004JM@getch.com>,\n",
       " <CustomEmailUser: kpop945945@getch.com>,\n",
       " <CustomEmailUser: pupkepupke@getch.com>,\n",
       " <CustomEmailUser: ARMY_TOGETHER_@getch.com>,\n",
       " <CustomEmailUser: kKcW1ul0sWFFE8P@getch.com>,\n",
       " <CustomEmailUser: taetaehimang@getch.com>,\n",
       " <CustomEmailUser: hh_123_dd@getch.com>,\n",
       " <CustomEmailUser: SeaofBTS_7@getch.com>,\n",
       " <CustomEmailUser: kthpsb88@getch.com>,\n",
       " <CustomEmailUser: ojVpDeyTGwr0MtK@getch.com>,\n",
       " <CustomEmailUser: BTSND130613@getch.com>,\n",
       " <CustomEmailUser: Ving_gl_ving_gl@getch.com>,\n",
       " <CustomEmailUser: 3dollarprdctn@getch.com>,\n",
       " <CustomEmailUser: S2__Agust_D@getch.com>,\n",
       " <CustomEmailUser: rla47514751@getch.com>,\n",
       " <CustomEmailUser: taijirhr@getch.com>,\n",
       " <CustomEmailUser: houii0114@getch.com>,\n",
       " <CustomEmailUser: Narable_@getch.com>,\n",
       " <CustomEmailUser: your_yeon2@getch.com>,\n",
       " <CustomEmailUser: vminmoonchilds@getch.com>,\n",
       " <CustomEmailUser: chimmycookybts@getch.com>,\n",
       " <CustomEmailUser: bbangbarm@getch.com>,\n",
       " <CustomEmailUser: WQ99ow@getch.com>,\n",
       " <CustomEmailUser: _peach_j_@getch.com>,\n",
       " <CustomEmailUser: idolchartrank@getch.com>,\n",
       " <CustomEmailUser: Memoria_J@getch.com>,\n",
       " <CustomEmailUser: BTS_DDURU@getch.com>,\n",
       " <CustomEmailUser: kimutete__1230@getch.com>,\n",
       " <CustomEmailUser: sccenerry@getch.com>,\n",
       " <CustomEmailUser: BTS_Selling_9@getch.com>,\n",
       " <CustomEmailUser: qwertasdzxc09@getch.com>,\n",
       " <CustomEmailUser: AreeMaces@getch.com>,\n",
       " <CustomEmailUser: mirine_13@getch.com>,\n",
       " <CustomEmailUser: RJSJJVJ______@getch.com>,\n",
       " <CustomEmailUser: snowmochi_@getch.com>,\n",
       " <CustomEmailUser: Bday130613@getch.com>,\n",
       " <CustomEmailUser: apobangpo613@getch.com>,\n",
       " <CustomEmailUser: B5AL7LirilNBfH3@getch.com>,\n",
       " <CustomEmailUser: ARMY_Ddyn@getch.com>,\n",
       " <CustomEmailUser: G8i1tKsEYMHYK7r@getch.com>,\n",
       " <CustomEmailUser: hw4young@getch.com>,\n",
       " <CustomEmailUser: BTKU_official@getch.com>,\n",
       " <CustomEmailUser: eunluw@getch.com>,\n",
       " <CustomEmailUser: NAN0METER__@getch.com>,\n",
       " <CustomEmailUser: Scenery_0613@getch.com>,\n",
       " <CustomEmailUser: ljk429@getch.com>,\n",
       " <CustomEmailUser: BTSJEC@getch.com>,\n",
       " <CustomEmailUser: hyunone@getch.com>,\n",
       " <CustomEmailUser: CJhNqJVBA984Iek@getch.com>,\n",
       " <CustomEmailUser: Ibdrf4kgvYatQaq@getch.com>,\n",
       " <CustomEmailUser: HelloOutdoors@getch.com>,\n",
       " <CustomEmailUser: 062_518_cm@getch.com>,\n",
       " <CustomEmailUser: maplejoonie@getch.com>,\n",
       " <CustomEmailUser: pjj06211@getch.com>,\n",
       " <CustomEmailUser: inae1997@getch.com>,\n",
       " <CustomEmailUser: HAAAAA789@getch.com>,\n",
       " <CustomEmailUser: IsaacCourage4@getch.com>,\n",
       " <CustomEmailUser: dddyulbbb@getch.com>,\n",
       " <CustomEmailUser: BTS_mindalpang@getch.com>,\n",
       " <CustomEmailUser: qhfkgo13613_KYJ@getch.com>,\n",
       " <CustomEmailUser: Starland_7020@getch.com>,\n",
       " <CustomEmailUser: DenyshaShireen@getch.com>,\n",
       " <CustomEmailUser: S2JIMS2@getch.com>,\n",
       " <CustomEmailUser: moonchild__0912@getch.com>,\n",
       " <CustomEmailUser: gnatchoo@getch.com>,\n",
       " <CustomEmailUser: _chiketto_@getch.com>,\n",
       " <CustomEmailUser: bts_gold_time@getch.com>,\n",
       " <CustomEmailUser: V_TTT7@getch.com>,\n",
       " <CustomEmailUser: MnetMcountdown@getch.com>,\n",
       " <CustomEmailUser: lopezcryaaa@getch.com>,\n",
       " <CustomEmailUser: BTSArmyAlways_@getch.com>,\n",
       " <CustomEmailUser: GkGjaxv7sZCDX1W@getch.com>,\n",
       " <CustomEmailUser: kookv_keyring@getch.com>,\n",
       " <CustomEmailUser: ipurplebts777@getch.com>,\n",
       " <CustomEmailUser: BIJU_BTS@getch.com>,\n",
       " <CustomEmailUser: eternalyxuth@getch.com>,\n",
       " <CustomEmailUser: ir44fI4Ev7a157K@getch.com>,\n",
       " <CustomEmailUser: WcJhv3@getch.com>,\n",
       " <CustomEmailUser: imbts_v@getch.com>,\n",
       " <CustomEmailUser: namjoon__12@getch.com>,\n",
       " <CustomEmailUser: batrisyiaooo@getch.com>,\n",
       " <CustomEmailUser: BTS_THK_twt@getch.com>,\n",
       " <CustomEmailUser: zCxPsFFOK9kse4e@getch.com>,\n",
       " <CustomEmailUser: am_tyyu@getch.com>,\n",
       " <CustomEmailUser: it_vote_for_BTS@getch.com>,\n",
       " <CustomEmailUser: 40O6xC0JVNi0UmE@getch.com>,\n",
       " <CustomEmailUser: Vlandking@getch.com>,\n",
       " <CustomEmailUser: lovebts_130920@getch.com>,\n",
       " <CustomEmailUser: saddy2580@getch.com>,\n",
       " <CustomEmailUser: myloveidol_kpop@getch.com>,\n",
       " <CustomEmailUser: davitarmy22@getch.com>,\n",
       " <CustomEmailUser: ApolinarKara@getch.com>,\n",
       " <CustomEmailUser: premi_is_army@getch.com>,\n",
       " <CustomEmailUser: PSI_GHM_0806@getch.com>,\n",
       " <CustomEmailUser: 20150508_BTS@getch.com>,\n",
       " <CustomEmailUser: protectyourlips@getch.com>,\n",
       " <CustomEmailUser: wodjrsid@getch.com>,\n",
       " <CustomEmailUser: ardnajelara@getch.com>,\n",
       " <CustomEmailUser: ssoyaticket@getch.com>,\n",
       " <CustomEmailUser: Jh_O522_@getch.com>,\n",
       " <CustomEmailUser: IamBacktoSoul@getch.com>,\n",
       " <CustomEmailUser: purplebbeum@getch.com>,\n",
       " <CustomEmailUser: 0309xSG@getch.com>,\n",
       " <CustomEmailUser: btsxfanaccount@getch.com>,\n",
       " <CustomEmailUser: Minglizzang@getch.com>,\n",
       " <CustomEmailUser: mychim_love1013@getch.com>,\n",
       " <CustomEmailUser: bts_kkmjpkj_s@getch.com>,\n",
       " <CustomEmailUser: junjungkku_@getch.com>,\n",
       " <CustomEmailUser: Taetaeheeya@getch.com>,\n",
       " <CustomEmailUser: 0oy8sBjGFTbIoEr@getch.com>,\n",
       " <CustomEmailUser: k_dongyun@getch.com>,\n",
       " <CustomEmailUser: BTSxHollywood@getch.com>,\n",
       " <CustomEmailUser: Su_Jyee@getch.com>,\n",
       " <CustomEmailUser: 7yQTlnB8FU4qBcp@getch.com>,\n",
       " <CustomEmailUser: S12xD04_bts@getch.com>,\n",
       " <CustomEmailUser: blueberryneko@getch.com>,\n",
       " <CustomEmailUser: iamwhoiam6819@getch.com>,\n",
       " <CustomEmailUser: funk_970901@getch.com>,\n",
       " <CustomEmailUser: armyranhee@getch.com>,\n",
       " <CustomEmailUser: Amiable_Hope@getch.com>,\n",
       " <CustomEmailUser: todaybts17@getch.com>,\n",
       " <CustomEmailUser: hjm1521@getch.com>,\n",
       " <CustomEmailUser: BTSforever_ye@getch.com>,\n",
       " <CustomEmailUser: cutie_hyewon@getch.com>,\n",
       " <CustomEmailUser: SuUpasana@getch.com>,\n",
       " <CustomEmailUser: BTS_GENIUS_@getch.com>,\n",
       " <CustomEmailUser: byjin1204@getch.com>,\n",
       " <CustomEmailUser: onlybtsjin@getch.com>,\n",
       " <CustomEmailUser: rpsskbbb@getch.com>,\n",
       " <CustomEmailUser: zak6MvdhVBU0rNN@getch.com>,\n",
       " <CustomEmailUser: imBiancAmaze@getch.com>,\n",
       " <CustomEmailUser: BTSBTS_maknae@getch.com>,\n",
       " <CustomEmailUser: BTS0504@getch.com>,\n",
       " <CustomEmailUser: OVO_JKJK@getch.com>,\n",
       " <CustomEmailUser: jyujin_sj@getch.com>,\n",
       " <CustomEmailUser: msg03092013@getch.com>,\n",
       " <CustomEmailUser: UAltyoAyBOqk6wN@getch.com>,\n",
       " <CustomEmailUser: whyuioa@getch.com>,\n",
       " <CustomEmailUser: nam992302888@getch.com>,\n",
       " <CustomEmailUser: jinghui528@getch.com>,\n",
       " <CustomEmailUser: TinaLonely@getch.com>,\n",
       " <CustomEmailUser: doyqong@getch.com>,\n",
       " <CustomEmailUser: 7M9PldAFl4jKXLo@getch.com>,\n",
       " <CustomEmailUser: V_fanaccount@getch.com>,\n",
       " <CustomEmailUser: v_BTS_Love_v@getch.com>,\n",
       " <CustomEmailUser: SONE_ARMYing@getch.com>,\n",
       " <CustomEmailUser: taehyunx95@getch.com>,\n",
       " <CustomEmailUser: for_write_down@getch.com>,\n",
       " <CustomEmailUser: jimtan_purple@getch.com>,\n",
       " <CustomEmailUser: BTSArmy22726465@getch.com>,\n",
       " <CustomEmailUser: stmagician@getch.com>,\n",
       " <CustomEmailUser: JJinri_@getch.com>,\n",
       " <CustomEmailUser: chimchim0626@getch.com>,\n",
       " <CustomEmailUser: Jimin_04_@getch.com>,\n",
       " <CustomEmailUser: S2unris3@getch.com>,\n",
       " <CustomEmailUser: tjqls4597@getch.com>,\n",
       " <CustomEmailUser: seorang1213@getch.com>,\n",
       " <CustomEmailUser: wwhJM@getch.com>,\n",
       " <CustomEmailUser: YRPfVIRHh1N7e1T@getch.com>,\n",
       " <CustomEmailUser: suhyeon_twt@getch.com>,\n",
       " <CustomEmailUser: Lovinsyou@getch.com>,\n",
       " <CustomEmailUser: youll_Ah@getch.com>,\n",
       " <CustomEmailUser: imkangchorong@getch.com>,\n",
       " <CustomEmailUser: danvvv_v@getch.com>,\n",
       " <CustomEmailUser: RJ_jin_921204@getch.com>,\n",
       " <CustomEmailUser: bad_11p@getch.com>,\n",
       " <CustomEmailUser: onlyjooni@getch.com>,\n",
       " <CustomEmailUser: FX9LVJWlFJbGj0V@getch.com>,\n",
       " <CustomEmailUser: BTSADOYEN@getch.com>,\n",
       " <CustomEmailUser: seagullrin@getch.com>,\n",
       " <CustomEmailUser: Army_Rolex@getch.com>,\n",
       " <CustomEmailUser: magazineTheStar@getch.com>,\n",
       " <CustomEmailUser: jTZu409NcOQE4Om@getch.com>,\n",
       " <CustomEmailUser: SUGA_516@getch.com>,\n",
       " <CustomEmailUser: SHOOKY_TAETAE@getch.com>,\n",
       " <CustomEmailUser: amary2006@getch.com>,\n",
       " <CustomEmailUser: DreamJK_97@getch.com>,\n",
       " <CustomEmailUser: olivekkook@getch.com>,\n",
       " <CustomEmailUser: EHEH_GALAXY@getch.com>,\n",
       " <CustomEmailUser: ZKJMISG_0901@getch.com>,\n",
       " <CustomEmailUser: JtyZWk4EJsTmS5n@getch.com>,\n",
       " <CustomEmailUser: YANGDO04I5@getch.com>,\n",
       " <CustomEmailUser: RNX_news_ent@getch.com>,\n",
       " <CustomEmailUser: PSICARAT_0806@getch.com>,\n",
       " <CustomEmailUser: kimJD__@getch.com>,\n",
       " <CustomEmailUser: oasis1084@getch.com>,\n",
       " <CustomEmailUser: BTStaetaeluv@getch.com>,\n",
       " <CustomEmailUser: ggookjjin@getch.com>,\n",
       " <CustomEmailUser: army_05050505@getch.com>,\n",
       " <CustomEmailUser: peri_winkle_01@getch.com>,\n",
       " <CustomEmailUser: nAb08900JoY40Ts@getch.com>,\n",
       " <CustomEmailUser: BUxTU_BigHit@getch.com>,\n",
       " <CustomEmailUser: 5a9NowGeklq3LKu@getch.com>,\n",
       " <CustomEmailUser: second_thirty@getch.com>,\n",
       " <CustomEmailUser: 9oOGg78D58kakE0@getch.com>,\n",
       " <CustomEmailUser: 9KcujEzQpDzrYyj@getch.com>,\n",
       " <CustomEmailUser: ddooddoo0613@getch.com>,\n",
       " <CustomEmailUser: jokfter@getch.com>,\n",
       " <CustomEmailUser: MArC3Ch5cyPoOBw@getch.com>,\n",
       " <CustomEmailUser: cC9nZ4bvECj4rjk@getch.com>,\n",
       " <CustomEmailUser: KOOK_LQVE_@getch.com>,\n",
       " <CustomEmailUser: love_v0613@getch.com>,\n",
       " <CustomEmailUser: your_my_hope_yj@getch.com>,\n",
       " <CustomEmailUser: jms3541@getch.com>,\n",
       " <CustomEmailUser: bts_forever0718@getch.com>,\n",
       " <CustomEmailUser: rornfl577@getch.com>,\n",
       " <CustomEmailUser: lee_inny@getch.com>,\n",
       " <CustomEmailUser: ShookyAddict@getch.com>,\n",
       " <CustomEmailUser: 7A87sORCFolwOMC@getch.com>,\n",
       " <CustomEmailUser: daniel_5337@getch.com>,\n",
       " <CustomEmailUser: you_BTS_I_ARMY@getch.com>,\n",
       " <CustomEmailUser: nandairma9720@getch.com>,\n",
       " <CustomEmailUser: loopoflike@getch.com>,\n",
       " <CustomEmailUser: Hi_Hello_JK@getch.com>,\n",
       " <CustomEmailUser: spring_yj_1013@getch.com>,\n",
       " <CustomEmailUser: 4Reporter@getch.com>,\n",
       " <CustomEmailUser: aaaasssse9@getch.com>,\n",
       " <CustomEmailUser: hs04303@getch.com>,\n",
       " <CustomEmailUser: 8vIFoad7LFLQOcA@getch.com>,\n",
       " <CustomEmailUser: movie_je18@getch.com>,\n",
       " <CustomEmailUser: laricefaye16@getch.com>,\n",
       " <CustomEmailUser: ARMYhani_tost@getch.com>,\n",
       " <CustomEmailUser: lulkbeI5YkgHR0t@getch.com>,\n",
       " <CustomEmailUser: S_SImk@getch.com>,\n",
       " <CustomEmailUser: A6lCeQ7EDH9Gxon@getch.com>,\n",
       " <CustomEmailUser: w___oo___@getch.com>,\n",
       " <CustomEmailUser: _89_AMY@getch.com>,\n",
       " <CustomEmailUser: herachun1009@getch.com>,\n",
       " <CustomEmailUser: Gmlwjd_sg@getch.com>,\n",
       " <CustomEmailUser: junghee9301@getch.com>,\n",
       " <CustomEmailUser: JK_m091@getch.com>,\n",
       " <CustomEmailUser: egbak21@getch.com>,\n",
       " <CustomEmailUser: TRAVEL_withARMY@getch.com>,\n",
       " <CustomEmailUser: _kukuhaseyo@getch.com>,\n",
       " <CustomEmailUser: Viva7V@getch.com>,\n",
       " <CustomEmailUser: Saran_____N@getch.com>,\n",
       " <CustomEmailUser: re_een2@getch.com>,\n",
       " <CustomEmailUser: yoongicereal@getch.com>,\n",
       " <CustomEmailUser: uv95z@getch.com>,\n",
       " <CustomEmailUser: nancucu@getch.com>,\n",
       " <CustomEmailUser: mycypriarmy17@getch.com>,\n",
       " <CustomEmailUser: dopehee21@getch.com>,\n",
       " <CustomEmailUser: mirukucat@getch.com>,\n",
       " <CustomEmailUser: coffee_n_write@getch.com>,\n",
       " <CustomEmailUser: DreamfromHope@getch.com>,\n",
       " <CustomEmailUser: Jamnousa@getch.com>,\n",
       " <CustomEmailUser: Sundup0613@getch.com>,\n",
       " <CustomEmailUser: 61313_613_@getch.com>,\n",
       " <CustomEmailUser: 100ticketing@getch.com>,\n",
       " <CustomEmailUser: vvvvluvvvv@getch.com>,\n",
       " <CustomEmailUser: sung_mi_0625@getch.com>,\n",
       " <CustomEmailUser: B93l1sDNi9StQhE@getch.com>,\n",
       " <CustomEmailUser: 1210__v@getch.com>,\n",
       " <CustomEmailUser: bts_love1290@getch.com>,\n",
       " <CustomEmailUser: milky_way0613@getch.com>,\n",
       " <CustomEmailUser: sportshankooki@getch.com>,\n",
       " <CustomEmailUser: _BTS_VOTE_613@getch.com>,\n",
       " <CustomEmailUser: lsm_8638@getch.com>,\n",
       " <CustomEmailUser: on_0613@getch.com>,\n",
       " <CustomEmailUser: tenzia3674@getch.com>,\n",
       " <CustomEmailUser: 1004_pjm@getch.com>,\n",
       " <CustomEmailUser: dksrhdhdjs@getch.com>,\n",
       " <CustomEmailUser: iyj61ATkorZ79bF@getch.com>,\n",
       " <CustomEmailUser: HardCat3@getch.com>,\n",
       " <CustomEmailUser: qazwsx0613BTS@getch.com>,\n",
       " <CustomEmailUser: _Eun_hyun_@getch.com>,\n",
       " <CustomEmailUser: Diana__Dreaming@getch.com>,\n",
       " <CustomEmailUser: mirsaeli@getch.com>,\n",
       " <CustomEmailUser: x_ddoing_@getch.com>,\n",
       " <CustomEmailUser: cherryBud_JK@getch.com>,\n",
       " <CustomEmailUser: goodcyr@getch.com>,\n",
       " <CustomEmailUser: blowinggs@getch.com>,\n",
       " <CustomEmailUser: D082UYWiz3Vpsyd@getch.com>,\n",
       " <CustomEmailUser: moon_likes_suga@getch.com>,\n",
       " <CustomEmailUser: kook_mmle@getch.com>,\n",
       " <CustomEmailUser: ssu_gga0309@getch.com>,\n",
       " <CustomEmailUser: 2O4rjx6vez5Xu4L@getch.com>,\n",
       " <CustomEmailUser: bts_5@getch.com>,\n",
       " <CustomEmailUser: jk____e114@getch.com>,\n",
       " <CustomEmailUser: Eunseo1103@getch.com>,\n",
       " <CustomEmailUser: mystarpass@getch.com>,\n",
       " <CustomEmailUser: charun_1230@getch.com>,\n",
       " <CustomEmailUser: killkillkilltt@getch.com>,\n",
       " <CustomEmailUser: donT_LEaveMe__@getch.com>,\n",
       " <CustomEmailUser: won_duckduck@getch.com>,\n",
       " <CustomEmailUser: xv__sunny__vx@getch.com>,\n",
       " <CustomEmailUser: KSZSQhu3vW4mbof@getch.com>,\n",
       " <CustomEmailUser: mehtapa06529629@getch.com>,\n",
       " <CustomEmailUser: areen009@getch.com>,\n",
       " ...]"
      ]
     },
     "execution_count": 6,
     "metadata": {},
     "output_type": "execute_result"
    }
   ],
   "source": [
    "bulk_emailuser = []\n",
    "for _id, _user in users.items():\n",
    "    obj = CustomEmailUser()\n",
    "    obj.id = _id\n",
    "    obj.email = _user['user'] + '@getch.com'\n",
    "    bulk_emailuser.append(obj)\n",
    "\n",
    "CustomEmailUser.objects.bulk_create(bulk_emailuser)"
   ]
  },
  {
   "cell_type": "code",
   "execution_count": null,
   "metadata": {},
   "outputs": [],
   "source": []
  },
  {
   "cell_type": "markdown",
   "metadata": {},
   "source": [
    "## 2. Profile model"
   ]
  },
  {
   "cell_type": "code",
   "execution_count": 43,
   "metadata": {},
   "outputs": [],
   "source": [
    "from app.models import Profile, CustomEmailUser"
   ]
  },
  {
   "cell_type": "code",
   "execution_count": 44,
   "metadata": {},
   "outputs": [],
   "source": [
    "users = None\n",
    "with open('users.json', encoding='UTF-8-sig') as f:\n",
    "    users = json.load(f)"
   ]
  },
  {
   "cell_type": "code",
   "execution_count": 12,
   "metadata": {},
   "outputs": [
    {
     "data": {
      "application/vnd.jupyter.widget-view+json": {
       "model_id": "fd6d2fa2865b4d298f0abdde323658d3",
       "version_major": 2,
       "version_minor": 0
      },
      "text/plain": [
       "HBox(children=(IntProgress(value=0, max=8872), HTML(value='')))"
      ]
     },
     "metadata": {},
     "output_type": "display_data"
    },
    {
     "name": "stdout",
     "output_type": "stream",
     "text": [
      "\n"
     ]
    }
   ],
   "source": [
    "bulk_profile = []\n",
    "for i, (_id, _user) in enumerate(tqdm(list(users.items())[:])):\n",
    "    obj = Profile()\n",
    "    obj.id = _id\n",
    "    # obj.user = CustomEmailUser.objects.get(pk=_id)\n",
    "    obj.user = bulk_emailuser[i]\n",
    "    obj.profile_image = 'profile_images/' + _user['user'] + '@getch.com' + '/' + _user['profile_image'].split('/')[-1]\n",
    "    bulk_profile.append(obj)"
   ]
  },
  {
   "cell_type": "code",
   "execution_count": 14,
   "metadata": {},
   "outputs": [],
   "source": [
    "bulk_profile;"
   ]
  },
  {
   "cell_type": "code",
   "execution_count": 16,
   "metadata": {
    "collapsed": true
   },
   "outputs": [
    {
     "data": {
      "text/plain": [
       "(10,\n",
       " {'app.Profile_brand_likes': 0,\n",
       "  'app.Profile_post_likes': 0,\n",
       "  'app.Profile_brand_bookmarks': 0,\n",
       "  'app.Profile_post_bookmarks': 0,\n",
       "  'app.Profile_level_tested': 0,\n",
       "  'app.Profile': 10})"
      ]
     },
     "execution_count": 16,
     "metadata": {},
     "output_type": "execute_result"
    }
   ],
   "source": [
    "Profile.objects.all().delete()"
   ]
  },
  {
   "cell_type": "code",
   "execution_count": 17,
   "metadata": {
    "collapsed": true
   },
   "outputs": [
    {
     "data": {
      "text/plain": [
       "[<Profile: DazedKorea@getch.com>,\n",
       " <Profile: 8056LpjXNJdgwuj@getch.com>,\n",
       " <Profile: musinsacom@getch.com>,\n",
       " <Profile: rvd3065@getch.com>,\n",
       " <Profile: woodz_golmu@getch.com>,\n",
       " <Profile: fashionncom@getch.com>,\n",
       " <Profile: Lilith36910318@getch.com>,\n",
       " <Profile: SeoulStore_twt@getch.com>,\n",
       " <Profile: 4buynsell@getch.com>,\n",
       " <Profile: kanghui__@getch.com>,\n",
       " <Profile: agonyman@getch.com>,\n",
       " <Profile: i_ilyo@getch.com>,\n",
       " <Profile: jung_sang_won@getch.com>,\n",
       " <Profile: thin_krungy0314@getch.com>,\n",
       " <Profile: _feelthat2NE1@getch.com>,\n",
       " <Profile: Denny19871207@getch.com>,\n",
       " <Profile: yogipower@getch.com>,\n",
       " <Profile: DongWoonK@getch.com>,\n",
       " <Profile: pat5007@getch.com>,\n",
       " <Profile: ZENITH_NEWS@getch.com>,\n",
       " <Profile: tommygnosys@getch.com>,\n",
       " <Profile: FuxxingFabulous@getch.com>,\n",
       " <Profile: stussygo@getch.com>,\n",
       " <Profile: CorsoComoSeoul@getch.com>,\n",
       " <Profile: MARKO_CMO@getch.com>,\n",
       " <Profile: MrRaonKim@getch.com>,\n",
       " <Profile: makemesmile2030@getch.com>,\n",
       " <Profile: 6_closet@getch.com>,\n",
       " <Profile: allthekshop@getch.com>,\n",
       " <Profile: mh_wadrobe@getch.com>,\n",
       " <Profile: _MasterShoe_@getch.com>,\n",
       " <Profile: lolliesstreet@getch.com>,\n",
       " <Profile: esteem_now@getch.com>,\n",
       " <Profile: JUPSTORY@getch.com>,\n",
       " <Profile: IMBOLDN_KR@getch.com>,\n",
       " <Profile: LEEHDann@getch.com>,\n",
       " <Profile: doubledvv@getch.com>,\n",
       " <Profile: Ieechaeeun@getch.com>,\n",
       " <Profile: JWTHFC@getch.com>,\n",
       " <Profile: duyoungjung@getch.com>,\n",
       " <Profile: u__ufxx@getch.com>,\n",
       " <Profile: PSMJang@getch.com>,\n",
       " <Profile: hnskyz@getch.com>,\n",
       " <Profile: aesthetic__sun@getch.com>,\n",
       " <Profile: snrkdnfj@getch.com>,\n",
       " <Profile: mymoonjunwon@getch.com>,\n",
       " <Profile: outomoa@getch.com>,\n",
       " <Profile: helloanimals@getch.com>,\n",
       " <Profile: altchang@getch.com>,\n",
       " <Profile: cleaningmaster3@getch.com>,\n",
       " <Profile: cool83031@getch.com>,\n",
       " <Profile: JmDH9oYlQfIT989@getch.com>,\n",
       " <Profile: mjym19951225@getch.com>,\n",
       " <Profile: winnergogosing@getch.com>,\n",
       " <Profile: A6xscH2NnjdAiC2@getch.com>,\n",
       " <Profile: RUNA_NUNA@getch.com>,\n",
       " <Profile: eun_photo_a57@getch.com>,\n",
       " <Profile: orekatty2@getch.com>,\n",
       " <Profile: kangdanieldaze@getch.com>,\n",
       " <Profile: sellittoyou@getch.com>,\n",
       " <Profile: ddungbom_mino@getch.com>,\n",
       " <Profile: Lily_4_JINU@getch.com>,\n",
       " <Profile: lee_s_w_cute@getch.com>,\n",
       " <Profile: Foymina@getch.com>,\n",
       " <Profile: pinkpandacanada@getch.com>,\n",
       " <Profile: ckbroadcast@getch.com>,\n",
       " <Profile: topstarnews@getch.com>,\n",
       " <Profile: v_jinu_v@getch.com>,\n",
       " <Profile: sY09STZgaz7gIbl@getch.com>,\n",
       " <Profile: 1996Reel@getch.com>,\n",
       " <Profile: 9o_clock3@getch.com>,\n",
       " <Profile: Hhhhhhh_1234y@getch.com>,\n",
       " <Profile: All_in_winner@getch.com>,\n",
       " <Profile: yYtlszlvd8Ym4Fm@getch.com>,\n",
       " <Profile: daon3333@getch.com>,\n",
       " <Profile: AidenLee862@getch.com>,\n",
       " <Profile: Dorothy_SH_@getch.com>,\n",
       " <Profile: midasmarin@getch.com>,\n",
       " <Profile: st_cherry_pink@getch.com>,\n",
       " <Profile: chulhonp@getch.com>,\n",
       " <Profile: minjohi@getch.com>,\n",
       " <Profile: URmystar_0330@getch.com>,\n",
       " <Profile: doyeonac@getch.com>,\n",
       " <Profile: Kim_JiSooYG1@getch.com>,\n",
       " <Profile: getitk@getch.com>,\n",
       " <Profile: 910926JINWOObar@getch.com>,\n",
       " <Profile: pyobongbong@getch.com>,\n",
       " <Profile: nanpooh78@getch.com>,\n",
       " <Profile: jooggul94@getch.com>,\n",
       " <Profile: SUN__neeOO@getch.com>,\n",
       " <Profile: Apink6sne@getch.com>,\n",
       " <Profile: rosuean@getch.com>,\n",
       " <Profile: weloveadidas@getch.com>,\n",
       " <Profile: gwangjununa@getch.com>,\n",
       " <Profile: Rooviyaaa@getch.com>,\n",
       " <Profile: Eternal_1229@getch.com>,\n",
       " <Profile: around_b6@getch.com>,\n",
       " <Profile: hyun8034@getch.com>,\n",
       " <Profile: ICARSHOPKOREA@getch.com>,\n",
       " <Profile: ham_flea@getch.com>,\n",
       " <Profile: 35thanks1@getch.com>,\n",
       " <Profile: zzim4989@getch.com>,\n",
       " <Profile: fatenumber_4@getch.com>,\n",
       " <Profile: hwanghuipapa@getch.com>,\n",
       " <Profile: yoonjaecheol@getch.com>,\n",
       " <Profile: parkjk22@getch.com>,\n",
       " <Profile: BlowFysh@getch.com>,\n",
       " <Profile: lazy_momo@getch.com>,\n",
       " <Profile: sweetnebula_@getch.com>,\n",
       " <Profile: JinhunLee@getch.com>,\n",
       " <Profile: luna520_rose@getch.com>,\n",
       " <Profile: rose_aree_rosie@getch.com>,\n",
       " <Profile: DontFlirtJINWOO@getch.com>,\n",
       " <Profile: reelsite06@getch.com>,\n",
       " <Profile: hyominidot@getch.com>,\n",
       " <Profile: scnnaeun@getch.com>,\n",
       " <Profile: songminob@getch.com>,\n",
       " <Profile: bona_preorder@getch.com>,\n",
       " <Profile: urjendeuk@getch.com>,\n",
       " <Profile: 173tong_girl@getch.com>,\n",
       " <Profile: rlnaevn@getch.com>,\n",
       " <Profile: y8n_michaela@getch.com>,\n",
       " <Profile: didehdyd_tkwntp@getch.com>,\n",
       " <Profile: jackdaniecl@getch.com>,\n",
       " <Profile: apwink@getch.com>,\n",
       " <Profile: may_pyohappyBB@getch.com>,\n",
       " <Profile: thsehoon@getch.com>,\n",
       " <Profile: yangdo109@getch.com>,\n",
       " <Profile: honeyddeew@getch.com>,\n",
       " <Profile: theeastlightph@getch.com>,\n",
       " <Profile: SS_MINO@getch.com>,\n",
       " <Profile: 24K_SeokJune@getch.com>,\n",
       " <Profile: berryyangyang@getch.com>,\n",
       " <Profile: PINKPOP_JW@getch.com>,\n",
       " <Profile: winener_cf@getch.com>,\n",
       " <Profile: znPDhH0rVIFKe4P@getch.com>,\n",
       " <Profile: iamcsd_@getch.com>,\n",
       " <Profile: Boogiedogg303@getch.com>,\n",
       " <Profile: QuanTaiwanfam@getch.com>,\n",
       " <Profile: newsenstar@getch.com>,\n",
       " <Profile: steffany9989@getch.com>,\n",
       " <Profile: ct_riss@getch.com>,\n",
       " <Profile: peopleingm@getch.com>,\n",
       " <Profile: lovelyz_Muwmin@getch.com>,\n",
       " <Profile: lana_blue1002@getch.com>,\n",
       " <Profile: rosearkne@getch.com>,\n",
       " <Profile: hanieul@getch.com>,\n",
       " <Profile: deuxim01@getch.com>,\n",
       " <Profile: ppmmjj123@getch.com>,\n",
       " <Profile: furirin_ruby@getch.com>,\n",
       " <Profile: noonebut_PSH@getch.com>,\n",
       " <Profile: MUSINSATV@getch.com>,\n",
       " <Profile: Ala_azul_SUHO@getch.com>,\n",
       " <Profile: YongsukHur@getch.com>,\n",
       " <Profile: peachonedaniel@getch.com>,\n",
       " <Profile: AD08NM0buUQ8Vlg@getch.com>,\n",
       " <Profile: CHAEMOGIRI@getch.com>,\n",
       " <Profile: CureVintage@getch.com>,\n",
       " <Profile: kuzira1go@getch.com>,\n",
       " <Profile: wikitree@getch.com>,\n",
       " <Profile: Rachel_1021@getch.com>,\n",
       " <Profile: jisoovely@getch.com>,\n",
       " <Profile: caviadona@getch.com>,\n",
       " <Profile: PlayM_Official@getch.com>,\n",
       " <Profile: bluebird930330@getch.com>,\n",
       " <Profile: notsimple@getch.com>,\n",
       " <Profile: SW_Lee98@getch.com>,\n",
       " <Profile: OvsDnif1ilGTKKX@getch.com>,\n",
       " <Profile: everyday4kksl@getch.com>,\n",
       " <Profile: CRpE28rjnNgcX7z@getch.com>,\n",
       " <Profile: nhamjoohyuk@getch.com>,\n",
       " <Profile: proj2k@getch.com>,\n",
       " <Profile: Gettheride@getch.com>,\n",
       " <Profile: krmdaon@getch.com>,\n",
       " <Profile: dispatchsns@getch.com>,\n",
       " <Profile: hjvm17L5EL0QbsD@getch.com>,\n",
       " <Profile: Jayden_WKT@getch.com>,\n",
       " <Profile: mj_closet_0305@getch.com>,\n",
       " <Profile: bts528@getch.com>,\n",
       " <Profile: stylenstar@getch.com>,\n",
       " <Profile: ab_Apple_box@getch.com>,\n",
       " <Profile: USA_INNERCIRCLE@getch.com>,\n",
       " <Profile: gwonsoo@getch.com>,\n",
       " <Profile: cherish4860@getch.com>,\n",
       " <Profile: nicev3@getch.com>,\n",
       " <Profile: sooo_pilates@getch.com>,\n",
       " <Profile: Y8NsWORLD@getch.com>,\n",
       " <Profile: djungwheein@getch.com>,\n",
       " <Profile: aepe0619@getch.com>,\n",
       " <Profile: hello_hoony@getch.com>,\n",
       " <Profile: Maximus62056417@getch.com>,\n",
       " <Profile: calmtot@getch.com>,\n",
       " <Profile: TheSueKim@getch.com>,\n",
       " <Profile: mj8180@getch.com>,\n",
       " <Profile: theksy0121@getch.com>,\n",
       " <Profile: got7_sell_goods@getch.com>,\n",
       " <Profile: prkrojeu@getch.com>,\n",
       " <Profile: sonny_cut@getch.com>,\n",
       " <Profile: PatatoSweet@getch.com>,\n",
       " <Profile: izone_fashion@getch.com>,\n",
       " <Profile: mjym951225@getch.com>,\n",
       " <Profile: theSTAR_korea@getch.com>,\n",
       " <Profile: seekpif@getch.com>,\n",
       " <Profile: HyggeJourney@getch.com>,\n",
       " <Profile: seochonews@getch.com>,\n",
       " <Profile: 09_jun_k@getch.com>,\n",
       " <Profile: oxYGen21W@getch.com>,\n",
       " <Profile: sh_momo_@getch.com>,\n",
       " <Profile: jinuSEAN3000@getch.com>,\n",
       " <Profile: _aka_kei@getch.com>,\n",
       " <Profile: Funnyshopper@getch.com>,\n",
       " <Profile: _merlinbeard_@getch.com>,\n",
       " <Profile: thuhao559@getch.com>,\n",
       " <Profile: Y9HNbEexaWRbMjT@getch.com>,\n",
       " <Profile: rideordiewith@getch.com>,\n",
       " <Profile: algae03033@getch.com>,\n",
       " <Profile: haonly_@getch.com>,\n",
       " <Profile: 1999oh1102@getch.com>,\n",
       " <Profile: Huing_may_529@getch.com>,\n",
       " <Profile: frvr_blackpink@getch.com>,\n",
       " <Profile: mmoentertainmen@getch.com>,\n",
       " <Profile: rikako_info_KOR@getch.com>,\n",
       " <Profile: S2aurora_4@getch.com>,\n",
       " <Profile: Seunghyun10000@getch.com>,\n",
       " <Profile: sunghoon105@getch.com>,\n",
       " <Profile: phoichan@getch.com>,\n",
       " <Profile: GVGSHOP@getch.com>,\n",
       " <Profile: heikaku@getch.com>,\n",
       " <Profile: w__n_r00@getch.com>,\n",
       " <Profile: junghyeri1993@getch.com>,\n",
       " <Profile: Ssoys@getch.com>,\n",
       " <Profile: reelly6@getch.com>,\n",
       " <Profile: jichuuby@getch.com>,\n",
       " <Profile: saxmanjang@getch.com>,\n",
       " <Profile: tonyjjong@getch.com>,\n",
       " <Profile: instiz@getch.com>,\n",
       " <Profile: minconghee@getch.com>,\n",
       " <Profile: moussyofficial@getch.com>,\n",
       " <Profile: adidaskorea@getch.com>,\n",
       " <Profile: styleby_rv@getch.com>,\n",
       " <Profile: tmaxminchul@getch.com>,\n",
       " <Profile: wy8aiwlab7TYK8s@getch.com>,\n",
       " <Profile: 5siItDafgZTta4o@getch.com>,\n",
       " <Profile: Jeon92717470@getch.com>,\n",
       " <Profile: hvZOffK7RUi21Lg@getch.com>,\n",
       " <Profile: tk2322@getch.com>,\n",
       " <Profile: friendlykevin@getch.com>,\n",
       " <Profile: WIMTvtsjkdgX2py@getch.com>,\n",
       " <Profile: wonixuk@getch.com>,\n",
       " <Profile: faceinmusic@getch.com>,\n",
       " <Profile: Canada_Dobie@getch.com>,\n",
       " <Profile: GOT7_goods0116@getch.com>,\n",
       " <Profile: hyun_jin_0222@getch.com>,\n",
       " <Profile: StyleShare_twt@getch.com>,\n",
       " <Profile: OwABOzgCP8ZU0hZ@getch.com>,\n",
       " <Profile: brandiapp@getch.com>,\n",
       " <Profile: j_hs_luv@getch.com>,\n",
       " <Profile: wlqkdtl@getch.com>,\n",
       " <Profile: rowseparkk@getch.com>,\n",
       " <Profile: lovenk1130@getch.com>,\n",
       " <Profile: wpistheone@getch.com>,\n",
       " <Profile: wngus010404@getch.com>,\n",
       " <Profile: s_na114@getch.com>,\n",
       " <Profile: rina_Lin99@getch.com>,\n",
       " <Profile: TribeP@getch.com>,\n",
       " <Profile: 275ichiro@getch.com>,\n",
       " <Profile: PULPLE_BML@getch.com>,\n",
       " <Profile: libing0226@getch.com>,\n",
       " <Profile: linptint@getch.com>,\n",
       " <Profile: hKS1tElnoLSRfyk@getch.com>,\n",
       " <Profile: FelizWinner@getch.com>,\n",
       " <Profile: HOONY_FANCAFE@getch.com>,\n",
       " <Profile: 61i4AvXKMFfBQFR@getch.com>,\n",
       " <Profile: T_araTH@getch.com>,\n",
       " <Profile: 0kunaUeCnFbhx7Y@getch.com>,\n",
       " <Profile: MinoWlN@getch.com>,\n",
       " <Profile: xxppprrr@getch.com>,\n",
       " <Profile: wonkuk09@getch.com>,\n",
       " <Profile: Hariboisnice@getch.com>,\n",
       " <Profile: YUNAangel132@getch.com>,\n",
       " <Profile: musiczhong@getch.com>,\n",
       " <Profile: Egong_Schiele@getch.com>,\n",
       " <Profile: aminike24@getch.com>,\n",
       " <Profile: igykfWayQtOTDNJ@getch.com>,\n",
       " <Profile: eeeskyeee@getch.com>,\n",
       " <Profile: i16go6YPy9qLo2A@getch.com>,\n",
       " <Profile: dindinem@getch.com>,\n",
       " <Profile: suouzy@getch.com>,\n",
       " <Profile: gmBamCh@getch.com>,\n",
       " <Profile: WINNER_holic@getch.com>,\n",
       " <Profile: nunbyt@getch.com>,\n",
       " <Profile: kkP5W7TeATN4y9A@getch.com>,\n",
       " <Profile: maekyungsns@getch.com>,\n",
       " <Profile: XCkheSlOLst3eRx@getch.com>,\n",
       " <Profile: P9RSMQGs6uUAX1N@getch.com>,\n",
       " <Profile: ContactDreamer@getch.com>,\n",
       " <Profile: a9j8NyXpViMYJdu@getch.com>,\n",
       " <Profile: jebi_167@getch.com>,\n",
       " <Profile: jingwen1119@getch.com>,\n",
       " <Profile: 2mindc@getch.com>,\n",
       " <Profile: JeewonRyu@getch.com>,\n",
       " <Profile: berrydx@getch.com>,\n",
       " <Profile: chinbat6@getch.com>,\n",
       " <Profile: ququ0987@getch.com>,\n",
       " <Profile: clonetech_xyz@getch.com>,\n",
       " <Profile: WJAB6IX1@getch.com>,\n",
       " <Profile: tqern1byIZfFUuE@getch.com>,\n",
       " <Profile: A_YAN_kr@getch.com>,\n",
       " <Profile: lkymj@getch.com>,\n",
       " <Profile: rupiah74@getch.com>,\n",
       " <Profile: koosy11041@getch.com>,\n",
       " <Profile: JoanaAParkSsi@getch.com>,\n",
       " <Profile: YhFx7iXDfIYxcxg@getch.com>,\n",
       " <Profile: elluibass@getch.com>,\n",
       " <Profile: citywatchescokr@getch.com>,\n",
       " <Profile: FREECOMPANiON1@getch.com>,\n",
       " <Profile: FUHCA6LBjjdGgre@getch.com>,\n",
       " <Profile: WeatherOfWhite@getch.com>,\n",
       " <Profile: Bom_love_49@getch.com>,\n",
       " <Profile: BCSEUNGYOON94@getch.com>,\n",
       " <Profile: YGwinnerPH@getch.com>,\n",
       " <Profile: paranjajeonger@getch.com>,\n",
       " <Profile: phebruary@getch.com>,\n",
       " <Profile: qCcx80EiDMaW3f7@getch.com>,\n",
       " <Profile: really_loveme_w@getch.com>,\n",
       " <Profile: break_job@getch.com>,\n",
       " <Profile: hyggepost@getch.com>,\n",
       " <Profile: aruxxi111@getch.com>,\n",
       " <Profile: kjizhoo@getch.com>,\n",
       " <Profile: alexrhino3@getch.com>,\n",
       " <Profile: limmj87@getch.com>,\n",
       " <Profile: winx3467@getch.com>,\n",
       " <Profile: kimmiri13@getch.com>,\n",
       " <Profile: starboyutube@getch.com>,\n",
       " <Profile: Rudelulu@getch.com>,\n",
       " <Profile: Naivety0210@getch.com>,\n",
       " <Profile: nobu__89KSY@getch.com>,\n",
       " <Profile: chowaathing@getch.com>,\n",
       " <Profile: duku809@getch.com>,\n",
       " <Profile: eroinkyung@getch.com>,\n",
       " <Profile: SKzUxSEJW4n1ibb@getch.com>,\n",
       " <Profile: _jinujinu_@getch.com>,\n",
       " <Profile: dKljww5Fx2Z03yY@getch.com>,\n",
       " <Profile: fifazz@getch.com>,\n",
       " <Profile: ELOQUENCE_2000@getch.com>,\n",
       " <Profile: 10kdam@getch.com>,\n",
       " <Profile: zinupix@getch.com>,\n",
       " <Profile: harrypoplar@getch.com>,\n",
       " <Profile: etodaynews@getch.com>,\n",
       " <Profile: ynom123@getch.com>,\n",
       " <Profile: findpsj@getch.com>,\n",
       " <Profile: yuzuade@getch.com>,\n",
       " <Profile: zhang_gu@getch.com>,\n",
       " <Profile: sophiasin@getch.com>,\n",
       " <Profile: Soon2ndbox@getch.com>,\n",
       " <Profile: 1mokiss@getch.com>,\n",
       " <Profile: yeahyeahv@getch.com>,\n",
       " <Profile: Itslilfresh@getch.com>,\n",
       " <Profile: dk__1988@getch.com>,\n",
       " <Profile: Bg8lGC8f2lpD33L@getch.com>,\n",
       " <Profile: Sylu21@getch.com>,\n",
       " <Profile: winner4lover@getch.com>,\n",
       " <Profile: SagkmXoaQWNUpNs@getch.com>,\n",
       " <Profile: dbsduddk13@getch.com>,\n",
       " <Profile: smilehninggg_@getch.com>,\n",
       " <Profile: epodomall@getch.com>,\n",
       " <Profile: c_jaeeun_jp@getch.com>,\n",
       " <Profile: MySignValue@getch.com>,\n",
       " <Profile: y8n____@getch.com>,\n",
       " <Profile: swtlyuv@getch.com>,\n",
       " <Profile: inquration@getch.com>,\n",
       " <Profile: jeygnteng@getch.com>,\n",
       " <Profile: jewnir@getch.com>,\n",
       " <Profile: Originals_kr@getch.com>,\n",
       " <Profile: kjednni@getch.com>,\n",
       " <Profile: nalaliisa_m@getch.com>,\n",
       " <Profile: JACKSON_IGOT7ES@getch.com>,\n",
       " <Profile: llaalisa@getch.com>,\n",
       " <Profile: JungYer21472196@getch.com>,\n",
       " <Profile: vacxnila@getch.com>,\n",
       " <Profile: suhyah@getch.com>,\n",
       " <Profile: ninirubiyjane@getch.com>,\n",
       " <Profile: cantiilk@getch.com>,\n",
       " <Profile: crysstalfx@getch.com>,\n",
       " <Profile: azularubyjane@getch.com>,\n",
       " <Profile: V87SQ@getch.com>,\n",
       " <Profile: fromahnxxviv@getch.com>,\n",
       " <Profile: lalipsa@getch.com>,\n",
       " <Profile: laylisac@getch.com>,\n",
       " <Profile: naecnz@getch.com>,\n",
       " <Profile: ShristyNese@getch.com>,\n",
       " <Profile: BlackPinkUY@getch.com>,\n",
       " <Profile: ViaGarnett@getch.com>,\n",
       " <Profile: nctscrush@getch.com>,\n",
       " <Profile: laliceic@getch.com>,\n",
       " <Profile: kirnjichuya@getch.com>,\n",
       " <Profile: vowdkas@getch.com>,\n",
       " <Profile: RedfernDuff@getch.com>,\n",
       " <Profile: jennhiep@getch.com>,\n",
       " <Profile: dcmino0330@getch.com>,\n",
       " <Profile: lalishamyang@getch.com>,\n",
       " <Profile: iamceye@getch.com>,\n",
       " <Profile: byunbern@getch.com>,\n",
       " <Profile: sophyxxc@getch.com>,\n",
       " <Profile: kjeunnys@getch.com>,\n",
       " <Profile: Katal77@getch.com>,\n",
       " <Profile: grey_pearla@getch.com>,\n",
       " <Profile: jeneukim@getch.com>,\n",
       " <Profile: lalisaxmnbn@getch.com>,\n",
       " <Profile: prkchoroung@getch.com>,\n",
       " <Profile: sefhunz@getch.com>,\n",
       " <Profile: rpekjs@getch.com>,\n",
       " <Profile: shmheung975@getch.com>,\n",
       " <Profile: FredrickaErti@getch.com>,\n",
       " <Profile: rvsseugie@getch.com>,\n",
       " <Profile: woxnusvt@getch.com>,\n",
       " <Profile: vrcsace@getch.com>,\n",
       " <Profile: jeyndeukim@getch.com>,\n",
       " <Profile: yedjiz@getch.com>,\n",
       " <Profile: SipheloSafet@getch.com>,\n",
       " <Profile: hneuIinaf@getch.com>,\n",
       " <Profile: jdeniy@getch.com>,\n",
       " <Profile: jeennierubyjane@getch.com>,\n",
       " <Profile: Tammy_Choi@getch.com>,\n",
       " <Profile: giunupup@getch.com>,\n",
       " <Profile: arenaon@getch.com>,\n",
       " <Profile: memoLoving@getch.com>,\n",
       " <Profile: ptmassdol0002@getch.com>,\n",
       " <Profile: smilesmile2197@getch.com>,\n",
       " <Profile: littlewind97@getch.com>,\n",
       " <Profile: rugin01ms001001@getch.com>,\n",
       " <Profile: gkstdrbox@getch.com>,\n",
       " <Profile: starfull097@getch.com>,\n",
       " <Profile: rjwuwnffo99@getch.com>,\n",
       " <Profile: smat2ya@getch.com>,\n",
       " <Profile: HiHeeeeeee@getch.com>,\n",
       " <Profile: Like_syrup@getch.com>,\n",
       " <Profile: moonsub_shin@getch.com>,\n",
       " <Profile: alcia_merc@getch.com>,\n",
       " <Profile: lacarissima@getch.com>,\n",
       " <Profile: terwild@getch.com>,\n",
       " <Profile: JOY96ON@getch.com>,\n",
       " <Profile: haewonchin@getch.com>,\n",
       " <Profile: rpbjhs@getch.com>,\n",
       " <Profile: hy_ewon@getch.com>,\n",
       " <Profile: kimjin22375999@getch.com>,\n",
       " <Profile: SMTOWN_SUPPORT@getch.com>,\n",
       " <Profile: _vvano@getch.com>,\n",
       " <Profile: roses_are_rosej@getch.com>,\n",
       " <Profile: S0YJ0YRV@getch.com>,\n",
       " <Profile: j0fliiet@getch.com>,\n",
       " <Profile: roseance@getch.com>,\n",
       " <Profile: shitneyj@getch.com>,\n",
       " <Profile: _imyour_jjoyie@getch.com>,\n",
       " <Profile: newcloudless@getch.com>,\n",
       " <Profile: bucween@getch.com>,\n",
       " <Profile: ixyujin@getch.com>,\n",
       " <Profile: jheejint@getch.com>,\n",
       " <Profile: JOY93BT@getch.com>,\n",
       " <Profile: parkjoyieo@getch.com>,\n",
       " <Profile: hi_hankyung@getch.com>,\n",
       " <Profile: poseidonyu@getch.com>,\n",
       " <Profile: joyful0903rv@getch.com>,\n",
       " <Profile: anyujeen@getch.com>,\n",
       " <Profile: iamkfanboy@getch.com>,\n",
       " <Profile: _imyour_joyi@getch.com>,\n",
       " <Profile: bingsooyoung@getch.com>,\n",
       " <Profile: yoshia79@getch.com>,\n",
       " <Profile: akuseulgi@getch.com>,\n",
       " <Profile: TYTRUK@getch.com>,\n",
       " <Profile: RedVelvetIns@getch.com>,\n",
       " <Profile: StylistHyunjung@getch.com>,\n",
       " <Profile: itsEunTaeHee@getch.com>,\n",
       " <Profile: __imyuor_joy@getch.com>,\n",
       " <Profile: 9604953@getch.com>,\n",
       " <Profile: softiekisseu@getch.com>,\n",
       " <Profile: HyunaTH@getch.com>,\n",
       " <Profile: Honey_lin0923@getch.com>,\n",
       " <Profile: dreamboylin@getch.com>,\n",
       " <Profile: lai_kuanlin923@getch.com>,\n",
       " <Profile: laikkuanlxn@getch.com>,\n",
       " <Profile: bossloveapple@getch.com>,\n",
       " <Profile: cookpark85@getch.com>,\n",
       " <Profile: TrAd0209@getch.com>,\n",
       " <Profile: bestmyminds@getch.com>,\n",
       " <Profile: NFloset@getch.com>,\n",
       " <Profile: DongnaehoguNO1@getch.com>,\n",
       " <Profile: rpholic3@getch.com>,\n",
       " <Profile: JIN_fanaccount_@getch.com>,\n",
       " <Profile: btsbtsbts111222@getch.com>,\n",
       " <Profile: bbbtttsss_A@getch.com>,\n",
       " <Profile: Amy_V_3030@getch.com>,\n",
       " <Profile: sadboss007@getch.com>,\n",
       " <Profile: Golden_Kook_901@getch.com>,\n",
       " <Profile: min_ah974@getch.com>,\n",
       " <Profile: a1SSlafnmTXZkJD@getch.com>,\n",
       " <Profile: SooHeeinJESUS@getch.com>,\n",
       " <Profile: YapVcAfWllXeHYJ@getch.com>,\n",
       " <Profile: Jim_bts_95z@getch.com>,\n",
       " <Profile: sumutiah_99@getch.com>,\n",
       " <Profile: BTS_Army_76_@getch.com>,\n",
       " <Profile: xx_camilix@getch.com>,\n",
       " <Profile: wannaone112100@getch.com>,\n",
       " <Profile: BOMJI__@getch.com>,\n",
       " <Profile: urlaikuqnlin@getch.com>,\n",
       " <Profile: artCoffiano@getch.com>,\n",
       " <Profile: nananyanyo@getch.com>,\n",
       " <Profile: unjk99@getch.com>,\n",
       " <Profile: MKIBvF1UmCyn7iu@getch.com>,\n",
       " <Profile: h1laNg@getch.com>,\n",
       " <Profile: Portions_ofS@getch.com>,\n",
       " <Profile: salkjskdf620th@getch.com>,\n",
       " <Profile: BTboys_and_girl@getch.com>,\n",
       " <Profile: WtxEarN1lKTHyi6@getch.com>,\n",
       " <Profile: lilyayo8464@getch.com>,\n",
       " <Profile: iniapasihh@getch.com>,\n",
       " <Profile: Love92__@getch.com>,\n",
       " <Profile: vd_cho@getch.com>,\n",
       " <Profile: chaeeunbaeg9@getch.com>,\n",
       " <Profile: deldeldelhee@getch.com>,\n",
       " <Profile: _pun_army@getch.com>,\n",
       " <Profile: MissSarahLouise@getch.com>,\n",
       " <Profile: bjtysk916@getch.com>,\n",
       " <Profile: Esther050818@getch.com>,\n",
       " <Profile: jkl2347@getch.com>,\n",
       " <Profile: helpingducklife@getch.com>,\n",
       " <Profile: dfgJ4297@getch.com>,\n",
       " <Profile: asdfkjsdfi630th@getch.com>,\n",
       " <Profile: J_K_hello_3@getch.com>,\n",
       " <Profile: Sweetchim1013@getch.com>,\n",
       " <Profile: BTS123Oru@getch.com>,\n",
       " <Profile: JUN4EHEH@getch.com>,\n",
       " <Profile: jun19940912@getch.com>,\n",
       " <Profile: jeonjiwooe@getch.com>,\n",
       " <Profile: 930309vely@getch.com>,\n",
       " <Profile: BTS__LOVEYOUR@getch.com>,\n",
       " <Profile: Park_kim131095@getch.com>,\n",
       " <Profile: GUCCI__ye@getch.com>,\n",
       " <Profile: tanluvluv@getch.com>,\n",
       " <Profile: iteen2013@getch.com>,\n",
       " <Profile: Glorious_namE@getch.com>,\n",
       " <Profile: RROTH_twt@getch.com>,\n",
       " <Profile: likeyfal@getch.com>,\n",
       " <Profile: PIzbtq153WovWbw@getch.com>,\n",
       " <Profile: army_juju98@getch.com>,\n",
       " <Profile: nieahnah0309@getch.com>,\n",
       " <Profile: ReneeCh79448146@getch.com>,\n",
       " <Profile: Hq1hxMkyZ3DeUk7@getch.com>,\n",
       " <Profile: 9x0x0x@getch.com>,\n",
       " <Profile: Alisontorres170@getch.com>,\n",
       " <Profile: J_K_hello_6@getch.com>,\n",
       " <Profile: PT1WUR0B6cvaI4z@getch.com>,\n",
       " <Profile: JIMNIDANI@getch.com>,\n",
       " <Profile: jy7bangtan@getch.com>,\n",
       " <Profile: pessawy@getch.com>,\n",
       " <Profile: mushroom_921204@getch.com>,\n",
       " <Profile: btsmd0613@getch.com>,\n",
       " <Profile: qkdxks0922@getch.com>,\n",
       " <Profile: fJTGqD4vamjQSGk@getch.com>,\n",
       " <Profile: trangggjkggg@getch.com>,\n",
       " <Profile: a9IJhlMjLX7K5is@getch.com>,\n",
       " <Profile: ticketpay1101@getch.com>,\n",
       " <Profile: arlangbangu@getch.com>,\n",
       " <Profile: ilililil_x@getch.com>,\n",
       " <Profile: lila_koreaboo@getch.com>,\n",
       " <Profile: ga_ram_0613@getch.com>,\n",
       " <Profile: ge02420477@getch.com>,\n",
       " <Profile: Heart_Lyn35@getch.com>,\n",
       " <Profile: NSYHJTJch@getch.com>,\n",
       " <Profile: nuninuni_bts@getch.com>,\n",
       " <Profile: _snowy_crystal@getch.com>,\n",
       " <Profile: shaynefanclub@getch.com>,\n",
       " <Profile: HJKANGYANG@getch.com>,\n",
       " <Profile: mkookiemang@getch.com>,\n",
       " <Profile: ktaeyxg@getch.com>,\n",
       " <Profile: taehyungchitsu@getch.com>,\n",
       " <Profile: I_LOVE_SJ1204@getch.com>,\n",
       " <Profile: OgUJtoYATLh5wSF@getch.com>,\n",
       " <Profile: JanahAlexander@getch.com>,\n",
       " <Profile: agusdmin@getch.com>,\n",
       " <Profile: dprwhdprwh@getch.com>,\n",
       " <Profile: happynanum@getch.com>,\n",
       " <Profile: nn091___@getch.com>,\n",
       " <Profile: hX9ZwrZ4DAEo7KD@getch.com>,\n",
       " <Profile: BTStaetae_jimin@getch.com>,\n",
       " <Profile: Graegaejung__@getch.com>,\n",
       " <Profile: _BTS1_ARMY1@getch.com>,\n",
       " <Profile: coolnakim@getch.com>,\n",
       " <Profile: xinyujm@getch.com>,\n",
       " <Profile: OFFICIAL_WANNAB@getch.com>,\n",
       " <Profile: _scoopcafe_@getch.com>,\n",
       " <Profile: 77f0ad74dbd0447@getch.com>,\n",
       " <Profile: Minsterious@getch.com>,\n",
       " <Profile: Cabbage_g@getch.com>,\n",
       " <Profile: i997ivu@getch.com>,\n",
       " <Profile: chimbomy@getch.com>,\n",
       " <Profile: aHYun_st@getch.com>,\n",
       " <Profile: irene_9795@getch.com>,\n",
       " <Profile: Hashtag_Jin@getch.com>,\n",
       " <Profile: yohavnt@getch.com>,\n",
       " <Profile: jjan_love@getch.com>,\n",
       " <Profile: tjffl0817@getch.com>,\n",
       " <Profile: YOUR__SEASON__@getch.com>,\n",
       " <Profile: kookiandI@getch.com>,\n",
       " <Profile: RXmxhxNzLPphFxU@getch.com>,\n",
       " <Profile: e_lee_e_e@getch.com>,\n",
       " <Profile: bts06130517@getch.com>,\n",
       " <Profile: aUdis_o@getch.com>,\n",
       " <Profile: ARMY06772295@getch.com>,\n",
       " <Profile: SBts0906@getch.com>,\n",
       " <Profile: kangutang@getch.com>,\n",
       " <Profile: wink_kookie@getch.com>,\n",
       " <Profile: lwDzrnQt372fh1b@getch.com>,\n",
       " <Profile: jiyeonkim040802@getch.com>,\n",
       " <Profile: mitsukiblanco@getch.com>,\n",
       " <Profile: Chube1997@getch.com>,\n",
       " <Profile: whitedumplings@getch.com>,\n",
       " <Profile: Lemonwhereareu@getch.com>,\n",
       " <Profile: Sultanghalmi@getch.com>,\n",
       " <Profile: gOodS_GooDsS@getch.com>,\n",
       " <Profile: TQDTmJjgr3zoEFu@getch.com>,\n",
       " <Profile: dmsrud_bts_love@getch.com>,\n",
       " <Profile: NeSnT8qzMbDqSOh@getch.com>,\n",
       " <Profile: bbbbbts__@getch.com>,\n",
       " <Profile: yangdoooarmy@getch.com>,\n",
       " <Profile: 0613Tutu@getch.com>,\n",
       " <Profile: AnaESeip@getch.com>,\n",
       " <Profile: dlqhrh1@getch.com>,\n",
       " <Profile: Kristel84530731@getch.com>,\n",
       " <Profile: Artallaroundyou@getch.com>,\n",
       " <Profile: BOEWEN1010123@getch.com>,\n",
       " <Profile: ArmyaroundW@getch.com>,\n",
       " <Profile: Mrkimv@getch.com>,\n",
       " <Profile: 7ngPdxlbCSbIIGC@getch.com>,\n",
       " <Profile: danmuji_army@getch.com>,\n",
       " <Profile: IPU_BTS__@getch.com>,\n",
       " <Profile: adavengers3@getch.com>,\n",
       " <Profile: Maymuna91173297@getch.com>,\n",
       " <Profile: LYFZPu9FPPEbpzV@getch.com>,\n",
       " <Profile: 00rkdms00@getch.com>,\n",
       " <Profile: codud930@getch.com>,\n",
       " <Profile: jiminimoni@getch.com>,\n",
       " <Profile: h_____se_jin@getch.com>,\n",
       " <Profile: tans_v_7024@getch.com>,\n",
       " <Profile: 0211_yona@getch.com>,\n",
       " <Profile: bts__army_b@getch.com>,\n",
       " <Profile: howngseok@getch.com>,\n",
       " <Profile: magicshop_bts@getch.com>,\n",
       " <Profile: syub93_@getch.com>,\n",
       " <Profile: junng587@getch.com>,\n",
       " <Profile: KWqNHbLx3QG0v1v@getch.com>,\n",
       " <Profile: BINGTAE0613@getch.com>,\n",
       " <Profile: dogjobdeok@getch.com>,\n",
       " <Profile: tTN9H0Swj9l2n1U@getch.com>,\n",
       " <Profile: 95TAE_JIM@getch.com>,\n",
       " <Profile: btsarmy2013061@getch.com>,\n",
       " <Profile: tatanata1830@getch.com>,\n",
       " <Profile: ghj0944@getch.com>,\n",
       " <Profile: bts_hiioo@getch.com>,\n",
       " <Profile: dearyouni_twt@getch.com>,\n",
       " <Profile: wonbin9093@getch.com>,\n",
       " <Profile: love613_S2@getch.com>,\n",
       " <Profile: 3_LOVE_MYSELF_3@getch.com>,\n",
       " <Profile: Z55fV@getch.com>,\n",
       " <Profile: RMj_Oql2@getch.com>,\n",
       " <Profile: pss9876@getch.com>,\n",
       " <Profile: 07dhrk_bdje@getch.com>,\n",
       " <Profile: 9jjqr0FcZhnqHaP@getch.com>,\n",
       " <Profile: 1230VN_@getch.com>,\n",
       " <Profile: kimnavi76@getch.com>,\n",
       " <Profile: Him_4r@getch.com>,\n",
       " <Profile: sugaberry0309@getch.com>,\n",
       " <Profile: ruda_moon@getch.com>,\n",
       " <Profile: noname18967006@getch.com>,\n",
       " <Profile: jin2880@getch.com>,\n",
       " <Profile: yu_ja_kook@getch.com>,\n",
       " <Profile: bettakpop@getch.com>,\n",
       " <Profile: oneenough3@getch.com>,\n",
       " <Profile: BTS_JK___D@getch.com>,\n",
       " <Profile: iamlunartic@getch.com>,\n",
       " <Profile: mo1st2ar3@getch.com>,\n",
       " <Profile: cksgn5@getch.com>,\n",
       " <Profile: 951013_JIMINI@getch.com>,\n",
       " <Profile: iamrealmel@getch.com>,\n",
       " <Profile: 52_EHYOLO@getch.com>,\n",
       " <Profile: ragi4053@getch.com>,\n",
       " <Profile: chaptein@getch.com>,\n",
       " <Profile: kwangpal@getch.com>,\n",
       " <Profile: Heidi82231216@getch.com>,\n",
       " <Profile: geniuscat03@getch.com>,\n",
       " <Profile: G2gHvxScNLT4642@getch.com>,\n",
       " <Profile: hhbhh___@getch.com>,\n",
       " <Profile: SS0b1O4x6CZkbtN@getch.com>,\n",
       " <Profile: H_HYUNI@getch.com>,\n",
       " <Profile: jengnei@getch.com>,\n",
       " <Profile: JjJjJjjei@getch.com>,\n",
       " <Profile: wuxo3svRYcDKcJE@getch.com>,\n",
       " <Profile: KITTYJM_31@getch.com>,\n",
       " <Profile: ACQ5KGu3sLL38hb@getch.com>,\n",
       " <Profile: jimin10130325@getch.com>,\n",
       " <Profile: JIMIN_SJ@getch.com>,\n",
       " <Profile: taehyung_8999@getch.com>,\n",
       " <Profile: Pangtan21@getch.com>,\n",
       " <Profile: shriya_bjr@getch.com>,\n",
       " <Profile: whdkgnl000@getch.com>,\n",
       " <Profile: YANGDOcool@getch.com>,\n",
       " <Profile: btskai0613@getch.com>,\n",
       " <Profile: bolabe0613@getch.com>,\n",
       " <Profile: minasama0@getch.com>,\n",
       " <Profile: Violet_0906@getch.com>,\n",
       " <Profile: 130613_vope@getch.com>,\n",
       " <Profile: 1013_1004JM@getch.com>,\n",
       " <Profile: kpop945945@getch.com>,\n",
       " <Profile: pupkepupke@getch.com>,\n",
       " <Profile: ARMY_TOGETHER_@getch.com>,\n",
       " <Profile: kKcW1ul0sWFFE8P@getch.com>,\n",
       " <Profile: taetaehimang@getch.com>,\n",
       " <Profile: hh_123_dd@getch.com>,\n",
       " <Profile: SeaofBTS_7@getch.com>,\n",
       " <Profile: kthpsb88@getch.com>,\n",
       " <Profile: ojVpDeyTGwr0MtK@getch.com>,\n",
       " <Profile: BTSND130613@getch.com>,\n",
       " <Profile: Ving_gl_ving_gl@getch.com>,\n",
       " <Profile: 3dollarprdctn@getch.com>,\n",
       " <Profile: S2__Agust_D@getch.com>,\n",
       " <Profile: rla47514751@getch.com>,\n",
       " <Profile: taijirhr@getch.com>,\n",
       " <Profile: houii0114@getch.com>,\n",
       " <Profile: Narable_@getch.com>,\n",
       " <Profile: your_yeon2@getch.com>,\n",
       " <Profile: vminmoonchilds@getch.com>,\n",
       " <Profile: chimmycookybts@getch.com>,\n",
       " <Profile: bbangbarm@getch.com>,\n",
       " <Profile: WQ99ow@getch.com>,\n",
       " <Profile: _peach_j_@getch.com>,\n",
       " <Profile: idolchartrank@getch.com>,\n",
       " <Profile: Memoria_J@getch.com>,\n",
       " <Profile: BTS_DDURU@getch.com>,\n",
       " <Profile: kimutete__1230@getch.com>,\n",
       " <Profile: sccenerry@getch.com>,\n",
       " <Profile: BTS_Selling_9@getch.com>,\n",
       " <Profile: qwertasdzxc09@getch.com>,\n",
       " <Profile: AreeMaces@getch.com>,\n",
       " <Profile: mirine_13@getch.com>,\n",
       " <Profile: RJSJJVJ______@getch.com>,\n",
       " <Profile: snowmochi_@getch.com>,\n",
       " <Profile: Bday130613@getch.com>,\n",
       " <Profile: apobangpo613@getch.com>,\n",
       " <Profile: B5AL7LirilNBfH3@getch.com>,\n",
       " <Profile: ARMY_Ddyn@getch.com>,\n",
       " <Profile: G8i1tKsEYMHYK7r@getch.com>,\n",
       " <Profile: hw4young@getch.com>,\n",
       " <Profile: BTKU_official@getch.com>,\n",
       " <Profile: eunluw@getch.com>,\n",
       " <Profile: NAN0METER__@getch.com>,\n",
       " <Profile: Scenery_0613@getch.com>,\n",
       " <Profile: ljk429@getch.com>,\n",
       " <Profile: BTSJEC@getch.com>,\n",
       " <Profile: hyunone@getch.com>,\n",
       " <Profile: CJhNqJVBA984Iek@getch.com>,\n",
       " <Profile: Ibdrf4kgvYatQaq@getch.com>,\n",
       " <Profile: HelloOutdoors@getch.com>,\n",
       " <Profile: 062_518_cm@getch.com>,\n",
       " <Profile: maplejoonie@getch.com>,\n",
       " <Profile: pjj06211@getch.com>,\n",
       " <Profile: inae1997@getch.com>,\n",
       " <Profile: HAAAAA789@getch.com>,\n",
       " <Profile: IsaacCourage4@getch.com>,\n",
       " <Profile: dddyulbbb@getch.com>,\n",
       " <Profile: BTS_mindalpang@getch.com>,\n",
       " <Profile: qhfkgo13613_KYJ@getch.com>,\n",
       " <Profile: Starland_7020@getch.com>,\n",
       " <Profile: DenyshaShireen@getch.com>,\n",
       " <Profile: S2JIMS2@getch.com>,\n",
       " <Profile: moonchild__0912@getch.com>,\n",
       " <Profile: gnatchoo@getch.com>,\n",
       " <Profile: _chiketto_@getch.com>,\n",
       " <Profile: bts_gold_time@getch.com>,\n",
       " <Profile: V_TTT7@getch.com>,\n",
       " <Profile: MnetMcountdown@getch.com>,\n",
       " <Profile: lopezcryaaa@getch.com>,\n",
       " <Profile: BTSArmyAlways_@getch.com>,\n",
       " <Profile: GkGjaxv7sZCDX1W@getch.com>,\n",
       " <Profile: kookv_keyring@getch.com>,\n",
       " <Profile: ipurplebts777@getch.com>,\n",
       " <Profile: BIJU_BTS@getch.com>,\n",
       " <Profile: eternalyxuth@getch.com>,\n",
       " <Profile: ir44fI4Ev7a157K@getch.com>,\n",
       " <Profile: WcJhv3@getch.com>,\n",
       " <Profile: imbts_v@getch.com>,\n",
       " <Profile: namjoon__12@getch.com>,\n",
       " <Profile: batrisyiaooo@getch.com>,\n",
       " <Profile: BTS_THK_twt@getch.com>,\n",
       " <Profile: zCxPsFFOK9kse4e@getch.com>,\n",
       " <Profile: am_tyyu@getch.com>,\n",
       " <Profile: it_vote_for_BTS@getch.com>,\n",
       " <Profile: 40O6xC0JVNi0UmE@getch.com>,\n",
       " <Profile: Vlandking@getch.com>,\n",
       " <Profile: lovebts_130920@getch.com>,\n",
       " <Profile: saddy2580@getch.com>,\n",
       " <Profile: myloveidol_kpop@getch.com>,\n",
       " <Profile: davitarmy22@getch.com>,\n",
       " <Profile: ApolinarKara@getch.com>,\n",
       " <Profile: premi_is_army@getch.com>,\n",
       " <Profile: PSI_GHM_0806@getch.com>,\n",
       " <Profile: 20150508_BTS@getch.com>,\n",
       " <Profile: protectyourlips@getch.com>,\n",
       " <Profile: wodjrsid@getch.com>,\n",
       " <Profile: ardnajelara@getch.com>,\n",
       " <Profile: ssoyaticket@getch.com>,\n",
       " <Profile: Jh_O522_@getch.com>,\n",
       " <Profile: IamBacktoSoul@getch.com>,\n",
       " <Profile: purplebbeum@getch.com>,\n",
       " <Profile: 0309xSG@getch.com>,\n",
       " <Profile: btsxfanaccount@getch.com>,\n",
       " <Profile: Minglizzang@getch.com>,\n",
       " <Profile: mychim_love1013@getch.com>,\n",
       " <Profile: bts_kkmjpkj_s@getch.com>,\n",
       " <Profile: junjungkku_@getch.com>,\n",
       " <Profile: Taetaeheeya@getch.com>,\n",
       " <Profile: 0oy8sBjGFTbIoEr@getch.com>,\n",
       " <Profile: k_dongyun@getch.com>,\n",
       " <Profile: BTSxHollywood@getch.com>,\n",
       " <Profile: Su_Jyee@getch.com>,\n",
       " <Profile: 7yQTlnB8FU4qBcp@getch.com>,\n",
       " <Profile: S12xD04_bts@getch.com>,\n",
       " <Profile: blueberryneko@getch.com>,\n",
       " <Profile: iamwhoiam6819@getch.com>,\n",
       " <Profile: funk_970901@getch.com>,\n",
       " <Profile: armyranhee@getch.com>,\n",
       " <Profile: Amiable_Hope@getch.com>,\n",
       " <Profile: todaybts17@getch.com>,\n",
       " <Profile: hjm1521@getch.com>,\n",
       " <Profile: BTSforever_ye@getch.com>,\n",
       " <Profile: cutie_hyewon@getch.com>,\n",
       " <Profile: SuUpasana@getch.com>,\n",
       " <Profile: BTS_GENIUS_@getch.com>,\n",
       " <Profile: byjin1204@getch.com>,\n",
       " <Profile: onlybtsjin@getch.com>,\n",
       " <Profile: rpsskbbb@getch.com>,\n",
       " <Profile: zak6MvdhVBU0rNN@getch.com>,\n",
       " <Profile: imBiancAmaze@getch.com>,\n",
       " <Profile: BTSBTS_maknae@getch.com>,\n",
       " <Profile: BTS0504@getch.com>,\n",
       " <Profile: OVO_JKJK@getch.com>,\n",
       " <Profile: jyujin_sj@getch.com>,\n",
       " <Profile: msg03092013@getch.com>,\n",
       " <Profile: UAltyoAyBOqk6wN@getch.com>,\n",
       " <Profile: whyuioa@getch.com>,\n",
       " <Profile: nam992302888@getch.com>,\n",
       " <Profile: jinghui528@getch.com>,\n",
       " <Profile: TinaLonely@getch.com>,\n",
       " <Profile: doyqong@getch.com>,\n",
       " <Profile: 7M9PldAFl4jKXLo@getch.com>,\n",
       " <Profile: V_fanaccount@getch.com>,\n",
       " <Profile: v_BTS_Love_v@getch.com>,\n",
       " <Profile: SONE_ARMYing@getch.com>,\n",
       " <Profile: taehyunx95@getch.com>,\n",
       " <Profile: for_write_down@getch.com>,\n",
       " <Profile: jimtan_purple@getch.com>,\n",
       " <Profile: BTSArmy22726465@getch.com>,\n",
       " <Profile: stmagician@getch.com>,\n",
       " <Profile: JJinri_@getch.com>,\n",
       " <Profile: chimchim0626@getch.com>,\n",
       " <Profile: Jimin_04_@getch.com>,\n",
       " <Profile: S2unris3@getch.com>,\n",
       " <Profile: tjqls4597@getch.com>,\n",
       " <Profile: seorang1213@getch.com>,\n",
       " <Profile: wwhJM@getch.com>,\n",
       " <Profile: YRPfVIRHh1N7e1T@getch.com>,\n",
       " <Profile: suhyeon_twt@getch.com>,\n",
       " <Profile: Lovinsyou@getch.com>,\n",
       " <Profile: youll_Ah@getch.com>,\n",
       " <Profile: imkangchorong@getch.com>,\n",
       " <Profile: danvvv_v@getch.com>,\n",
       " <Profile: RJ_jin_921204@getch.com>,\n",
       " <Profile: bad_11p@getch.com>,\n",
       " <Profile: onlyjooni@getch.com>,\n",
       " <Profile: FX9LVJWlFJbGj0V@getch.com>,\n",
       " <Profile: BTSADOYEN@getch.com>,\n",
       " <Profile: seagullrin@getch.com>,\n",
       " <Profile: Army_Rolex@getch.com>,\n",
       " <Profile: magazineTheStar@getch.com>,\n",
       " <Profile: jTZu409NcOQE4Om@getch.com>,\n",
       " <Profile: SUGA_516@getch.com>,\n",
       " <Profile: SHOOKY_TAETAE@getch.com>,\n",
       " <Profile: amary2006@getch.com>,\n",
       " <Profile: DreamJK_97@getch.com>,\n",
       " <Profile: olivekkook@getch.com>,\n",
       " <Profile: EHEH_GALAXY@getch.com>,\n",
       " <Profile: ZKJMISG_0901@getch.com>,\n",
       " <Profile: JtyZWk4EJsTmS5n@getch.com>,\n",
       " <Profile: YANGDO04I5@getch.com>,\n",
       " <Profile: RNX_news_ent@getch.com>,\n",
       " <Profile: PSICARAT_0806@getch.com>,\n",
       " <Profile: kimJD__@getch.com>,\n",
       " <Profile: oasis1084@getch.com>,\n",
       " <Profile: BTStaetaeluv@getch.com>,\n",
       " <Profile: ggookjjin@getch.com>,\n",
       " <Profile: army_05050505@getch.com>,\n",
       " <Profile: peri_winkle_01@getch.com>,\n",
       " <Profile: nAb08900JoY40Ts@getch.com>,\n",
       " <Profile: BUxTU_BigHit@getch.com>,\n",
       " <Profile: 5a9NowGeklq3LKu@getch.com>,\n",
       " <Profile: second_thirty@getch.com>,\n",
       " <Profile: 9oOGg78D58kakE0@getch.com>,\n",
       " <Profile: 9KcujEzQpDzrYyj@getch.com>,\n",
       " <Profile: ddooddoo0613@getch.com>,\n",
       " <Profile: jokfter@getch.com>,\n",
       " <Profile: MArC3Ch5cyPoOBw@getch.com>,\n",
       " <Profile: cC9nZ4bvECj4rjk@getch.com>,\n",
       " <Profile: KOOK_LQVE_@getch.com>,\n",
       " <Profile: love_v0613@getch.com>,\n",
       " <Profile: your_my_hope_yj@getch.com>,\n",
       " <Profile: jms3541@getch.com>,\n",
       " <Profile: bts_forever0718@getch.com>,\n",
       " <Profile: rornfl577@getch.com>,\n",
       " <Profile: lee_inny@getch.com>,\n",
       " <Profile: ShookyAddict@getch.com>,\n",
       " <Profile: 7A87sORCFolwOMC@getch.com>,\n",
       " <Profile: daniel_5337@getch.com>,\n",
       " <Profile: you_BTS_I_ARMY@getch.com>,\n",
       " <Profile: nandairma9720@getch.com>,\n",
       " <Profile: loopoflike@getch.com>,\n",
       " <Profile: Hi_Hello_JK@getch.com>,\n",
       " <Profile: spring_yj_1013@getch.com>,\n",
       " <Profile: 4Reporter@getch.com>,\n",
       " <Profile: aaaasssse9@getch.com>,\n",
       " <Profile: hs04303@getch.com>,\n",
       " <Profile: 8vIFoad7LFLQOcA@getch.com>,\n",
       " <Profile: movie_je18@getch.com>,\n",
       " <Profile: laricefaye16@getch.com>,\n",
       " <Profile: ARMYhani_tost@getch.com>,\n",
       " <Profile: lulkbeI5YkgHR0t@getch.com>,\n",
       " <Profile: S_SImk@getch.com>,\n",
       " <Profile: A6lCeQ7EDH9Gxon@getch.com>,\n",
       " <Profile: w___oo___@getch.com>,\n",
       " <Profile: _89_AMY@getch.com>,\n",
       " <Profile: herachun1009@getch.com>,\n",
       " <Profile: Gmlwjd_sg@getch.com>,\n",
       " <Profile: junghee9301@getch.com>,\n",
       " <Profile: JK_m091@getch.com>,\n",
       " <Profile: egbak21@getch.com>,\n",
       " <Profile: TRAVEL_withARMY@getch.com>,\n",
       " <Profile: _kukuhaseyo@getch.com>,\n",
       " <Profile: Viva7V@getch.com>,\n",
       " <Profile: Saran_____N@getch.com>,\n",
       " <Profile: re_een2@getch.com>,\n",
       " <Profile: yoongicereal@getch.com>,\n",
       " <Profile: uv95z@getch.com>,\n",
       " <Profile: nancucu@getch.com>,\n",
       " <Profile: mycypriarmy17@getch.com>,\n",
       " <Profile: dopehee21@getch.com>,\n",
       " <Profile: mirukucat@getch.com>,\n",
       " <Profile: coffee_n_write@getch.com>,\n",
       " <Profile: DreamfromHope@getch.com>,\n",
       " <Profile: Jamnousa@getch.com>,\n",
       " <Profile: Sundup0613@getch.com>,\n",
       " <Profile: 61313_613_@getch.com>,\n",
       " <Profile: 100ticketing@getch.com>,\n",
       " <Profile: vvvvluvvvv@getch.com>,\n",
       " <Profile: sung_mi_0625@getch.com>,\n",
       " <Profile: B93l1sDNi9StQhE@getch.com>,\n",
       " <Profile: 1210__v@getch.com>,\n",
       " <Profile: bts_love1290@getch.com>,\n",
       " <Profile: milky_way0613@getch.com>,\n",
       " <Profile: sportshankooki@getch.com>,\n",
       " <Profile: _BTS_VOTE_613@getch.com>,\n",
       " <Profile: lsm_8638@getch.com>,\n",
       " <Profile: on_0613@getch.com>,\n",
       " <Profile: tenzia3674@getch.com>,\n",
       " <Profile: 1004_pjm@getch.com>,\n",
       " <Profile: dksrhdhdjs@getch.com>,\n",
       " <Profile: iyj61ATkorZ79bF@getch.com>,\n",
       " <Profile: HardCat3@getch.com>,\n",
       " <Profile: qazwsx0613BTS@getch.com>,\n",
       " <Profile: _Eun_hyun_@getch.com>,\n",
       " <Profile: Diana__Dreaming@getch.com>,\n",
       " <Profile: mirsaeli@getch.com>,\n",
       " <Profile: x_ddoing_@getch.com>,\n",
       " <Profile: cherryBud_JK@getch.com>,\n",
       " <Profile: goodcyr@getch.com>,\n",
       " <Profile: blowinggs@getch.com>,\n",
       " <Profile: D082UYWiz3Vpsyd@getch.com>,\n",
       " <Profile: moon_likes_suga@getch.com>,\n",
       " <Profile: kook_mmle@getch.com>,\n",
       " <Profile: ssu_gga0309@getch.com>,\n",
       " <Profile: 2O4rjx6vez5Xu4L@getch.com>,\n",
       " <Profile: bts_5@getch.com>,\n",
       " <Profile: jk____e114@getch.com>,\n",
       " <Profile: Eunseo1103@getch.com>,\n",
       " <Profile: mystarpass@getch.com>,\n",
       " <Profile: charun_1230@getch.com>,\n",
       " <Profile: killkillkilltt@getch.com>,\n",
       " <Profile: donT_LEaveMe__@getch.com>,\n",
       " <Profile: won_duckduck@getch.com>,\n",
       " <Profile: xv__sunny__vx@getch.com>,\n",
       " <Profile: KSZSQhu3vW4mbof@getch.com>,\n",
       " <Profile: mehtapa06529629@getch.com>,\n",
       " <Profile: areen009@getch.com>,\n",
       " ...]"
      ]
     },
     "execution_count": 17,
     "metadata": {},
     "output_type": "execute_result"
    }
   ],
   "source": [
    "Profile.objects.bulk_create(bulk_profile)"
   ]
  },
  {
   "cell_type": "code",
   "execution_count": null,
   "metadata": {},
   "outputs": [],
   "source": []
  },
  {
   "cell_type": "markdown",
   "metadata": {},
   "source": [
    "# Hashtag model"
   ]
  },
  {
   "cell_type": "code",
   "execution_count": 18,
   "metadata": {},
   "outputs": [],
   "source": [
    "from app.models import Hashtag\n",
    "#Hashtag.objects.all().delete()"
   ]
  },
  {
   "cell_type": "code",
   "execution_count": 19,
   "metadata": {},
   "outputs": [],
   "source": [
    "hashtags = None\n",
    "with open('hashtags.json', encoding='UTF-8-sig') as f:\n",
    "    hashtags = json.load(f)"
   ]
  },
  {
   "cell_type": "code",
   "execution_count": 20,
   "metadata": {
    "collapsed": true
   },
   "outputs": [
    {
     "data": {
      "text/plain": [
       "[<Hashtag: 지창욱>,\n",
       " <Hashtag: JOOYOUNG>,\n",
       " <Hashtag: 迪丽热巴>,\n",
       " <Hashtag: 주정정>,\n",
       " <Hashtag: 와인스타그램>,\n",
       " <Hashtag: 와디즈>,\n",
       " <Hashtag: BGT2019>,\n",
       " <Hashtag: 제페토뷔>,\n",
       " <Hashtag: MLBB>,\n",
       " <Hashtag: speedpainting>,\n",
       " <Hashtag: 마영전_포코스>,\n",
       " <Hashtag: Choice>,\n",
       " <Hashtag: 하이컷스타>,\n",
       " <Hashtag: 호리즌>,\n",
       " <Hashtag: 늦었지만>,\n",
       " <Hashtag: Filson백팩>,\n",
       " <Hashtag: 클라터뮤젠>,\n",
       " <Hashtag: 신민재>,\n",
       " <Hashtag: 사무라이쇼다운m>,\n",
       " <Hashtag: 토도바쿠>,\n",
       " <Hashtag: 스트레칭>,\n",
       " <Hashtag: COLD>,\n",
       " <Hashtag: nyfw>,\n",
       " <Hashtag: 고야드지갑>,\n",
       " <Hashtag: الزلفي>,\n",
       " <Hashtag: 뱅앤올룹슨>,\n",
       " <Hashtag: 최진리>,\n",
       " <Hashtag: 강다니엘화보>,\n",
       " <Hashtag: 남자발바닥>,\n",
       " <Hashtag: 부탁>,\n",
       " <Hashtag: 교배>,\n",
       " <Hashtag: SNIDEL>,\n",
       " <Hashtag: パクシネ>,\n",
       " <Hashtag: Montblanc>,\n",
       " <Hashtag: 체전>,\n",
       " <Hashtag: 오랑씨>,\n",
       " <Hashtag: 5기머스터_부적>,\n",
       " <Hashtag: 주지훈>,\n",
       " <Hashtag: TOMFORD>,\n",
       " <Hashtag: 韓国ファッション>,\n",
       " <Hashtag: 버킷햇>,\n",
       " <Hashtag: 호시>,\n",
       " <Hashtag: 들켰어양>,\n",
       " <Hashtag: 아디다스정품>,\n",
       " <Hashtag: 물떼새격자무늬>,\n",
       " <Hashtag: 호비생일이벵>,\n",
       " <Hashtag: 헤르조그드뫼론>,\n",
       " <Hashtag: 두유워너비>,\n",
       " <Hashtag: 명품셔츠>,\n",
       " <Hashtag: kingofkpop>,\n",
       " <Hashtag: 리틀그라운드>,\n",
       " <Hashtag: LiveinLevis>,\n",
       " <Hashtag: 귀요미들>,\n",
       " <Hashtag: CF>,\n",
       " <Hashtag: 핫플레이스>,\n",
       " <Hashtag: wildcamping>,\n",
       " <Hashtag: MinHyoRin>,\n",
       " <Hashtag: BTS_HAPPY6TH>,\n",
       " <Hashtag: Actor>,\n",
       " <Hashtag: 반짝반짝>,\n",
       " <Hashtag: boxing>,\n",
       " <Hashtag: 칠링>,\n",
       " <Hashtag: 야탑중>,\n",
       " <Hashtag: 북한의실상>,\n",
       " <Hashtag: 감사드립니다>,\n",
       " <Hashtag: KIMJINHWAN>,\n",
       " <Hashtag: 모자사랑>,\n",
       " <Hashtag: 업템포>,\n",
       " <Hashtag: ShinYeEun>,\n",
       " <Hashtag: 여행꿀팁>,\n",
       " <Hashtag: 柾國>,\n",
       " <Hashtag: 리복포토북>,\n",
       " <Hashtag: 푸니스트>,\n",
       " <Hashtag: toystagram>,\n",
       " <Hashtag: haveagoodtime>,\n",
       " <Hashtag: 체험단>,\n",
       " <Hashtag: 실내화>,\n",
       " <Hashtag: 트래블메이트>,\n",
       " <Hashtag: Songhyekyo>,\n",
       " <Hashtag: 골디티켓>,\n",
       " <Hashtag: 섬>,\n",
       " <Hashtag: seungyoon>,\n",
       " <Hashtag: LEGGINGS>,\n",
       " <Hashtag: 스튜디오톰보이>,\n",
       " <Hashtag: 뉴신발>,\n",
       " <Hashtag: 카페보케>,\n",
       " <Hashtag: 디지털세상>,\n",
       " <Hashtag: wontletyougo>,\n",
       " <Hashtag: 남자친구송혜교>,\n",
       " <Hashtag: 엔코백>,\n",
       " <Hashtag: ALLTHESTORIESARETRUE>,\n",
       " <Hashtag: 무료>,\n",
       " <Hashtag: 선물고마워요>,\n",
       " <Hashtag: Jakarta>,\n",
       " <Hashtag: 엠씨엠>,\n",
       " <Hashtag: onepunchman>,\n",
       " <Hashtag: VideoMTV18del18>,\n",
       " <Hashtag: nightsky>,\n",
       " <Hashtag: 모녀스타그램>,\n",
       " <Hashtag: 온기>,\n",
       " <Hashtag: 나이키코르테즈레더>,\n",
       " <Hashtag: 원이너프>,\n",
       " <Hashtag: 런WITH엠버>,\n",
       " <Hashtag: 네이버해킹아이디판매>,\n",
       " <Hashtag: 리바이스LOTNo1>,\n",
       " <Hashtag: 티켓교환>,\n",
       " <Hashtag: 유아인>,\n",
       " <Hashtag: 아로마>,\n",
       " <Hashtag: 미모>,\n",
       " <Hashtag: posco>,\n",
       " <Hashtag: dancepractice>,\n",
       " <Hashtag: 컴백시기만되면주접뽕이차오름>,\n",
       " <Hashtag: 슬림피트셀비지진>,\n",
       " <Hashtag: 영화돈>,\n",
       " <Hashtag: 콜롬비아전>,\n",
       " <Hashtag: thisisneverthat>,\n",
       " <Hashtag: 마영전_트친소>,\n",
       " <Hashtag: 푸마포카>,\n",
       " <Hashtag: 멍청이들>,\n",
       " <Hashtag: 나이키LDV>,\n",
       " <Hashtag: 구찌오드퍼퓸>,\n",
       " <Hashtag: 152일>,\n",
       " <Hashtag: 유니섹스>,\n",
       " <Hashtag: romanceisbonusbook>,\n",
       " <Hashtag: 엠비씨>,\n",
       " <Hashtag: 앨범싹쓸이>,\n",
       " <Hashtag: 조금어렵다>,\n",
       " <Hashtag: 봉천동공방>,\n",
       " <Hashtag: 씨걸>,\n",
       " <Hashtag: 켄생일파티>,\n",
       " <Hashtag: iphone>,\n",
       " <Hashtag: 노츄>,\n",
       " <Hashtag: DarrionCaldwell>,\n",
       " <Hashtag: 대전>,\n",
       " <Hashtag: 항상_행복하면_좋겠어>,\n",
       " <Hashtag: aoa>,\n",
       " <Hashtag: hongdae>,\n",
       " <Hashtag: DEAN>,\n",
       " <Hashtag: seoulkorea>,\n",
       " <Hashtag: 부산영도>,\n",
       " <Hashtag: 광안리>,\n",
       " <Hashtag: 까르띠에>,\n",
       " <Hashtag: 디올스킨포에버퍼펙트쿠션>,\n",
       " <Hashtag: ForeverWithDaniel>,\n",
       " <Hashtag: DIOR>,\n",
       " <Hashtag: 라드패드>,\n",
       " <Hashtag: 강유찬>,\n",
       " <Hashtag: mingyu>,\n",
       " <Hashtag: 로맨시크>,\n",
       " <Hashtag: 살랑살랑>,\n",
       " <Hashtag: 덕항산등산>,\n",
       " <Hashtag: 쇼퍼백>,\n",
       " <Hashtag: COLOMBIA>,\n",
       " <Hashtag: 팩트인스타_에이스>,\n",
       " <Hashtag: 라인플레이>,\n",
       " <Hashtag: 아미카드>,\n",
       " <Hashtag: 몰디브>,\n",
       " <Hashtag: 죽전>,\n",
       " <Hashtag: VRing>,\n",
       " <Hashtag: 쌍용동>,\n",
       " <Hashtag: 톰브라운남방>,\n",
       " <Hashtag: 셀루티>,\n",
       " <Hashtag: 프리뷰>,\n",
       " <Hashtag: 木村拓哉>,\n",
       " <Hashtag: lip>,\n",
       " <Hashtag: 하나>,\n",
       " <Hashtag: anaksma>,\n",
       " <Hashtag: 네이버에서운도도씨>,\n",
       " <Hashtag: 황금돼지해>,\n",
       " <Hashtag: 대리운전>,\n",
       " <Hashtag: Family>,\n",
       " <Hashtag: GetWellSoonjungkook>,\n",
       " <Hashtag: CHARM>,\n",
       " <Hashtag: JİMİN>,\n",
       " <Hashtag: 오늘의_사복>,\n",
       " <Hashtag: 커풀신발추천>,\n",
       " <Hashtag: 질스튜어트스포츠뉴욕>,\n",
       " <Hashtag: 런웨쇼>,\n",
       " <Hashtag: 아미의모든게궁금해>,\n",
       " <Hashtag: NRCBUSAN>,\n",
       " <Hashtag: FIM>,\n",
       " <Hashtag: y3>,\n",
       " <Hashtag: WilliamChan>,\n",
       " <Hashtag: 촛대>,\n",
       " <Hashtag: TOMMYBOY>,\n",
       " <Hashtag: 비보액티브3>,\n",
       " <Hashtag: GIVENCHY>,\n",
       " <Hashtag: 김아현>,\n",
       " <Hashtag: 주부생활>,\n",
       " <Hashtag: 싱귤래리티>,\n",
       " <Hashtag: kangol>,\n",
       " <Hashtag: 샤넬르블랑>,\n",
       " <Hashtag: CHUNGHA>,\n",
       " <Hashtag: 마스다미리>,\n",
       " <Hashtag: 영포에버>,\n",
       " <Hashtag: 시카미술관>,\n",
       " <Hashtag: MaxenceDanetFauvel>,\n",
       " <Hashtag: 해외구매>,\n",
       " <Hashtag: 셀스타그램>,\n",
       " <Hashtag: 실버>,\n",
       " <Hashtag: 이글>,\n",
       " <Hashtag: 마르셀뒤샹>,\n",
       " <Hashtag: boy>,\n",
       " <Hashtag: 드로잉>,\n",
       " <Hashtag: 야식>,\n",
       " <Hashtag: 동국제강ㅜ>,\n",
       " <Hashtag: bls>,\n",
       " <Hashtag: 李大輝>,\n",
       " <Hashtag: 개발>,\n",
       " <Hashtag: 잠뱅이>,\n",
       " <Hashtag: mytee>,\n",
       " <Hashtag: 구찌맨>,\n",
       " <Hashtag: dynafit>,\n",
       " <Hashtag: 소유붕>,\n",
       " <Hashtag: 외국계기업>,\n",
       " <Hashtag: 산행>,\n",
       " <Hashtag: 망작들3>,\n",
       " <Hashtag: 나이키매니아즈>,\n",
       " <Hashtag: 이종석안경>,\n",
       " <Hashtag: 정자매>,\n",
       " <Hashtag: kbs2tv월화드라마>,\n",
       " <Hashtag: 띤띤분>,\n",
       " <Hashtag: SNLxBTS>,\n",
       " <Hashtag: 김남준양도>,\n",
       " <Hashtag: 크리스티나노제티>,\n",
       " <Hashtag: 덕질하고파>,\n",
       " <Hashtag: SummerOfCrocs>,\n",
       " <Hashtag: 브롤스타즈>,\n",
       " <Hashtag: 어머니>,\n",
       " <Hashtag: 샤넬립스틱>,\n",
       " <Hashtag: 무신사MD>,\n",
       " <Hashtag: 테렉스>,\n",
       " <Hashtag: 참스>,\n",
       " <Hashtag: 6YearWithOurHomeBTS>,\n",
       " <Hashtag: 신발세탁>,\n",
       " <Hashtag: marsyard>,\n",
       " <Hashtag: 공식아미>,\n",
       " <Hashtag: 보컬로이드>,\n",
       " <Hashtag: 한정굿즈>,\n",
       " <Hashtag: 패션쇼>,\n",
       " <Hashtag: 휘요>,\n",
       " <Hashtag: 업사이클링>,\n",
       " <Hashtag: 여름티>,\n",
       " <Hashtag: 모델발탁>,\n",
       " <Hashtag: Rachel>,\n",
       " <Hashtag: 남준>,\n",
       " <Hashtag: maru>,\n",
       " <Hashtag: 리본린건>,\n",
       " <Hashtag: 마리오>,\n",
       " <Hashtag: 꾸중남>,\n",
       " <Hashtag: 내가애정하는>,\n",
       " <Hashtag: 빈티지패션>,\n",
       " <Hashtag: 고렴이>,\n",
       " <Hashtag: 알루미늄장인>,\n",
       " <Hashtag: 파크골프>,\n",
       " <Hashtag: rattanbag>,\n",
       " <Hashtag: 3泊>,\n",
       " <Hashtag: dragonball>,\n",
       " <Hashtag: 안전한바이크>,\n",
       " <Hashtag: 에어팟>,\n",
       " <Hashtag: 竹内美宥>,\n",
       " <Hashtag: 결정장애>,\n",
       " <Hashtag: 팬송>,\n",
       " <Hashtag: 까르띠에반지>,\n",
       " <Hashtag: SPA>,\n",
       " <Hashtag: modern>,\n",
       " <Hashtag: zoom>,\n",
       " <Hashtag: 빙의>,\n",
       " <Hashtag: SITR>,\n",
       " <Hashtag: 새레플>,\n",
       " <Hashtag: 안무팀장>,\n",
       " <Hashtag: instasize>,\n",
       " <Hashtag: 방탄소년단팬아트>,\n",
       " <Hashtag: Smile>,\n",
       " <Hashtag: 특별전>,\n",
       " <Hashtag: 건담티셔츠>,\n",
       " <Hashtag: 김유권>,\n",
       " <Hashtag: 1기>,\n",
       " <Hashtag: 마이녤>,\n",
       " <Hashtag: 한지민>,\n",
       " <Hashtag: 동아tv>,\n",
       " <Hashtag: BTSinNagoya>,\n",
       " <Hashtag: 사랑에빠지고싶다>,\n",
       " <Hashtag: 미밤이>,\n",
       " <Hashtag: 슈퍼바이크>,\n",
       " <Hashtag: 라비>,\n",
       " <Hashtag: 송주아>,\n",
       " <Hashtag: YGSTORY>,\n",
       " <Hashtag: 언더아머러쉬>,\n",
       " <Hashtag: airhordan6>,\n",
       " <Hashtag: 아이유>,\n",
       " <Hashtag: 명품백팩>,\n",
       " <Hashtag: 소주>,\n",
       " <Hashtag: 에스팩토리>,\n",
       " <Hashtag: honeymoon>,\n",
       " <Hashtag: 방탄무개념>,\n",
       " <Hashtag: blink>,\n",
       " <Hashtag: 세이>,\n",
       " <Hashtag: 휠라RGB>,\n",
       " <Hashtag: 오곡밥>,\n",
       " <Hashtag: 내일의커피>,\n",
       " <Hashtag: 외할머니감사합니다>,\n",
       " <Hashtag: 엘르커버>,\n",
       " <Hashtag: zhuzhengting>,\n",
       " <Hashtag: 원피스잠옷>,\n",
       " <Hashtag: woolrich>,\n",
       " <Hashtag: customshoes>,\n",
       " <Hashtag: LeeJooyeon>,\n",
       " <Hashtag: 희준짱짱>,\n",
       " <Hashtag: 그림쟁이_트친소>,\n",
       " <Hashtag: 김태리>,\n",
       " <Hashtag: FOREVER21>,\n",
       " <Hashtag: 농구스타그램>,\n",
       " <Hashtag: 방탄포카>,\n",
       " <Hashtag: 한국친구>,\n",
       " <Hashtag: 도쿄긴자무인양품>,\n",
       " <Hashtag: HM키즈할인>,\n",
       " <Hashtag: 배경화면>,\n",
       " <Hashtag: 신나신나>,\n",
       " <Hashtag: 뤼비통녤주접은언제끝날까영>,\n",
       " <Hashtag: slowfood>,\n",
       " <Hashtag: 행사촬영>,\n",
       " <Hashtag: Hazzys>,\n",
       " <Hashtag: 더노트>,\n",
       " <Hashtag: fw19>,\n",
       " <Hashtag: 우먼스JDI>,\n",
       " <Hashtag: 소셜벤처기업>,\n",
       " <Hashtag: 핑크반바지>,\n",
       " <Hashtag: 아커스클럽>,\n",
       " <Hashtag: 켈리>,\n",
       " <Hashtag: 플래시몹>,\n",
       " <Hashtag: mars3>,\n",
       " <Hashtag: 압구정홀덤>,\n",
       " <Hashtag: 무사히>,\n",
       " <Hashtag: w매거진>,\n",
       " <Hashtag: 케이틀이>,\n",
       " <Hashtag: locle>,\n",
       " <Hashtag: sponsoredbyconverse>,\n",
       " <Hashtag: 위너양도>,\n",
       " <Hashtag: 하얀날>,\n",
       " <Hashtag: 도무송>,\n",
       " <Hashtag: Charms>,\n",
       " <Hashtag: 디스커버리익스페디션>,\n",
       " <Hashtag: 누구니_누가_우리효기_셔틀_시켰니>,\n",
       " <Hashtag: 시계이미테이션>,\n",
       " <Hashtag: 화산>,\n",
       " <Hashtag: under_cover>,\n",
       " <Hashtag: 커미션표지>,\n",
       " <Hashtag: 마켓>,\n",
       " <Hashtag: 길고양이>,\n",
       " <Hashtag: 후지산>,\n",
       " <Hashtag: 얼짱>,\n",
       " <Hashtag: 피케셔츠>,\n",
       " <Hashtag: 알파인더스트리ma1>,\n",
       " <Hashtag: 지속가능한>,\n",
       " <Hashtag: 강남역풀싸롱010x5856X6047>,\n",
       " <Hashtag: 늙음>,\n",
       " <Hashtag: 진고개>,\n",
       " <Hashtag: BTS월드>,\n",
       " <Hashtag: share2steem>,\n",
       " <Hashtag: Jungkookhyung>,\n",
       " <Hashtag: worldwidehandsome>,\n",
       " <Hashtag: 파울루벤투>,\n",
       " <Hashtag: 선릉풀싸롱010x5856X6047>,\n",
       " <Hashtag: 모빌리언스>,\n",
       " <Hashtag: 기억을걷는다>,\n",
       " <Hashtag: celebration>,\n",
       " <Hashtag: 블락비피오>,\n",
       " <Hashtag: 이제서른>,\n",
       " <Hashtag: BoyDeChanel>,\n",
       " <Hashtag: givenchy>,\n",
       " <Hashtag: think>,\n",
       " <Hashtag: 통정>,\n",
       " <Hashtag: daks>,\n",
       " <Hashtag: 최대80프로할인쿠폰>,\n",
       " <Hashtag: HAGT>,\n",
       " <Hashtag: 스밍인증>,\n",
       " <Hashtag: cafejin>,\n",
       " <Hashtag: 명품옷>,\n",
       " <Hashtag: 샤넬뮤즈>,\n",
       " <Hashtag: brahms>,\n",
       " <Hashtag: genuine>,\n",
       " <Hashtag: 타이틀리스트골프모자>,\n",
       " <Hashtag: 小松菜奈>,\n",
       " <Hashtag: 베니>,\n",
       " <Hashtag: 디리러바>,\n",
       " <Hashtag: 윤균상>,\n",
       " <Hashtag: 에이비식스>,\n",
       " <Hashtag: f705>,\n",
       " <Hashtag: 월요웹툰>,\n",
       " <Hashtag: 유타>,\n",
       " <Hashtag: 만리시장>,\n",
       " <Hashtag: 논현동풀싸롱010x5856X6047>,\n",
       " <Hashtag: YOONA>,\n",
       " <Hashtag: 사차인치>,\n",
       " <Hashtag: BTS컵홀더>,\n",
       " <Hashtag: 산업용모니터>,\n",
       " <Hashtag: 타르트맛차그리오뜨>,\n",
       " <Hashtag: 이불킥>,\n",
       " <Hashtag: cica미술관>,\n",
       " <Hashtag: 뉴발란스운동화>,\n",
       " <Hashtag: 던파>,\n",
       " <Hashtag: 달마시안>,\n",
       " <Hashtag: 가까운행복을만나다>,\n",
       " <Hashtag: 2pm>,\n",
       " <Hashtag: 예복전문>,\n",
       " <Hashtag: MB>,\n",
       " <Hashtag: 루이비통카바스>,\n",
       " <Hashtag: Persona>,\n",
       " <Hashtag: 한상혁>,\n",
       " <Hashtag: Bogummy>,\n",
       " <Hashtag: 커먼즈재단>,\n",
       " <Hashtag: 미국라디오>,\n",
       " <Hashtag: 関東>,\n",
       " <Hashtag: kyj>,\n",
       " <Hashtag: daegu>,\n",
       " <Hashtag: sns>,\n",
       " <Hashtag: vest>,\n",
       " <Hashtag: NewYorkCity>,\n",
       " <Hashtag: 다낭셔츠>,\n",
       " <Hashtag: 이재민>,\n",
       " <Hashtag: 더보이즈>,\n",
       " <Hashtag: IRENExMIUMIU>,\n",
       " <Hashtag: 민윤기시소>,\n",
       " <Hashtag: from>,\n",
       " <Hashtag: LVTWIST>,\n",
       " <Hashtag: clothes>,\n",
       " <Hashtag: 우유>,\n",
       " <Hashtag: 형이왜거기서나와>,\n",
       " <Hashtag: 배드민턴>,\n",
       " <Hashtag: 오우떨려>,\n",
       " <Hashtag: 민노세상>,\n",
       " <Hashtag: Freiknock>,\n",
       " <Hashtag: 아디다스한정판>,\n",
       " <Hashtag: 신입사원>,\n",
       " <Hashtag: vtcosmeticsxbts>,\n",
       " <Hashtag: 이지부스트블랙>,\n",
       " <Hashtag: 맛집>,\n",
       " <Hashtag: SpotifyxBTS>,\n",
       " <Hashtag: thank>,\n",
       " <Hashtag: 문학강연>,\n",
       " <Hashtag: 루이비통중고>,\n",
       " <Hashtag: Do_not_repost_without_my_address>,\n",
       " <Hashtag: OurFirstLoveYoongi>,\n",
       " <Hashtag: 송형준_포기하_지마>,\n",
       " <Hashtag: 인도네시아에서>,\n",
       " <Hashtag: LAP_강다니엘에디션>,\n",
       " <Hashtag: ALLSAINTS>,\n",
       " <Hashtag: 비티이일>,\n",
       " <Hashtag: 사랑했잖아>,\n",
       " <Hashtag: ポールスミス展>,\n",
       " <Hashtag: 케이아미>,\n",
       " <Hashtag: 08년생>,\n",
       " <Hashtag: clubemigration>,\n",
       " <Hashtag: 종춘>,\n",
       " <Hashtag: 권선구>,\n",
       " <Hashtag: 당첨>,\n",
       " <Hashtag: 아빠>,\n",
       " <Hashtag: comingsoon>,\n",
       " <Hashtag: hmxme>,\n",
       " <Hashtag: 카드캡터>,\n",
       " <Hashtag: 스키장>,\n",
       " <Hashtag: xtylebattle>,\n",
       " <Hashtag: 에코백>,\n",
       " <Hashtag: 인천아미>,\n",
       " <Hashtag: AHNJAEHYEON>,\n",
       " <Hashtag: 복근>,\n",
       " <Hashtag: blue>,\n",
       " <Hashtag: 공동체>,\n",
       " <Hashtag: 모든_아미_팔로우>,\n",
       " <Hashtag: 네네치킨>,\n",
       " <Hashtag: 김동혁>,\n",
       " <Hashtag: 유니세프아너스클럽>,\n",
       " <Hashtag: 빵빵즈>,\n",
       " <Hashtag: 찰떡>,\n",
       " <Hashtag: 탈북난민>,\n",
       " <Hashtag: 김준한>,\n",
       " <Hashtag: 럭키박스>,\n",
       " <Hashtag: 지은이에요>,\n",
       " <Hashtag: 체험>,\n",
       " <Hashtag: 더블유>,\n",
       " <Hashtag: SUZY>,\n",
       " <Hashtag: 페이크러브>,\n",
       " <Hashtag: 耐克>,\n",
       " <Hashtag: 3Coins>,\n",
       " <Hashtag: 운스타그램>,\n",
       " <Hashtag: 강서구>,\n",
       " <Hashtag: KangYuchan>,\n",
       " <Hashtag: 팀버랜드>,\n",
       " <Hashtag: theSAEM>,\n",
       " <Hashtag: 플랙>,\n",
       " <Hashtag: pk공장>,\n",
       " <Hashtag: MBC>,\n",
       " <Hashtag: 한선화>,\n",
       " <Hashtag: 에이스팬싸>,\n",
       " <Hashtag: 착한코인>,\n",
       " <Hashtag: drmartensofficial>,\n",
       " <Hashtag: 러블리즈>,\n",
       " <Hashtag: 1인용텐트>,\n",
       " <Hashtag: 예쁘다예뻐>,\n",
       " <Hashtag: porsche>,\n",
       " <Hashtag: 구찌인종차별논란>,\n",
       " <Hashtag: BTS바스켓>,\n",
       " <Hashtag: 고야드반지갑>,\n",
       " <Hashtag: 돈굳었음>,\n",
       " <Hashtag: 시청률상승>,\n",
       " <Hashtag: zizou>,\n",
       " <Hashtag: 자연형>,\n",
       " <Hashtag: 구지>,\n",
       " <Hashtag: draft>,\n",
       " <Hashtag: 명품핸드백추천>,\n",
       " <Hashtag: bstn>,\n",
       " <Hashtag: 골드디스크>,\n",
       " <Hashtag: BTS리퀘받아요>,\n",
       " <Hashtag: sc>,\n",
       " <Hashtag: vamos>,\n",
       " <Hashtag: 청년떡집>,\n",
       " <Hashtag: 풋볼>,\n",
       " <Hashtag: chenle>,\n",
       " <Hashtag: 버버리스트랩>,\n",
       " <Hashtag: 단발>,\n",
       " <Hashtag: tshirt>,\n",
       " <Hashtag: 자외선차단>,\n",
       " <Hashtag: 포카홀더>,\n",
       " <Hashtag: 신세계>,\n",
       " <Hashtag: roian>,\n",
       " <Hashtag: Shanghai>,\n",
       " <Hashtag: monsterentertainment>,\n",
       " <Hashtag: 크롬하츠팔찌>,\n",
       " <Hashtag: StreamDNA>,\n",
       " <Hashtag: 함양군>,\n",
       " <Hashtag: 폼림픽>,\n",
       " <Hashtag: jordan13>,\n",
       " <Hashtag: BeYourselfDaniel>,\n",
       " <Hashtag: 온카지노富裕>,\n",
       " <Hashtag: EmotionallyUnavailable>,\n",
       " <Hashtag: Gloire>,\n",
       " <Hashtag: LED신발>,\n",
       " <Hashtag: 2019년>,\n",
       " <Hashtag: 데저트>,\n",
       " <Hashtag: 나무기밴드>,\n",
       " <Hashtag: 머스터5기팬미팅>,\n",
       " <Hashtag: 비누>,\n",
       " <Hashtag: 중앙여중>,\n",
       " <Hashtag: 휠라키즈>,\n",
       " <Hashtag: 김남쥰>,\n",
       " <Hashtag: 잡화점>,\n",
       " <Hashtag: 그라피티작가>,\n",
       " <Hashtag: YSLLA>,\n",
       " <Hashtag: Angels>,\n",
       " <Hashtag: amiri>,\n",
       " <Hashtag: GFIREND>,\n",
       " <Hashtag: 디비디>,\n",
       " <Hashtag: 호석이>,\n",
       " <Hashtag: 아미5기>,\n",
       " <Hashtag: ace_kimbyeongkwan>,\n",
       " <Hashtag: dunssweden>,\n",
       " <Hashtag: 남구>,\n",
       " <Hashtag: sculpture>,\n",
       " <Hashtag: 캘빈클라인진>,\n",
       " <Hashtag: 영상>,\n",
       " <Hashtag: 더블V>,\n",
       " <Hashtag: 유현주프로>,\n",
       " <Hashtag: sandarapark>,\n",
       " <Hashtag: 배가본드>,\n",
       " <Hashtag: CHAEUNWOO>,\n",
       " <Hashtag: Lafuma>,\n",
       " <Hashtag: 늦둥이>,\n",
       " <Hashtag: 시흥>,\n",
       " <Hashtag: 부산맛집>,\n",
       " <Hashtag: aqua>,\n",
       " <Hashtag: NewEra>,\n",
       " <Hashtag: 화양연화더노트>,\n",
       " <Hashtag: 역삼동풀싸롱010x5856X6047>,\n",
       " <Hashtag: LoveYourselfinBKK>,\n",
       " <Hashtag: Jjin_Film>,\n",
       " <Hashtag: BANGTANBOYS>,\n",
       " <Hashtag: 밀키윙>,\n",
       " <Hashtag: jacquescavallierbelletrud>,\n",
       " <Hashtag: 코드네임굿즈>,\n",
       " <Hashtag: beaker>,\n",
       " <Hashtag: 구독과>,\n",
       " <Hashtag: Dionysus>,\n",
       " <Hashtag: 2시동안>,\n",
       " <Hashtag: 이천희>,\n",
       " <Hashtag: 강추>,\n",
       " <Hashtag: 자기야여보야사랑아>,\n",
       " <Hashtag: KUHO>,\n",
       " <Hashtag: 고생했어>,\n",
       " <Hashtag: 비키니사진>,\n",
       " <Hashtag: 나이키짱구>,\n",
       " <Hashtag: 즐거운명절되세요>,\n",
       " <Hashtag: minimalism>,\n",
       " <Hashtag: 우린_서로의_원동력>,\n",
       " <Hashtag: 경복>,\n",
       " <Hashtag: 영원히함께>,\n",
       " <Hashtag: 믈브>,\n",
       " <Hashtag: 구찌원피스>,\n",
       " <Hashtag: 방탄소년단이전하는특별한소식>,\n",
       " <Hashtag: 리니지리마스터>,\n",
       " <Hashtag: Note8>,\n",
       " <Hashtag: Vlive>,\n",
       " <Hashtag: 미밀케이크>,\n",
       " <Hashtag: dance>,\n",
       " <Hashtag: 아이다스쿠폰>,\n",
       " <Hashtag: Ondabile>,\n",
       " <Hashtag: 마테>,\n",
       " <Hashtag: 5월18일>,\n",
       " <Hashtag: 집에오면>,\n",
       " <Hashtag: daybreak>,\n",
       " <Hashtag: 류덕환인터뷰>,\n",
       " <Hashtag: 수건셍건>,\n",
       " <Hashtag: 에이스컴백>,\n",
       " <Hashtag: 차트>,\n",
       " <Hashtag: 그린플러그드2019>,\n",
       " <Hashtag: BJ일상>,\n",
       " <Hashtag: 이모부>,\n",
       " <Hashtag: 트친_구해요>,\n",
       " <Hashtag: 세븐센세스>,\n",
       " <Hashtag: Armys>,\n",
       " <Hashtag: apink>,\n",
       " <Hashtag: aroha>,\n",
       " <Hashtag: lecoqsportif>,\n",
       " <Hashtag: 그라치아패션필름>,\n",
       " <Hashtag: 라벤더>,\n",
       " <Hashtag: 가죽>,\n",
       " <Hashtag: 박근혜>,\n",
       " <Hashtag: 컴그림>,\n",
       " <Hashtag: 위아래로_시원해>,\n",
       " <Hashtag: 곁눈질>,\n",
       " <Hashtag: 출장네일>,\n",
       " <Hashtag: RT추첨>,\n",
       " <Hashtag: 배틀로얄>,\n",
       " <Hashtag: 권태은>,\n",
       " <Hashtag: 래브라도리트리버>,\n",
       " <Hashtag: 축구부>,\n",
       " <Hashtag: CRT>,\n",
       " <Hashtag: 블랙야크셰르파발대식>,\n",
       " <Hashtag: 종호>,\n",
       " <Hashtag: ミニョン>,\n",
       " <Hashtag: 토니모리>,\n",
       " <Hashtag: 2019패션위크>,\n",
       " <Hashtag: 엘리먼트미스틱>,\n",
       " <Hashtag: Jessica>,\n",
       " <Hashtag: 골프르플레르>,\n",
       " <Hashtag: 이승우작가>,\n",
       " <Hashtag: 페르소나_내겐_이미_0_순위>,\n",
       " <Hashtag: 방콕콘서트>,\n",
       " <Hashtag: 전경호>,\n",
       " <Hashtag: 여행가이드>,\n",
       " <Hashtag: 천안>,\n",
       " <Hashtag: 뽀짝>,\n",
       " <Hashtag: 동물농장>,\n",
       " <Hashtag: kt정상소액>,\n",
       " <Hashtag: FGO>,\n",
       " <Hashtag: 애란>,\n",
       " <Hashtag: 방탄소년단_6주년_축하해>,\n",
       " <Hashtag: 홍인표>,\n",
       " <Hashtag: RalphsCoffee>,\n",
       " <Hashtag: 헤드>,\n",
       " <Hashtag: CHOIMINHO>,\n",
       " <Hashtag: 운동하자>,\n",
       " <Hashtag: 연하장>,\n",
       " <Hashtag: 짝퉁루이비통>,\n",
       " <Hashtag: 굿모닁>,\n",
       " <Hashtag: 방탄이벵>,\n",
       " <Hashtag: The_Voice>,\n",
       " <Hashtag: 여자맨투맨>,\n",
       " <Hashtag: 무멘팔_트친소>,\n",
       " <Hashtag: gentlemonstersunglasses>,\n",
       " <Hashtag: 이건>,\n",
       " <Hashtag: AfreecaTV>,\n",
       " <Hashtag: 살바토레페레가모>,\n",
       " <Hashtag: yoda>,\n",
       " <Hashtag: 명품지갑>,\n",
       " <Hashtag: 티원피스>,\n",
       " <Hashtag: ProjectBoyWithLuv>,\n",
       " <Hashtag: 미술스토리>,\n",
       " <Hashtag: jennierubyjane>,\n",
       " <Hashtag: 태닝>,\n",
       " <Hashtag: 풋솔져W213>,\n",
       " <Hashtag: 세이굿바>,\n",
       " <Hashtag: 공효진패션>,\n",
       " <Hashtag: 마르니컬렉션>,\n",
       " <Hashtag: 나카노이쿠미>,\n",
       " <Hashtag: 천안안마방>,\n",
       " <Hashtag: VisVim>,\n",
       " <Hashtag: 귀차니스트>,\n",
       " <Hashtag: 고이비토대구반월당본점>,\n",
       " <Hashtag: INeedU>,\n",
       " <Hashtag: asianaairlines>,\n",
       " <Hashtag: 歌い手>,\n",
       " <Hashtag: 예쁨>,\n",
       " <Hashtag: kpop2019>,\n",
       " <Hashtag: VernonHansolChoi>,\n",
       " <Hashtag: 럽셀콘굿즈>,\n",
       " <Hashtag: 뉴이스트양도>,\n",
       " <Hashtag: 바주카포>,\n",
       " <Hashtag: 성진>,\n",
       " <Hashtag: 러닝슈트>,\n",
       " <Hashtag: 등원룩>,\n",
       " <Hashtag: louisvuitton_Twist_Bag>,\n",
       " <Hashtag: 예물가방>,\n",
       " <Hashtag: suit>,\n",
       " <Hashtag: 라코스테스니커즈>,\n",
       " <Hashtag: 강동원패션>,\n",
       " <Hashtag: jımınn>,\n",
       " <Hashtag: 방탄소년단슈가>,\n",
       " <Hashtag: 럭키이벤트>,\n",
       " <Hashtag: うぃの>,\n",
       " <Hashtag: ceremony>,\n",
       " <Hashtag: LinYun>,\n",
       " <Hashtag: 4주남음>,\n",
       " <Hashtag: 뮬라웨어>,\n",
       " <Hashtag: br>,\n",
       " <Hashtag: hdmi>,\n",
       " <Hashtag: HAON>,\n",
       " <Hashtag: familysale>,\n",
       " <Hashtag: 유로픽쳐스>,\n",
       " <Hashtag: 첫줄>,\n",
       " <Hashtag: 빵밤언니TV>,\n",
       " <Hashtag: 동탄고>,\n",
       " <Hashtag: 탄소년단>,\n",
       " <Hashtag: 생명>,\n",
       " <Hashtag: 루이비통클러치>,\n",
       " <Hashtag: 브런치작가>,\n",
       " <Hashtag: 18FW>,\n",
       " <Hashtag: 파워볼총판>,\n",
       " <Hashtag: 급처분>,\n",
       " <Hashtag: 맛스타그램>,\n",
       " <Hashtag: 이지부스트700>,\n",
       " <Hashtag: 김지후팀장>,\n",
       " <Hashtag: 하와이>,\n",
       " <Hashtag: 버스커>,\n",
       " <Hashtag: 아프리카TV>,\n",
       " <Hashtag: optimushwang>,\n",
       " <Hashtag: 이승협셔츠>,\n",
       " <Hashtag: armyfallowarmy>,\n",
       " <Hashtag: RT>,\n",
       " <Hashtag: 보드쥬르>,\n",
       " <Hashtag: CDV>,\n",
       " <Hashtag: 빨리_끝낼고야>,\n",
       " <Hashtag: 라거펠트가>,\n",
       " <Hashtag: 남준프포>,\n",
       " <Hashtag: 까르띠에팔찌>,\n",
       " <Hashtag: HAPPYSUGADAY>,\n",
       " <Hashtag: 시드니>,\n",
       " <Hashtag: 공공자전거>,\n",
       " <Hashtag: 아이디대여>,\n",
       " <Hashtag: rayban>,\n",
       " <Hashtag: imamasteratthis>,\n",
       " <Hashtag: cosmetics>,\n",
       " <Hashtag: juliamhhart>,\n",
       " <Hashtag: 슬립온>,\n",
       " <Hashtag: 김용지>,\n",
       " <Hashtag: 샤이니>,\n",
       " <Hashtag: 트렌드스타그램>,\n",
       " <Hashtag: 캐럿랜드>,\n",
       " <Hashtag: b1142m>,\n",
       " <Hashtag: ㅋㅋ>,\n",
       " <Hashtag: 집에가요>,\n",
       " <Hashtag: 가위바위보>,\n",
       " <Hashtag: 스튜디오케이>,\n",
       " <Hashtag: 롤렉스>,\n",
       " <Hashtag: viviennewestwood>,\n",
       " <Hashtag: purigardenhotel>,\n",
       " <Hashtag: 개별악수회>,\n",
       " <Hashtag: 삼색강양이>,\n",
       " <Hashtag: 홀로그램>,\n",
       " <Hashtag: 컨버스화>,\n",
       " <Hashtag: 허쉘>,\n",
       " <Hashtag: 나이키x언더커버>,\n",
       " <Hashtag: SLEEK>,\n",
       " <Hashtag: Valentine>,\n",
       " <Hashtag: 키키>,\n",
       " <Hashtag: 카스>,\n",
       " <Hashtag: 랑데뷰>,\n",
       " <Hashtag: 곤텍스>,\n",
       " <Hashtag: 밤에도>,\n",
       " <Hashtag: 꿈에그린네일샵>,\n",
       " <Hashtag: onitsukatiger>,\n",
       " <Hashtag: 조카>,\n",
       " <Hashtag: 잘생김>,\n",
       " <Hashtag: 한시간>,\n",
       " <Hashtag: 나이키X언더커버>,\n",
       " <Hashtag: 오프샷>,\n",
       " <Hashtag: 소유>,\n",
       " <Hashtag: DiorAddict>,\n",
       " <Hashtag: 리아>,\n",
       " <Hashtag: 들어가면>,\n",
       " <Hashtag: SEVENTEEN>,\n",
       " <Hashtag: 방탄소년단포카>,\n",
       " <Hashtag: ARMYbehindBTS>,\n",
       " <Hashtag: 이지부스트_350_V2_블랙>,\n",
       " <Hashtag: bmwx5>,\n",
       " <Hashtag: 빌리팬>,\n",
       " <Hashtag: 헌정광고>,\n",
       " <Hashtag: 청원여고>,\n",
       " <Hashtag: 단독>,\n",
       " <Hashtag: 황욱희>,\n",
       " <Hashtag: 이태일>,\n",
       " <Hashtag: 설_연휴>,\n",
       " <Hashtag: 제품스티커>,\n",
       " <Hashtag: webtoon>,\n",
       " <Hashtag: 공식아이디양도>,\n",
       " <Hashtag: 태그너무많아>,\n",
       " <Hashtag: 큐>,\n",
       " <Hashtag: 유인나>,\n",
       " <Hashtag: 미래생활고>,\n",
       " <Hashtag: ASIANBOSS>,\n",
       " <Hashtag: 운동복>,\n",
       " <Hashtag: 서경공연예술센터>,\n",
       " <Hashtag: 나이키드로우>,\n",
       " <Hashtag: 장미>,\n",
       " <Hashtag: FANCY>,\n",
       " <Hashtag: 코토리>,\n",
       " <Hashtag: characterillustration>,\n",
       " <Hashtag: fountainpen>,\n",
       " <Hashtag: KIMDONGHYUK>,\n",
       " <Hashtag: ubud>,\n",
       " <Hashtag: 반다나>,\n",
       " <Hashtag: 해외관광>,\n",
       " <Hashtag: 주문제작>,\n",
       " <Hashtag: BurberryAutumnWinter19>,\n",
       " <Hashtag: 담요>,\n",
       " <Hashtag: madongseok>,\n",
       " <Hashtag: 불토>,\n",
       " <Hashtag: 버버리파티burberryparty>,\n",
       " <Hashtag: SOYOU>,\n",
       " <Hashtag: 중국짝퉁시계>,\n",
       " <Hashtag: 계란한판슈가케이크>,\n",
       " <Hashtag: 빅토리아베컴>,\n",
       " <Hashtag: 보다티브이>,\n",
       " <Hashtag: ARMYUNITED>,\n",
       " <Hashtag: 커리>,\n",
       " <Hashtag: 노트9>,\n",
       " <Hashtag: 수원삼성블루윙즈>,\n",
       " <Hashtag: 백현>,\n",
       " <Hashtag: support>,\n",
       " <Hashtag: 튜린>,\n",
       " <Hashtag: 엘페뇰>,\n",
       " <Hashtag: 대원>,\n",
       " <Hashtag: Parkshinhye>,\n",
       " <Hashtag: kenzo>,\n",
       " <Hashtag: 홍콩명품시계쇼핑몰>,\n",
       " <Hashtag: 지리산체리>,\n",
       " <Hashtag: 구출>,\n",
       " <Hashtag: 캐논>,\n",
       " <Hashtag: 선릉룸010x5856X6047>,\n",
       " <Hashtag: 중남미>,\n",
       " <Hashtag: 리사이클링>,\n",
       " <Hashtag: summer>,\n",
       " <Hashtag: 경기분석>,\n",
       " <Hashtag: 졸피곤>,\n",
       " <Hashtag: 화가모자>,\n",
       " <Hashtag: 잠깐만날분>,\n",
       " <Hashtag: 파스텔>,\n",
       " <Hashtag: 세븐틴인화사진>,\n",
       " <Hashtag: 방탄오즈볼콘서트>,\n",
       " <Hashtag: Taiki>,\n",
       " <Hashtag: 럭키존>,\n",
       " <Hashtag: 홍중>,\n",
       " <Hashtag: ბითიესი>,\n",
       " <Hashtag: 새벽아미트친소>,\n",
       " <Hashtag: Jinro>,\n",
       " <Hashtag: 워너원리복>,\n",
       " <Hashtag: glasgow>,\n",
       " <Hashtag: 차대절양도>,\n",
       " <Hashtag: 썸머패키지>,\n",
       " <Hashtag: 출시>,\n",
       " <Hashtag: 캉골앙고라>,\n",
       " <Hashtag: 프로방스>,\n",
       " <Hashtag: 블랙핑크지수>,\n",
       " <Hashtag: 우승팀>,\n",
       " <Hashtag: AllTP100>,\n",
       " <Hashtag: DMZ>,\n",
       " <Hashtag: 방탄은정말대단해>,\n",
       " <Hashtag: nikeonair>,\n",
       " <Hashtag: 2020cruise>,\n",
       " <Hashtag: video>,\n",
       " <Hashtag: 체육놀이>,\n",
       " <Hashtag: VODATOUR>,\n",
       " <Hashtag: BTSFESTA2019>,\n",
       " <Hashtag: 타라메지노>,\n",
       " <Hashtag: 테이블>,\n",
       " <Hashtag: jimmychoo>,\n",
       " <Hashtag: 풀빌라>,\n",
       " <Hashtag: 와카야마현>,\n",
       " <Hashtag: 에밀리블런트>,\n",
       " <Hashtag: 그림덕질>,\n",
       " <Hashtag: 방탄소년단컴백>,\n",
       " <Hashtag: 이상연>,\n",
       " <Hashtag: Stylogue>,\n",
       " <Hashtag: GentleMonster>,\n",
       " <Hashtag: diormen>,\n",
       " <Hashtag: kingdom>,\n",
       " <Hashtag: 언제나>,\n",
       " <Hashtag: 섹시걸>,\n",
       " <Hashtag: mommyfashion>,\n",
       " <Hashtag: 이치반쿠지>,\n",
       " <Hashtag: 정수정>,\n",
       " <Hashtag: 용돈왕창>,\n",
       " <Hashtag: パクボゴム>,\n",
       " <Hashtag: 몸짓>,\n",
       " <Hashtag: alphaforce>,\n",
       " <Hashtag: 아크네스튜디오>,\n",
       " <Hashtag: 캐릭터>,\n",
       " <Hashtag: 호랑이>,\n",
       " <Hashtag: 축구>,\n",
       " <Hashtag: 이벤트>,\n",
       " <Hashtag: 오늘도_최상의_컨디션은_아이더와_함께>,\n",
       " <Hashtag: 수확>,\n",
       " <Hashtag: 슬림핏청바지>,\n",
       " <Hashtag: HIGHCUT현장>,\n",
       " <Hashtag: 벚꽃놀이>,\n",
       " <Hashtag: LoveYourself_SpeakYourself>,\n",
       " <Hashtag: Mirror>,\n",
       " <Hashtag: smok>,\n",
       " <Hashtag: 길오솔>,\n",
       " <Hashtag: Grammy>,\n",
       " <Hashtag: 소설>,\n",
       " <Hashtag: 문의톡Noble95>,\n",
       " <Hashtag: 출발출발>,\n",
       " <Hashtag: 흔녀그램>,\n",
       " <Hashtag: cheese>,\n",
       " <Hashtag: 엠비션>,\n",
       " <Hashtag: 찰칵>,\n",
       " <Hashtag: 슈퍼맨사이즈>,\n",
       " <Hashtag: 05년생>,\n",
       " <Hashtag: 헤일리>,\n",
       " <Hashtag: 짐니>,\n",
       " <Hashtag: 그들과>,\n",
       " <Hashtag: TommyNow>,\n",
       " <Hashtag: 한터차트>,\n",
       " <Hashtag: 자이언츠>,\n",
       " <Hashtag: 런닝맨>,\n",
       " <Hashtag: 엠엘비신발>,\n",
       " <Hashtag: 코드쿤스트>,\n",
       " <Hashtag: 줄때받자>,\n",
       " <Hashtag: 짜장면곱빼기>,\n",
       " <Hashtag: 에로즈셀라비>,\n",
       " <Hashtag: 쌍안경>,\n",
       " <Hashtag: 인증샷>,\n",
       " <Hashtag: 서주현>,\n",
       " <Hashtag: 슈퍼래쉬가드>,\n",
       " <Hashtag: HM>,\n",
       " <Hashtag: cake>,\n",
       " <Hashtag: 투표계트친소>,\n",
       " <Hashtag: 헤이즈>,\n",
       " <Hashtag: 현장스케치>,\n",
       " <Hashtag: 호로바합니다>,\n",
       " <Hashtag: 朴炯植>,\n",
       " <Hashtag: Reaction>,\n",
       " <Hashtag: 아>,\n",
       " <Hashtag: 비하인드컷>,\n",
       " <Hashtag: Gong_cha>,\n",
       " <Hashtag: W_EXCLUSIVE>,\n",
       " <Hashtag: 솜뭉치>,\n",
       " <Hashtag: 오빠들미안해요>,\n",
       " <Hashtag: 스다마사키>,\n",
       " <Hashtag: 프리즘스톤>,\n",
       " <Hashtag: mymuse>,\n",
       " <Hashtag: 잠실새내>,\n",
       " <Hashtag: 팬TALK>,\n",
       " <Hashtag: 라우터>,\n",
       " <Hashtag: キムビョングァン>,\n",
       " <Hashtag: 마마건>,\n",
       " <Hashtag: 매크로>,\n",
       " <Hashtag: 영훈>,\n",
       " <Hashtag: 그루미>,\n",
       " <Hashtag: 피땀눈물>,\n",
       " <Hashtag: 김복동할머니>,\n",
       " <Hashtag: 플래그쉽스토어>,\n",
       " <Hashtag: 501데이>,\n",
       " <Hashtag: 크리스마스카드>,\n",
       " <Hashtag: 헤드코기>,\n",
       " <Hashtag: 영서중>,\n",
       " <Hashtag: 민호>,\n",
       " <Hashtag: 정연>,\n",
       " <Hashtag: 너도인간이니OST>,\n",
       " <Hashtag: bluewings>,\n",
       " <Hashtag: ken>,\n",
       " <Hashtag: chess>,\n",
       " <Hashtag: 보이스>,\n",
       " <Hashtag: BT>,\n",
       " <Hashtag: 최병찬_포기하_지마>,\n",
       " <Hashtag: 아이더봄상품>,\n",
       " <Hashtag: umji>,\n",
       " <Hashtag: 봄신상>,\n",
       " <Hashtag: Dior>,\n",
       " <Hashtag: 휠라사랑해요>,\n",
       " <Hashtag: chanellipstick>,\n",
       " <Hashtag: 방탄오빠들>,\n",
       " <Hashtag: 꾹이>,\n",
       " <Hashtag: 샤넬체인백>,\n",
       " <Hashtag: 커플>,\n",
       " <Hashtag: 슬랙스>,\n",
       " <Hashtag: TheEnd>,\n",
       " <Hashtag: 반짝>,\n",
       " <Hashtag: 박보검>,\n",
       " ...]"
      ]
     },
     "execution_count": 20,
     "metadata": {},
     "output_type": "execute_result"
    }
   ],
   "source": [
    "bulk_hashtags = []\n",
    "for _tag in hashtags:\n",
    "    obj = Hashtag()\n",
    "    obj.hashtag = _tag\n",
    "    bulk_hashtags.append(obj)\n",
    "\n",
    "Hashtag.objects.bulk_create(bulk_hashtags)"
   ]
  },
  {
   "cell_type": "code",
   "execution_count": 29,
   "metadata": {},
   "outputs": [],
   "source": [
    "cols = ['hashtag']\n",
    "with open('dbinit_hashtags.csv', 'w', encoding='UTF-8') as f:\n",
    "    writer = csv.DictWriter(f, fieldnames=cols)\n",
    "    writer.writeheader()\n",
    "    for data in dbinit_hashtags:\n",
    "        writer.writerow(data['fields'])"
   ]
  },
  {
   "cell_type": "code",
   "execution_count": null,
   "metadata": {},
   "outputs": [],
   "source": []
  },
  {
   "cell_type": "markdown",
   "metadata": {},
   "source": [
    "# Feed model"
   ]
  },
  {
   "cell_type": "code",
   "execution_count": 25,
   "metadata": {},
   "outputs": [],
   "source": [
    "from app.models import Brand, Profile, Hashtag, Feed"
   ]
  },
  {
   "cell_type": "code",
   "execution_count": 26,
   "metadata": {},
   "outputs": [],
   "source": [
    "feeds = None\n",
    "with open('feeds.json', encoding='UTF-8-sig') as f:\n",
    "    feeds = json.load(f)"
   ]
  },
  {
   "cell_type": "code",
   "execution_count": 45,
   "metadata": {},
   "outputs": [
    {
     "data": {
      "text/plain": [
       "(40, {'app.Feed_hashtags': 30, 'app.Feed': 10})"
      ]
     },
     "execution_count": 45,
     "metadata": {},
     "output_type": "execute_result"
    }
   ],
   "source": [
    "Feed.objects.all().delete()"
   ]
  },
  {
   "cell_type": "code",
   "execution_count": 46,
   "metadata": {
    "collapsed": true
   },
   "outputs": [
    {
     "data": {
      "application/vnd.jupyter.widget-view+json": {
       "model_id": "23fb189391f5437fa83fa1004c499877",
       "version_major": 2,
       "version_minor": 0
      },
      "text/plain": [
       "HBox(children=(IntProgress(value=0, max=46960), HTML(value='')))"
      ]
     },
     "metadata": {},
     "output_type": "display_data"
    },
    {
     "ename": "KeyboardInterrupt",
     "evalue": "",
     "output_type": "error",
     "traceback": [
      "\u001b[1;31m---------------------------------------------------------------------------\u001b[0m",
      "\u001b[1;31mKeyboardInterrupt\u001b[0m                         Traceback (most recent call last)",
      "\u001b[1;32m<ipython-input-46-a7979353fda7>\u001b[0m in \u001b[0;36m<module>\u001b[1;34m\u001b[0m\n\u001b[0;32m      4\u001b[0m     \u001b[0mobj\u001b[0m \u001b[1;33m=\u001b[0m \u001b[0mFeed\u001b[0m\u001b[1;33m(\u001b[0m\u001b[1;33m)\u001b[0m\u001b[1;33m\u001b[0m\u001b[1;33m\u001b[0m\u001b[0m\n\u001b[0;32m      5\u001b[0m     \u001b[0mobj\u001b[0m\u001b[1;33m.\u001b[0m\u001b[0mid\u001b[0m \u001b[1;33m=\u001b[0m \u001b[0mi\u001b[0m\u001b[1;33m+\u001b[0m\u001b[1;36m1\u001b[0m\u001b[1;33m\u001b[0m\u001b[1;33m\u001b[0m\u001b[0m\n\u001b[1;32m----> 6\u001b[1;33m     \u001b[0mobj\u001b[0m\u001b[1;33m.\u001b[0m\u001b[0mmembership\u001b[0m \u001b[1;33m=\u001b[0m \u001b[0mBrand\u001b[0m\u001b[1;33m.\u001b[0m\u001b[0mobjects\u001b[0m\u001b[1;33m.\u001b[0m\u001b[0mget\u001b[0m\u001b[1;33m(\u001b[0m\u001b[0mname\u001b[0m\u001b[1;33m=\u001b[0m\u001b[0m_feed\u001b[0m\u001b[1;33m[\u001b[0m\u001b[1;34m'membership'\u001b[0m\u001b[1;33m]\u001b[0m\u001b[1;33m)\u001b[0m\u001b[1;33m\u001b[0m\u001b[1;33m\u001b[0m\u001b[0m\n\u001b[0m\u001b[0;32m      7\u001b[0m     \u001b[0mobj\u001b[0m\u001b[1;33m.\u001b[0m\u001b[0mauthor\u001b[0m \u001b[1;33m=\u001b[0m \u001b[0mProfile\u001b[0m\u001b[1;33m.\u001b[0m\u001b[0mobjects\u001b[0m\u001b[1;33m.\u001b[0m\u001b[0mget\u001b[0m\u001b[1;33m(\u001b[0m\u001b[0muser__email\u001b[0m\u001b[1;33m=\u001b[0m\u001b[0m_feed\u001b[0m\u001b[1;33m[\u001b[0m\u001b[1;34m'author'\u001b[0m\u001b[1;33m]\u001b[0m\u001b[1;33m+\u001b[0m\u001b[1;34m'@getch.com'\u001b[0m\u001b[1;33m)\u001b[0m\u001b[1;33m\u001b[0m\u001b[1;33m\u001b[0m\u001b[0m\n\u001b[0;32m      8\u001b[0m     \u001b[0mobj\u001b[0m\u001b[1;33m.\u001b[0m\u001b[0mtimestamp\u001b[0m \u001b[1;33m=\u001b[0m \u001b[0mstr\u001b[0m\u001b[1;33m(\u001b[0m\u001b[0mpd\u001b[0m\u001b[1;33m.\u001b[0m\u001b[0mTimestamp\u001b[0m\u001b[1;33m(\u001b[0m\u001b[0m_feed\u001b[0m\u001b[1;33m[\u001b[0m\u001b[1;34m'created_at'\u001b[0m\u001b[1;33m]\u001b[0m\u001b[1;33m)\u001b[0m\u001b[1;33m.\u001b[0m\u001b[0mtz_localize\u001b[0m\u001b[1;33m(\u001b[0m\u001b[1;32mNone\u001b[0m\u001b[1;33m)\u001b[0m\u001b[1;33m)\u001b[0m\u001b[1;33m\u001b[0m\u001b[1;33m\u001b[0m\u001b[0m\n",
      "\u001b[1;32m~\\Documents\\GitHub\\bmatch\\venv\\lib\\site-packages\\django\\db\\models\\manager.py\u001b[0m in \u001b[0;36mmanager_method\u001b[1;34m(self, *args, **kwargs)\u001b[0m\n\u001b[0;32m     80\u001b[0m         \u001b[1;32mdef\u001b[0m \u001b[0mcreate_method\u001b[0m\u001b[1;33m(\u001b[0m\u001b[0mname\u001b[0m\u001b[1;33m,\u001b[0m \u001b[0mmethod\u001b[0m\u001b[1;33m)\u001b[0m\u001b[1;33m:\u001b[0m\u001b[1;33m\u001b[0m\u001b[1;33m\u001b[0m\u001b[0m\n\u001b[0;32m     81\u001b[0m             \u001b[1;32mdef\u001b[0m \u001b[0mmanager_method\u001b[0m\u001b[1;33m(\u001b[0m\u001b[0mself\u001b[0m\u001b[1;33m,\u001b[0m \u001b[1;33m*\u001b[0m\u001b[0margs\u001b[0m\u001b[1;33m,\u001b[0m \u001b[1;33m**\u001b[0m\u001b[0mkwargs\u001b[0m\u001b[1;33m)\u001b[0m\u001b[1;33m:\u001b[0m\u001b[1;33m\u001b[0m\u001b[1;33m\u001b[0m\u001b[0m\n\u001b[1;32m---> 82\u001b[1;33m                 \u001b[1;32mreturn\u001b[0m \u001b[0mgetattr\u001b[0m\u001b[1;33m(\u001b[0m\u001b[0mself\u001b[0m\u001b[1;33m.\u001b[0m\u001b[0mget_queryset\u001b[0m\u001b[1;33m(\u001b[0m\u001b[1;33m)\u001b[0m\u001b[1;33m,\u001b[0m \u001b[0mname\u001b[0m\u001b[1;33m)\u001b[0m\u001b[1;33m(\u001b[0m\u001b[1;33m*\u001b[0m\u001b[0margs\u001b[0m\u001b[1;33m,\u001b[0m \u001b[1;33m**\u001b[0m\u001b[0mkwargs\u001b[0m\u001b[1;33m)\u001b[0m\u001b[1;33m\u001b[0m\u001b[1;33m\u001b[0m\u001b[0m\n\u001b[0m\u001b[0;32m     83\u001b[0m             \u001b[0mmanager_method\u001b[0m\u001b[1;33m.\u001b[0m\u001b[0m__name__\u001b[0m \u001b[1;33m=\u001b[0m \u001b[0mmethod\u001b[0m\u001b[1;33m.\u001b[0m\u001b[0m__name__\u001b[0m\u001b[1;33m\u001b[0m\u001b[1;33m\u001b[0m\u001b[0m\n\u001b[0;32m     84\u001b[0m             \u001b[0mmanager_method\u001b[0m\u001b[1;33m.\u001b[0m\u001b[0m__doc__\u001b[0m \u001b[1;33m=\u001b[0m \u001b[0mmethod\u001b[0m\u001b[1;33m.\u001b[0m\u001b[0m__doc__\u001b[0m\u001b[1;33m\u001b[0m\u001b[1;33m\u001b[0m\u001b[0m\n",
      "\u001b[1;32m~\\Documents\\GitHub\\bmatch\\venv\\lib\\site-packages\\django\\db\\models\\query.py\u001b[0m in \u001b[0;36mget\u001b[1;34m(self, *args, **kwargs)\u001b[0m\n\u001b[0;32m    400\u001b[0m         \u001b[1;32mif\u001b[0m \u001b[0mself\u001b[0m\u001b[1;33m.\u001b[0m\u001b[0mquery\u001b[0m\u001b[1;33m.\u001b[0m\u001b[0mcan_filter\u001b[0m\u001b[1;33m(\u001b[0m\u001b[1;33m)\u001b[0m \u001b[1;32mand\u001b[0m \u001b[1;32mnot\u001b[0m \u001b[0mself\u001b[0m\u001b[1;33m.\u001b[0m\u001b[0mquery\u001b[0m\u001b[1;33m.\u001b[0m\u001b[0mdistinct_fields\u001b[0m\u001b[1;33m:\u001b[0m\u001b[1;33m\u001b[0m\u001b[1;33m\u001b[0m\u001b[0m\n\u001b[0;32m    401\u001b[0m             \u001b[0mclone\u001b[0m \u001b[1;33m=\u001b[0m \u001b[0mclone\u001b[0m\u001b[1;33m.\u001b[0m\u001b[0morder_by\u001b[0m\u001b[1;33m(\u001b[0m\u001b[1;33m)\u001b[0m\u001b[1;33m\u001b[0m\u001b[1;33m\u001b[0m\u001b[0m\n\u001b[1;32m--> 402\u001b[1;33m         \u001b[0mnum\u001b[0m \u001b[1;33m=\u001b[0m \u001b[0mlen\u001b[0m\u001b[1;33m(\u001b[0m\u001b[0mclone\u001b[0m\u001b[1;33m)\u001b[0m\u001b[1;33m\u001b[0m\u001b[1;33m\u001b[0m\u001b[0m\n\u001b[0m\u001b[0;32m    403\u001b[0m         \u001b[1;32mif\u001b[0m \u001b[0mnum\u001b[0m \u001b[1;33m==\u001b[0m \u001b[1;36m1\u001b[0m\u001b[1;33m:\u001b[0m\u001b[1;33m\u001b[0m\u001b[1;33m\u001b[0m\u001b[0m\n\u001b[0;32m    404\u001b[0m             \u001b[1;32mreturn\u001b[0m \u001b[0mclone\u001b[0m\u001b[1;33m.\u001b[0m\u001b[0m_result_cache\u001b[0m\u001b[1;33m[\u001b[0m\u001b[1;36m0\u001b[0m\u001b[1;33m]\u001b[0m\u001b[1;33m\u001b[0m\u001b[1;33m\u001b[0m\u001b[0m\n",
      "\u001b[1;32m~\\Documents\\GitHub\\bmatch\\venv\\lib\\site-packages\\django\\db\\models\\query.py\u001b[0m in \u001b[0;36m__len__\u001b[1;34m(self)\u001b[0m\n\u001b[0;32m    254\u001b[0m \u001b[1;33m\u001b[0m\u001b[0m\n\u001b[0;32m    255\u001b[0m     \u001b[1;32mdef\u001b[0m \u001b[0m__len__\u001b[0m\u001b[1;33m(\u001b[0m\u001b[0mself\u001b[0m\u001b[1;33m)\u001b[0m\u001b[1;33m:\u001b[0m\u001b[1;33m\u001b[0m\u001b[1;33m\u001b[0m\u001b[0m\n\u001b[1;32m--> 256\u001b[1;33m         \u001b[0mself\u001b[0m\u001b[1;33m.\u001b[0m\u001b[0m_fetch_all\u001b[0m\u001b[1;33m(\u001b[0m\u001b[1;33m)\u001b[0m\u001b[1;33m\u001b[0m\u001b[1;33m\u001b[0m\u001b[0m\n\u001b[0m\u001b[0;32m    257\u001b[0m         \u001b[1;32mreturn\u001b[0m \u001b[0mlen\u001b[0m\u001b[1;33m(\u001b[0m\u001b[0mself\u001b[0m\u001b[1;33m.\u001b[0m\u001b[0m_result_cache\u001b[0m\u001b[1;33m)\u001b[0m\u001b[1;33m\u001b[0m\u001b[1;33m\u001b[0m\u001b[0m\n\u001b[0;32m    258\u001b[0m \u001b[1;33m\u001b[0m\u001b[0m\n",
      "\u001b[1;32m~\\Documents\\GitHub\\bmatch\\venv\\lib\\site-packages\\django\\db\\models\\query.py\u001b[0m in \u001b[0;36m_fetch_all\u001b[1;34m(self)\u001b[0m\n\u001b[0;32m   1240\u001b[0m     \u001b[1;32mdef\u001b[0m \u001b[0m_fetch_all\u001b[0m\u001b[1;33m(\u001b[0m\u001b[0mself\u001b[0m\u001b[1;33m)\u001b[0m\u001b[1;33m:\u001b[0m\u001b[1;33m\u001b[0m\u001b[1;33m\u001b[0m\u001b[0m\n\u001b[0;32m   1241\u001b[0m         \u001b[1;32mif\u001b[0m \u001b[0mself\u001b[0m\u001b[1;33m.\u001b[0m\u001b[0m_result_cache\u001b[0m \u001b[1;32mis\u001b[0m \u001b[1;32mNone\u001b[0m\u001b[1;33m:\u001b[0m\u001b[1;33m\u001b[0m\u001b[1;33m\u001b[0m\u001b[0m\n\u001b[1;32m-> 1242\u001b[1;33m             \u001b[0mself\u001b[0m\u001b[1;33m.\u001b[0m\u001b[0m_result_cache\u001b[0m \u001b[1;33m=\u001b[0m \u001b[0mlist\u001b[0m\u001b[1;33m(\u001b[0m\u001b[0mself\u001b[0m\u001b[1;33m.\u001b[0m\u001b[0m_iterable_class\u001b[0m\u001b[1;33m(\u001b[0m\u001b[0mself\u001b[0m\u001b[1;33m)\u001b[0m\u001b[1;33m)\u001b[0m\u001b[1;33m\u001b[0m\u001b[1;33m\u001b[0m\u001b[0m\n\u001b[0m\u001b[0;32m   1243\u001b[0m         \u001b[1;32mif\u001b[0m \u001b[0mself\u001b[0m\u001b[1;33m.\u001b[0m\u001b[0m_prefetch_related_lookups\u001b[0m \u001b[1;32mand\u001b[0m \u001b[1;32mnot\u001b[0m \u001b[0mself\u001b[0m\u001b[1;33m.\u001b[0m\u001b[0m_prefetch_done\u001b[0m\u001b[1;33m:\u001b[0m\u001b[1;33m\u001b[0m\u001b[1;33m\u001b[0m\u001b[0m\n\u001b[0;32m   1244\u001b[0m             \u001b[0mself\u001b[0m\u001b[1;33m.\u001b[0m\u001b[0m_prefetch_related_objects\u001b[0m\u001b[1;33m(\u001b[0m\u001b[1;33m)\u001b[0m\u001b[1;33m\u001b[0m\u001b[1;33m\u001b[0m\u001b[0m\n",
      "\u001b[1;32m~\\Documents\\GitHub\\bmatch\\venv\\lib\\site-packages\\django\\db\\models\\query.py\u001b[0m in \u001b[0;36m__iter__\u001b[1;34m(self)\u001b[0m\n\u001b[0;32m     53\u001b[0m         \u001b[1;31m# Execute the query. This will also fill compiler.select, klass_info,\u001b[0m\u001b[1;33m\u001b[0m\u001b[1;33m\u001b[0m\u001b[1;33m\u001b[0m\u001b[0m\n\u001b[0;32m     54\u001b[0m         \u001b[1;31m# and annotations.\u001b[0m\u001b[1;33m\u001b[0m\u001b[1;33m\u001b[0m\u001b[1;33m\u001b[0m\u001b[0m\n\u001b[1;32m---> 55\u001b[1;33m         \u001b[0mresults\u001b[0m \u001b[1;33m=\u001b[0m \u001b[0mcompiler\u001b[0m\u001b[1;33m.\u001b[0m\u001b[0mexecute_sql\u001b[0m\u001b[1;33m(\u001b[0m\u001b[0mchunked_fetch\u001b[0m\u001b[1;33m=\u001b[0m\u001b[0mself\u001b[0m\u001b[1;33m.\u001b[0m\u001b[0mchunked_fetch\u001b[0m\u001b[1;33m,\u001b[0m \u001b[0mchunk_size\u001b[0m\u001b[1;33m=\u001b[0m\u001b[0mself\u001b[0m\u001b[1;33m.\u001b[0m\u001b[0mchunk_size\u001b[0m\u001b[1;33m)\u001b[0m\u001b[1;33m\u001b[0m\u001b[1;33m\u001b[0m\u001b[0m\n\u001b[0m\u001b[0;32m     56\u001b[0m         select, klass_info, annotation_col_map = (compiler.select, compiler.klass_info,\n\u001b[0;32m     57\u001b[0m                                                   compiler.annotation_col_map)\n",
      "\u001b[1;32m~\\Documents\\GitHub\\bmatch\\venv\\lib\\site-packages\\django\\db\\models\\sql\\compiler.py\u001b[0m in \u001b[0;36mexecute_sql\u001b[1;34m(self, result_type, chunked_fetch, chunk_size)\u001b[0m\n\u001b[0;32m   1098\u001b[0m             \u001b[0mcursor\u001b[0m \u001b[1;33m=\u001b[0m \u001b[0mself\u001b[0m\u001b[1;33m.\u001b[0m\u001b[0mconnection\u001b[0m\u001b[1;33m.\u001b[0m\u001b[0mcursor\u001b[0m\u001b[1;33m(\u001b[0m\u001b[1;33m)\u001b[0m\u001b[1;33m\u001b[0m\u001b[1;33m\u001b[0m\u001b[0m\n\u001b[0;32m   1099\u001b[0m         \u001b[1;32mtry\u001b[0m\u001b[1;33m:\u001b[0m\u001b[1;33m\u001b[0m\u001b[1;33m\u001b[0m\u001b[0m\n\u001b[1;32m-> 1100\u001b[1;33m             \u001b[0mcursor\u001b[0m\u001b[1;33m.\u001b[0m\u001b[0mexecute\u001b[0m\u001b[1;33m(\u001b[0m\u001b[0msql\u001b[0m\u001b[1;33m,\u001b[0m \u001b[0mparams\u001b[0m\u001b[1;33m)\u001b[0m\u001b[1;33m\u001b[0m\u001b[1;33m\u001b[0m\u001b[0m\n\u001b[0m\u001b[0;32m   1101\u001b[0m         \u001b[1;32mexcept\u001b[0m \u001b[0mException\u001b[0m\u001b[1;33m:\u001b[0m\u001b[1;33m\u001b[0m\u001b[1;33m\u001b[0m\u001b[0m\n\u001b[0;32m   1102\u001b[0m             \u001b[1;31m# Might fail for server-side cursors (e.g. connection closed)\u001b[0m\u001b[1;33m\u001b[0m\u001b[1;33m\u001b[0m\u001b[1;33m\u001b[0m\u001b[0m\n",
      "\u001b[1;32m~\\Documents\\GitHub\\bmatch\\venv\\lib\\site-packages\\django\\db\\backends\\utils.py\u001b[0m in \u001b[0;36mexecute\u001b[1;34m(self, sql, params)\u001b[0m\n\u001b[0;32m     97\u001b[0m         \u001b[0mstart\u001b[0m \u001b[1;33m=\u001b[0m \u001b[0mtime\u001b[0m\u001b[1;33m(\u001b[0m\u001b[1;33m)\u001b[0m\u001b[1;33m\u001b[0m\u001b[1;33m\u001b[0m\u001b[0m\n\u001b[0;32m     98\u001b[0m         \u001b[1;32mtry\u001b[0m\u001b[1;33m:\u001b[0m\u001b[1;33m\u001b[0m\u001b[1;33m\u001b[0m\u001b[0m\n\u001b[1;32m---> 99\u001b[1;33m             \u001b[1;32mreturn\u001b[0m \u001b[0msuper\u001b[0m\u001b[1;33m(\u001b[0m\u001b[1;33m)\u001b[0m\u001b[1;33m.\u001b[0m\u001b[0mexecute\u001b[0m\u001b[1;33m(\u001b[0m\u001b[0msql\u001b[0m\u001b[1;33m,\u001b[0m \u001b[0mparams\u001b[0m\u001b[1;33m)\u001b[0m\u001b[1;33m\u001b[0m\u001b[1;33m\u001b[0m\u001b[0m\n\u001b[0m\u001b[0;32m    100\u001b[0m         \u001b[1;32mfinally\u001b[0m\u001b[1;33m:\u001b[0m\u001b[1;33m\u001b[0m\u001b[1;33m\u001b[0m\u001b[0m\n\u001b[0;32m    101\u001b[0m             \u001b[0mstop\u001b[0m \u001b[1;33m=\u001b[0m \u001b[0mtime\u001b[0m\u001b[1;33m(\u001b[0m\u001b[1;33m)\u001b[0m\u001b[1;33m\u001b[0m\u001b[1;33m\u001b[0m\u001b[0m\n",
      "\u001b[1;32m~\\Documents\\GitHub\\bmatch\\venv\\lib\\site-packages\\django\\db\\backends\\utils.py\u001b[0m in \u001b[0;36mexecute\u001b[1;34m(self, sql, params)\u001b[0m\n\u001b[0;32m     65\u001b[0m \u001b[1;33m\u001b[0m\u001b[0m\n\u001b[0;32m     66\u001b[0m     \u001b[1;32mdef\u001b[0m \u001b[0mexecute\u001b[0m\u001b[1;33m(\u001b[0m\u001b[0mself\u001b[0m\u001b[1;33m,\u001b[0m \u001b[0msql\u001b[0m\u001b[1;33m,\u001b[0m \u001b[0mparams\u001b[0m\u001b[1;33m=\u001b[0m\u001b[1;32mNone\u001b[0m\u001b[1;33m)\u001b[0m\u001b[1;33m:\u001b[0m\u001b[1;33m\u001b[0m\u001b[1;33m\u001b[0m\u001b[0m\n\u001b[1;32m---> 67\u001b[1;33m         \u001b[1;32mreturn\u001b[0m \u001b[0mself\u001b[0m\u001b[1;33m.\u001b[0m\u001b[0m_execute_with_wrappers\u001b[0m\u001b[1;33m(\u001b[0m\u001b[0msql\u001b[0m\u001b[1;33m,\u001b[0m \u001b[0mparams\u001b[0m\u001b[1;33m,\u001b[0m \u001b[0mmany\u001b[0m\u001b[1;33m=\u001b[0m\u001b[1;32mFalse\u001b[0m\u001b[1;33m,\u001b[0m \u001b[0mexecutor\u001b[0m\u001b[1;33m=\u001b[0m\u001b[0mself\u001b[0m\u001b[1;33m.\u001b[0m\u001b[0m_execute\u001b[0m\u001b[1;33m)\u001b[0m\u001b[1;33m\u001b[0m\u001b[1;33m\u001b[0m\u001b[0m\n\u001b[0m\u001b[0;32m     68\u001b[0m \u001b[1;33m\u001b[0m\u001b[0m\n\u001b[0;32m     69\u001b[0m     \u001b[1;32mdef\u001b[0m \u001b[0mexecutemany\u001b[0m\u001b[1;33m(\u001b[0m\u001b[0mself\u001b[0m\u001b[1;33m,\u001b[0m \u001b[0msql\u001b[0m\u001b[1;33m,\u001b[0m \u001b[0mparam_list\u001b[0m\u001b[1;33m)\u001b[0m\u001b[1;33m:\u001b[0m\u001b[1;33m\u001b[0m\u001b[1;33m\u001b[0m\u001b[0m\n",
      "\u001b[1;32m~\\Documents\\GitHub\\bmatch\\venv\\lib\\site-packages\\django\\db\\backends\\utils.py\u001b[0m in \u001b[0;36m_execute_with_wrappers\u001b[1;34m(self, sql, params, many, executor)\u001b[0m\n\u001b[0;32m     74\u001b[0m         \u001b[1;32mfor\u001b[0m \u001b[0mwrapper\u001b[0m \u001b[1;32min\u001b[0m \u001b[0mreversed\u001b[0m\u001b[1;33m(\u001b[0m\u001b[0mself\u001b[0m\u001b[1;33m.\u001b[0m\u001b[0mdb\u001b[0m\u001b[1;33m.\u001b[0m\u001b[0mexecute_wrappers\u001b[0m\u001b[1;33m)\u001b[0m\u001b[1;33m:\u001b[0m\u001b[1;33m\u001b[0m\u001b[1;33m\u001b[0m\u001b[0m\n\u001b[0;32m     75\u001b[0m             \u001b[0mexecutor\u001b[0m \u001b[1;33m=\u001b[0m \u001b[0mfunctools\u001b[0m\u001b[1;33m.\u001b[0m\u001b[0mpartial\u001b[0m\u001b[1;33m(\u001b[0m\u001b[0mwrapper\u001b[0m\u001b[1;33m,\u001b[0m \u001b[0mexecutor\u001b[0m\u001b[1;33m)\u001b[0m\u001b[1;33m\u001b[0m\u001b[1;33m\u001b[0m\u001b[0m\n\u001b[1;32m---> 76\u001b[1;33m         \u001b[1;32mreturn\u001b[0m \u001b[0mexecutor\u001b[0m\u001b[1;33m(\u001b[0m\u001b[0msql\u001b[0m\u001b[1;33m,\u001b[0m \u001b[0mparams\u001b[0m\u001b[1;33m,\u001b[0m \u001b[0mmany\u001b[0m\u001b[1;33m,\u001b[0m \u001b[0mcontext\u001b[0m\u001b[1;33m)\u001b[0m\u001b[1;33m\u001b[0m\u001b[1;33m\u001b[0m\u001b[0m\n\u001b[0m\u001b[0;32m     77\u001b[0m \u001b[1;33m\u001b[0m\u001b[0m\n\u001b[0;32m     78\u001b[0m     \u001b[1;32mdef\u001b[0m \u001b[0m_execute\u001b[0m\u001b[1;33m(\u001b[0m\u001b[0mself\u001b[0m\u001b[1;33m,\u001b[0m \u001b[0msql\u001b[0m\u001b[1;33m,\u001b[0m \u001b[0mparams\u001b[0m\u001b[1;33m,\u001b[0m \u001b[1;33m*\u001b[0m\u001b[0mignored_wrapper_args\u001b[0m\u001b[1;33m)\u001b[0m\u001b[1;33m:\u001b[0m\u001b[1;33m\u001b[0m\u001b[1;33m\u001b[0m\u001b[0m\n",
      "\u001b[1;32m~\\Documents\\GitHub\\bmatch\\venv\\lib\\site-packages\\django\\db\\backends\\utils.py\u001b[0m in \u001b[0;36m_execute\u001b[1;34m(self, sql, params, *ignored_wrapper_args)\u001b[0m\n\u001b[0;32m     82\u001b[0m                 \u001b[1;32mreturn\u001b[0m \u001b[0mself\u001b[0m\u001b[1;33m.\u001b[0m\u001b[0mcursor\u001b[0m\u001b[1;33m.\u001b[0m\u001b[0mexecute\u001b[0m\u001b[1;33m(\u001b[0m\u001b[0msql\u001b[0m\u001b[1;33m)\u001b[0m\u001b[1;33m\u001b[0m\u001b[1;33m\u001b[0m\u001b[0m\n\u001b[0;32m     83\u001b[0m             \u001b[1;32melse\u001b[0m\u001b[1;33m:\u001b[0m\u001b[1;33m\u001b[0m\u001b[1;33m\u001b[0m\u001b[0m\n\u001b[1;32m---> 84\u001b[1;33m                 \u001b[1;32mreturn\u001b[0m \u001b[0mself\u001b[0m\u001b[1;33m.\u001b[0m\u001b[0mcursor\u001b[0m\u001b[1;33m.\u001b[0m\u001b[0mexecute\u001b[0m\u001b[1;33m(\u001b[0m\u001b[0msql\u001b[0m\u001b[1;33m,\u001b[0m \u001b[0mparams\u001b[0m\u001b[1;33m)\u001b[0m\u001b[1;33m\u001b[0m\u001b[1;33m\u001b[0m\u001b[0m\n\u001b[0m\u001b[0;32m     85\u001b[0m \u001b[1;33m\u001b[0m\u001b[0m\n\u001b[0;32m     86\u001b[0m     \u001b[1;32mdef\u001b[0m \u001b[0m_executemany\u001b[0m\u001b[1;33m(\u001b[0m\u001b[0mself\u001b[0m\u001b[1;33m,\u001b[0m \u001b[0msql\u001b[0m\u001b[1;33m,\u001b[0m \u001b[0mparam_list\u001b[0m\u001b[1;33m,\u001b[0m \u001b[1;33m*\u001b[0m\u001b[0mignored_wrapper_args\u001b[0m\u001b[1;33m)\u001b[0m\u001b[1;33m:\u001b[0m\u001b[1;33m\u001b[0m\u001b[1;33m\u001b[0m\u001b[0m\n",
      "\u001b[1;32m~\\Anaconda3\\lib\\encodings\\utf_8.py\u001b[0m in \u001b[0;36mdecode\u001b[1;34m(input, errors)\u001b[0m\n\u001b[0;32m     13\u001b[0m \u001b[0mencode\u001b[0m \u001b[1;33m=\u001b[0m \u001b[0mcodecs\u001b[0m\u001b[1;33m.\u001b[0m\u001b[0mutf_8_encode\u001b[0m\u001b[1;33m\u001b[0m\u001b[1;33m\u001b[0m\u001b[0m\n\u001b[0;32m     14\u001b[0m \u001b[1;33m\u001b[0m\u001b[0m\n\u001b[1;32m---> 15\u001b[1;33m \u001b[1;32mdef\u001b[0m \u001b[0mdecode\u001b[0m\u001b[1;33m(\u001b[0m\u001b[0minput\u001b[0m\u001b[1;33m,\u001b[0m \u001b[0merrors\u001b[0m\u001b[1;33m=\u001b[0m\u001b[1;34m'strict'\u001b[0m\u001b[1;33m)\u001b[0m\u001b[1;33m:\u001b[0m\u001b[1;33m\u001b[0m\u001b[1;33m\u001b[0m\u001b[0m\n\u001b[0m\u001b[0;32m     16\u001b[0m     \u001b[1;32mreturn\u001b[0m \u001b[0mcodecs\u001b[0m\u001b[1;33m.\u001b[0m\u001b[0mutf_8_decode\u001b[0m\u001b[1;33m(\u001b[0m\u001b[0minput\u001b[0m\u001b[1;33m,\u001b[0m \u001b[0merrors\u001b[0m\u001b[1;33m,\u001b[0m \u001b[1;32mTrue\u001b[0m\u001b[1;33m)\u001b[0m\u001b[1;33m\u001b[0m\u001b[1;33m\u001b[0m\u001b[0m\n\u001b[0;32m     17\u001b[0m \u001b[1;33m\u001b[0m\u001b[0m\n",
      "\u001b[1;31mKeyboardInterrupt\u001b[0m: "
     ]
    }
   ],
   "source": [
    "bulk_feeds = []\n",
    "\n",
    "for i, _feed in enumerate(tqdm(feeds[:])):\n",
    "    obj = Feed()\n",
    "    obj.id = i+1\n",
    "    obj.membership = Brand.objects.get(name=_feed['membership'])\n",
    "    obj.author = Profile.objects.get(user__email=_feed['author']+'@getch.com')\n",
    "    obj.timestamp = str(pd.Timestamp(_feed['created_at']).tz_localize(None))\n",
    "    obj.nlikes = _feed['nlikes']\n",
    "    obj.content = _feed['content']\n",
    "    \n",
    "    if 'feed_image' in _feed:\n",
    "        obj.feed_image = 'feed_images/' + _feed['membership'] + '/' + _feed['author'] + '@getch.com' + '/' + _feed['feed_image'].split('/')[-1]\n",
    "    \n",
    "    bulk_feeds.append(obj)"
   ]
  },
  {
   "cell_type": "code",
   "execution_count": 43,
   "metadata": {
    "collapsed": true
   },
   "outputs": [
    {
     "data": {
      "text/plain": [
       "[<Feed: 2019-07-18 10:14:50.723664 DazedKorea@getch.com>,\n",
       " <Feed: 2019-07-18 10:14:50.723664 8056LpjXNJdgwuj@getch.com>,\n",
       " <Feed: 2019-07-18 10:14:50.723664 musinsacom@getch.com>,\n",
       " <Feed: 2019-07-18 10:14:50.723664 rvd3065@getch.com>,\n",
       " <Feed: 2019-07-18 10:14:50.723664 woodz_golmu@getch.com>,\n",
       " <Feed: 2019-07-18 10:14:50.723664 musinsacom@getch.com>,\n",
       " <Feed: 2019-07-18 10:14:50.723664 rvd3065@getch.com>,\n",
       " <Feed: 2019-07-18 10:14:50.723664 fashionncom@getch.com>,\n",
       " <Feed: 2019-07-18 10:14:50.723664 Lilith36910318@getch.com>,\n",
       " <Feed: 2019-07-18 10:14:50.723664 fashionncom@getch.com>]"
      ]
     },
     "execution_count": 43,
     "metadata": {},
     "output_type": "execute_result"
    }
   ],
   "source": [
    "Feed.objects.bulk_create(bulk_feeds)"
   ]
  },
  {
   "cell_type": "code",
   "execution_count": 44,
   "metadata": {},
   "outputs": [
    {
     "data": {
      "application/vnd.jupyter.widget-view+json": {
       "model_id": "fa8a7cd4b7fe41daa7b86839b033f9ce",
       "version_major": 2,
       "version_minor": 0
      },
      "text/plain": [
       "HBox(children=(IntProgress(value=0, max=10), HTML(value='')))"
      ]
     },
     "metadata": {},
     "output_type": "display_data"
    }
   ],
   "source": [
    "for i, _feed in enumerate(tqdm(feeds[:10])):\n",
    "    obj = Feed.objects.get(pk=i+1)\n",
    "    obj.hashtags.set(Hashtag.objects.filter(hashtag__in=_feed['hashtags']))"
   ]
  },
  {
   "cell_type": "code",
   "execution_count": null,
   "metadata": {},
   "outputs": [],
   "source": []
  },
  {
   "cell_type": "code",
   "execution_count": 81,
   "metadata": {},
   "outputs": [
    {
     "data": {
      "application/vnd.jupyter.widget-view+json": {
       "model_id": "05eed0bf89ae4b68b5841387b99588d9",
       "version_major": 2,
       "version_minor": 0
      },
      "text/plain": [
       "HBox(children=(IntProgress(value=0, max=46960), HTML(value='')))"
      ]
     },
     "metadata": {},
     "output_type": "display_data"
    }
   ],
   "source": [
    "dbinit_feeds = []\n",
    "\n",
    "for pk, feed in enumerate(tqdm(feeds)):\n",
    "    membership_pk = Brand.objects.get(name=feed['membership']).pk\n",
    "    author_pk = Profile.objects.get(user__email=feed['author']+'@getch.com').pk\n",
    "    hashtag_pks = list(Hashtag.objects.filter(hashtag__in=feed['hashtags']).values_list('pk', flat=True))\n",
    "    \n",
    "    fields = {\n",
    "        'membership': membership_pk, \n",
    "        'author': author_pk, \n",
    "        'timestamp': str(pd.Timestamp(feed['created_at']).tz_localize(None)), \n",
    "        'nlikes': feed['nlikes'], \n",
    "        'content': feed['content'], \n",
    "        'hashtags': hashtag_pks\n",
    "    }\n",
    "    \n",
    "    if 'feed_image' in feed:\n",
    "        fields['feed_image'] = 'feed_images/' + feed['membership'] + '/' + feed['author'] + '/' + feed['feed_image'].split('/')[-1]\n",
    "    \n",
    "    dbinit_feeds.append({\n",
    "        'model': 'app.feed', \n",
    "        'pk': pk+1, \n",
    "        'fields': fields\n",
    "    })    "
   ]
  },
  {
   "cell_type": "code",
   "execution_count": 88,
   "metadata": {},
   "outputs": [],
   "source": [
    "dbinit_feeds;"
   ]
  },
  {
   "cell_type": "code",
   "execution_count": 83,
   "metadata": {},
   "outputs": [],
   "source": [
    "with open('dbinit_feeds.json', 'w') as f:\n",
    "    json.dump(dbinit_feeds, f)"
   ]
  },
  {
   "cell_type": "code",
   "execution_count": null,
   "metadata": {},
   "outputs": [],
   "source": []
  },
  {
   "cell_type": "code",
   "execution_count": null,
   "metadata": {},
   "outputs": [],
   "source": []
  },
  {
   "cell_type": "code",
   "execution_count": 1,
   "metadata": {},
   "outputs": [],
   "source": [
    "from app.models import Feed"
   ]
  },
  {
   "cell_type": "code",
   "execution_count": 27,
   "metadata": {},
   "outputs": [
    {
     "data": {
      "text/plain": [
       "<QuerySet [<Feed: 2019-04-09 10:19:51 yogipower@getch.com>, <Feed: 2019-01-30 06:25:19 _MasterShoe_@getch.com>, <Feed: 2019-05-19 13:58:55 helloanimals@getch.com>, <Feed: 2019-03-19 12:24:30 sellittoyou@getch.com>, <Feed: 2019-04-12 13:51:45 ddungbom_mino@getch.com>, <Feed: 2019-01-02 19:01:14 AidenLee862@getch.com>, <Feed: 2019-02-04 03:42:22 altchang@getch.com>, <Feed: 2019-06-19 09:33:35 midasmarin@getch.com>, <Feed: 2019-05-05 08:40:28 chulhonp@getch.com>, <Feed: 2019-04-12 05:47:52 ddungbom_mino@getch.com>, <Feed: 2019-04-23 09:11:25 URmystar_0330@getch.com>, <Feed: 2019-03-03 19:11:40 Kim_JiSooYG1@getch.com>, <Feed: 2019-04-27 00:15:33 midasmarin@getch.com>, <Feed: 2019-03-25 02:03:43 getitk@getch.com>, <Feed: 2019-04-23 07:27:27 URmystar_0330@getch.com>, <Feed: 2019-03-20 03:29:47 pyobongbong@getch.com>, <Feed: 2019-05-04 07:06:57 midasmarin@getch.com>, <Feed: 2019-04-27 02:26:06 Eternal_1229@getch.com>, <Feed: 2019-04-17 14:09:46 hyun8034@getch.com>, <Feed: 2019-04-12 14:27:28 ddungbom_mino@getch.com>, '...(remaining elements truncated)...']>"
      ]
     },
     "execution_count": 27,
     "metadata": {},
     "output_type": "execute_result"
    }
   ],
   "source": [
    "res = Feed.objects.filter(hashtags__hashtag__in=['nike', 'adidas']); res"
   ]
  },
  {
   "cell_type": "code",
   "execution_count": 28,
   "metadata": {},
   "outputs": [
    {
     "data": {
      "text/plain": [
       "'미노야 널 좋아해💗\\n\\n#WINNER \\n#위너 \\n#송민호\\n#MINO\\n#아디다스\\n#adidas\\n@official_mino_ https://t.co/7hq2HWcUgU'"
      ]
     },
     "execution_count": 28,
     "metadata": {},
     "output_type": "execute_result"
    }
   ],
   "source": [
    "res[100].content"
   ]
  },
  {
   "cell_type": "code",
   "execution_count": 29,
   "metadata": {},
   "outputs": [
    {
     "data": {
      "text/plain": [
       "<QuerySet [<Hashtag: MINO>, <Hashtag: 송민호>, <Hashtag: 위너>, <Hashtag: adidas>, <Hashtag: 아디다스>, <Hashtag: WINNER>]>"
      ]
     },
     "execution_count": 29,
     "metadata": {},
     "output_type": "execute_result"
    }
   ],
   "source": [
    "res[100].hashtags.all()"
   ]
  },
  {
   "cell_type": "code",
   "execution_count": null,
   "metadata": {},
   "outputs": [],
   "source": []
  },
  {
   "cell_type": "code",
   "execution_count": null,
   "metadata": {},
   "outputs": [],
   "source": []
  },
  {
   "cell_type": "code",
   "execution_count": 1,
   "metadata": {},
   "outputs": [],
   "source": [
    "import os"
   ]
  },
  {
   "cell_type": "code",
   "execution_count": 4,
   "metadata": {},
   "outputs": [
    {
     "data": {
      "text/plain": [
       "'C://test\\\\kkk.jpg'"
      ]
     },
     "execution_count": 4,
     "metadata": {},
     "output_type": "execute_result"
    }
   ],
   "source": [
    "os.path.join('C://', 'test', 'kkk.jpg')"
   ]
  },
  {
   "cell_type": "code",
   "execution_count": null,
   "metadata": {},
   "outputs": [],
   "source": []
  }
 ],
 "metadata": {
  "kernelspec": {
   "display_name": "Django Shell-Plus",
   "language": "python",
   "name": "django_extensions"
  },
  "language_info": {
   "codemirror_mode": {
    "name": "ipython",
    "version": 3
   },
   "file_extension": ".py",
   "mimetype": "text/x-python",
   "name": "python",
   "nbconvert_exporter": "python",
   "pygments_lexer": "ipython3",
   "version": "3.7.3"
  }
 },
 "nbformat": 4,
 "nbformat_minor": 2
}
