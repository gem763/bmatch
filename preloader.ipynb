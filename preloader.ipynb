{
 "cells": [
  {
   "cell_type": "code",
   "execution_count": 2,
   "metadata": {},
   "outputs": [],
   "source": [
    "import pandas as pd\n",
    "from IPython.core.debugger import set_trace\n",
    "import json\n",
    "import re\n",
    "import os\n",
    "import time\n",
    "import requests\n",
    "from twython import Twython, TwythonRateLimitError, TwythonError\n",
    "from app.models import Brand, Profile, Hashtag\n",
    "from custom_user.models import EmailUser\n",
    "from tqdm.autonotebook import tqdm\n",
    "tqdm.pandas()"
   ]
  },
  {
   "cell_type": "markdown",
   "metadata": {},
   "source": [
    "# Scraping"
   ]
  },
  {
   "cell_type": "code",
   "execution_count": 79,
   "metadata": {},
   "outputs": [],
   "source": [
    "df = pd.read_excel('../texcrapy/keywords and logos.xlsx', \n",
    "                   sheet_name='20190304')[['shortname','kw_supporter','kw_supported','keywords']][3:];df\n",
    "_or = lambda kw: ' OR '.join(['#' + k.strip() for k in kw.split(',')])\n",
    "\n",
    "qry_base = {row.shortname:_or(row.keywords) for row in df.itertuples()}\n",
    "supporters = df.shortname[df.kw_supporter==True]\n",
    "qry_sup = ' OR '.join([qry_base[sup] for sup in supporters]); qry_sup\n",
    "qry = {row.shortname: '(' + qry_base[row.shortname] + ') AND (' + qry_sup + ')' if row.kw_supported==True else qry_base[row.shortname] for row in df.itertuples()}"
   ]
  },
  {
   "cell_type": "code",
   "execution_count": 58,
   "metadata": {
    "collapsed": true
   },
   "outputs": [
    {
     "ename": "NameError",
     "evalue": "name 'texcrapy' is not defined",
     "output_type": "error",
     "traceback": [
      "\u001b[1;31m---------------------------------------------------------------------------\u001b[0m",
      "\u001b[1;31mNameError\u001b[0m                                 Traceback (most recent call last)",
      "\u001b[1;32m<timed exec>\u001b[0m in \u001b[0;36m<module>\u001b[1;34m\u001b[0m\n",
      "\u001b[1;31mNameError\u001b[0m: name 'texcrapy' is not defined"
     ]
    }
   ],
   "source": [
    "%%time\n",
    "what = ['id']#, 'likes', 'text', 'timestamp', 'user']\n",
    "texcrapy.scrap(qry, what=what, lang='ko', start='2019-01-01', end='2019-06-20', download_to='scrapped/getch')"
   ]
  },
  {
   "cell_type": "code",
   "execution_count": null,
   "metadata": {},
   "outputs": [],
   "source": []
  },
  {
   "cell_type": "markdown",
   "metadata": {},
   "source": [
    "# 스크랩 파일명 가져오기"
   ]
  },
  {
   "cell_type": "code",
   "execution_count": 3,
   "metadata": {},
   "outputs": [],
   "source": [
    "from glob import glob\n",
    "glob_pattern = os.path.join('../texcrapy/scrapped/twitter_getch', '*')\n",
    "fnames = glob(glob_pattern)\n",
    "# fnames = ['scrapped/twitter_getch/' + fname for fname in os.listdir('../texcrapy/scrapped/twitter_getch')]"
   ]
  },
  {
   "cell_type": "code",
   "execution_count": 4,
   "metadata": {},
   "outputs": [
    {
     "data": {
      "application/vnd.jupyter.widget-view+json": {
       "model_id": "3e4d0a353fce417994786126d813bd51",
       "version_major": 2,
       "version_minor": 0
      },
      "text/plain": [
       "HBox(children=(IntProgress(value=0, max=323), HTML(value='')))"
      ]
     },
     "metadata": {},
     "output_type": "display_data"
    },
    {
     "name": "stdout",
     "output_type": "stream",
     "text": [
      "\n"
     ]
    }
   ],
   "source": [
    "tweet_ids = {}\n",
    "for fname in tqdm(fnames[:]):\n",
    "    with open(fname, encoding='UTF-8-sig') as f:\n",
    "        for item, docs in json.load(f).items():\n",
    "            if len(docs) > 0:\n",
    "                tweet_ids[item] = set()\n",
    "                for doc in docs: tweet_ids[item].add(doc['id'])"
   ]
  },
  {
   "cell_type": "code",
   "execution_count": 84,
   "metadata": {},
   "outputs": [],
   "source": [
    "tweet_ids;"
   ]
  },
  {
   "cell_type": "code",
   "execution_count": null,
   "metadata": {},
   "outputs": [],
   "source": []
  },
  {
   "cell_type": "markdown",
   "metadata": {},
   "source": [
    "# 트위터 크롤링 (by ID)"
   ]
  },
  {
   "cell_type": "code",
   "execution_count": 6,
   "metadata": {},
   "outputs": [],
   "source": [
    "def get_hashtags(tweet):\n",
    "    _hashtags = tweet['entities']['hashtags']\n",
    "    \n",
    "    if len(_hashtags) > 0:\n",
    "        return {ht['text'] for ht in _hashtags}\n",
    "    else:\n",
    "        return set()\n",
    "                \n",
    "\n",
    "def get_user(tweet):\n",
    "    _user = tweet['user']\n",
    "    \n",
    "    user = {}\n",
    "    user['user'] = _user['screen_name']\n",
    "\n",
    "    if 'profile_image_url' in _user:\n",
    "        user['profile_image'] = _user['profile_image_url']\n",
    "            \n",
    "    return {_user['id']:user}\n",
    "        \n",
    "    \n",
    "def get_feed_image(tweet):\n",
    "    entities = tweet['entities']\n",
    "    \n",
    "    if 'media' in entities:\n",
    "        media = entities['media']\n",
    "        \n",
    "        if len(media) > 0:\n",
    "            _media = media[0]\n",
    "            \n",
    "            if 'media_url' in _media:\n",
    "                return _media['media_url']\n",
    "            \n",
    "    return None\n",
    "    \n",
    "\n",
    "def get_feed(tweet, bname, hashtags):\n",
    "    feed = {\n",
    "        'membership': bname, \n",
    "        'author': tweet['user']['screen_name'], \n",
    "        'created_at': tweet['created_at'], \n",
    "        'nlikes': tweet['favorite_count'], \n",
    "        'content': tweet['text'],\n",
    "        'hashtags': list(hashtags),\n",
    "    }\n",
    "    \n",
    "    feed_image = get_feed_image(tweet)\n",
    "    \n",
    "    if feed_image is not None:\n",
    "        feed['feed_image'] = feed_image\n",
    "        \n",
    "    return feed"
   ]
  },
  {
   "cell_type": "code",
   "execution_count": 16,
   "metadata": {
    "collapsed": true
   },
   "outputs": [
    {
     "data": {
      "application/vnd.jupyter.widget-view+json": {
       "model_id": "f1617a35bf6043cb879da4365496c40b",
       "version_major": 2,
       "version_minor": 0
      },
      "text/plain": [
       "HBox(children=(IntProgress(value=0, max=268), HTML(value='')))"
      ]
     },
     "metadata": {},
     "output_type": "display_data"
    },
    {
     "data": {
      "application/vnd.jupyter.widget-view+json": {
       "model_id": "",
       "version_major": 2,
       "version_minor": 0
      },
      "text/plain": [
       "HBox(children=(IntProgress(value=0, max=1), HTML(value='')))"
      ]
     },
     "metadata": {},
     "output_type": "display_data"
    },
    {
     "data": {
      "application/vnd.jupyter.widget-view+json": {
       "model_id": "",
       "version_major": 2,
       "version_minor": 0
      },
      "text/plain": [
       "HBox(children=(IntProgress(value=0, max=19), HTML(value='')))"
      ]
     },
     "metadata": {},
     "output_type": "display_data"
    },
    {
     "name": "stdout",
     "output_type": "stream",
     "text": [
      "8seconds 1138403305065893888 Twitter API returned a 404 (Not Found), Sorry, that page does not exist.\n"
     ]
    },
    {
     "data": {
      "application/vnd.jupyter.widget-view+json": {
       "model_id": "",
       "version_major": 2,
       "version_minor": 0
      },
      "text/plain": [
       "HBox(children=(IntProgress(value=0, max=4), HTML(value='')))"
      ]
     },
     "metadata": {},
     "output_type": "display_data"
    },
    {
     "data": {
      "application/vnd.jupyter.widget-view+json": {
       "model_id": "",
       "version_major": 2,
       "version_minor": 0
      },
      "text/plain": [
       "HBox(children=(IntProgress(value=0, max=2), HTML(value='')))"
      ]
     },
     "metadata": {},
     "output_type": "display_data"
    },
    {
     "data": {
      "application/vnd.jupyter.widget-view+json": {
       "model_id": "",
       "version_major": 2,
       "version_minor": 0
      },
      "text/plain": [
       "HBox(children=(IntProgress(value=0, max=19), HTML(value='')))"
      ]
     },
     "metadata": {},
     "output_type": "display_data"
    },
    {
     "data": {
      "application/vnd.jupyter.widget-view+json": {
       "model_id": "",
       "version_major": 2,
       "version_minor": 0
      },
      "text/plain": [
       "HBox(children=(IntProgress(value=0, max=8), HTML(value='')))"
      ]
     },
     "metadata": {},
     "output_type": "display_data"
    },
    {
     "data": {
      "application/vnd.jupyter.widget-view+json": {
       "model_id": "",
       "version_major": 2,
       "version_minor": 0
      },
      "text/plain": [
       "HBox(children=(IntProgress(value=0, max=4), HTML(value='')))"
      ]
     },
     "metadata": {},
     "output_type": "display_data"
    },
    {
     "data": {
      "application/vnd.jupyter.widget-view+json": {
       "model_id": "",
       "version_major": 2,
       "version_minor": 0
      },
      "text/plain": [
       "HBox(children=(IntProgress(value=0, max=8), HTML(value='')))"
      ]
     },
     "metadata": {},
     "output_type": "display_data"
    },
    {
     "data": {
      "application/vnd.jupyter.widget-view+json": {
       "model_id": "",
       "version_major": 2,
       "version_minor": 0
      },
      "text/plain": [
       "HBox(children=(IntProgress(value=0, max=1071), HTML(value='')))"
      ]
     },
     "metadata": {},
     "output_type": "display_data"
    },
    {
     "name": "stdout",
     "output_type": "stream",
     "text": [
      "adidas 1112177329516748800 Twitter API returned a 403 (Forbidden), Sorry, you are not authorized to see this status.\n",
      "adidas 1120901613751660544 Twitter API returned a 403 (Forbidden), User has been suspended.\n",
      "adidas 1132602291133882368 Twitter API returned a 404 (Not Found), No status found with that ID.\n",
      "adidas 1101442105350606848 Twitter API returned a 404 (Not Found), No status found with that ID.\n",
      "adidas 1129337167245824000 Twitter API returned a 403 (Forbidden), User has been suspended.\n",
      "adidas 1098856237049864192 Twitter API returned a 404 (Not Found), No status found with that ID.\n",
      "adidas 1109288860809416705 Twitter API returned a 403 (Forbidden), Sorry, you are not authorized to see this status.\n",
      "adidas 1097802347810443264 Twitter API returned a 404 (Not Found), No status found with that ID.\n",
      "adidas 1110026329968336896 Twitter API returned a 403 (Forbidden), Sorry, you are not authorized to see this status.\n",
      "adidas 1098854458262339585 Twitter API returned a 404 (Not Found), No status found with that ID.\n",
      "adidas 1108647200861519873 Twitter API returned a 404 (Not Found), No status found with that ID.\n",
      "adidas 1098727636702965760 Twitter API returned a 404 (Not Found), No status found with that ID.\n",
      "adidas 1109107487448412160 Twitter API returned a 403 (Forbidden), User has been suspended.\n",
      "adidas 1132560249456480257 Twitter API returned a 404 (Not Found), No status found with that ID.\n",
      "adidas 1108201695295746048 Twitter API returned a 403 (Forbidden), Sorry, you are not authorized to see this status.\n",
      "adidas 1117276183056355330 Twitter API returned a 404 (Not Found), Sorry, that page does not exist.\n",
      "adidas 1109294008784826368 Twitter API returned a 403 (Forbidden), Sorry, you are not authorized to see this status.\n",
      "adidas 1109294010529693696 Twitter API returned a 403 (Forbidden), Sorry, you are not authorized to see this status.\n",
      "adidas 1109452340359159809 Twitter API returned a 429 (Too Many Requests), Rate limit exceeded\n",
      "adidas 1109452340359159809 Twitter API returned a 429 (Too Many Requests), Rate limit exceeded\n",
      "adidas 1109452340359159809 Twitter API returned a 429 (Too Many Requests), Rate limit exceeded\n",
      "adidas 1109452340359159809 Twitter API returned a 429 (Too Many Requests), Rate limit exceeded\n",
      "adidas 1109237428626313216 Twitter API returned a 403 (Forbidden), Sorry, you are not authorized to see this status.\n",
      "adidas 1115630462423064576 Twitter API returned a 404 (Not Found), No status found with that ID.\n",
      "adidas 1109288858422788096 Twitter API returned a 403 (Forbidden), Sorry, you are not authorized to see this status.\n",
      "adidas 1098738605810315264 Twitter API returned a 404 (Not Found), No status found with that ID.\n",
      "adidas 1127166476413050881 Twitter API returned a 404 (Not Found), No status found with that ID.\n",
      "adidas 1129337153723330560 Twitter API returned a 403 (Forbidden), User has been suspended.\n"
     ]
    },
    {
     "data": {
      "application/vnd.jupyter.widget-view+json": {
       "model_id": "",
       "version_major": 2,
       "version_minor": 0
      },
      "text/plain": [
       "HBox(children=(IntProgress(value=0, max=200), HTML(value='')))"
      ]
     },
     "metadata": {},
     "output_type": "display_data"
    },
    {
     "name": "stdout",
     "output_type": "stream",
     "text": [
      "adidasoriginal 1084131496913453056 Twitter API returned a 403 (Forbidden), Sorry, you are not authorized to see this status.\n",
      "adidasoriginal 1083962574394347522 Twitter API returned a 403 (Forbidden), Sorry, you are not authorized to see this status.\n",
      "adidasoriginal 1105483424230445058 Twitter API returned a 403 (Forbidden), Sorry, you are not authorized to see this status.\n",
      "adidasoriginal 1084325238572236800 Twitter API returned a 403 (Forbidden), Sorry, you are not authorized to see this status.\n",
      "adidasoriginal 1084449014928625667 Twitter API returned a 403 (Forbidden), Sorry, you are not authorized to see this status.\n",
      "adidasoriginal 1084420689753501696 Twitter API returned a 403 (Forbidden), Sorry, you are not authorized to see this status.\n",
      "adidasoriginal 1084319999035092992 Twitter API returned a 403 (Forbidden), Sorry, you are not authorized to see this status.\n",
      "adidasoriginal 1083986050073223170 Twitter API returned a 403 (Forbidden), Sorry, you are not authorized to see this status.\n",
      "adidasoriginal 1083959832867155969 Twitter API returned a 403 (Forbidden), Sorry, you are not authorized to see this status.\n",
      "adidasoriginal 1084340810387259392 Twitter API returned a 403 (Forbidden), Sorry, you are not authorized to see this status.\n"
     ]
    },
    {
     "data": {
      "application/vnd.jupyter.widget-view+json": {
       "model_id": "",
       "version_major": 2,
       "version_minor": 0
      },
      "text/plain": [
       "HBox(children=(IntProgress(value=0, max=15), HTML(value='')))"
      ]
     },
     "metadata": {},
     "output_type": "display_data"
    },
    {
     "data": {
      "application/vnd.jupyter.widget-view+json": {
       "model_id": "",
       "version_major": 2,
       "version_minor": 0
      },
      "text/plain": [
       "HBox(children=(IntProgress(value=0, max=1), HTML(value='')))"
      ]
     },
     "metadata": {},
     "output_type": "display_data"
    },
    {
     "data": {
      "application/vnd.jupyter.widget-view+json": {
       "model_id": "",
       "version_major": 2,
       "version_minor": 0
      },
      "text/plain": [
       "HBox(children=(IntProgress(value=0, max=4), HTML(value='')))"
      ]
     },
     "metadata": {},
     "output_type": "display_data"
    },
    {
     "data": {
      "application/vnd.jupyter.widget-view+json": {
       "model_id": "",
       "version_major": 2,
       "version_minor": 0
      },
      "text/plain": [
       "HBox(children=(IntProgress(value=0, max=51), HTML(value='')))"
      ]
     },
     "metadata": {},
     "output_type": "display_data"
    },
    {
     "name": "stdout",
     "output_type": "stream",
     "text": [
      "alexandermcqueen 1137389845762805760 Twitter API returned a 403 (Forbidden), Sorry, you are not authorized to see this status.\n"
     ]
    },
    {
     "data": {
      "application/vnd.jupyter.widget-view+json": {
       "model_id": "",
       "version_major": 2,
       "version_minor": 0
      },
      "text/plain": [
       "HBox(children=(IntProgress(value=0, max=11), HTML(value='')))"
      ]
     },
     "metadata": {},
     "output_type": "display_data"
    },
    {
     "data": {
      "application/vnd.jupyter.widget-view+json": {
       "model_id": "",
       "version_major": 2,
       "version_minor": 0
      },
      "text/plain": [
       "HBox(children=(IntProgress(value=0, max=16), HTML(value='')))"
      ]
     },
     "metadata": {},
     "output_type": "display_data"
    },
    {
     "data": {
      "application/vnd.jupyter.widget-view+json": {
       "model_id": "",
       "version_major": 2,
       "version_minor": 0
      },
      "text/plain": [
       "HBox(children=(IntProgress(value=0, max=5), HTML(value='')))"
      ]
     },
     "metadata": {},
     "output_type": "display_data"
    },
    {
     "data": {
      "application/vnd.jupyter.widget-view+json": {
       "model_id": "",
       "version_major": 2,
       "version_minor": 0
      },
      "text/plain": [
       "HBox(children=(IntProgress(value=0, max=1), HTML(value='')))"
      ]
     },
     "metadata": {},
     "output_type": "display_data"
    },
    {
     "data": {
      "application/vnd.jupyter.widget-view+json": {
       "model_id": "",
       "version_major": 2,
       "version_minor": 0
      },
      "text/plain": [
       "HBox(children=(IntProgress(value=0, max=7730), HTML(value='')))"
      ]
     },
     "metadata": {},
     "output_type": "display_data"
    },
    {
     "name": "stdout",
     "output_type": "stream",
     "text": [
      "ami 1130714594924683265 Twitter API returned a 404 (Not Found), No status found with that ID.\n",
      "ami 1138333544596398081 Twitter API returned a 404 (Not Found), No status found with that ID.\n",
      "ami 1125398780004536325 Twitter API returned a 404 (Not Found), No status found with that ID.\n",
      "ami 1130504197739204608 Twitter API returned a 404 (Not Found), No status found with that ID.\n",
      "ami 1084025463490568193 Twitter API returned a 403 (Forbidden), Sorry, you are not authorized to see this status.\n",
      "ami 1102171799599513600 Twitter API returned a 404 (Not Found), No status found with that ID.\n",
      "ami 1132608977416495104 Twitter API returned a 404 (Not Found), Sorry, that page does not exist.\n",
      "ami 1131537900376547328 Twitter API returned a 404 (Not Found), Sorry, that page does not exist.\n",
      "ami 1141348174763663360 Twitter API returned a 404 (Not Found), Sorry, that page does not exist.\n",
      "ami 1141334290526945287 Twitter API returned a 404 (Not Found), No status found with that ID.\n",
      "ami 1139523505492414464 Twitter API returned a 404 (Not Found), No status found with that ID.\n",
      "ami 1081388307567669249 Twitter API returned a 429 (Too Many Requests), Rate limit exceeded\n",
      "ami 1081388307567669249 Twitter API returned a 429 (Too Many Requests), Rate limit exceeded\n",
      "ami 1081388307567669249 Twitter API returned a 429 (Too Many Requests), Rate limit exceeded\n",
      "ami 1081388307567669249 Twitter API returned a 429 (Too Many Requests), Rate limit exceeded\n",
      "ami 1100023762534027265 Twitter API returned a 404 (Not Found), Sorry, that page does not exist.\n",
      "ami 1092332804581380096 Twitter API returned a 403 (Forbidden), User has been suspended.\n",
      "ami 1137209058593726464 Twitter API returned a 404 (Not Found), Sorry, that page does not exist.\n",
      "ami 1113341478762188800 Twitter API returned a 403 (Forbidden), Sorry, you are not authorized to see this status.\n",
      "ami 1122037964219899904 Twitter API returned a 404 (Not Found), Sorry, that page does not exist.\n",
      "ami 1083561398016172034 Twitter API returned a 403 (Forbidden), Sorry, you are not authorized to see this status.\n",
      "ami 1140944065757736960 Twitter API returned a 404 (Not Found), Sorry, that page does not exist.\n",
      "ami 1134798987871973376 Twitter API returned a 404 (Not Found), Sorry, that page does not exist.\n",
      "ami 1118937553917362176 Twitter API returned a 403 (Forbidden), Sorry, you are not authorized to see this status.\n",
      "ami 1084443370720612354 Twitter API returned a 403 (Forbidden), Sorry, you are not authorized to see this status.\n",
      "ami 1136037894647402497 Twitter API returned a 404 (Not Found), No status found with that ID.\n",
      "ami 1140252726074286080 Twitter API returned a 404 (Not Found), No status found with that ID.\n",
      "ami 1096461578193362944 Twitter API returned a 404 (Not Found), Sorry, that page does not exist.\n",
      "ami 1134215206291161089 Twitter API returned a 404 (Not Found), No status found with that ID.\n",
      "ami 1121608996232712192 Twitter API returned a 404 (Not Found), No status found with that ID.\n",
      "ami 1097511780698357760 Twitter API returned a 403 (Forbidden), Sorry, you are not authorized to see this status.\n",
      "ami 1136202241709301760 Twitter API returned a 404 (Not Found), No status found with that ID.\n",
      "ami 1134793951162949637 Twitter API returned a 404 (Not Found), No status found with that ID.\n",
      "ami 1138807760760348673 Twitter API returned a 404 (Not Found), No status found with that ID.\n",
      "ami 1136566549903433728 Twitter API returned a 404 (Not Found), No status found with that ID.\n",
      "ami 1136175166868692992 Twitter API returned a 404 (Not Found), No status found with that ID.\n",
      "ami 1134060030439743490 Twitter API returned a 404 (Not Found), No status found with that ID.\n",
      "ami 1141120740961296384 Twitter API returned a 404 (Not Found), No status found with that ID.\n",
      "ami 1139346685820317696 Twitter API returned a 429 (Too Many Requests), Rate limit exceeded\n",
      "ami 1139346685820317696 Twitter API returned a 429 (Too Many Requests), Rate limit exceeded\n",
      "ami 1139346685820317696 Twitter API returned a 429 (Too Many Requests), Rate limit exceeded\n",
      "ami 1139346685820317696 Twitter API returned a 429 (Too Many Requests), Rate limit exceeded\n",
      "ami 1139846836825382913 Twitter API returned a 404 (Not Found), Sorry, that page does not exist.\n",
      "ami 1127919144299450369 Twitter API returned a 404 (Not Found), No status found with that ID.\n",
      "ami 1140668325099266057 Twitter API returned a 404 (Not Found), No status found with that ID.\n",
      "ami 1107290500988440577 Twitter API returned a 404 (Not Found), No status found with that ID.\n",
      "ami 1137013711305039874 Twitter API returned a 404 (Not Found), No status found with that ID.\n",
      "ami 1135093399625691136 Twitter API returned a 404 (Not Found), No status found with that ID.\n",
      "ami 1140599778184589312 Twitter API returned a 404 (Not Found), Sorry, that page does not exist.\n",
      "ami 1131537095334408192 Twitter API returned a 404 (Not Found), Sorry, that page does not exist.\n",
      "ami 1081962089424379904 Twitter API returned a 403 (Forbidden), Sorry, you are not authorized to see this status.\n",
      "ami 1131548365290762240 Twitter API returned a 403 (Forbidden), Sorry, you are not authorized to see this status.\n",
      "ami 1109273577428344832 Twitter API returned a 403 (Forbidden), Sorry, you are not authorized to see this status.\n",
      "ami 1096459858193203200 Twitter API returned a 404 (Not Found), Sorry, that page does not exist.\n",
      "ami 1140944022355099648 Twitter API returned a 404 (Not Found), Sorry, that page does not exist.\n",
      "ami 1131990376384847872 Twitter API returned a 429 (Too Many Requests), Rate limit exceeded\n",
      "ami 1131990376384847872 Twitter API returned a 429 (Too Many Requests), Rate limit exceeded\n",
      "ami 1131990376384847872 Twitter API returned a 429 (Too Many Requests), Rate limit exceeded\n",
      "ami 1131990376384847872 Twitter API returned a 429 (Too Many Requests), Rate limit exceeded\n",
      "ami 1112383587502833664 Twitter API returned a 404 (Not Found), Sorry, that page does not exist.\n",
      "ami 1134105436641042434 Twitter API returned a 404 (Not Found), No status found with that ID.\n",
      "ami 1088081971882876931 Twitter API returned a 404 (Not Found), Sorry, that page does not exist.\n",
      "ami 1134015295515795456 Twitter API returned a 404 (Not Found), No status found with that ID.\n",
      "ami 1112889736354385920 Twitter API returned a 404 (Not Found), No status found with that ID.\n",
      "ami 1134033540771790848 Twitter API returned a 404 (Not Found), No status found with that ID.\n",
      "ami 1134748474056925184 Twitter API returned a 404 (Not Found), No status found with that ID.\n",
      "ami 1092710539707314177 Twitter API returned a 404 (Not Found), No status found with that ID.\n",
      "ami 1131460691506786304 Twitter API returned a 403 (Forbidden), Sorry, you are not authorized to see this status.\n",
      "ami 1118740950321438721 Twitter API returned a 403 (Forbidden), Sorry, you are not authorized to see this status.\n",
      "ami 1117801621923098624 Twitter API returned a 403 (Forbidden), Sorry, you are not authorized to see this status.\n",
      "ami 1101044299519557632 Twitter API returned a 404 (Not Found), No status found with that ID.\n",
      "ami 1099057653177708545 Twitter API returned a 404 (Not Found), Sorry, that page does not exist.\n",
      "ami 1080586238015373312 Twitter API returned a 429 (Too Many Requests), Rate limit exceeded\n",
      "ami 1080586238015373312 Twitter API returned a 429 (Too Many Requests), Rate limit exceeded\n",
      "ami 1080586238015373312 Twitter API returned a 429 (Too Many Requests), Rate limit exceeded\n",
      "ami 1080586238015373312 Twitter API returned a 429 (Too Many Requests), Rate limit exceeded\n",
      "ami 1080586238015373312 Twitter API returned a 429 (Too Many Requests), Rate limit exceeded\n",
      "ami 1138092314155339776 Twitter API returned a 404 (Not Found), No status found with that ID.\n",
      "ami 1141484591980535808 Twitter API returned a 404 (Not Found), No status found with that ID.\n",
      "ami 1082618596356808706 Twitter API returned a 404 (Not Found), No status found with that ID.\n",
      "ami 1094671125156483072 Twitter API returned a 404 (Not Found), No status found with that ID.\n",
      "ami 1134095087313477632 Twitter API returned a 404 (Not Found), No status found with that ID.\n",
      "ami 1126475335581650946 Twitter API returned a 403 (Forbidden), Sorry, you are not authorized to see this status.\n",
      "ami 1138401790066475008 Twitter API returned a 404 (Not Found), Sorry, that page does not exist.\n",
      "ami 1134014447398187009 Twitter API returned a 404 (Not Found), No status found with that ID.\n",
      "ami 1128082731148013579 Twitter API returned a 404 (Not Found), No status found with that ID.\n",
      "ami 1134016568612933633 Twitter API returned a 404 (Not Found), No status found with that ID.\n",
      "ami 1082963033767309312 Twitter API returned a 403 (Forbidden), Sorry, you are not authorized to see this status.\n",
      "ami 1109482015022153728 Twitter API returned a 404 (Not Found), No status found with that ID.\n",
      "ami 1140563447911813121 Twitter API returned a 404 (Not Found), Sorry, that page does not exist.\n",
      "ami 1124986909187461120 Twitter API returned a 403 (Forbidden), Sorry, you are not authorized to see this status.\n",
      "ami 1135306118769418240 Twitter API returned a 404 (Not Found), No status found with that ID.\n",
      "ami 1140973735203098626 Twitter API returned a 404 (Not Found), No status found with that ID.\n",
      "ami 1098379286505902080 Twitter API returned a 404 (Not Found), Sorry, that page does not exist.\n",
      "ami 1140998199840104448 Twitter API returned a 404 (Not Found), Sorry, that page does not exist.\n",
      "ami 1102034870149120000 Twitter API returned a 429 (Too Many Requests), Rate limit exceeded\n",
      "ami 1102034870149120000 Twitter API returned a 429 (Too Many Requests), Rate limit exceeded\n",
      "ami 1102034870149120000 Twitter API returned a 429 (Too Many Requests), Rate limit exceeded\n",
      "ami 1102034870149120000 Twitter API returned a 429 (Too Many Requests), Rate limit exceeded\n",
      "ami 1118816297964441600 Twitter API returned a 403 (Forbidden), Sorry, you are not authorized to see this status.\n",
      "ami 1098211104327557120 Twitter API returned a 404 (Not Found), Sorry, that page does not exist.\n",
      "ami 1091532612223430658 Twitter API returned a 403 (Forbidden), Sorry, you are not authorized to see this status.\n",
      "ami 1127550960283185152 Twitter API returned a 404 (Not Found), No status found with that ID.\n",
      "ami 1140286296067198976 Twitter API returned a 404 (Not Found), No status found with that ID.\n",
      "ami 1079946858309406720 Twitter API returned a 403 (Forbidden), User has been suspended.\n",
      "ami 1118027172533288960 Twitter API returned a 404 (Not Found), No status found with that ID.\n",
      "ami 1132902371426627584 Twitter API returned a 404 (Not Found), No status found with that ID.\n",
      "ami 1080011394936958976 Twitter API returned a 403 (Forbidden), Sorry, you are not authorized to see this status.\n",
      "ami 1082167362005000192 Twitter API returned a 404 (Not Found), No status found with that ID.\n",
      "ami 1126734853179764736 Twitter API returned a 404 (Not Found), No status found with that ID.\n",
      "ami 1104426627105120258 Twitter API returned a 404 (Not Found), No status found with that ID.\n",
      "ami 1131319697608101888 Twitter API returned a 404 (Not Found), No status found with that ID.\n",
      "ami 1136056081451372544 Twitter API returned a 404 (Not Found), No status found with that ID.\n",
      "ami 1138070534451630080 Twitter API returned a 404 (Not Found), Sorry, that page does not exist.\n",
      "ami 1086798544634171392 Twitter API returned a 429 (Too Many Requests), Rate limit exceeded\n",
      "ami 1086798544634171392 Twitter API returned a 429 (Too Many Requests), Rate limit exceeded\n",
      "ami 1086798544634171392 Twitter API returned a 429 (Too Many Requests), Rate limit exceeded\n",
      "ami 1086798544634171392 Twitter API returned a 429 (Too Many Requests), Rate limit exceeded\n",
      "ami 1086798544634171392 Twitter API returned a 429 (Too Many Requests), Rate limit exceeded\n",
      "ami 1118016210216660993 Twitter API returned a 403 (Forbidden), Sorry, you are not authorized to see this status.\n",
      "ami 1095577039212400641 Twitter API returned a 404 (Not Found), Sorry, that page does not exist.\n",
      "ami 1108035454568402945 Twitter API returned a 403 (Forbidden), Sorry, you are not authorized to see this status.\n",
      "ami 1138376034250706944 Twitter API returned a 404 (Not Found), Sorry, that page does not exist.\n",
      "ami 1134015865949528064 Twitter API returned a 404 (Not Found), No status found with that ID.\n",
      "ami 1141152975890440192 Twitter API returned a 404 (Not Found), No status found with that ID.\n",
      "ami 1134854084043821056 Twitter API returned a 404 (Not Found), No status found with that ID.\n",
      "ami 1121347989216403457 Twitter API returned a 404 (Not Found), No status found with that ID.\n",
      "ami 1132282911762206720 Twitter API returned a 404 (Not Found), No status found with that ID.\n",
      "ami 1119254429541310465 Twitter API returned a 403 (Forbidden), User has been suspended.\n",
      "ami 1118756176919842816 Twitter API returned a 403 (Forbidden), Sorry, you are not authorized to see this status.\n",
      "ami 1141420395255386112 Twitter API returned a 403 (Forbidden), Sorry, you are not authorized to see this status.\n",
      "ami 1104348396167475202 Twitter API returned a 404 (Not Found), Sorry, that page does not exist.\n",
      "ami 1107594089770311693 Twitter API returned a 404 (Not Found), No status found with that ID.\n",
      "ami 1126139743828189184 Twitter API returned a 404 (Not Found), No status found with that ID.\n",
      "ami 1109046175452127232 Twitter API returned a 404 (Not Found), Sorry, that page does not exist.\n",
      "ami 1136312953995636736 Twitter API returned a 404 (Not Found), No status found with that ID.\n",
      "ami 1099652610808631296 Twitter API returned a 404 (Not Found), No status found with that ID.\n",
      "ami 1136288509906436096 Twitter API returned a 403 (Forbidden), Sorry, you are not authorized to see this status.\n",
      "ami 1121347906534019075 Twitter API returned a 403 (Forbidden), Sorry, you are not authorized to see this status.\n",
      "ami 1109454844149067776 Twitter API returned a 403 (Forbidden), Sorry, you are not authorized to see this status.\n",
      "ami 1096461122591281152 Twitter API returned a 404 (Not Found), Sorry, that page does not exist.\n",
      "ami 1125651649324666880 Twitter API returned a 429 (Too Many Requests), Rate limit exceeded\n",
      "ami 1125651649324666880 Twitter API returned a 429 (Too Many Requests), Rate limit exceeded\n",
      "ami 1125651649324666880 Twitter API returned a 429 (Too Many Requests), Rate limit exceeded\n",
      "ami 1125651649324666880 Twitter API returned a 429 (Too Many Requests), Rate limit exceeded\n",
      "ami 1125651649324666880 Twitter API returned a 429 (Too Many Requests), Rate limit exceeded\n",
      "ami 1128936865908662272 Twitter API returned a 404 (Not Found), Sorry, that page does not exist.\n",
      "ami 1140260188265435137 Twitter API returned a 404 (Not Found), Sorry, that page does not exist.\n",
      "ami 1141211536700002306 Twitter API returned a 404 (Not Found), Sorry, that page does not exist.\n",
      "ami 1135836837824491520 Twitter API returned a 404 (Not Found), No status found with that ID.\n",
      "ami 1140093102482284544 Twitter API returned a 404 (Not Found), Sorry, that page does not exist.\n",
      "ami 1139944224219000834 Twitter API returned a 404 (Not Found), No status found with that ID.\n",
      "ami 1139507443191259136 Twitter API returned a 404 (Not Found), No status found with that ID.\n",
      "ami 1088100317986603008 Twitter API returned a 404 (Not Found), No status found with that ID.\n",
      "ami 1119201985243127808 Twitter API returned a 403 (Forbidden), Sorry, you are not authorized to see this status.\n",
      "ami 1104723002866905094 Twitter API returned a 429 (Too Many Requests), Rate limit exceeded\n",
      "ami 1104723002866905094 Twitter API returned a 429 (Too Many Requests), Rate limit exceeded\n",
      "ami 1134500633170534400 Twitter API returned a 404 (Not Found), No status found with that ID.\n",
      "ami 1135175155934588928 Twitter API returned a 404 (Not Found), No status found with that ID.\n",
      "ami 1140974485694107648 Twitter API returned a 404 (Not Found), No status found with that ID.\n",
      "ami 1119533577522147328 Twitter API returned a 403 (Forbidden), Sorry, you are not authorized to see this status.\n",
      "ami 1112282411176353792 Twitter API returned a 404 (Not Found), No status found with that ID.\n",
      "ami 1110131769859170304 Twitter API returned a 404 (Not Found), Sorry, that page does not exist.\n",
      "ami 1085190937804853251 Twitter API returned a 404 (Not Found), No status found with that ID.\n",
      "ami 1141343132837003264 Twitter API returned a 404 (Not Found), No status found with that ID.\n",
      "ami 1119254566141296647 Twitter API returned a 403 (Forbidden), Sorry, you are not authorized to see this status.\n",
      "ami 1139780172154953728 Twitter API returned a 404 (Not Found), No status found with that ID.\n"
     ]
    },
    {
     "name": "stdout",
     "output_type": "stream",
     "text": [
      "ami 1137018788098916352 Twitter API returned a 404 (Not Found), No status found with that ID.\n",
      "ami 1112614187677577217 Twitter API returned a 403 (Forbidden), Sorry, you are not authorized to see this status.\n",
      "ami 1108639415537188864 Twitter API returned a 403 (Forbidden), Sorry, you are not authorized to see this status.\n",
      "ami 1118756278317219840 Twitter API returned a 403 (Forbidden), Sorry, you are not authorized to see this status.\n",
      "ami 1132646386149646336 Twitter API returned a 404 (Not Found), Sorry, that page does not exist.\n",
      "ami 1098832082485137408 Twitter API returned a 404 (Not Found), No status found with that ID.\n",
      "ami 1131898779525758976 Twitter API returned a 403 (Forbidden), Sorry, you are not authorized to see this status.\n",
      "ami 1080133405637898241 Twitter API returned a 429 (Too Many Requests), Rate limit exceeded\n",
      "ami 1080133405637898241 Twitter API returned a 429 (Too Many Requests), Rate limit exceeded\n",
      "ami 1080133405637898241 Twitter API returned a 429 (Too Many Requests), Rate limit exceeded\n",
      "ami 1080133405637898241 Twitter API returned a 429 (Too Many Requests), Rate limit exceeded\n",
      "ami 1133310431227891712 Twitter API returned a 403 (Forbidden), Sorry, you are not authorized to see this status.\n"
     ]
    },
    {
     "data": {
      "application/vnd.jupyter.widget-view+json": {
       "model_id": "",
       "version_major": 2,
       "version_minor": 0
      },
      "text/plain": [
       "HBox(children=(IntProgress(value=0, max=4), HTML(value='')))"
      ]
     },
     "metadata": {},
     "output_type": "display_data"
    },
    {
     "data": {
      "application/vnd.jupyter.widget-view+json": {
       "model_id": "",
       "version_major": 2,
       "version_minor": 0
      },
      "text/plain": [
       "HBox(children=(IntProgress(value=0, max=3), HTML(value='')))"
      ]
     },
     "metadata": {},
     "output_type": "display_data"
    },
    {
     "name": "stdout",
     "output_type": "stream",
     "text": [
      "antisocialsocialclub 1098224772515655680 Twitter API returned a 404 (Not Found), No status found with that ID.\n"
     ]
    },
    {
     "data": {
      "application/vnd.jupyter.widget-view+json": {
       "model_id": "",
       "version_major": 2,
       "version_minor": 0
      },
      "text/plain": [
       "HBox(children=(IntProgress(value=0, max=1), HTML(value='')))"
      ]
     },
     "metadata": {},
     "output_type": "display_data"
    },
    {
     "data": {
      "application/vnd.jupyter.widget-view+json": {
       "model_id": "",
       "version_major": 2,
       "version_minor": 0
      },
      "text/plain": [
       "HBox(children=(IntProgress(value=0, max=22), HTML(value='')))"
      ]
     },
     "metadata": {},
     "output_type": "display_data"
    },
    {
     "data": {
      "application/vnd.jupyter.widget-view+json": {
       "model_id": "",
       "version_major": 2,
       "version_minor": 0
      },
      "text/plain": [
       "HBox(children=(IntProgress(value=0, max=95), HTML(value='')))"
      ]
     },
     "metadata": {},
     "output_type": "display_data"
    },
    {
     "name": "stdout",
     "output_type": "stream",
     "text": [
      "asics 1139785331832528896 Twitter API returned a 404 (Not Found), No status found with that ID.\n",
      "asics 1106401535641030656 Twitter API returned a 403 (Forbidden), User has been suspended.\n"
     ]
    },
    {
     "data": {
      "application/vnd.jupyter.widget-view+json": {
       "model_id": "",
       "version_major": 2,
       "version_minor": 0
      },
      "text/plain": [
       "HBox(children=(IntProgress(value=0, max=1036), HTML(value='')))"
      ]
     },
     "metadata": {},
     "output_type": "display_data"
    },
    {
     "name": "stdout",
     "output_type": "stream",
     "text": [
      "balenciaga 1130457702583287808 Twitter API returned a 429 (Too Many Requests), Rate limit exceeded\n",
      "balenciaga 1130457702583287808 Twitter API returned a 429 (Too Many Requests), Rate limit exceeded\n",
      "balenciaga 1130457702583287808 Twitter API returned a 429 (Too Many Requests), Rate limit exceeded\n",
      "balenciaga 1130457702583287808 Twitter API returned a 429 (Too Many Requests), Rate limit exceeded\n"
     ]
    },
    {
     "data": {
      "application/vnd.jupyter.widget-view+json": {
       "model_id": "",
       "version_major": 2,
       "version_minor": 0
      },
      "text/plain": [
       "HBox(children=(IntProgress(value=0, max=192), HTML(value='')))"
      ]
     },
     "metadata": {},
     "output_type": "display_data"
    },
    {
     "data": {
      "application/vnd.jupyter.widget-view+json": {
       "model_id": "",
       "version_major": 2,
       "version_minor": 0
      },
      "text/plain": [
       "HBox(children=(IntProgress(value=0, max=41), HTML(value='')))"
      ]
     },
     "metadata": {},
     "output_type": "display_data"
    },
    {
     "data": {
      "application/vnd.jupyter.widget-view+json": {
       "model_id": "",
       "version_major": 2,
       "version_minor": 0
      },
      "text/plain": [
       "HBox(children=(IntProgress(value=0, max=29), HTML(value='')))"
      ]
     },
     "metadata": {},
     "output_type": "display_data"
    },
    {
     "name": "stdout",
     "output_type": "stream",
     "text": [
      "bape 1094105332354183168 Twitter API returned a 403 (Forbidden), Sorry, you are not authorized to see this status.\n"
     ]
    },
    {
     "data": {
      "application/vnd.jupyter.widget-view+json": {
       "model_id": "",
       "version_major": 2,
       "version_minor": 0
      },
      "text/plain": [
       "HBox(children=(IntProgress(value=0, max=15), HTML(value='')))"
      ]
     },
     "metadata": {},
     "output_type": "display_data"
    },
    {
     "data": {
      "application/vnd.jupyter.widget-view+json": {
       "model_id": "",
       "version_major": 2,
       "version_minor": 0
      },
      "text/plain": [
       "HBox(children=(IntProgress(value=0, max=66), HTML(value='')))"
      ]
     },
     "metadata": {},
     "output_type": "display_data"
    },
    {
     "name": "stdout",
     "output_type": "stream",
     "text": [
      "barrel 1136600073935003648 Twitter API returned a 403 (Forbidden), Sorry, you are not authorized to see this status.\n"
     ]
    },
    {
     "data": {
      "application/vnd.jupyter.widget-view+json": {
       "model_id": "",
       "version_major": 2,
       "version_minor": 0
      },
      "text/plain": [
       "HBox(children=(IntProgress(value=0, max=203), HTML(value='')))"
      ]
     },
     "metadata": {},
     "output_type": "display_data"
    },
    {
     "name": "stdout",
     "output_type": "stream",
     "text": [
      "bbc 1097745277505613825 Twitter API returned a 403 (Forbidden), User has been suspended.\n",
      "bbc 1131506682444435456 Twitter API returned a 429 (Too Many Requests), Rate limit exceeded\n",
      "bbc 1131506682444435456 Twitter API returned a 429 (Too Many Requests), Rate limit exceeded\n",
      "bbc 1131506682444435456 Twitter API returned a 429 (Too Many Requests), Rate limit exceeded\n",
      "bbc 1131506682444435456 Twitter API returned a 429 (Too Many Requests), Rate limit exceeded\n"
     ]
    },
    {
     "data": {
      "application/vnd.jupyter.widget-view+json": {
       "model_id": "",
       "version_major": 2,
       "version_minor": 0
      },
      "text/plain": [
       "HBox(children=(IntProgress(value=0, max=158), HTML(value='')))"
      ]
     },
     "metadata": {},
     "output_type": "display_data"
    },
    {
     "name": "stdout",
     "output_type": "stream",
     "text": [
      "beanpole 1127117630068813825 Twitter API returned a 403 (Forbidden), User has been suspended.\n"
     ]
    },
    {
     "data": {
      "application/vnd.jupyter.widget-view+json": {
       "model_id": "",
       "version_major": 2,
       "version_minor": 0
      },
      "text/plain": [
       "HBox(children=(IntProgress(value=0, max=1), HTML(value='')))"
      ]
     },
     "metadata": {},
     "output_type": "display_data"
    },
    {
     "data": {
      "application/vnd.jupyter.widget-view+json": {
       "model_id": "",
       "version_major": 2,
       "version_minor": 0
      },
      "text/plain": [
       "HBox(children=(IntProgress(value=0, max=1), HTML(value='')))"
      ]
     },
     "metadata": {},
     "output_type": "display_data"
    },
    {
     "data": {
      "application/vnd.jupyter.widget-view+json": {
       "model_id": "",
       "version_major": 2,
       "version_minor": 0
      },
      "text/plain": [
       "HBox(children=(IntProgress(value=0, max=11), HTML(value='')))"
      ]
     },
     "metadata": {},
     "output_type": "display_data"
    },
    {
     "data": {
      "application/vnd.jupyter.widget-view+json": {
       "model_id": "",
       "version_major": 2,
       "version_minor": 0
      },
      "text/plain": [
       "HBox(children=(IntProgress(value=0, max=142), HTML(value='')))"
      ]
     },
     "metadata": {},
     "output_type": "display_data"
    },
    {
     "name": "stdout",
     "output_type": "stream",
     "text": [
      "beyondcloset 1109382848694218754 Twitter API returned a 403 (Forbidden), Sorry, you are not authorized to see this status.\n"
     ]
    },
    {
     "data": {
      "application/vnd.jupyter.widget-view+json": {
       "model_id": "",
       "version_major": 2,
       "version_minor": 0
      },
      "text/plain": [
       "HBox(children=(IntProgress(value=0, max=22), HTML(value='')))"
      ]
     },
     "metadata": {},
     "output_type": "display_data"
    },
    {
     "name": "stdout",
     "output_type": "stream",
     "text": [
      "billylosangeles 1117678987277242369 Twitter API returned a 404 (Not Found), Sorry, that page does not exist.\n"
     ]
    },
    {
     "data": {
      "application/vnd.jupyter.widget-view+json": {
       "model_id": "",
       "version_major": 2,
       "version_minor": 0
      },
      "text/plain": [
       "HBox(children=(IntProgress(value=0, max=18), HTML(value='')))"
      ]
     },
     "metadata": {},
     "output_type": "display_data"
    },
    {
     "data": {
      "application/vnd.jupyter.widget-view+json": {
       "model_id": "",
       "version_major": 2,
       "version_minor": 0
      },
      "text/plain": [
       "HBox(children=(IntProgress(value=0, max=89), HTML(value='')))"
      ]
     },
     "metadata": {},
     "output_type": "display_data"
    },
    {
     "data": {
      "application/vnd.jupyter.widget-view+json": {
       "model_id": "",
       "version_major": 2,
       "version_minor": 0
      },
      "text/plain": [
       "HBox(children=(IntProgress(value=0, max=84), HTML(value='')))"
      ]
     },
     "metadata": {},
     "output_type": "display_data"
    },
    {
     "data": {
      "application/vnd.jupyter.widget-view+json": {
       "model_id": "",
       "version_major": 2,
       "version_minor": 0
      },
      "text/plain": [
       "HBox(children=(IntProgress(value=0, max=18), HTML(value='')))"
      ]
     },
     "metadata": {},
     "output_type": "display_data"
    },
    {
     "data": {
      "application/vnd.jupyter.widget-view+json": {
       "model_id": "",
       "version_major": 2,
       "version_minor": 0
      },
      "text/plain": [
       "HBox(children=(IntProgress(value=0, max=32), HTML(value='')))"
      ]
     },
     "metadata": {},
     "output_type": "display_data"
    },
    {
     "data": {
      "application/vnd.jupyter.widget-view+json": {
       "model_id": "",
       "version_major": 2,
       "version_minor": 0
      },
      "text/plain": [
       "HBox(children=(IntProgress(value=0, max=258), HTML(value='')))"
      ]
     },
     "metadata": {},
     "output_type": "display_data"
    },
    {
     "name": "stdout",
     "output_type": "stream",
     "text": [
      "burberry 1136300601128566784 Twitter API returned a 403 (Forbidden), Sorry, you are not authorized to see this status.\n"
     ]
    },
    {
     "data": {
      "application/vnd.jupyter.widget-view+json": {
       "model_id": "",
       "version_major": 2,
       "version_minor": 0
      },
      "text/plain": [
       "HBox(children=(IntProgress(value=0, max=69), HTML(value='')))"
      ]
     },
     "metadata": {},
     "output_type": "display_data"
    },
    {
     "name": "stdout",
     "output_type": "stream",
     "text": [
      "calvinklein 1117826942416359424 Twitter API returned a 429 (Too Many Requests), Rate limit exceeded\n",
      "calvinklein 1117826942416359424 Twitter API returned a 429 (Too Many Requests), Rate limit exceeded\n",
      "calvinklein 1117826942416359424 Twitter API returned a 429 (Too Many Requests), Rate limit exceeded\n",
      "calvinklein 1117826942416359424 Twitter API returned a 429 (Too Many Requests), Rate limit exceeded\n"
     ]
    },
    {
     "data": {
      "application/vnd.jupyter.widget-view+json": {
       "model_id": "",
       "version_major": 2,
       "version_minor": 0
      },
      "text/plain": [
       "HBox(children=(IntProgress(value=0, max=11), HTML(value='')))"
      ]
     },
     "metadata": {},
     "output_type": "display_data"
    },
    {
     "data": {
      "application/vnd.jupyter.widget-view+json": {
       "model_id": "",
       "version_major": 2,
       "version_minor": 0
      },
      "text/plain": [
       "HBox(children=(IntProgress(value=0, max=23), HTML(value='')))"
      ]
     },
     "metadata": {},
     "output_type": "display_data"
    },
    {
     "name": "stdout",
     "output_type": "stream",
     "text": [
      "carhartt 1122403884729638912 Twitter API returned a 403 (Forbidden), User has been suspended.\n"
     ]
    },
    {
     "data": {
      "application/vnd.jupyter.widget-view+json": {
       "model_id": "",
       "version_major": 2,
       "version_minor": 0
      },
      "text/plain": [
       "HBox(children=(IntProgress(value=0, max=1), HTML(value='')))"
      ]
     },
     "metadata": {},
     "output_type": "display_data"
    },
    {
     "data": {
      "application/vnd.jupyter.widget-view+json": {
       "model_id": "",
       "version_major": 2,
       "version_minor": 0
      },
      "text/plain": [
       "HBox(children=(IntProgress(value=0, max=36), HTML(value='')))"
      ]
     },
     "metadata": {},
     "output_type": "display_data"
    },
    {
     "data": {
      "application/vnd.jupyter.widget-view+json": {
       "model_id": "",
       "version_major": 2,
       "version_minor": 0
      },
      "text/plain": [
       "HBox(children=(IntProgress(value=0, max=128), HTML(value='')))"
      ]
     },
     "metadata": {},
     "output_type": "display_data"
    },
    {
     "data": {
      "application/vnd.jupyter.widget-view+json": {
       "model_id": "",
       "version_major": 2,
       "version_minor": 0
      },
      "text/plain": [
       "HBox(children=(IntProgress(value=0, max=697), HTML(value='')))"
      ]
     },
     "metadata": {},
     "output_type": "display_data"
    },
    {
     "name": "stdout",
     "output_type": "stream",
     "text": [
      "chanel 1136573986500939777 Twitter API returned a 403 (Forbidden), Sorry, you are not authorized to see this status.\n",
      "chanel 1107477099420549122 Twitter API returned a 403 (Forbidden), Sorry, you are not authorized to see this status.\n",
      "chanel 1133300513108217857 Twitter API returned a 404 (Not Found), No status found with that ID.\n",
      "chanel 1082558843664486401 Twitter API returned a 429 (Too Many Requests), Rate limit exceeded\n",
      "chanel 1082558843664486401 Twitter API returned a 429 (Too Many Requests), Rate limit exceeded\n",
      "chanel 1082558843664486401 Twitter API returned a 429 (Too Many Requests), Rate limit exceeded\n",
      "chanel 1124637250577285120 Twitter API returned a 404 (Not Found), No status found with that ID.\n",
      "chanel 1116235200365760513 Twitter API returned a 403 (Forbidden), Sorry, you are not authorized to see this status.\n"
     ]
    },
    {
     "data": {
      "application/vnd.jupyter.widget-view+json": {
       "model_id": "",
       "version_major": 2,
       "version_minor": 0
      },
      "text/plain": [
       "HBox(children=(IntProgress(value=0, max=2), HTML(value='')))"
      ]
     },
     "metadata": {},
     "output_type": "display_data"
    },
    {
     "data": {
      "application/vnd.jupyter.widget-view+json": {
       "model_id": "",
       "version_major": 2,
       "version_minor": 0
      },
      "text/plain": [
       "HBox(children=(IntProgress(value=0, max=200), HTML(value='')))"
      ]
     },
     "metadata": {},
     "output_type": "display_data"
    },
    {
     "name": "stdout",
     "output_type": "stream",
     "text": [
      "charms 1115455224351563776 Twitter API returned a 403 (Forbidden), User has been suspended.\n"
     ]
    },
    {
     "data": {
      "application/vnd.jupyter.widget-view+json": {
       "model_id": "",
       "version_major": 2,
       "version_minor": 0
      },
      "text/plain": [
       "HBox(children=(IntProgress(value=0, max=1768), HTML(value='')))"
      ]
     },
     "metadata": {},
     "output_type": "display_data"
    },
    {
     "name": "stdout",
     "output_type": "stream",
     "text": [
      "cherryla 1139986332489592833 Twitter API returned a 429 (Too Many Requests), Rate limit exceeded\n",
      "cherryla 1139986332489592833 Twitter API returned a 429 (Too Many Requests), Rate limit exceeded\n",
      "cherryla 1139986332489592833 Twitter API returned a 429 (Too Many Requests), Rate limit exceeded\n",
      "cherryla 1139986332489592833 Twitter API returned a 429 (Too Many Requests), Rate limit exceeded\n",
      "cherryla 1139193293323980800 Twitter API returned a 404 (Not Found), Sorry, that page does not exist.\n",
      "cherryla 1135890646621757441 Twitter API returned a 404 (Not Found), No status found with that ID.\n",
      "cherryla 1112852468562448384 Twitter API returned a 429 (Too Many Requests), Rate limit exceeded\n",
      "cherryla 1112852468562448384 Twitter API returned a 429 (Too Many Requests), Rate limit exceeded\n",
      "cherryla 1112852468562448384 Twitter API returned a 429 (Too Many Requests), Rate limit exceeded\n",
      "cherryla 1112852468562448384 Twitter API returned a 429 (Too Many Requests), Rate limit exceeded\n"
     ]
    },
    {
     "data": {
      "application/vnd.jupyter.widget-view+json": {
       "model_id": "",
       "version_major": 2,
       "version_minor": 0
      },
      "text/plain": [
       "HBox(children=(IntProgress(value=0, max=2), HTML(value='')))"
      ]
     },
     "metadata": {},
     "output_type": "display_data"
    },
    {
     "data": {
      "application/vnd.jupyter.widget-view+json": {
       "model_id": "",
       "version_major": 2,
       "version_minor": 0
      },
      "text/plain": [
       "HBox(children=(IntProgress(value=0, max=4), HTML(value='')))"
      ]
     },
     "metadata": {},
     "output_type": "display_data"
    },
    {
     "data": {
      "application/vnd.jupyter.widget-view+json": {
       "model_id": "",
       "version_major": 2,
       "version_minor": 0
      },
      "text/plain": [
       "HBox(children=(IntProgress(value=0, max=1), HTML(value='')))"
      ]
     },
     "metadata": {},
     "output_type": "display_data"
    },
    {
     "data": {
      "application/vnd.jupyter.widget-view+json": {
       "model_id": "",
       "version_major": 2,
       "version_minor": 0
      },
      "text/plain": [
       "HBox(children=(IntProgress(value=0, max=3414), HTML(value='')))"
      ]
     },
     "metadata": {},
     "output_type": "display_data"
    },
    {
     "name": "stdout",
     "output_type": "stream",
     "text": [
      "columbiasportswear 1081549408913698818 Twitter API returned a 429 (Too Many Requests), Rate limit exceeded\n",
      "columbiasportswear 1081549408913698818 Twitter API returned a 429 (Too Many Requests), Rate limit exceeded\n",
      "columbiasportswear 1081549408913698818 Twitter API returned a 429 (Too Many Requests), Rate limit exceeded\n",
      "columbiasportswear 1081549408913698818 Twitter API returned a 429 (Too Many Requests), Rate limit exceeded\n",
      "columbiasportswear 1111199678773628929 Twitter API returned a 403 (Forbidden), User has been suspended.\n",
      "columbiasportswear 1123700625684992000 Twitter API returned a 429 (Too Many Requests), Rate limit exceeded\n",
      "columbiasportswear 1123700625684992000 Twitter API returned a 429 (Too Many Requests), Rate limit exceeded\n",
      "columbiasportswear 1123700625684992000 Twitter API returned a 429 (Too Many Requests), Rate limit exceeded\n",
      "columbiasportswear 1123700625684992000 Twitter API returned a 429 (Too Many Requests), Rate limit exceeded\n",
      "columbiasportswear 1117791291121602560 Twitter API returned a 429 (Too Many Requests), Rate limit exceeded\n",
      "columbiasportswear 1117791291121602560 Twitter API returned a 429 (Too Many Requests), Rate limit exceeded\n",
      "columbiasportswear 1117791291121602560 Twitter API returned a 429 (Too Many Requests), Rate limit exceeded\n",
      "columbiasportswear 1117791291121602560 Twitter API returned a 429 (Too Many Requests), Rate limit exceeded\n",
      "columbiasportswear 1093402505172537344 Twitter API returned a 429 (Too Many Requests), Rate limit exceeded\n",
      "columbiasportswear 1093402505172537344 Twitter API returned a 429 (Too Many Requests), Rate limit exceeded\n",
      "columbiasportswear 1093402505172537344 Twitter API returned a 429 (Too Many Requests), Rate limit exceeded\n",
      "columbiasportswear 1093402505172537344 Twitter API returned a 429 (Too Many Requests), Rate limit exceeded\n"
     ]
    },
    {
     "data": {
      "application/vnd.jupyter.widget-view+json": {
       "model_id": "",
       "version_major": 2,
       "version_minor": 0
      },
      "text/plain": [
       "HBox(children=(IntProgress(value=0, max=27), HTML(value='')))"
      ]
     },
     "metadata": {},
     "output_type": "display_data"
    },
    {
     "name": "stdout",
     "output_type": "stream",
     "text": [
      "commedesgarcons 1118869788216811520 Twitter API returned a 404 (Not Found), No status found with that ID.\n"
     ]
    },
    {
     "data": {
      "application/vnd.jupyter.widget-view+json": {
       "model_id": "",
       "version_major": 2,
       "version_minor": 0
      },
      "text/plain": [
       "HBox(children=(IntProgress(value=0, max=209), HTML(value='')))"
      ]
     },
     "metadata": {},
     "output_type": "display_data"
    },
    {
     "name": "stdout",
     "output_type": "stream",
     "text": [
      "converse 1130393026558193664 Twitter API returned a 403 (Forbidden), User has been suspended.\n",
      "converse 1098721767927869441 Twitter API returned a 404 (Not Found), No status found with that ID.\n",
      "converse 1111897321082626049 Twitter API returned a 403 (Forbidden), User has been suspended.\n",
      "converse 1098720742684803072 Twitter API returned a 404 (Not Found), No status found with that ID.\n",
      "converse 1100030975285678080 Twitter API returned a 403 (Forbidden), Sorry, you are not authorized to see this status.\n",
      "converse 1097840091072851968 Twitter API returned a 404 (Not Found), No status found with that ID.\n",
      "converse 1111897318188564480 Twitter API returned a 403 (Forbidden), User has been suspended.\n"
     ]
    },
    {
     "data": {
      "application/vnd.jupyter.widget-view+json": {
       "model_id": "",
       "version_major": 2,
       "version_minor": 0
      },
      "text/plain": [
       "HBox(children=(IntProgress(value=0, max=40), HTML(value='')))"
      ]
     },
     "metadata": {},
     "output_type": "display_data"
    },
    {
     "data": {
      "application/vnd.jupyter.widget-view+json": {
       "model_id": "",
       "version_major": 2,
       "version_minor": 0
      },
      "text/plain": [
       "HBox(children=(IntProgress(value=0, max=28), HTML(value='')))"
      ]
     },
     "metadata": {},
     "output_type": "display_data"
    },
    {
     "data": {
      "application/vnd.jupyter.widget-view+json": {
       "model_id": "",
       "version_major": 2,
       "version_minor": 0
      },
      "text/plain": [
       "HBox(children=(IntProgress(value=0, max=106), HTML(value='')))"
      ]
     },
     "metadata": {},
     "output_type": "display_data"
    },
    {
     "name": "stdout",
     "output_type": "stream",
     "text": [
      "crocs 1122740823588610048 Twitter API returned a 404 (Not Found), No status found with that ID.\n"
     ]
    },
    {
     "data": {
      "application/vnd.jupyter.widget-view+json": {
       "model_id": "",
       "version_major": 2,
       "version_minor": 0
      },
      "text/plain": [
       "HBox(children=(IntProgress(value=0, max=31), HTML(value='')))"
      ]
     },
     "metadata": {},
     "output_type": "display_data"
    },
    {
     "data": {
      "application/vnd.jupyter.widget-view+json": {
       "model_id": "",
       "version_major": 2,
       "version_minor": 0
      },
      "text/plain": [
       "HBox(children=(IntProgress(value=0, max=1), HTML(value='')))"
      ]
     },
     "metadata": {},
     "output_type": "display_data"
    },
    {
     "data": {
      "application/vnd.jupyter.widget-view+json": {
       "model_id": "",
       "version_major": 2,
       "version_minor": 0
      },
      "text/plain": [
       "HBox(children=(IntProgress(value=0, max=1), HTML(value='')))"
      ]
     },
     "metadata": {},
     "output_type": "display_data"
    },
    {
     "data": {
      "application/vnd.jupyter.widget-view+json": {
       "model_id": "",
       "version_major": 2,
       "version_minor": 0
      },
      "text/plain": [
       "HBox(children=(IntProgress(value=0, max=5), HTML(value='')))"
      ]
     },
     "metadata": {},
     "output_type": "display_data"
    },
    {
     "data": {
      "application/vnd.jupyter.widget-view+json": {
       "model_id": "",
       "version_major": 2,
       "version_minor": 0
      },
      "text/plain": [
       "HBox(children=(IntProgress(value=0, max=22), HTML(value='')))"
      ]
     },
     "metadata": {},
     "output_type": "display_data"
    },
    {
     "data": {
      "application/vnd.jupyter.widget-view+json": {
       "model_id": "",
       "version_major": 2,
       "version_minor": 0
      },
      "text/plain": [
       "HBox(children=(IntProgress(value=0, max=6), HTML(value='')))"
      ]
     },
     "metadata": {},
     "output_type": "display_data"
    },
    {
     "data": {
      "application/vnd.jupyter.widget-view+json": {
       "model_id": "",
       "version_major": 2,
       "version_minor": 0
      },
      "text/plain": [
       "HBox(children=(IntProgress(value=0, max=412), HTML(value='')))"
      ]
     },
     "metadata": {},
     "output_type": "display_data"
    },
    {
     "name": "stdout",
     "output_type": "stream",
     "text": [
      "dior 1102549606599143424 Twitter API returned a 404 (Not Found), No status found with that ID.\n",
      "dior 1102038209167482880 Twitter API returned a 403 (Forbidden), Sorry, you are not authorized to see this status.\n",
      "dior 1104096061050695681 Twitter API returned a 403 (Forbidden), Sorry, you are not authorized to see this status.\n",
      "dior 1113770979245690881 Twitter API returned a 403 (Forbidden), Sorry, you are not authorized to see this status.\n",
      "dior 1113770363215798272 Twitter API returned a 403 (Forbidden), Sorry, you are not authorized to see this status.\n",
      "dior 1098727636702965760 Twitter API returned a 404 (Not Found), No status found with that ID.\n",
      "dior 1113769836545335297 Twitter API returned a 403 (Forbidden), Sorry, you are not authorized to see this status.\n",
      "dior 1098554083219140608 Twitter API returned a 404 (Not Found), No status found with that ID.\n",
      "dior 1086927008905474048 Twitter API returned a 403 (Forbidden), Sorry, you are not authorized to see this status.\n",
      "dior 1099521873853837312 Twitter API returned a 429 (Too Many Requests), Rate limit exceeded\n",
      "dior 1099521873853837312 Twitter API returned a 429 (Too Many Requests), Rate limit exceeded\n",
      "dior 1099521873853837312 Twitter API returned a 429 (Too Many Requests), Rate limit exceeded\n",
      "dior 1099521873853837312 Twitter API returned a 429 (Too Many Requests), Rate limit exceeded\n"
     ]
    },
    {
     "data": {
      "application/vnd.jupyter.widget-view+json": {
       "model_id": "",
       "version_major": 2,
       "version_minor": 0
      },
      "text/plain": [
       "HBox(children=(IntProgress(value=0, max=2), HTML(value='')))"
      ]
     },
     "metadata": {},
     "output_type": "display_data"
    },
    {
     "data": {
      "application/vnd.jupyter.widget-view+json": {
       "model_id": "",
       "version_major": 2,
       "version_minor": 0
      },
      "text/plain": [
       "HBox(children=(IntProgress(value=0, max=3), HTML(value='')))"
      ]
     },
     "metadata": {},
     "output_type": "display_data"
    },
    {
     "data": {
      "application/vnd.jupyter.widget-view+json": {
       "model_id": "",
       "version_major": 2,
       "version_minor": 0
      },
      "text/plain": [
       "HBox(children=(IntProgress(value=0, max=11), HTML(value='')))"
      ]
     },
     "metadata": {},
     "output_type": "display_data"
    },
    {
     "data": {
      "application/vnd.jupyter.widget-view+json": {
       "model_id": "",
       "version_major": 2,
       "version_minor": 0
      },
      "text/plain": [
       "HBox(children=(IntProgress(value=0, max=37), HTML(value='')))"
      ]
     },
     "metadata": {},
     "output_type": "display_data"
    },
    {
     "data": {
      "application/vnd.jupyter.widget-view+json": {
       "model_id": "",
       "version_major": 2,
       "version_minor": 0
      },
      "text/plain": [
       "HBox(children=(IntProgress(value=0, max=3), HTML(value='')))"
      ]
     },
     "metadata": {},
     "output_type": "display_data"
    },
    {
     "data": {
      "application/vnd.jupyter.widget-view+json": {
       "model_id": "",
       "version_major": 2,
       "version_minor": 0
      },
      "text/plain": [
       "HBox(children=(IntProgress(value=0, max=32), HTML(value='')))"
      ]
     },
     "metadata": {},
     "output_type": "display_data"
    },
    {
     "data": {
      "application/vnd.jupyter.widget-view+json": {
       "model_id": "",
       "version_major": 2,
       "version_minor": 0
      },
      "text/plain": [
       "HBox(children=(IntProgress(value=0, max=3), HTML(value='')))"
      ]
     },
     "metadata": {},
     "output_type": "display_data"
    },
    {
     "data": {
      "application/vnd.jupyter.widget-view+json": {
       "model_id": "",
       "version_major": 2,
       "version_minor": 0
      },
      "text/plain": [
       "HBox(children=(IntProgress(value=0, max=846), HTML(value='')))"
      ]
     },
     "metadata": {},
     "output_type": "display_data"
    },
    {
     "name": "stdout",
     "output_type": "stream",
     "text": [
      "eider 1100921999889588225 Twitter API returned a 403 (Forbidden), Sorry, you are not authorized to see this status.\n",
      "eider 1110709554092765190 Twitter API returned a 403 (Forbidden), Sorry, you are not authorized to see this status.\n",
      "eider 1096200251872927744 Twitter API returned a 403 (Forbidden), Sorry, you are not authorized to see this status.\n",
      "eider 1113389081151496192 Twitter API returned a 403 (Forbidden), Sorry, you are not authorized to see this status.\n",
      "eider 1102016270004772864 Twitter API returned a 403 (Forbidden), Sorry, you are not authorized to see this status.\n",
      "eider 1100909196600459265 Twitter API returned a 403 (Forbidden), User has been suspended.\n",
      "eider 1118709163129851905 Twitter API returned a 403 (Forbidden), Sorry, you are not authorized to see this status.\n",
      "eider 1113391092336971777 Twitter API returned a 403 (Forbidden), Sorry, you are not authorized to see this status.\n",
      "eider 1095853516281659393 Twitter API returned a 403 (Forbidden), Sorry, you are not authorized to see this status.\n",
      "eider 1141249979266191360 Twitter API returned a 404 (Not Found), No status found with that ID.\n",
      "eider 1123164683949621250 Twitter API returned a 403 (Forbidden), Sorry, you are not authorized to see this status.\n",
      "eider 1079895858961772544 Twitter API returned a 403 (Forbidden), User has been suspended.\n",
      "eider 1094858132604383232 Twitter API returned a 403 (Forbidden), Sorry, you are not authorized to see this status.\n",
      "eider 1110738294717898754 Twitter API returned a 403 (Forbidden), Sorry, you are not authorized to see this status.\n",
      "eider 1095854048966635520 Twitter API returned a 403 (Forbidden), Sorry, you are not authorized to see this status.\n",
      "eider 1118364867327660033 Twitter API returned a 403 (Forbidden), Sorry, you are not authorized to see this status.\n",
      "eider 1113381408020488192 Twitter API returned a 403 (Forbidden), Sorry, you are not authorized to see this status.\n",
      "eider 1134775109091188738 Twitter API returned a 404 (Not Found), No status found with that ID.\n",
      "eider 1094856383306944512 Twitter API returned a 429 (Too Many Requests), Rate limit exceeded\n",
      "eider 1094856383306944512 Twitter API returned a 429 (Too Many Requests), Rate limit exceeded\n",
      "eider 1094856383306944512 Twitter API returned a 429 (Too Many Requests), Rate limit exceeded\n",
      "eider 1094856383306944512 Twitter API returned a 429 (Too Many Requests), Rate limit exceeded\n",
      "eider 1100909043093135360 Twitter API returned a 403 (Forbidden), User has been suspended.\n",
      "eider 1095853760859885568 Twitter API returned a 403 (Forbidden), Sorry, you are not authorized to see this status.\n"
     ]
    },
    {
     "data": {
      "application/vnd.jupyter.widget-view+json": {
       "model_id": "",
       "version_major": 2,
       "version_minor": 0
      },
      "text/plain": [
       "HBox(children=(IntProgress(value=0, max=26), HTML(value='')))"
      ]
     },
     "metadata": {},
     "output_type": "display_data"
    },
    {
     "data": {
      "application/vnd.jupyter.widget-view+json": {
       "model_id": "",
       "version_major": 2,
       "version_minor": 0
      },
      "text/plain": [
       "HBox(children=(IntProgress(value=0, max=2), HTML(value='')))"
      ]
     },
     "metadata": {},
     "output_type": "display_data"
    },
    {
     "data": {
      "application/vnd.jupyter.widget-view+json": {
       "model_id": "",
       "version_major": 2,
       "version_minor": 0
      },
      "text/plain": [
       "HBox(children=(IntProgress(value=0, max=262), HTML(value='')))"
      ]
     },
     "metadata": {},
     "output_type": "display_data"
    },
    {
     "data": {
      "application/vnd.jupyter.widget-view+json": {
       "model_id": "",
       "version_major": 2,
       "version_minor": 0
      },
      "text/plain": [
       "HBox(children=(IntProgress(value=0, max=20), HTML(value='')))"
      ]
     },
     "metadata": {},
     "output_type": "display_data"
    },
    {
     "data": {
      "application/vnd.jupyter.widget-view+json": {
       "model_id": "",
       "version_major": 2,
       "version_minor": 0
      },
      "text/plain": [
       "HBox(children=(IntProgress(value=0, max=820), HTML(value='')))"
      ]
     },
     "metadata": {},
     "output_type": "display_data"
    },
    {
     "name": "stdout",
     "output_type": "stream",
     "text": [
      "fila 1128120965823631362 Twitter API returned a 404 (Not Found), Sorry, that page does not exist.\n",
      "fila 1134086433088520192 Twitter API returned a 403 (Forbidden), Sorry, you are not authorized to see this status.\n",
      "fila 1136153048982540288 Twitter API returned a 404 (Not Found), No status found with that ID.\n",
      "fila 1106284993544892416 Twitter API returned a 403 (Forbidden), Sorry, you are not authorized to see this status.\n",
      "fila 1099283811534290945 Twitter API returned a 403 (Forbidden), Sorry, you are not authorized to see this status.\n",
      "fila 1108341551392944128 Twitter API returned a 403 (Forbidden), Sorry, you are not authorized to see this status.\n",
      "fila 1107613605980073984 Twitter API returned a 403 (Forbidden), Sorry, you are not authorized to see this status.\n",
      "fila 1096483071161905152 Twitter API returned a 429 (Too Many Requests), Rate limit exceeded\n",
      "fila 1096483071161905152 Twitter API returned a 429 (Too Many Requests), Rate limit exceeded\n",
      "fila 1096483071161905152 Twitter API returned a 429 (Too Many Requests), Rate limit exceeded\n",
      "fila 1096483071161905152 Twitter API returned a 429 (Too Many Requests), Rate limit exceeded\n"
     ]
    },
    {
     "data": {
      "application/vnd.jupyter.widget-view+json": {
       "model_id": "",
       "version_major": 2,
       "version_minor": 0
      },
      "text/plain": [
       "HBox(children=(IntProgress(value=0, max=4), HTML(value='')))"
      ]
     },
     "metadata": {},
     "output_type": "display_data"
    },
    {
     "data": {
      "application/vnd.jupyter.widget-view+json": {
       "model_id": "",
       "version_major": 2,
       "version_minor": 0
      },
      "text/plain": [
       "HBox(children=(IntProgress(value=0, max=34), HTML(value='')))"
      ]
     },
     "metadata": {},
     "output_type": "display_data"
    },
    {
     "data": {
      "application/vnd.jupyter.widget-view+json": {
       "model_id": "",
       "version_major": 2,
       "version_minor": 0
      },
      "text/plain": [
       "HBox(children=(IntProgress(value=0, max=6), HTML(value='')))"
      ]
     },
     "metadata": {},
     "output_type": "display_data"
    },
    {
     "data": {
      "application/vnd.jupyter.widget-view+json": {
       "model_id": "",
       "version_major": 2,
       "version_minor": 0
      },
      "text/plain": [
       "HBox(children=(IntProgress(value=0, max=6), HTML(value='')))"
      ]
     },
     "metadata": {},
     "output_type": "display_data"
    },
    {
     "data": {
      "application/vnd.jupyter.widget-view+json": {
       "model_id": "",
       "version_major": 2,
       "version_minor": 0
      },
      "text/plain": [
       "HBox(children=(IntProgress(value=0, max=11), HTML(value='')))"
      ]
     },
     "metadata": {},
     "output_type": "display_data"
    },
    {
     "data": {
      "application/vnd.jupyter.widget-view+json": {
       "model_id": "",
       "version_major": 2,
       "version_minor": 0
      },
      "text/plain": [
       "HBox(children=(IntProgress(value=0, max=1), HTML(value='')))"
      ]
     },
     "metadata": {},
     "output_type": "display_data"
    },
    {
     "data": {
      "application/vnd.jupyter.widget-view+json": {
       "model_id": "",
       "version_major": 2,
       "version_minor": 0
      },
      "text/plain": [
       "HBox(children=(IntProgress(value=0, max=270), HTML(value='')))"
      ]
     },
     "metadata": {},
     "output_type": "display_data"
    },
    {
     "name": "stdout",
     "output_type": "stream",
     "text": [
      "gentlemonster 1094866292094296064 Twitter API returned a 403 (Forbidden), Sorry, you are not authorized to see this status.\n",
      "gentlemonster 1125775115361378311 Twitter API returned a 403 (Forbidden), Sorry, you are not authorized to see this status.\n",
      "gentlemonster 1104245444085858304 Twitter API returned a 403 (Forbidden), Sorry, you are not authorized to see this status.\n"
     ]
    },
    {
     "data": {
      "application/vnd.jupyter.widget-view+json": {
       "model_id": "",
       "version_major": 2,
       "version_minor": 0
      },
      "text/plain": [
       "HBox(children=(IntProgress(value=0, max=27), HTML(value='')))"
      ]
     },
     "metadata": {},
     "output_type": "display_data"
    },
    {
     "data": {
      "application/vnd.jupyter.widget-view+json": {
       "model_id": "",
       "version_major": 2,
       "version_minor": 0
      },
      "text/plain": [
       "HBox(children=(IntProgress(value=0, max=2), HTML(value='')))"
      ]
     },
     "metadata": {},
     "output_type": "display_data"
    },
    {
     "data": {
      "application/vnd.jupyter.widget-view+json": {
       "model_id": "",
       "version_major": 2,
       "version_minor": 0
      },
      "text/plain": [
       "HBox(children=(IntProgress(value=0, max=146), HTML(value='')))"
      ]
     },
     "metadata": {},
     "output_type": "display_data"
    },
    {
     "name": "stdout",
     "output_type": "stream",
     "text": [
      "givenchy 1082250154063814656 Twitter API returned a 404 (Not Found), No status found with that ID.\n"
     ]
    },
    {
     "data": {
      "application/vnd.jupyter.widget-view+json": {
       "model_id": "",
       "version_major": 2,
       "version_minor": 0
      },
      "text/plain": [
       "HBox(children=(IntProgress(value=0, max=2), HTML(value='')))"
      ]
     },
     "metadata": {},
     "output_type": "display_data"
    },
    {
     "data": {
      "application/vnd.jupyter.widget-view+json": {
       "model_id": "",
       "version_major": 2,
       "version_minor": 0
      },
      "text/plain": [
       "HBox(children=(IntProgress(value=0, max=1343), HTML(value='')))"
      ]
     },
     "metadata": {},
     "output_type": "display_data"
    },
    {
     "name": "stdout",
     "output_type": "stream",
     "text": [
      "goat 1096340295526961152 Twitter API returned a 429 (Too Many Requests), Rate limit exceeded\n",
      "goat 1096340295526961152 Twitter API returned a 429 (Too Many Requests), Rate limit exceeded\n",
      "goat 1096340295526961152 Twitter API returned a 429 (Too Many Requests), Rate limit exceeded\n",
      "goat 1096340295526961152 Twitter API returned a 429 (Too Many Requests), Rate limit exceeded\n",
      "goat 1100688947720540161 Twitter API returned a 429 (Too Many Requests), Rate limit exceeded\n",
      "goat 1100688947720540161 Twitter API returned a 429 (Too Many Requests), Rate limit exceeded\n",
      "goat 1100688947720540161 Twitter API returned a 429 (Too Many Requests), Rate limit exceeded\n",
      "goat 1100688947720540161 Twitter API returned a 429 (Too Many Requests), Rate limit exceeded\n"
     ]
    },
    {
     "data": {
      "application/vnd.jupyter.widget-view+json": {
       "model_id": "",
       "version_major": 2,
       "version_minor": 0
      },
      "text/plain": [
       "HBox(children=(IntProgress(value=0, max=30), HTML(value='')))"
      ]
     },
     "metadata": {},
     "output_type": "display_data"
    },
    {
     "data": {
      "application/vnd.jupyter.widget-view+json": {
       "model_id": "",
       "version_major": 2,
       "version_minor": 0
      },
      "text/plain": [
       "HBox(children=(IntProgress(value=0, max=3), HTML(value='')))"
      ]
     },
     "metadata": {},
     "output_type": "display_data"
    },
    {
     "data": {
      "application/vnd.jupyter.widget-view+json": {
       "model_id": "",
       "version_major": 2,
       "version_minor": 0
      },
      "text/plain": [
       "HBox(children=(IntProgress(value=0, max=39), HTML(value='')))"
      ]
     },
     "metadata": {},
     "output_type": "display_data"
    },
    {
     "name": "stdout",
     "output_type": "stream",
     "text": [
      "gregory 1090472974337986560 Twitter API returned a 404 (Not Found), No status found with that ID.\n"
     ]
    },
    {
     "data": {
      "application/vnd.jupyter.widget-view+json": {
       "model_id": "",
       "version_major": 2,
       "version_minor": 0
      },
      "text/plain": [
       "HBox(children=(IntProgress(value=0, max=664), HTML(value='')))"
      ]
     },
     "metadata": {},
     "output_type": "display_data"
    },
    {
     "name": "stdout",
     "output_type": "stream",
     "text": [
      "gucci 1116959976688365568 Twitter API returned a 403 (Forbidden), Sorry, you are not authorized to see this status.\n",
      "gucci 1109288663429640192 Twitter API returned a 403 (Forbidden), User has been suspended.\n",
      "gucci 1117307619062890502 Twitter API returned a 404 (Not Found), Sorry, that page does not exist.\n",
      "gucci 1098566869412327425 Twitter API returned a 404 (Not Found), No status found with that ID.\n",
      "gucci 1108693319142400000 Twitter API returned a 403 (Forbidden), Sorry, you are not authorized to see this status.\n",
      "gucci 1108693467297767425 Twitter API returned a 403 (Forbidden), Sorry, you are not authorized to see this status.\n",
      "gucci 1108693096898813952 Twitter API returned a 403 (Forbidden), Sorry, you are not authorized to see this status.\n",
      "gucci 1108926334833750016 Twitter API returned a 403 (Forbidden), User has been suspended.\n",
      "gucci 1108695409524768769 Twitter API returned a 403 (Forbidden), Sorry, you are not authorized to see this status.\n",
      "gucci 1108694306846445569 Twitter API returned a 403 (Forbidden), Sorry, you are not authorized to see this status.\n",
      "gucci 1090222340875714565 Twitter API returned a 429 (Too Many Requests), Rate limit exceeded\n",
      "gucci 1108692808129404929 Twitter API returned a 403 (Forbidden), Sorry, you are not authorized to see this status.\n",
      "gucci 1108693926741868546 Twitter API returned a 403 (Forbidden), Sorry, you are not authorized to see this status.\n",
      "gucci 1098721767927869441 Twitter API returned a 404 (Not Found), No status found with that ID.\n",
      "gucci 1116959974578688000 Twitter API returned a 403 (Forbidden), Sorry, you are not authorized to see this status.\n"
     ]
    },
    {
     "data": {
      "application/vnd.jupyter.widget-view+json": {
       "model_id": "",
       "version_major": 2,
       "version_minor": 0
      },
      "text/plain": [
       "HBox(children=(IntProgress(value=0, max=4), HTML(value='')))"
      ]
     },
     "metadata": {},
     "output_type": "display_data"
    },
    {
     "data": {
      "application/vnd.jupyter.widget-view+json": {
       "model_id": "",
       "version_major": 2,
       "version_minor": 0
      },
      "text/plain": [
       "HBox(children=(IntProgress(value=0, max=4), HTML(value='')))"
      ]
     },
     "metadata": {},
     "output_type": "display_data"
    },
    {
     "data": {
      "application/vnd.jupyter.widget-view+json": {
       "model_id": "",
       "version_major": 2,
       "version_minor": 0
      },
      "text/plain": [
       "HBox(children=(IntProgress(value=0, max=12), HTML(value='')))"
      ]
     },
     "metadata": {},
     "output_type": "display_data"
    },
    {
     "name": "stdout",
     "output_type": "stream",
     "text": [
      "haveagoodtime 1102131207846985730 Twitter API returned a 404 (Not Found), No status found with that ID.\n"
     ]
    },
    {
     "data": {
      "application/vnd.jupyter.widget-view+json": {
       "model_id": "",
       "version_major": 2,
       "version_minor": 0
      },
      "text/plain": [
       "HBox(children=(IntProgress(value=0, max=21), HTML(value='')))"
      ]
     },
     "metadata": {},
     "output_type": "display_data"
    },
    {
     "data": {
      "application/vnd.jupyter.widget-view+json": {
       "model_id": "",
       "version_major": 2,
       "version_minor": 0
      },
      "text/plain": [
       "HBox(children=(IntProgress(value=0, max=12), HTML(value='')))"
      ]
     },
     "metadata": {},
     "output_type": "display_data"
    },
    {
     "data": {
      "application/vnd.jupyter.widget-view+json": {
       "model_id": "",
       "version_major": 2,
       "version_minor": 0
      },
      "text/plain": [
       "HBox(children=(IntProgress(value=0, max=4), HTML(value='')))"
      ]
     },
     "metadata": {},
     "output_type": "display_data"
    },
    {
     "data": {
      "application/vnd.jupyter.widget-view+json": {
       "model_id": "",
       "version_major": 2,
       "version_minor": 0
      },
      "text/plain": [
       "HBox(children=(IntProgress(value=0, max=1), HTML(value='')))"
      ]
     },
     "metadata": {},
     "output_type": "display_data"
    },
    {
     "data": {
      "application/vnd.jupyter.widget-view+json": {
       "model_id": "",
       "version_major": 2,
       "version_minor": 0
      },
      "text/plain": [
       "HBox(children=(IntProgress(value=0, max=2), HTML(value='')))"
      ]
     },
     "metadata": {},
     "output_type": "display_data"
    },
    {
     "data": {
      "application/vnd.jupyter.widget-view+json": {
       "model_id": "",
       "version_major": 2,
       "version_minor": 0
      },
      "text/plain": [
       "HBox(children=(IntProgress(value=0, max=112), HTML(value='')))"
      ]
     },
     "metadata": {},
     "output_type": "display_data"
    },
    {
     "data": {
      "application/vnd.jupyter.widget-view+json": {
       "model_id": "",
       "version_major": 2,
       "version_minor": 0
      },
      "text/plain": [
       "HBox(children=(IntProgress(value=0, max=2), HTML(value='')))"
      ]
     },
     "metadata": {},
     "output_type": "display_data"
    },
    {
     "data": {
      "application/vnd.jupyter.widget-view+json": {
       "model_id": "",
       "version_major": 2,
       "version_minor": 0
      },
      "text/plain": [
       "HBox(children=(IntProgress(value=0, max=2), HTML(value='')))"
      ]
     },
     "metadata": {},
     "output_type": "display_data"
    },
    {
     "data": {
      "application/vnd.jupyter.widget-view+json": {
       "model_id": "",
       "version_major": 2,
       "version_minor": 0
      },
      "text/plain": [
       "HBox(children=(IntProgress(value=0, max=1733), HTML(value='')))"
      ]
     },
     "metadata": {},
     "output_type": "display_data"
    },
    {
     "name": "stdout",
     "output_type": "stream",
     "text": [
      "hm 1091008283551293440 Twitter API returned a 429 (Too Many Requests), Rate limit exceeded\n",
      "hm 1091008283551293440 Twitter API returned a 429 (Too Many Requests), Rate limit exceeded\n",
      "hm 1091008283551293440 Twitter API returned a 429 (Too Many Requests), Rate limit exceeded\n",
      "hm 1091008283551293440 Twitter API returned a 429 (Too Many Requests), Rate limit exceeded\n",
      "hm 1106963988393287680 Twitter API returned a 429 (Too Many Requests), Rate limit exceeded\n",
      "hm 1106963988393287680 Twitter API returned a 429 (Too Many Requests), Rate limit exceeded\n",
      "hm 1106963988393287680 Twitter API returned a 429 (Too Many Requests), Rate limit exceeded\n"
     ]
    },
    {
     "data": {
      "application/vnd.jupyter.widget-view+json": {
       "model_id": "",
       "version_major": 2,
       "version_minor": 0
      },
      "text/plain": [
       "HBox(children=(IntProgress(value=0, max=2), HTML(value='')))"
      ]
     },
     "metadata": {},
     "output_type": "display_data"
    },
    {
     "data": {
      "application/vnd.jupyter.widget-view+json": {
       "model_id": "",
       "version_major": 2,
       "version_minor": 0
      },
      "text/plain": [
       "HBox(children=(IntProgress(value=0, max=13), HTML(value='')))"
      ]
     },
     "metadata": {},
     "output_type": "display_data"
    },
    {
     "data": {
      "application/vnd.jupyter.widget-view+json": {
       "model_id": "",
       "version_major": 2,
       "version_minor": 0
      },
      "text/plain": [
       "HBox(children=(IntProgress(value=0, max=2), HTML(value='')))"
      ]
     },
     "metadata": {},
     "output_type": "display_data"
    },
    {
     "data": {
      "application/vnd.jupyter.widget-view+json": {
       "model_id": "",
       "version_major": 2,
       "version_minor": 0
      },
      "text/plain": [
       "HBox(children=(IntProgress(value=0, max=2), HTML(value='')))"
      ]
     },
     "metadata": {},
     "output_type": "display_data"
    },
    {
     "data": {
      "application/vnd.jupyter.widget-view+json": {
       "model_id": "",
       "version_major": 2,
       "version_minor": 0
      },
      "text/plain": [
       "HBox(children=(IntProgress(value=0, max=1), HTML(value='')))"
      ]
     },
     "metadata": {},
     "output_type": "display_data"
    },
    {
     "data": {
      "application/vnd.jupyter.widget-view+json": {
       "model_id": "",
       "version_major": 2,
       "version_minor": 0
      },
      "text/plain": [
       "HBox(children=(IntProgress(value=0, max=6), HTML(value='')))"
      ]
     },
     "metadata": {},
     "output_type": "display_data"
    },
    {
     "data": {
      "application/vnd.jupyter.widget-view+json": {
       "model_id": "",
       "version_major": 2,
       "version_minor": 0
      },
      "text/plain": [
       "HBox(children=(IntProgress(value=0, max=1), HTML(value='')))"
      ]
     },
     "metadata": {},
     "output_type": "display_data"
    },
    {
     "data": {
      "application/vnd.jupyter.widget-view+json": {
       "model_id": "",
       "version_major": 2,
       "version_minor": 0
      },
      "text/plain": [
       "HBox(children=(IntProgress(value=0, max=9), HTML(value='')))"
      ]
     },
     "metadata": {},
     "output_type": "display_data"
    },
    {
     "data": {
      "application/vnd.jupyter.widget-view+json": {
       "model_id": "",
       "version_major": 2,
       "version_minor": 0
      },
      "text/plain": [
       "HBox(children=(IntProgress(value=0, max=2), HTML(value='')))"
      ]
     },
     "metadata": {},
     "output_type": "display_data"
    },
    {
     "data": {
      "application/vnd.jupyter.widget-view+json": {
       "model_id": "",
       "version_major": 2,
       "version_minor": 0
      },
      "text/plain": [
       "HBox(children=(IntProgress(value=0, max=33), HTML(value='')))"
      ]
     },
     "metadata": {},
     "output_type": "display_data"
    },
    {
     "data": {
      "application/vnd.jupyter.widget-view+json": {
       "model_id": "",
       "version_major": 2,
       "version_minor": 0
      },
      "text/plain": [
       "HBox(children=(IntProgress(value=0, max=1), HTML(value='')))"
      ]
     },
     "metadata": {},
     "output_type": "display_data"
    },
    {
     "data": {
      "application/vnd.jupyter.widget-view+json": {
       "model_id": "",
       "version_major": 2,
       "version_minor": 0
      },
      "text/plain": [
       "HBox(children=(IntProgress(value=0, max=7), HTML(value='')))"
      ]
     },
     "metadata": {},
     "output_type": "display_data"
    },
    {
     "data": {
      "application/vnd.jupyter.widget-view+json": {
       "model_id": "",
       "version_major": 2,
       "version_minor": 0
      },
      "text/plain": [
       "HBox(children=(IntProgress(value=0, max=2), HTML(value='')))"
      ]
     },
     "metadata": {},
     "output_type": "display_data"
    },
    {
     "data": {
      "application/vnd.jupyter.widget-view+json": {
       "model_id": "",
       "version_major": 2,
       "version_minor": 0
      },
      "text/plain": [
       "HBox(children=(IntProgress(value=0, max=1), HTML(value='')))"
      ]
     },
     "metadata": {},
     "output_type": "display_data"
    },
    {
     "data": {
      "application/vnd.jupyter.widget-view+json": {
       "model_id": "",
       "version_major": 2,
       "version_minor": 0
      },
      "text/plain": [
       "HBox(children=(IntProgress(value=0, max=111), HTML(value='')))"
      ]
     },
     "metadata": {},
     "output_type": "display_data"
    },
    {
     "name": "stdout",
     "output_type": "stream",
     "text": [
      "juunj 1141277987431542785 Twitter API returned a 404 (Not Found), No status found with that ID.\n"
     ]
    },
    {
     "data": {
      "application/vnd.jupyter.widget-view+json": {
       "model_id": "",
       "version_major": 2,
       "version_minor": 0
      },
      "text/plain": [
       "HBox(children=(IntProgress(value=0, max=4), HTML(value='')))"
      ]
     },
     "metadata": {},
     "output_type": "display_data"
    },
    {
     "data": {
      "application/vnd.jupyter.widget-view+json": {
       "model_id": "",
       "version_major": 2,
       "version_minor": 0
      },
      "text/plain": [
       "HBox(children=(IntProgress(value=0, max=1), HTML(value='')))"
      ]
     },
     "metadata": {},
     "output_type": "display_data"
    },
    {
     "data": {
      "application/vnd.jupyter.widget-view+json": {
       "model_id": "",
       "version_major": 2,
       "version_minor": 0
      },
      "text/plain": [
       "HBox(children=(IntProgress(value=0, max=18), HTML(value='')))"
      ]
     },
     "metadata": {},
     "output_type": "display_data"
    },
    {
     "data": {
      "application/vnd.jupyter.widget-view+json": {
       "model_id": "",
       "version_major": 2,
       "version_minor": 0
      },
      "text/plain": [
       "HBox(children=(IntProgress(value=0, max=8), HTML(value='')))"
      ]
     },
     "metadata": {},
     "output_type": "display_data"
    },
    {
     "data": {
      "application/vnd.jupyter.widget-view+json": {
       "model_id": "",
       "version_major": 2,
       "version_minor": 0
      },
      "text/plain": [
       "HBox(children=(IntProgress(value=0, max=1), HTML(value='')))"
      ]
     },
     "metadata": {},
     "output_type": "display_data"
    },
    {
     "data": {
      "application/vnd.jupyter.widget-view+json": {
       "model_id": "",
       "version_major": 2,
       "version_minor": 0
      },
      "text/plain": [
       "HBox(children=(IntProgress(value=0, max=28), HTML(value='')))"
      ]
     },
     "metadata": {},
     "output_type": "display_data"
    },
    {
     "data": {
      "application/vnd.jupyter.widget-view+json": {
       "model_id": "",
       "version_major": 2,
       "version_minor": 0
      },
      "text/plain": [
       "HBox(children=(IntProgress(value=0, max=12), HTML(value='')))"
      ]
     },
     "metadata": {},
     "output_type": "display_data"
    },
    {
     "data": {
      "application/vnd.jupyter.widget-view+json": {
       "model_id": "",
       "version_major": 2,
       "version_minor": 0
      },
      "text/plain": [
       "HBox(children=(IntProgress(value=0, max=77), HTML(value='')))"
      ]
     },
     "metadata": {},
     "output_type": "display_data"
    },
    {
     "name": "stdout",
     "output_type": "stream",
     "text": [
      "kolonsport 1115883146925441025 Twitter API returned a 403 (Forbidden), Sorry, you are not authorized to see this status.\n"
     ]
    },
    {
     "data": {
      "application/vnd.jupyter.widget-view+json": {
       "model_id": "",
       "version_major": 2,
       "version_minor": 0
      },
      "text/plain": [
       "HBox(children=(IntProgress(value=0, max=38), HTML(value='')))"
      ]
     },
     "metadata": {},
     "output_type": "display_data"
    },
    {
     "data": {
      "application/vnd.jupyter.widget-view+json": {
       "model_id": "",
       "version_major": 2,
       "version_minor": 0
      },
      "text/plain": [
       "HBox(children=(IntProgress(value=0, max=26), HTML(value='')))"
      ]
     },
     "metadata": {},
     "output_type": "display_data"
    },
    {
     "name": "stdout",
     "output_type": "stream",
     "text": [
      "lacoste 1100763045050036225 Twitter API returned a 404 (Not Found), No status found with that ID.\n"
     ]
    },
    {
     "data": {
      "application/vnd.jupyter.widget-view+json": {
       "model_id": "",
       "version_major": 2,
       "version_minor": 0
      },
      "text/plain": [
       "HBox(children=(IntProgress(value=0, max=91), HTML(value='')))"
      ]
     },
     "metadata": {},
     "output_type": "display_data"
    },
    {
     "name": "stdout",
     "output_type": "stream",
     "text": [
      "lafuma 1100763045050036225 Twitter API returned a 404 (Not Found), No status found with that ID.\n"
     ]
    },
    {
     "data": {
      "application/vnd.jupyter.widget-view+json": {
       "model_id": "",
       "version_major": 2,
       "version_minor": 0
      },
      "text/plain": [
       "HBox(children=(IntProgress(value=0, max=17), HTML(value='')))"
      ]
     },
     "metadata": {},
     "output_type": "display_data"
    },
    {
     "data": {
      "application/vnd.jupyter.widget-view+json": {
       "model_id": "",
       "version_major": 2,
       "version_minor": 0
      },
      "text/plain": [
       "HBox(children=(IntProgress(value=0, max=1), HTML(value='')))"
      ]
     },
     "metadata": {},
     "output_type": "display_data"
    },
    {
     "data": {
      "application/vnd.jupyter.widget-view+json": {
       "model_id": "",
       "version_major": 2,
       "version_minor": 0
      },
      "text/plain": [
       "HBox(children=(IntProgress(value=0, max=61), HTML(value='')))"
      ]
     },
     "metadata": {},
     "output_type": "display_data"
    },
    {
     "name": "stdout",
     "output_type": "stream",
     "text": [
      "lecoqsportif 1140145883998302208 Twitter API returned a 404 (Not Found), Sorry, that page does not exist.\n"
     ]
    },
    {
     "data": {
      "application/vnd.jupyter.widget-view+json": {
       "model_id": "",
       "version_major": 2,
       "version_minor": 0
      },
      "text/plain": [
       "HBox(children=(IntProgress(value=0, max=121), HTML(value='')))"
      ]
     },
     "metadata": {},
     "output_type": "display_data"
    },
    {
     "name": "stdout",
     "output_type": "stream",
     "text": [
      "levis 1132803240578490368 Twitter API returned a 429 (Too Many Requests), Rate limit exceeded\n",
      "levis 1132803240578490368 Twitter API returned a 429 (Too Many Requests), Rate limit exceeded\n",
      "levis 1132803240578490368 Twitter API returned a 429 (Too Many Requests), Rate limit exceeded\n",
      "levis 1132803240578490368 Twitter API returned a 429 (Too Many Requests), Rate limit exceeded\n"
     ]
    },
    {
     "data": {
      "application/vnd.jupyter.widget-view+json": {
       "model_id": "",
       "version_major": 2,
       "version_minor": 0
      },
      "text/plain": [
       "HBox(children=(IntProgress(value=0, max=2), HTML(value='')))"
      ]
     },
     "metadata": {},
     "output_type": "display_data"
    },
    {
     "data": {
      "application/vnd.jupyter.widget-view+json": {
       "model_id": "",
       "version_major": 2,
       "version_minor": 0
      },
      "text/plain": [
       "HBox(children=(IntProgress(value=0, max=16), HTML(value='')))"
      ]
     },
     "metadata": {},
     "output_type": "display_data"
    },
    {
     "data": {
      "application/vnd.jupyter.widget-view+json": {
       "model_id": "",
       "version_major": 2,
       "version_minor": 0
      },
      "text/plain": [
       "HBox(children=(IntProgress(value=0, max=1558), HTML(value='')))"
      ]
     },
     "metadata": {},
     "output_type": "display_data"
    },
    {
     "name": "stdout",
     "output_type": "stream",
     "text": [
      "louisvuitton 1126112764710215680 Twitter API returned a 403 (Forbidden), Sorry, you are not authorized to see this status.\n",
      "louisvuitton 1126395830796034048 Twitter API returned a 403 (Forbidden), Sorry, you are not authorized to see this status.\n",
      "louisvuitton 1126530991697215488 Twitter API returned a 403 (Forbidden), Sorry, you are not authorized to see this status.\n",
      "louisvuitton 1126415924620214272 Twitter API returned a 403 (Forbidden), Sorry, you are not authorized to see this status.\n",
      "louisvuitton 1110375448133791746 Twitter API returned a 429 (Too Many Requests), Rate limit exceeded\n",
      "louisvuitton 1110375448133791746 Twitter API returned a 429 (Too Many Requests), Rate limit exceeded\n",
      "louisvuitton 1110375448133791746 Twitter API returned a 429 (Too Many Requests), Rate limit exceeded\n",
      "louisvuitton 1110375448133791746 Twitter API returned a 429 (Too Many Requests), Rate limit exceeded\n",
      "louisvuitton 1107328321157644288 Twitter API returned a 403 (Forbidden), Sorry, you are not authorized to see this status.\n",
      "louisvuitton 1128174607746252801 Twitter API returned a 403 (Forbidden), Sorry, you are not authorized to see this status.\n",
      "louisvuitton 1126415800145866753 Twitter API returned a 403 (Forbidden), Sorry, you are not authorized to see this status.\n",
      "louisvuitton 1127185113396072448 Twitter API returned a 403 (Forbidden), Sorry, you are not authorized to see this status.\n",
      "louisvuitton 1126371776945098752 Twitter API returned a 403 (Forbidden), Sorry, you are not authorized to see this status.\n",
      "louisvuitton 1126112857672699904 Twitter API returned a 403 (Forbidden), Sorry, you are not authorized to see this status.\n"
     ]
    },
    {
     "data": {
      "application/vnd.jupyter.widget-view+json": {
       "model_id": "",
       "version_major": 2,
       "version_minor": 0
      },
      "text/plain": [
       "HBox(children=(IntProgress(value=0, max=246), HTML(value='')))"
      ]
     },
     "metadata": {},
     "output_type": "display_data"
    },
    {
     "name": "stdout",
     "output_type": "stream",
     "text": [
      "lynn 1097405600823074816 Twitter API returned a 404 (Not Found), No status found with that ID.\n",
      "lynn 1136108398892634112 Twitter API returned a 403 (Forbidden), User has been suspended.\n",
      "lynn 1091350532080324608 Twitter API returned a 429 (Too Many Requests), Rate limit exceeded\n",
      "lynn 1091350532080324608 Twitter API returned a 429 (Too Many Requests), Rate limit exceeded\n",
      "lynn 1091350532080324608 Twitter API returned a 429 (Too Many Requests), Rate limit exceeded\n",
      "lynn 1091350532080324608 Twitter API returned a 429 (Too Many Requests), Rate limit exceeded\n"
     ]
    },
    {
     "data": {
      "application/vnd.jupyter.widget-view+json": {
       "model_id": "",
       "version_major": 2,
       "version_minor": 0
      },
      "text/plain": [
       "HBox(children=(IntProgress(value=0, max=14), HTML(value='')))"
      ]
     },
     "metadata": {},
     "output_type": "display_data"
    },
    {
     "data": {
      "application/vnd.jupyter.widget-view+json": {
       "model_id": "",
       "version_major": 2,
       "version_minor": 0
      },
      "text/plain": [
       "HBox(children=(IntProgress(value=0, max=21), HTML(value='')))"
      ]
     },
     "metadata": {},
     "output_type": "display_data"
    },
    {
     "name": "stdout",
     "output_type": "stream",
     "text": [
      "maisonmargiela 1129216825366065152 Twitter API returned a 404 (Not Found), No status found with that ID.\n"
     ]
    },
    {
     "data": {
      "application/vnd.jupyter.widget-view+json": {
       "model_id": "",
       "version_major": 2,
       "version_minor": 0
      },
      "text/plain": [
       "HBox(children=(IntProgress(value=0, max=12), HTML(value='')))"
      ]
     },
     "metadata": {},
     "output_type": "display_data"
    },
    {
     "data": {
      "application/vnd.jupyter.widget-view+json": {
       "model_id": "",
       "version_major": 2,
       "version_minor": 0
      },
      "text/plain": [
       "HBox(children=(IntProgress(value=0, max=15), HTML(value='')))"
      ]
     },
     "metadata": {},
     "output_type": "display_data"
    },
    {
     "data": {
      "application/vnd.jupyter.widget-view+json": {
       "model_id": "",
       "version_major": 2,
       "version_minor": 0
      },
      "text/plain": [
       "HBox(children=(IntProgress(value=0, max=42), HTML(value='')))"
      ]
     },
     "metadata": {},
     "output_type": "display_data"
    },
    {
     "name": "stdout",
     "output_type": "stream",
     "text": [
      "marcjacobs 1098363896266518529 Twitter API returned a 404 (Not Found), No status found with that ID.\n",
      "marcjacobs 1098853682303520769 Twitter API returned a 404 (Not Found), No status found with that ID.\n",
      "marcjacobs 1098368616083251201 Twitter API returned a 404 (Not Found), No status found with that ID.\n",
      "marcjacobs 1098832190480166913 Twitter API returned a 404 (Not Found), No status found with that ID.\n",
      "marcjacobs 1098169828173537280 Twitter API returned a 404 (Not Found), No status found with that ID.\n",
      "marcjacobs 1098816926099288069 Twitter API returned a 404 (Not Found), No status found with that ID.\n"
     ]
    },
    {
     "data": {
      "application/vnd.jupyter.widget-view+json": {
       "model_id": "",
       "version_major": 2,
       "version_minor": 0
      },
      "text/plain": [
       "HBox(children=(IntProgress(value=0, max=5), HTML(value='')))"
      ]
     },
     "metadata": {},
     "output_type": "display_data"
    },
    {
     "data": {
      "application/vnd.jupyter.widget-view+json": {
       "model_id": "",
       "version_major": 2,
       "version_minor": 0
      },
      "text/plain": [
       "HBox(children=(IntProgress(value=0, max=2), HTML(value='')))"
      ]
     },
     "metadata": {},
     "output_type": "display_data"
    },
    {
     "data": {
      "application/vnd.jupyter.widget-view+json": {
       "model_id": "",
       "version_major": 2,
       "version_minor": 0
      },
      "text/plain": [
       "HBox(children=(IntProgress(value=0, max=5), HTML(value='')))"
      ]
     },
     "metadata": {},
     "output_type": "display_data"
    },
    {
     "data": {
      "application/vnd.jupyter.widget-view+json": {
       "model_id": "",
       "version_major": 2,
       "version_minor": 0
      },
      "text/plain": [
       "HBox(children=(IntProgress(value=0, max=11), HTML(value='')))"
      ]
     },
     "metadata": {},
     "output_type": "display_data"
    },
    {
     "data": {
      "application/vnd.jupyter.widget-view+json": {
       "model_id": "",
       "version_major": 2,
       "version_minor": 0
      },
      "text/plain": [
       "HBox(children=(IntProgress(value=0, max=29), HTML(value='')))"
      ]
     },
     "metadata": {},
     "output_type": "display_data"
    },
    {
     "data": {
      "application/vnd.jupyter.widget-view+json": {
       "model_id": "",
       "version_major": 2,
       "version_minor": 0
      },
      "text/plain": [
       "HBox(children=(IntProgress(value=0, max=3), HTML(value='')))"
      ]
     },
     "metadata": {},
     "output_type": "display_data"
    },
    {
     "data": {
      "application/vnd.jupyter.widget-view+json": {
       "model_id": "",
       "version_major": 2,
       "version_minor": 0
      },
      "text/plain": [
       "HBox(children=(IntProgress(value=0, max=3), HTML(value='')))"
      ]
     },
     "metadata": {},
     "output_type": "display_data"
    },
    {
     "data": {
      "application/vnd.jupyter.widget-view+json": {
       "model_id": "",
       "version_major": 2,
       "version_minor": 0
      },
      "text/plain": [
       "HBox(children=(IntProgress(value=0, max=55), HTML(value='')))"
      ]
     },
     "metadata": {},
     "output_type": "display_data"
    },
    {
     "data": {
      "application/vnd.jupyter.widget-view+json": {
       "model_id": "",
       "version_major": 2,
       "version_minor": 0
      },
      "text/plain": [
       "HBox(children=(IntProgress(value=0, max=58), HTML(value='')))"
      ]
     },
     "metadata": {},
     "output_type": "display_data"
    },
    {
     "data": {
      "application/vnd.jupyter.widget-view+json": {
       "model_id": "",
       "version_major": 2,
       "version_minor": 0
      },
      "text/plain": [
       "HBox(children=(IntProgress(value=0, max=27), HTML(value='')))"
      ]
     },
     "metadata": {},
     "output_type": "display_data"
    },
    {
     "data": {
      "application/vnd.jupyter.widget-view+json": {
       "model_id": "",
       "version_major": 2,
       "version_minor": 0
      },
      "text/plain": [
       "HBox(children=(IntProgress(value=0, max=1), HTML(value='')))"
      ]
     },
     "metadata": {},
     "output_type": "display_data"
    },
    {
     "data": {
      "application/vnd.jupyter.widget-view+json": {
       "model_id": "",
       "version_major": 2,
       "version_minor": 0
      },
      "text/plain": [
       "HBox(children=(IntProgress(value=0, max=43), HTML(value='')))"
      ]
     },
     "metadata": {},
     "output_type": "display_data"
    },
    {
     "name": "stdout",
     "output_type": "stream",
     "text": [
      "miumiu 1139764346781720576 Twitter API returned a 403 (Forbidden), Sorry, you are not authorized to see this status.\n",
      "miumiu 1098554083219140608 Twitter API returned a 404 (Not Found), No status found with that ID.\n"
     ]
    },
    {
     "data": {
      "application/vnd.jupyter.widget-view+json": {
       "model_id": "",
       "version_major": 2,
       "version_minor": 0
      },
      "text/plain": [
       "HBox(children=(IntProgress(value=0, max=12), HTML(value='')))"
      ]
     },
     "metadata": {},
     "output_type": "display_data"
    },
    {
     "data": {
      "application/vnd.jupyter.widget-view+json": {
       "model_id": "",
       "version_major": 2,
       "version_minor": 0
      },
      "text/plain": [
       "HBox(children=(IntProgress(value=0, max=3), HTML(value='')))"
      ]
     },
     "metadata": {},
     "output_type": "display_data"
    },
    {
     "data": {
      "application/vnd.jupyter.widget-view+json": {
       "model_id": "",
       "version_major": 2,
       "version_minor": 0
      },
      "text/plain": [
       "HBox(children=(IntProgress(value=0, max=274), HTML(value='')))"
      ]
     },
     "metadata": {},
     "output_type": "display_data"
    },
    {
     "data": {
      "application/vnd.jupyter.widget-view+json": {
       "model_id": "",
       "version_major": 2,
       "version_minor": 0
      },
      "text/plain": [
       "HBox(children=(IntProgress(value=0, max=17), HTML(value='')))"
      ]
     },
     "metadata": {},
     "output_type": "display_data"
    },
    {
     "data": {
      "application/vnd.jupyter.widget-view+json": {
       "model_id": "",
       "version_major": 2,
       "version_minor": 0
      },
      "text/plain": [
       "HBox(children=(IntProgress(value=0, max=91), HTML(value='')))"
      ]
     },
     "metadata": {},
     "output_type": "display_data"
    },
    {
     "name": "stdout",
     "output_type": "stream",
     "text": [
      "montblanc 1098826412096516096 Twitter API returned a 404 (Not Found), No status found with that ID.\n"
     ]
    },
    {
     "data": {
      "application/vnd.jupyter.widget-view+json": {
       "model_id": "",
       "version_major": 2,
       "version_minor": 0
      },
      "text/plain": [
       "HBox(children=(IntProgress(value=0, max=28), HTML(value='')))"
      ]
     },
     "metadata": {},
     "output_type": "display_data"
    },
    {
     "data": {
      "application/vnd.jupyter.widget-view+json": {
       "model_id": "",
       "version_major": 2,
       "version_minor": 0
      },
      "text/plain": [
       "HBox(children=(IntProgress(value=0, max=113), HTML(value='')))"
      ]
     },
     "metadata": {},
     "output_type": "display_data"
    },
    {
     "name": "stdout",
     "output_type": "stream",
     "text": [
      "muji 1080774033723973633 Twitter API returned a 403 (Forbidden), Sorry, you are not authorized to see this status.\n",
      "muji 1105642727427866624 Twitter API returned a 429 (Too Many Requests), Rate limit exceeded\n",
      "muji 1105642727427866624 Twitter API returned a 429 (Too Many Requests), Rate limit exceeded\n",
      "muji 1105642727427866624 Twitter API returned a 429 (Too Many Requests), Rate limit exceeded\n",
      "muji 1105642727427866624 Twitter API returned a 429 (Too Many Requests), Rate limit exceeded\n"
     ]
    },
    {
     "data": {
      "application/vnd.jupyter.widget-view+json": {
       "model_id": "",
       "version_major": 2,
       "version_minor": 0
      },
      "text/plain": [
       "HBox(children=(IntProgress(value=0, max=6), HTML(value='')))"
      ]
     },
     "metadata": {},
     "output_type": "display_data"
    },
    {
     "data": {
      "application/vnd.jupyter.widget-view+json": {
       "model_id": "",
       "version_major": 2,
       "version_minor": 0
      },
      "text/plain": [
       "HBox(children=(IntProgress(value=0, max=1), HTML(value='')))"
      ]
     },
     "metadata": {},
     "output_type": "display_data"
    },
    {
     "data": {
      "application/vnd.jupyter.widget-view+json": {
       "model_id": "",
       "version_major": 2,
       "version_minor": 0
      },
      "text/plain": [
       "HBox(children=(IntProgress(value=0, max=2), HTML(value='')))"
      ]
     },
     "metadata": {},
     "output_type": "display_data"
    },
    {
     "data": {
      "application/vnd.jupyter.widget-view+json": {
       "model_id": "",
       "version_major": 2,
       "version_minor": 0
      },
      "text/plain": [
       "HBox(children=(IntProgress(value=0, max=28), HTML(value='')))"
      ]
     },
     "metadata": {},
     "output_type": "display_data"
    },
    {
     "data": {
      "application/vnd.jupyter.widget-view+json": {
       "model_id": "",
       "version_major": 2,
       "version_minor": 0
      },
      "text/plain": [
       "HBox(children=(IntProgress(value=0, max=15), HTML(value='')))"
      ]
     },
     "metadata": {},
     "output_type": "display_data"
    },
    {
     "data": {
      "application/vnd.jupyter.widget-view+json": {
       "model_id": "",
       "version_major": 2,
       "version_minor": 0
      },
      "text/plain": [
       "HBox(children=(IntProgress(value=0, max=51), HTML(value='')))"
      ]
     },
     "metadata": {},
     "output_type": "display_data"
    },
    {
     "name": "stdout",
     "output_type": "stream",
     "text": [
      "nepa 1123813374373052417 Twitter API returned a 404 (Not Found), No status found with that ID.\n"
     ]
    },
    {
     "data": {
      "application/vnd.jupyter.widget-view+json": {
       "model_id": "",
       "version_major": 2,
       "version_minor": 0
      },
      "text/plain": [
       "HBox(children=(IntProgress(value=0, max=195), HTML(value='')))"
      ]
     },
     "metadata": {},
     "output_type": "display_data"
    },
    {
     "name": "stdout",
     "output_type": "stream",
     "text": [
      "nerdy 1141322238085353478 Twitter API returned a 404 (Not Found), No status found with that ID.\n",
      "nerdy 1081358133971144704 Twitter API returned a 403 (Forbidden), Sorry, you are not authorized to see this status.\n",
      "nerdy 1141341937733009409 Twitter API returned a 404 (Not Found), No status found with that ID.\n",
      "nerdy 1080699744660279296 Twitter API returned a 403 (Forbidden), Sorry, you are not authorized to see this status.\n",
      "nerdy 1098574057014849536 Twitter API returned a 403 (Forbidden), Sorry, you are not authorized to see this status.\n",
      "nerdy 1082134600460058624 Twitter API returned a 403 (Forbidden), Sorry, you are not authorized to see this status.\n"
     ]
    },
    {
     "data": {
      "application/vnd.jupyter.widget-view+json": {
       "model_id": "",
       "version_major": 2,
       "version_minor": 0
      },
      "text/plain": [
       "HBox(children=(IntProgress(value=0, max=233), HTML(value='')))"
      ]
     },
     "metadata": {},
     "output_type": "display_data"
    },
    {
     "name": "stdout",
     "output_type": "stream",
     "text": [
      "newbalance 1139912400893726720 Twitter API returned a 404 (Not Found), Sorry, that page does not exist.\n",
      "newbalance 1098184003553656832 Twitter API returned a 404 (Not Found), No status found with that ID.\n"
     ]
    },
    {
     "data": {
      "application/vnd.jupyter.widget-view+json": {
       "model_id": "",
       "version_major": 2,
       "version_minor": 0
      },
      "text/plain": [
       "HBox(children=(IntProgress(value=0, max=55), HTML(value='')))"
      ]
     },
     "metadata": {},
     "output_type": "display_data"
    },
    {
     "data": {
      "application/vnd.jupyter.widget-view+json": {
       "model_id": "",
       "version_major": 2,
       "version_minor": 0
      },
      "text/plain": [
       "HBox(children=(IntProgress(value=0, max=1391), HTML(value='')))"
      ]
     },
     "metadata": {},
     "output_type": "display_data"
    },
    {
     "name": "stdout",
     "output_type": "stream",
     "text": [
      "nike 1081103672577159168 Twitter API returned a 404 (Not Found), No status found with that ID.\n",
      "nike 1098723922973929472 Twitter API returned a 404 (Not Found), No status found with that ID.\n",
      "nike 1140078425450807297 Twitter API returned a 403 (Forbidden), User has been suspended.\n",
      "nike 1098058646640939008 Twitter API returned a 404 (Not Found), No status found with that ID.\n",
      "nike 1098730101036933120 Twitter API returned a 404 (Not Found), No status found with that ID.\n",
      "nike 1090993582578720768 Twitter API returned a 429 (Too Many Requests), Rate limit exceeded\n",
      "nike 1090993582578720768 Twitter API returned a 429 (Too Many Requests), Rate limit exceeded\n",
      "nike 1090993582578720768 Twitter API returned a 429 (Too Many Requests), Rate limit exceeded\n",
      "nike 1090993582578720768 Twitter API returned a 429 (Too Many Requests), Rate limit exceeded\n",
      "nike 1140077524250005506 Twitter API returned a 403 (Forbidden), User has been suspended.\n",
      "nike 1120103685671964673 Twitter API returned a 404 (Not Found), No status found with that ID.\n",
      "nike 1098165675736981504 Twitter API returned a 404 (Not Found), No status found with that ID.\n",
      "nike 1098731535908237313 Twitter API returned a 404 (Not Found), No status found with that ID.\n",
      "nike 1104629311569575936 Twitter API returned a 403 (Forbidden), User has been suspended.\n",
      "nike 1098816926099288069 Twitter API returned a 404 (Not Found), No status found with that ID.\n",
      "nike 1137337555068657664 Twitter API returned a 404 (Not Found), No status found with that ID.\n",
      "nike 1095590378386817024 Twitter API returned a 429 (Too Many Requests), Rate limit exceeded\n",
      "nike 1095590378386817024 Twitter API returned a 429 (Too Many Requests), Rate limit exceeded\n",
      "nike 1095590378386817024 Twitter API returned a 429 (Too Many Requests), Rate limit exceeded\n",
      "nike 1095590378386817024 Twitter API returned a 429 (Too Many Requests), Rate limit exceeded\n",
      "nike 1098223831414534146 Twitter API returned a 404 (Not Found), No status found with that ID.\n"
     ]
    },
    {
     "data": {
      "application/vnd.jupyter.widget-view+json": {
       "model_id": "",
       "version_major": 2,
       "version_minor": 0
      },
      "text/plain": [
       "HBox(children=(IntProgress(value=0, max=101), HTML(value='')))"
      ]
     },
     "metadata": {},
     "output_type": "display_data"
    },
    {
     "name": "stdout",
     "output_type": "stream",
     "text": [
      "noah 1129158754388201472 Twitter API returned a 404 (Not Found), No status found with that ID.\n",
      "noah 1101558084541939712 Twitter API returned a 404 (Not Found), Sorry, that page does not exist.\n"
     ]
    },
    {
     "data": {
      "application/vnd.jupyter.widget-view+json": {
       "model_id": "",
       "version_major": 2,
       "version_minor": 0
      },
      "text/plain": [
       "HBox(children=(IntProgress(value=0, max=14), HTML(value='')))"
      ]
     },
     "metadata": {},
     "output_type": "display_data"
    },
    {
     "data": {
      "application/vnd.jupyter.widget-view+json": {
       "model_id": "",
       "version_major": 2,
       "version_minor": 0
      },
      "text/plain": [
       "HBox(children=(IntProgress(value=0, max=19), HTML(value='')))"
      ]
     },
     "metadata": {},
     "output_type": "display_data"
    },
    {
     "data": {
      "application/vnd.jupyter.widget-view+json": {
       "model_id": "",
       "version_major": 2,
       "version_minor": 0
      },
      "text/plain": [
       "HBox(children=(IntProgress(value=0, max=1), HTML(value='')))"
      ]
     },
     "metadata": {},
     "output_type": "display_data"
    },
    {
     "data": {
      "application/vnd.jupyter.widget-view+json": {
       "model_id": "",
       "version_major": 2,
       "version_minor": 0
      },
      "text/plain": [
       "HBox(children=(IntProgress(value=0, max=161), HTML(value='')))"
      ]
     },
     "metadata": {},
     "output_type": "display_data"
    },
    {
     "name": "stdout",
     "output_type": "stream",
     "text": [
      "offwhite 1131880201422401536 Twitter API returned a 404 (Not Found), No status found with that ID.\n",
      "offwhite 1081103672577159168 Twitter API returned a 404 (Not Found), No status found with that ID.\n",
      "offwhite 1131889109906051073 Twitter API returned a 404 (Not Found), No status found with that ID.\n",
      "offwhite 1131888995539931137 Twitter API returned a 404 (Not Found), No status found with that ID.\n",
      "offwhite 1131881272228188160 Twitter API returned a 404 (Not Found), No status found with that ID.\n",
      "offwhite 1131889055031894017 Twitter API returned a 404 (Not Found), No status found with that ID.\n",
      "offwhite 1131879707673186305 Twitter API returned a 404 (Not Found), No status found with that ID.\n"
     ]
    },
    {
     "data": {
      "application/vnd.jupyter.widget-view+json": {
       "model_id": "",
       "version_major": 2,
       "version_minor": 0
      },
      "text/plain": [
       "HBox(children=(IntProgress(value=0, max=45), HTML(value='')))"
      ]
     },
     "metadata": {},
     "output_type": "display_data"
    },
    {
     "data": {
      "application/vnd.jupyter.widget-view+json": {
       "model_id": "",
       "version_major": 2,
       "version_minor": 0
      },
      "text/plain": [
       "HBox(children=(IntProgress(value=0, max=5), HTML(value='')))"
      ]
     },
     "metadata": {},
     "output_type": "display_data"
    },
    {
     "data": {
      "application/vnd.jupyter.widget-view+json": {
       "model_id": "",
       "version_major": 2,
       "version_minor": 0
      },
      "text/plain": [
       "HBox(children=(IntProgress(value=0, max=17), HTML(value='')))"
      ]
     },
     "metadata": {},
     "output_type": "display_data"
    },
    {
     "data": {
      "application/vnd.jupyter.widget-view+json": {
       "model_id": "",
       "version_major": 2,
       "version_minor": 0
      },
      "text/plain": [
       "HBox(children=(IntProgress(value=0, max=2), HTML(value='')))"
      ]
     },
     "metadata": {},
     "output_type": "display_data"
    },
    {
     "data": {
      "application/vnd.jupyter.widget-view+json": {
       "model_id": "",
       "version_major": 2,
       "version_minor": 0
      },
      "text/plain": [
       "HBox(children=(IntProgress(value=0, max=28), HTML(value='')))"
      ]
     },
     "metadata": {},
     "output_type": "display_data"
    },
    {
     "data": {
      "application/vnd.jupyter.widget-view+json": {
       "model_id": "",
       "version_major": 2,
       "version_minor": 0
      },
      "text/plain": [
       "HBox(children=(IntProgress(value=0, max=42), HTML(value='')))"
      ]
     },
     "metadata": {},
     "output_type": "display_data"
    },
    {
     "data": {
      "application/vnd.jupyter.widget-view+json": {
       "model_id": "",
       "version_major": 2,
       "version_minor": 0
      },
      "text/plain": [
       "HBox(children=(IntProgress(value=0, max=37), HTML(value='')))"
      ]
     },
     "metadata": {},
     "output_type": "display_data"
    },
    {
     "data": {
      "application/vnd.jupyter.widget-view+json": {
       "model_id": "",
       "version_major": 2,
       "version_minor": 0
      },
      "text/plain": [
       "HBox(children=(IntProgress(value=0, max=24), HTML(value='')))"
      ]
     },
     "metadata": {},
     "output_type": "display_data"
    },
    {
     "data": {
      "application/vnd.jupyter.widget-view+json": {
       "model_id": "",
       "version_major": 2,
       "version_minor": 0
      },
      "text/plain": [
       "HBox(children=(IntProgress(value=0, max=74), HTML(value='')))"
      ]
     },
     "metadata": {},
     "output_type": "display_data"
    },
    {
     "name": "stdout",
     "output_type": "stream",
     "text": [
      "paulsmith 1136210310585434112 Twitter API returned a 404 (Not Found), No status found with that ID.\n",
      "paulsmith 1136207006820290560 Twitter API returned a 404 (Not Found), No status found with that ID.\n",
      "paulsmith 1136207787434733568 Twitter API returned a 404 (Not Found), No status found with that ID.\n",
      "paulsmith 1136211782987464704 Twitter API returned a 404 (Not Found), No status found with that ID.\n",
      "paulsmith 1136212353664503808 Twitter API returned a 404 (Not Found), No status found with that ID.\n",
      "paulsmith 1136206459933298688 Twitter API returned a 404 (Not Found), No status found with that ID.\n",
      "paulsmith 1136207522358894596 Twitter API returned a 404 (Not Found), No status found with that ID.\n",
      "paulsmith 1136211042726318080 Twitter API returned a 404 (Not Found), No status found with that ID.\n"
     ]
    },
    {
     "data": {
      "application/vnd.jupyter.widget-view+json": {
       "model_id": "",
       "version_major": 2,
       "version_minor": 0
      },
      "text/plain": [
       "HBox(children=(IntProgress(value=0, max=151), HTML(value='')))"
      ]
     },
     "metadata": {},
     "output_type": "display_data"
    },
    {
     "name": "stdout",
     "output_type": "stream",
     "text": [
      "peaceminusone 1121379882691223553 Twitter API returned a 404 (Not Found), No status found with that ID.\n",
      "peaceminusone 1117724560877469696 Twitter API returned a 429 (Too Many Requests), Rate limit exceeded\n",
      "peaceminusone 1117724560877469696 Twitter API returned a 429 (Too Many Requests), Rate limit exceeded\n",
      "peaceminusone 1117724560877469696 Twitter API returned a 429 (Too Many Requests), Rate limit exceeded\n",
      "peaceminusone 1117724560877469696 Twitter API returned a 429 (Too Many Requests), Rate limit exceeded\n"
     ]
    },
    {
     "data": {
      "application/vnd.jupyter.widget-view+json": {
       "model_id": "",
       "version_major": 2,
       "version_minor": 0
      },
      "text/plain": [
       "HBox(children=(IntProgress(value=0, max=13), HTML(value='')))"
      ]
     },
     "metadata": {},
     "output_type": "display_data"
    },
    {
     "data": {
      "application/vnd.jupyter.widget-view+json": {
       "model_id": "",
       "version_major": 2,
       "version_minor": 0
      },
      "text/plain": [
       "HBox(children=(IntProgress(value=0, max=34), HTML(value='')))"
      ]
     },
     "metadata": {},
     "output_type": "display_data"
    },
    {
     "data": {
      "application/vnd.jupyter.widget-view+json": {
       "model_id": "",
       "version_major": 2,
       "version_minor": 0
      },
      "text/plain": [
       "HBox(children=(IntProgress(value=0, max=5), HTML(value='')))"
      ]
     },
     "metadata": {},
     "output_type": "display_data"
    },
    {
     "data": {
      "application/vnd.jupyter.widget-view+json": {
       "model_id": "",
       "version_major": 2,
       "version_minor": 0
      },
      "text/plain": [
       "HBox(children=(IntProgress(value=0, max=68), HTML(value='')))"
      ]
     },
     "metadata": {},
     "output_type": "display_data"
    },
    {
     "data": {
      "application/vnd.jupyter.widget-view+json": {
       "model_id": "",
       "version_major": 2,
       "version_minor": 0
      },
      "text/plain": [
       "HBox(children=(IntProgress(value=0, max=11), HTML(value='')))"
      ]
     },
     "metadata": {},
     "output_type": "display_data"
    },
    {
     "data": {
      "application/vnd.jupyter.widget-view+json": {
       "model_id": "",
       "version_major": 2,
       "version_minor": 0
      },
      "text/plain": [
       "HBox(children=(IntProgress(value=0, max=221), HTML(value='')))"
      ]
     },
     "metadata": {},
     "output_type": "display_data"
    },
    {
     "name": "stdout",
     "output_type": "stream",
     "text": [
      "prada 1115964694618157057 Twitter API returned a 403 (Forbidden), Sorry, you are not authorized to see this status.\n"
     ]
    },
    {
     "data": {
      "application/vnd.jupyter.widget-view+json": {
       "model_id": "",
       "version_major": 2,
       "version_minor": 0
      },
      "text/plain": [
       "HBox(children=(IntProgress(value=0, max=50), HTML(value='')))"
      ]
     },
     "metadata": {},
     "output_type": "display_data"
    },
    {
     "data": {
      "application/vnd.jupyter.widget-view+json": {
       "model_id": "",
       "version_major": 2,
       "version_minor": 0
      },
      "text/plain": [
       "HBox(children=(IntProgress(value=0, max=282), HTML(value='')))"
      ]
     },
     "metadata": {},
     "output_type": "display_data"
    },
    {
     "data": {
      "application/vnd.jupyter.widget-view+json": {
       "model_id": "",
       "version_major": 2,
       "version_minor": 0
      },
      "text/plain": [
       "HBox(children=(IntProgress(value=0, max=7), HTML(value='')))"
      ]
     },
     "metadata": {},
     "output_type": "display_data"
    },
    {
     "data": {
      "application/vnd.jupyter.widget-view+json": {
       "model_id": "",
       "version_major": 2,
       "version_minor": 0
      },
      "text/plain": [
       "HBox(children=(IntProgress(value=0, max=1), HTML(value='')))"
      ]
     },
     "metadata": {},
     "output_type": "display_data"
    },
    {
     "data": {
      "application/vnd.jupyter.widget-view+json": {
       "model_id": "",
       "version_major": 2,
       "version_minor": 0
      },
      "text/plain": [
       "HBox(children=(IntProgress(value=0, max=5), HTML(value='')))"
      ]
     },
     "metadata": {},
     "output_type": "display_data"
    },
    {
     "data": {
      "application/vnd.jupyter.widget-view+json": {
       "model_id": "",
       "version_major": 2,
       "version_minor": 0
      },
      "text/plain": [
       "HBox(children=(IntProgress(value=0, max=449), HTML(value='')))"
      ]
     },
     "metadata": {},
     "output_type": "display_data"
    },
    {
     "name": "stdout",
     "output_type": "stream",
     "text": [
      "readymade 1096047430783533057 Twitter API returned a 403 (Forbidden), Sorry, you are not authorized to see this status.\n",
      "readymade 1099622273684668418 Twitter API returned a 403 (Forbidden), Sorry, you are not authorized to see this status.\n",
      "readymade 1114781606399492096 Twitter API returned a 404 (Not Found), No status found with that ID.\n",
      "readymade 1113389047450263552 Twitter API returned a 404 (Not Found), No status found with that ID.\n",
      "readymade 1096045950336815105 Twitter API returned a 403 (Forbidden), Sorry, you are not authorized to see this status.\n",
      "readymade 1099636734537523201 Twitter API returned a 403 (Forbidden), Sorry, you are not authorized to see this status.\n",
      "readymade 1107658455962120192 Twitter API returned a 429 (Too Many Requests), Rate limit exceeded\n",
      "readymade 1107658455962120192 Twitter API returned a 429 (Too Many Requests), Rate limit exceeded\n",
      "readymade 1107658455962120192 Twitter API returned a 429 (Too Many Requests), Rate limit exceeded\n",
      "readymade 1107658455962120192 Twitter API returned a 429 (Too Many Requests), Rate limit exceeded\n",
      "readymade 1096749598490554374 Twitter API returned a 403 (Forbidden), Sorry, you are not authorized to see this status.\n",
      "readymade 1106831570181083136 Twitter API returned a 404 (Not Found), No status found with that ID.\n",
      "readymade 1113414414554660865 Twitter API returned a 404 (Not Found), No status found with that ID.\n",
      "readymade 1105826156694200323 Twitter API returned a 404 (Not Found), No status found with that ID.\n",
      "readymade 1112208328644415490 Twitter API returned a 403 (Forbidden), Sorry, you are not authorized to see this status.\n",
      "readymade 1096047659406614529 Twitter API returned a 403 (Forbidden), Sorry, you are not authorized to see this status.\n",
      "readymade 1113057220499988480 Twitter API returned a 404 (Not Found), No status found with that ID.\n",
      "readymade 1096045271933280257 Twitter API returned a 403 (Forbidden), Sorry, you are not authorized to see this status.\n",
      "readymade 1096045440942800897 Twitter API returned a 403 (Forbidden), Sorry, you are not authorized to see this status.\n",
      "readymade 1096047230824341504 Twitter API returned a 403 (Forbidden), Sorry, you are not authorized to see this status.\n",
      "readymade 1113404851520569344 Twitter API returned a 404 (Not Found), No status found with that ID.\n",
      "readymade 1096046184118898688 Twitter API returned a 403 (Forbidden), Sorry, you are not authorized to see this status.\n",
      "readymade 1096690800203689984 Twitter API returned a 403 (Forbidden), Sorry, you are not authorized to see this status.\n",
      "readymade 1115220512001519616 Twitter API returned a 404 (Not Found), No status found with that ID.\n",
      "readymade 1115592535882125312 Twitter API returned a 404 (Not Found), No status found with that ID.\n",
      "readymade 1096044913299382273 Twitter API returned a 403 (Forbidden), Sorry, you are not authorized to see this status.\n",
      "readymade 1105764474508709889 Twitter API returned a 404 (Not Found), No status found with that ID.\n",
      "readymade 1114819970641190913 Twitter API returned a 404 (Not Found), No status found with that ID.\n"
     ]
    },
    {
     "data": {
      "application/vnd.jupyter.widget-view+json": {
       "model_id": "",
       "version_major": 2,
       "version_minor": 0
      },
      "text/plain": [
       "HBox(children=(IntProgress(value=0, max=192), HTML(value='')))"
      ]
     },
     "metadata": {},
     "output_type": "display_data"
    },
    {
     "name": "stdout",
     "output_type": "stream",
     "text": [
      "reebok 1098741036942209024 Twitter API returned a 404 (Not Found), No status found with that ID.\n",
      "reebok 1132150297885675520 Twitter API returned a 404 (Not Found), Sorry, that page does not exist.\n",
      "reebok 1097808944402026499 Twitter API returned a 404 (Not Found), No status found with that ID.\n"
     ]
    },
    {
     "data": {
      "application/vnd.jupyter.widget-view+json": {
       "model_id": "",
       "version_major": 2,
       "version_minor": 0
      },
      "text/plain": [
       "HBox(children=(IntProgress(value=0, max=4), HTML(value='')))"
      ]
     },
     "metadata": {},
     "output_type": "display_data"
    },
    {
     "data": {
      "application/vnd.jupyter.widget-view+json": {
       "model_id": "",
       "version_major": 2,
       "version_minor": 0
      },
      "text/plain": [
       "HBox(children=(IntProgress(value=0, max=5), HTML(value='')))"
      ]
     },
     "metadata": {},
     "output_type": "display_data"
    },
    {
     "data": {
      "application/vnd.jupyter.widget-view+json": {
       "model_id": "",
       "version_major": 2,
       "version_minor": 0
      },
      "text/plain": [
       "HBox(children=(IntProgress(value=0, max=11), HTML(value='')))"
      ]
     },
     "metadata": {},
     "output_type": "display_data"
    },
    {
     "name": "stdout",
     "output_type": "stream",
     "text": [
      "rimowa 1120609451327705088 Twitter API returned a 404 (Not Found), No status found with that ID.\n"
     ]
    },
    {
     "data": {
      "application/vnd.jupyter.widget-view+json": {
       "model_id": "",
       "version_major": 2,
       "version_minor": 0
      },
      "text/plain": [
       "HBox(children=(IntProgress(value=0, max=62), HTML(value='')))"
      ]
     },
     "metadata": {},
     "output_type": "display_data"
    },
    {
     "data": {
      "application/vnd.jupyter.widget-view+json": {
       "model_id": "",
       "version_major": 2,
       "version_minor": 0
      },
      "text/plain": [
       "HBox(children=(IntProgress(value=0, max=118), HTML(value='')))"
      ]
     },
     "metadata": {},
     "output_type": "display_data"
    },
    {
     "data": {
      "application/vnd.jupyter.widget-view+json": {
       "model_id": "",
       "version_major": 2,
       "version_minor": 0
      },
      "text/plain": [
       "HBox(children=(IntProgress(value=0, max=4), HTML(value='')))"
      ]
     },
     "metadata": {},
     "output_type": "display_data"
    },
    {
     "data": {
      "application/vnd.jupyter.widget-view+json": {
       "model_id": "",
       "version_major": 2,
       "version_minor": 0
      },
      "text/plain": [
       "HBox(children=(IntProgress(value=0, max=53), HTML(value='')))"
      ]
     },
     "metadata": {},
     "output_type": "display_data"
    },
    {
     "name": "stdout",
     "output_type": "stream",
     "text": [
      "samsonite 1082553885321945088 Twitter API returned a 403 (Forbidden), User has been suspended.\n"
     ]
    },
    {
     "data": {
      "application/vnd.jupyter.widget-view+json": {
       "model_id": "",
       "version_major": 2,
       "version_minor": 0
      },
      "text/plain": [
       "HBox(children=(IntProgress(value=0, max=10), HTML(value='')))"
      ]
     },
     "metadata": {},
     "output_type": "display_data"
    },
    {
     "data": {
      "application/vnd.jupyter.widget-view+json": {
       "model_id": "",
       "version_major": 2,
       "version_minor": 0
      },
      "text/plain": [
       "HBox(children=(IntProgress(value=0, max=171), HTML(value='')))"
      ]
     },
     "metadata": {},
     "output_type": "display_data"
    },
    {
     "name": "stdout",
     "output_type": "stream",
     "text": [
      "series 1129250339910066176 Twitter API returned a 403 (Forbidden), User has been suspended.\n",
      "series 1113600379961221120 Twitter API returned a 403 (Forbidden), User has been suspended.\n",
      "series 1124444218485817344 Twitter API returned a 429 (Too Many Requests), Rate limit exceeded\n",
      "series 1124444218485817344 Twitter API returned a 429 (Too Many Requests), Rate limit exceeded\n",
      "series 1124444218485817344 Twitter API returned a 429 (Too Many Requests), Rate limit exceeded\n",
      "series 1135093021144305664 Twitter API returned a 404 (Not Found), No status found with that ID.\n",
      "series 1116143039808819207 Twitter API returned a 403 (Forbidden), User has been suspended.\n"
     ]
    },
    {
     "data": {
      "application/vnd.jupyter.widget-view+json": {
       "model_id": "",
       "version_major": 2,
       "version_minor": 0
      },
      "text/plain": [
       "HBox(children=(IntProgress(value=0, max=12), HTML(value='')))"
      ]
     },
     "metadata": {},
     "output_type": "display_data"
    },
    {
     "data": {
      "application/vnd.jupyter.widget-view+json": {
       "model_id": "",
       "version_major": 2,
       "version_minor": 0
      },
      "text/plain": [
       "HBox(children=(IntProgress(value=0, max=19), HTML(value='')))"
      ]
     },
     "metadata": {},
     "output_type": "display_data"
    },
    {
     "data": {
      "application/vnd.jupyter.widget-view+json": {
       "model_id": "",
       "version_major": 2,
       "version_minor": 0
      },
      "text/plain": [
       "HBox(children=(IntProgress(value=0, max=1), HTML(value='')))"
      ]
     },
     "metadata": {},
     "output_type": "display_data"
    },
    {
     "data": {
      "application/vnd.jupyter.widget-view+json": {
       "model_id": "",
       "version_major": 2,
       "version_minor": 0
      },
      "text/plain": [
       "HBox(children=(IntProgress(value=0, max=2), HTML(value='')))"
      ]
     },
     "metadata": {},
     "output_type": "display_data"
    },
    {
     "data": {
      "application/vnd.jupyter.widget-view+json": {
       "model_id": "",
       "version_major": 2,
       "version_minor": 0
      },
      "text/plain": [
       "HBox(children=(IntProgress(value=0, max=87), HTML(value='')))"
      ]
     },
     "metadata": {},
     "output_type": "display_data"
    },
    {
     "data": {
      "application/vnd.jupyter.widget-view+json": {
       "model_id": "",
       "version_major": 2,
       "version_minor": 0
      },
      "text/plain": [
       "HBox(children=(IntProgress(value=0, max=2), HTML(value='')))"
      ]
     },
     "metadata": {},
     "output_type": "display_data"
    },
    {
     "data": {
      "application/vnd.jupyter.widget-view+json": {
       "model_id": "",
       "version_major": 2,
       "version_minor": 0
      },
      "text/plain": [
       "HBox(children=(IntProgress(value=0, max=22), HTML(value='')))"
      ]
     },
     "metadata": {},
     "output_type": "display_data"
    },
    {
     "data": {
      "application/vnd.jupyter.widget-view+json": {
       "model_id": "",
       "version_major": 2,
       "version_minor": 0
      },
      "text/plain": [
       "HBox(children=(IntProgress(value=0, max=19), HTML(value='')))"
      ]
     },
     "metadata": {},
     "output_type": "display_data"
    },
    {
     "data": {
      "application/vnd.jupyter.widget-view+json": {
       "model_id": "",
       "version_major": 2,
       "version_minor": 0
      },
      "text/plain": [
       "HBox(children=(IntProgress(value=0, max=29), HTML(value='')))"
      ]
     },
     "metadata": {},
     "output_type": "display_data"
    },
    {
     "name": "stdout",
     "output_type": "stream",
     "text": [
      "stussy 1097802347810443264 Twitter API returned a 404 (Not Found), No status found with that ID.\n"
     ]
    },
    {
     "data": {
      "application/vnd.jupyter.widget-view+json": {
       "model_id": "",
       "version_major": 2,
       "version_minor": 0
      },
      "text/plain": [
       "HBox(children=(IntProgress(value=0, max=35), HTML(value='')))"
      ]
     },
     "metadata": {},
     "output_type": "display_data"
    },
    {
     "data": {
      "application/vnd.jupyter.widget-view+json": {
       "model_id": "",
       "version_major": 2,
       "version_minor": 0
      },
      "text/plain": [
       "HBox(children=(IntProgress(value=0, max=1), HTML(value='')))"
      ]
     },
     "metadata": {},
     "output_type": "display_data"
    },
    {
     "data": {
      "application/vnd.jupyter.widget-view+json": {
       "model_id": "",
       "version_major": 2,
       "version_minor": 0
      },
      "text/plain": [
       "HBox(children=(IntProgress(value=0, max=11), HTML(value='')))"
      ]
     },
     "metadata": {},
     "output_type": "display_data"
    },
    {
     "name": "stdout",
     "output_type": "stream",
     "text": [
      "superga 1086497758712741890 Twitter API returned a 403 (Forbidden), Sorry, you are not authorized to see this status.\n",
      "superga 1103462389029064704 Twitter API returned a 403 (Forbidden), Sorry, you are not authorized to see this status.\n"
     ]
    },
    {
     "data": {
      "application/vnd.jupyter.widget-view+json": {
       "model_id": "",
       "version_major": 2,
       "version_minor": 0
      },
      "text/plain": [
       "HBox(children=(IntProgress(value=0, max=109), HTML(value='')))"
      ]
     },
     "metadata": {},
     "output_type": "display_data"
    },
    {
     "name": "stdout",
     "output_type": "stream",
     "text": [
      "supreme 1098368976311074817 Twitter API returned a 404 (Not Found), No status found with that ID.\n",
      "supreme 1097097518616174595 Twitter API returned a 404 (Not Found), No status found with that ID.\n",
      "supreme 1098730101036933120 Twitter API returned a 404 (Not Found), No status found with that ID.\n",
      "supreme 1098741036942209024 Twitter API returned a 404 (Not Found), No status found with that ID.\n",
      "supreme 1098856237049864192 Twitter API returned a 404 (Not Found), No status found with that ID.\n",
      "supreme 1097808944402026499 Twitter API returned a 404 (Not Found), No status found with that ID.\n",
      "supreme 1098846487025311745 Twitter API returned a 404 (Not Found), No status found with that ID.\n",
      "supreme 1098167625224318977 Twitter API returned a 404 (Not Found), No status found with that ID.\n",
      "supreme 1098166960401969152 Twitter API returned a 404 (Not Found), No status found with that ID.\n",
      "supreme 1098166391473991681 Twitter API returned a 404 (Not Found), No status found with that ID.\n",
      "supreme 1097802347810443264 Twitter API returned a 404 (Not Found), No status found with that ID.\n",
      "supreme 1098560464957501440 Twitter API returned a 404 (Not Found), No status found with that ID.\n",
      "supreme 1098738605810315264 Twitter API returned a 404 (Not Found), No status found with that ID.\n",
      "supreme 1098830537731432448 Twitter API returned a 404 (Not Found), No status found with that ID.\n"
     ]
    },
    {
     "data": {
      "application/vnd.jupyter.widget-view+json": {
       "model_id": "",
       "version_major": 2,
       "version_minor": 0
      },
      "text/plain": [
       "HBox(children=(IntProgress(value=0, max=1600), HTML(value='')))"
      ]
     },
     "metadata": {},
     "output_type": "display_data"
    },
    {
     "name": "stdout",
     "output_type": "stream",
     "text": [
      "system 1134706584523665408 Twitter API returned a 403 (Forbidden), Sorry, you are not authorized to see this status.\n",
      "system 1130825706831671296 Twitter API returned a 429 (Too Many Requests), Rate limit exceeded\n",
      "system 1130825706831671296 Twitter API returned a 429 (Too Many Requests), Rate limit exceeded\n",
      "system 1130825706831671296 Twitter API returned a 429 (Too Many Requests), Rate limit exceeded\n",
      "system 1130825706831671296 Twitter API returned a 429 (Too Many Requests), Rate limit exceeded\n",
      "system 1134706441619615744 Twitter API returned a 403 (Forbidden), Sorry, you are not authorized to see this status.\n",
      "system 1114676762724536320 Twitter API returned a 429 (Too Many Requests), Rate limit exceeded\n",
      "system 1114676762724536320 Twitter API returned a 429 (Too Many Requests), Rate limit exceeded\n",
      "system 1114676762724536320 Twitter API returned a 429 (Too Many Requests), Rate limit exceeded\n",
      "system 1114676762724536320 Twitter API returned a 429 (Too Many Requests), Rate limit exceeded\n",
      "system 1134706790476607489 Twitter API returned a 403 (Forbidden), Sorry, you are not authorized to see this status.\n"
     ]
    },
    {
     "data": {
      "application/vnd.jupyter.widget-view+json": {
       "model_id": "",
       "version_major": 2,
       "version_minor": 0
      },
      "text/plain": [
       "HBox(children=(IntProgress(value=0, max=27), HTML(value='')))"
      ]
     },
     "metadata": {},
     "output_type": "display_data"
    },
    {
     "data": {
      "application/vnd.jupyter.widget-view+json": {
       "model_id": "",
       "version_major": 2,
       "version_minor": 0
      },
      "text/plain": [
       "HBox(children=(IntProgress(value=0, max=2), HTML(value='')))"
      ]
     },
     "metadata": {},
     "output_type": "display_data"
    },
    {
     "data": {
      "application/vnd.jupyter.widget-view+json": {
       "model_id": "",
       "version_major": 2,
       "version_minor": 0
      },
      "text/plain": [
       "HBox(children=(IntProgress(value=0, max=59), HTML(value='')))"
      ]
     },
     "metadata": {},
     "output_type": "display_data"
    },
    {
     "name": "stdout",
     "output_type": "stream",
     "text": [
      "thenorthface 1098224772515655680 Twitter API returned a 404 (Not Found), No status found with that ID.\n"
     ]
    },
    {
     "data": {
      "application/vnd.jupyter.widget-view+json": {
       "model_id": "",
       "version_major": 2,
       "version_minor": 0
      },
      "text/plain": [
       "HBox(children=(IntProgress(value=0, max=17), HTML(value='')))"
      ]
     },
     "metadata": {},
     "output_type": "display_data"
    },
    {
     "data": {
      "application/vnd.jupyter.widget-view+json": {
       "model_id": "",
       "version_major": 2,
       "version_minor": 0
      },
      "text/plain": [
       "HBox(children=(IntProgress(value=0, max=5), HTML(value='')))"
      ]
     },
     "metadata": {},
     "output_type": "display_data"
    },
    {
     "data": {
      "application/vnd.jupyter.widget-view+json": {
       "model_id": "",
       "version_major": 2,
       "version_minor": 0
      },
      "text/plain": [
       "HBox(children=(IntProgress(value=0, max=97), HTML(value='')))"
      ]
     },
     "metadata": {},
     "output_type": "display_data"
    },
    {
     "data": {
      "application/vnd.jupyter.widget-view+json": {
       "model_id": "",
       "version_major": 2,
       "version_minor": 0
      },
      "text/plain": [
       "HBox(children=(IntProgress(value=0, max=1), HTML(value='')))"
      ]
     },
     "metadata": {},
     "output_type": "display_data"
    },
    {
     "data": {
      "application/vnd.jupyter.widget-view+json": {
       "model_id": "",
       "version_major": 2,
       "version_minor": 0
      },
      "text/plain": [
       "HBox(children=(IntProgress(value=0, max=2), HTML(value='')))"
      ]
     },
     "metadata": {},
     "output_type": "display_data"
    },
    {
     "data": {
      "application/vnd.jupyter.widget-view+json": {
       "model_id": "",
       "version_major": 2,
       "version_minor": 0
      },
      "text/plain": [
       "HBox(children=(IntProgress(value=0, max=109), HTML(value='')))"
      ]
     },
     "metadata": {},
     "output_type": "display_data"
    },
    {
     "data": {
      "application/vnd.jupyter.widget-view+json": {
       "model_id": "",
       "version_major": 2,
       "version_minor": 0
      },
      "text/plain": [
       "HBox(children=(IntProgress(value=0, max=85), HTML(value='')))"
      ]
     },
     "metadata": {},
     "output_type": "display_data"
    },
    {
     "name": "stdout",
     "output_type": "stream",
     "text": [
      "tods 1131525497806942208 Twitter API returned a 404 (Not Found), No status found with that ID.\n",
      "tods 1131526831100686339 Twitter API returned a 404 (Not Found), No status found with that ID.\n",
      "tods 1131525902460805122 Twitter API returned a 404 (Not Found), No status found with that ID.\n",
      "tods 1131524667729072130 Twitter API returned a 404 (Not Found), No status found with that ID.\n",
      "tods 1131525077831340033 Twitter API returned a 404 (Not Found), No status found with that ID.\n"
     ]
    },
    {
     "data": {
      "application/vnd.jupyter.widget-view+json": {
       "model_id": "",
       "version_major": 2,
       "version_minor": 0
      },
      "text/plain": [
       "HBox(children=(IntProgress(value=0, max=14), HTML(value='')))"
      ]
     },
     "metadata": {},
     "output_type": "display_data"
    },
    {
     "data": {
      "application/vnd.jupyter.widget-view+json": {
       "model_id": "",
       "version_major": 2,
       "version_minor": 0
      },
      "text/plain": [
       "HBox(children=(IntProgress(value=0, max=23), HTML(value='')))"
      ]
     },
     "metadata": {},
     "output_type": "display_data"
    },
    {
     "data": {
      "application/vnd.jupyter.widget-view+json": {
       "model_id": "",
       "version_major": 2,
       "version_minor": 0
      },
      "text/plain": [
       "HBox(children=(IntProgress(value=0, max=356), HTML(value='')))"
      ]
     },
     "metadata": {},
     "output_type": "display_data"
    },
    {
     "name": "stdout",
     "output_type": "stream",
     "text": [
      "tommyhilfiger 1111576662767034368 Twitter API returned a 403 (Forbidden), Sorry, you are not authorized to see this status.\n",
      "tommyhilfiger 1112611058060009472 Twitter API returned a 403 (Forbidden), Sorry, you are not authorized to see this status.\n",
      "tommyhilfiger 1109376830656659456 Twitter API returned a 403 (Forbidden), Sorry, you are not authorized to see this status.\n",
      "tommyhilfiger 1112379621729845248 Twitter API returned a 403 (Forbidden), Sorry, you are not authorized to see this status.\n",
      "tommyhilfiger 1122033435613253632 Twitter API returned a 403 (Forbidden), Sorry, you are not authorized to see this status.\n",
      "tommyhilfiger 1115148690329677824 Twitter API returned a 403 (Forbidden), Sorry, you are not authorized to see this status.\n",
      "tommyhilfiger 1122033439337787392 Twitter API returned a 403 (Forbidden), Sorry, you are not authorized to see this status.\n",
      "tommyhilfiger 1110159984715853829 Twitter API returned a 403 (Forbidden), Sorry, you are not authorized to see this status.\n",
      "tommyhilfiger 1110898321093218306 Twitter API returned a 403 (Forbidden), Sorry, you are not authorized to see this status.\n",
      "tommyhilfiger 1112625461463601152 Twitter API returned a 403 (Forbidden), Sorry, you are not authorized to see this status.\n",
      "tommyhilfiger 1109404937946058752 Twitter API returned a 403 (Forbidden), Sorry, you are not authorized to see this status.\n",
      "tommyhilfiger 1111576666579628032 Twitter API returned a 403 (Forbidden), Sorry, you are not authorized to see this status.\n",
      "tommyhilfiger 1112625463267082241 Twitter API returned a 403 (Forbidden), Sorry, you are not authorized to see this status.\n",
      "tommyhilfiger 1102027776385642499 Twitter API returned a 429 (Too Many Requests), Rate limit exceeded\n",
      "tommyhilfiger 1102027776385642499 Twitter API returned a 429 (Too Many Requests), Rate limit exceeded\n",
      "tommyhilfiger 1102027776385642499 Twitter API returned a 429 (Too Many Requests), Rate limit exceeded\n",
      "tommyhilfiger 1102027776385642499 Twitter API returned a 429 (Too Many Requests), Rate limit exceeded\n",
      "tommyhilfiger 1111576664755064833 Twitter API returned a 403 (Forbidden), Sorry, you are not authorized to see this status.\n",
      "tommyhilfiger 1101951120535019520 Twitter API returned a 403 (Forbidden), User has been suspended.\n",
      "tommyhilfiger 1113252538449518592 Twitter API returned a 403 (Forbidden), Sorry, you are not authorized to see this status.\n",
      "tommyhilfiger 1124313479370948608 Twitter API returned a 403 (Forbidden), Sorry, you are not authorized to see this status.\n",
      "tommyhilfiger 1113252536742481921 Twitter API returned a 403 (Forbidden), Sorry, you are not authorized to see this status.\n"
     ]
    },
    {
     "data": {
      "application/vnd.jupyter.widget-view+json": {
       "model_id": "",
       "version_major": 2,
       "version_minor": 0
      },
      "text/plain": [
       "HBox(children=(IntProgress(value=0, max=8661), HTML(value='')))"
      ]
     },
     "metadata": {},
     "output_type": "display_data"
    },
    {
     "name": "stdout",
     "output_type": "stream",
     "text": [
      "tomsshoes 1108681224090902529 Twitter API returned a 429 (Too Many Requests), Rate limit exceeded\n",
      "tomsshoes 1108681224090902529 Twitter API returned a 429 (Too Many Requests), Rate limit exceeded\n",
      "tomsshoes 1108681224090902529 Twitter API returned a 429 (Too Many Requests), Rate limit exceeded\n",
      "tomsshoes 1108681224090902529 Twitter API returned a 429 (Too Many Requests), Rate limit exceeded\n",
      "tomsshoes 1104393509694406657 Twitter API returned a 429 (Too Many Requests), Rate limit exceeded\n",
      "tomsshoes 1104393509694406657 Twitter API returned a 429 (Too Many Requests), Rate limit exceeded\n",
      "tomsshoes 1104393509694406657 Twitter API returned a 429 (Too Many Requests), Rate limit exceeded\n",
      "tomsshoes 1104393509694406657 Twitter API returned a 429 (Too Many Requests), Rate limit exceeded\n",
      "tomsshoes 1128755995935526912 Twitter API returned a 429 (Too Many Requests), Rate limit exceeded\n",
      "tomsshoes 1128755995935526912 Twitter API returned a 429 (Too Many Requests), Rate limit exceeded\n",
      "tomsshoes 1128755995935526912 Twitter API returned a 429 (Too Many Requests), Rate limit exceeded\n",
      "tomsshoes 1128755995935526912 Twitter API returned a 429 (Too Many Requests), Rate limit exceeded\n",
      "tomsshoes 1084627736331616256 Twitter API returned a 429 (Too Many Requests), Rate limit exceeded\n",
      "tomsshoes 1084627736331616256 Twitter API returned a 429 (Too Many Requests), Rate limit exceeded\n",
      "tomsshoes 1084627736331616256 Twitter API returned a 429 (Too Many Requests), Rate limit exceeded\n",
      "tomsshoes 1084627736331616256 Twitter API returned a 429 (Too Many Requests), Rate limit exceeded\n",
      "tomsshoes 1137506152768348160 Twitter API returned a 429 (Too Many Requests), Rate limit exceeded\n",
      "tomsshoes 1137506152768348160 Twitter API returned a 429 (Too Many Requests), Rate limit exceeded\n",
      "tomsshoes 1137506152768348160 Twitter API returned a 429 (Too Many Requests), Rate limit exceeded\n",
      "tomsshoes 1137506152768348160 Twitter API returned a 429 (Too Many Requests), Rate limit exceeded\n",
      "tomsshoes 1089996141263908864 Twitter API returned a 429 (Too Many Requests), Rate limit exceeded\n",
      "tomsshoes 1089996141263908864 Twitter API returned a 429 (Too Many Requests), Rate limit exceeded\n",
      "tomsshoes 1089996141263908864 Twitter API returned a 429 (Too Many Requests), Rate limit exceeded\n",
      "tomsshoes 1089996141263908864 Twitter API returned a 429 (Too Many Requests), Rate limit exceeded\n",
      "tomsshoes 1125532802953273344 Twitter API returned a 429 (Too Many Requests), Rate limit exceeded\n",
      "tomsshoes 1125532802953273344 Twitter API returned a 429 (Too Many Requests), Rate limit exceeded\n",
      "tomsshoes 1125532802953273344 Twitter API returned a 429 (Too Many Requests), Rate limit exceeded\n",
      "tomsshoes 1125532802953273344 Twitter API returned a 429 (Too Many Requests), Rate limit exceeded\n",
      "tomsshoes 1090320779298787328 Twitter API returned a 429 (Too Many Requests), Rate limit exceeded\n",
      "tomsshoes 1090320779298787328 Twitter API returned a 429 (Too Many Requests), Rate limit exceeded\n",
      "tomsshoes 1090320779298787328 Twitter API returned a 429 (Too Many Requests), Rate limit exceeded\n",
      "tomsshoes 1101207514727632896 Twitter API returned a 429 (Too Many Requests), Rate limit exceeded\n",
      "tomsshoes 1101207514727632896 Twitter API returned a 429 (Too Many Requests), Rate limit exceeded\n",
      "tomsshoes 1101207514727632896 Twitter API returned a 429 (Too Many Requests), Rate limit exceeded\n",
      "tomsshoes 1101207514727632896 Twitter API returned a 429 (Too Many Requests), Rate limit exceeded\n"
     ]
    },
    {
     "data": {
      "application/vnd.jupyter.widget-view+json": {
       "model_id": "",
       "version_major": 2,
       "version_minor": 0
      },
      "text/plain": [
       "HBox(children=(IntProgress(value=0, max=23), HTML(value='')))"
      ]
     },
     "metadata": {},
     "output_type": "display_data"
    },
    {
     "name": "stdout",
     "output_type": "stream",
     "text": [
      "topten 1138767698970652672 Twitter API returned a 404 (Not Found), No status found with that ID.\n"
     ]
    },
    {
     "data": {
      "application/vnd.jupyter.widget-view+json": {
       "model_id": "",
       "version_major": 2,
       "version_minor": 0
      },
      "text/plain": [
       "HBox(children=(IntProgress(value=0, max=9), HTML(value='')))"
      ]
     },
     "metadata": {},
     "output_type": "display_data"
    },
    {
     "data": {
      "application/vnd.jupyter.widget-view+json": {
       "model_id": "",
       "version_major": 2,
       "version_minor": 0
      },
      "text/plain": [
       "HBox(children=(IntProgress(value=0, max=8), HTML(value='')))"
      ]
     },
     "metadata": {},
     "output_type": "display_data"
    },
    {
     "data": {
      "application/vnd.jupyter.widget-view+json": {
       "model_id": "",
       "version_major": 2,
       "version_minor": 0
      },
      "text/plain": [
       "HBox(children=(IntProgress(value=0, max=6), HTML(value='')))"
      ]
     },
     "metadata": {},
     "output_type": "display_data"
    },
    {
     "data": {
      "application/vnd.jupyter.widget-view+json": {
       "model_id": "",
       "version_major": 2,
       "version_minor": 0
      },
      "text/plain": [
       "HBox(children=(IntProgress(value=0, max=28), HTML(value='')))"
      ]
     },
     "metadata": {},
     "output_type": "display_data"
    },
    {
     "data": {
      "application/vnd.jupyter.widget-view+json": {
       "model_id": "",
       "version_major": 2,
       "version_minor": 0
      },
      "text/plain": [
       "HBox(children=(IntProgress(value=0, max=2), HTML(value='')))"
      ]
     },
     "metadata": {},
     "output_type": "display_data"
    },
    {
     "data": {
      "application/vnd.jupyter.widget-view+json": {
       "model_id": "",
       "version_major": 2,
       "version_minor": 0
      },
      "text/plain": [
       "HBox(children=(IntProgress(value=0, max=34), HTML(value='')))"
      ]
     },
     "metadata": {},
     "output_type": "display_data"
    },
    {
     "name": "stdout",
     "output_type": "stream",
     "text": [
      "underarmour 1090136065891958784 Twitter API returned a 403 (Forbidden), Sorry, you are not authorized to see this status.\n"
     ]
    },
    {
     "data": {
      "application/vnd.jupyter.widget-view+json": {
       "model_id": "",
       "version_major": 2,
       "version_minor": 0
      },
      "text/plain": [
       "HBox(children=(IntProgress(value=0, max=1529), HTML(value='')))"
      ]
     },
     "metadata": {},
     "output_type": "display_data"
    },
    {
     "name": "stdout",
     "output_type": "stream",
     "text": [
      "undercover 1123138788220231680 Twitter API returned a 404 (Not Found), No status found with that ID.\n",
      "undercover 1122153976542031872 Twitter API returned a 404 (Not Found), No status found with that ID.\n",
      "undercover 1132531699613462533 Twitter API returned a 429 (Too Many Requests), Rate limit exceeded\n",
      "undercover 1132531699613462533 Twitter API returned a 429 (Too Many Requests), Rate limit exceeded\n",
      "undercover 1132531699613462533 Twitter API returned a 429 (Too Many Requests), Rate limit exceeded\n",
      "undercover 1132531699613462533 Twitter API returned a 429 (Too Many Requests), Rate limit exceeded\n",
      "undercover 1125345687900573697 Twitter API returned a 404 (Not Found), No status found with that ID.\n",
      "undercover 1124318207932715008 Twitter API returned a 404 (Not Found), No status found with that ID.\n",
      "undercover 1125347570450980864 Twitter API returned a 404 (Not Found), No status found with that ID.\n",
      "undercover 1138385124607660032 Twitter API returned a 404 (Not Found), No status found with that ID.\n",
      "undercover 1125347724637786112 Twitter API returned a 404 (Not Found), No status found with that ID.\n",
      "undercover 1123252537623080960 Twitter API returned a 404 (Not Found), No status found with that ID.\n",
      "undercover 1125345937298034688 Twitter API returned a 404 (Not Found), No status found with that ID.\n",
      "undercover 1141349903584698368 Twitter API returned a 403 (Forbidden), User has been suspended.\n",
      "undercover 1124318316447686657 Twitter API returned a 404 (Not Found), No status found with that ID.\n",
      "undercover 1130059966826422272 Twitter API returned a 404 (Not Found), No status found with that ID.\n",
      "undercover 1125288383649964032 Twitter API returned a 404 (Not Found), No status found with that ID.\n",
      "undercover 1125299836394172418 Twitter API returned a 404 (Not Found), No status found with that ID.\n",
      "undercover 1125345793144020994 Twitter API returned a 404 (Not Found), No status found with that ID.\n",
      "undercover 1125299908100014080 Twitter API returned a 404 (Not Found), No status found with that ID.\n",
      "undercover 1140851949346021376 Twitter API returned a 404 (Not Found), No status found with that ID.\n",
      "undercover 1084110794147618818 Twitter API returned a 403 (Forbidden), Sorry, you are not authorized to see this status.\n",
      "undercover 1123252274380197893 Twitter API returned a 404 (Not Found), No status found with that ID.\n",
      "undercover 1125385766534696968 Twitter API returned a 404 (Not Found), No status found with that ID.\n",
      "undercover 1133008378232369154 Twitter API returned a 404 (Not Found), No status found with that ID.\n",
      "undercover 1123124920483901440 Twitter API returned a 404 (Not Found), No status found with that ID.\n",
      "undercover 1133010120793657344 Twitter API returned a 404 (Not Found), No status found with that ID.\n",
      "undercover 1141350194690383872 Twitter API returned a 403 (Forbidden), User has been suspended.\n",
      "undercover 1136739310319935489 Twitter API returned a 429 (Too Many Requests), Rate limit exceeded\n",
      "undercover 1136739310319935489 Twitter API returned a 429 (Too Many Requests), Rate limit exceeded\n",
      "undercover 1136739310319935489 Twitter API returned a 429 (Too Many Requests), Rate limit exceeded\n",
      "undercover 1136739310319935489 Twitter API returned a 429 (Too Many Requests), Rate limit exceeded\n",
      "undercover 1098169828173537280 Twitter API returned a 404 (Not Found), No status found with that ID.\n",
      "undercover 1125301076725358592 Twitter API returned a 404 (Not Found), No status found with that ID.\n",
      "undercover 1125345890183421952 Twitter API returned a 404 (Not Found), No status found with that ID.\n",
      "undercover 1125347687497207808 Twitter API returned a 404 (Not Found), No status found with that ID.\n",
      "undercover 1125256952953466881 Twitter API returned a 404 (Not Found), No status found with that ID.\n",
      "undercover 1125351265909628928 Twitter API returned a 404 (Not Found), No status found with that ID.\n"
     ]
    },
    {
     "data": {
      "application/vnd.jupyter.widget-view+json": {
       "model_id": "",
       "version_major": 2,
       "version_minor": 0
      },
      "text/plain": [
       "HBox(children=(IntProgress(value=0, max=301), HTML(value='')))"
      ]
     },
     "metadata": {},
     "output_type": "display_data"
    },
    {
     "name": "stdout",
     "output_type": "stream",
     "text": [
      "uniqlo 1098730101036933120 Twitter API returned a 404 (Not Found), No status found with that ID.\n",
      "uniqlo 1106125713810358272 Twitter API returned a 403 (Forbidden), Sorry, you are not authorized to see this status.\n",
      "uniqlo 1098223831414534146 Twitter API returned a 404 (Not Found), No status found with that ID.\n",
      "uniqlo 1132902119172739072 Twitter API returned a 403 (Forbidden), Sorry, you are not authorized to see this status.\n",
      "uniqlo 1130785624774963202 Twitter API returned a 404 (Not Found), No status found with that ID.\n",
      "uniqlo 1106124461751914497 Twitter API returned a 403 (Forbidden), Sorry, you are not authorized to see this status.\n",
      "uniqlo 1106124460162199558 Twitter API returned a 403 (Forbidden), Sorry, you are not authorized to see this status.\n",
      "uniqlo 1106123638619729920 Twitter API returned a 403 (Forbidden), Sorry, you are not authorized to see this status.\n",
      "uniqlo 1106124977252823040 Twitter API returned a 403 (Forbidden), Sorry, you are not authorized to see this status.\n",
      "uniqlo 1134239621083123712 Twitter API returned a 404 (Not Found), No status found with that ID.\n",
      "uniqlo 1106124979341590528 Twitter API returned a 403 (Forbidden), Sorry, you are not authorized to see this status.\n",
      "uniqlo 1130740930334474240 Twitter API returned a 403 (Forbidden), Sorry, you are not authorized to see this status.\n"
     ]
    },
    {
     "data": {
      "application/vnd.jupyter.widget-view+json": {
       "model_id": "",
       "version_major": 2,
       "version_minor": 0
      },
      "text/plain": [
       "HBox(children=(IntProgress(value=0, max=10), HTML(value='')))"
      ]
     },
     "metadata": {},
     "output_type": "display_data"
    },
    {
     "data": {
      "application/vnd.jupyter.widget-view+json": {
       "model_id": "",
       "version_major": 2,
       "version_minor": 0
      },
      "text/plain": [
       "HBox(children=(IntProgress(value=0, max=204), HTML(value='')))"
      ]
     },
     "metadata": {},
     "output_type": "display_data"
    },
    {
     "name": "stdout",
     "output_type": "stream",
     "text": [
      "valentino 1104195060067790849 Twitter API returned a 403 (Forbidden), Sorry, you are not authorized to see this status.\n",
      "valentino 1112618882034855937 Twitter API returned a 403 (Forbidden), Sorry, you are not authorized to see this status.\n",
      "valentino 1090516934855139328 Twitter API returned a 429 (Too Many Requests), Rate limit exceeded\n",
      "valentino 1090516934855139328 Twitter API returned a 429 (Too Many Requests), Rate limit exceeded\n",
      "valentino 1090516934855139328 Twitter API returned a 429 (Too Many Requests), Rate limit exceeded\n",
      "valentino 1090516934855139328 Twitter API returned a 429 (Too Many Requests), Rate limit exceeded\n",
      "valentino 1106062778748432384 Twitter API returned a 403 (Forbidden), User has been suspended.\n",
      "valentino 1106063251345829889 Twitter API returned a 403 (Forbidden), User has been suspended.\n",
      "valentino 1106066184615518208 Twitter API returned a 403 (Forbidden), User has been suspended.\n"
     ]
    },
    {
     "data": {
      "application/vnd.jupyter.widget-view+json": {
       "model_id": "",
       "version_major": 2,
       "version_minor": 0
      },
      "text/plain": [
       "HBox(children=(IntProgress(value=0, max=173), HTML(value='')))"
      ]
     },
     "metadata": {},
     "output_type": "display_data"
    },
    {
     "name": "stdout",
     "output_type": "stream",
     "text": [
      "vans 1115964097672048640 Twitter API returned a 404 (Not Found), No status found with that ID.\n",
      "vans 1084457760979329024 Twitter API returned a 403 (Forbidden), Sorry, you are not authorized to see this status.\n",
      "vans 1120208499718287360 Twitter API returned a 403 (Forbidden), Sorry, you are not authorized to see this status.\n",
      "vans 1098166960401969152 Twitter API returned a 404 (Not Found), No status found with that ID.\n",
      "vans 1098166391473991681 Twitter API returned a 404 (Not Found), No status found with that ID.\n",
      "vans 1120103685671964673 Twitter API returned a 404 (Not Found), No status found with that ID.\n",
      "vans 1115243600365797376 Twitter API returned a 404 (Not Found), No status found with that ID.\n"
     ]
    },
    {
     "data": {
      "application/vnd.jupyter.widget-view+json": {
       "model_id": "",
       "version_major": 2,
       "version_minor": 0
      },
      "text/plain": [
       "HBox(children=(IntProgress(value=0, max=40), HTML(value='')))"
      ]
     },
     "metadata": {},
     "output_type": "display_data"
    },
    {
     "data": {
      "application/vnd.jupyter.widget-view+json": {
       "model_id": "",
       "version_major": 2,
       "version_minor": 0
      },
      "text/plain": [
       "HBox(children=(IntProgress(value=0, max=6), HTML(value='')))"
      ]
     },
     "metadata": {},
     "output_type": "display_data"
    },
    {
     "data": {
      "application/vnd.jupyter.widget-view+json": {
       "model_id": "",
       "version_major": 2,
       "version_minor": 0
      },
      "text/plain": [
       "HBox(children=(IntProgress(value=0, max=6), HTML(value='')))"
      ]
     },
     "metadata": {},
     "output_type": "display_data"
    },
    {
     "data": {
      "application/vnd.jupyter.widget-view+json": {
       "model_id": "",
       "version_major": 2,
       "version_minor": 0
      },
      "text/plain": [
       "HBox(children=(IntProgress(value=0, max=6), HTML(value='')))"
      ]
     },
     "metadata": {},
     "output_type": "display_data"
    },
    {
     "data": {
      "application/vnd.jupyter.widget-view+json": {
       "model_id": "",
       "version_major": 2,
       "version_minor": 0
      },
      "text/plain": [
       "HBox(children=(IntProgress(value=0, max=17), HTML(value='')))"
      ]
     },
     "metadata": {},
     "output_type": "display_data"
    },
    {
     "data": {
      "application/vnd.jupyter.widget-view+json": {
       "model_id": "",
       "version_major": 2,
       "version_minor": 0
      },
      "text/plain": [
       "HBox(children=(IntProgress(value=0, max=1), HTML(value='')))"
      ]
     },
     "metadata": {},
     "output_type": "display_data"
    },
    {
     "data": {
      "application/vnd.jupyter.widget-view+json": {
       "model_id": "",
       "version_major": 2,
       "version_minor": 0
      },
      "text/plain": [
       "HBox(children=(IntProgress(value=0, max=73), HTML(value='')))"
      ]
     },
     "metadata": {},
     "output_type": "display_data"
    },
    {
     "data": {
      "application/vnd.jupyter.widget-view+json": {
       "model_id": "",
       "version_major": 2,
       "version_minor": 0
      },
      "text/plain": [
       "HBox(children=(IntProgress(value=0, max=1), HTML(value='')))"
      ]
     },
     "metadata": {},
     "output_type": "display_data"
    },
    {
     "data": {
      "application/vnd.jupyter.widget-view+json": {
       "model_id": "",
       "version_major": 2,
       "version_minor": 0
      },
      "text/plain": [
       "HBox(children=(IntProgress(value=0, max=1), HTML(value='')))"
      ]
     },
     "metadata": {},
     "output_type": "display_data"
    },
    {
     "data": {
      "application/vnd.jupyter.widget-view+json": {
       "model_id": "",
       "version_major": 2,
       "version_minor": 0
      },
      "text/plain": [
       "HBox(children=(IntProgress(value=0, max=11), HTML(value='')))"
      ]
     },
     "metadata": {},
     "output_type": "display_data"
    },
    {
     "data": {
      "application/vnd.jupyter.widget-view+json": {
       "model_id": "",
       "version_major": 2,
       "version_minor": 0
      },
      "text/plain": [
       "HBox(children=(IntProgress(value=0, max=53), HTML(value='')))"
      ]
     },
     "metadata": {},
     "output_type": "display_data"
    },
    {
     "name": "stdout",
     "output_type": "stream",
     "text": [
      "yeezy 1129285844999725056 Twitter API returned a 403 (Forbidden), Sorry, you are not authorized to see this status.\n"
     ]
    },
    {
     "data": {
      "application/vnd.jupyter.widget-view+json": {
       "model_id": "",
       "version_major": 2,
       "version_minor": 0
      },
      "text/plain": [
       "HBox(children=(IntProgress(value=0, max=5), HTML(value='')))"
      ]
     },
     "metadata": {},
     "output_type": "display_data"
    },
    {
     "data": {
      "application/vnd.jupyter.widget-view+json": {
       "model_id": "",
       "version_major": 2,
       "version_minor": 0
      },
      "text/plain": [
       "HBox(children=(IntProgress(value=0, max=81), HTML(value='')))"
      ]
     },
     "metadata": {},
     "output_type": "display_data"
    },
    {
     "name": "stdout",
     "output_type": "stream",
     "text": [
      "zara 1098727636702965760 Twitter API returned a 404 (Not Found), No status found with that ID.\n",
      "zara 1098730101036933120 Twitter API returned a 404 (Not Found), No status found with that ID.\n",
      "zara 1098169828173537280 Twitter API returned a 404 (Not Found), No status found with that ID.\n",
      "zara 1098369610158530561 Twitter API returned a 404 (Not Found), No status found with that ID.\n",
      "zara 1097805506863804416 Twitter API returned a 404 (Not Found), No status found with that ID.\n"
     ]
    }
   ],
   "source": [
    "CONSUMER_KEY = 'gFeP16lpEBKux4K6GO2LfLEWI'\n",
    "CONSUMER_SECRET = '38yzPyI8vqUqrCV0RLc1ugl8Se1pYA2Nlderk9Rj3DUaE5VTpA'\n",
    "OAUTH_TOKEN = '1085907708413267970-nyk4nvgG9miNTqRmg4jkFnmZfqW254'\n",
    "OAUTH_TOKEN_SECRET = 'ty2TIFFSorxmMKMq0VlqcIWrgqpJqdHBW9z3ye0J4BeL7'\n",
    "twitter = Twython(CONSUMER_KEY, CONSUMER_SECRET, OAUTH_TOKEN, OAUTH_TOKEN_SECRET)\n",
    "\n",
    "feeds = []\n",
    "users = dict()\n",
    "hashtags = set()\n",
    "\n",
    "for bname, ids in tqdm(list(tweet_ids.items())[:]):\n",
    "    for tw_id in tqdm(ids, leave=False):\n",
    "        while True:\n",
    "            try:\n",
    "                tw = twitter.show_status(id=tw_id)\n",
    "                _hashtags = get_hashtags(tw)\n",
    "                _user = get_user(tw)\n",
    "                _feed = get_feed(tw, bname, _hashtags)\n",
    "\n",
    "                hashtags |= _hashtags\n",
    "                users.update(_user)\n",
    "                feeds.append(_feed)\n",
    "\n",
    "            except TwythonRateLimitError as e:\n",
    "                print(bname, tw_id, e)\n",
    "                remainder = float(twitter.get_lastfunction_header(header='x-rate-limit-reset')) - time.time()\n",
    "                remainder = max(0, remainder)\n",
    "                del twitter\n",
    "                time.sleep(remainder)\n",
    "                twitter = Twython(CONSUMER_KEY, CONSUMER_SECRET, OAUTH_TOKEN, OAUTH_TOKEN_SECRET)\n",
    "                continue\n",
    "\n",
    "            except TwythonError as e:\n",
    "                print(bname, tw_id, e)\n",
    "\n",
    "            break"
   ]
  },
  {
   "cell_type": "code",
   "execution_count": 19,
   "metadata": {},
   "outputs": [],
   "source": [
    "users;\n",
    "with open('users.json', 'w') as f:\n",
    "    json.dump(users, f)"
   ]
  },
  {
   "cell_type": "code",
   "execution_count": 27,
   "metadata": {},
   "outputs": [],
   "source": [
    "hashtags;\n",
    "with open('hashtags.json', 'w') as f:\n",
    "    json.dump(list(hashtags), f)"
   ]
  },
  {
   "cell_type": "code",
   "execution_count": 31,
   "metadata": {
    "scrolled": true
   },
   "outputs": [],
   "source": [
    "feeds;\n",
    "with open('feeds.json', 'w') as f:\n",
    "    json.dump(feeds, f)"
   ]
  },
  {
   "cell_type": "code",
   "execution_count": null,
   "metadata": {},
   "outputs": [],
   "source": []
  },
  {
   "cell_type": "code",
   "execution_count": null,
   "metadata": {},
   "outputs": [],
   "source": []
  },
  {
   "cell_type": "markdown",
   "metadata": {},
   "source": [
    "# Profile image 저장하기"
   ]
  },
  {
   "cell_type": "code",
   "execution_count": 33,
   "metadata": {},
   "outputs": [
    {
     "data": {
      "application/vnd.jupyter.widget-view+json": {
       "model_id": "7560b1eec0594987aa3905ffd8b31172",
       "version_major": 2,
       "version_minor": 0
      },
      "text/plain": [
       "HBox(children=(IntProgress(value=0, max=8872), HTML(value='')))"
      ]
     },
     "metadata": {},
     "output_type": "display_data"
    }
   ],
   "source": [
    "for k,v in tqdm(users.items()):\n",
    "    profile_dir = 'uploads/profile_images/' + str(k)\n",
    "    \n",
    "    if not os.path.isdir(profile_dir):\n",
    "        os.mkdir(profile_dir)\n",
    "    \n",
    "    profile_image = v['profile_image']\n",
    "    fname = profile_dir + '/' + profile_image.split('/')[-1]\n",
    "\n",
    "    if not os.path.isfile(fname):\n",
    "        try:\n",
    "            img = requests.get(profile_image).content\n",
    "            with open(fname, 'wb') as f:\n",
    "                f.write(img)\n",
    "        except:\n",
    "            print(k)"
   ]
  },
  {
   "cell_type": "code",
   "execution_count": null,
   "metadata": {},
   "outputs": [],
   "source": []
  },
  {
   "cell_type": "markdown",
   "metadata": {},
   "source": [
    "# Feed image 저장하기"
   ]
  },
  {
   "cell_type": "code",
   "execution_count": 34,
   "metadata": {},
   "outputs": [
    {
     "data": {
      "application/vnd.jupyter.widget-view+json": {
       "model_id": "c33327754ae84f0489ddb77926024849",
       "version_major": 2,
       "version_minor": 0
      },
      "text/plain": [
       "HBox(children=(IntProgress(value=0, max=46960), HTML(value='')))"
      ]
     },
     "metadata": {},
     "output_type": "display_data"
    }
   ],
   "source": [
    "for feed in tqdm(feeds):\n",
    "    if 'feed_image' not in feed:\n",
    "        continue\n",
    "    \n",
    "    feed_image = feed['feed_image']\n",
    "    feed_memb_dir = 'uploads/feed_images/' + feed['membership']\n",
    "\n",
    "    if not os.path.isdir(feed_memb_dir):\n",
    "        os.mkdir(feed_memb_dir)\n",
    "    \n",
    "    feed_memb_author_dir = feed_memb_dir + '/' + feed['author']\n",
    "    \n",
    "    if not os.path.isdir(feed_memb_author_dir):\n",
    "        os.mkdir(feed_memb_author_dir)\n",
    "    \n",
    "    fname = feed_memb_author_dir + '/' + feed_image.split('/')[-1]\n",
    "\n",
    "    if not os.path.isfile(fname):\n",
    "        try:\n",
    "            img = requests.get(feed_image).content\n",
    "            with open(fname, 'wb') as f:\n",
    "                f.write(img)\n",
    "        except:\n",
    "            print(fname)"
   ]
  },
  {
   "cell_type": "code",
   "execution_count": null,
   "metadata": {},
   "outputs": [],
   "source": []
  },
  {
   "cell_type": "code",
   "execution_count": null,
   "metadata": {
    "scrolled": true
   },
   "outputs": [],
   "source": []
  },
  {
   "cell_type": "markdown",
   "metadata": {},
   "source": [
    "# 테스트유저 만들기\n",
    "## 1. Custom user model (email 기반)"
   ]
  },
  {
   "cell_type": "code",
   "execution_count": 38,
   "metadata": {},
   "outputs": [
    {
     "data": {
      "application/vnd.jupyter.widget-view+json": {
       "model_id": "7d1802948201402e848e8359267390f0",
       "version_major": 2,
       "version_minor": 0
      },
      "text/plain": [
       "HBox(children=(IntProgress(value=0, max=8872), HTML(value='')))"
      ]
     },
     "metadata": {},
     "output_type": "display_data"
    }
   ],
   "source": [
    "dbinit_test_users = []\n",
    "\n",
    "for k,v in tqdm(users.items()):\n",
    "    dbinit_test_users.append({\n",
    "        'model': 'custom_user.EmailUser', \n",
    "        'pk': k, \n",
    "        'fields': {\n",
    "            'email': v['user'] + '@getch.com', \n",
    "        }\n",
    "    })"
   ]
  },
  {
   "cell_type": "code",
   "execution_count": 85,
   "metadata": {},
   "outputs": [],
   "source": [
    "dbinit_test_users;"
   ]
  },
  {
   "cell_type": "code",
   "execution_count": 40,
   "metadata": {},
   "outputs": [],
   "source": [
    "with open('dbinit_test_users.json', 'w') as f:\n",
    "    json.dump(dbinit_test_users, f)"
   ]
  },
  {
   "cell_type": "markdown",
   "metadata": {},
   "source": [
    "## 2. Profile model"
   ]
  },
  {
   "cell_type": "code",
   "execution_count": 43,
   "metadata": {},
   "outputs": [
    {
     "data": {
      "application/vnd.jupyter.widget-view+json": {
       "model_id": "5b732c0adffe43e1a8bfb4c45b3ad19a",
       "version_major": 2,
       "version_minor": 0
      },
      "text/plain": [
       "HBox(children=(IntProgress(value=0, max=8872), HTML(value='')))"
      ]
     },
     "metadata": {},
     "output_type": "display_data"
    }
   ],
   "source": [
    "dbinit_test_profiles = []\n",
    "\n",
    "for k,v in tqdm(users.items()):\n",
    "    dbinit_test_profiles.append({\n",
    "        'model': 'app.profile', \n",
    "        'pk': k, \n",
    "        'fields': {\n",
    "            'user': k, \n",
    "            'profile_image': 'profile_images/' + str(k) + '/' + v['profile_image'].split('/')[-1], \n",
    "        }\n",
    "    })"
   ]
  },
  {
   "cell_type": "code",
   "execution_count": 86,
   "metadata": {},
   "outputs": [],
   "source": [
    "dbinit_test_profiles;"
   ]
  },
  {
   "cell_type": "code",
   "execution_count": 45,
   "metadata": {},
   "outputs": [],
   "source": [
    "with open('dbinit_test_profiles.json', 'w') as f:\n",
    "    json.dump(dbinit_test_profiles, f)"
   ]
  },
  {
   "cell_type": "code",
   "execution_count": null,
   "metadata": {},
   "outputs": [],
   "source": []
  },
  {
   "cell_type": "markdown",
   "metadata": {},
   "source": [
    "# Hashtag model"
   ]
  },
  {
   "cell_type": "code",
   "execution_count": 46,
   "metadata": {},
   "outputs": [],
   "source": [
    "dbinit_hashtags = []\n",
    "                \n",
    "for pk, tag in enumerate(hashtags):\n",
    "    dbinit_hashtags.append({\n",
    "        'model': 'app.hashtag', \n",
    "        'pk': pk, \n",
    "        'fields': {\n",
    "            'hashtag': tag, \n",
    "        }\n",
    "    })"
   ]
  },
  {
   "cell_type": "code",
   "execution_count": 87,
   "metadata": {},
   "outputs": [],
   "source": [
    "dbinit_hashtags;"
   ]
  },
  {
   "cell_type": "code",
   "execution_count": 48,
   "metadata": {},
   "outputs": [],
   "source": [
    "with open('dbinit_hashtags.json', 'w') as f:\n",
    "    json.dump(dbinit_hashtags, f)"
   ]
  },
  {
   "cell_type": "code",
   "execution_count": null,
   "metadata": {},
   "outputs": [],
   "source": []
  },
  {
   "cell_type": "markdown",
   "metadata": {},
   "source": [
    "# Feed model"
   ]
  },
  {
   "cell_type": "code",
   "execution_count": 90,
   "metadata": {},
   "outputs": [],
   "source": [
    "from app.models import Brand, Profile, Hashtag"
   ]
  },
  {
   "cell_type": "code",
   "execution_count": 81,
   "metadata": {},
   "outputs": [
    {
     "data": {
      "application/vnd.jupyter.widget-view+json": {
       "model_id": "05eed0bf89ae4b68b5841387b99588d9",
       "version_major": 2,
       "version_minor": 0
      },
      "text/plain": [
       "HBox(children=(IntProgress(value=0, max=46960), HTML(value='')))"
      ]
     },
     "metadata": {},
     "output_type": "display_data"
    }
   ],
   "source": [
    "dbinit_feeds = []\n",
    "\n",
    "for pk, feed in enumerate(tqdm(feeds)):\n",
    "    membership_pk = Brand.objects.get(name=feed['membership']).pk\n",
    "    author_pk = Profile.objects.get(user__email=feed['author']+'@getch.com').pk\n",
    "    hashtag_pks = list(Hashtag.objects.filter(hashtag__in=feed['hashtags']).values_list('pk', flat=True))\n",
    "    \n",
    "    fields = {\n",
    "        'membership': membership_pk, \n",
    "        'author': author_pk, \n",
    "        'timestamp': str(pd.Timestamp(feed['created_at']).tz_localize(None)), \n",
    "        'nlikes': feed['nlikes'], \n",
    "        'content': feed['content'], \n",
    "        'hashtags': hashtag_pks\n",
    "    }\n",
    "    \n",
    "    if 'feed_image' in feed:\n",
    "        fields['feed_image'] = 'feed_images/' + feed['membership'] + '/' + feed['author'] + '/' + feed['feed_image'].split('/')[-1]\n",
    "    \n",
    "    dbinit_feeds.append({\n",
    "        'model': 'app.feed', \n",
    "        'pk': pk, \n",
    "        'fields': fields\n",
    "    })    "
   ]
  },
  {
   "cell_type": "code",
   "execution_count": 88,
   "metadata": {},
   "outputs": [],
   "source": [
    "dbinit_feeds;"
   ]
  },
  {
   "cell_type": "code",
   "execution_count": 83,
   "metadata": {},
   "outputs": [],
   "source": [
    "with open('dbinit_feeds.json', 'w') as f:\n",
    "    json.dump(dbinit_feeds, f)"
   ]
  },
  {
   "cell_type": "code",
   "execution_count": null,
   "metadata": {},
   "outputs": [],
   "source": []
  },
  {
   "cell_type": "code",
   "execution_count": null,
   "metadata": {},
   "outputs": [],
   "source": []
  },
  {
   "cell_type": "code",
   "execution_count": 1,
   "metadata": {},
   "outputs": [],
   "source": [
    "from app.models import Feed"
   ]
  },
  {
   "cell_type": "code",
   "execution_count": 27,
   "metadata": {},
   "outputs": [
    {
     "data": {
      "text/plain": [
       "<QuerySet [<Feed: 2019-04-09 10:19:51 yogipower@getch.com>, <Feed: 2019-01-30 06:25:19 _MasterShoe_@getch.com>, <Feed: 2019-05-19 13:58:55 helloanimals@getch.com>, <Feed: 2019-03-19 12:24:30 sellittoyou@getch.com>, <Feed: 2019-04-12 13:51:45 ddungbom_mino@getch.com>, <Feed: 2019-01-02 19:01:14 AidenLee862@getch.com>, <Feed: 2019-02-04 03:42:22 altchang@getch.com>, <Feed: 2019-06-19 09:33:35 midasmarin@getch.com>, <Feed: 2019-05-05 08:40:28 chulhonp@getch.com>, <Feed: 2019-04-12 05:47:52 ddungbom_mino@getch.com>, <Feed: 2019-04-23 09:11:25 URmystar_0330@getch.com>, <Feed: 2019-03-03 19:11:40 Kim_JiSooYG1@getch.com>, <Feed: 2019-04-27 00:15:33 midasmarin@getch.com>, <Feed: 2019-03-25 02:03:43 getitk@getch.com>, <Feed: 2019-04-23 07:27:27 URmystar_0330@getch.com>, <Feed: 2019-03-20 03:29:47 pyobongbong@getch.com>, <Feed: 2019-05-04 07:06:57 midasmarin@getch.com>, <Feed: 2019-04-27 02:26:06 Eternal_1229@getch.com>, <Feed: 2019-04-17 14:09:46 hyun8034@getch.com>, <Feed: 2019-04-12 14:27:28 ddungbom_mino@getch.com>, '...(remaining elements truncated)...']>"
      ]
     },
     "execution_count": 27,
     "metadata": {},
     "output_type": "execute_result"
    }
   ],
   "source": [
    "res = Feed.objects.filter(hashtags__hashtag__in=['nike', 'adidas']); res"
   ]
  },
  {
   "cell_type": "code",
   "execution_count": 28,
   "metadata": {},
   "outputs": [
    {
     "data": {
      "text/plain": [
       "'미노야 널 좋아해💗\\n\\n#WINNER \\n#위너 \\n#송민호\\n#MINO\\n#아디다스\\n#adidas\\n@official_mino_ https://t.co/7hq2HWcUgU'"
      ]
     },
     "execution_count": 28,
     "metadata": {},
     "output_type": "execute_result"
    }
   ],
   "source": [
    "res[100].content"
   ]
  },
  {
   "cell_type": "code",
   "execution_count": 29,
   "metadata": {},
   "outputs": [
    {
     "data": {
      "text/plain": [
       "<QuerySet [<Hashtag: MINO>, <Hashtag: 송민호>, <Hashtag: 위너>, <Hashtag: adidas>, <Hashtag: 아디다스>, <Hashtag: WINNER>]>"
      ]
     },
     "execution_count": 29,
     "metadata": {},
     "output_type": "execute_result"
    }
   ],
   "source": [
    "res[100].hashtags.all()"
   ]
  },
  {
   "cell_type": "code",
   "execution_count": null,
   "metadata": {},
   "outputs": [],
   "source": []
  }
 ],
 "metadata": {
  "kernelspec": {
   "display_name": "Django Shell-Plus",
   "language": "python",
   "name": "django_extensions"
  },
  "language_info": {
   "codemirror_mode": {
    "name": "ipython",
    "version": 3
   },
   "file_extension": ".py",
   "mimetype": "text/x-python",
   "name": "python",
   "nbconvert_exporter": "python",
   "pygments_lexer": "ipython3",
   "version": "3.7.3"
  }
 },
 "nbformat": 4,
 "nbformat_minor": 2
}
