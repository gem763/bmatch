{
 "cells": [
  {
   "cell_type": "code",
   "execution_count": 23,
   "metadata": {},
   "outputs": [],
   "source": [
    "import pandas as pd\n",
    "from IPython.core.debugger import set_trace\n",
    "import json\n",
    "import re\n",
    "import os\n",
    "import time\n",
    "import requests\n",
    "import csv\n",
    "from twython import Twython, TwythonRateLimitError, TwythonError\n",
    "from app.models import Brand, Profile, Hashtag\n",
    "from custom_user.models import EmailUser\n",
    "from tqdm.autonotebook import tqdm\n",
    "tqdm.pandas()"
   ]
  },
  {
   "cell_type": "markdown",
   "metadata": {},
   "source": [
    "# Scraping"
   ]
  },
  {
   "cell_type": "code",
   "execution_count": 79,
   "metadata": {},
   "outputs": [],
   "source": [
    "df = pd.read_excel('../texcrapy/keywords and logos.xlsx', \n",
    "                   sheet_name='20190304')[['shortname','kw_supporter','kw_supported','keywords']][3:];df\n",
    "_or = lambda kw: ' OR '.join(['#' + k.strip() for k in kw.split(',')])\n",
    "\n",
    "qry_base = {row.shortname:_or(row.keywords) for row in df.itertuples()}\n",
    "supporters = df.shortname[df.kw_supporter==True]\n",
    "qry_sup = ' OR '.join([qry_base[sup] for sup in supporters]); qry_sup\n",
    "qry = {row.shortname: '(' + qry_base[row.shortname] + ') AND (' + qry_sup + ')' if row.kw_supported==True else qry_base[row.shortname] for row in df.itertuples()}"
   ]
  },
  {
   "cell_type": "code",
   "execution_count": 58,
   "metadata": {
    "collapsed": true
   },
   "outputs": [
    {
     "ename": "NameError",
     "evalue": "name 'texcrapy' is not defined",
     "output_type": "error",
     "traceback": [
      "\u001b[1;31m---------------------------------------------------------------------------\u001b[0m",
      "\u001b[1;31mNameError\u001b[0m                                 Traceback (most recent call last)",
      "\u001b[1;32m<timed exec>\u001b[0m in \u001b[0;36m<module>\u001b[1;34m\u001b[0m\n",
      "\u001b[1;31mNameError\u001b[0m: name 'texcrapy' is not defined"
     ]
    }
   ],
   "source": [
    "%%time\n",
    "what = ['id']#, 'likes', 'text', 'timestamp', 'user']\n",
    "texcrapy.scrap(qry, what=what, lang='ko', start='2019-01-01', end='2019-06-20', download_to='scrapped/getch')"
   ]
  },
  {
   "cell_type": "code",
   "execution_count": null,
   "metadata": {},
   "outputs": [],
   "source": []
  },
  {
   "cell_type": "markdown",
   "metadata": {},
   "source": [
    "# 스크랩 파일명 가져오기"
   ]
  },
  {
   "cell_type": "code",
   "execution_count": 3,
   "metadata": {},
   "outputs": [],
   "source": [
    "from glob import glob\n",
    "glob_pattern = os.path.join('../texcrapy/scrapped/twitter_getch', '*')\n",
    "fnames = glob(glob_pattern)\n",
    "# fnames = ['scrapped/twitter_getch/' + fname for fname in os.listdir('../texcrapy/scrapped/twitter_getch')]"
   ]
  },
  {
   "cell_type": "code",
   "execution_count": 4,
   "metadata": {},
   "outputs": [
    {
     "data": {
      "application/vnd.jupyter.widget-view+json": {
       "model_id": "f6198a05a8ee407093285cae08263120",
       "version_major": 2,
       "version_minor": 0
      },
      "text/plain": [
       "HBox(children=(IntProgress(value=0, max=323), HTML(value='')))"
      ]
     },
     "metadata": {},
     "output_type": "display_data"
    },
    {
     "name": "stdout",
     "output_type": "stream",
     "text": [
      "\n"
     ]
    }
   ],
   "source": [
    "tweet_ids = {}\n",
    "for fname in tqdm(fnames[:]):\n",
    "    with open(fname, encoding='UTF-8-sig') as f:\n",
    "        for item, docs in json.load(f).items():\n",
    "            if len(docs) > 0:\n",
    "                tweet_ids[item] = set()\n",
    "                for doc in docs: tweet_ids[item].add(doc['id'])"
   ]
  },
  {
   "cell_type": "code",
   "execution_count": 6,
   "metadata": {},
   "outputs": [],
   "source": [
    "tweet_ids;"
   ]
  },
  {
   "cell_type": "code",
   "execution_count": null,
   "metadata": {},
   "outputs": [],
   "source": []
  },
  {
   "cell_type": "markdown",
   "metadata": {},
   "source": [
    "# 트위터 크롤링 (by ID)"
   ]
  },
  {
   "cell_type": "code",
   "execution_count": 6,
   "metadata": {},
   "outputs": [],
   "source": [
    "def get_hashtags(tweet):\n",
    "    _hashtags = tweet['entities']['hashtags']\n",
    "    \n",
    "    if len(_hashtags) > 0:\n",
    "        return {ht['text'] for ht in _hashtags}\n",
    "    else:\n",
    "        return set()\n",
    "                \n",
    "\n",
    "def get_user(tweet):\n",
    "    _user = tweet['user']\n",
    "    \n",
    "    user = {}\n",
    "    user['user'] = _user['screen_name']\n",
    "\n",
    "    if 'profile_image_url' in _user:\n",
    "        user['profile_image'] = _user['profile_image_url']\n",
    "            \n",
    "    return {_user['id']:user}\n",
    "        \n",
    "    \n",
    "def get_feed_image(tweet):\n",
    "    entities = tweet['entities']\n",
    "    \n",
    "    if 'media' in entities:\n",
    "        media = entities['media']\n",
    "        \n",
    "        if len(media) > 0:\n",
    "            _media = media[0]\n",
    "            \n",
    "            if 'media_url' in _media:\n",
    "                return _media['media_url']\n",
    "            \n",
    "    return None\n",
    "    \n",
    "\n",
    "def get_feed(tweet, bname, hashtags):\n",
    "    feed = {\n",
    "        'membership': bname, \n",
    "        'author': tweet['user']['screen_name'], \n",
    "        'created_at': tweet['created_at'], \n",
    "        'nlikes': tweet['favorite_count'], \n",
    "        'content': tweet['text'],\n",
    "        'hashtags': list(hashtags),\n",
    "    }\n",
    "    \n",
    "    feed_image = get_feed_image(tweet)\n",
    "    \n",
    "    if feed_image is not None:\n",
    "        feed['feed_image'] = feed_image\n",
    "        \n",
    "    return feed"
   ]
  },
  {
   "cell_type": "code",
   "execution_count": 16,
   "metadata": {
    "collapsed": true
   },
   "outputs": [
    {
     "data": {
      "application/vnd.jupyter.widget-view+json": {
       "model_id": "f1617a35bf6043cb879da4365496c40b",
       "version_major": 2,
       "version_minor": 0
      },
      "text/plain": [
       "HBox(children=(IntProgress(value=0, max=268), HTML(value='')))"
      ]
     },
     "metadata": {},
     "output_type": "display_data"
    },
    {
     "data": {
      "application/vnd.jupyter.widget-view+json": {
       "model_id": "",
       "version_major": 2,
       "version_minor": 0
      },
      "text/plain": [
       "HBox(children=(IntProgress(value=0, max=1), HTML(value='')))"
      ]
     },
     "metadata": {},
     "output_type": "display_data"
    },
    {
     "data": {
      "application/vnd.jupyter.widget-view+json": {
       "model_id": "",
       "version_major": 2,
       "version_minor": 0
      },
      "text/plain": [
       "HBox(children=(IntProgress(value=0, max=19), HTML(value='')))"
      ]
     },
     "metadata": {},
     "output_type": "display_data"
    },
    {
     "name": "stdout",
     "output_type": "stream",
     "text": [
      "8seconds 1138403305065893888 Twitter API returned a 404 (Not Found), Sorry, that page does not exist.\n"
     ]
    },
    {
     "data": {
      "application/vnd.jupyter.widget-view+json": {
       "model_id": "",
       "version_major": 2,
       "version_minor": 0
      },
      "text/plain": [
       "HBox(children=(IntProgress(value=0, max=4), HTML(value='')))"
      ]
     },
     "metadata": {},
     "output_type": "display_data"
    },
    {
     "data": {
      "application/vnd.jupyter.widget-view+json": {
       "model_id": "",
       "version_major": 2,
       "version_minor": 0
      },
      "text/plain": [
       "HBox(children=(IntProgress(value=0, max=2), HTML(value='')))"
      ]
     },
     "metadata": {},
     "output_type": "display_data"
    },
    {
     "data": {
      "application/vnd.jupyter.widget-view+json": {
       "model_id": "",
       "version_major": 2,
       "version_minor": 0
      },
      "text/plain": [
       "HBox(children=(IntProgress(value=0, max=19), HTML(value='')))"
      ]
     },
     "metadata": {},
     "output_type": "display_data"
    },
    {
     "data": {
      "application/vnd.jupyter.widget-view+json": {
       "model_id": "",
       "version_major": 2,
       "version_minor": 0
      },
      "text/plain": [
       "HBox(children=(IntProgress(value=0, max=8), HTML(value='')))"
      ]
     },
     "metadata": {},
     "output_type": "display_data"
    },
    {
     "data": {
      "application/vnd.jupyter.widget-view+json": {
       "model_id": "",
       "version_major": 2,
       "version_minor": 0
      },
      "text/plain": [
       "HBox(children=(IntProgress(value=0, max=4), HTML(value='')))"
      ]
     },
     "metadata": {},
     "output_type": "display_data"
    },
    {
     "data": {
      "application/vnd.jupyter.widget-view+json": {
       "model_id": "",
       "version_major": 2,
       "version_minor": 0
      },
      "text/plain": [
       "HBox(children=(IntProgress(value=0, max=8), HTML(value='')))"
      ]
     },
     "metadata": {},
     "output_type": "display_data"
    },
    {
     "data": {
      "application/vnd.jupyter.widget-view+json": {
       "model_id": "",
       "version_major": 2,
       "version_minor": 0
      },
      "text/plain": [
       "HBox(children=(IntProgress(value=0, max=1071), HTML(value='')))"
      ]
     },
     "metadata": {},
     "output_type": "display_data"
    },
    {
     "name": "stdout",
     "output_type": "stream",
     "text": [
      "adidas 1112177329516748800 Twitter API returned a 403 (Forbidden), Sorry, you are not authorized to see this status.\n",
      "adidas 1120901613751660544 Twitter API returned a 403 (Forbidden), User has been suspended.\n",
      "adidas 1132602291133882368 Twitter API returned a 404 (Not Found), No status found with that ID.\n",
      "adidas 1101442105350606848 Twitter API returned a 404 (Not Found), No status found with that ID.\n",
      "adidas 1129337167245824000 Twitter API returned a 403 (Forbidden), User has been suspended.\n",
      "adidas 1098856237049864192 Twitter API returned a 404 (Not Found), No status found with that ID.\n",
      "adidas 1109288860809416705 Twitter API returned a 403 (Forbidden), Sorry, you are not authorized to see this status.\n",
      "adidas 1097802347810443264 Twitter API returned a 404 (Not Found), No status found with that ID.\n",
      "adidas 1110026329968336896 Twitter API returned a 403 (Forbidden), Sorry, you are not authorized to see this status.\n",
      "adidas 1098854458262339585 Twitter API returned a 404 (Not Found), No status found with that ID.\n",
      "adidas 1108647200861519873 Twitter API returned a 404 (Not Found), No status found with that ID.\n",
      "adidas 1098727636702965760 Twitter API returned a 404 (Not Found), No status found with that ID.\n",
      "adidas 1109107487448412160 Twitter API returned a 403 (Forbidden), User has been suspended.\n",
      "adidas 1132560249456480257 Twitter API returned a 404 (Not Found), No status found with that ID.\n",
      "adidas 1108201695295746048 Twitter API returned a 403 (Forbidden), Sorry, you are not authorized to see this status.\n",
      "adidas 1117276183056355330 Twitter API returned a 404 (Not Found), Sorry, that page does not exist.\n",
      "adidas 1109294008784826368 Twitter API returned a 403 (Forbidden), Sorry, you are not authorized to see this status.\n",
      "adidas 1109294010529693696 Twitter API returned a 403 (Forbidden), Sorry, you are not authorized to see this status.\n",
      "adidas 1109452340359159809 Twitter API returned a 429 (Too Many Requests), Rate limit exceeded\n",
      "adidas 1109452340359159809 Twitter API returned a 429 (Too Many Requests), Rate limit exceeded\n",
      "adidas 1109452340359159809 Twitter API returned a 429 (Too Many Requests), Rate limit exceeded\n",
      "adidas 1109452340359159809 Twitter API returned a 429 (Too Many Requests), Rate limit exceeded\n",
      "adidas 1109237428626313216 Twitter API returned a 403 (Forbidden), Sorry, you are not authorized to see this status.\n",
      "adidas 1115630462423064576 Twitter API returned a 404 (Not Found), No status found with that ID.\n",
      "adidas 1109288858422788096 Twitter API returned a 403 (Forbidden), Sorry, you are not authorized to see this status.\n",
      "adidas 1098738605810315264 Twitter API returned a 404 (Not Found), No status found with that ID.\n",
      "adidas 1127166476413050881 Twitter API returned a 404 (Not Found), No status found with that ID.\n",
      "adidas 1129337153723330560 Twitter API returned a 403 (Forbidden), User has been suspended.\n"
     ]
    },
    {
     "data": {
      "application/vnd.jupyter.widget-view+json": {
       "model_id": "",
       "version_major": 2,
       "version_minor": 0
      },
      "text/plain": [
       "HBox(children=(IntProgress(value=0, max=200), HTML(value='')))"
      ]
     },
     "metadata": {},
     "output_type": "display_data"
    },
    {
     "name": "stdout",
     "output_type": "stream",
     "text": [
      "adidasoriginal 1084131496913453056 Twitter API returned a 403 (Forbidden), Sorry, you are not authorized to see this status.\n",
      "adidasoriginal 1083962574394347522 Twitter API returned a 403 (Forbidden), Sorry, you are not authorized to see this status.\n",
      "adidasoriginal 1105483424230445058 Twitter API returned a 403 (Forbidden), Sorry, you are not authorized to see this status.\n",
      "adidasoriginal 1084325238572236800 Twitter API returned a 403 (Forbidden), Sorry, you are not authorized to see this status.\n",
      "adidasoriginal 1084449014928625667 Twitter API returned a 403 (Forbidden), Sorry, you are not authorized to see this status.\n",
      "adidasoriginal 1084420689753501696 Twitter API returned a 403 (Forbidden), Sorry, you are not authorized to see this status.\n",
      "adidasoriginal 1084319999035092992 Twitter API returned a 403 (Forbidden), Sorry, you are not authorized to see this status.\n",
      "adidasoriginal 1083986050073223170 Twitter API returned a 403 (Forbidden), Sorry, you are not authorized to see this status.\n",
      "adidasoriginal 1083959832867155969 Twitter API returned a 403 (Forbidden), Sorry, you are not authorized to see this status.\n",
      "adidasoriginal 1084340810387259392 Twitter API returned a 403 (Forbidden), Sorry, you are not authorized to see this status.\n"
     ]
    },
    {
     "data": {
      "application/vnd.jupyter.widget-view+json": {
       "model_id": "",
       "version_major": 2,
       "version_minor": 0
      },
      "text/plain": [
       "HBox(children=(IntProgress(value=0, max=15), HTML(value='')))"
      ]
     },
     "metadata": {},
     "output_type": "display_data"
    },
    {
     "data": {
      "application/vnd.jupyter.widget-view+json": {
       "model_id": "",
       "version_major": 2,
       "version_minor": 0
      },
      "text/plain": [
       "HBox(children=(IntProgress(value=0, max=1), HTML(value='')))"
      ]
     },
     "metadata": {},
     "output_type": "display_data"
    },
    {
     "data": {
      "application/vnd.jupyter.widget-view+json": {
       "model_id": "",
       "version_major": 2,
       "version_minor": 0
      },
      "text/plain": [
       "HBox(children=(IntProgress(value=0, max=4), HTML(value='')))"
      ]
     },
     "metadata": {},
     "output_type": "display_data"
    },
    {
     "data": {
      "application/vnd.jupyter.widget-view+json": {
       "model_id": "",
       "version_major": 2,
       "version_minor": 0
      },
      "text/plain": [
       "HBox(children=(IntProgress(value=0, max=51), HTML(value='')))"
      ]
     },
     "metadata": {},
     "output_type": "display_data"
    },
    {
     "name": "stdout",
     "output_type": "stream",
     "text": [
      "alexandermcqueen 1137389845762805760 Twitter API returned a 403 (Forbidden), Sorry, you are not authorized to see this status.\n"
     ]
    },
    {
     "data": {
      "application/vnd.jupyter.widget-view+json": {
       "model_id": "",
       "version_major": 2,
       "version_minor": 0
      },
      "text/plain": [
       "HBox(children=(IntProgress(value=0, max=11), HTML(value='')))"
      ]
     },
     "metadata": {},
     "output_type": "display_data"
    },
    {
     "data": {
      "application/vnd.jupyter.widget-view+json": {
       "model_id": "",
       "version_major": 2,
       "version_minor": 0
      },
      "text/plain": [
       "HBox(children=(IntProgress(value=0, max=16), HTML(value='')))"
      ]
     },
     "metadata": {},
     "output_type": "display_data"
    },
    {
     "data": {
      "application/vnd.jupyter.widget-view+json": {
       "model_id": "",
       "version_major": 2,
       "version_minor": 0
      },
      "text/plain": [
       "HBox(children=(IntProgress(value=0, max=5), HTML(value='')))"
      ]
     },
     "metadata": {},
     "output_type": "display_data"
    },
    {
     "data": {
      "application/vnd.jupyter.widget-view+json": {
       "model_id": "",
       "version_major": 2,
       "version_minor": 0
      },
      "text/plain": [
       "HBox(children=(IntProgress(value=0, max=1), HTML(value='')))"
      ]
     },
     "metadata": {},
     "output_type": "display_data"
    },
    {
     "data": {
      "application/vnd.jupyter.widget-view+json": {
       "model_id": "",
       "version_major": 2,
       "version_minor": 0
      },
      "text/plain": [
       "HBox(children=(IntProgress(value=0, max=7730), HTML(value='')))"
      ]
     },
     "metadata": {},
     "output_type": "display_data"
    },
    {
     "name": "stdout",
     "output_type": "stream",
     "text": [
      "ami 1130714594924683265 Twitter API returned a 404 (Not Found), No status found with that ID.\n",
      "ami 1138333544596398081 Twitter API returned a 404 (Not Found), No status found with that ID.\n",
      "ami 1125398780004536325 Twitter API returned a 404 (Not Found), No status found with that ID.\n",
      "ami 1130504197739204608 Twitter API returned a 404 (Not Found), No status found with that ID.\n",
      "ami 1084025463490568193 Twitter API returned a 403 (Forbidden), Sorry, you are not authorized to see this status.\n",
      "ami 1102171799599513600 Twitter API returned a 404 (Not Found), No status found with that ID.\n",
      "ami 1132608977416495104 Twitter API returned a 404 (Not Found), Sorry, that page does not exist.\n",
      "ami 1131537900376547328 Twitter API returned a 404 (Not Found), Sorry, that page does not exist.\n",
      "ami 1141348174763663360 Twitter API returned a 404 (Not Found), Sorry, that page does not exist.\n",
      "ami 1141334290526945287 Twitter API returned a 404 (Not Found), No status found with that ID.\n",
      "ami 1139523505492414464 Twitter API returned a 404 (Not Found), No status found with that ID.\n",
      "ami 1081388307567669249 Twitter API returned a 429 (Too Many Requests), Rate limit exceeded\n",
      "ami 1081388307567669249 Twitter API returned a 429 (Too Many Requests), Rate limit exceeded\n",
      "ami 1081388307567669249 Twitter API returned a 429 (Too Many Requests), Rate limit exceeded\n",
      "ami 1081388307567669249 Twitter API returned a 429 (Too Many Requests), Rate limit exceeded\n",
      "ami 1100023762534027265 Twitter API returned a 404 (Not Found), Sorry, that page does not exist.\n",
      "ami 1092332804581380096 Twitter API returned a 403 (Forbidden), User has been suspended.\n",
      "ami 1137209058593726464 Twitter API returned a 404 (Not Found), Sorry, that page does not exist.\n",
      "ami 1113341478762188800 Twitter API returned a 403 (Forbidden), Sorry, you are not authorized to see this status.\n",
      "ami 1122037964219899904 Twitter API returned a 404 (Not Found), Sorry, that page does not exist.\n",
      "ami 1083561398016172034 Twitter API returned a 403 (Forbidden), Sorry, you are not authorized to see this status.\n",
      "ami 1140944065757736960 Twitter API returned a 404 (Not Found), Sorry, that page does not exist.\n",
      "ami 1134798987871973376 Twitter API returned a 404 (Not Found), Sorry, that page does not exist.\n",
      "ami 1118937553917362176 Twitter API returned a 403 (Forbidden), Sorry, you are not authorized to see this status.\n",
      "ami 1084443370720612354 Twitter API returned a 403 (Forbidden), Sorry, you are not authorized to see this status.\n",
      "ami 1136037894647402497 Twitter API returned a 404 (Not Found), No status found with that ID.\n",
      "ami 1140252726074286080 Twitter API returned a 404 (Not Found), No status found with that ID.\n",
      "ami 1096461578193362944 Twitter API returned a 404 (Not Found), Sorry, that page does not exist.\n",
      "ami 1134215206291161089 Twitter API returned a 404 (Not Found), No status found with that ID.\n",
      "ami 1121608996232712192 Twitter API returned a 404 (Not Found), No status found with that ID.\n",
      "ami 1097511780698357760 Twitter API returned a 403 (Forbidden), Sorry, you are not authorized to see this status.\n",
      "ami 1136202241709301760 Twitter API returned a 404 (Not Found), No status found with that ID.\n",
      "ami 1134793951162949637 Twitter API returned a 404 (Not Found), No status found with that ID.\n",
      "ami 1138807760760348673 Twitter API returned a 404 (Not Found), No status found with that ID.\n",
      "ami 1136566549903433728 Twitter API returned a 404 (Not Found), No status found with that ID.\n",
      "ami 1136175166868692992 Twitter API returned a 404 (Not Found), No status found with that ID.\n",
      "ami 1134060030439743490 Twitter API returned a 404 (Not Found), No status found with that ID.\n",
      "ami 1141120740961296384 Twitter API returned a 404 (Not Found), No status found with that ID.\n",
      "ami 1139346685820317696 Twitter API returned a 429 (Too Many Requests), Rate limit exceeded\n",
      "ami 1139346685820317696 Twitter API returned a 429 (Too Many Requests), Rate limit exceeded\n",
      "ami 1139346685820317696 Twitter API returned a 429 (Too Many Requests), Rate limit exceeded\n",
      "ami 1139346685820317696 Twitter API returned a 429 (Too Many Requests), Rate limit exceeded\n",
      "ami 1139846836825382913 Twitter API returned a 404 (Not Found), Sorry, that page does not exist.\n",
      "ami 1127919144299450369 Twitter API returned a 404 (Not Found), No status found with that ID.\n",
      "ami 1140668325099266057 Twitter API returned a 404 (Not Found), No status found with that ID.\n",
      "ami 1107290500988440577 Twitter API returned a 404 (Not Found), No status found with that ID.\n",
      "ami 1137013711305039874 Twitter API returned a 404 (Not Found), No status found with that ID.\n",
      "ami 1135093399625691136 Twitter API returned a 404 (Not Found), No status found with that ID.\n",
      "ami 1140599778184589312 Twitter API returned a 404 (Not Found), Sorry, that page does not exist.\n",
      "ami 1131537095334408192 Twitter API returned a 404 (Not Found), Sorry, that page does not exist.\n",
      "ami 1081962089424379904 Twitter API returned a 403 (Forbidden), Sorry, you are not authorized to see this status.\n",
      "ami 1131548365290762240 Twitter API returned a 403 (Forbidden), Sorry, you are not authorized to see this status.\n",
      "ami 1109273577428344832 Twitter API returned a 403 (Forbidden), Sorry, you are not authorized to see this status.\n",
      "ami 1096459858193203200 Twitter API returned a 404 (Not Found), Sorry, that page does not exist.\n",
      "ami 1140944022355099648 Twitter API returned a 404 (Not Found), Sorry, that page does not exist.\n",
      "ami 1131990376384847872 Twitter API returned a 429 (Too Many Requests), Rate limit exceeded\n",
      "ami 1131990376384847872 Twitter API returned a 429 (Too Many Requests), Rate limit exceeded\n",
      "ami 1131990376384847872 Twitter API returned a 429 (Too Many Requests), Rate limit exceeded\n",
      "ami 1131990376384847872 Twitter API returned a 429 (Too Many Requests), Rate limit exceeded\n",
      "ami 1112383587502833664 Twitter API returned a 404 (Not Found), Sorry, that page does not exist.\n",
      "ami 1134105436641042434 Twitter API returned a 404 (Not Found), No status found with that ID.\n",
      "ami 1088081971882876931 Twitter API returned a 404 (Not Found), Sorry, that page does not exist.\n",
      "ami 1134015295515795456 Twitter API returned a 404 (Not Found), No status found with that ID.\n",
      "ami 1112889736354385920 Twitter API returned a 404 (Not Found), No status found with that ID.\n",
      "ami 1134033540771790848 Twitter API returned a 404 (Not Found), No status found with that ID.\n",
      "ami 1134748474056925184 Twitter API returned a 404 (Not Found), No status found with that ID.\n",
      "ami 1092710539707314177 Twitter API returned a 404 (Not Found), No status found with that ID.\n",
      "ami 1131460691506786304 Twitter API returned a 403 (Forbidden), Sorry, you are not authorized to see this status.\n",
      "ami 1118740950321438721 Twitter API returned a 403 (Forbidden), Sorry, you are not authorized to see this status.\n",
      "ami 1117801621923098624 Twitter API returned a 403 (Forbidden), Sorry, you are not authorized to see this status.\n",
      "ami 1101044299519557632 Twitter API returned a 404 (Not Found), No status found with that ID.\n",
      "ami 1099057653177708545 Twitter API returned a 404 (Not Found), Sorry, that page does not exist.\n",
      "ami 1080586238015373312 Twitter API returned a 429 (Too Many Requests), Rate limit exceeded\n",
      "ami 1080586238015373312 Twitter API returned a 429 (Too Many Requests), Rate limit exceeded\n",
      "ami 1080586238015373312 Twitter API returned a 429 (Too Many Requests), Rate limit exceeded\n",
      "ami 1080586238015373312 Twitter API returned a 429 (Too Many Requests), Rate limit exceeded\n",
      "ami 1080586238015373312 Twitter API returned a 429 (Too Many Requests), Rate limit exceeded\n",
      "ami 1138092314155339776 Twitter API returned a 404 (Not Found), No status found with that ID.\n",
      "ami 1141484591980535808 Twitter API returned a 404 (Not Found), No status found with that ID.\n",
      "ami 1082618596356808706 Twitter API returned a 404 (Not Found), No status found with that ID.\n",
      "ami 1094671125156483072 Twitter API returned a 404 (Not Found), No status found with that ID.\n",
      "ami 1134095087313477632 Twitter API returned a 404 (Not Found), No status found with that ID.\n",
      "ami 1126475335581650946 Twitter API returned a 403 (Forbidden), Sorry, you are not authorized to see this status.\n",
      "ami 1138401790066475008 Twitter API returned a 404 (Not Found), Sorry, that page does not exist.\n",
      "ami 1134014447398187009 Twitter API returned a 404 (Not Found), No status found with that ID.\n",
      "ami 1128082731148013579 Twitter API returned a 404 (Not Found), No status found with that ID.\n",
      "ami 1134016568612933633 Twitter API returned a 404 (Not Found), No status found with that ID.\n",
      "ami 1082963033767309312 Twitter API returned a 403 (Forbidden), Sorry, you are not authorized to see this status.\n",
      "ami 1109482015022153728 Twitter API returned a 404 (Not Found), No status found with that ID.\n",
      "ami 1140563447911813121 Twitter API returned a 404 (Not Found), Sorry, that page does not exist.\n",
      "ami 1124986909187461120 Twitter API returned a 403 (Forbidden), Sorry, you are not authorized to see this status.\n",
      "ami 1135306118769418240 Twitter API returned a 404 (Not Found), No status found with that ID.\n",
      "ami 1140973735203098626 Twitter API returned a 404 (Not Found), No status found with that ID.\n",
      "ami 1098379286505902080 Twitter API returned a 404 (Not Found), Sorry, that page does not exist.\n",
      "ami 1140998199840104448 Twitter API returned a 404 (Not Found), Sorry, that page does not exist.\n",
      "ami 1102034870149120000 Twitter API returned a 429 (Too Many Requests), Rate limit exceeded\n",
      "ami 1102034870149120000 Twitter API returned a 429 (Too Many Requests), Rate limit exceeded\n",
      "ami 1102034870149120000 Twitter API returned a 429 (Too Many Requests), Rate limit exceeded\n",
      "ami 1102034870149120000 Twitter API returned a 429 (Too Many Requests), Rate limit exceeded\n",
      "ami 1118816297964441600 Twitter API returned a 403 (Forbidden), Sorry, you are not authorized to see this status.\n",
      "ami 1098211104327557120 Twitter API returned a 404 (Not Found), Sorry, that page does not exist.\n",
      "ami 1091532612223430658 Twitter API returned a 403 (Forbidden), Sorry, you are not authorized to see this status.\n",
      "ami 1127550960283185152 Twitter API returned a 404 (Not Found), No status found with that ID.\n",
      "ami 1140286296067198976 Twitter API returned a 404 (Not Found), No status found with that ID.\n",
      "ami 1079946858309406720 Twitter API returned a 403 (Forbidden), User has been suspended.\n",
      "ami 1118027172533288960 Twitter API returned a 404 (Not Found), No status found with that ID.\n",
      "ami 1132902371426627584 Twitter API returned a 404 (Not Found), No status found with that ID.\n",
      "ami 1080011394936958976 Twitter API returned a 403 (Forbidden), Sorry, you are not authorized to see this status.\n",
      "ami 1082167362005000192 Twitter API returned a 404 (Not Found), No status found with that ID.\n",
      "ami 1126734853179764736 Twitter API returned a 404 (Not Found), No status found with that ID.\n",
      "ami 1104426627105120258 Twitter API returned a 404 (Not Found), No status found with that ID.\n",
      "ami 1131319697608101888 Twitter API returned a 404 (Not Found), No status found with that ID.\n",
      "ami 1136056081451372544 Twitter API returned a 404 (Not Found), No status found with that ID.\n",
      "ami 1138070534451630080 Twitter API returned a 404 (Not Found), Sorry, that page does not exist.\n",
      "ami 1086798544634171392 Twitter API returned a 429 (Too Many Requests), Rate limit exceeded\n",
      "ami 1086798544634171392 Twitter API returned a 429 (Too Many Requests), Rate limit exceeded\n",
      "ami 1086798544634171392 Twitter API returned a 429 (Too Many Requests), Rate limit exceeded\n",
      "ami 1086798544634171392 Twitter API returned a 429 (Too Many Requests), Rate limit exceeded\n",
      "ami 1086798544634171392 Twitter API returned a 429 (Too Many Requests), Rate limit exceeded\n",
      "ami 1118016210216660993 Twitter API returned a 403 (Forbidden), Sorry, you are not authorized to see this status.\n",
      "ami 1095577039212400641 Twitter API returned a 404 (Not Found), Sorry, that page does not exist.\n",
      "ami 1108035454568402945 Twitter API returned a 403 (Forbidden), Sorry, you are not authorized to see this status.\n",
      "ami 1138376034250706944 Twitter API returned a 404 (Not Found), Sorry, that page does not exist.\n",
      "ami 1134015865949528064 Twitter API returned a 404 (Not Found), No status found with that ID.\n",
      "ami 1141152975890440192 Twitter API returned a 404 (Not Found), No status found with that ID.\n",
      "ami 1134854084043821056 Twitter API returned a 404 (Not Found), No status found with that ID.\n",
      "ami 1121347989216403457 Twitter API returned a 404 (Not Found), No status found with that ID.\n",
      "ami 1132282911762206720 Twitter API returned a 404 (Not Found), No status found with that ID.\n",
      "ami 1119254429541310465 Twitter API returned a 403 (Forbidden), User has been suspended.\n",
      "ami 1118756176919842816 Twitter API returned a 403 (Forbidden), Sorry, you are not authorized to see this status.\n",
      "ami 1141420395255386112 Twitter API returned a 403 (Forbidden), Sorry, you are not authorized to see this status.\n",
      "ami 1104348396167475202 Twitter API returned a 404 (Not Found), Sorry, that page does not exist.\n",
      "ami 1107594089770311693 Twitter API returned a 404 (Not Found), No status found with that ID.\n",
      "ami 1126139743828189184 Twitter API returned a 404 (Not Found), No status found with that ID.\n",
      "ami 1109046175452127232 Twitter API returned a 404 (Not Found), Sorry, that page does not exist.\n",
      "ami 1136312953995636736 Twitter API returned a 404 (Not Found), No status found with that ID.\n",
      "ami 1099652610808631296 Twitter API returned a 404 (Not Found), No status found with that ID.\n",
      "ami 1136288509906436096 Twitter API returned a 403 (Forbidden), Sorry, you are not authorized to see this status.\n",
      "ami 1121347906534019075 Twitter API returned a 403 (Forbidden), Sorry, you are not authorized to see this status.\n",
      "ami 1109454844149067776 Twitter API returned a 403 (Forbidden), Sorry, you are not authorized to see this status.\n",
      "ami 1096461122591281152 Twitter API returned a 404 (Not Found), Sorry, that page does not exist.\n",
      "ami 1125651649324666880 Twitter API returned a 429 (Too Many Requests), Rate limit exceeded\n",
      "ami 1125651649324666880 Twitter API returned a 429 (Too Many Requests), Rate limit exceeded\n",
      "ami 1125651649324666880 Twitter API returned a 429 (Too Many Requests), Rate limit exceeded\n",
      "ami 1125651649324666880 Twitter API returned a 429 (Too Many Requests), Rate limit exceeded\n",
      "ami 1125651649324666880 Twitter API returned a 429 (Too Many Requests), Rate limit exceeded\n",
      "ami 1128936865908662272 Twitter API returned a 404 (Not Found), Sorry, that page does not exist.\n",
      "ami 1140260188265435137 Twitter API returned a 404 (Not Found), Sorry, that page does not exist.\n",
      "ami 1141211536700002306 Twitter API returned a 404 (Not Found), Sorry, that page does not exist.\n",
      "ami 1135836837824491520 Twitter API returned a 404 (Not Found), No status found with that ID.\n",
      "ami 1140093102482284544 Twitter API returned a 404 (Not Found), Sorry, that page does not exist.\n",
      "ami 1139944224219000834 Twitter API returned a 404 (Not Found), No status found with that ID.\n",
      "ami 1139507443191259136 Twitter API returned a 404 (Not Found), No status found with that ID.\n",
      "ami 1088100317986603008 Twitter API returned a 404 (Not Found), No status found with that ID.\n",
      "ami 1119201985243127808 Twitter API returned a 403 (Forbidden), Sorry, you are not authorized to see this status.\n",
      "ami 1104723002866905094 Twitter API returned a 429 (Too Many Requests), Rate limit exceeded\n",
      "ami 1104723002866905094 Twitter API returned a 429 (Too Many Requests), Rate limit exceeded\n",
      "ami 1134500633170534400 Twitter API returned a 404 (Not Found), No status found with that ID.\n",
      "ami 1135175155934588928 Twitter API returned a 404 (Not Found), No status found with that ID.\n",
      "ami 1140974485694107648 Twitter API returned a 404 (Not Found), No status found with that ID.\n",
      "ami 1119533577522147328 Twitter API returned a 403 (Forbidden), Sorry, you are not authorized to see this status.\n",
      "ami 1112282411176353792 Twitter API returned a 404 (Not Found), No status found with that ID.\n",
      "ami 1110131769859170304 Twitter API returned a 404 (Not Found), Sorry, that page does not exist.\n",
      "ami 1085190937804853251 Twitter API returned a 404 (Not Found), No status found with that ID.\n",
      "ami 1141343132837003264 Twitter API returned a 404 (Not Found), No status found with that ID.\n",
      "ami 1119254566141296647 Twitter API returned a 403 (Forbidden), Sorry, you are not authorized to see this status.\n",
      "ami 1139780172154953728 Twitter API returned a 404 (Not Found), No status found with that ID.\n"
     ]
    },
    {
     "name": "stdout",
     "output_type": "stream",
     "text": [
      "ami 1137018788098916352 Twitter API returned a 404 (Not Found), No status found with that ID.\n",
      "ami 1112614187677577217 Twitter API returned a 403 (Forbidden), Sorry, you are not authorized to see this status.\n",
      "ami 1108639415537188864 Twitter API returned a 403 (Forbidden), Sorry, you are not authorized to see this status.\n",
      "ami 1118756278317219840 Twitter API returned a 403 (Forbidden), Sorry, you are not authorized to see this status.\n",
      "ami 1132646386149646336 Twitter API returned a 404 (Not Found), Sorry, that page does not exist.\n",
      "ami 1098832082485137408 Twitter API returned a 404 (Not Found), No status found with that ID.\n",
      "ami 1131898779525758976 Twitter API returned a 403 (Forbidden), Sorry, you are not authorized to see this status.\n",
      "ami 1080133405637898241 Twitter API returned a 429 (Too Many Requests), Rate limit exceeded\n",
      "ami 1080133405637898241 Twitter API returned a 429 (Too Many Requests), Rate limit exceeded\n",
      "ami 1080133405637898241 Twitter API returned a 429 (Too Many Requests), Rate limit exceeded\n",
      "ami 1080133405637898241 Twitter API returned a 429 (Too Many Requests), Rate limit exceeded\n",
      "ami 1133310431227891712 Twitter API returned a 403 (Forbidden), Sorry, you are not authorized to see this status.\n"
     ]
    },
    {
     "data": {
      "application/vnd.jupyter.widget-view+json": {
       "model_id": "",
       "version_major": 2,
       "version_minor": 0
      },
      "text/plain": [
       "HBox(children=(IntProgress(value=0, max=4), HTML(value='')))"
      ]
     },
     "metadata": {},
     "output_type": "display_data"
    },
    {
     "data": {
      "application/vnd.jupyter.widget-view+json": {
       "model_id": "",
       "version_major": 2,
       "version_minor": 0
      },
      "text/plain": [
       "HBox(children=(IntProgress(value=0, max=3), HTML(value='')))"
      ]
     },
     "metadata": {},
     "output_type": "display_data"
    },
    {
     "name": "stdout",
     "output_type": "stream",
     "text": [
      "antisocialsocialclub 1098224772515655680 Twitter API returned a 404 (Not Found), No status found with that ID.\n"
     ]
    },
    {
     "data": {
      "application/vnd.jupyter.widget-view+json": {
       "model_id": "",
       "version_major": 2,
       "version_minor": 0
      },
      "text/plain": [
       "HBox(children=(IntProgress(value=0, max=1), HTML(value='')))"
      ]
     },
     "metadata": {},
     "output_type": "display_data"
    },
    {
     "data": {
      "application/vnd.jupyter.widget-view+json": {
       "model_id": "",
       "version_major": 2,
       "version_minor": 0
      },
      "text/plain": [
       "HBox(children=(IntProgress(value=0, max=22), HTML(value='')))"
      ]
     },
     "metadata": {},
     "output_type": "display_data"
    },
    {
     "data": {
      "application/vnd.jupyter.widget-view+json": {
       "model_id": "",
       "version_major": 2,
       "version_minor": 0
      },
      "text/plain": [
       "HBox(children=(IntProgress(value=0, max=95), HTML(value='')))"
      ]
     },
     "metadata": {},
     "output_type": "display_data"
    },
    {
     "name": "stdout",
     "output_type": "stream",
     "text": [
      "asics 1139785331832528896 Twitter API returned a 404 (Not Found), No status found with that ID.\n",
      "asics 1106401535641030656 Twitter API returned a 403 (Forbidden), User has been suspended.\n"
     ]
    },
    {
     "data": {
      "application/vnd.jupyter.widget-view+json": {
       "model_id": "",
       "version_major": 2,
       "version_minor": 0
      },
      "text/plain": [
       "HBox(children=(IntProgress(value=0, max=1036), HTML(value='')))"
      ]
     },
     "metadata": {},
     "output_type": "display_data"
    },
    {
     "name": "stdout",
     "output_type": "stream",
     "text": [
      "balenciaga 1130457702583287808 Twitter API returned a 429 (Too Many Requests), Rate limit exceeded\n",
      "balenciaga 1130457702583287808 Twitter API returned a 429 (Too Many Requests), Rate limit exceeded\n",
      "balenciaga 1130457702583287808 Twitter API returned a 429 (Too Many Requests), Rate limit exceeded\n",
      "balenciaga 1130457702583287808 Twitter API returned a 429 (Too Many Requests), Rate limit exceeded\n"
     ]
    },
    {
     "data": {
      "application/vnd.jupyter.widget-view+json": {
       "model_id": "",
       "version_major": 2,
       "version_minor": 0
      },
      "text/plain": [
       "HBox(children=(IntProgress(value=0, max=192), HTML(value='')))"
      ]
     },
     "metadata": {},
     "output_type": "display_data"
    },
    {
     "data": {
      "application/vnd.jupyter.widget-view+json": {
       "model_id": "",
       "version_major": 2,
       "version_minor": 0
      },
      "text/plain": [
       "HBox(children=(IntProgress(value=0, max=41), HTML(value='')))"
      ]
     },
     "metadata": {},
     "output_type": "display_data"
    },
    {
     "data": {
      "application/vnd.jupyter.widget-view+json": {
       "model_id": "",
       "version_major": 2,
       "version_minor": 0
      },
      "text/plain": [
       "HBox(children=(IntProgress(value=0, max=29), HTML(value='')))"
      ]
     },
     "metadata": {},
     "output_type": "display_data"
    },
    {
     "name": "stdout",
     "output_type": "stream",
     "text": [
      "bape 1094105332354183168 Twitter API returned a 403 (Forbidden), Sorry, you are not authorized to see this status.\n"
     ]
    },
    {
     "data": {
      "application/vnd.jupyter.widget-view+json": {
       "model_id": "",
       "version_major": 2,
       "version_minor": 0
      },
      "text/plain": [
       "HBox(children=(IntProgress(value=0, max=15), HTML(value='')))"
      ]
     },
     "metadata": {},
     "output_type": "display_data"
    },
    {
     "data": {
      "application/vnd.jupyter.widget-view+json": {
       "model_id": "",
       "version_major": 2,
       "version_minor": 0
      },
      "text/plain": [
       "HBox(children=(IntProgress(value=0, max=66), HTML(value='')))"
      ]
     },
     "metadata": {},
     "output_type": "display_data"
    },
    {
     "name": "stdout",
     "output_type": "stream",
     "text": [
      "barrel 1136600073935003648 Twitter API returned a 403 (Forbidden), Sorry, you are not authorized to see this status.\n"
     ]
    },
    {
     "data": {
      "application/vnd.jupyter.widget-view+json": {
       "model_id": "",
       "version_major": 2,
       "version_minor": 0
      },
      "text/plain": [
       "HBox(children=(IntProgress(value=0, max=203), HTML(value='')))"
      ]
     },
     "metadata": {},
     "output_type": "display_data"
    },
    {
     "name": "stdout",
     "output_type": "stream",
     "text": [
      "bbc 1097745277505613825 Twitter API returned a 403 (Forbidden), User has been suspended.\n",
      "bbc 1131506682444435456 Twitter API returned a 429 (Too Many Requests), Rate limit exceeded\n",
      "bbc 1131506682444435456 Twitter API returned a 429 (Too Many Requests), Rate limit exceeded\n",
      "bbc 1131506682444435456 Twitter API returned a 429 (Too Many Requests), Rate limit exceeded\n",
      "bbc 1131506682444435456 Twitter API returned a 429 (Too Many Requests), Rate limit exceeded\n"
     ]
    },
    {
     "data": {
      "application/vnd.jupyter.widget-view+json": {
       "model_id": "",
       "version_major": 2,
       "version_minor": 0
      },
      "text/plain": [
       "HBox(children=(IntProgress(value=0, max=158), HTML(value='')))"
      ]
     },
     "metadata": {},
     "output_type": "display_data"
    },
    {
     "name": "stdout",
     "output_type": "stream",
     "text": [
      "beanpole 1127117630068813825 Twitter API returned a 403 (Forbidden), User has been suspended.\n"
     ]
    },
    {
     "data": {
      "application/vnd.jupyter.widget-view+json": {
       "model_id": "",
       "version_major": 2,
       "version_minor": 0
      },
      "text/plain": [
       "HBox(children=(IntProgress(value=0, max=1), HTML(value='')))"
      ]
     },
     "metadata": {},
     "output_type": "display_data"
    },
    {
     "data": {
      "application/vnd.jupyter.widget-view+json": {
       "model_id": "",
       "version_major": 2,
       "version_minor": 0
      },
      "text/plain": [
       "HBox(children=(IntProgress(value=0, max=1), HTML(value='')))"
      ]
     },
     "metadata": {},
     "output_type": "display_data"
    },
    {
     "data": {
      "application/vnd.jupyter.widget-view+json": {
       "model_id": "",
       "version_major": 2,
       "version_minor": 0
      },
      "text/plain": [
       "HBox(children=(IntProgress(value=0, max=11), HTML(value='')))"
      ]
     },
     "metadata": {},
     "output_type": "display_data"
    },
    {
     "data": {
      "application/vnd.jupyter.widget-view+json": {
       "model_id": "",
       "version_major": 2,
       "version_minor": 0
      },
      "text/plain": [
       "HBox(children=(IntProgress(value=0, max=142), HTML(value='')))"
      ]
     },
     "metadata": {},
     "output_type": "display_data"
    },
    {
     "name": "stdout",
     "output_type": "stream",
     "text": [
      "beyondcloset 1109382848694218754 Twitter API returned a 403 (Forbidden), Sorry, you are not authorized to see this status.\n"
     ]
    },
    {
     "data": {
      "application/vnd.jupyter.widget-view+json": {
       "model_id": "",
       "version_major": 2,
       "version_minor": 0
      },
      "text/plain": [
       "HBox(children=(IntProgress(value=0, max=22), HTML(value='')))"
      ]
     },
     "metadata": {},
     "output_type": "display_data"
    },
    {
     "name": "stdout",
     "output_type": "stream",
     "text": [
      "billylosangeles 1117678987277242369 Twitter API returned a 404 (Not Found), Sorry, that page does not exist.\n"
     ]
    },
    {
     "data": {
      "application/vnd.jupyter.widget-view+json": {
       "model_id": "",
       "version_major": 2,
       "version_minor": 0
      },
      "text/plain": [
       "HBox(children=(IntProgress(value=0, max=18), HTML(value='')))"
      ]
     },
     "metadata": {},
     "output_type": "display_data"
    },
    {
     "data": {
      "application/vnd.jupyter.widget-view+json": {
       "model_id": "",
       "version_major": 2,
       "version_minor": 0
      },
      "text/plain": [
       "HBox(children=(IntProgress(value=0, max=89), HTML(value='')))"
      ]
     },
     "metadata": {},
     "output_type": "display_data"
    },
    {
     "data": {
      "application/vnd.jupyter.widget-view+json": {
       "model_id": "",
       "version_major": 2,
       "version_minor": 0
      },
      "text/plain": [
       "HBox(children=(IntProgress(value=0, max=84), HTML(value='')))"
      ]
     },
     "metadata": {},
     "output_type": "display_data"
    },
    {
     "data": {
      "application/vnd.jupyter.widget-view+json": {
       "model_id": "",
       "version_major": 2,
       "version_minor": 0
      },
      "text/plain": [
       "HBox(children=(IntProgress(value=0, max=18), HTML(value='')))"
      ]
     },
     "metadata": {},
     "output_type": "display_data"
    },
    {
     "data": {
      "application/vnd.jupyter.widget-view+json": {
       "model_id": "",
       "version_major": 2,
       "version_minor": 0
      },
      "text/plain": [
       "HBox(children=(IntProgress(value=0, max=32), HTML(value='')))"
      ]
     },
     "metadata": {},
     "output_type": "display_data"
    },
    {
     "data": {
      "application/vnd.jupyter.widget-view+json": {
       "model_id": "",
       "version_major": 2,
       "version_minor": 0
      },
      "text/plain": [
       "HBox(children=(IntProgress(value=0, max=258), HTML(value='')))"
      ]
     },
     "metadata": {},
     "output_type": "display_data"
    },
    {
     "name": "stdout",
     "output_type": "stream",
     "text": [
      "burberry 1136300601128566784 Twitter API returned a 403 (Forbidden), Sorry, you are not authorized to see this status.\n"
     ]
    },
    {
     "data": {
      "application/vnd.jupyter.widget-view+json": {
       "model_id": "",
       "version_major": 2,
       "version_minor": 0
      },
      "text/plain": [
       "HBox(children=(IntProgress(value=0, max=69), HTML(value='')))"
      ]
     },
     "metadata": {},
     "output_type": "display_data"
    },
    {
     "name": "stdout",
     "output_type": "stream",
     "text": [
      "calvinklein 1117826942416359424 Twitter API returned a 429 (Too Many Requests), Rate limit exceeded\n",
      "calvinklein 1117826942416359424 Twitter API returned a 429 (Too Many Requests), Rate limit exceeded\n",
      "calvinklein 1117826942416359424 Twitter API returned a 429 (Too Many Requests), Rate limit exceeded\n",
      "calvinklein 1117826942416359424 Twitter API returned a 429 (Too Many Requests), Rate limit exceeded\n"
     ]
    },
    {
     "data": {
      "application/vnd.jupyter.widget-view+json": {
       "model_id": "",
       "version_major": 2,
       "version_minor": 0
      },
      "text/plain": [
       "HBox(children=(IntProgress(value=0, max=11), HTML(value='')))"
      ]
     },
     "metadata": {},
     "output_type": "display_data"
    },
    {
     "data": {
      "application/vnd.jupyter.widget-view+json": {
       "model_id": "",
       "version_major": 2,
       "version_minor": 0
      },
      "text/plain": [
       "HBox(children=(IntProgress(value=0, max=23), HTML(value='')))"
      ]
     },
     "metadata": {},
     "output_type": "display_data"
    },
    {
     "name": "stdout",
     "output_type": "stream",
     "text": [
      "carhartt 1122403884729638912 Twitter API returned a 403 (Forbidden), User has been suspended.\n"
     ]
    },
    {
     "data": {
      "application/vnd.jupyter.widget-view+json": {
       "model_id": "",
       "version_major": 2,
       "version_minor": 0
      },
      "text/plain": [
       "HBox(children=(IntProgress(value=0, max=1), HTML(value='')))"
      ]
     },
     "metadata": {},
     "output_type": "display_data"
    },
    {
     "data": {
      "application/vnd.jupyter.widget-view+json": {
       "model_id": "",
       "version_major": 2,
       "version_minor": 0
      },
      "text/plain": [
       "HBox(children=(IntProgress(value=0, max=36), HTML(value='')))"
      ]
     },
     "metadata": {},
     "output_type": "display_data"
    },
    {
     "data": {
      "application/vnd.jupyter.widget-view+json": {
       "model_id": "",
       "version_major": 2,
       "version_minor": 0
      },
      "text/plain": [
       "HBox(children=(IntProgress(value=0, max=128), HTML(value='')))"
      ]
     },
     "metadata": {},
     "output_type": "display_data"
    },
    {
     "data": {
      "application/vnd.jupyter.widget-view+json": {
       "model_id": "",
       "version_major": 2,
       "version_minor": 0
      },
      "text/plain": [
       "HBox(children=(IntProgress(value=0, max=697), HTML(value='')))"
      ]
     },
     "metadata": {},
     "output_type": "display_data"
    },
    {
     "name": "stdout",
     "output_type": "stream",
     "text": [
      "chanel 1136573986500939777 Twitter API returned a 403 (Forbidden), Sorry, you are not authorized to see this status.\n",
      "chanel 1107477099420549122 Twitter API returned a 403 (Forbidden), Sorry, you are not authorized to see this status.\n",
      "chanel 1133300513108217857 Twitter API returned a 404 (Not Found), No status found with that ID.\n",
      "chanel 1082558843664486401 Twitter API returned a 429 (Too Many Requests), Rate limit exceeded\n",
      "chanel 1082558843664486401 Twitter API returned a 429 (Too Many Requests), Rate limit exceeded\n",
      "chanel 1082558843664486401 Twitter API returned a 429 (Too Many Requests), Rate limit exceeded\n",
      "chanel 1124637250577285120 Twitter API returned a 404 (Not Found), No status found with that ID.\n",
      "chanel 1116235200365760513 Twitter API returned a 403 (Forbidden), Sorry, you are not authorized to see this status.\n"
     ]
    },
    {
     "data": {
      "application/vnd.jupyter.widget-view+json": {
       "model_id": "",
       "version_major": 2,
       "version_minor": 0
      },
      "text/plain": [
       "HBox(children=(IntProgress(value=0, max=2), HTML(value='')))"
      ]
     },
     "metadata": {},
     "output_type": "display_data"
    },
    {
     "data": {
      "application/vnd.jupyter.widget-view+json": {
       "model_id": "",
       "version_major": 2,
       "version_minor": 0
      },
      "text/plain": [
       "HBox(children=(IntProgress(value=0, max=200), HTML(value='')))"
      ]
     },
     "metadata": {},
     "output_type": "display_data"
    },
    {
     "name": "stdout",
     "output_type": "stream",
     "text": [
      "charms 1115455224351563776 Twitter API returned a 403 (Forbidden), User has been suspended.\n"
     ]
    },
    {
     "data": {
      "application/vnd.jupyter.widget-view+json": {
       "model_id": "",
       "version_major": 2,
       "version_minor": 0
      },
      "text/plain": [
       "HBox(children=(IntProgress(value=0, max=1768), HTML(value='')))"
      ]
     },
     "metadata": {},
     "output_type": "display_data"
    },
    {
     "name": "stdout",
     "output_type": "stream",
     "text": [
      "cherryla 1139986332489592833 Twitter API returned a 429 (Too Many Requests), Rate limit exceeded\n",
      "cherryla 1139986332489592833 Twitter API returned a 429 (Too Many Requests), Rate limit exceeded\n",
      "cherryla 1139986332489592833 Twitter API returned a 429 (Too Many Requests), Rate limit exceeded\n",
      "cherryla 1139986332489592833 Twitter API returned a 429 (Too Many Requests), Rate limit exceeded\n",
      "cherryla 1139193293323980800 Twitter API returned a 404 (Not Found), Sorry, that page does not exist.\n",
      "cherryla 1135890646621757441 Twitter API returned a 404 (Not Found), No status found with that ID.\n",
      "cherryla 1112852468562448384 Twitter API returned a 429 (Too Many Requests), Rate limit exceeded\n",
      "cherryla 1112852468562448384 Twitter API returned a 429 (Too Many Requests), Rate limit exceeded\n",
      "cherryla 1112852468562448384 Twitter API returned a 429 (Too Many Requests), Rate limit exceeded\n",
      "cherryla 1112852468562448384 Twitter API returned a 429 (Too Many Requests), Rate limit exceeded\n"
     ]
    },
    {
     "data": {
      "application/vnd.jupyter.widget-view+json": {
       "model_id": "",
       "version_major": 2,
       "version_minor": 0
      },
      "text/plain": [
       "HBox(children=(IntProgress(value=0, max=2), HTML(value='')))"
      ]
     },
     "metadata": {},
     "output_type": "display_data"
    },
    {
     "data": {
      "application/vnd.jupyter.widget-view+json": {
       "model_id": "",
       "version_major": 2,
       "version_minor": 0
      },
      "text/plain": [
       "HBox(children=(IntProgress(value=0, max=4), HTML(value='')))"
      ]
     },
     "metadata": {},
     "output_type": "display_data"
    },
    {
     "data": {
      "application/vnd.jupyter.widget-view+json": {
       "model_id": "",
       "version_major": 2,
       "version_minor": 0
      },
      "text/plain": [
       "HBox(children=(IntProgress(value=0, max=1), HTML(value='')))"
      ]
     },
     "metadata": {},
     "output_type": "display_data"
    },
    {
     "data": {
      "application/vnd.jupyter.widget-view+json": {
       "model_id": "",
       "version_major": 2,
       "version_minor": 0
      },
      "text/plain": [
       "HBox(children=(IntProgress(value=0, max=3414), HTML(value='')))"
      ]
     },
     "metadata": {},
     "output_type": "display_data"
    },
    {
     "name": "stdout",
     "output_type": "stream",
     "text": [
      "columbiasportswear 1081549408913698818 Twitter API returned a 429 (Too Many Requests), Rate limit exceeded\n",
      "columbiasportswear 1081549408913698818 Twitter API returned a 429 (Too Many Requests), Rate limit exceeded\n",
      "columbiasportswear 1081549408913698818 Twitter API returned a 429 (Too Many Requests), Rate limit exceeded\n",
      "columbiasportswear 1081549408913698818 Twitter API returned a 429 (Too Many Requests), Rate limit exceeded\n",
      "columbiasportswear 1111199678773628929 Twitter API returned a 403 (Forbidden), User has been suspended.\n",
      "columbiasportswear 1123700625684992000 Twitter API returned a 429 (Too Many Requests), Rate limit exceeded\n",
      "columbiasportswear 1123700625684992000 Twitter API returned a 429 (Too Many Requests), Rate limit exceeded\n",
      "columbiasportswear 1123700625684992000 Twitter API returned a 429 (Too Many Requests), Rate limit exceeded\n",
      "columbiasportswear 1123700625684992000 Twitter API returned a 429 (Too Many Requests), Rate limit exceeded\n",
      "columbiasportswear 1117791291121602560 Twitter API returned a 429 (Too Many Requests), Rate limit exceeded\n",
      "columbiasportswear 1117791291121602560 Twitter API returned a 429 (Too Many Requests), Rate limit exceeded\n",
      "columbiasportswear 1117791291121602560 Twitter API returned a 429 (Too Many Requests), Rate limit exceeded\n",
      "columbiasportswear 1117791291121602560 Twitter API returned a 429 (Too Many Requests), Rate limit exceeded\n",
      "columbiasportswear 1093402505172537344 Twitter API returned a 429 (Too Many Requests), Rate limit exceeded\n",
      "columbiasportswear 1093402505172537344 Twitter API returned a 429 (Too Many Requests), Rate limit exceeded\n",
      "columbiasportswear 1093402505172537344 Twitter API returned a 429 (Too Many Requests), Rate limit exceeded\n",
      "columbiasportswear 1093402505172537344 Twitter API returned a 429 (Too Many Requests), Rate limit exceeded\n"
     ]
    },
    {
     "data": {
      "application/vnd.jupyter.widget-view+json": {
       "model_id": "",
       "version_major": 2,
       "version_minor": 0
      },
      "text/plain": [
       "HBox(children=(IntProgress(value=0, max=27), HTML(value='')))"
      ]
     },
     "metadata": {},
     "output_type": "display_data"
    },
    {
     "name": "stdout",
     "output_type": "stream",
     "text": [
      "commedesgarcons 1118869788216811520 Twitter API returned a 404 (Not Found), No status found with that ID.\n"
     ]
    },
    {
     "data": {
      "application/vnd.jupyter.widget-view+json": {
       "model_id": "",
       "version_major": 2,
       "version_minor": 0
      },
      "text/plain": [
       "HBox(children=(IntProgress(value=0, max=209), HTML(value='')))"
      ]
     },
     "metadata": {},
     "output_type": "display_data"
    },
    {
     "name": "stdout",
     "output_type": "stream",
     "text": [
      "converse 1130393026558193664 Twitter API returned a 403 (Forbidden), User has been suspended.\n",
      "converse 1098721767927869441 Twitter API returned a 404 (Not Found), No status found with that ID.\n",
      "converse 1111897321082626049 Twitter API returned a 403 (Forbidden), User has been suspended.\n",
      "converse 1098720742684803072 Twitter API returned a 404 (Not Found), No status found with that ID.\n",
      "converse 1100030975285678080 Twitter API returned a 403 (Forbidden), Sorry, you are not authorized to see this status.\n",
      "converse 1097840091072851968 Twitter API returned a 404 (Not Found), No status found with that ID.\n",
      "converse 1111897318188564480 Twitter API returned a 403 (Forbidden), User has been suspended.\n"
     ]
    },
    {
     "data": {
      "application/vnd.jupyter.widget-view+json": {
       "model_id": "",
       "version_major": 2,
       "version_minor": 0
      },
      "text/plain": [
       "HBox(children=(IntProgress(value=0, max=40), HTML(value='')))"
      ]
     },
     "metadata": {},
     "output_type": "display_data"
    },
    {
     "data": {
      "application/vnd.jupyter.widget-view+json": {
       "model_id": "",
       "version_major": 2,
       "version_minor": 0
      },
      "text/plain": [
       "HBox(children=(IntProgress(value=0, max=28), HTML(value='')))"
      ]
     },
     "metadata": {},
     "output_type": "display_data"
    },
    {
     "data": {
      "application/vnd.jupyter.widget-view+json": {
       "model_id": "",
       "version_major": 2,
       "version_minor": 0
      },
      "text/plain": [
       "HBox(children=(IntProgress(value=0, max=106), HTML(value='')))"
      ]
     },
     "metadata": {},
     "output_type": "display_data"
    },
    {
     "name": "stdout",
     "output_type": "stream",
     "text": [
      "crocs 1122740823588610048 Twitter API returned a 404 (Not Found), No status found with that ID.\n"
     ]
    },
    {
     "data": {
      "application/vnd.jupyter.widget-view+json": {
       "model_id": "",
       "version_major": 2,
       "version_minor": 0
      },
      "text/plain": [
       "HBox(children=(IntProgress(value=0, max=31), HTML(value='')))"
      ]
     },
     "metadata": {},
     "output_type": "display_data"
    },
    {
     "data": {
      "application/vnd.jupyter.widget-view+json": {
       "model_id": "",
       "version_major": 2,
       "version_minor": 0
      },
      "text/plain": [
       "HBox(children=(IntProgress(value=0, max=1), HTML(value='')))"
      ]
     },
     "metadata": {},
     "output_type": "display_data"
    },
    {
     "data": {
      "application/vnd.jupyter.widget-view+json": {
       "model_id": "",
       "version_major": 2,
       "version_minor": 0
      },
      "text/plain": [
       "HBox(children=(IntProgress(value=0, max=1), HTML(value='')))"
      ]
     },
     "metadata": {},
     "output_type": "display_data"
    },
    {
     "data": {
      "application/vnd.jupyter.widget-view+json": {
       "model_id": "",
       "version_major": 2,
       "version_minor": 0
      },
      "text/plain": [
       "HBox(children=(IntProgress(value=0, max=5), HTML(value='')))"
      ]
     },
     "metadata": {},
     "output_type": "display_data"
    },
    {
     "data": {
      "application/vnd.jupyter.widget-view+json": {
       "model_id": "",
       "version_major": 2,
       "version_minor": 0
      },
      "text/plain": [
       "HBox(children=(IntProgress(value=0, max=22), HTML(value='')))"
      ]
     },
     "metadata": {},
     "output_type": "display_data"
    },
    {
     "data": {
      "application/vnd.jupyter.widget-view+json": {
       "model_id": "",
       "version_major": 2,
       "version_minor": 0
      },
      "text/plain": [
       "HBox(children=(IntProgress(value=0, max=6), HTML(value='')))"
      ]
     },
     "metadata": {},
     "output_type": "display_data"
    },
    {
     "data": {
      "application/vnd.jupyter.widget-view+json": {
       "model_id": "",
       "version_major": 2,
       "version_minor": 0
      },
      "text/plain": [
       "HBox(children=(IntProgress(value=0, max=412), HTML(value='')))"
      ]
     },
     "metadata": {},
     "output_type": "display_data"
    },
    {
     "name": "stdout",
     "output_type": "stream",
     "text": [
      "dior 1102549606599143424 Twitter API returned a 404 (Not Found), No status found with that ID.\n",
      "dior 1102038209167482880 Twitter API returned a 403 (Forbidden), Sorry, you are not authorized to see this status.\n",
      "dior 1104096061050695681 Twitter API returned a 403 (Forbidden), Sorry, you are not authorized to see this status.\n",
      "dior 1113770979245690881 Twitter API returned a 403 (Forbidden), Sorry, you are not authorized to see this status.\n",
      "dior 1113770363215798272 Twitter API returned a 403 (Forbidden), Sorry, you are not authorized to see this status.\n",
      "dior 1098727636702965760 Twitter API returned a 404 (Not Found), No status found with that ID.\n",
      "dior 1113769836545335297 Twitter API returned a 403 (Forbidden), Sorry, you are not authorized to see this status.\n",
      "dior 1098554083219140608 Twitter API returned a 404 (Not Found), No status found with that ID.\n",
      "dior 1086927008905474048 Twitter API returned a 403 (Forbidden), Sorry, you are not authorized to see this status.\n",
      "dior 1099521873853837312 Twitter API returned a 429 (Too Many Requests), Rate limit exceeded\n",
      "dior 1099521873853837312 Twitter API returned a 429 (Too Many Requests), Rate limit exceeded\n",
      "dior 1099521873853837312 Twitter API returned a 429 (Too Many Requests), Rate limit exceeded\n",
      "dior 1099521873853837312 Twitter API returned a 429 (Too Many Requests), Rate limit exceeded\n"
     ]
    },
    {
     "data": {
      "application/vnd.jupyter.widget-view+json": {
       "model_id": "",
       "version_major": 2,
       "version_minor": 0
      },
      "text/plain": [
       "HBox(children=(IntProgress(value=0, max=2), HTML(value='')))"
      ]
     },
     "metadata": {},
     "output_type": "display_data"
    },
    {
     "data": {
      "application/vnd.jupyter.widget-view+json": {
       "model_id": "",
       "version_major": 2,
       "version_minor": 0
      },
      "text/plain": [
       "HBox(children=(IntProgress(value=0, max=3), HTML(value='')))"
      ]
     },
     "metadata": {},
     "output_type": "display_data"
    },
    {
     "data": {
      "application/vnd.jupyter.widget-view+json": {
       "model_id": "",
       "version_major": 2,
       "version_minor": 0
      },
      "text/plain": [
       "HBox(children=(IntProgress(value=0, max=11), HTML(value='')))"
      ]
     },
     "metadata": {},
     "output_type": "display_data"
    },
    {
     "data": {
      "application/vnd.jupyter.widget-view+json": {
       "model_id": "",
       "version_major": 2,
       "version_minor": 0
      },
      "text/plain": [
       "HBox(children=(IntProgress(value=0, max=37), HTML(value='')))"
      ]
     },
     "metadata": {},
     "output_type": "display_data"
    },
    {
     "data": {
      "application/vnd.jupyter.widget-view+json": {
       "model_id": "",
       "version_major": 2,
       "version_minor": 0
      },
      "text/plain": [
       "HBox(children=(IntProgress(value=0, max=3), HTML(value='')))"
      ]
     },
     "metadata": {},
     "output_type": "display_data"
    },
    {
     "data": {
      "application/vnd.jupyter.widget-view+json": {
       "model_id": "",
       "version_major": 2,
       "version_minor": 0
      },
      "text/plain": [
       "HBox(children=(IntProgress(value=0, max=32), HTML(value='')))"
      ]
     },
     "metadata": {},
     "output_type": "display_data"
    },
    {
     "data": {
      "application/vnd.jupyter.widget-view+json": {
       "model_id": "",
       "version_major": 2,
       "version_minor": 0
      },
      "text/plain": [
       "HBox(children=(IntProgress(value=0, max=3), HTML(value='')))"
      ]
     },
     "metadata": {},
     "output_type": "display_data"
    },
    {
     "data": {
      "application/vnd.jupyter.widget-view+json": {
       "model_id": "",
       "version_major": 2,
       "version_minor": 0
      },
      "text/plain": [
       "HBox(children=(IntProgress(value=0, max=846), HTML(value='')))"
      ]
     },
     "metadata": {},
     "output_type": "display_data"
    },
    {
     "name": "stdout",
     "output_type": "stream",
     "text": [
      "eider 1100921999889588225 Twitter API returned a 403 (Forbidden), Sorry, you are not authorized to see this status.\n",
      "eider 1110709554092765190 Twitter API returned a 403 (Forbidden), Sorry, you are not authorized to see this status.\n",
      "eider 1096200251872927744 Twitter API returned a 403 (Forbidden), Sorry, you are not authorized to see this status.\n",
      "eider 1113389081151496192 Twitter API returned a 403 (Forbidden), Sorry, you are not authorized to see this status.\n",
      "eider 1102016270004772864 Twitter API returned a 403 (Forbidden), Sorry, you are not authorized to see this status.\n",
      "eider 1100909196600459265 Twitter API returned a 403 (Forbidden), User has been suspended.\n",
      "eider 1118709163129851905 Twitter API returned a 403 (Forbidden), Sorry, you are not authorized to see this status.\n",
      "eider 1113391092336971777 Twitter API returned a 403 (Forbidden), Sorry, you are not authorized to see this status.\n",
      "eider 1095853516281659393 Twitter API returned a 403 (Forbidden), Sorry, you are not authorized to see this status.\n",
      "eider 1141249979266191360 Twitter API returned a 404 (Not Found), No status found with that ID.\n",
      "eider 1123164683949621250 Twitter API returned a 403 (Forbidden), Sorry, you are not authorized to see this status.\n",
      "eider 1079895858961772544 Twitter API returned a 403 (Forbidden), User has been suspended.\n",
      "eider 1094858132604383232 Twitter API returned a 403 (Forbidden), Sorry, you are not authorized to see this status.\n",
      "eider 1110738294717898754 Twitter API returned a 403 (Forbidden), Sorry, you are not authorized to see this status.\n",
      "eider 1095854048966635520 Twitter API returned a 403 (Forbidden), Sorry, you are not authorized to see this status.\n",
      "eider 1118364867327660033 Twitter API returned a 403 (Forbidden), Sorry, you are not authorized to see this status.\n",
      "eider 1113381408020488192 Twitter API returned a 403 (Forbidden), Sorry, you are not authorized to see this status.\n",
      "eider 1134775109091188738 Twitter API returned a 404 (Not Found), No status found with that ID.\n",
      "eider 1094856383306944512 Twitter API returned a 429 (Too Many Requests), Rate limit exceeded\n",
      "eider 1094856383306944512 Twitter API returned a 429 (Too Many Requests), Rate limit exceeded\n",
      "eider 1094856383306944512 Twitter API returned a 429 (Too Many Requests), Rate limit exceeded\n",
      "eider 1094856383306944512 Twitter API returned a 429 (Too Many Requests), Rate limit exceeded\n",
      "eider 1100909043093135360 Twitter API returned a 403 (Forbidden), User has been suspended.\n",
      "eider 1095853760859885568 Twitter API returned a 403 (Forbidden), Sorry, you are not authorized to see this status.\n"
     ]
    },
    {
     "data": {
      "application/vnd.jupyter.widget-view+json": {
       "model_id": "",
       "version_major": 2,
       "version_minor": 0
      },
      "text/plain": [
       "HBox(children=(IntProgress(value=0, max=26), HTML(value='')))"
      ]
     },
     "metadata": {},
     "output_type": "display_data"
    },
    {
     "data": {
      "application/vnd.jupyter.widget-view+json": {
       "model_id": "",
       "version_major": 2,
       "version_minor": 0
      },
      "text/plain": [
       "HBox(children=(IntProgress(value=0, max=2), HTML(value='')))"
      ]
     },
     "metadata": {},
     "output_type": "display_data"
    },
    {
     "data": {
      "application/vnd.jupyter.widget-view+json": {
       "model_id": "",
       "version_major": 2,
       "version_minor": 0
      },
      "text/plain": [
       "HBox(children=(IntProgress(value=0, max=262), HTML(value='')))"
      ]
     },
     "metadata": {},
     "output_type": "display_data"
    },
    {
     "data": {
      "application/vnd.jupyter.widget-view+json": {
       "model_id": "",
       "version_major": 2,
       "version_minor": 0
      },
      "text/plain": [
       "HBox(children=(IntProgress(value=0, max=20), HTML(value='')))"
      ]
     },
     "metadata": {},
     "output_type": "display_data"
    },
    {
     "data": {
      "application/vnd.jupyter.widget-view+json": {
       "model_id": "",
       "version_major": 2,
       "version_minor": 0
      },
      "text/plain": [
       "HBox(children=(IntProgress(value=0, max=820), HTML(value='')))"
      ]
     },
     "metadata": {},
     "output_type": "display_data"
    },
    {
     "name": "stdout",
     "output_type": "stream",
     "text": [
      "fila 1128120965823631362 Twitter API returned a 404 (Not Found), Sorry, that page does not exist.\n",
      "fila 1134086433088520192 Twitter API returned a 403 (Forbidden), Sorry, you are not authorized to see this status.\n",
      "fila 1136153048982540288 Twitter API returned a 404 (Not Found), No status found with that ID.\n",
      "fila 1106284993544892416 Twitter API returned a 403 (Forbidden), Sorry, you are not authorized to see this status.\n",
      "fila 1099283811534290945 Twitter API returned a 403 (Forbidden), Sorry, you are not authorized to see this status.\n",
      "fila 1108341551392944128 Twitter API returned a 403 (Forbidden), Sorry, you are not authorized to see this status.\n",
      "fila 1107613605980073984 Twitter API returned a 403 (Forbidden), Sorry, you are not authorized to see this status.\n",
      "fila 1096483071161905152 Twitter API returned a 429 (Too Many Requests), Rate limit exceeded\n",
      "fila 1096483071161905152 Twitter API returned a 429 (Too Many Requests), Rate limit exceeded\n",
      "fila 1096483071161905152 Twitter API returned a 429 (Too Many Requests), Rate limit exceeded\n",
      "fila 1096483071161905152 Twitter API returned a 429 (Too Many Requests), Rate limit exceeded\n"
     ]
    },
    {
     "data": {
      "application/vnd.jupyter.widget-view+json": {
       "model_id": "",
       "version_major": 2,
       "version_minor": 0
      },
      "text/plain": [
       "HBox(children=(IntProgress(value=0, max=4), HTML(value='')))"
      ]
     },
     "metadata": {},
     "output_type": "display_data"
    },
    {
     "data": {
      "application/vnd.jupyter.widget-view+json": {
       "model_id": "",
       "version_major": 2,
       "version_minor": 0
      },
      "text/plain": [
       "HBox(children=(IntProgress(value=0, max=34), HTML(value='')))"
      ]
     },
     "metadata": {},
     "output_type": "display_data"
    },
    {
     "data": {
      "application/vnd.jupyter.widget-view+json": {
       "model_id": "",
       "version_major": 2,
       "version_minor": 0
      },
      "text/plain": [
       "HBox(children=(IntProgress(value=0, max=6), HTML(value='')))"
      ]
     },
     "metadata": {},
     "output_type": "display_data"
    },
    {
     "data": {
      "application/vnd.jupyter.widget-view+json": {
       "model_id": "",
       "version_major": 2,
       "version_minor": 0
      },
      "text/plain": [
       "HBox(children=(IntProgress(value=0, max=6), HTML(value='')))"
      ]
     },
     "metadata": {},
     "output_type": "display_data"
    },
    {
     "data": {
      "application/vnd.jupyter.widget-view+json": {
       "model_id": "",
       "version_major": 2,
       "version_minor": 0
      },
      "text/plain": [
       "HBox(children=(IntProgress(value=0, max=11), HTML(value='')))"
      ]
     },
     "metadata": {},
     "output_type": "display_data"
    },
    {
     "data": {
      "application/vnd.jupyter.widget-view+json": {
       "model_id": "",
       "version_major": 2,
       "version_minor": 0
      },
      "text/plain": [
       "HBox(children=(IntProgress(value=0, max=1), HTML(value='')))"
      ]
     },
     "metadata": {},
     "output_type": "display_data"
    },
    {
     "data": {
      "application/vnd.jupyter.widget-view+json": {
       "model_id": "",
       "version_major": 2,
       "version_minor": 0
      },
      "text/plain": [
       "HBox(children=(IntProgress(value=0, max=270), HTML(value='')))"
      ]
     },
     "metadata": {},
     "output_type": "display_data"
    },
    {
     "name": "stdout",
     "output_type": "stream",
     "text": [
      "gentlemonster 1094866292094296064 Twitter API returned a 403 (Forbidden), Sorry, you are not authorized to see this status.\n",
      "gentlemonster 1125775115361378311 Twitter API returned a 403 (Forbidden), Sorry, you are not authorized to see this status.\n",
      "gentlemonster 1104245444085858304 Twitter API returned a 403 (Forbidden), Sorry, you are not authorized to see this status.\n"
     ]
    },
    {
     "data": {
      "application/vnd.jupyter.widget-view+json": {
       "model_id": "",
       "version_major": 2,
       "version_minor": 0
      },
      "text/plain": [
       "HBox(children=(IntProgress(value=0, max=27), HTML(value='')))"
      ]
     },
     "metadata": {},
     "output_type": "display_data"
    },
    {
     "data": {
      "application/vnd.jupyter.widget-view+json": {
       "model_id": "",
       "version_major": 2,
       "version_minor": 0
      },
      "text/plain": [
       "HBox(children=(IntProgress(value=0, max=2), HTML(value='')))"
      ]
     },
     "metadata": {},
     "output_type": "display_data"
    },
    {
     "data": {
      "application/vnd.jupyter.widget-view+json": {
       "model_id": "",
       "version_major": 2,
       "version_minor": 0
      },
      "text/plain": [
       "HBox(children=(IntProgress(value=0, max=146), HTML(value='')))"
      ]
     },
     "metadata": {},
     "output_type": "display_data"
    },
    {
     "name": "stdout",
     "output_type": "stream",
     "text": [
      "givenchy 1082250154063814656 Twitter API returned a 404 (Not Found), No status found with that ID.\n"
     ]
    },
    {
     "data": {
      "application/vnd.jupyter.widget-view+json": {
       "model_id": "",
       "version_major": 2,
       "version_minor": 0
      },
      "text/plain": [
       "HBox(children=(IntProgress(value=0, max=2), HTML(value='')))"
      ]
     },
     "metadata": {},
     "output_type": "display_data"
    },
    {
     "data": {
      "application/vnd.jupyter.widget-view+json": {
       "model_id": "",
       "version_major": 2,
       "version_minor": 0
      },
      "text/plain": [
       "HBox(children=(IntProgress(value=0, max=1343), HTML(value='')))"
      ]
     },
     "metadata": {},
     "output_type": "display_data"
    },
    {
     "name": "stdout",
     "output_type": "stream",
     "text": [
      "goat 1096340295526961152 Twitter API returned a 429 (Too Many Requests), Rate limit exceeded\n",
      "goat 1096340295526961152 Twitter API returned a 429 (Too Many Requests), Rate limit exceeded\n",
      "goat 1096340295526961152 Twitter API returned a 429 (Too Many Requests), Rate limit exceeded\n",
      "goat 1096340295526961152 Twitter API returned a 429 (Too Many Requests), Rate limit exceeded\n",
      "goat 1100688947720540161 Twitter API returned a 429 (Too Many Requests), Rate limit exceeded\n",
      "goat 1100688947720540161 Twitter API returned a 429 (Too Many Requests), Rate limit exceeded\n",
      "goat 1100688947720540161 Twitter API returned a 429 (Too Many Requests), Rate limit exceeded\n",
      "goat 1100688947720540161 Twitter API returned a 429 (Too Many Requests), Rate limit exceeded\n"
     ]
    },
    {
     "data": {
      "application/vnd.jupyter.widget-view+json": {
       "model_id": "",
       "version_major": 2,
       "version_minor": 0
      },
      "text/plain": [
       "HBox(children=(IntProgress(value=0, max=30), HTML(value='')))"
      ]
     },
     "metadata": {},
     "output_type": "display_data"
    },
    {
     "data": {
      "application/vnd.jupyter.widget-view+json": {
       "model_id": "",
       "version_major": 2,
       "version_minor": 0
      },
      "text/plain": [
       "HBox(children=(IntProgress(value=0, max=3), HTML(value='')))"
      ]
     },
     "metadata": {},
     "output_type": "display_data"
    },
    {
     "data": {
      "application/vnd.jupyter.widget-view+json": {
       "model_id": "",
       "version_major": 2,
       "version_minor": 0
      },
      "text/plain": [
       "HBox(children=(IntProgress(value=0, max=39), HTML(value='')))"
      ]
     },
     "metadata": {},
     "output_type": "display_data"
    },
    {
     "name": "stdout",
     "output_type": "stream",
     "text": [
      "gregory 1090472974337986560 Twitter API returned a 404 (Not Found), No status found with that ID.\n"
     ]
    },
    {
     "data": {
      "application/vnd.jupyter.widget-view+json": {
       "model_id": "",
       "version_major": 2,
       "version_minor": 0
      },
      "text/plain": [
       "HBox(children=(IntProgress(value=0, max=664), HTML(value='')))"
      ]
     },
     "metadata": {},
     "output_type": "display_data"
    },
    {
     "name": "stdout",
     "output_type": "stream",
     "text": [
      "gucci 1116959976688365568 Twitter API returned a 403 (Forbidden), Sorry, you are not authorized to see this status.\n",
      "gucci 1109288663429640192 Twitter API returned a 403 (Forbidden), User has been suspended.\n",
      "gucci 1117307619062890502 Twitter API returned a 404 (Not Found), Sorry, that page does not exist.\n",
      "gucci 1098566869412327425 Twitter API returned a 404 (Not Found), No status found with that ID.\n",
      "gucci 1108693319142400000 Twitter API returned a 403 (Forbidden), Sorry, you are not authorized to see this status.\n",
      "gucci 1108693467297767425 Twitter API returned a 403 (Forbidden), Sorry, you are not authorized to see this status.\n",
      "gucci 1108693096898813952 Twitter API returned a 403 (Forbidden), Sorry, you are not authorized to see this status.\n",
      "gucci 1108926334833750016 Twitter API returned a 403 (Forbidden), User has been suspended.\n",
      "gucci 1108695409524768769 Twitter API returned a 403 (Forbidden), Sorry, you are not authorized to see this status.\n",
      "gucci 1108694306846445569 Twitter API returned a 403 (Forbidden), Sorry, you are not authorized to see this status.\n",
      "gucci 1090222340875714565 Twitter API returned a 429 (Too Many Requests), Rate limit exceeded\n",
      "gucci 1108692808129404929 Twitter API returned a 403 (Forbidden), Sorry, you are not authorized to see this status.\n",
      "gucci 1108693926741868546 Twitter API returned a 403 (Forbidden), Sorry, you are not authorized to see this status.\n",
      "gucci 1098721767927869441 Twitter API returned a 404 (Not Found), No status found with that ID.\n",
      "gucci 1116959974578688000 Twitter API returned a 403 (Forbidden), Sorry, you are not authorized to see this status.\n"
     ]
    },
    {
     "data": {
      "application/vnd.jupyter.widget-view+json": {
       "model_id": "",
       "version_major": 2,
       "version_minor": 0
      },
      "text/plain": [
       "HBox(children=(IntProgress(value=0, max=4), HTML(value='')))"
      ]
     },
     "metadata": {},
     "output_type": "display_data"
    },
    {
     "data": {
      "application/vnd.jupyter.widget-view+json": {
       "model_id": "",
       "version_major": 2,
       "version_minor": 0
      },
      "text/plain": [
       "HBox(children=(IntProgress(value=0, max=4), HTML(value='')))"
      ]
     },
     "metadata": {},
     "output_type": "display_data"
    },
    {
     "data": {
      "application/vnd.jupyter.widget-view+json": {
       "model_id": "",
       "version_major": 2,
       "version_minor": 0
      },
      "text/plain": [
       "HBox(children=(IntProgress(value=0, max=12), HTML(value='')))"
      ]
     },
     "metadata": {},
     "output_type": "display_data"
    },
    {
     "name": "stdout",
     "output_type": "stream",
     "text": [
      "haveagoodtime 1102131207846985730 Twitter API returned a 404 (Not Found), No status found with that ID.\n"
     ]
    },
    {
     "data": {
      "application/vnd.jupyter.widget-view+json": {
       "model_id": "",
       "version_major": 2,
       "version_minor": 0
      },
      "text/plain": [
       "HBox(children=(IntProgress(value=0, max=21), HTML(value='')))"
      ]
     },
     "metadata": {},
     "output_type": "display_data"
    },
    {
     "data": {
      "application/vnd.jupyter.widget-view+json": {
       "model_id": "",
       "version_major": 2,
       "version_minor": 0
      },
      "text/plain": [
       "HBox(children=(IntProgress(value=0, max=12), HTML(value='')))"
      ]
     },
     "metadata": {},
     "output_type": "display_data"
    },
    {
     "data": {
      "application/vnd.jupyter.widget-view+json": {
       "model_id": "",
       "version_major": 2,
       "version_minor": 0
      },
      "text/plain": [
       "HBox(children=(IntProgress(value=0, max=4), HTML(value='')))"
      ]
     },
     "metadata": {},
     "output_type": "display_data"
    },
    {
     "data": {
      "application/vnd.jupyter.widget-view+json": {
       "model_id": "",
       "version_major": 2,
       "version_minor": 0
      },
      "text/plain": [
       "HBox(children=(IntProgress(value=0, max=1), HTML(value='')))"
      ]
     },
     "metadata": {},
     "output_type": "display_data"
    },
    {
     "data": {
      "application/vnd.jupyter.widget-view+json": {
       "model_id": "",
       "version_major": 2,
       "version_minor": 0
      },
      "text/plain": [
       "HBox(children=(IntProgress(value=0, max=2), HTML(value='')))"
      ]
     },
     "metadata": {},
     "output_type": "display_data"
    },
    {
     "data": {
      "application/vnd.jupyter.widget-view+json": {
       "model_id": "",
       "version_major": 2,
       "version_minor": 0
      },
      "text/plain": [
       "HBox(children=(IntProgress(value=0, max=112), HTML(value='')))"
      ]
     },
     "metadata": {},
     "output_type": "display_data"
    },
    {
     "data": {
      "application/vnd.jupyter.widget-view+json": {
       "model_id": "",
       "version_major": 2,
       "version_minor": 0
      },
      "text/plain": [
       "HBox(children=(IntProgress(value=0, max=2), HTML(value='')))"
      ]
     },
     "metadata": {},
     "output_type": "display_data"
    },
    {
     "data": {
      "application/vnd.jupyter.widget-view+json": {
       "model_id": "",
       "version_major": 2,
       "version_minor": 0
      },
      "text/plain": [
       "HBox(children=(IntProgress(value=0, max=2), HTML(value='')))"
      ]
     },
     "metadata": {},
     "output_type": "display_data"
    },
    {
     "data": {
      "application/vnd.jupyter.widget-view+json": {
       "model_id": "",
       "version_major": 2,
       "version_minor": 0
      },
      "text/plain": [
       "HBox(children=(IntProgress(value=0, max=1733), HTML(value='')))"
      ]
     },
     "metadata": {},
     "output_type": "display_data"
    },
    {
     "name": "stdout",
     "output_type": "stream",
     "text": [
      "hm 1091008283551293440 Twitter API returned a 429 (Too Many Requests), Rate limit exceeded\n",
      "hm 1091008283551293440 Twitter API returned a 429 (Too Many Requests), Rate limit exceeded\n",
      "hm 1091008283551293440 Twitter API returned a 429 (Too Many Requests), Rate limit exceeded\n",
      "hm 1091008283551293440 Twitter API returned a 429 (Too Many Requests), Rate limit exceeded\n",
      "hm 1106963988393287680 Twitter API returned a 429 (Too Many Requests), Rate limit exceeded\n",
      "hm 1106963988393287680 Twitter API returned a 429 (Too Many Requests), Rate limit exceeded\n",
      "hm 1106963988393287680 Twitter API returned a 429 (Too Many Requests), Rate limit exceeded\n"
     ]
    },
    {
     "data": {
      "application/vnd.jupyter.widget-view+json": {
       "model_id": "",
       "version_major": 2,
       "version_minor": 0
      },
      "text/plain": [
       "HBox(children=(IntProgress(value=0, max=2), HTML(value='')))"
      ]
     },
     "metadata": {},
     "output_type": "display_data"
    },
    {
     "data": {
      "application/vnd.jupyter.widget-view+json": {
       "model_id": "",
       "version_major": 2,
       "version_minor": 0
      },
      "text/plain": [
       "HBox(children=(IntProgress(value=0, max=13), HTML(value='')))"
      ]
     },
     "metadata": {},
     "output_type": "display_data"
    },
    {
     "data": {
      "application/vnd.jupyter.widget-view+json": {
       "model_id": "",
       "version_major": 2,
       "version_minor": 0
      },
      "text/plain": [
       "HBox(children=(IntProgress(value=0, max=2), HTML(value='')))"
      ]
     },
     "metadata": {},
     "output_type": "display_data"
    },
    {
     "data": {
      "application/vnd.jupyter.widget-view+json": {
       "model_id": "",
       "version_major": 2,
       "version_minor": 0
      },
      "text/plain": [
       "HBox(children=(IntProgress(value=0, max=2), HTML(value='')))"
      ]
     },
     "metadata": {},
     "output_type": "display_data"
    },
    {
     "data": {
      "application/vnd.jupyter.widget-view+json": {
       "model_id": "",
       "version_major": 2,
       "version_minor": 0
      },
      "text/plain": [
       "HBox(children=(IntProgress(value=0, max=1), HTML(value='')))"
      ]
     },
     "metadata": {},
     "output_type": "display_data"
    },
    {
     "data": {
      "application/vnd.jupyter.widget-view+json": {
       "model_id": "",
       "version_major": 2,
       "version_minor": 0
      },
      "text/plain": [
       "HBox(children=(IntProgress(value=0, max=6), HTML(value='')))"
      ]
     },
     "metadata": {},
     "output_type": "display_data"
    },
    {
     "data": {
      "application/vnd.jupyter.widget-view+json": {
       "model_id": "",
       "version_major": 2,
       "version_minor": 0
      },
      "text/plain": [
       "HBox(children=(IntProgress(value=0, max=1), HTML(value='')))"
      ]
     },
     "metadata": {},
     "output_type": "display_data"
    },
    {
     "data": {
      "application/vnd.jupyter.widget-view+json": {
       "model_id": "",
       "version_major": 2,
       "version_minor": 0
      },
      "text/plain": [
       "HBox(children=(IntProgress(value=0, max=9), HTML(value='')))"
      ]
     },
     "metadata": {},
     "output_type": "display_data"
    },
    {
     "data": {
      "application/vnd.jupyter.widget-view+json": {
       "model_id": "",
       "version_major": 2,
       "version_minor": 0
      },
      "text/plain": [
       "HBox(children=(IntProgress(value=0, max=2), HTML(value='')))"
      ]
     },
     "metadata": {},
     "output_type": "display_data"
    },
    {
     "data": {
      "application/vnd.jupyter.widget-view+json": {
       "model_id": "",
       "version_major": 2,
       "version_minor": 0
      },
      "text/plain": [
       "HBox(children=(IntProgress(value=0, max=33), HTML(value='')))"
      ]
     },
     "metadata": {},
     "output_type": "display_data"
    },
    {
     "data": {
      "application/vnd.jupyter.widget-view+json": {
       "model_id": "",
       "version_major": 2,
       "version_minor": 0
      },
      "text/plain": [
       "HBox(children=(IntProgress(value=0, max=1), HTML(value='')))"
      ]
     },
     "metadata": {},
     "output_type": "display_data"
    },
    {
     "data": {
      "application/vnd.jupyter.widget-view+json": {
       "model_id": "",
       "version_major": 2,
       "version_minor": 0
      },
      "text/plain": [
       "HBox(children=(IntProgress(value=0, max=7), HTML(value='')))"
      ]
     },
     "metadata": {},
     "output_type": "display_data"
    },
    {
     "data": {
      "application/vnd.jupyter.widget-view+json": {
       "model_id": "",
       "version_major": 2,
       "version_minor": 0
      },
      "text/plain": [
       "HBox(children=(IntProgress(value=0, max=2), HTML(value='')))"
      ]
     },
     "metadata": {},
     "output_type": "display_data"
    },
    {
     "data": {
      "application/vnd.jupyter.widget-view+json": {
       "model_id": "",
       "version_major": 2,
       "version_minor": 0
      },
      "text/plain": [
       "HBox(children=(IntProgress(value=0, max=1), HTML(value='')))"
      ]
     },
     "metadata": {},
     "output_type": "display_data"
    },
    {
     "data": {
      "application/vnd.jupyter.widget-view+json": {
       "model_id": "",
       "version_major": 2,
       "version_minor": 0
      },
      "text/plain": [
       "HBox(children=(IntProgress(value=0, max=111), HTML(value='')))"
      ]
     },
     "metadata": {},
     "output_type": "display_data"
    },
    {
     "name": "stdout",
     "output_type": "stream",
     "text": [
      "juunj 1141277987431542785 Twitter API returned a 404 (Not Found), No status found with that ID.\n"
     ]
    },
    {
     "data": {
      "application/vnd.jupyter.widget-view+json": {
       "model_id": "",
       "version_major": 2,
       "version_minor": 0
      },
      "text/plain": [
       "HBox(children=(IntProgress(value=0, max=4), HTML(value='')))"
      ]
     },
     "metadata": {},
     "output_type": "display_data"
    },
    {
     "data": {
      "application/vnd.jupyter.widget-view+json": {
       "model_id": "",
       "version_major": 2,
       "version_minor": 0
      },
      "text/plain": [
       "HBox(children=(IntProgress(value=0, max=1), HTML(value='')))"
      ]
     },
     "metadata": {},
     "output_type": "display_data"
    },
    {
     "data": {
      "application/vnd.jupyter.widget-view+json": {
       "model_id": "",
       "version_major": 2,
       "version_minor": 0
      },
      "text/plain": [
       "HBox(children=(IntProgress(value=0, max=18), HTML(value='')))"
      ]
     },
     "metadata": {},
     "output_type": "display_data"
    },
    {
     "data": {
      "application/vnd.jupyter.widget-view+json": {
       "model_id": "",
       "version_major": 2,
       "version_minor": 0
      },
      "text/plain": [
       "HBox(children=(IntProgress(value=0, max=8), HTML(value='')))"
      ]
     },
     "metadata": {},
     "output_type": "display_data"
    },
    {
     "data": {
      "application/vnd.jupyter.widget-view+json": {
       "model_id": "",
       "version_major": 2,
       "version_minor": 0
      },
      "text/plain": [
       "HBox(children=(IntProgress(value=0, max=1), HTML(value='')))"
      ]
     },
     "metadata": {},
     "output_type": "display_data"
    },
    {
     "data": {
      "application/vnd.jupyter.widget-view+json": {
       "model_id": "",
       "version_major": 2,
       "version_minor": 0
      },
      "text/plain": [
       "HBox(children=(IntProgress(value=0, max=28), HTML(value='')))"
      ]
     },
     "metadata": {},
     "output_type": "display_data"
    },
    {
     "data": {
      "application/vnd.jupyter.widget-view+json": {
       "model_id": "",
       "version_major": 2,
       "version_minor": 0
      },
      "text/plain": [
       "HBox(children=(IntProgress(value=0, max=12), HTML(value='')))"
      ]
     },
     "metadata": {},
     "output_type": "display_data"
    },
    {
     "data": {
      "application/vnd.jupyter.widget-view+json": {
       "model_id": "",
       "version_major": 2,
       "version_minor": 0
      },
      "text/plain": [
       "HBox(children=(IntProgress(value=0, max=77), HTML(value='')))"
      ]
     },
     "metadata": {},
     "output_type": "display_data"
    },
    {
     "name": "stdout",
     "output_type": "stream",
     "text": [
      "kolonsport 1115883146925441025 Twitter API returned a 403 (Forbidden), Sorry, you are not authorized to see this status.\n"
     ]
    },
    {
     "data": {
      "application/vnd.jupyter.widget-view+json": {
       "model_id": "",
       "version_major": 2,
       "version_minor": 0
      },
      "text/plain": [
       "HBox(children=(IntProgress(value=0, max=38), HTML(value='')))"
      ]
     },
     "metadata": {},
     "output_type": "display_data"
    },
    {
     "data": {
      "application/vnd.jupyter.widget-view+json": {
       "model_id": "",
       "version_major": 2,
       "version_minor": 0
      },
      "text/plain": [
       "HBox(children=(IntProgress(value=0, max=26), HTML(value='')))"
      ]
     },
     "metadata": {},
     "output_type": "display_data"
    },
    {
     "name": "stdout",
     "output_type": "stream",
     "text": [
      "lacoste 1100763045050036225 Twitter API returned a 404 (Not Found), No status found with that ID.\n"
     ]
    },
    {
     "data": {
      "application/vnd.jupyter.widget-view+json": {
       "model_id": "",
       "version_major": 2,
       "version_minor": 0
      },
      "text/plain": [
       "HBox(children=(IntProgress(value=0, max=91), HTML(value='')))"
      ]
     },
     "metadata": {},
     "output_type": "display_data"
    },
    {
     "name": "stdout",
     "output_type": "stream",
     "text": [
      "lafuma 1100763045050036225 Twitter API returned a 404 (Not Found), No status found with that ID.\n"
     ]
    },
    {
     "data": {
      "application/vnd.jupyter.widget-view+json": {
       "model_id": "",
       "version_major": 2,
       "version_minor": 0
      },
      "text/plain": [
       "HBox(children=(IntProgress(value=0, max=17), HTML(value='')))"
      ]
     },
     "metadata": {},
     "output_type": "display_data"
    },
    {
     "data": {
      "application/vnd.jupyter.widget-view+json": {
       "model_id": "",
       "version_major": 2,
       "version_minor": 0
      },
      "text/plain": [
       "HBox(children=(IntProgress(value=0, max=1), HTML(value='')))"
      ]
     },
     "metadata": {},
     "output_type": "display_data"
    },
    {
     "data": {
      "application/vnd.jupyter.widget-view+json": {
       "model_id": "",
       "version_major": 2,
       "version_minor": 0
      },
      "text/plain": [
       "HBox(children=(IntProgress(value=0, max=61), HTML(value='')))"
      ]
     },
     "metadata": {},
     "output_type": "display_data"
    },
    {
     "name": "stdout",
     "output_type": "stream",
     "text": [
      "lecoqsportif 1140145883998302208 Twitter API returned a 404 (Not Found), Sorry, that page does not exist.\n"
     ]
    },
    {
     "data": {
      "application/vnd.jupyter.widget-view+json": {
       "model_id": "",
       "version_major": 2,
       "version_minor": 0
      },
      "text/plain": [
       "HBox(children=(IntProgress(value=0, max=121), HTML(value='')))"
      ]
     },
     "metadata": {},
     "output_type": "display_data"
    },
    {
     "name": "stdout",
     "output_type": "stream",
     "text": [
      "levis 1132803240578490368 Twitter API returned a 429 (Too Many Requests), Rate limit exceeded\n",
      "levis 1132803240578490368 Twitter API returned a 429 (Too Many Requests), Rate limit exceeded\n",
      "levis 1132803240578490368 Twitter API returned a 429 (Too Many Requests), Rate limit exceeded\n",
      "levis 1132803240578490368 Twitter API returned a 429 (Too Many Requests), Rate limit exceeded\n"
     ]
    },
    {
     "data": {
      "application/vnd.jupyter.widget-view+json": {
       "model_id": "",
       "version_major": 2,
       "version_minor": 0
      },
      "text/plain": [
       "HBox(children=(IntProgress(value=0, max=2), HTML(value='')))"
      ]
     },
     "metadata": {},
     "output_type": "display_data"
    },
    {
     "data": {
      "application/vnd.jupyter.widget-view+json": {
       "model_id": "",
       "version_major": 2,
       "version_minor": 0
      },
      "text/plain": [
       "HBox(children=(IntProgress(value=0, max=16), HTML(value='')))"
      ]
     },
     "metadata": {},
     "output_type": "display_data"
    },
    {
     "data": {
      "application/vnd.jupyter.widget-view+json": {
       "model_id": "",
       "version_major": 2,
       "version_minor": 0
      },
      "text/plain": [
       "HBox(children=(IntProgress(value=0, max=1558), HTML(value='')))"
      ]
     },
     "metadata": {},
     "output_type": "display_data"
    },
    {
     "name": "stdout",
     "output_type": "stream",
     "text": [
      "louisvuitton 1126112764710215680 Twitter API returned a 403 (Forbidden), Sorry, you are not authorized to see this status.\n",
      "louisvuitton 1126395830796034048 Twitter API returned a 403 (Forbidden), Sorry, you are not authorized to see this status.\n",
      "louisvuitton 1126530991697215488 Twitter API returned a 403 (Forbidden), Sorry, you are not authorized to see this status.\n",
      "louisvuitton 1126415924620214272 Twitter API returned a 403 (Forbidden), Sorry, you are not authorized to see this status.\n",
      "louisvuitton 1110375448133791746 Twitter API returned a 429 (Too Many Requests), Rate limit exceeded\n",
      "louisvuitton 1110375448133791746 Twitter API returned a 429 (Too Many Requests), Rate limit exceeded\n",
      "louisvuitton 1110375448133791746 Twitter API returned a 429 (Too Many Requests), Rate limit exceeded\n",
      "louisvuitton 1110375448133791746 Twitter API returned a 429 (Too Many Requests), Rate limit exceeded\n",
      "louisvuitton 1107328321157644288 Twitter API returned a 403 (Forbidden), Sorry, you are not authorized to see this status.\n",
      "louisvuitton 1128174607746252801 Twitter API returned a 403 (Forbidden), Sorry, you are not authorized to see this status.\n",
      "louisvuitton 1126415800145866753 Twitter API returned a 403 (Forbidden), Sorry, you are not authorized to see this status.\n",
      "louisvuitton 1127185113396072448 Twitter API returned a 403 (Forbidden), Sorry, you are not authorized to see this status.\n",
      "louisvuitton 1126371776945098752 Twitter API returned a 403 (Forbidden), Sorry, you are not authorized to see this status.\n",
      "louisvuitton 1126112857672699904 Twitter API returned a 403 (Forbidden), Sorry, you are not authorized to see this status.\n"
     ]
    },
    {
     "data": {
      "application/vnd.jupyter.widget-view+json": {
       "model_id": "",
       "version_major": 2,
       "version_minor": 0
      },
      "text/plain": [
       "HBox(children=(IntProgress(value=0, max=246), HTML(value='')))"
      ]
     },
     "metadata": {},
     "output_type": "display_data"
    },
    {
     "name": "stdout",
     "output_type": "stream",
     "text": [
      "lynn 1097405600823074816 Twitter API returned a 404 (Not Found), No status found with that ID.\n",
      "lynn 1136108398892634112 Twitter API returned a 403 (Forbidden), User has been suspended.\n",
      "lynn 1091350532080324608 Twitter API returned a 429 (Too Many Requests), Rate limit exceeded\n",
      "lynn 1091350532080324608 Twitter API returned a 429 (Too Many Requests), Rate limit exceeded\n",
      "lynn 1091350532080324608 Twitter API returned a 429 (Too Many Requests), Rate limit exceeded\n",
      "lynn 1091350532080324608 Twitter API returned a 429 (Too Many Requests), Rate limit exceeded\n"
     ]
    },
    {
     "data": {
      "application/vnd.jupyter.widget-view+json": {
       "model_id": "",
       "version_major": 2,
       "version_minor": 0
      },
      "text/plain": [
       "HBox(children=(IntProgress(value=0, max=14), HTML(value='')))"
      ]
     },
     "metadata": {},
     "output_type": "display_data"
    },
    {
     "data": {
      "application/vnd.jupyter.widget-view+json": {
       "model_id": "",
       "version_major": 2,
       "version_minor": 0
      },
      "text/plain": [
       "HBox(children=(IntProgress(value=0, max=21), HTML(value='')))"
      ]
     },
     "metadata": {},
     "output_type": "display_data"
    },
    {
     "name": "stdout",
     "output_type": "stream",
     "text": [
      "maisonmargiela 1129216825366065152 Twitter API returned a 404 (Not Found), No status found with that ID.\n"
     ]
    },
    {
     "data": {
      "application/vnd.jupyter.widget-view+json": {
       "model_id": "",
       "version_major": 2,
       "version_minor": 0
      },
      "text/plain": [
       "HBox(children=(IntProgress(value=0, max=12), HTML(value='')))"
      ]
     },
     "metadata": {},
     "output_type": "display_data"
    },
    {
     "data": {
      "application/vnd.jupyter.widget-view+json": {
       "model_id": "",
       "version_major": 2,
       "version_minor": 0
      },
      "text/plain": [
       "HBox(children=(IntProgress(value=0, max=15), HTML(value='')))"
      ]
     },
     "metadata": {},
     "output_type": "display_data"
    },
    {
     "data": {
      "application/vnd.jupyter.widget-view+json": {
       "model_id": "",
       "version_major": 2,
       "version_minor": 0
      },
      "text/plain": [
       "HBox(children=(IntProgress(value=0, max=42), HTML(value='')))"
      ]
     },
     "metadata": {},
     "output_type": "display_data"
    },
    {
     "name": "stdout",
     "output_type": "stream",
     "text": [
      "marcjacobs 1098363896266518529 Twitter API returned a 404 (Not Found), No status found with that ID.\n",
      "marcjacobs 1098853682303520769 Twitter API returned a 404 (Not Found), No status found with that ID.\n",
      "marcjacobs 1098368616083251201 Twitter API returned a 404 (Not Found), No status found with that ID.\n",
      "marcjacobs 1098832190480166913 Twitter API returned a 404 (Not Found), No status found with that ID.\n",
      "marcjacobs 1098169828173537280 Twitter API returned a 404 (Not Found), No status found with that ID.\n",
      "marcjacobs 1098816926099288069 Twitter API returned a 404 (Not Found), No status found with that ID.\n"
     ]
    },
    {
     "data": {
      "application/vnd.jupyter.widget-view+json": {
       "model_id": "",
       "version_major": 2,
       "version_minor": 0
      },
      "text/plain": [
       "HBox(children=(IntProgress(value=0, max=5), HTML(value='')))"
      ]
     },
     "metadata": {},
     "output_type": "display_data"
    },
    {
     "data": {
      "application/vnd.jupyter.widget-view+json": {
       "model_id": "",
       "version_major": 2,
       "version_minor": 0
      },
      "text/plain": [
       "HBox(children=(IntProgress(value=0, max=2), HTML(value='')))"
      ]
     },
     "metadata": {},
     "output_type": "display_data"
    },
    {
     "data": {
      "application/vnd.jupyter.widget-view+json": {
       "model_id": "",
       "version_major": 2,
       "version_minor": 0
      },
      "text/plain": [
       "HBox(children=(IntProgress(value=0, max=5), HTML(value='')))"
      ]
     },
     "metadata": {},
     "output_type": "display_data"
    },
    {
     "data": {
      "application/vnd.jupyter.widget-view+json": {
       "model_id": "",
       "version_major": 2,
       "version_minor": 0
      },
      "text/plain": [
       "HBox(children=(IntProgress(value=0, max=11), HTML(value='')))"
      ]
     },
     "metadata": {},
     "output_type": "display_data"
    },
    {
     "data": {
      "application/vnd.jupyter.widget-view+json": {
       "model_id": "",
       "version_major": 2,
       "version_minor": 0
      },
      "text/plain": [
       "HBox(children=(IntProgress(value=0, max=29), HTML(value='')))"
      ]
     },
     "metadata": {},
     "output_type": "display_data"
    },
    {
     "data": {
      "application/vnd.jupyter.widget-view+json": {
       "model_id": "",
       "version_major": 2,
       "version_minor": 0
      },
      "text/plain": [
       "HBox(children=(IntProgress(value=0, max=3), HTML(value='')))"
      ]
     },
     "metadata": {},
     "output_type": "display_data"
    },
    {
     "data": {
      "application/vnd.jupyter.widget-view+json": {
       "model_id": "",
       "version_major": 2,
       "version_minor": 0
      },
      "text/plain": [
       "HBox(children=(IntProgress(value=0, max=3), HTML(value='')))"
      ]
     },
     "metadata": {},
     "output_type": "display_data"
    },
    {
     "data": {
      "application/vnd.jupyter.widget-view+json": {
       "model_id": "",
       "version_major": 2,
       "version_minor": 0
      },
      "text/plain": [
       "HBox(children=(IntProgress(value=0, max=55), HTML(value='')))"
      ]
     },
     "metadata": {},
     "output_type": "display_data"
    },
    {
     "data": {
      "application/vnd.jupyter.widget-view+json": {
       "model_id": "",
       "version_major": 2,
       "version_minor": 0
      },
      "text/plain": [
       "HBox(children=(IntProgress(value=0, max=58), HTML(value='')))"
      ]
     },
     "metadata": {},
     "output_type": "display_data"
    },
    {
     "data": {
      "application/vnd.jupyter.widget-view+json": {
       "model_id": "",
       "version_major": 2,
       "version_minor": 0
      },
      "text/plain": [
       "HBox(children=(IntProgress(value=0, max=27), HTML(value='')))"
      ]
     },
     "metadata": {},
     "output_type": "display_data"
    },
    {
     "data": {
      "application/vnd.jupyter.widget-view+json": {
       "model_id": "",
       "version_major": 2,
       "version_minor": 0
      },
      "text/plain": [
       "HBox(children=(IntProgress(value=0, max=1), HTML(value='')))"
      ]
     },
     "metadata": {},
     "output_type": "display_data"
    },
    {
     "data": {
      "application/vnd.jupyter.widget-view+json": {
       "model_id": "",
       "version_major": 2,
       "version_minor": 0
      },
      "text/plain": [
       "HBox(children=(IntProgress(value=0, max=43), HTML(value='')))"
      ]
     },
     "metadata": {},
     "output_type": "display_data"
    },
    {
     "name": "stdout",
     "output_type": "stream",
     "text": [
      "miumiu 1139764346781720576 Twitter API returned a 403 (Forbidden), Sorry, you are not authorized to see this status.\n",
      "miumiu 1098554083219140608 Twitter API returned a 404 (Not Found), No status found with that ID.\n"
     ]
    },
    {
     "data": {
      "application/vnd.jupyter.widget-view+json": {
       "model_id": "",
       "version_major": 2,
       "version_minor": 0
      },
      "text/plain": [
       "HBox(children=(IntProgress(value=0, max=12), HTML(value='')))"
      ]
     },
     "metadata": {},
     "output_type": "display_data"
    },
    {
     "data": {
      "application/vnd.jupyter.widget-view+json": {
       "model_id": "",
       "version_major": 2,
       "version_minor": 0
      },
      "text/plain": [
       "HBox(children=(IntProgress(value=0, max=3), HTML(value='')))"
      ]
     },
     "metadata": {},
     "output_type": "display_data"
    },
    {
     "data": {
      "application/vnd.jupyter.widget-view+json": {
       "model_id": "",
       "version_major": 2,
       "version_minor": 0
      },
      "text/plain": [
       "HBox(children=(IntProgress(value=0, max=274), HTML(value='')))"
      ]
     },
     "metadata": {},
     "output_type": "display_data"
    },
    {
     "data": {
      "application/vnd.jupyter.widget-view+json": {
       "model_id": "",
       "version_major": 2,
       "version_minor": 0
      },
      "text/plain": [
       "HBox(children=(IntProgress(value=0, max=17), HTML(value='')))"
      ]
     },
     "metadata": {},
     "output_type": "display_data"
    },
    {
     "data": {
      "application/vnd.jupyter.widget-view+json": {
       "model_id": "",
       "version_major": 2,
       "version_minor": 0
      },
      "text/plain": [
       "HBox(children=(IntProgress(value=0, max=91), HTML(value='')))"
      ]
     },
     "metadata": {},
     "output_type": "display_data"
    },
    {
     "name": "stdout",
     "output_type": "stream",
     "text": [
      "montblanc 1098826412096516096 Twitter API returned a 404 (Not Found), No status found with that ID.\n"
     ]
    },
    {
     "data": {
      "application/vnd.jupyter.widget-view+json": {
       "model_id": "",
       "version_major": 2,
       "version_minor": 0
      },
      "text/plain": [
       "HBox(children=(IntProgress(value=0, max=28), HTML(value='')))"
      ]
     },
     "metadata": {},
     "output_type": "display_data"
    },
    {
     "data": {
      "application/vnd.jupyter.widget-view+json": {
       "model_id": "",
       "version_major": 2,
       "version_minor": 0
      },
      "text/plain": [
       "HBox(children=(IntProgress(value=0, max=113), HTML(value='')))"
      ]
     },
     "metadata": {},
     "output_type": "display_data"
    },
    {
     "name": "stdout",
     "output_type": "stream",
     "text": [
      "muji 1080774033723973633 Twitter API returned a 403 (Forbidden), Sorry, you are not authorized to see this status.\n",
      "muji 1105642727427866624 Twitter API returned a 429 (Too Many Requests), Rate limit exceeded\n",
      "muji 1105642727427866624 Twitter API returned a 429 (Too Many Requests), Rate limit exceeded\n",
      "muji 1105642727427866624 Twitter API returned a 429 (Too Many Requests), Rate limit exceeded\n",
      "muji 1105642727427866624 Twitter API returned a 429 (Too Many Requests), Rate limit exceeded\n"
     ]
    },
    {
     "data": {
      "application/vnd.jupyter.widget-view+json": {
       "model_id": "",
       "version_major": 2,
       "version_minor": 0
      },
      "text/plain": [
       "HBox(children=(IntProgress(value=0, max=6), HTML(value='')))"
      ]
     },
     "metadata": {},
     "output_type": "display_data"
    },
    {
     "data": {
      "application/vnd.jupyter.widget-view+json": {
       "model_id": "",
       "version_major": 2,
       "version_minor": 0
      },
      "text/plain": [
       "HBox(children=(IntProgress(value=0, max=1), HTML(value='')))"
      ]
     },
     "metadata": {},
     "output_type": "display_data"
    },
    {
     "data": {
      "application/vnd.jupyter.widget-view+json": {
       "model_id": "",
       "version_major": 2,
       "version_minor": 0
      },
      "text/plain": [
       "HBox(children=(IntProgress(value=0, max=2), HTML(value='')))"
      ]
     },
     "metadata": {},
     "output_type": "display_data"
    },
    {
     "data": {
      "application/vnd.jupyter.widget-view+json": {
       "model_id": "",
       "version_major": 2,
       "version_minor": 0
      },
      "text/plain": [
       "HBox(children=(IntProgress(value=0, max=28), HTML(value='')))"
      ]
     },
     "metadata": {},
     "output_type": "display_data"
    },
    {
     "data": {
      "application/vnd.jupyter.widget-view+json": {
       "model_id": "",
       "version_major": 2,
       "version_minor": 0
      },
      "text/plain": [
       "HBox(children=(IntProgress(value=0, max=15), HTML(value='')))"
      ]
     },
     "metadata": {},
     "output_type": "display_data"
    },
    {
     "data": {
      "application/vnd.jupyter.widget-view+json": {
       "model_id": "",
       "version_major": 2,
       "version_minor": 0
      },
      "text/plain": [
       "HBox(children=(IntProgress(value=0, max=51), HTML(value='')))"
      ]
     },
     "metadata": {},
     "output_type": "display_data"
    },
    {
     "name": "stdout",
     "output_type": "stream",
     "text": [
      "nepa 1123813374373052417 Twitter API returned a 404 (Not Found), No status found with that ID.\n"
     ]
    },
    {
     "data": {
      "application/vnd.jupyter.widget-view+json": {
       "model_id": "",
       "version_major": 2,
       "version_minor": 0
      },
      "text/plain": [
       "HBox(children=(IntProgress(value=0, max=195), HTML(value='')))"
      ]
     },
     "metadata": {},
     "output_type": "display_data"
    },
    {
     "name": "stdout",
     "output_type": "stream",
     "text": [
      "nerdy 1141322238085353478 Twitter API returned a 404 (Not Found), No status found with that ID.\n",
      "nerdy 1081358133971144704 Twitter API returned a 403 (Forbidden), Sorry, you are not authorized to see this status.\n",
      "nerdy 1141341937733009409 Twitter API returned a 404 (Not Found), No status found with that ID.\n",
      "nerdy 1080699744660279296 Twitter API returned a 403 (Forbidden), Sorry, you are not authorized to see this status.\n",
      "nerdy 1098574057014849536 Twitter API returned a 403 (Forbidden), Sorry, you are not authorized to see this status.\n",
      "nerdy 1082134600460058624 Twitter API returned a 403 (Forbidden), Sorry, you are not authorized to see this status.\n"
     ]
    },
    {
     "data": {
      "application/vnd.jupyter.widget-view+json": {
       "model_id": "",
       "version_major": 2,
       "version_minor": 0
      },
      "text/plain": [
       "HBox(children=(IntProgress(value=0, max=233), HTML(value='')))"
      ]
     },
     "metadata": {},
     "output_type": "display_data"
    },
    {
     "name": "stdout",
     "output_type": "stream",
     "text": [
      "newbalance 1139912400893726720 Twitter API returned a 404 (Not Found), Sorry, that page does not exist.\n",
      "newbalance 1098184003553656832 Twitter API returned a 404 (Not Found), No status found with that ID.\n"
     ]
    },
    {
     "data": {
      "application/vnd.jupyter.widget-view+json": {
       "model_id": "",
       "version_major": 2,
       "version_minor": 0
      },
      "text/plain": [
       "HBox(children=(IntProgress(value=0, max=55), HTML(value='')))"
      ]
     },
     "metadata": {},
     "output_type": "display_data"
    },
    {
     "data": {
      "application/vnd.jupyter.widget-view+json": {
       "model_id": "",
       "version_major": 2,
       "version_minor": 0
      },
      "text/plain": [
       "HBox(children=(IntProgress(value=0, max=1391), HTML(value='')))"
      ]
     },
     "metadata": {},
     "output_type": "display_data"
    },
    {
     "name": "stdout",
     "output_type": "stream",
     "text": [
      "nike 1081103672577159168 Twitter API returned a 404 (Not Found), No status found with that ID.\n",
      "nike 1098723922973929472 Twitter API returned a 404 (Not Found), No status found with that ID.\n",
      "nike 1140078425450807297 Twitter API returned a 403 (Forbidden), User has been suspended.\n",
      "nike 1098058646640939008 Twitter API returned a 404 (Not Found), No status found with that ID.\n",
      "nike 1098730101036933120 Twitter API returned a 404 (Not Found), No status found with that ID.\n",
      "nike 1090993582578720768 Twitter API returned a 429 (Too Many Requests), Rate limit exceeded\n",
      "nike 1090993582578720768 Twitter API returned a 429 (Too Many Requests), Rate limit exceeded\n",
      "nike 1090993582578720768 Twitter API returned a 429 (Too Many Requests), Rate limit exceeded\n",
      "nike 1090993582578720768 Twitter API returned a 429 (Too Many Requests), Rate limit exceeded\n",
      "nike 1140077524250005506 Twitter API returned a 403 (Forbidden), User has been suspended.\n",
      "nike 1120103685671964673 Twitter API returned a 404 (Not Found), No status found with that ID.\n",
      "nike 1098165675736981504 Twitter API returned a 404 (Not Found), No status found with that ID.\n",
      "nike 1098731535908237313 Twitter API returned a 404 (Not Found), No status found with that ID.\n",
      "nike 1104629311569575936 Twitter API returned a 403 (Forbidden), User has been suspended.\n",
      "nike 1098816926099288069 Twitter API returned a 404 (Not Found), No status found with that ID.\n",
      "nike 1137337555068657664 Twitter API returned a 404 (Not Found), No status found with that ID.\n",
      "nike 1095590378386817024 Twitter API returned a 429 (Too Many Requests), Rate limit exceeded\n",
      "nike 1095590378386817024 Twitter API returned a 429 (Too Many Requests), Rate limit exceeded\n",
      "nike 1095590378386817024 Twitter API returned a 429 (Too Many Requests), Rate limit exceeded\n",
      "nike 1095590378386817024 Twitter API returned a 429 (Too Many Requests), Rate limit exceeded\n",
      "nike 1098223831414534146 Twitter API returned a 404 (Not Found), No status found with that ID.\n"
     ]
    },
    {
     "data": {
      "application/vnd.jupyter.widget-view+json": {
       "model_id": "",
       "version_major": 2,
       "version_minor": 0
      },
      "text/plain": [
       "HBox(children=(IntProgress(value=0, max=101), HTML(value='')))"
      ]
     },
     "metadata": {},
     "output_type": "display_data"
    },
    {
     "name": "stdout",
     "output_type": "stream",
     "text": [
      "noah 1129158754388201472 Twitter API returned a 404 (Not Found), No status found with that ID.\n",
      "noah 1101558084541939712 Twitter API returned a 404 (Not Found), Sorry, that page does not exist.\n"
     ]
    },
    {
     "data": {
      "application/vnd.jupyter.widget-view+json": {
       "model_id": "",
       "version_major": 2,
       "version_minor": 0
      },
      "text/plain": [
       "HBox(children=(IntProgress(value=0, max=14), HTML(value='')))"
      ]
     },
     "metadata": {},
     "output_type": "display_data"
    },
    {
     "data": {
      "application/vnd.jupyter.widget-view+json": {
       "model_id": "",
       "version_major": 2,
       "version_minor": 0
      },
      "text/plain": [
       "HBox(children=(IntProgress(value=0, max=19), HTML(value='')))"
      ]
     },
     "metadata": {},
     "output_type": "display_data"
    },
    {
     "data": {
      "application/vnd.jupyter.widget-view+json": {
       "model_id": "",
       "version_major": 2,
       "version_minor": 0
      },
      "text/plain": [
       "HBox(children=(IntProgress(value=0, max=1), HTML(value='')))"
      ]
     },
     "metadata": {},
     "output_type": "display_data"
    },
    {
     "data": {
      "application/vnd.jupyter.widget-view+json": {
       "model_id": "",
       "version_major": 2,
       "version_minor": 0
      },
      "text/plain": [
       "HBox(children=(IntProgress(value=0, max=161), HTML(value='')))"
      ]
     },
     "metadata": {},
     "output_type": "display_data"
    },
    {
     "name": "stdout",
     "output_type": "stream",
     "text": [
      "offwhite 1131880201422401536 Twitter API returned a 404 (Not Found), No status found with that ID.\n",
      "offwhite 1081103672577159168 Twitter API returned a 404 (Not Found), No status found with that ID.\n",
      "offwhite 1131889109906051073 Twitter API returned a 404 (Not Found), No status found with that ID.\n",
      "offwhite 1131888995539931137 Twitter API returned a 404 (Not Found), No status found with that ID.\n",
      "offwhite 1131881272228188160 Twitter API returned a 404 (Not Found), No status found with that ID.\n",
      "offwhite 1131889055031894017 Twitter API returned a 404 (Not Found), No status found with that ID.\n",
      "offwhite 1131879707673186305 Twitter API returned a 404 (Not Found), No status found with that ID.\n"
     ]
    },
    {
     "data": {
      "application/vnd.jupyter.widget-view+json": {
       "model_id": "",
       "version_major": 2,
       "version_minor": 0
      },
      "text/plain": [
       "HBox(children=(IntProgress(value=0, max=45), HTML(value='')))"
      ]
     },
     "metadata": {},
     "output_type": "display_data"
    },
    {
     "data": {
      "application/vnd.jupyter.widget-view+json": {
       "model_id": "",
       "version_major": 2,
       "version_minor": 0
      },
      "text/plain": [
       "HBox(children=(IntProgress(value=0, max=5), HTML(value='')))"
      ]
     },
     "metadata": {},
     "output_type": "display_data"
    },
    {
     "data": {
      "application/vnd.jupyter.widget-view+json": {
       "model_id": "",
       "version_major": 2,
       "version_minor": 0
      },
      "text/plain": [
       "HBox(children=(IntProgress(value=0, max=17), HTML(value='')))"
      ]
     },
     "metadata": {},
     "output_type": "display_data"
    },
    {
     "data": {
      "application/vnd.jupyter.widget-view+json": {
       "model_id": "",
       "version_major": 2,
       "version_minor": 0
      },
      "text/plain": [
       "HBox(children=(IntProgress(value=0, max=2), HTML(value='')))"
      ]
     },
     "metadata": {},
     "output_type": "display_data"
    },
    {
     "data": {
      "application/vnd.jupyter.widget-view+json": {
       "model_id": "",
       "version_major": 2,
       "version_minor": 0
      },
      "text/plain": [
       "HBox(children=(IntProgress(value=0, max=28), HTML(value='')))"
      ]
     },
     "metadata": {},
     "output_type": "display_data"
    },
    {
     "data": {
      "application/vnd.jupyter.widget-view+json": {
       "model_id": "",
       "version_major": 2,
       "version_minor": 0
      },
      "text/plain": [
       "HBox(children=(IntProgress(value=0, max=42), HTML(value='')))"
      ]
     },
     "metadata": {},
     "output_type": "display_data"
    },
    {
     "data": {
      "application/vnd.jupyter.widget-view+json": {
       "model_id": "",
       "version_major": 2,
       "version_minor": 0
      },
      "text/plain": [
       "HBox(children=(IntProgress(value=0, max=37), HTML(value='')))"
      ]
     },
     "metadata": {},
     "output_type": "display_data"
    },
    {
     "data": {
      "application/vnd.jupyter.widget-view+json": {
       "model_id": "",
       "version_major": 2,
       "version_minor": 0
      },
      "text/plain": [
       "HBox(children=(IntProgress(value=0, max=24), HTML(value='')))"
      ]
     },
     "metadata": {},
     "output_type": "display_data"
    },
    {
     "data": {
      "application/vnd.jupyter.widget-view+json": {
       "model_id": "",
       "version_major": 2,
       "version_minor": 0
      },
      "text/plain": [
       "HBox(children=(IntProgress(value=0, max=74), HTML(value='')))"
      ]
     },
     "metadata": {},
     "output_type": "display_data"
    },
    {
     "name": "stdout",
     "output_type": "stream",
     "text": [
      "paulsmith 1136210310585434112 Twitter API returned a 404 (Not Found), No status found with that ID.\n",
      "paulsmith 1136207006820290560 Twitter API returned a 404 (Not Found), No status found with that ID.\n",
      "paulsmith 1136207787434733568 Twitter API returned a 404 (Not Found), No status found with that ID.\n",
      "paulsmith 1136211782987464704 Twitter API returned a 404 (Not Found), No status found with that ID.\n",
      "paulsmith 1136212353664503808 Twitter API returned a 404 (Not Found), No status found with that ID.\n",
      "paulsmith 1136206459933298688 Twitter API returned a 404 (Not Found), No status found with that ID.\n",
      "paulsmith 1136207522358894596 Twitter API returned a 404 (Not Found), No status found with that ID.\n",
      "paulsmith 1136211042726318080 Twitter API returned a 404 (Not Found), No status found with that ID.\n"
     ]
    },
    {
     "data": {
      "application/vnd.jupyter.widget-view+json": {
       "model_id": "",
       "version_major": 2,
       "version_minor": 0
      },
      "text/plain": [
       "HBox(children=(IntProgress(value=0, max=151), HTML(value='')))"
      ]
     },
     "metadata": {},
     "output_type": "display_data"
    },
    {
     "name": "stdout",
     "output_type": "stream",
     "text": [
      "peaceminusone 1121379882691223553 Twitter API returned a 404 (Not Found), No status found with that ID.\n",
      "peaceminusone 1117724560877469696 Twitter API returned a 429 (Too Many Requests), Rate limit exceeded\n",
      "peaceminusone 1117724560877469696 Twitter API returned a 429 (Too Many Requests), Rate limit exceeded\n",
      "peaceminusone 1117724560877469696 Twitter API returned a 429 (Too Many Requests), Rate limit exceeded\n",
      "peaceminusone 1117724560877469696 Twitter API returned a 429 (Too Many Requests), Rate limit exceeded\n"
     ]
    },
    {
     "data": {
      "application/vnd.jupyter.widget-view+json": {
       "model_id": "",
       "version_major": 2,
       "version_minor": 0
      },
      "text/plain": [
       "HBox(children=(IntProgress(value=0, max=13), HTML(value='')))"
      ]
     },
     "metadata": {},
     "output_type": "display_data"
    },
    {
     "data": {
      "application/vnd.jupyter.widget-view+json": {
       "model_id": "",
       "version_major": 2,
       "version_minor": 0
      },
      "text/plain": [
       "HBox(children=(IntProgress(value=0, max=34), HTML(value='')))"
      ]
     },
     "metadata": {},
     "output_type": "display_data"
    },
    {
     "data": {
      "application/vnd.jupyter.widget-view+json": {
       "model_id": "",
       "version_major": 2,
       "version_minor": 0
      },
      "text/plain": [
       "HBox(children=(IntProgress(value=0, max=5), HTML(value='')))"
      ]
     },
     "metadata": {},
     "output_type": "display_data"
    },
    {
     "data": {
      "application/vnd.jupyter.widget-view+json": {
       "model_id": "",
       "version_major": 2,
       "version_minor": 0
      },
      "text/plain": [
       "HBox(children=(IntProgress(value=0, max=68), HTML(value='')))"
      ]
     },
     "metadata": {},
     "output_type": "display_data"
    },
    {
     "data": {
      "application/vnd.jupyter.widget-view+json": {
       "model_id": "",
       "version_major": 2,
       "version_minor": 0
      },
      "text/plain": [
       "HBox(children=(IntProgress(value=0, max=11), HTML(value='')))"
      ]
     },
     "metadata": {},
     "output_type": "display_data"
    },
    {
     "data": {
      "application/vnd.jupyter.widget-view+json": {
       "model_id": "",
       "version_major": 2,
       "version_minor": 0
      },
      "text/plain": [
       "HBox(children=(IntProgress(value=0, max=221), HTML(value='')))"
      ]
     },
     "metadata": {},
     "output_type": "display_data"
    },
    {
     "name": "stdout",
     "output_type": "stream",
     "text": [
      "prada 1115964694618157057 Twitter API returned a 403 (Forbidden), Sorry, you are not authorized to see this status.\n"
     ]
    },
    {
     "data": {
      "application/vnd.jupyter.widget-view+json": {
       "model_id": "",
       "version_major": 2,
       "version_minor": 0
      },
      "text/plain": [
       "HBox(children=(IntProgress(value=0, max=50), HTML(value='')))"
      ]
     },
     "metadata": {},
     "output_type": "display_data"
    },
    {
     "data": {
      "application/vnd.jupyter.widget-view+json": {
       "model_id": "",
       "version_major": 2,
       "version_minor": 0
      },
      "text/plain": [
       "HBox(children=(IntProgress(value=0, max=282), HTML(value='')))"
      ]
     },
     "metadata": {},
     "output_type": "display_data"
    },
    {
     "data": {
      "application/vnd.jupyter.widget-view+json": {
       "model_id": "",
       "version_major": 2,
       "version_minor": 0
      },
      "text/plain": [
       "HBox(children=(IntProgress(value=0, max=7), HTML(value='')))"
      ]
     },
     "metadata": {},
     "output_type": "display_data"
    },
    {
     "data": {
      "application/vnd.jupyter.widget-view+json": {
       "model_id": "",
       "version_major": 2,
       "version_minor": 0
      },
      "text/plain": [
       "HBox(children=(IntProgress(value=0, max=1), HTML(value='')))"
      ]
     },
     "metadata": {},
     "output_type": "display_data"
    },
    {
     "data": {
      "application/vnd.jupyter.widget-view+json": {
       "model_id": "",
       "version_major": 2,
       "version_minor": 0
      },
      "text/plain": [
       "HBox(children=(IntProgress(value=0, max=5), HTML(value='')))"
      ]
     },
     "metadata": {},
     "output_type": "display_data"
    },
    {
     "data": {
      "application/vnd.jupyter.widget-view+json": {
       "model_id": "",
       "version_major": 2,
       "version_minor": 0
      },
      "text/plain": [
       "HBox(children=(IntProgress(value=0, max=449), HTML(value='')))"
      ]
     },
     "metadata": {},
     "output_type": "display_data"
    },
    {
     "name": "stdout",
     "output_type": "stream",
     "text": [
      "readymade 1096047430783533057 Twitter API returned a 403 (Forbidden), Sorry, you are not authorized to see this status.\n",
      "readymade 1099622273684668418 Twitter API returned a 403 (Forbidden), Sorry, you are not authorized to see this status.\n",
      "readymade 1114781606399492096 Twitter API returned a 404 (Not Found), No status found with that ID.\n",
      "readymade 1113389047450263552 Twitter API returned a 404 (Not Found), No status found with that ID.\n",
      "readymade 1096045950336815105 Twitter API returned a 403 (Forbidden), Sorry, you are not authorized to see this status.\n",
      "readymade 1099636734537523201 Twitter API returned a 403 (Forbidden), Sorry, you are not authorized to see this status.\n",
      "readymade 1107658455962120192 Twitter API returned a 429 (Too Many Requests), Rate limit exceeded\n",
      "readymade 1107658455962120192 Twitter API returned a 429 (Too Many Requests), Rate limit exceeded\n",
      "readymade 1107658455962120192 Twitter API returned a 429 (Too Many Requests), Rate limit exceeded\n",
      "readymade 1107658455962120192 Twitter API returned a 429 (Too Many Requests), Rate limit exceeded\n",
      "readymade 1096749598490554374 Twitter API returned a 403 (Forbidden), Sorry, you are not authorized to see this status.\n",
      "readymade 1106831570181083136 Twitter API returned a 404 (Not Found), No status found with that ID.\n",
      "readymade 1113414414554660865 Twitter API returned a 404 (Not Found), No status found with that ID.\n",
      "readymade 1105826156694200323 Twitter API returned a 404 (Not Found), No status found with that ID.\n",
      "readymade 1112208328644415490 Twitter API returned a 403 (Forbidden), Sorry, you are not authorized to see this status.\n",
      "readymade 1096047659406614529 Twitter API returned a 403 (Forbidden), Sorry, you are not authorized to see this status.\n",
      "readymade 1113057220499988480 Twitter API returned a 404 (Not Found), No status found with that ID.\n",
      "readymade 1096045271933280257 Twitter API returned a 403 (Forbidden), Sorry, you are not authorized to see this status.\n",
      "readymade 1096045440942800897 Twitter API returned a 403 (Forbidden), Sorry, you are not authorized to see this status.\n",
      "readymade 1096047230824341504 Twitter API returned a 403 (Forbidden), Sorry, you are not authorized to see this status.\n",
      "readymade 1113404851520569344 Twitter API returned a 404 (Not Found), No status found with that ID.\n",
      "readymade 1096046184118898688 Twitter API returned a 403 (Forbidden), Sorry, you are not authorized to see this status.\n",
      "readymade 1096690800203689984 Twitter API returned a 403 (Forbidden), Sorry, you are not authorized to see this status.\n",
      "readymade 1115220512001519616 Twitter API returned a 404 (Not Found), No status found with that ID.\n",
      "readymade 1115592535882125312 Twitter API returned a 404 (Not Found), No status found with that ID.\n",
      "readymade 1096044913299382273 Twitter API returned a 403 (Forbidden), Sorry, you are not authorized to see this status.\n",
      "readymade 1105764474508709889 Twitter API returned a 404 (Not Found), No status found with that ID.\n",
      "readymade 1114819970641190913 Twitter API returned a 404 (Not Found), No status found with that ID.\n"
     ]
    },
    {
     "data": {
      "application/vnd.jupyter.widget-view+json": {
       "model_id": "",
       "version_major": 2,
       "version_minor": 0
      },
      "text/plain": [
       "HBox(children=(IntProgress(value=0, max=192), HTML(value='')))"
      ]
     },
     "metadata": {},
     "output_type": "display_data"
    },
    {
     "name": "stdout",
     "output_type": "stream",
     "text": [
      "reebok 1098741036942209024 Twitter API returned a 404 (Not Found), No status found with that ID.\n",
      "reebok 1132150297885675520 Twitter API returned a 404 (Not Found), Sorry, that page does not exist.\n",
      "reebok 1097808944402026499 Twitter API returned a 404 (Not Found), No status found with that ID.\n"
     ]
    },
    {
     "data": {
      "application/vnd.jupyter.widget-view+json": {
       "model_id": "",
       "version_major": 2,
       "version_minor": 0
      },
      "text/plain": [
       "HBox(children=(IntProgress(value=0, max=4), HTML(value='')))"
      ]
     },
     "metadata": {},
     "output_type": "display_data"
    },
    {
     "data": {
      "application/vnd.jupyter.widget-view+json": {
       "model_id": "",
       "version_major": 2,
       "version_minor": 0
      },
      "text/plain": [
       "HBox(children=(IntProgress(value=0, max=5), HTML(value='')))"
      ]
     },
     "metadata": {},
     "output_type": "display_data"
    },
    {
     "data": {
      "application/vnd.jupyter.widget-view+json": {
       "model_id": "",
       "version_major": 2,
       "version_minor": 0
      },
      "text/plain": [
       "HBox(children=(IntProgress(value=0, max=11), HTML(value='')))"
      ]
     },
     "metadata": {},
     "output_type": "display_data"
    },
    {
     "name": "stdout",
     "output_type": "stream",
     "text": [
      "rimowa 1120609451327705088 Twitter API returned a 404 (Not Found), No status found with that ID.\n"
     ]
    },
    {
     "data": {
      "application/vnd.jupyter.widget-view+json": {
       "model_id": "",
       "version_major": 2,
       "version_minor": 0
      },
      "text/plain": [
       "HBox(children=(IntProgress(value=0, max=62), HTML(value='')))"
      ]
     },
     "metadata": {},
     "output_type": "display_data"
    },
    {
     "data": {
      "application/vnd.jupyter.widget-view+json": {
       "model_id": "",
       "version_major": 2,
       "version_minor": 0
      },
      "text/plain": [
       "HBox(children=(IntProgress(value=0, max=118), HTML(value='')))"
      ]
     },
     "metadata": {},
     "output_type": "display_data"
    },
    {
     "data": {
      "application/vnd.jupyter.widget-view+json": {
       "model_id": "",
       "version_major": 2,
       "version_minor": 0
      },
      "text/plain": [
       "HBox(children=(IntProgress(value=0, max=4), HTML(value='')))"
      ]
     },
     "metadata": {},
     "output_type": "display_data"
    },
    {
     "data": {
      "application/vnd.jupyter.widget-view+json": {
       "model_id": "",
       "version_major": 2,
       "version_minor": 0
      },
      "text/plain": [
       "HBox(children=(IntProgress(value=0, max=53), HTML(value='')))"
      ]
     },
     "metadata": {},
     "output_type": "display_data"
    },
    {
     "name": "stdout",
     "output_type": "stream",
     "text": [
      "samsonite 1082553885321945088 Twitter API returned a 403 (Forbidden), User has been suspended.\n"
     ]
    },
    {
     "data": {
      "application/vnd.jupyter.widget-view+json": {
       "model_id": "",
       "version_major": 2,
       "version_minor": 0
      },
      "text/plain": [
       "HBox(children=(IntProgress(value=0, max=10), HTML(value='')))"
      ]
     },
     "metadata": {},
     "output_type": "display_data"
    },
    {
     "data": {
      "application/vnd.jupyter.widget-view+json": {
       "model_id": "",
       "version_major": 2,
       "version_minor": 0
      },
      "text/plain": [
       "HBox(children=(IntProgress(value=0, max=171), HTML(value='')))"
      ]
     },
     "metadata": {},
     "output_type": "display_data"
    },
    {
     "name": "stdout",
     "output_type": "stream",
     "text": [
      "series 1129250339910066176 Twitter API returned a 403 (Forbidden), User has been suspended.\n",
      "series 1113600379961221120 Twitter API returned a 403 (Forbidden), User has been suspended.\n",
      "series 1124444218485817344 Twitter API returned a 429 (Too Many Requests), Rate limit exceeded\n",
      "series 1124444218485817344 Twitter API returned a 429 (Too Many Requests), Rate limit exceeded\n",
      "series 1124444218485817344 Twitter API returned a 429 (Too Many Requests), Rate limit exceeded\n",
      "series 1135093021144305664 Twitter API returned a 404 (Not Found), No status found with that ID.\n",
      "series 1116143039808819207 Twitter API returned a 403 (Forbidden), User has been suspended.\n"
     ]
    },
    {
     "data": {
      "application/vnd.jupyter.widget-view+json": {
       "model_id": "",
       "version_major": 2,
       "version_minor": 0
      },
      "text/plain": [
       "HBox(children=(IntProgress(value=0, max=12), HTML(value='')))"
      ]
     },
     "metadata": {},
     "output_type": "display_data"
    },
    {
     "data": {
      "application/vnd.jupyter.widget-view+json": {
       "model_id": "",
       "version_major": 2,
       "version_minor": 0
      },
      "text/plain": [
       "HBox(children=(IntProgress(value=0, max=19), HTML(value='')))"
      ]
     },
     "metadata": {},
     "output_type": "display_data"
    },
    {
     "data": {
      "application/vnd.jupyter.widget-view+json": {
       "model_id": "",
       "version_major": 2,
       "version_minor": 0
      },
      "text/plain": [
       "HBox(children=(IntProgress(value=0, max=1), HTML(value='')))"
      ]
     },
     "metadata": {},
     "output_type": "display_data"
    },
    {
     "data": {
      "application/vnd.jupyter.widget-view+json": {
       "model_id": "",
       "version_major": 2,
       "version_minor": 0
      },
      "text/plain": [
       "HBox(children=(IntProgress(value=0, max=2), HTML(value='')))"
      ]
     },
     "metadata": {},
     "output_type": "display_data"
    },
    {
     "data": {
      "application/vnd.jupyter.widget-view+json": {
       "model_id": "",
       "version_major": 2,
       "version_minor": 0
      },
      "text/plain": [
       "HBox(children=(IntProgress(value=0, max=87), HTML(value='')))"
      ]
     },
     "metadata": {},
     "output_type": "display_data"
    },
    {
     "data": {
      "application/vnd.jupyter.widget-view+json": {
       "model_id": "",
       "version_major": 2,
       "version_minor": 0
      },
      "text/plain": [
       "HBox(children=(IntProgress(value=0, max=2), HTML(value='')))"
      ]
     },
     "metadata": {},
     "output_type": "display_data"
    },
    {
     "data": {
      "application/vnd.jupyter.widget-view+json": {
       "model_id": "",
       "version_major": 2,
       "version_minor": 0
      },
      "text/plain": [
       "HBox(children=(IntProgress(value=0, max=22), HTML(value='')))"
      ]
     },
     "metadata": {},
     "output_type": "display_data"
    },
    {
     "data": {
      "application/vnd.jupyter.widget-view+json": {
       "model_id": "",
       "version_major": 2,
       "version_minor": 0
      },
      "text/plain": [
       "HBox(children=(IntProgress(value=0, max=19), HTML(value='')))"
      ]
     },
     "metadata": {},
     "output_type": "display_data"
    },
    {
     "data": {
      "application/vnd.jupyter.widget-view+json": {
       "model_id": "",
       "version_major": 2,
       "version_minor": 0
      },
      "text/plain": [
       "HBox(children=(IntProgress(value=0, max=29), HTML(value='')))"
      ]
     },
     "metadata": {},
     "output_type": "display_data"
    },
    {
     "name": "stdout",
     "output_type": "stream",
     "text": [
      "stussy 1097802347810443264 Twitter API returned a 404 (Not Found), No status found with that ID.\n"
     ]
    },
    {
     "data": {
      "application/vnd.jupyter.widget-view+json": {
       "model_id": "",
       "version_major": 2,
       "version_minor": 0
      },
      "text/plain": [
       "HBox(children=(IntProgress(value=0, max=35), HTML(value='')))"
      ]
     },
     "metadata": {},
     "output_type": "display_data"
    },
    {
     "data": {
      "application/vnd.jupyter.widget-view+json": {
       "model_id": "",
       "version_major": 2,
       "version_minor": 0
      },
      "text/plain": [
       "HBox(children=(IntProgress(value=0, max=1), HTML(value='')))"
      ]
     },
     "metadata": {},
     "output_type": "display_data"
    },
    {
     "data": {
      "application/vnd.jupyter.widget-view+json": {
       "model_id": "",
       "version_major": 2,
       "version_minor": 0
      },
      "text/plain": [
       "HBox(children=(IntProgress(value=0, max=11), HTML(value='')))"
      ]
     },
     "metadata": {},
     "output_type": "display_data"
    },
    {
     "name": "stdout",
     "output_type": "stream",
     "text": [
      "superga 1086497758712741890 Twitter API returned a 403 (Forbidden), Sorry, you are not authorized to see this status.\n",
      "superga 1103462389029064704 Twitter API returned a 403 (Forbidden), Sorry, you are not authorized to see this status.\n"
     ]
    },
    {
     "data": {
      "application/vnd.jupyter.widget-view+json": {
       "model_id": "",
       "version_major": 2,
       "version_minor": 0
      },
      "text/plain": [
       "HBox(children=(IntProgress(value=0, max=109), HTML(value='')))"
      ]
     },
     "metadata": {},
     "output_type": "display_data"
    },
    {
     "name": "stdout",
     "output_type": "stream",
     "text": [
      "supreme 1098368976311074817 Twitter API returned a 404 (Not Found), No status found with that ID.\n",
      "supreme 1097097518616174595 Twitter API returned a 404 (Not Found), No status found with that ID.\n",
      "supreme 1098730101036933120 Twitter API returned a 404 (Not Found), No status found with that ID.\n",
      "supreme 1098741036942209024 Twitter API returned a 404 (Not Found), No status found with that ID.\n",
      "supreme 1098856237049864192 Twitter API returned a 404 (Not Found), No status found with that ID.\n",
      "supreme 1097808944402026499 Twitter API returned a 404 (Not Found), No status found with that ID.\n",
      "supreme 1098846487025311745 Twitter API returned a 404 (Not Found), No status found with that ID.\n",
      "supreme 1098167625224318977 Twitter API returned a 404 (Not Found), No status found with that ID.\n",
      "supreme 1098166960401969152 Twitter API returned a 404 (Not Found), No status found with that ID.\n",
      "supreme 1098166391473991681 Twitter API returned a 404 (Not Found), No status found with that ID.\n",
      "supreme 1097802347810443264 Twitter API returned a 404 (Not Found), No status found with that ID.\n",
      "supreme 1098560464957501440 Twitter API returned a 404 (Not Found), No status found with that ID.\n",
      "supreme 1098738605810315264 Twitter API returned a 404 (Not Found), No status found with that ID.\n",
      "supreme 1098830537731432448 Twitter API returned a 404 (Not Found), No status found with that ID.\n"
     ]
    },
    {
     "data": {
      "application/vnd.jupyter.widget-view+json": {
       "model_id": "",
       "version_major": 2,
       "version_minor": 0
      },
      "text/plain": [
       "HBox(children=(IntProgress(value=0, max=1600), HTML(value='')))"
      ]
     },
     "metadata": {},
     "output_type": "display_data"
    },
    {
     "name": "stdout",
     "output_type": "stream",
     "text": [
      "system 1134706584523665408 Twitter API returned a 403 (Forbidden), Sorry, you are not authorized to see this status.\n",
      "system 1130825706831671296 Twitter API returned a 429 (Too Many Requests), Rate limit exceeded\n",
      "system 1130825706831671296 Twitter API returned a 429 (Too Many Requests), Rate limit exceeded\n",
      "system 1130825706831671296 Twitter API returned a 429 (Too Many Requests), Rate limit exceeded\n",
      "system 1130825706831671296 Twitter API returned a 429 (Too Many Requests), Rate limit exceeded\n",
      "system 1134706441619615744 Twitter API returned a 403 (Forbidden), Sorry, you are not authorized to see this status.\n",
      "system 1114676762724536320 Twitter API returned a 429 (Too Many Requests), Rate limit exceeded\n",
      "system 1114676762724536320 Twitter API returned a 429 (Too Many Requests), Rate limit exceeded\n",
      "system 1114676762724536320 Twitter API returned a 429 (Too Many Requests), Rate limit exceeded\n",
      "system 1114676762724536320 Twitter API returned a 429 (Too Many Requests), Rate limit exceeded\n",
      "system 1134706790476607489 Twitter API returned a 403 (Forbidden), Sorry, you are not authorized to see this status.\n"
     ]
    },
    {
     "data": {
      "application/vnd.jupyter.widget-view+json": {
       "model_id": "",
       "version_major": 2,
       "version_minor": 0
      },
      "text/plain": [
       "HBox(children=(IntProgress(value=0, max=27), HTML(value='')))"
      ]
     },
     "metadata": {},
     "output_type": "display_data"
    },
    {
     "data": {
      "application/vnd.jupyter.widget-view+json": {
       "model_id": "",
       "version_major": 2,
       "version_minor": 0
      },
      "text/plain": [
       "HBox(children=(IntProgress(value=0, max=2), HTML(value='')))"
      ]
     },
     "metadata": {},
     "output_type": "display_data"
    },
    {
     "data": {
      "application/vnd.jupyter.widget-view+json": {
       "model_id": "",
       "version_major": 2,
       "version_minor": 0
      },
      "text/plain": [
       "HBox(children=(IntProgress(value=0, max=59), HTML(value='')))"
      ]
     },
     "metadata": {},
     "output_type": "display_data"
    },
    {
     "name": "stdout",
     "output_type": "stream",
     "text": [
      "thenorthface 1098224772515655680 Twitter API returned a 404 (Not Found), No status found with that ID.\n"
     ]
    },
    {
     "data": {
      "application/vnd.jupyter.widget-view+json": {
       "model_id": "",
       "version_major": 2,
       "version_minor": 0
      },
      "text/plain": [
       "HBox(children=(IntProgress(value=0, max=17), HTML(value='')))"
      ]
     },
     "metadata": {},
     "output_type": "display_data"
    },
    {
     "data": {
      "application/vnd.jupyter.widget-view+json": {
       "model_id": "",
       "version_major": 2,
       "version_minor": 0
      },
      "text/plain": [
       "HBox(children=(IntProgress(value=0, max=5), HTML(value='')))"
      ]
     },
     "metadata": {},
     "output_type": "display_data"
    },
    {
     "data": {
      "application/vnd.jupyter.widget-view+json": {
       "model_id": "",
       "version_major": 2,
       "version_minor": 0
      },
      "text/plain": [
       "HBox(children=(IntProgress(value=0, max=97), HTML(value='')))"
      ]
     },
     "metadata": {},
     "output_type": "display_data"
    },
    {
     "data": {
      "application/vnd.jupyter.widget-view+json": {
       "model_id": "",
       "version_major": 2,
       "version_minor": 0
      },
      "text/plain": [
       "HBox(children=(IntProgress(value=0, max=1), HTML(value='')))"
      ]
     },
     "metadata": {},
     "output_type": "display_data"
    },
    {
     "data": {
      "application/vnd.jupyter.widget-view+json": {
       "model_id": "",
       "version_major": 2,
       "version_minor": 0
      },
      "text/plain": [
       "HBox(children=(IntProgress(value=0, max=2), HTML(value='')))"
      ]
     },
     "metadata": {},
     "output_type": "display_data"
    },
    {
     "data": {
      "application/vnd.jupyter.widget-view+json": {
       "model_id": "",
       "version_major": 2,
       "version_minor": 0
      },
      "text/plain": [
       "HBox(children=(IntProgress(value=0, max=109), HTML(value='')))"
      ]
     },
     "metadata": {},
     "output_type": "display_data"
    },
    {
     "data": {
      "application/vnd.jupyter.widget-view+json": {
       "model_id": "",
       "version_major": 2,
       "version_minor": 0
      },
      "text/plain": [
       "HBox(children=(IntProgress(value=0, max=85), HTML(value='')))"
      ]
     },
     "metadata": {},
     "output_type": "display_data"
    },
    {
     "name": "stdout",
     "output_type": "stream",
     "text": [
      "tods 1131525497806942208 Twitter API returned a 404 (Not Found), No status found with that ID.\n",
      "tods 1131526831100686339 Twitter API returned a 404 (Not Found), No status found with that ID.\n",
      "tods 1131525902460805122 Twitter API returned a 404 (Not Found), No status found with that ID.\n",
      "tods 1131524667729072130 Twitter API returned a 404 (Not Found), No status found with that ID.\n",
      "tods 1131525077831340033 Twitter API returned a 404 (Not Found), No status found with that ID.\n"
     ]
    },
    {
     "data": {
      "application/vnd.jupyter.widget-view+json": {
       "model_id": "",
       "version_major": 2,
       "version_minor": 0
      },
      "text/plain": [
       "HBox(children=(IntProgress(value=0, max=14), HTML(value='')))"
      ]
     },
     "metadata": {},
     "output_type": "display_data"
    },
    {
     "data": {
      "application/vnd.jupyter.widget-view+json": {
       "model_id": "",
       "version_major": 2,
       "version_minor": 0
      },
      "text/plain": [
       "HBox(children=(IntProgress(value=0, max=23), HTML(value='')))"
      ]
     },
     "metadata": {},
     "output_type": "display_data"
    },
    {
     "data": {
      "application/vnd.jupyter.widget-view+json": {
       "model_id": "",
       "version_major": 2,
       "version_minor": 0
      },
      "text/plain": [
       "HBox(children=(IntProgress(value=0, max=356), HTML(value='')))"
      ]
     },
     "metadata": {},
     "output_type": "display_data"
    },
    {
     "name": "stdout",
     "output_type": "stream",
     "text": [
      "tommyhilfiger 1111576662767034368 Twitter API returned a 403 (Forbidden), Sorry, you are not authorized to see this status.\n",
      "tommyhilfiger 1112611058060009472 Twitter API returned a 403 (Forbidden), Sorry, you are not authorized to see this status.\n",
      "tommyhilfiger 1109376830656659456 Twitter API returned a 403 (Forbidden), Sorry, you are not authorized to see this status.\n",
      "tommyhilfiger 1112379621729845248 Twitter API returned a 403 (Forbidden), Sorry, you are not authorized to see this status.\n",
      "tommyhilfiger 1122033435613253632 Twitter API returned a 403 (Forbidden), Sorry, you are not authorized to see this status.\n",
      "tommyhilfiger 1115148690329677824 Twitter API returned a 403 (Forbidden), Sorry, you are not authorized to see this status.\n",
      "tommyhilfiger 1122033439337787392 Twitter API returned a 403 (Forbidden), Sorry, you are not authorized to see this status.\n",
      "tommyhilfiger 1110159984715853829 Twitter API returned a 403 (Forbidden), Sorry, you are not authorized to see this status.\n",
      "tommyhilfiger 1110898321093218306 Twitter API returned a 403 (Forbidden), Sorry, you are not authorized to see this status.\n",
      "tommyhilfiger 1112625461463601152 Twitter API returned a 403 (Forbidden), Sorry, you are not authorized to see this status.\n",
      "tommyhilfiger 1109404937946058752 Twitter API returned a 403 (Forbidden), Sorry, you are not authorized to see this status.\n",
      "tommyhilfiger 1111576666579628032 Twitter API returned a 403 (Forbidden), Sorry, you are not authorized to see this status.\n",
      "tommyhilfiger 1112625463267082241 Twitter API returned a 403 (Forbidden), Sorry, you are not authorized to see this status.\n",
      "tommyhilfiger 1102027776385642499 Twitter API returned a 429 (Too Many Requests), Rate limit exceeded\n",
      "tommyhilfiger 1102027776385642499 Twitter API returned a 429 (Too Many Requests), Rate limit exceeded\n",
      "tommyhilfiger 1102027776385642499 Twitter API returned a 429 (Too Many Requests), Rate limit exceeded\n",
      "tommyhilfiger 1102027776385642499 Twitter API returned a 429 (Too Many Requests), Rate limit exceeded\n",
      "tommyhilfiger 1111576664755064833 Twitter API returned a 403 (Forbidden), Sorry, you are not authorized to see this status.\n",
      "tommyhilfiger 1101951120535019520 Twitter API returned a 403 (Forbidden), User has been suspended.\n",
      "tommyhilfiger 1113252538449518592 Twitter API returned a 403 (Forbidden), Sorry, you are not authorized to see this status.\n",
      "tommyhilfiger 1124313479370948608 Twitter API returned a 403 (Forbidden), Sorry, you are not authorized to see this status.\n",
      "tommyhilfiger 1113252536742481921 Twitter API returned a 403 (Forbidden), Sorry, you are not authorized to see this status.\n"
     ]
    },
    {
     "data": {
      "application/vnd.jupyter.widget-view+json": {
       "model_id": "",
       "version_major": 2,
       "version_minor": 0
      },
      "text/plain": [
       "HBox(children=(IntProgress(value=0, max=8661), HTML(value='')))"
      ]
     },
     "metadata": {},
     "output_type": "display_data"
    },
    {
     "name": "stdout",
     "output_type": "stream",
     "text": [
      "tomsshoes 1108681224090902529 Twitter API returned a 429 (Too Many Requests), Rate limit exceeded\n",
      "tomsshoes 1108681224090902529 Twitter API returned a 429 (Too Many Requests), Rate limit exceeded\n",
      "tomsshoes 1108681224090902529 Twitter API returned a 429 (Too Many Requests), Rate limit exceeded\n",
      "tomsshoes 1108681224090902529 Twitter API returned a 429 (Too Many Requests), Rate limit exceeded\n",
      "tomsshoes 1104393509694406657 Twitter API returned a 429 (Too Many Requests), Rate limit exceeded\n",
      "tomsshoes 1104393509694406657 Twitter API returned a 429 (Too Many Requests), Rate limit exceeded\n",
      "tomsshoes 1104393509694406657 Twitter API returned a 429 (Too Many Requests), Rate limit exceeded\n",
      "tomsshoes 1104393509694406657 Twitter API returned a 429 (Too Many Requests), Rate limit exceeded\n",
      "tomsshoes 1128755995935526912 Twitter API returned a 429 (Too Many Requests), Rate limit exceeded\n",
      "tomsshoes 1128755995935526912 Twitter API returned a 429 (Too Many Requests), Rate limit exceeded\n",
      "tomsshoes 1128755995935526912 Twitter API returned a 429 (Too Many Requests), Rate limit exceeded\n",
      "tomsshoes 1128755995935526912 Twitter API returned a 429 (Too Many Requests), Rate limit exceeded\n",
      "tomsshoes 1084627736331616256 Twitter API returned a 429 (Too Many Requests), Rate limit exceeded\n",
      "tomsshoes 1084627736331616256 Twitter API returned a 429 (Too Many Requests), Rate limit exceeded\n",
      "tomsshoes 1084627736331616256 Twitter API returned a 429 (Too Many Requests), Rate limit exceeded\n",
      "tomsshoes 1084627736331616256 Twitter API returned a 429 (Too Many Requests), Rate limit exceeded\n",
      "tomsshoes 1137506152768348160 Twitter API returned a 429 (Too Many Requests), Rate limit exceeded\n",
      "tomsshoes 1137506152768348160 Twitter API returned a 429 (Too Many Requests), Rate limit exceeded\n",
      "tomsshoes 1137506152768348160 Twitter API returned a 429 (Too Many Requests), Rate limit exceeded\n",
      "tomsshoes 1137506152768348160 Twitter API returned a 429 (Too Many Requests), Rate limit exceeded\n",
      "tomsshoes 1089996141263908864 Twitter API returned a 429 (Too Many Requests), Rate limit exceeded\n",
      "tomsshoes 1089996141263908864 Twitter API returned a 429 (Too Many Requests), Rate limit exceeded\n",
      "tomsshoes 1089996141263908864 Twitter API returned a 429 (Too Many Requests), Rate limit exceeded\n",
      "tomsshoes 1089996141263908864 Twitter API returned a 429 (Too Many Requests), Rate limit exceeded\n",
      "tomsshoes 1125532802953273344 Twitter API returned a 429 (Too Many Requests), Rate limit exceeded\n",
      "tomsshoes 1125532802953273344 Twitter API returned a 429 (Too Many Requests), Rate limit exceeded\n",
      "tomsshoes 1125532802953273344 Twitter API returned a 429 (Too Many Requests), Rate limit exceeded\n",
      "tomsshoes 1125532802953273344 Twitter API returned a 429 (Too Many Requests), Rate limit exceeded\n",
      "tomsshoes 1090320779298787328 Twitter API returned a 429 (Too Many Requests), Rate limit exceeded\n",
      "tomsshoes 1090320779298787328 Twitter API returned a 429 (Too Many Requests), Rate limit exceeded\n",
      "tomsshoes 1090320779298787328 Twitter API returned a 429 (Too Many Requests), Rate limit exceeded\n",
      "tomsshoes 1101207514727632896 Twitter API returned a 429 (Too Many Requests), Rate limit exceeded\n",
      "tomsshoes 1101207514727632896 Twitter API returned a 429 (Too Many Requests), Rate limit exceeded\n",
      "tomsshoes 1101207514727632896 Twitter API returned a 429 (Too Many Requests), Rate limit exceeded\n",
      "tomsshoes 1101207514727632896 Twitter API returned a 429 (Too Many Requests), Rate limit exceeded\n"
     ]
    },
    {
     "data": {
      "application/vnd.jupyter.widget-view+json": {
       "model_id": "",
       "version_major": 2,
       "version_minor": 0
      },
      "text/plain": [
       "HBox(children=(IntProgress(value=0, max=23), HTML(value='')))"
      ]
     },
     "metadata": {},
     "output_type": "display_data"
    },
    {
     "name": "stdout",
     "output_type": "stream",
     "text": [
      "topten 1138767698970652672 Twitter API returned a 404 (Not Found), No status found with that ID.\n"
     ]
    },
    {
     "data": {
      "application/vnd.jupyter.widget-view+json": {
       "model_id": "",
       "version_major": 2,
       "version_minor": 0
      },
      "text/plain": [
       "HBox(children=(IntProgress(value=0, max=9), HTML(value='')))"
      ]
     },
     "metadata": {},
     "output_type": "display_data"
    },
    {
     "data": {
      "application/vnd.jupyter.widget-view+json": {
       "model_id": "",
       "version_major": 2,
       "version_minor": 0
      },
      "text/plain": [
       "HBox(children=(IntProgress(value=0, max=8), HTML(value='')))"
      ]
     },
     "metadata": {},
     "output_type": "display_data"
    },
    {
     "data": {
      "application/vnd.jupyter.widget-view+json": {
       "model_id": "",
       "version_major": 2,
       "version_minor": 0
      },
      "text/plain": [
       "HBox(children=(IntProgress(value=0, max=6), HTML(value='')))"
      ]
     },
     "metadata": {},
     "output_type": "display_data"
    },
    {
     "data": {
      "application/vnd.jupyter.widget-view+json": {
       "model_id": "",
       "version_major": 2,
       "version_minor": 0
      },
      "text/plain": [
       "HBox(children=(IntProgress(value=0, max=28), HTML(value='')))"
      ]
     },
     "metadata": {},
     "output_type": "display_data"
    },
    {
     "data": {
      "application/vnd.jupyter.widget-view+json": {
       "model_id": "",
       "version_major": 2,
       "version_minor": 0
      },
      "text/plain": [
       "HBox(children=(IntProgress(value=0, max=2), HTML(value='')))"
      ]
     },
     "metadata": {},
     "output_type": "display_data"
    },
    {
     "data": {
      "application/vnd.jupyter.widget-view+json": {
       "model_id": "",
       "version_major": 2,
       "version_minor": 0
      },
      "text/plain": [
       "HBox(children=(IntProgress(value=0, max=34), HTML(value='')))"
      ]
     },
     "metadata": {},
     "output_type": "display_data"
    },
    {
     "name": "stdout",
     "output_type": "stream",
     "text": [
      "underarmour 1090136065891958784 Twitter API returned a 403 (Forbidden), Sorry, you are not authorized to see this status.\n"
     ]
    },
    {
     "data": {
      "application/vnd.jupyter.widget-view+json": {
       "model_id": "",
       "version_major": 2,
       "version_minor": 0
      },
      "text/plain": [
       "HBox(children=(IntProgress(value=0, max=1529), HTML(value='')))"
      ]
     },
     "metadata": {},
     "output_type": "display_data"
    },
    {
     "name": "stdout",
     "output_type": "stream",
     "text": [
      "undercover 1123138788220231680 Twitter API returned a 404 (Not Found), No status found with that ID.\n",
      "undercover 1122153976542031872 Twitter API returned a 404 (Not Found), No status found with that ID.\n",
      "undercover 1132531699613462533 Twitter API returned a 429 (Too Many Requests), Rate limit exceeded\n",
      "undercover 1132531699613462533 Twitter API returned a 429 (Too Many Requests), Rate limit exceeded\n",
      "undercover 1132531699613462533 Twitter API returned a 429 (Too Many Requests), Rate limit exceeded\n",
      "undercover 1132531699613462533 Twitter API returned a 429 (Too Many Requests), Rate limit exceeded\n",
      "undercover 1125345687900573697 Twitter API returned a 404 (Not Found), No status found with that ID.\n",
      "undercover 1124318207932715008 Twitter API returned a 404 (Not Found), No status found with that ID.\n",
      "undercover 1125347570450980864 Twitter API returned a 404 (Not Found), No status found with that ID.\n",
      "undercover 1138385124607660032 Twitter API returned a 404 (Not Found), No status found with that ID.\n",
      "undercover 1125347724637786112 Twitter API returned a 404 (Not Found), No status found with that ID.\n",
      "undercover 1123252537623080960 Twitter API returned a 404 (Not Found), No status found with that ID.\n",
      "undercover 1125345937298034688 Twitter API returned a 404 (Not Found), No status found with that ID.\n",
      "undercover 1141349903584698368 Twitter API returned a 403 (Forbidden), User has been suspended.\n",
      "undercover 1124318316447686657 Twitter API returned a 404 (Not Found), No status found with that ID.\n",
      "undercover 1130059966826422272 Twitter API returned a 404 (Not Found), No status found with that ID.\n",
      "undercover 1125288383649964032 Twitter API returned a 404 (Not Found), No status found with that ID.\n",
      "undercover 1125299836394172418 Twitter API returned a 404 (Not Found), No status found with that ID.\n",
      "undercover 1125345793144020994 Twitter API returned a 404 (Not Found), No status found with that ID.\n",
      "undercover 1125299908100014080 Twitter API returned a 404 (Not Found), No status found with that ID.\n",
      "undercover 1140851949346021376 Twitter API returned a 404 (Not Found), No status found with that ID.\n",
      "undercover 1084110794147618818 Twitter API returned a 403 (Forbidden), Sorry, you are not authorized to see this status.\n",
      "undercover 1123252274380197893 Twitter API returned a 404 (Not Found), No status found with that ID.\n",
      "undercover 1125385766534696968 Twitter API returned a 404 (Not Found), No status found with that ID.\n",
      "undercover 1133008378232369154 Twitter API returned a 404 (Not Found), No status found with that ID.\n",
      "undercover 1123124920483901440 Twitter API returned a 404 (Not Found), No status found with that ID.\n",
      "undercover 1133010120793657344 Twitter API returned a 404 (Not Found), No status found with that ID.\n",
      "undercover 1141350194690383872 Twitter API returned a 403 (Forbidden), User has been suspended.\n",
      "undercover 1136739310319935489 Twitter API returned a 429 (Too Many Requests), Rate limit exceeded\n",
      "undercover 1136739310319935489 Twitter API returned a 429 (Too Many Requests), Rate limit exceeded\n",
      "undercover 1136739310319935489 Twitter API returned a 429 (Too Many Requests), Rate limit exceeded\n",
      "undercover 1136739310319935489 Twitter API returned a 429 (Too Many Requests), Rate limit exceeded\n",
      "undercover 1098169828173537280 Twitter API returned a 404 (Not Found), No status found with that ID.\n",
      "undercover 1125301076725358592 Twitter API returned a 404 (Not Found), No status found with that ID.\n",
      "undercover 1125345890183421952 Twitter API returned a 404 (Not Found), No status found with that ID.\n",
      "undercover 1125347687497207808 Twitter API returned a 404 (Not Found), No status found with that ID.\n",
      "undercover 1125256952953466881 Twitter API returned a 404 (Not Found), No status found with that ID.\n",
      "undercover 1125351265909628928 Twitter API returned a 404 (Not Found), No status found with that ID.\n"
     ]
    },
    {
     "data": {
      "application/vnd.jupyter.widget-view+json": {
       "model_id": "",
       "version_major": 2,
       "version_minor": 0
      },
      "text/plain": [
       "HBox(children=(IntProgress(value=0, max=301), HTML(value='')))"
      ]
     },
     "metadata": {},
     "output_type": "display_data"
    },
    {
     "name": "stdout",
     "output_type": "stream",
     "text": [
      "uniqlo 1098730101036933120 Twitter API returned a 404 (Not Found), No status found with that ID.\n",
      "uniqlo 1106125713810358272 Twitter API returned a 403 (Forbidden), Sorry, you are not authorized to see this status.\n",
      "uniqlo 1098223831414534146 Twitter API returned a 404 (Not Found), No status found with that ID.\n",
      "uniqlo 1132902119172739072 Twitter API returned a 403 (Forbidden), Sorry, you are not authorized to see this status.\n",
      "uniqlo 1130785624774963202 Twitter API returned a 404 (Not Found), No status found with that ID.\n",
      "uniqlo 1106124461751914497 Twitter API returned a 403 (Forbidden), Sorry, you are not authorized to see this status.\n",
      "uniqlo 1106124460162199558 Twitter API returned a 403 (Forbidden), Sorry, you are not authorized to see this status.\n",
      "uniqlo 1106123638619729920 Twitter API returned a 403 (Forbidden), Sorry, you are not authorized to see this status.\n",
      "uniqlo 1106124977252823040 Twitter API returned a 403 (Forbidden), Sorry, you are not authorized to see this status.\n",
      "uniqlo 1134239621083123712 Twitter API returned a 404 (Not Found), No status found with that ID.\n",
      "uniqlo 1106124979341590528 Twitter API returned a 403 (Forbidden), Sorry, you are not authorized to see this status.\n",
      "uniqlo 1130740930334474240 Twitter API returned a 403 (Forbidden), Sorry, you are not authorized to see this status.\n"
     ]
    },
    {
     "data": {
      "application/vnd.jupyter.widget-view+json": {
       "model_id": "",
       "version_major": 2,
       "version_minor": 0
      },
      "text/plain": [
       "HBox(children=(IntProgress(value=0, max=10), HTML(value='')))"
      ]
     },
     "metadata": {},
     "output_type": "display_data"
    },
    {
     "data": {
      "application/vnd.jupyter.widget-view+json": {
       "model_id": "",
       "version_major": 2,
       "version_minor": 0
      },
      "text/plain": [
       "HBox(children=(IntProgress(value=0, max=204), HTML(value='')))"
      ]
     },
     "metadata": {},
     "output_type": "display_data"
    },
    {
     "name": "stdout",
     "output_type": "stream",
     "text": [
      "valentino 1104195060067790849 Twitter API returned a 403 (Forbidden), Sorry, you are not authorized to see this status.\n",
      "valentino 1112618882034855937 Twitter API returned a 403 (Forbidden), Sorry, you are not authorized to see this status.\n",
      "valentino 1090516934855139328 Twitter API returned a 429 (Too Many Requests), Rate limit exceeded\n",
      "valentino 1090516934855139328 Twitter API returned a 429 (Too Many Requests), Rate limit exceeded\n",
      "valentino 1090516934855139328 Twitter API returned a 429 (Too Many Requests), Rate limit exceeded\n",
      "valentino 1090516934855139328 Twitter API returned a 429 (Too Many Requests), Rate limit exceeded\n",
      "valentino 1106062778748432384 Twitter API returned a 403 (Forbidden), User has been suspended.\n",
      "valentino 1106063251345829889 Twitter API returned a 403 (Forbidden), User has been suspended.\n",
      "valentino 1106066184615518208 Twitter API returned a 403 (Forbidden), User has been suspended.\n"
     ]
    },
    {
     "data": {
      "application/vnd.jupyter.widget-view+json": {
       "model_id": "",
       "version_major": 2,
       "version_minor": 0
      },
      "text/plain": [
       "HBox(children=(IntProgress(value=0, max=173), HTML(value='')))"
      ]
     },
     "metadata": {},
     "output_type": "display_data"
    },
    {
     "name": "stdout",
     "output_type": "stream",
     "text": [
      "vans 1115964097672048640 Twitter API returned a 404 (Not Found), No status found with that ID.\n",
      "vans 1084457760979329024 Twitter API returned a 403 (Forbidden), Sorry, you are not authorized to see this status.\n",
      "vans 1120208499718287360 Twitter API returned a 403 (Forbidden), Sorry, you are not authorized to see this status.\n",
      "vans 1098166960401969152 Twitter API returned a 404 (Not Found), No status found with that ID.\n",
      "vans 1098166391473991681 Twitter API returned a 404 (Not Found), No status found with that ID.\n",
      "vans 1120103685671964673 Twitter API returned a 404 (Not Found), No status found with that ID.\n",
      "vans 1115243600365797376 Twitter API returned a 404 (Not Found), No status found with that ID.\n"
     ]
    },
    {
     "data": {
      "application/vnd.jupyter.widget-view+json": {
       "model_id": "",
       "version_major": 2,
       "version_minor": 0
      },
      "text/plain": [
       "HBox(children=(IntProgress(value=0, max=40), HTML(value='')))"
      ]
     },
     "metadata": {},
     "output_type": "display_data"
    },
    {
     "data": {
      "application/vnd.jupyter.widget-view+json": {
       "model_id": "",
       "version_major": 2,
       "version_minor": 0
      },
      "text/plain": [
       "HBox(children=(IntProgress(value=0, max=6), HTML(value='')))"
      ]
     },
     "metadata": {},
     "output_type": "display_data"
    },
    {
     "data": {
      "application/vnd.jupyter.widget-view+json": {
       "model_id": "",
       "version_major": 2,
       "version_minor": 0
      },
      "text/plain": [
       "HBox(children=(IntProgress(value=0, max=6), HTML(value='')))"
      ]
     },
     "metadata": {},
     "output_type": "display_data"
    },
    {
     "data": {
      "application/vnd.jupyter.widget-view+json": {
       "model_id": "",
       "version_major": 2,
       "version_minor": 0
      },
      "text/plain": [
       "HBox(children=(IntProgress(value=0, max=6), HTML(value='')))"
      ]
     },
     "metadata": {},
     "output_type": "display_data"
    },
    {
     "data": {
      "application/vnd.jupyter.widget-view+json": {
       "model_id": "",
       "version_major": 2,
       "version_minor": 0
      },
      "text/plain": [
       "HBox(children=(IntProgress(value=0, max=17), HTML(value='')))"
      ]
     },
     "metadata": {},
     "output_type": "display_data"
    },
    {
     "data": {
      "application/vnd.jupyter.widget-view+json": {
       "model_id": "",
       "version_major": 2,
       "version_minor": 0
      },
      "text/plain": [
       "HBox(children=(IntProgress(value=0, max=1), HTML(value='')))"
      ]
     },
     "metadata": {},
     "output_type": "display_data"
    },
    {
     "data": {
      "application/vnd.jupyter.widget-view+json": {
       "model_id": "",
       "version_major": 2,
       "version_minor": 0
      },
      "text/plain": [
       "HBox(children=(IntProgress(value=0, max=73), HTML(value='')))"
      ]
     },
     "metadata": {},
     "output_type": "display_data"
    },
    {
     "data": {
      "application/vnd.jupyter.widget-view+json": {
       "model_id": "",
       "version_major": 2,
       "version_minor": 0
      },
      "text/plain": [
       "HBox(children=(IntProgress(value=0, max=1), HTML(value='')))"
      ]
     },
     "metadata": {},
     "output_type": "display_data"
    },
    {
     "data": {
      "application/vnd.jupyter.widget-view+json": {
       "model_id": "",
       "version_major": 2,
       "version_minor": 0
      },
      "text/plain": [
       "HBox(children=(IntProgress(value=0, max=1), HTML(value='')))"
      ]
     },
     "metadata": {},
     "output_type": "display_data"
    },
    {
     "data": {
      "application/vnd.jupyter.widget-view+json": {
       "model_id": "",
       "version_major": 2,
       "version_minor": 0
      },
      "text/plain": [
       "HBox(children=(IntProgress(value=0, max=11), HTML(value='')))"
      ]
     },
     "metadata": {},
     "output_type": "display_data"
    },
    {
     "data": {
      "application/vnd.jupyter.widget-view+json": {
       "model_id": "",
       "version_major": 2,
       "version_minor": 0
      },
      "text/plain": [
       "HBox(children=(IntProgress(value=0, max=53), HTML(value='')))"
      ]
     },
     "metadata": {},
     "output_type": "display_data"
    },
    {
     "name": "stdout",
     "output_type": "stream",
     "text": [
      "yeezy 1129285844999725056 Twitter API returned a 403 (Forbidden), Sorry, you are not authorized to see this status.\n"
     ]
    },
    {
     "data": {
      "application/vnd.jupyter.widget-view+json": {
       "model_id": "",
       "version_major": 2,
       "version_minor": 0
      },
      "text/plain": [
       "HBox(children=(IntProgress(value=0, max=5), HTML(value='')))"
      ]
     },
     "metadata": {},
     "output_type": "display_data"
    },
    {
     "data": {
      "application/vnd.jupyter.widget-view+json": {
       "model_id": "",
       "version_major": 2,
       "version_minor": 0
      },
      "text/plain": [
       "HBox(children=(IntProgress(value=0, max=81), HTML(value='')))"
      ]
     },
     "metadata": {},
     "output_type": "display_data"
    },
    {
     "name": "stdout",
     "output_type": "stream",
     "text": [
      "zara 1098727636702965760 Twitter API returned a 404 (Not Found), No status found with that ID.\n",
      "zara 1098730101036933120 Twitter API returned a 404 (Not Found), No status found with that ID.\n",
      "zara 1098169828173537280 Twitter API returned a 404 (Not Found), No status found with that ID.\n",
      "zara 1098369610158530561 Twitter API returned a 404 (Not Found), No status found with that ID.\n",
      "zara 1097805506863804416 Twitter API returned a 404 (Not Found), No status found with that ID.\n"
     ]
    }
   ],
   "source": [
    "CONSUMER_KEY = 'gFeP16lpEBKux4K6GO2LfLEWI'\n",
    "CONSUMER_SECRET = '38yzPyI8vqUqrCV0RLc1ugl8Se1pYA2Nlderk9Rj3DUaE5VTpA'\n",
    "OAUTH_TOKEN = '1085907708413267970-nyk4nvgG9miNTqRmg4jkFnmZfqW254'\n",
    "OAUTH_TOKEN_SECRET = 'ty2TIFFSorxmMKMq0VlqcIWrgqpJqdHBW9z3ye0J4BeL7'\n",
    "twitter = Twython(CONSUMER_KEY, CONSUMER_SECRET, OAUTH_TOKEN, OAUTH_TOKEN_SECRET)\n",
    "\n",
    "feeds = []\n",
    "users = dict()\n",
    "hashtags = set()\n",
    "\n",
    "for bname, ids in tqdm(list(tweet_ids.items())[:]):\n",
    "    for tw_id in tqdm(ids, leave=False):\n",
    "        while True:\n",
    "            try:\n",
    "                tw = twitter.show_status(id=tw_id)\n",
    "                _hashtags = get_hashtags(tw)\n",
    "                _user = get_user(tw)\n",
    "                _feed = get_feed(tw, bname, _hashtags)\n",
    "\n",
    "                hashtags |= _hashtags\n",
    "                users.update(_user)\n",
    "                feeds.append(_feed)\n",
    "\n",
    "            except TwythonRateLimitError as e:\n",
    "                print(bname, tw_id, e)\n",
    "                remainder = float(twitter.get_lastfunction_header(header='x-rate-limit-reset')) - time.time()\n",
    "                remainder = max(0, remainder)\n",
    "                del twitter\n",
    "                time.sleep(remainder)\n",
    "                twitter = Twython(CONSUMER_KEY, CONSUMER_SECRET, OAUTH_TOKEN, OAUTH_TOKEN_SECRET)\n",
    "                continue\n",
    "\n",
    "            except TwythonError as e:\n",
    "                print(bname, tw_id, e)\n",
    "\n",
    "            break"
   ]
  },
  {
   "cell_type": "code",
   "execution_count": 19,
   "metadata": {},
   "outputs": [],
   "source": [
    "users;\n",
    "with open('users.json', 'w') as f:\n",
    "    json.dump(users, f)"
   ]
  },
  {
   "cell_type": "code",
   "execution_count": 27,
   "metadata": {},
   "outputs": [],
   "source": [
    "hashtags;\n",
    "with open('hashtags.json', 'w') as f:\n",
    "    json.dump(list(hashtags), f)"
   ]
  },
  {
   "cell_type": "code",
   "execution_count": 31,
   "metadata": {
    "scrolled": true
   },
   "outputs": [],
   "source": [
    "feeds;\n",
    "with open('feeds.json', 'w') as f:\n",
    "    json.dump(feeds, f)"
   ]
  },
  {
   "cell_type": "code",
   "execution_count": null,
   "metadata": {},
   "outputs": [],
   "source": []
  },
  {
   "cell_type": "code",
   "execution_count": null,
   "metadata": {},
   "outputs": [],
   "source": []
  },
  {
   "cell_type": "markdown",
   "metadata": {},
   "source": [
    "# Profile image 저장하기"
   ]
  },
  {
   "cell_type": "code",
   "execution_count": 33,
   "metadata": {},
   "outputs": [
    {
     "data": {
      "application/vnd.jupyter.widget-view+json": {
       "model_id": "7560b1eec0594987aa3905ffd8b31172",
       "version_major": 2,
       "version_minor": 0
      },
      "text/plain": [
       "HBox(children=(IntProgress(value=0, max=8872), HTML(value='')))"
      ]
     },
     "metadata": {},
     "output_type": "display_data"
    }
   ],
   "source": [
    "for k,v in tqdm(users.items()):\n",
    "    profile_dir = 'uploads/profile_images/' + str(k)\n",
    "    \n",
    "    if not os.path.isdir(profile_dir):\n",
    "        os.mkdir(profile_dir)\n",
    "    \n",
    "    profile_image = v['profile_image']\n",
    "    fname = profile_dir + '/' + profile_image.split('/')[-1]\n",
    "\n",
    "    if not os.path.isfile(fname):\n",
    "        try:\n",
    "            img = requests.get(profile_image).content\n",
    "            with open(fname, 'wb') as f:\n",
    "                f.write(img)\n",
    "        except:\n",
    "            print(k)"
   ]
  },
  {
   "cell_type": "code",
   "execution_count": null,
   "metadata": {},
   "outputs": [],
   "source": []
  },
  {
   "cell_type": "markdown",
   "metadata": {},
   "source": [
    "# Feed image 저장하기"
   ]
  },
  {
   "cell_type": "code",
   "execution_count": 34,
   "metadata": {},
   "outputs": [
    {
     "data": {
      "application/vnd.jupyter.widget-view+json": {
       "model_id": "c33327754ae84f0489ddb77926024849",
       "version_major": 2,
       "version_minor": 0
      },
      "text/plain": [
       "HBox(children=(IntProgress(value=0, max=46960), HTML(value='')))"
      ]
     },
     "metadata": {},
     "output_type": "display_data"
    }
   ],
   "source": [
    "for feed in tqdm(feeds):\n",
    "    if 'feed_image' not in feed:\n",
    "        continue\n",
    "    \n",
    "    feed_image = feed['feed_image']\n",
    "    feed_memb_dir = 'uploads/feed_images/' + feed['membership']\n",
    "\n",
    "    if not os.path.isdir(feed_memb_dir):\n",
    "        os.mkdir(feed_memb_dir)\n",
    "    \n",
    "    feed_memb_author_dir = feed_memb_dir + '/' + feed['author']\n",
    "    \n",
    "    if not os.path.isdir(feed_memb_author_dir):\n",
    "        os.mkdir(feed_memb_author_dir)\n",
    "    \n",
    "    fname = feed_memb_author_dir + '/' + feed_image.split('/')[-1]\n",
    "\n",
    "    if not os.path.isfile(fname):\n",
    "        try:\n",
    "            img = requests.get(feed_image).content\n",
    "            with open(fname, 'wb') as f:\n",
    "                f.write(img)\n",
    "        except:\n",
    "            print(fname)"
   ]
  },
  {
   "cell_type": "code",
   "execution_count": null,
   "metadata": {},
   "outputs": [],
   "source": []
  },
  {
   "cell_type": "code",
   "execution_count": null,
   "metadata": {
    "scrolled": true
   },
   "outputs": [],
   "source": []
  },
  {
   "cell_type": "markdown",
   "metadata": {},
   "source": [
    "# 테스트유저 만들기\n",
    "## 1. Custom user model (email 기반)"
   ]
  },
  {
   "cell_type": "code",
   "execution_count": 9,
   "metadata": {},
   "outputs": [],
   "source": [
    "users = None\n",
    "with open('users.json', encoding='UTF-8-sig') as f:\n",
    "    users = json.load(f)"
   ]
  },
  {
   "cell_type": "code",
   "execution_count": 10,
   "metadata": {},
   "outputs": [
    {
     "data": {
      "application/vnd.jupyter.widget-view+json": {
       "model_id": "7e3891e032c4486d9ff6f23a54e4e828",
       "version_major": 2,
       "version_minor": 0
      },
      "text/plain": [
       "HBox(children=(IntProgress(value=0, max=8872), HTML(value='')))"
      ]
     },
     "metadata": {},
     "output_type": "display_data"
    },
    {
     "name": "stdout",
     "output_type": "stream",
     "text": [
      "\n"
     ]
    }
   ],
   "source": [
    "dbinit_test_users = []\n",
    "\n",
    "for k,v in tqdm(users.items()):\n",
    "    dbinit_test_users.append({\n",
    "        # 'model': 'custom_user.EmailUser', \n",
    "        'model': 'app.customemailuser', \n",
    "        'pk': k, \n",
    "        'fields': {\n",
    "            'email': v['user'] + '@getch.com', \n",
    "        }\n",
    "    })"
   ]
  },
  {
   "cell_type": "code",
   "execution_count": 12,
   "metadata": {},
   "outputs": [],
   "source": [
    "dbinit_test_users;"
   ]
  },
  {
   "cell_type": "code",
   "execution_count": 13,
   "metadata": {},
   "outputs": [],
   "source": [
    "with open('dbinit_test_users.json', 'w') as f:\n",
    "    json.dump(dbinit_test_users, f)"
   ]
  },
  {
   "cell_type": "markdown",
   "metadata": {},
   "source": [
    "## 2. Profile model"
   ]
  },
  {
   "cell_type": "code",
   "execution_count": 43,
   "metadata": {},
   "outputs": [
    {
     "data": {
      "application/vnd.jupyter.widget-view+json": {
       "model_id": "5b732c0adffe43e1a8bfb4c45b3ad19a",
       "version_major": 2,
       "version_minor": 0
      },
      "text/plain": [
       "HBox(children=(IntProgress(value=0, max=8872), HTML(value='')))"
      ]
     },
     "metadata": {},
     "output_type": "display_data"
    }
   ],
   "source": [
    "dbinit_test_profiles = []\n",
    "\n",
    "for k,v in tqdm(users.items()):\n",
    "    dbinit_test_profiles.append({\n",
    "        'model': 'app.profile', \n",
    "        'pk': k, \n",
    "        'fields': {\n",
    "            'user': k, \n",
    "            'profile_image': 'profile_images/' + str(k) + '/' + v['profile_image'].split('/')[-1], \n",
    "        }\n",
    "    })"
   ]
  },
  {
   "cell_type": "code",
   "execution_count": 86,
   "metadata": {},
   "outputs": [],
   "source": [
    "dbinit_test_profiles;"
   ]
  },
  {
   "cell_type": "code",
   "execution_count": 45,
   "metadata": {},
   "outputs": [],
   "source": [
    "with open('dbinit_test_profiles.json', 'w') as f:\n",
    "    json.dump(dbinit_test_profiles, f)"
   ]
  },
  {
   "cell_type": "code",
   "execution_count": null,
   "metadata": {},
   "outputs": [],
   "source": []
  },
  {
   "cell_type": "markdown",
   "metadata": {},
   "source": [
    "# Hashtag model"
   ]
  },
  {
   "cell_type": "code",
   "execution_count": 14,
   "metadata": {},
   "outputs": [],
   "source": [
    "hashtags = None\n",
    "with open('hashtags.json', encoding='UTF-8-sig') as f:\n",
    "    hashtags = json.load(f)"
   ]
  },
  {
   "cell_type": "code",
   "execution_count": 15,
   "metadata": {},
   "outputs": [],
   "source": [
    "dbinit_hashtags = []\n",
    "                \n",
    "for pk, tag in enumerate(hashtags):\n",
    "    dbinit_hashtags.append({\n",
    "        'model': 'app.hashtag', \n",
    "        'pk': pk+1, \n",
    "        'fields': {\n",
    "            'hashtag': tag, \n",
    "        }\n",
    "    })"
   ]
  },
  {
   "cell_type": "code",
   "execution_count": 22,
   "metadata": {},
   "outputs": [
    {
     "data": {
      "text/plain": [
       "[{'model': 'app.hashtag', 'pk': 1, 'fields': {'hashtag': '지창욱'}},\n",
       " {'model': 'app.hashtag', 'pk': 2, 'fields': {'hashtag': 'JOOYOUNG'}},\n",
       " {'model': 'app.hashtag', 'pk': 3, 'fields': {'hashtag': '迪丽热巴'}},\n",
       " {'model': 'app.hashtag', 'pk': 4, 'fields': {'hashtag': '주정정'}},\n",
       " {'model': 'app.hashtag', 'pk': 5, 'fields': {'hashtag': '와인스타그램'}},\n",
       " {'model': 'app.hashtag', 'pk': 6, 'fields': {'hashtag': '와디즈'}},\n",
       " {'model': 'app.hashtag', 'pk': 7, 'fields': {'hashtag': 'BGT2019'}},\n",
       " {'model': 'app.hashtag', 'pk': 8, 'fields': {'hashtag': '제페토뷔'}},\n",
       " {'model': 'app.hashtag', 'pk': 9, 'fields': {'hashtag': 'MLBB'}},\n",
       " {'model': 'app.hashtag', 'pk': 10, 'fields': {'hashtag': 'speedpainting'}},\n",
       " {'model': 'app.hashtag', 'pk': 11, 'fields': {'hashtag': '마영전_포코스'}},\n",
       " {'model': 'app.hashtag', 'pk': 12, 'fields': {'hashtag': 'Choice'}},\n",
       " {'model': 'app.hashtag', 'pk': 13, 'fields': {'hashtag': '하이컷스타'}},\n",
       " {'model': 'app.hashtag', 'pk': 14, 'fields': {'hashtag': '호리즌'}},\n",
       " {'model': 'app.hashtag', 'pk': 15, 'fields': {'hashtag': '늦었지만'}},\n",
       " {'model': 'app.hashtag', 'pk': 16, 'fields': {'hashtag': 'Filson백팩'}},\n",
       " {'model': 'app.hashtag', 'pk': 17, 'fields': {'hashtag': '클라터뮤젠'}},\n",
       " {'model': 'app.hashtag', 'pk': 18, 'fields': {'hashtag': '신민재'}},\n",
       " {'model': 'app.hashtag', 'pk': 19, 'fields': {'hashtag': '사무라이쇼다운m'}},\n",
       " {'model': 'app.hashtag', 'pk': 20, 'fields': {'hashtag': '토도바쿠'}},\n",
       " {'model': 'app.hashtag', 'pk': 21, 'fields': {'hashtag': '스트레칭'}},\n",
       " {'model': 'app.hashtag', 'pk': 22, 'fields': {'hashtag': 'COLD'}},\n",
       " {'model': 'app.hashtag', 'pk': 23, 'fields': {'hashtag': 'nyfw'}},\n",
       " {'model': 'app.hashtag', 'pk': 24, 'fields': {'hashtag': '고야드지갑'}},\n",
       " {'model': 'app.hashtag', 'pk': 25, 'fields': {'hashtag': 'الزلفي'}},\n",
       " {'model': 'app.hashtag', 'pk': 26, 'fields': {'hashtag': '뱅앤올룹슨'}},\n",
       " {'model': 'app.hashtag', 'pk': 27, 'fields': {'hashtag': '최진리'}},\n",
       " {'model': 'app.hashtag', 'pk': 28, 'fields': {'hashtag': '강다니엘화보'}},\n",
       " {'model': 'app.hashtag', 'pk': 29, 'fields': {'hashtag': '남자발바닥'}},\n",
       " {'model': 'app.hashtag', 'pk': 30, 'fields': {'hashtag': '부탁'}},\n",
       " {'model': 'app.hashtag', 'pk': 31, 'fields': {'hashtag': '교배'}},\n",
       " {'model': 'app.hashtag', 'pk': 32, 'fields': {'hashtag': 'SNIDEL'}},\n",
       " {'model': 'app.hashtag', 'pk': 33, 'fields': {'hashtag': 'パクシネ'}},\n",
       " {'model': 'app.hashtag', 'pk': 34, 'fields': {'hashtag': 'Montblanc'}},\n",
       " {'model': 'app.hashtag', 'pk': 35, 'fields': {'hashtag': '체전'}},\n",
       " {'model': 'app.hashtag', 'pk': 36, 'fields': {'hashtag': '오랑씨'}},\n",
       " {'model': 'app.hashtag', 'pk': 37, 'fields': {'hashtag': '5기머스터_부적'}},\n",
       " {'model': 'app.hashtag', 'pk': 38, 'fields': {'hashtag': '주지훈'}},\n",
       " {'model': 'app.hashtag', 'pk': 39, 'fields': {'hashtag': 'TOMFORD'}},\n",
       " {'model': 'app.hashtag', 'pk': 40, 'fields': {'hashtag': '韓国ファッション'}},\n",
       " {'model': 'app.hashtag', 'pk': 41, 'fields': {'hashtag': '버킷햇'}},\n",
       " {'model': 'app.hashtag', 'pk': 42, 'fields': {'hashtag': '호시'}},\n",
       " {'model': 'app.hashtag', 'pk': 43, 'fields': {'hashtag': '들켰어양'}},\n",
       " {'model': 'app.hashtag', 'pk': 44, 'fields': {'hashtag': '아디다스정품'}},\n",
       " {'model': 'app.hashtag', 'pk': 45, 'fields': {'hashtag': '물떼새격자무늬'}},\n",
       " {'model': 'app.hashtag', 'pk': 46, 'fields': {'hashtag': '호비생일이벵'}},\n",
       " {'model': 'app.hashtag', 'pk': 47, 'fields': {'hashtag': '헤르조그드뫼론'}},\n",
       " {'model': 'app.hashtag', 'pk': 48, 'fields': {'hashtag': '두유워너비'}},\n",
       " {'model': 'app.hashtag', 'pk': 49, 'fields': {'hashtag': '명품셔츠'}},\n",
       " {'model': 'app.hashtag', 'pk': 50, 'fields': {'hashtag': 'kingofkpop'}},\n",
       " {'model': 'app.hashtag', 'pk': 51, 'fields': {'hashtag': '리틀그라운드'}},\n",
       " {'model': 'app.hashtag', 'pk': 52, 'fields': {'hashtag': 'LiveinLevis'}},\n",
       " {'model': 'app.hashtag', 'pk': 53, 'fields': {'hashtag': '귀요미들'}},\n",
       " {'model': 'app.hashtag', 'pk': 54, 'fields': {'hashtag': 'CF'}},\n",
       " {'model': 'app.hashtag', 'pk': 55, 'fields': {'hashtag': '핫플레이스'}},\n",
       " {'model': 'app.hashtag', 'pk': 56, 'fields': {'hashtag': 'wildcamping'}},\n",
       " {'model': 'app.hashtag', 'pk': 57, 'fields': {'hashtag': 'MinHyoRin'}},\n",
       " {'model': 'app.hashtag', 'pk': 58, 'fields': {'hashtag': 'BTS_HAPPY6TH'}},\n",
       " {'model': 'app.hashtag', 'pk': 59, 'fields': {'hashtag': 'Actor'}},\n",
       " {'model': 'app.hashtag', 'pk': 60, 'fields': {'hashtag': '반짝반짝'}},\n",
       " {'model': 'app.hashtag', 'pk': 61, 'fields': {'hashtag': 'boxing'}},\n",
       " {'model': 'app.hashtag', 'pk': 62, 'fields': {'hashtag': '칠링'}},\n",
       " {'model': 'app.hashtag', 'pk': 63, 'fields': {'hashtag': '야탑중'}},\n",
       " {'model': 'app.hashtag', 'pk': 64, 'fields': {'hashtag': '북한의실상'}},\n",
       " {'model': 'app.hashtag', 'pk': 65, 'fields': {'hashtag': '감사드립니다'}},\n",
       " {'model': 'app.hashtag', 'pk': 66, 'fields': {'hashtag': 'KIMJINHWAN'}},\n",
       " {'model': 'app.hashtag', 'pk': 67, 'fields': {'hashtag': '모자사랑'}},\n",
       " {'model': 'app.hashtag', 'pk': 68, 'fields': {'hashtag': '업템포'}},\n",
       " {'model': 'app.hashtag', 'pk': 69, 'fields': {'hashtag': 'ShinYeEun'}},\n",
       " {'model': 'app.hashtag', 'pk': 70, 'fields': {'hashtag': '여행꿀팁'}},\n",
       " {'model': 'app.hashtag', 'pk': 71, 'fields': {'hashtag': '柾國'}},\n",
       " {'model': 'app.hashtag', 'pk': 72, 'fields': {'hashtag': '리복포토북'}},\n",
       " {'model': 'app.hashtag', 'pk': 73, 'fields': {'hashtag': '푸니스트'}},\n",
       " {'model': 'app.hashtag', 'pk': 74, 'fields': {'hashtag': 'toystagram'}},\n",
       " {'model': 'app.hashtag', 'pk': 75, 'fields': {'hashtag': 'haveagoodtime'}},\n",
       " {'model': 'app.hashtag', 'pk': 76, 'fields': {'hashtag': '체험단'}},\n",
       " {'model': 'app.hashtag', 'pk': 77, 'fields': {'hashtag': '실내화'}},\n",
       " {'model': 'app.hashtag', 'pk': 78, 'fields': {'hashtag': '트래블메이트'}},\n",
       " {'model': 'app.hashtag', 'pk': 79, 'fields': {'hashtag': 'Songhyekyo'}},\n",
       " {'model': 'app.hashtag', 'pk': 80, 'fields': {'hashtag': '골디티켓'}},\n",
       " {'model': 'app.hashtag', 'pk': 81, 'fields': {'hashtag': '섬'}},\n",
       " {'model': 'app.hashtag', 'pk': 82, 'fields': {'hashtag': 'seungyoon'}},\n",
       " {'model': 'app.hashtag', 'pk': 83, 'fields': {'hashtag': 'LEGGINGS'}},\n",
       " {'model': 'app.hashtag', 'pk': 84, 'fields': {'hashtag': '스튜디오톰보이'}},\n",
       " {'model': 'app.hashtag', 'pk': 85, 'fields': {'hashtag': '뉴신발'}},\n",
       " {'model': 'app.hashtag', 'pk': 86, 'fields': {'hashtag': '카페보케'}},\n",
       " {'model': 'app.hashtag', 'pk': 87, 'fields': {'hashtag': '디지털세상'}},\n",
       " {'model': 'app.hashtag', 'pk': 88, 'fields': {'hashtag': 'wontletyougo'}},\n",
       " {'model': 'app.hashtag', 'pk': 89, 'fields': {'hashtag': '남자친구송혜교'}},\n",
       " {'model': 'app.hashtag', 'pk': 90, 'fields': {'hashtag': '엔코백'}},\n",
       " {'model': 'app.hashtag',\n",
       "  'pk': 91,\n",
       "  'fields': {'hashtag': 'ALLTHESTORIESARETRUE'}},\n",
       " {'model': 'app.hashtag', 'pk': 92, 'fields': {'hashtag': '무료'}},\n",
       " {'model': 'app.hashtag', 'pk': 93, 'fields': {'hashtag': '선물고마워요'}},\n",
       " {'model': 'app.hashtag', 'pk': 94, 'fields': {'hashtag': 'Jakarta'}},\n",
       " {'model': 'app.hashtag', 'pk': 95, 'fields': {'hashtag': '엠씨엠'}},\n",
       " {'model': 'app.hashtag', 'pk': 96, 'fields': {'hashtag': 'onepunchman'}},\n",
       " {'model': 'app.hashtag', 'pk': 97, 'fields': {'hashtag': 'VideoMTV18del18'}},\n",
       " {'model': 'app.hashtag', 'pk': 98, 'fields': {'hashtag': 'nightsky'}},\n",
       " {'model': 'app.hashtag', 'pk': 99, 'fields': {'hashtag': '모녀스타그램'}},\n",
       " {'model': 'app.hashtag', 'pk': 100, 'fields': {'hashtag': '온기'}},\n",
       " {'model': 'app.hashtag', 'pk': 101, 'fields': {'hashtag': '나이키코르테즈레더'}},\n",
       " {'model': 'app.hashtag', 'pk': 102, 'fields': {'hashtag': '원이너프'}},\n",
       " {'model': 'app.hashtag', 'pk': 103, 'fields': {'hashtag': '런WITH엠버'}},\n",
       " {'model': 'app.hashtag', 'pk': 104, 'fields': {'hashtag': '네이버해킹아이디판매'}},\n",
       " {'model': 'app.hashtag', 'pk': 105, 'fields': {'hashtag': '리바이스LOTNo1'}},\n",
       " {'model': 'app.hashtag', 'pk': 106, 'fields': {'hashtag': '티켓교환'}},\n",
       " {'model': 'app.hashtag', 'pk': 107, 'fields': {'hashtag': '유아인'}},\n",
       " {'model': 'app.hashtag', 'pk': 108, 'fields': {'hashtag': '아로마'}},\n",
       " {'model': 'app.hashtag', 'pk': 109, 'fields': {'hashtag': '미모'}},\n",
       " {'model': 'app.hashtag', 'pk': 110, 'fields': {'hashtag': 'posco'}},\n",
       " {'model': 'app.hashtag', 'pk': 111, 'fields': {'hashtag': 'dancepractice'}},\n",
       " {'model': 'app.hashtag', 'pk': 112, 'fields': {'hashtag': '컴백시기만되면주접뽕이차오름'}},\n",
       " {'model': 'app.hashtag', 'pk': 113, 'fields': {'hashtag': '슬림피트셀비지진'}},\n",
       " {'model': 'app.hashtag', 'pk': 114, 'fields': {'hashtag': '영화돈'}},\n",
       " {'model': 'app.hashtag', 'pk': 115, 'fields': {'hashtag': '콜롬비아전'}},\n",
       " {'model': 'app.hashtag', 'pk': 116, 'fields': {'hashtag': 'thisisneverthat'}},\n",
       " {'model': 'app.hashtag', 'pk': 117, 'fields': {'hashtag': '마영전_트친소'}},\n",
       " {'model': 'app.hashtag', 'pk': 118, 'fields': {'hashtag': '푸마포카'}},\n",
       " {'model': 'app.hashtag', 'pk': 119, 'fields': {'hashtag': '멍청이들'}},\n",
       " {'model': 'app.hashtag', 'pk': 120, 'fields': {'hashtag': '나이키LDV'}},\n",
       " {'model': 'app.hashtag', 'pk': 121, 'fields': {'hashtag': '구찌오드퍼퓸'}},\n",
       " {'model': 'app.hashtag', 'pk': 122, 'fields': {'hashtag': '152일'}},\n",
       " {'model': 'app.hashtag', 'pk': 123, 'fields': {'hashtag': '유니섹스'}},\n",
       " {'model': 'app.hashtag',\n",
       "  'pk': 124,\n",
       "  'fields': {'hashtag': 'romanceisbonusbook'}},\n",
       " {'model': 'app.hashtag', 'pk': 125, 'fields': {'hashtag': '엠비씨'}},\n",
       " {'model': 'app.hashtag', 'pk': 126, 'fields': {'hashtag': '앨범싹쓸이'}},\n",
       " {'model': 'app.hashtag', 'pk': 127, 'fields': {'hashtag': '조금어렵다'}},\n",
       " {'model': 'app.hashtag', 'pk': 128, 'fields': {'hashtag': '봉천동공방'}},\n",
       " {'model': 'app.hashtag', 'pk': 129, 'fields': {'hashtag': '씨걸'}},\n",
       " {'model': 'app.hashtag', 'pk': 130, 'fields': {'hashtag': '켄생일파티'}},\n",
       " {'model': 'app.hashtag', 'pk': 131, 'fields': {'hashtag': 'iphone'}},\n",
       " {'model': 'app.hashtag', 'pk': 132, 'fields': {'hashtag': '노츄'}},\n",
       " {'model': 'app.hashtag', 'pk': 133, 'fields': {'hashtag': 'DarrionCaldwell'}},\n",
       " {'model': 'app.hashtag', 'pk': 134, 'fields': {'hashtag': '대전'}},\n",
       " {'model': 'app.hashtag', 'pk': 135, 'fields': {'hashtag': '항상_행복하면_좋겠어'}},\n",
       " {'model': 'app.hashtag', 'pk': 136, 'fields': {'hashtag': 'aoa'}},\n",
       " {'model': 'app.hashtag', 'pk': 137, 'fields': {'hashtag': 'hongdae'}},\n",
       " {'model': 'app.hashtag', 'pk': 138, 'fields': {'hashtag': 'DEAN'}},\n",
       " {'model': 'app.hashtag', 'pk': 139, 'fields': {'hashtag': 'seoulkorea'}},\n",
       " {'model': 'app.hashtag', 'pk': 140, 'fields': {'hashtag': '부산영도'}},\n",
       " {'model': 'app.hashtag', 'pk': 141, 'fields': {'hashtag': '광안리'}},\n",
       " {'model': 'app.hashtag', 'pk': 142, 'fields': {'hashtag': '까르띠에'}},\n",
       " {'model': 'app.hashtag', 'pk': 143, 'fields': {'hashtag': '디올스킨포에버퍼펙트쿠션'}},\n",
       " {'model': 'app.hashtag',\n",
       "  'pk': 144,\n",
       "  'fields': {'hashtag': 'ForeverWithDaniel'}},\n",
       " {'model': 'app.hashtag', 'pk': 145, 'fields': {'hashtag': 'DIOR'}},\n",
       " {'model': 'app.hashtag', 'pk': 146, 'fields': {'hashtag': '라드패드'}},\n",
       " {'model': 'app.hashtag', 'pk': 147, 'fields': {'hashtag': '강유찬'}},\n",
       " {'model': 'app.hashtag', 'pk': 148, 'fields': {'hashtag': 'mingyu'}},\n",
       " {'model': 'app.hashtag', 'pk': 149, 'fields': {'hashtag': '로맨시크'}},\n",
       " {'model': 'app.hashtag', 'pk': 150, 'fields': {'hashtag': '살랑살랑'}},\n",
       " {'model': 'app.hashtag', 'pk': 151, 'fields': {'hashtag': '덕항산등산'}},\n",
       " {'model': 'app.hashtag', 'pk': 152, 'fields': {'hashtag': '쇼퍼백'}},\n",
       " {'model': 'app.hashtag', 'pk': 153, 'fields': {'hashtag': 'COLOMBIA'}},\n",
       " {'model': 'app.hashtag', 'pk': 154, 'fields': {'hashtag': '팩트인스타_에이스'}},\n",
       " {'model': 'app.hashtag', 'pk': 155, 'fields': {'hashtag': '라인플레이'}},\n",
       " {'model': 'app.hashtag', 'pk': 156, 'fields': {'hashtag': '아미카드'}},\n",
       " {'model': 'app.hashtag', 'pk': 157, 'fields': {'hashtag': '몰디브'}},\n",
       " {'model': 'app.hashtag', 'pk': 158, 'fields': {'hashtag': '죽전'}},\n",
       " {'model': 'app.hashtag', 'pk': 159, 'fields': {'hashtag': 'VRing'}},\n",
       " {'model': 'app.hashtag', 'pk': 160, 'fields': {'hashtag': '쌍용동'}},\n",
       " {'model': 'app.hashtag', 'pk': 161, 'fields': {'hashtag': '톰브라운남방'}},\n",
       " {'model': 'app.hashtag', 'pk': 162, 'fields': {'hashtag': '셀루티'}},\n",
       " {'model': 'app.hashtag', 'pk': 163, 'fields': {'hashtag': '프리뷰'}},\n",
       " {'model': 'app.hashtag', 'pk': 164, 'fields': {'hashtag': '木村拓哉'}},\n",
       " {'model': 'app.hashtag', 'pk': 165, 'fields': {'hashtag': 'lip'}},\n",
       " {'model': 'app.hashtag', 'pk': 166, 'fields': {'hashtag': '하나'}},\n",
       " {'model': 'app.hashtag', 'pk': 167, 'fields': {'hashtag': 'anaksma'}},\n",
       " {'model': 'app.hashtag', 'pk': 168, 'fields': {'hashtag': '네이버에서운도도씨'}},\n",
       " {'model': 'app.hashtag', 'pk': 169, 'fields': {'hashtag': '황금돼지해'}},\n",
       " {'model': 'app.hashtag', 'pk': 170, 'fields': {'hashtag': '대리운전'}},\n",
       " {'model': 'app.hashtag', 'pk': 171, 'fields': {'hashtag': 'Family'}},\n",
       " {'model': 'app.hashtag',\n",
       "  'pk': 172,\n",
       "  'fields': {'hashtag': 'GetWellSoonjungkook'}},\n",
       " {'model': 'app.hashtag', 'pk': 173, 'fields': {'hashtag': 'CHARM'}},\n",
       " {'model': 'app.hashtag', 'pk': 174, 'fields': {'hashtag': 'JİMİN'}},\n",
       " {'model': 'app.hashtag', 'pk': 175, 'fields': {'hashtag': '오늘의_사복'}},\n",
       " {'model': 'app.hashtag', 'pk': 176, 'fields': {'hashtag': '커풀신발추천'}},\n",
       " {'model': 'app.hashtag', 'pk': 177, 'fields': {'hashtag': '질스튜어트스포츠뉴욕'}},\n",
       " {'model': 'app.hashtag', 'pk': 178, 'fields': {'hashtag': '런웨쇼'}},\n",
       " {'model': 'app.hashtag', 'pk': 179, 'fields': {'hashtag': '아미의모든게궁금해'}},\n",
       " {'model': 'app.hashtag', 'pk': 180, 'fields': {'hashtag': 'NRCBUSAN'}},\n",
       " {'model': 'app.hashtag', 'pk': 181, 'fields': {'hashtag': 'FIM'}},\n",
       " {'model': 'app.hashtag', 'pk': 182, 'fields': {'hashtag': 'y3'}},\n",
       " {'model': 'app.hashtag', 'pk': 183, 'fields': {'hashtag': 'WilliamChan'}},\n",
       " {'model': 'app.hashtag', 'pk': 184, 'fields': {'hashtag': '촛대'}},\n",
       " {'model': 'app.hashtag', 'pk': 185, 'fields': {'hashtag': 'TOMMYBOY'}},\n",
       " {'model': 'app.hashtag', 'pk': 186, 'fields': {'hashtag': '비보액티브3'}},\n",
       " {'model': 'app.hashtag', 'pk': 187, 'fields': {'hashtag': 'GIVENCHY'}},\n",
       " {'model': 'app.hashtag', 'pk': 188, 'fields': {'hashtag': '김아현'}},\n",
       " {'model': 'app.hashtag', 'pk': 189, 'fields': {'hashtag': '주부생활'}},\n",
       " {'model': 'app.hashtag', 'pk': 190, 'fields': {'hashtag': '싱귤래리티'}},\n",
       " {'model': 'app.hashtag', 'pk': 191, 'fields': {'hashtag': 'kangol'}},\n",
       " {'model': 'app.hashtag', 'pk': 192, 'fields': {'hashtag': '샤넬르블랑'}},\n",
       " {'model': 'app.hashtag', 'pk': 193, 'fields': {'hashtag': 'CHUNGHA'}},\n",
       " {'model': 'app.hashtag', 'pk': 194, 'fields': {'hashtag': '마스다미리'}},\n",
       " {'model': 'app.hashtag', 'pk': 195, 'fields': {'hashtag': '영포에버'}},\n",
       " {'model': 'app.hashtag', 'pk': 196, 'fields': {'hashtag': '시카미술관'}},\n",
       " {'model': 'app.hashtag',\n",
       "  'pk': 197,\n",
       "  'fields': {'hashtag': 'MaxenceDanetFauvel'}},\n",
       " {'model': 'app.hashtag', 'pk': 198, 'fields': {'hashtag': '해외구매'}},\n",
       " {'model': 'app.hashtag', 'pk': 199, 'fields': {'hashtag': '셀스타그램'}},\n",
       " {'model': 'app.hashtag', 'pk': 200, 'fields': {'hashtag': '실버'}},\n",
       " {'model': 'app.hashtag', 'pk': 201, 'fields': {'hashtag': '이글'}},\n",
       " {'model': 'app.hashtag', 'pk': 202, 'fields': {'hashtag': '마르셀뒤샹'}},\n",
       " {'model': 'app.hashtag', 'pk': 203, 'fields': {'hashtag': 'boy'}},\n",
       " {'model': 'app.hashtag', 'pk': 204, 'fields': {'hashtag': '드로잉'}},\n",
       " {'model': 'app.hashtag', 'pk': 205, 'fields': {'hashtag': '야식'}},\n",
       " {'model': 'app.hashtag', 'pk': 206, 'fields': {'hashtag': '동국제강ㅜ'}},\n",
       " {'model': 'app.hashtag', 'pk': 207, 'fields': {'hashtag': 'bls'}},\n",
       " {'model': 'app.hashtag', 'pk': 208, 'fields': {'hashtag': '李大輝'}},\n",
       " {'model': 'app.hashtag', 'pk': 209, 'fields': {'hashtag': '개발'}},\n",
       " {'model': 'app.hashtag', 'pk': 210, 'fields': {'hashtag': '잠뱅이'}},\n",
       " {'model': 'app.hashtag', 'pk': 211, 'fields': {'hashtag': 'mytee'}},\n",
       " {'model': 'app.hashtag', 'pk': 212, 'fields': {'hashtag': '구찌맨'}},\n",
       " {'model': 'app.hashtag', 'pk': 213, 'fields': {'hashtag': 'dynafit'}},\n",
       " {'model': 'app.hashtag', 'pk': 214, 'fields': {'hashtag': '소유붕'}},\n",
       " {'model': 'app.hashtag', 'pk': 215, 'fields': {'hashtag': '외국계기업'}},\n",
       " {'model': 'app.hashtag', 'pk': 216, 'fields': {'hashtag': '산행'}},\n",
       " {'model': 'app.hashtag', 'pk': 217, 'fields': {'hashtag': '망작들3'}},\n",
       " {'model': 'app.hashtag', 'pk': 218, 'fields': {'hashtag': '나이키매니아즈'}},\n",
       " {'model': 'app.hashtag', 'pk': 219, 'fields': {'hashtag': '이종석안경'}},\n",
       " {'model': 'app.hashtag', 'pk': 220, 'fields': {'hashtag': '정자매'}},\n",
       " {'model': 'app.hashtag', 'pk': 221, 'fields': {'hashtag': 'kbs2tv월화드라마'}},\n",
       " {'model': 'app.hashtag', 'pk': 222, 'fields': {'hashtag': '띤띤분'}},\n",
       " {'model': 'app.hashtag', 'pk': 223, 'fields': {'hashtag': 'SNLxBTS'}},\n",
       " {'model': 'app.hashtag', 'pk': 224, 'fields': {'hashtag': '김남준양도'}},\n",
       " {'model': 'app.hashtag', 'pk': 225, 'fields': {'hashtag': '크리스티나노제티'}},\n",
       " {'model': 'app.hashtag', 'pk': 226, 'fields': {'hashtag': '덕질하고파'}},\n",
       " {'model': 'app.hashtag', 'pk': 227, 'fields': {'hashtag': 'SummerOfCrocs'}},\n",
       " {'model': 'app.hashtag', 'pk': 228, 'fields': {'hashtag': '브롤스타즈'}},\n",
       " {'model': 'app.hashtag', 'pk': 229, 'fields': {'hashtag': '어머니'}},\n",
       " {'model': 'app.hashtag', 'pk': 230, 'fields': {'hashtag': '샤넬립스틱'}},\n",
       " {'model': 'app.hashtag', 'pk': 231, 'fields': {'hashtag': '무신사MD'}},\n",
       " {'model': 'app.hashtag', 'pk': 232, 'fields': {'hashtag': '테렉스'}},\n",
       " {'model': 'app.hashtag', 'pk': 233, 'fields': {'hashtag': '참스'}},\n",
       " {'model': 'app.hashtag',\n",
       "  'pk': 234,\n",
       "  'fields': {'hashtag': '6YearWithOurHomeBTS'}},\n",
       " {'model': 'app.hashtag', 'pk': 235, 'fields': {'hashtag': '신발세탁'}},\n",
       " {'model': 'app.hashtag', 'pk': 236, 'fields': {'hashtag': 'marsyard'}},\n",
       " {'model': 'app.hashtag', 'pk': 237, 'fields': {'hashtag': '공식아미'}},\n",
       " {'model': 'app.hashtag', 'pk': 238, 'fields': {'hashtag': '보컬로이드'}},\n",
       " {'model': 'app.hashtag', 'pk': 239, 'fields': {'hashtag': '한정굿즈'}},\n",
       " {'model': 'app.hashtag', 'pk': 240, 'fields': {'hashtag': '패션쇼'}},\n",
       " {'model': 'app.hashtag', 'pk': 241, 'fields': {'hashtag': '휘요'}},\n",
       " {'model': 'app.hashtag', 'pk': 242, 'fields': {'hashtag': '업사이클링'}},\n",
       " {'model': 'app.hashtag', 'pk': 243, 'fields': {'hashtag': '여름티'}},\n",
       " {'model': 'app.hashtag', 'pk': 244, 'fields': {'hashtag': '모델발탁'}},\n",
       " {'model': 'app.hashtag', 'pk': 245, 'fields': {'hashtag': 'Rachel'}},\n",
       " {'model': 'app.hashtag', 'pk': 246, 'fields': {'hashtag': '남준'}},\n",
       " {'model': 'app.hashtag', 'pk': 247, 'fields': {'hashtag': 'maru'}},\n",
       " {'model': 'app.hashtag', 'pk': 248, 'fields': {'hashtag': '리본린건'}},\n",
       " {'model': 'app.hashtag', 'pk': 249, 'fields': {'hashtag': '마리오'}},\n",
       " {'model': 'app.hashtag', 'pk': 250, 'fields': {'hashtag': '꾸중남'}},\n",
       " {'model': 'app.hashtag', 'pk': 251, 'fields': {'hashtag': '내가애정하는'}},\n",
       " {'model': 'app.hashtag', 'pk': 252, 'fields': {'hashtag': '빈티지패션'}},\n",
       " {'model': 'app.hashtag', 'pk': 253, 'fields': {'hashtag': '고렴이'}},\n",
       " {'model': 'app.hashtag', 'pk': 254, 'fields': {'hashtag': '알루미늄장인'}},\n",
       " {'model': 'app.hashtag', 'pk': 255, 'fields': {'hashtag': '파크골프'}},\n",
       " {'model': 'app.hashtag', 'pk': 256, 'fields': {'hashtag': 'rattanbag'}},\n",
       " {'model': 'app.hashtag', 'pk': 257, 'fields': {'hashtag': '3泊'}},\n",
       " {'model': 'app.hashtag', 'pk': 258, 'fields': {'hashtag': 'dragonball'}},\n",
       " {'model': 'app.hashtag', 'pk': 259, 'fields': {'hashtag': '안전한바이크'}},\n",
       " {'model': 'app.hashtag', 'pk': 260, 'fields': {'hashtag': '에어팟'}},\n",
       " {'model': 'app.hashtag', 'pk': 261, 'fields': {'hashtag': '竹内美宥'}},\n",
       " {'model': 'app.hashtag', 'pk': 262, 'fields': {'hashtag': '결정장애'}},\n",
       " {'model': 'app.hashtag', 'pk': 263, 'fields': {'hashtag': '팬송'}},\n",
       " {'model': 'app.hashtag', 'pk': 264, 'fields': {'hashtag': '까르띠에반지'}},\n",
       " {'model': 'app.hashtag', 'pk': 265, 'fields': {'hashtag': 'SPA'}},\n",
       " {'model': 'app.hashtag', 'pk': 266, 'fields': {'hashtag': 'modern'}},\n",
       " {'model': 'app.hashtag', 'pk': 267, 'fields': {'hashtag': 'zoom'}},\n",
       " {'model': 'app.hashtag', 'pk': 268, 'fields': {'hashtag': '빙의'}},\n",
       " {'model': 'app.hashtag', 'pk': 269, 'fields': {'hashtag': 'SITR'}},\n",
       " {'model': 'app.hashtag', 'pk': 270, 'fields': {'hashtag': '새레플'}},\n",
       " {'model': 'app.hashtag', 'pk': 271, 'fields': {'hashtag': '안무팀장'}},\n",
       " {'model': 'app.hashtag', 'pk': 272, 'fields': {'hashtag': 'instasize'}},\n",
       " {'model': 'app.hashtag', 'pk': 273, 'fields': {'hashtag': '방탄소년단팬아트'}},\n",
       " {'model': 'app.hashtag', 'pk': 274, 'fields': {'hashtag': 'Smile'}},\n",
       " {'model': 'app.hashtag', 'pk': 275, 'fields': {'hashtag': '특별전'}},\n",
       " {'model': 'app.hashtag', 'pk': 276, 'fields': {'hashtag': '건담티셔츠'}},\n",
       " {'model': 'app.hashtag', 'pk': 277, 'fields': {'hashtag': '김유권'}},\n",
       " {'model': 'app.hashtag', 'pk': 278, 'fields': {'hashtag': '1기'}},\n",
       " {'model': 'app.hashtag', 'pk': 279, 'fields': {'hashtag': '마이녤'}},\n",
       " {'model': 'app.hashtag', 'pk': 280, 'fields': {'hashtag': '한지민'}},\n",
       " {'model': 'app.hashtag', 'pk': 281, 'fields': {'hashtag': '동아tv'}},\n",
       " {'model': 'app.hashtag', 'pk': 282, 'fields': {'hashtag': 'BTSinNagoya'}},\n",
       " {'model': 'app.hashtag', 'pk': 283, 'fields': {'hashtag': '사랑에빠지고싶다'}},\n",
       " {'model': 'app.hashtag', 'pk': 284, 'fields': {'hashtag': '미밤이'}},\n",
       " {'model': 'app.hashtag', 'pk': 285, 'fields': {'hashtag': '슈퍼바이크'}},\n",
       " {'model': 'app.hashtag', 'pk': 286, 'fields': {'hashtag': '라비'}},\n",
       " {'model': 'app.hashtag', 'pk': 287, 'fields': {'hashtag': '송주아'}},\n",
       " {'model': 'app.hashtag', 'pk': 288, 'fields': {'hashtag': 'YGSTORY'}},\n",
       " {'model': 'app.hashtag', 'pk': 289, 'fields': {'hashtag': '언더아머러쉬'}},\n",
       " {'model': 'app.hashtag', 'pk': 290, 'fields': {'hashtag': 'airhordan6'}},\n",
       " {'model': 'app.hashtag', 'pk': 291, 'fields': {'hashtag': '아이유'}},\n",
       " {'model': 'app.hashtag', 'pk': 292, 'fields': {'hashtag': '명품백팩'}},\n",
       " {'model': 'app.hashtag', 'pk': 293, 'fields': {'hashtag': '소주'}},\n",
       " {'model': 'app.hashtag', 'pk': 294, 'fields': {'hashtag': '에스팩토리'}},\n",
       " {'model': 'app.hashtag', 'pk': 295, 'fields': {'hashtag': 'honeymoon'}},\n",
       " {'model': 'app.hashtag', 'pk': 296, 'fields': {'hashtag': '방탄무개념'}},\n",
       " {'model': 'app.hashtag', 'pk': 297, 'fields': {'hashtag': 'blink'}},\n",
       " {'model': 'app.hashtag', 'pk': 298, 'fields': {'hashtag': '세이'}},\n",
       " {'model': 'app.hashtag', 'pk': 299, 'fields': {'hashtag': '휠라RGB'}},\n",
       " {'model': 'app.hashtag', 'pk': 300, 'fields': {'hashtag': '오곡밥'}},\n",
       " {'model': 'app.hashtag', 'pk': 301, 'fields': {'hashtag': '내일의커피'}},\n",
       " {'model': 'app.hashtag', 'pk': 302, 'fields': {'hashtag': '외할머니감사합니다'}},\n",
       " {'model': 'app.hashtag', 'pk': 303, 'fields': {'hashtag': '엘르커버'}},\n",
       " {'model': 'app.hashtag', 'pk': 304, 'fields': {'hashtag': 'zhuzhengting'}},\n",
       " {'model': 'app.hashtag', 'pk': 305, 'fields': {'hashtag': '원피스잠옷'}},\n",
       " {'model': 'app.hashtag', 'pk': 306, 'fields': {'hashtag': 'woolrich'}},\n",
       " {'model': 'app.hashtag', 'pk': 307, 'fields': {'hashtag': 'customshoes'}},\n",
       " {'model': 'app.hashtag', 'pk': 308, 'fields': {'hashtag': 'LeeJooyeon'}},\n",
       " {'model': 'app.hashtag', 'pk': 309, 'fields': {'hashtag': '희준짱짱'}},\n",
       " {'model': 'app.hashtag', 'pk': 310, 'fields': {'hashtag': '그림쟁이_트친소'}},\n",
       " {'model': 'app.hashtag', 'pk': 311, 'fields': {'hashtag': '김태리'}},\n",
       " {'model': 'app.hashtag', 'pk': 312, 'fields': {'hashtag': 'FOREVER21'}},\n",
       " {'model': 'app.hashtag', 'pk': 313, 'fields': {'hashtag': '농구스타그램'}},\n",
       " {'model': 'app.hashtag', 'pk': 314, 'fields': {'hashtag': '방탄포카'}},\n",
       " {'model': 'app.hashtag', 'pk': 315, 'fields': {'hashtag': '한국친구'}},\n",
       " {'model': 'app.hashtag', 'pk': 316, 'fields': {'hashtag': '도쿄긴자무인양품'}},\n",
       " {'model': 'app.hashtag', 'pk': 317, 'fields': {'hashtag': 'HM키즈할인'}},\n",
       " {'model': 'app.hashtag', 'pk': 318, 'fields': {'hashtag': '배경화면'}},\n",
       " {'model': 'app.hashtag', 'pk': 319, 'fields': {'hashtag': '신나신나'}},\n",
       " {'model': 'app.hashtag', 'pk': 320, 'fields': {'hashtag': '뤼비통녤주접은언제끝날까영'}},\n",
       " {'model': 'app.hashtag', 'pk': 321, 'fields': {'hashtag': 'slowfood'}},\n",
       " {'model': 'app.hashtag', 'pk': 322, 'fields': {'hashtag': '행사촬영'}},\n",
       " {'model': 'app.hashtag', 'pk': 323, 'fields': {'hashtag': 'Hazzys'}},\n",
       " {'model': 'app.hashtag', 'pk': 324, 'fields': {'hashtag': '더노트'}},\n",
       " {'model': 'app.hashtag', 'pk': 325, 'fields': {'hashtag': 'fw19'}},\n",
       " {'model': 'app.hashtag', 'pk': 326, 'fields': {'hashtag': '우먼스JDI'}},\n",
       " {'model': 'app.hashtag', 'pk': 327, 'fields': {'hashtag': '소셜벤처기업'}},\n",
       " {'model': 'app.hashtag', 'pk': 328, 'fields': {'hashtag': '핑크반바지'}},\n",
       " {'model': 'app.hashtag', 'pk': 329, 'fields': {'hashtag': '아커스클럽'}},\n",
       " {'model': 'app.hashtag', 'pk': 330, 'fields': {'hashtag': '켈리'}},\n",
       " {'model': 'app.hashtag', 'pk': 331, 'fields': {'hashtag': '플래시몹'}},\n",
       " {'model': 'app.hashtag', 'pk': 332, 'fields': {'hashtag': 'mars3'}},\n",
       " {'model': 'app.hashtag', 'pk': 333, 'fields': {'hashtag': '압구정홀덤'}},\n",
       " {'model': 'app.hashtag', 'pk': 334, 'fields': {'hashtag': '무사히'}},\n",
       " {'model': 'app.hashtag', 'pk': 335, 'fields': {'hashtag': 'w매거진'}},\n",
       " {'model': 'app.hashtag', 'pk': 336, 'fields': {'hashtag': '케이틀이'}},\n",
       " {'model': 'app.hashtag', 'pk': 337, 'fields': {'hashtag': 'locle'}},\n",
       " {'model': 'app.hashtag',\n",
       "  'pk': 338,\n",
       "  'fields': {'hashtag': 'sponsoredbyconverse'}},\n",
       " {'model': 'app.hashtag', 'pk': 339, 'fields': {'hashtag': '위너양도'}},\n",
       " {'model': 'app.hashtag', 'pk': 340, 'fields': {'hashtag': '하얀날'}},\n",
       " {'model': 'app.hashtag', 'pk': 341, 'fields': {'hashtag': '도무송'}},\n",
       " {'model': 'app.hashtag', 'pk': 342, 'fields': {'hashtag': 'Charms'}},\n",
       " {'model': 'app.hashtag', 'pk': 343, 'fields': {'hashtag': '디스커버리익스페디션'}},\n",
       " {'model': 'app.hashtag',\n",
       "  'pk': 344,\n",
       "  'fields': {'hashtag': '누구니_누가_우리효기_셔틀_시켰니'}},\n",
       " {'model': 'app.hashtag', 'pk': 345, 'fields': {'hashtag': '시계이미테이션'}},\n",
       " {'model': 'app.hashtag', 'pk': 346, 'fields': {'hashtag': '화산'}},\n",
       " {'model': 'app.hashtag', 'pk': 347, 'fields': {'hashtag': 'under_cover'}},\n",
       " {'model': 'app.hashtag', 'pk': 348, 'fields': {'hashtag': '커미션표지'}},\n",
       " {'model': 'app.hashtag', 'pk': 349, 'fields': {'hashtag': '마켓'}},\n",
       " {'model': 'app.hashtag', 'pk': 350, 'fields': {'hashtag': '길고양이'}},\n",
       " {'model': 'app.hashtag', 'pk': 351, 'fields': {'hashtag': '후지산'}},\n",
       " {'model': 'app.hashtag', 'pk': 352, 'fields': {'hashtag': '얼짱'}},\n",
       " {'model': 'app.hashtag', 'pk': 353, 'fields': {'hashtag': '피케셔츠'}},\n",
       " {'model': 'app.hashtag', 'pk': 354, 'fields': {'hashtag': '알파인더스트리ma1'}},\n",
       " {'model': 'app.hashtag', 'pk': 355, 'fields': {'hashtag': '지속가능한'}},\n",
       " {'model': 'app.hashtag',\n",
       "  'pk': 356,\n",
       "  'fields': {'hashtag': '강남역풀싸롱010x5856X6047'}},\n",
       " {'model': 'app.hashtag', 'pk': 357, 'fields': {'hashtag': '늙음'}},\n",
       " {'model': 'app.hashtag', 'pk': 358, 'fields': {'hashtag': '진고개'}},\n",
       " {'model': 'app.hashtag', 'pk': 359, 'fields': {'hashtag': 'BTS월드'}},\n",
       " {'model': 'app.hashtag', 'pk': 360, 'fields': {'hashtag': 'share2steem'}},\n",
       " {'model': 'app.hashtag', 'pk': 361, 'fields': {'hashtag': 'Jungkookhyung'}},\n",
       " {'model': 'app.hashtag',\n",
       "  'pk': 362,\n",
       "  'fields': {'hashtag': 'worldwidehandsome'}},\n",
       " {'model': 'app.hashtag', 'pk': 363, 'fields': {'hashtag': '파울루벤투'}},\n",
       " {'model': 'app.hashtag',\n",
       "  'pk': 364,\n",
       "  'fields': {'hashtag': '선릉풀싸롱010x5856X6047'}},\n",
       " {'model': 'app.hashtag', 'pk': 365, 'fields': {'hashtag': '모빌리언스'}},\n",
       " {'model': 'app.hashtag', 'pk': 366, 'fields': {'hashtag': '기억을걷는다'}},\n",
       " {'model': 'app.hashtag', 'pk': 367, 'fields': {'hashtag': 'celebration'}},\n",
       " {'model': 'app.hashtag', 'pk': 368, 'fields': {'hashtag': '블락비피오'}},\n",
       " {'model': 'app.hashtag', 'pk': 369, 'fields': {'hashtag': '이제서른'}},\n",
       " {'model': 'app.hashtag', 'pk': 370, 'fields': {'hashtag': 'BoyDeChanel'}},\n",
       " {'model': 'app.hashtag', 'pk': 371, 'fields': {'hashtag': 'givenchy'}},\n",
       " {'model': 'app.hashtag', 'pk': 372, 'fields': {'hashtag': 'think'}},\n",
       " {'model': 'app.hashtag', 'pk': 373, 'fields': {'hashtag': '통정'}},\n",
       " {'model': 'app.hashtag', 'pk': 374, 'fields': {'hashtag': 'daks'}},\n",
       " {'model': 'app.hashtag', 'pk': 375, 'fields': {'hashtag': '최대80프로할인쿠폰'}},\n",
       " {'model': 'app.hashtag', 'pk': 376, 'fields': {'hashtag': 'HAGT'}},\n",
       " {'model': 'app.hashtag', 'pk': 377, 'fields': {'hashtag': '스밍인증'}},\n",
       " {'model': 'app.hashtag', 'pk': 378, 'fields': {'hashtag': 'cafejin'}},\n",
       " {'model': 'app.hashtag', 'pk': 379, 'fields': {'hashtag': '명품옷'}},\n",
       " {'model': 'app.hashtag', 'pk': 380, 'fields': {'hashtag': '샤넬뮤즈'}},\n",
       " {'model': 'app.hashtag', 'pk': 381, 'fields': {'hashtag': 'brahms'}},\n",
       " {'model': 'app.hashtag', 'pk': 382, 'fields': {'hashtag': 'genuine'}},\n",
       " {'model': 'app.hashtag', 'pk': 383, 'fields': {'hashtag': '타이틀리스트골프모자'}},\n",
       " {'model': 'app.hashtag', 'pk': 384, 'fields': {'hashtag': '小松菜奈'}},\n",
       " {'model': 'app.hashtag', 'pk': 385, 'fields': {'hashtag': '베니'}},\n",
       " {'model': 'app.hashtag', 'pk': 386, 'fields': {'hashtag': '디리러바'}},\n",
       " {'model': 'app.hashtag', 'pk': 387, 'fields': {'hashtag': '윤균상'}},\n",
       " {'model': 'app.hashtag', 'pk': 388, 'fields': {'hashtag': '에이비식스'}},\n",
       " {'model': 'app.hashtag', 'pk': 389, 'fields': {'hashtag': 'f705'}},\n",
       " {'model': 'app.hashtag', 'pk': 390, 'fields': {'hashtag': '월요웹툰'}},\n",
       " {'model': 'app.hashtag', 'pk': 391, 'fields': {'hashtag': '유타'}},\n",
       " {'model': 'app.hashtag', 'pk': 392, 'fields': {'hashtag': '만리시장'}},\n",
       " {'model': 'app.hashtag',\n",
       "  'pk': 393,\n",
       "  'fields': {'hashtag': '논현동풀싸롱010x5856X6047'}},\n",
       " {'model': 'app.hashtag', 'pk': 394, 'fields': {'hashtag': 'YOONA'}},\n",
       " {'model': 'app.hashtag', 'pk': 395, 'fields': {'hashtag': '사차인치'}},\n",
       " {'model': 'app.hashtag', 'pk': 396, 'fields': {'hashtag': 'BTS컵홀더'}},\n",
       " {'model': 'app.hashtag', 'pk': 397, 'fields': {'hashtag': '산업용모니터'}},\n",
       " {'model': 'app.hashtag', 'pk': 398, 'fields': {'hashtag': '타르트맛차그리오뜨'}},\n",
       " {'model': 'app.hashtag', 'pk': 399, 'fields': {'hashtag': '이불킥'}},\n",
       " {'model': 'app.hashtag', 'pk': 400, 'fields': {'hashtag': 'cica미술관'}},\n",
       " {'model': 'app.hashtag', 'pk': 401, 'fields': {'hashtag': '뉴발란스운동화'}},\n",
       " {'model': 'app.hashtag', 'pk': 402, 'fields': {'hashtag': '던파'}},\n",
       " {'model': 'app.hashtag', 'pk': 403, 'fields': {'hashtag': '달마시안'}},\n",
       " {'model': 'app.hashtag', 'pk': 404, 'fields': {'hashtag': '가까운행복을만나다'}},\n",
       " {'model': 'app.hashtag', 'pk': 405, 'fields': {'hashtag': '2pm'}},\n",
       " {'model': 'app.hashtag', 'pk': 406, 'fields': {'hashtag': '예복전문'}},\n",
       " {'model': 'app.hashtag', 'pk': 407, 'fields': {'hashtag': 'MB'}},\n",
       " {'model': 'app.hashtag', 'pk': 408, 'fields': {'hashtag': '루이비통카바스'}},\n",
       " {'model': 'app.hashtag', 'pk': 409, 'fields': {'hashtag': 'Persona'}},\n",
       " {'model': 'app.hashtag', 'pk': 410, 'fields': {'hashtag': '한상혁'}},\n",
       " {'model': 'app.hashtag', 'pk': 411, 'fields': {'hashtag': 'Bogummy'}},\n",
       " {'model': 'app.hashtag', 'pk': 412, 'fields': {'hashtag': '커먼즈재단'}},\n",
       " {'model': 'app.hashtag', 'pk': 413, 'fields': {'hashtag': '미국라디오'}},\n",
       " {'model': 'app.hashtag', 'pk': 414, 'fields': {'hashtag': '関東'}},\n",
       " {'model': 'app.hashtag', 'pk': 415, 'fields': {'hashtag': 'kyj'}},\n",
       " {'model': 'app.hashtag', 'pk': 416, 'fields': {'hashtag': 'daegu'}},\n",
       " {'model': 'app.hashtag', 'pk': 417, 'fields': {'hashtag': 'sns'}},\n",
       " {'model': 'app.hashtag', 'pk': 418, 'fields': {'hashtag': 'vest'}},\n",
       " {'model': 'app.hashtag', 'pk': 419, 'fields': {'hashtag': 'NewYorkCity'}},\n",
       " {'model': 'app.hashtag', 'pk': 420, 'fields': {'hashtag': '다낭셔츠'}},\n",
       " {'model': 'app.hashtag', 'pk': 421, 'fields': {'hashtag': '이재민'}},\n",
       " {'model': 'app.hashtag', 'pk': 422, 'fields': {'hashtag': '더보이즈'}},\n",
       " {'model': 'app.hashtag', 'pk': 423, 'fields': {'hashtag': 'IRENExMIUMIU'}},\n",
       " {'model': 'app.hashtag', 'pk': 424, 'fields': {'hashtag': '민윤기시소'}},\n",
       " {'model': 'app.hashtag', 'pk': 425, 'fields': {'hashtag': 'from'}},\n",
       " {'model': 'app.hashtag', 'pk': 426, 'fields': {'hashtag': 'LVTWIST'}},\n",
       " {'model': 'app.hashtag', 'pk': 427, 'fields': {'hashtag': 'clothes'}},\n",
       " {'model': 'app.hashtag', 'pk': 428, 'fields': {'hashtag': '우유'}},\n",
       " {'model': 'app.hashtag', 'pk': 429, 'fields': {'hashtag': '형이왜거기서나와'}},\n",
       " {'model': 'app.hashtag', 'pk': 430, 'fields': {'hashtag': '배드민턴'}},\n",
       " {'model': 'app.hashtag', 'pk': 431, 'fields': {'hashtag': '오우떨려'}},\n",
       " {'model': 'app.hashtag', 'pk': 432, 'fields': {'hashtag': '민노세상'}},\n",
       " {'model': 'app.hashtag', 'pk': 433, 'fields': {'hashtag': 'Freiknock'}},\n",
       " {'model': 'app.hashtag', 'pk': 434, 'fields': {'hashtag': '아디다스한정판'}},\n",
       " {'model': 'app.hashtag', 'pk': 435, 'fields': {'hashtag': '신입사원'}},\n",
       " {'model': 'app.hashtag', 'pk': 436, 'fields': {'hashtag': 'vtcosmeticsxbts'}},\n",
       " {'model': 'app.hashtag', 'pk': 437, 'fields': {'hashtag': '이지부스트블랙'}},\n",
       " {'model': 'app.hashtag', 'pk': 438, 'fields': {'hashtag': '맛집'}},\n",
       " {'model': 'app.hashtag', 'pk': 439, 'fields': {'hashtag': 'SpotifyxBTS'}},\n",
       " {'model': 'app.hashtag', 'pk': 440, 'fields': {'hashtag': 'thank'}},\n",
       " {'model': 'app.hashtag', 'pk': 441, 'fields': {'hashtag': '문학강연'}},\n",
       " {'model': 'app.hashtag', 'pk': 442, 'fields': {'hashtag': '루이비통중고'}},\n",
       " {'model': 'app.hashtag',\n",
       "  'pk': 443,\n",
       "  'fields': {'hashtag': 'Do_not_repost_without_my_address'}},\n",
       " {'model': 'app.hashtag',\n",
       "  'pk': 444,\n",
       "  'fields': {'hashtag': 'OurFirstLoveYoongi'}},\n",
       " {'model': 'app.hashtag', 'pk': 445, 'fields': {'hashtag': '송형준_포기하_지마'}},\n",
       " {'model': 'app.hashtag', 'pk': 446, 'fields': {'hashtag': '인도네시아에서'}},\n",
       " {'model': 'app.hashtag', 'pk': 447, 'fields': {'hashtag': 'LAP_강다니엘에디션'}},\n",
       " {'model': 'app.hashtag', 'pk': 448, 'fields': {'hashtag': 'ALLSAINTS'}},\n",
       " {'model': 'app.hashtag', 'pk': 449, 'fields': {'hashtag': '비티이일'}},\n",
       " {'model': 'app.hashtag', 'pk': 450, 'fields': {'hashtag': '사랑했잖아'}},\n",
       " {'model': 'app.hashtag', 'pk': 451, 'fields': {'hashtag': 'ポールスミス展'}},\n",
       " {'model': 'app.hashtag', 'pk': 452, 'fields': {'hashtag': '케이아미'}},\n",
       " {'model': 'app.hashtag', 'pk': 453, 'fields': {'hashtag': '08년생'}},\n",
       " {'model': 'app.hashtag', 'pk': 454, 'fields': {'hashtag': 'clubemigration'}},\n",
       " {'model': 'app.hashtag', 'pk': 455, 'fields': {'hashtag': '종춘'}},\n",
       " {'model': 'app.hashtag', 'pk': 456, 'fields': {'hashtag': '권선구'}},\n",
       " {'model': 'app.hashtag', 'pk': 457, 'fields': {'hashtag': '당첨'}},\n",
       " {'model': 'app.hashtag', 'pk': 458, 'fields': {'hashtag': '아빠'}},\n",
       " {'model': 'app.hashtag', 'pk': 459, 'fields': {'hashtag': 'comingsoon'}},\n",
       " {'model': 'app.hashtag', 'pk': 460, 'fields': {'hashtag': 'hmxme'}},\n",
       " {'model': 'app.hashtag', 'pk': 461, 'fields': {'hashtag': '카드캡터'}},\n",
       " {'model': 'app.hashtag', 'pk': 462, 'fields': {'hashtag': '스키장'}},\n",
       " {'model': 'app.hashtag', 'pk': 463, 'fields': {'hashtag': 'xtylebattle'}},\n",
       " {'model': 'app.hashtag', 'pk': 464, 'fields': {'hashtag': '에코백'}},\n",
       " {'model': 'app.hashtag', 'pk': 465, 'fields': {'hashtag': '인천아미'}},\n",
       " {'model': 'app.hashtag', 'pk': 466, 'fields': {'hashtag': 'AHNJAEHYEON'}},\n",
       " {'model': 'app.hashtag', 'pk': 467, 'fields': {'hashtag': '복근'}},\n",
       " {'model': 'app.hashtag', 'pk': 468, 'fields': {'hashtag': 'blue'}},\n",
       " {'model': 'app.hashtag', 'pk': 469, 'fields': {'hashtag': '공동체'}},\n",
       " {'model': 'app.hashtag', 'pk': 470, 'fields': {'hashtag': '모든_아미_팔로우'}},\n",
       " {'model': 'app.hashtag', 'pk': 471, 'fields': {'hashtag': '네네치킨'}},\n",
       " {'model': 'app.hashtag', 'pk': 472, 'fields': {'hashtag': '김동혁'}},\n",
       " {'model': 'app.hashtag', 'pk': 473, 'fields': {'hashtag': '유니세프아너스클럽'}},\n",
       " {'model': 'app.hashtag', 'pk': 474, 'fields': {'hashtag': '빵빵즈'}},\n",
       " {'model': 'app.hashtag', 'pk': 475, 'fields': {'hashtag': '찰떡'}},\n",
       " {'model': 'app.hashtag', 'pk': 476, 'fields': {'hashtag': '탈북난민'}},\n",
       " {'model': 'app.hashtag', 'pk': 477, 'fields': {'hashtag': '김준한'}},\n",
       " {'model': 'app.hashtag', 'pk': 478, 'fields': {'hashtag': '럭키박스'}},\n",
       " {'model': 'app.hashtag', 'pk': 479, 'fields': {'hashtag': '지은이에요'}},\n",
       " {'model': 'app.hashtag', 'pk': 480, 'fields': {'hashtag': '체험'}},\n",
       " {'model': 'app.hashtag', 'pk': 481, 'fields': {'hashtag': '더블유'}},\n",
       " {'model': 'app.hashtag', 'pk': 482, 'fields': {'hashtag': 'SUZY'}},\n",
       " {'model': 'app.hashtag', 'pk': 483, 'fields': {'hashtag': '페이크러브'}},\n",
       " {'model': 'app.hashtag', 'pk': 484, 'fields': {'hashtag': '耐克'}},\n",
       " {'model': 'app.hashtag', 'pk': 485, 'fields': {'hashtag': '3Coins'}},\n",
       " {'model': 'app.hashtag', 'pk': 486, 'fields': {'hashtag': '운스타그램'}},\n",
       " {'model': 'app.hashtag', 'pk': 487, 'fields': {'hashtag': '강서구'}},\n",
       " {'model': 'app.hashtag', 'pk': 488, 'fields': {'hashtag': 'KangYuchan'}},\n",
       " {'model': 'app.hashtag', 'pk': 489, 'fields': {'hashtag': '팀버랜드'}},\n",
       " {'model': 'app.hashtag', 'pk': 490, 'fields': {'hashtag': 'theSAEM'}},\n",
       " {'model': 'app.hashtag', 'pk': 491, 'fields': {'hashtag': '플랙'}},\n",
       " {'model': 'app.hashtag', 'pk': 492, 'fields': {'hashtag': 'pk공장'}},\n",
       " {'model': 'app.hashtag', 'pk': 493, 'fields': {'hashtag': 'MBC'}},\n",
       " {'model': 'app.hashtag', 'pk': 494, 'fields': {'hashtag': '한선화'}},\n",
       " {'model': 'app.hashtag', 'pk': 495, 'fields': {'hashtag': '에이스팬싸'}},\n",
       " {'model': 'app.hashtag', 'pk': 496, 'fields': {'hashtag': '착한코인'}},\n",
       " {'model': 'app.hashtag',\n",
       "  'pk': 497,\n",
       "  'fields': {'hashtag': 'drmartensofficial'}},\n",
       " {'model': 'app.hashtag', 'pk': 498, 'fields': {'hashtag': '러블리즈'}},\n",
       " {'model': 'app.hashtag', 'pk': 499, 'fields': {'hashtag': '1인용텐트'}},\n",
       " {'model': 'app.hashtag', 'pk': 500, 'fields': {'hashtag': '예쁘다예뻐'}},\n",
       " {'model': 'app.hashtag', 'pk': 501, 'fields': {'hashtag': 'porsche'}},\n",
       " {'model': 'app.hashtag', 'pk': 502, 'fields': {'hashtag': '구찌인종차별논란'}},\n",
       " {'model': 'app.hashtag', 'pk': 503, 'fields': {'hashtag': 'BTS바스켓'}},\n",
       " {'model': 'app.hashtag', 'pk': 504, 'fields': {'hashtag': '고야드반지갑'}},\n",
       " {'model': 'app.hashtag', 'pk': 505, 'fields': {'hashtag': '돈굳었음'}},\n",
       " {'model': 'app.hashtag', 'pk': 506, 'fields': {'hashtag': '시청률상승'}},\n",
       " {'model': 'app.hashtag', 'pk': 507, 'fields': {'hashtag': 'zizou'}},\n",
       " {'model': 'app.hashtag', 'pk': 508, 'fields': {'hashtag': '자연형'}},\n",
       " {'model': 'app.hashtag', 'pk': 509, 'fields': {'hashtag': '구지'}},\n",
       " {'model': 'app.hashtag', 'pk': 510, 'fields': {'hashtag': 'draft'}},\n",
       " {'model': 'app.hashtag', 'pk': 511, 'fields': {'hashtag': '명품핸드백추천'}},\n",
       " {'model': 'app.hashtag', 'pk': 512, 'fields': {'hashtag': 'bstn'}},\n",
       " {'model': 'app.hashtag', 'pk': 513, 'fields': {'hashtag': '골드디스크'}},\n",
       " {'model': 'app.hashtag', 'pk': 514, 'fields': {'hashtag': 'BTS리퀘받아요'}},\n",
       " {'model': 'app.hashtag', 'pk': 515, 'fields': {'hashtag': 'sc'}},\n",
       " {'model': 'app.hashtag', 'pk': 516, 'fields': {'hashtag': 'vamos'}},\n",
       " {'model': 'app.hashtag', 'pk': 517, 'fields': {'hashtag': '청년떡집'}},\n",
       " {'model': 'app.hashtag', 'pk': 518, 'fields': {'hashtag': '풋볼'}},\n",
       " {'model': 'app.hashtag', 'pk': 519, 'fields': {'hashtag': 'chenle'}},\n",
       " {'model': 'app.hashtag', 'pk': 520, 'fields': {'hashtag': '버버리스트랩'}},\n",
       " {'model': 'app.hashtag', 'pk': 521, 'fields': {'hashtag': '단발'}},\n",
       " {'model': 'app.hashtag', 'pk': 522, 'fields': {'hashtag': 'tshirt'}},\n",
       " {'model': 'app.hashtag', 'pk': 523, 'fields': {'hashtag': '자외선차단'}},\n",
       " {'model': 'app.hashtag', 'pk': 524, 'fields': {'hashtag': '포카홀더'}},\n",
       " {'model': 'app.hashtag', 'pk': 525, 'fields': {'hashtag': '신세계'}},\n",
       " {'model': 'app.hashtag', 'pk': 526, 'fields': {'hashtag': 'roian'}},\n",
       " {'model': 'app.hashtag', 'pk': 527, 'fields': {'hashtag': 'Shanghai'}},\n",
       " {'model': 'app.hashtag',\n",
       "  'pk': 528,\n",
       "  'fields': {'hashtag': 'monsterentertainment'}},\n",
       " {'model': 'app.hashtag', 'pk': 529, 'fields': {'hashtag': '크롬하츠팔찌'}},\n",
       " {'model': 'app.hashtag', 'pk': 530, 'fields': {'hashtag': 'StreamDNA'}},\n",
       " {'model': 'app.hashtag', 'pk': 531, 'fields': {'hashtag': '함양군'}},\n",
       " {'model': 'app.hashtag', 'pk': 532, 'fields': {'hashtag': '폼림픽'}},\n",
       " {'model': 'app.hashtag', 'pk': 533, 'fields': {'hashtag': 'jordan13'}},\n",
       " {'model': 'app.hashtag',\n",
       "  'pk': 534,\n",
       "  'fields': {'hashtag': 'BeYourselfDaniel'}},\n",
       " {'model': 'app.hashtag', 'pk': 535, 'fields': {'hashtag': '온카지노富裕'}},\n",
       " {'model': 'app.hashtag',\n",
       "  'pk': 536,\n",
       "  'fields': {'hashtag': 'EmotionallyUnavailable'}},\n",
       " {'model': 'app.hashtag', 'pk': 537, 'fields': {'hashtag': 'Gloire'}},\n",
       " {'model': 'app.hashtag', 'pk': 538, 'fields': {'hashtag': 'LED신발'}},\n",
       " {'model': 'app.hashtag', 'pk': 539, 'fields': {'hashtag': '2019년'}},\n",
       " {'model': 'app.hashtag', 'pk': 540, 'fields': {'hashtag': '데저트'}},\n",
       " {'model': 'app.hashtag', 'pk': 541, 'fields': {'hashtag': '나무기밴드'}},\n",
       " {'model': 'app.hashtag', 'pk': 542, 'fields': {'hashtag': '머스터5기팬미팅'}},\n",
       " {'model': 'app.hashtag', 'pk': 543, 'fields': {'hashtag': '비누'}},\n",
       " {'model': 'app.hashtag', 'pk': 544, 'fields': {'hashtag': '중앙여중'}},\n",
       " {'model': 'app.hashtag', 'pk': 545, 'fields': {'hashtag': '휠라키즈'}},\n",
       " {'model': 'app.hashtag', 'pk': 546, 'fields': {'hashtag': '김남쥰'}},\n",
       " {'model': 'app.hashtag', 'pk': 547, 'fields': {'hashtag': '잡화점'}},\n",
       " {'model': 'app.hashtag', 'pk': 548, 'fields': {'hashtag': '그라피티작가'}},\n",
       " {'model': 'app.hashtag', 'pk': 549, 'fields': {'hashtag': 'YSLLA'}},\n",
       " {'model': 'app.hashtag', 'pk': 550, 'fields': {'hashtag': 'Angels'}},\n",
       " {'model': 'app.hashtag', 'pk': 551, 'fields': {'hashtag': 'amiri'}},\n",
       " {'model': 'app.hashtag', 'pk': 552, 'fields': {'hashtag': 'GFIREND'}},\n",
       " {'model': 'app.hashtag', 'pk': 553, 'fields': {'hashtag': '디비디'}},\n",
       " {'model': 'app.hashtag', 'pk': 554, 'fields': {'hashtag': '호석이'}},\n",
       " {'model': 'app.hashtag', 'pk': 555, 'fields': {'hashtag': '아미5기'}},\n",
       " {'model': 'app.hashtag',\n",
       "  'pk': 556,\n",
       "  'fields': {'hashtag': 'ace_kimbyeongkwan'}},\n",
       " {'model': 'app.hashtag', 'pk': 557, 'fields': {'hashtag': 'dunssweden'}},\n",
       " {'model': 'app.hashtag', 'pk': 558, 'fields': {'hashtag': '남구'}},\n",
       " {'model': 'app.hashtag', 'pk': 559, 'fields': {'hashtag': 'sculpture'}},\n",
       " {'model': 'app.hashtag', 'pk': 560, 'fields': {'hashtag': '캘빈클라인진'}},\n",
       " {'model': 'app.hashtag', 'pk': 561, 'fields': {'hashtag': '영상'}},\n",
       " {'model': 'app.hashtag', 'pk': 562, 'fields': {'hashtag': '더블V'}},\n",
       " {'model': 'app.hashtag', 'pk': 563, 'fields': {'hashtag': '유현주프로'}},\n",
       " {'model': 'app.hashtag', 'pk': 564, 'fields': {'hashtag': 'sandarapark'}},\n",
       " {'model': 'app.hashtag', 'pk': 565, 'fields': {'hashtag': '배가본드'}},\n",
       " {'model': 'app.hashtag', 'pk': 566, 'fields': {'hashtag': 'CHAEUNWOO'}},\n",
       " {'model': 'app.hashtag', 'pk': 567, 'fields': {'hashtag': 'Lafuma'}},\n",
       " {'model': 'app.hashtag', 'pk': 568, 'fields': {'hashtag': '늦둥이'}},\n",
       " {'model': 'app.hashtag', 'pk': 569, 'fields': {'hashtag': '시흥'}},\n",
       " {'model': 'app.hashtag', 'pk': 570, 'fields': {'hashtag': '부산맛집'}},\n",
       " {'model': 'app.hashtag', 'pk': 571, 'fields': {'hashtag': 'aqua'}},\n",
       " {'model': 'app.hashtag', 'pk': 572, 'fields': {'hashtag': 'NewEra'}},\n",
       " {'model': 'app.hashtag', 'pk': 573, 'fields': {'hashtag': '화양연화더노트'}},\n",
       " {'model': 'app.hashtag',\n",
       "  'pk': 574,\n",
       "  'fields': {'hashtag': '역삼동풀싸롱010x5856X6047'}},\n",
       " {'model': 'app.hashtag',\n",
       "  'pk': 575,\n",
       "  'fields': {'hashtag': 'LoveYourselfinBKK'}},\n",
       " {'model': 'app.hashtag', 'pk': 576, 'fields': {'hashtag': 'Jjin_Film'}},\n",
       " {'model': 'app.hashtag', 'pk': 577, 'fields': {'hashtag': 'BANGTANBOYS'}},\n",
       " {'model': 'app.hashtag', 'pk': 578, 'fields': {'hashtag': '밀키윙'}},\n",
       " {'model': 'app.hashtag',\n",
       "  'pk': 579,\n",
       "  'fields': {'hashtag': 'jacquescavallierbelletrud'}},\n",
       " {'model': 'app.hashtag', 'pk': 580, 'fields': {'hashtag': '코드네임굿즈'}},\n",
       " {'model': 'app.hashtag', 'pk': 581, 'fields': {'hashtag': 'beaker'}},\n",
       " {'model': 'app.hashtag', 'pk': 582, 'fields': {'hashtag': '구독과'}},\n",
       " {'model': 'app.hashtag', 'pk': 583, 'fields': {'hashtag': 'Dionysus'}},\n",
       " {'model': 'app.hashtag', 'pk': 584, 'fields': {'hashtag': '2시동안'}},\n",
       " {'model': 'app.hashtag', 'pk': 585, 'fields': {'hashtag': '이천희'}},\n",
       " {'model': 'app.hashtag', 'pk': 586, 'fields': {'hashtag': '강추'}},\n",
       " {'model': 'app.hashtag', 'pk': 587, 'fields': {'hashtag': '자기야여보야사랑아'}},\n",
       " {'model': 'app.hashtag', 'pk': 588, 'fields': {'hashtag': 'KUHO'}},\n",
       " {'model': 'app.hashtag', 'pk': 589, 'fields': {'hashtag': '고생했어'}},\n",
       " {'model': 'app.hashtag', 'pk': 590, 'fields': {'hashtag': '비키니사진'}},\n",
       " {'model': 'app.hashtag', 'pk': 591, 'fields': {'hashtag': '나이키짱구'}},\n",
       " {'model': 'app.hashtag', 'pk': 592, 'fields': {'hashtag': '즐거운명절되세요'}},\n",
       " {'model': 'app.hashtag', 'pk': 593, 'fields': {'hashtag': 'minimalism'}},\n",
       " {'model': 'app.hashtag', 'pk': 594, 'fields': {'hashtag': '우린_서로의_원동력'}},\n",
       " {'model': 'app.hashtag', 'pk': 595, 'fields': {'hashtag': '경복'}},\n",
       " {'model': 'app.hashtag', 'pk': 596, 'fields': {'hashtag': '영원히함께'}},\n",
       " {'model': 'app.hashtag', 'pk': 597, 'fields': {'hashtag': '믈브'}},\n",
       " {'model': 'app.hashtag', 'pk': 598, 'fields': {'hashtag': '구찌원피스'}},\n",
       " {'model': 'app.hashtag', 'pk': 599, 'fields': {'hashtag': '방탄소년단이전하는특별한소식'}},\n",
       " {'model': 'app.hashtag', 'pk': 600, 'fields': {'hashtag': '리니지리마스터'}},\n",
       " {'model': 'app.hashtag', 'pk': 601, 'fields': {'hashtag': 'Note8'}},\n",
       " {'model': 'app.hashtag', 'pk': 602, 'fields': {'hashtag': 'Vlive'}},\n",
       " {'model': 'app.hashtag', 'pk': 603, 'fields': {'hashtag': '미밀케이크'}},\n",
       " {'model': 'app.hashtag', 'pk': 604, 'fields': {'hashtag': 'dance'}},\n",
       " {'model': 'app.hashtag', 'pk': 605, 'fields': {'hashtag': '아이다스쿠폰'}},\n",
       " {'model': 'app.hashtag', 'pk': 606, 'fields': {'hashtag': 'Ondabile'}},\n",
       " {'model': 'app.hashtag', 'pk': 607, 'fields': {'hashtag': '마테'}},\n",
       " {'model': 'app.hashtag', 'pk': 608, 'fields': {'hashtag': '5월18일'}},\n",
       " {'model': 'app.hashtag', 'pk': 609, 'fields': {'hashtag': '집에오면'}},\n",
       " {'model': 'app.hashtag', 'pk': 610, 'fields': {'hashtag': 'daybreak'}},\n",
       " {'model': 'app.hashtag', 'pk': 611, 'fields': {'hashtag': '류덕환인터뷰'}},\n",
       " {'model': 'app.hashtag', 'pk': 612, 'fields': {'hashtag': '수건셍건'}},\n",
       " {'model': 'app.hashtag', 'pk': 613, 'fields': {'hashtag': '에이스컴백'}},\n",
       " {'model': 'app.hashtag', 'pk': 614, 'fields': {'hashtag': '차트'}},\n",
       " {'model': 'app.hashtag', 'pk': 615, 'fields': {'hashtag': '그린플러그드2019'}},\n",
       " {'model': 'app.hashtag', 'pk': 616, 'fields': {'hashtag': 'BJ일상'}},\n",
       " {'model': 'app.hashtag', 'pk': 617, 'fields': {'hashtag': '이모부'}},\n",
       " {'model': 'app.hashtag', 'pk': 618, 'fields': {'hashtag': '트친_구해요'}},\n",
       " {'model': 'app.hashtag', 'pk': 619, 'fields': {'hashtag': '세븐센세스'}},\n",
       " {'model': 'app.hashtag', 'pk': 620, 'fields': {'hashtag': 'Armys'}},\n",
       " {'model': 'app.hashtag', 'pk': 621, 'fields': {'hashtag': 'apink'}},\n",
       " {'model': 'app.hashtag', 'pk': 622, 'fields': {'hashtag': 'aroha'}},\n",
       " {'model': 'app.hashtag', 'pk': 623, 'fields': {'hashtag': 'lecoqsportif'}},\n",
       " {'model': 'app.hashtag', 'pk': 624, 'fields': {'hashtag': '그라치아패션필름'}},\n",
       " {'model': 'app.hashtag', 'pk': 625, 'fields': {'hashtag': '라벤더'}},\n",
       " {'model': 'app.hashtag', 'pk': 626, 'fields': {'hashtag': '가죽'}},\n",
       " {'model': 'app.hashtag', 'pk': 627, 'fields': {'hashtag': '박근혜'}},\n",
       " {'model': 'app.hashtag', 'pk': 628, 'fields': {'hashtag': '컴그림'}},\n",
       " {'model': 'app.hashtag', 'pk': 629, 'fields': {'hashtag': '위아래로_시원해'}},\n",
       " {'model': 'app.hashtag', 'pk': 630, 'fields': {'hashtag': '곁눈질'}},\n",
       " {'model': 'app.hashtag', 'pk': 631, 'fields': {'hashtag': '출장네일'}},\n",
       " {'model': 'app.hashtag', 'pk': 632, 'fields': {'hashtag': 'RT추첨'}},\n",
       " {'model': 'app.hashtag', 'pk': 633, 'fields': {'hashtag': '배틀로얄'}},\n",
       " {'model': 'app.hashtag', 'pk': 634, 'fields': {'hashtag': '권태은'}},\n",
       " {'model': 'app.hashtag', 'pk': 635, 'fields': {'hashtag': '래브라도리트리버'}},\n",
       " {'model': 'app.hashtag', 'pk': 636, 'fields': {'hashtag': '축구부'}},\n",
       " {'model': 'app.hashtag', 'pk': 637, 'fields': {'hashtag': 'CRT'}},\n",
       " {'model': 'app.hashtag', 'pk': 638, 'fields': {'hashtag': '블랙야크셰르파발대식'}},\n",
       " {'model': 'app.hashtag', 'pk': 639, 'fields': {'hashtag': '종호'}},\n",
       " {'model': 'app.hashtag', 'pk': 640, 'fields': {'hashtag': 'ミニョン'}},\n",
       " {'model': 'app.hashtag', 'pk': 641, 'fields': {'hashtag': '토니모리'}},\n",
       " {'model': 'app.hashtag', 'pk': 642, 'fields': {'hashtag': '2019패션위크'}},\n",
       " {'model': 'app.hashtag', 'pk': 643, 'fields': {'hashtag': '엘리먼트미스틱'}},\n",
       " {'model': 'app.hashtag', 'pk': 644, 'fields': {'hashtag': 'Jessica'}},\n",
       " {'model': 'app.hashtag', 'pk': 645, 'fields': {'hashtag': '골프르플레르'}},\n",
       " {'model': 'app.hashtag', 'pk': 646, 'fields': {'hashtag': '이승우작가'}},\n",
       " {'model': 'app.hashtag', 'pk': 647, 'fields': {'hashtag': '페르소나_내겐_이미_0_순위'}},\n",
       " {'model': 'app.hashtag', 'pk': 648, 'fields': {'hashtag': '방콕콘서트'}},\n",
       " {'model': 'app.hashtag', 'pk': 649, 'fields': {'hashtag': '전경호'}},\n",
       " {'model': 'app.hashtag', 'pk': 650, 'fields': {'hashtag': '여행가이드'}},\n",
       " {'model': 'app.hashtag', 'pk': 651, 'fields': {'hashtag': '천안'}},\n",
       " {'model': 'app.hashtag', 'pk': 652, 'fields': {'hashtag': '뽀짝'}},\n",
       " {'model': 'app.hashtag', 'pk': 653, 'fields': {'hashtag': '동물농장'}},\n",
       " {'model': 'app.hashtag', 'pk': 654, 'fields': {'hashtag': 'kt정상소액'}},\n",
       " {'model': 'app.hashtag', 'pk': 655, 'fields': {'hashtag': 'FGO'}},\n",
       " {'model': 'app.hashtag', 'pk': 656, 'fields': {'hashtag': '애란'}},\n",
       " {'model': 'app.hashtag', 'pk': 657, 'fields': {'hashtag': '방탄소년단_6주년_축하해'}},\n",
       " {'model': 'app.hashtag', 'pk': 658, 'fields': {'hashtag': '홍인표'}},\n",
       " {'model': 'app.hashtag', 'pk': 659, 'fields': {'hashtag': 'RalphsCoffee'}},\n",
       " {'model': 'app.hashtag', 'pk': 660, 'fields': {'hashtag': '헤드'}},\n",
       " {'model': 'app.hashtag', 'pk': 661, 'fields': {'hashtag': 'CHOIMINHO'}},\n",
       " {'model': 'app.hashtag', 'pk': 662, 'fields': {'hashtag': '운동하자'}},\n",
       " {'model': 'app.hashtag', 'pk': 663, 'fields': {'hashtag': '연하장'}},\n",
       " {'model': 'app.hashtag', 'pk': 664, 'fields': {'hashtag': '짝퉁루이비통'}},\n",
       " {'model': 'app.hashtag', 'pk': 665, 'fields': {'hashtag': '굿모닁'}},\n",
       " {'model': 'app.hashtag', 'pk': 666, 'fields': {'hashtag': '방탄이벵'}},\n",
       " {'model': 'app.hashtag', 'pk': 667, 'fields': {'hashtag': 'The_Voice'}},\n",
       " {'model': 'app.hashtag', 'pk': 668, 'fields': {'hashtag': '여자맨투맨'}},\n",
       " {'model': 'app.hashtag', 'pk': 669, 'fields': {'hashtag': '무멘팔_트친소'}},\n",
       " {'model': 'app.hashtag',\n",
       "  'pk': 670,\n",
       "  'fields': {'hashtag': 'gentlemonstersunglasses'}},\n",
       " {'model': 'app.hashtag', 'pk': 671, 'fields': {'hashtag': '이건'}},\n",
       " {'model': 'app.hashtag', 'pk': 672, 'fields': {'hashtag': 'AfreecaTV'}},\n",
       " {'model': 'app.hashtag', 'pk': 673, 'fields': {'hashtag': '살바토레페레가모'}},\n",
       " {'model': 'app.hashtag', 'pk': 674, 'fields': {'hashtag': 'yoda'}},\n",
       " {'model': 'app.hashtag', 'pk': 675, 'fields': {'hashtag': '명품지갑'}},\n",
       " {'model': 'app.hashtag', 'pk': 676, 'fields': {'hashtag': '티원피스'}},\n",
       " {'model': 'app.hashtag',\n",
       "  'pk': 677,\n",
       "  'fields': {'hashtag': 'ProjectBoyWithLuv'}},\n",
       " {'model': 'app.hashtag', 'pk': 678, 'fields': {'hashtag': '미술스토리'}},\n",
       " {'model': 'app.hashtag', 'pk': 679, 'fields': {'hashtag': 'jennierubyjane'}},\n",
       " {'model': 'app.hashtag', 'pk': 680, 'fields': {'hashtag': '태닝'}},\n",
       " {'model': 'app.hashtag', 'pk': 681, 'fields': {'hashtag': '풋솔져W213'}},\n",
       " {'model': 'app.hashtag', 'pk': 682, 'fields': {'hashtag': '세이굿바'}},\n",
       " {'model': 'app.hashtag', 'pk': 683, 'fields': {'hashtag': '공효진패션'}},\n",
       " {'model': 'app.hashtag', 'pk': 684, 'fields': {'hashtag': '마르니컬렉션'}},\n",
       " {'model': 'app.hashtag', 'pk': 685, 'fields': {'hashtag': '나카노이쿠미'}},\n",
       " {'model': 'app.hashtag', 'pk': 686, 'fields': {'hashtag': '천안안마방'}},\n",
       " {'model': 'app.hashtag', 'pk': 687, 'fields': {'hashtag': 'VisVim'}},\n",
       " {'model': 'app.hashtag', 'pk': 688, 'fields': {'hashtag': '귀차니스트'}},\n",
       " {'model': 'app.hashtag', 'pk': 689, 'fields': {'hashtag': '고이비토대구반월당본점'}},\n",
       " {'model': 'app.hashtag', 'pk': 690, 'fields': {'hashtag': 'INeedU'}},\n",
       " {'model': 'app.hashtag', 'pk': 691, 'fields': {'hashtag': 'asianaairlines'}},\n",
       " {'model': 'app.hashtag', 'pk': 692, 'fields': {'hashtag': '歌い手'}},\n",
       " {'model': 'app.hashtag', 'pk': 693, 'fields': {'hashtag': '예쁨'}},\n",
       " {'model': 'app.hashtag', 'pk': 694, 'fields': {'hashtag': 'kpop2019'}},\n",
       " {'model': 'app.hashtag',\n",
       "  'pk': 695,\n",
       "  'fields': {'hashtag': 'VernonHansolChoi'}},\n",
       " {'model': 'app.hashtag', 'pk': 696, 'fields': {'hashtag': '럽셀콘굿즈'}},\n",
       " {'model': 'app.hashtag', 'pk': 697, 'fields': {'hashtag': '뉴이스트양도'}},\n",
       " {'model': 'app.hashtag', 'pk': 698, 'fields': {'hashtag': '바주카포'}},\n",
       " {'model': 'app.hashtag', 'pk': 699, 'fields': {'hashtag': '성진'}},\n",
       " {'model': 'app.hashtag', 'pk': 700, 'fields': {'hashtag': '러닝슈트'}},\n",
       " {'model': 'app.hashtag', 'pk': 701, 'fields': {'hashtag': '등원룩'}},\n",
       " {'model': 'app.hashtag',\n",
       "  'pk': 702,\n",
       "  'fields': {'hashtag': 'louisvuitton_Twist_Bag'}},\n",
       " {'model': 'app.hashtag', 'pk': 703, 'fields': {'hashtag': '예물가방'}},\n",
       " {'model': 'app.hashtag', 'pk': 704, 'fields': {'hashtag': 'suit'}},\n",
       " {'model': 'app.hashtag', 'pk': 705, 'fields': {'hashtag': '라코스테스니커즈'}},\n",
       " {'model': 'app.hashtag', 'pk': 706, 'fields': {'hashtag': '강동원패션'}},\n",
       " {'model': 'app.hashtag', 'pk': 707, 'fields': {'hashtag': 'jımınn'}},\n",
       " {'model': 'app.hashtag', 'pk': 708, 'fields': {'hashtag': '방탄소년단슈가'}},\n",
       " {'model': 'app.hashtag', 'pk': 709, 'fields': {'hashtag': '럭키이벤트'}},\n",
       " {'model': 'app.hashtag', 'pk': 710, 'fields': {'hashtag': 'うぃの'}},\n",
       " {'model': 'app.hashtag', 'pk': 711, 'fields': {'hashtag': 'ceremony'}},\n",
       " {'model': 'app.hashtag', 'pk': 712, 'fields': {'hashtag': 'LinYun'}},\n",
       " {'model': 'app.hashtag', 'pk': 713, 'fields': {'hashtag': '4주남음'}},\n",
       " {'model': 'app.hashtag', 'pk': 714, 'fields': {'hashtag': '뮬라웨어'}},\n",
       " {'model': 'app.hashtag', 'pk': 715, 'fields': {'hashtag': 'br'}},\n",
       " {'model': 'app.hashtag', 'pk': 716, 'fields': {'hashtag': 'hdmi'}},\n",
       " {'model': 'app.hashtag', 'pk': 717, 'fields': {'hashtag': 'HAON'}},\n",
       " {'model': 'app.hashtag', 'pk': 718, 'fields': {'hashtag': 'familysale'}},\n",
       " {'model': 'app.hashtag', 'pk': 719, 'fields': {'hashtag': '유로픽쳐스'}},\n",
       " {'model': 'app.hashtag', 'pk': 720, 'fields': {'hashtag': '첫줄'}},\n",
       " {'model': 'app.hashtag', 'pk': 721, 'fields': {'hashtag': '빵밤언니TV'}},\n",
       " {'model': 'app.hashtag', 'pk': 722, 'fields': {'hashtag': '동탄고'}},\n",
       " {'model': 'app.hashtag', 'pk': 723, 'fields': {'hashtag': '탄소년단'}},\n",
       " {'model': 'app.hashtag', 'pk': 724, 'fields': {'hashtag': '생명'}},\n",
       " {'model': 'app.hashtag', 'pk': 725, 'fields': {'hashtag': '루이비통클러치'}},\n",
       " {'model': 'app.hashtag', 'pk': 726, 'fields': {'hashtag': '브런치작가'}},\n",
       " {'model': 'app.hashtag', 'pk': 727, 'fields': {'hashtag': '18FW'}},\n",
       " {'model': 'app.hashtag', 'pk': 728, 'fields': {'hashtag': '파워볼총판'}},\n",
       " {'model': 'app.hashtag', 'pk': 729, 'fields': {'hashtag': '급처분'}},\n",
       " {'model': 'app.hashtag', 'pk': 730, 'fields': {'hashtag': '맛스타그램'}},\n",
       " {'model': 'app.hashtag', 'pk': 731, 'fields': {'hashtag': '이지부스트700'}},\n",
       " {'model': 'app.hashtag', 'pk': 732, 'fields': {'hashtag': '김지후팀장'}},\n",
       " {'model': 'app.hashtag', 'pk': 733, 'fields': {'hashtag': '하와이'}},\n",
       " {'model': 'app.hashtag', 'pk': 734, 'fields': {'hashtag': '버스커'}},\n",
       " {'model': 'app.hashtag', 'pk': 735, 'fields': {'hashtag': '아프리카TV'}},\n",
       " {'model': 'app.hashtag', 'pk': 736, 'fields': {'hashtag': 'optimushwang'}},\n",
       " {'model': 'app.hashtag', 'pk': 737, 'fields': {'hashtag': '이승협셔츠'}},\n",
       " {'model': 'app.hashtag', 'pk': 738, 'fields': {'hashtag': 'armyfallowarmy'}},\n",
       " {'model': 'app.hashtag', 'pk': 739, 'fields': {'hashtag': 'RT'}},\n",
       " {'model': 'app.hashtag', 'pk': 740, 'fields': {'hashtag': '보드쥬르'}},\n",
       " {'model': 'app.hashtag', 'pk': 741, 'fields': {'hashtag': 'CDV'}},\n",
       " {'model': 'app.hashtag', 'pk': 742, 'fields': {'hashtag': '빨리_끝낼고야'}},\n",
       " {'model': 'app.hashtag', 'pk': 743, 'fields': {'hashtag': '라거펠트가'}},\n",
       " {'model': 'app.hashtag', 'pk': 744, 'fields': {'hashtag': '남준프포'}},\n",
       " {'model': 'app.hashtag', 'pk': 745, 'fields': {'hashtag': '까르띠에팔찌'}},\n",
       " {'model': 'app.hashtag', 'pk': 746, 'fields': {'hashtag': 'HAPPYSUGADAY'}},\n",
       " {'model': 'app.hashtag', 'pk': 747, 'fields': {'hashtag': '시드니'}},\n",
       " {'model': 'app.hashtag', 'pk': 748, 'fields': {'hashtag': '공공자전거'}},\n",
       " {'model': 'app.hashtag', 'pk': 749, 'fields': {'hashtag': '아이디대여'}},\n",
       " {'model': 'app.hashtag', 'pk': 750, 'fields': {'hashtag': 'rayban'}},\n",
       " {'model': 'app.hashtag', 'pk': 751, 'fields': {'hashtag': 'imamasteratthis'}},\n",
       " {'model': 'app.hashtag', 'pk': 752, 'fields': {'hashtag': 'cosmetics'}},\n",
       " {'model': 'app.hashtag', 'pk': 753, 'fields': {'hashtag': 'juliamhhart'}},\n",
       " {'model': 'app.hashtag', 'pk': 754, 'fields': {'hashtag': '슬립온'}},\n",
       " {'model': 'app.hashtag', 'pk': 755, 'fields': {'hashtag': '김용지'}},\n",
       " {'model': 'app.hashtag', 'pk': 756, 'fields': {'hashtag': '샤이니'}},\n",
       " {'model': 'app.hashtag', 'pk': 757, 'fields': {'hashtag': '트렌드스타그램'}},\n",
       " {'model': 'app.hashtag', 'pk': 758, 'fields': {'hashtag': '캐럿랜드'}},\n",
       " {'model': 'app.hashtag', 'pk': 759, 'fields': {'hashtag': 'b1142m'}},\n",
       " {'model': 'app.hashtag', 'pk': 760, 'fields': {'hashtag': 'ㅋㅋ'}},\n",
       " {'model': 'app.hashtag', 'pk': 761, 'fields': {'hashtag': '집에가요'}},\n",
       " {'model': 'app.hashtag', 'pk': 762, 'fields': {'hashtag': '가위바위보'}},\n",
       " {'model': 'app.hashtag', 'pk': 763, 'fields': {'hashtag': '스튜디오케이'}},\n",
       " {'model': 'app.hashtag', 'pk': 764, 'fields': {'hashtag': '롤렉스'}},\n",
       " {'model': 'app.hashtag',\n",
       "  'pk': 765,\n",
       "  'fields': {'hashtag': 'viviennewestwood'}},\n",
       " {'model': 'app.hashtag', 'pk': 766, 'fields': {'hashtag': 'purigardenhotel'}},\n",
       " {'model': 'app.hashtag', 'pk': 767, 'fields': {'hashtag': '개별악수회'}},\n",
       " {'model': 'app.hashtag', 'pk': 768, 'fields': {'hashtag': '삼색강양이'}},\n",
       " {'model': 'app.hashtag', 'pk': 769, 'fields': {'hashtag': '홀로그램'}},\n",
       " {'model': 'app.hashtag', 'pk': 770, 'fields': {'hashtag': '컨버스화'}},\n",
       " {'model': 'app.hashtag', 'pk': 771, 'fields': {'hashtag': '허쉘'}},\n",
       " {'model': 'app.hashtag', 'pk': 772, 'fields': {'hashtag': '나이키x언더커버'}},\n",
       " {'model': 'app.hashtag', 'pk': 773, 'fields': {'hashtag': 'SLEEK'}},\n",
       " {'model': 'app.hashtag', 'pk': 774, 'fields': {'hashtag': 'Valentine'}},\n",
       " {'model': 'app.hashtag', 'pk': 775, 'fields': {'hashtag': '키키'}},\n",
       " {'model': 'app.hashtag', 'pk': 776, 'fields': {'hashtag': '카스'}},\n",
       " {'model': 'app.hashtag', 'pk': 777, 'fields': {'hashtag': '랑데뷰'}},\n",
       " {'model': 'app.hashtag', 'pk': 778, 'fields': {'hashtag': '곤텍스'}},\n",
       " {'model': 'app.hashtag', 'pk': 779, 'fields': {'hashtag': '밤에도'}},\n",
       " {'model': 'app.hashtag', 'pk': 780, 'fields': {'hashtag': '꿈에그린네일샵'}},\n",
       " {'model': 'app.hashtag', 'pk': 781, 'fields': {'hashtag': 'onitsukatiger'}},\n",
       " {'model': 'app.hashtag', 'pk': 782, 'fields': {'hashtag': '조카'}},\n",
       " {'model': 'app.hashtag', 'pk': 783, 'fields': {'hashtag': '잘생김'}},\n",
       " {'model': 'app.hashtag', 'pk': 784, 'fields': {'hashtag': '한시간'}},\n",
       " {'model': 'app.hashtag', 'pk': 785, 'fields': {'hashtag': '나이키X언더커버'}},\n",
       " {'model': 'app.hashtag', 'pk': 786, 'fields': {'hashtag': '오프샷'}},\n",
       " {'model': 'app.hashtag', 'pk': 787, 'fields': {'hashtag': '소유'}},\n",
       " {'model': 'app.hashtag', 'pk': 788, 'fields': {'hashtag': 'DiorAddict'}},\n",
       " {'model': 'app.hashtag', 'pk': 789, 'fields': {'hashtag': '리아'}},\n",
       " {'model': 'app.hashtag', 'pk': 790, 'fields': {'hashtag': '들어가면'}},\n",
       " {'model': 'app.hashtag', 'pk': 791, 'fields': {'hashtag': 'SEVENTEEN'}},\n",
       " {'model': 'app.hashtag', 'pk': 792, 'fields': {'hashtag': '방탄소년단포카'}},\n",
       " {'model': 'app.hashtag', 'pk': 793, 'fields': {'hashtag': 'ARMYbehindBTS'}},\n",
       " {'model': 'app.hashtag', 'pk': 794, 'fields': {'hashtag': '이지부스트_350_V2_블랙'}},\n",
       " {'model': 'app.hashtag', 'pk': 795, 'fields': {'hashtag': 'bmwx5'}},\n",
       " {'model': 'app.hashtag', 'pk': 796, 'fields': {'hashtag': '빌리팬'}},\n",
       " {'model': 'app.hashtag', 'pk': 797, 'fields': {'hashtag': '헌정광고'}},\n",
       " {'model': 'app.hashtag', 'pk': 798, 'fields': {'hashtag': '청원여고'}},\n",
       " {'model': 'app.hashtag', 'pk': 799, 'fields': {'hashtag': '단독'}},\n",
       " {'model': 'app.hashtag', 'pk': 800, 'fields': {'hashtag': '황욱희'}},\n",
       " {'model': 'app.hashtag', 'pk': 801, 'fields': {'hashtag': '이태일'}},\n",
       " {'model': 'app.hashtag', 'pk': 802, 'fields': {'hashtag': '설_연휴'}},\n",
       " {'model': 'app.hashtag', 'pk': 803, 'fields': {'hashtag': '제품스티커'}},\n",
       " {'model': 'app.hashtag', 'pk': 804, 'fields': {'hashtag': 'webtoon'}},\n",
       " {'model': 'app.hashtag', 'pk': 805, 'fields': {'hashtag': '공식아이디양도'}},\n",
       " {'model': 'app.hashtag', 'pk': 806, 'fields': {'hashtag': '태그너무많아'}},\n",
       " {'model': 'app.hashtag', 'pk': 807, 'fields': {'hashtag': '큐'}},\n",
       " {'model': 'app.hashtag', 'pk': 808, 'fields': {'hashtag': '유인나'}},\n",
       " {'model': 'app.hashtag', 'pk': 809, 'fields': {'hashtag': '미래생활고'}},\n",
       " {'model': 'app.hashtag', 'pk': 810, 'fields': {'hashtag': 'ASIANBOSS'}},\n",
       " {'model': 'app.hashtag', 'pk': 811, 'fields': {'hashtag': '운동복'}},\n",
       " {'model': 'app.hashtag', 'pk': 812, 'fields': {'hashtag': '서경공연예술센터'}},\n",
       " {'model': 'app.hashtag', 'pk': 813, 'fields': {'hashtag': '나이키드로우'}},\n",
       " {'model': 'app.hashtag', 'pk': 814, 'fields': {'hashtag': '장미'}},\n",
       " {'model': 'app.hashtag', 'pk': 815, 'fields': {'hashtag': 'FANCY'}},\n",
       " {'model': 'app.hashtag', 'pk': 816, 'fields': {'hashtag': '코토리'}},\n",
       " {'model': 'app.hashtag',\n",
       "  'pk': 817,\n",
       "  'fields': {'hashtag': 'characterillustration'}},\n",
       " {'model': 'app.hashtag', 'pk': 818, 'fields': {'hashtag': 'fountainpen'}},\n",
       " {'model': 'app.hashtag', 'pk': 819, 'fields': {'hashtag': 'KIMDONGHYUK'}},\n",
       " {'model': 'app.hashtag', 'pk': 820, 'fields': {'hashtag': 'ubud'}},\n",
       " {'model': 'app.hashtag', 'pk': 821, 'fields': {'hashtag': '반다나'}},\n",
       " {'model': 'app.hashtag', 'pk': 822, 'fields': {'hashtag': '해외관광'}},\n",
       " {'model': 'app.hashtag', 'pk': 823, 'fields': {'hashtag': '주문제작'}},\n",
       " {'model': 'app.hashtag',\n",
       "  'pk': 824,\n",
       "  'fields': {'hashtag': 'BurberryAutumnWinter19'}},\n",
       " {'model': 'app.hashtag', 'pk': 825, 'fields': {'hashtag': '담요'}},\n",
       " {'model': 'app.hashtag', 'pk': 826, 'fields': {'hashtag': 'madongseok'}},\n",
       " {'model': 'app.hashtag', 'pk': 827, 'fields': {'hashtag': '불토'}},\n",
       " {'model': 'app.hashtag',\n",
       "  'pk': 828,\n",
       "  'fields': {'hashtag': '버버리파티burberryparty'}},\n",
       " {'model': 'app.hashtag', 'pk': 829, 'fields': {'hashtag': 'SOYOU'}},\n",
       " {'model': 'app.hashtag', 'pk': 830, 'fields': {'hashtag': '중국짝퉁시계'}},\n",
       " {'model': 'app.hashtag', 'pk': 831, 'fields': {'hashtag': '계란한판슈가케이크'}},\n",
       " {'model': 'app.hashtag', 'pk': 832, 'fields': {'hashtag': '빅토리아베컴'}},\n",
       " {'model': 'app.hashtag', 'pk': 833, 'fields': {'hashtag': '보다티브이'}},\n",
       " {'model': 'app.hashtag', 'pk': 834, 'fields': {'hashtag': 'ARMYUNITED'}},\n",
       " {'model': 'app.hashtag', 'pk': 835, 'fields': {'hashtag': '커리'}},\n",
       " {'model': 'app.hashtag', 'pk': 836, 'fields': {'hashtag': '노트9'}},\n",
       " {'model': 'app.hashtag', 'pk': 837, 'fields': {'hashtag': '수원삼성블루윙즈'}},\n",
       " {'model': 'app.hashtag', 'pk': 838, 'fields': {'hashtag': '백현'}},\n",
       " {'model': 'app.hashtag', 'pk': 839, 'fields': {'hashtag': 'support'}},\n",
       " {'model': 'app.hashtag', 'pk': 840, 'fields': {'hashtag': '튜린'}},\n",
       " {'model': 'app.hashtag', 'pk': 841, 'fields': {'hashtag': '엘페뇰'}},\n",
       " {'model': 'app.hashtag', 'pk': 842, 'fields': {'hashtag': '대원'}},\n",
       " {'model': 'app.hashtag', 'pk': 843, 'fields': {'hashtag': 'Parkshinhye'}},\n",
       " {'model': 'app.hashtag', 'pk': 844, 'fields': {'hashtag': 'kenzo'}},\n",
       " {'model': 'app.hashtag', 'pk': 845, 'fields': {'hashtag': '홍콩명품시계쇼핑몰'}},\n",
       " {'model': 'app.hashtag', 'pk': 846, 'fields': {'hashtag': '지리산체리'}},\n",
       " {'model': 'app.hashtag', 'pk': 847, 'fields': {'hashtag': '구출'}},\n",
       " {'model': 'app.hashtag', 'pk': 848, 'fields': {'hashtag': '캐논'}},\n",
       " {'model': 'app.hashtag',\n",
       "  'pk': 849,\n",
       "  'fields': {'hashtag': '선릉룸010x5856X6047'}},\n",
       " {'model': 'app.hashtag', 'pk': 850, 'fields': {'hashtag': '중남미'}},\n",
       " {'model': 'app.hashtag', 'pk': 851, 'fields': {'hashtag': '리사이클링'}},\n",
       " {'model': 'app.hashtag', 'pk': 852, 'fields': {'hashtag': 'summer'}},\n",
       " {'model': 'app.hashtag', 'pk': 853, 'fields': {'hashtag': '경기분석'}},\n",
       " {'model': 'app.hashtag', 'pk': 854, 'fields': {'hashtag': '졸피곤'}},\n",
       " {'model': 'app.hashtag', 'pk': 855, 'fields': {'hashtag': '화가모자'}},\n",
       " {'model': 'app.hashtag', 'pk': 856, 'fields': {'hashtag': '잠깐만날분'}},\n",
       " {'model': 'app.hashtag', 'pk': 857, 'fields': {'hashtag': '파스텔'}},\n",
       " {'model': 'app.hashtag', 'pk': 858, 'fields': {'hashtag': '세븐틴인화사진'}},\n",
       " {'model': 'app.hashtag', 'pk': 859, 'fields': {'hashtag': '방탄오즈볼콘서트'}},\n",
       " {'model': 'app.hashtag', 'pk': 860, 'fields': {'hashtag': 'Taiki'}},\n",
       " {'model': 'app.hashtag', 'pk': 861, 'fields': {'hashtag': '럭키존'}},\n",
       " {'model': 'app.hashtag', 'pk': 862, 'fields': {'hashtag': '홍중'}},\n",
       " {'model': 'app.hashtag', 'pk': 863, 'fields': {'hashtag': 'ბითიესი'}},\n",
       " {'model': 'app.hashtag', 'pk': 864, 'fields': {'hashtag': '새벽아미트친소'}},\n",
       " {'model': 'app.hashtag', 'pk': 865, 'fields': {'hashtag': 'Jinro'}},\n",
       " {'model': 'app.hashtag', 'pk': 866, 'fields': {'hashtag': '워너원리복'}},\n",
       " {'model': 'app.hashtag', 'pk': 867, 'fields': {'hashtag': 'glasgow'}},\n",
       " {'model': 'app.hashtag', 'pk': 868, 'fields': {'hashtag': '차대절양도'}},\n",
       " {'model': 'app.hashtag', 'pk': 869, 'fields': {'hashtag': '썸머패키지'}},\n",
       " {'model': 'app.hashtag', 'pk': 870, 'fields': {'hashtag': '출시'}},\n",
       " {'model': 'app.hashtag', 'pk': 871, 'fields': {'hashtag': '캉골앙고라'}},\n",
       " {'model': 'app.hashtag', 'pk': 872, 'fields': {'hashtag': '프로방스'}},\n",
       " {'model': 'app.hashtag', 'pk': 873, 'fields': {'hashtag': '블랙핑크지수'}},\n",
       " {'model': 'app.hashtag', 'pk': 874, 'fields': {'hashtag': '우승팀'}},\n",
       " {'model': 'app.hashtag', 'pk': 875, 'fields': {'hashtag': 'AllTP100'}},\n",
       " {'model': 'app.hashtag', 'pk': 876, 'fields': {'hashtag': 'DMZ'}},\n",
       " {'model': 'app.hashtag', 'pk': 877, 'fields': {'hashtag': '방탄은정말대단해'}},\n",
       " {'model': 'app.hashtag', 'pk': 878, 'fields': {'hashtag': 'nikeonair'}},\n",
       " {'model': 'app.hashtag', 'pk': 879, 'fields': {'hashtag': '2020cruise'}},\n",
       " {'model': 'app.hashtag', 'pk': 880, 'fields': {'hashtag': 'video'}},\n",
       " {'model': 'app.hashtag', 'pk': 881, 'fields': {'hashtag': '체육놀이'}},\n",
       " {'model': 'app.hashtag', 'pk': 882, 'fields': {'hashtag': 'VODATOUR'}},\n",
       " {'model': 'app.hashtag', 'pk': 883, 'fields': {'hashtag': 'BTSFESTA2019'}},\n",
       " {'model': 'app.hashtag', 'pk': 884, 'fields': {'hashtag': '타라메지노'}},\n",
       " {'model': 'app.hashtag', 'pk': 885, 'fields': {'hashtag': '테이블'}},\n",
       " {'model': 'app.hashtag', 'pk': 886, 'fields': {'hashtag': 'jimmychoo'}},\n",
       " {'model': 'app.hashtag', 'pk': 887, 'fields': {'hashtag': '풀빌라'}},\n",
       " {'model': 'app.hashtag', 'pk': 888, 'fields': {'hashtag': '와카야마현'}},\n",
       " {'model': 'app.hashtag', 'pk': 889, 'fields': {'hashtag': '에밀리블런트'}},\n",
       " {'model': 'app.hashtag', 'pk': 890, 'fields': {'hashtag': '그림덕질'}},\n",
       " {'model': 'app.hashtag', 'pk': 891, 'fields': {'hashtag': '방탄소년단컴백'}},\n",
       " {'model': 'app.hashtag', 'pk': 892, 'fields': {'hashtag': '이상연'}},\n",
       " {'model': 'app.hashtag', 'pk': 893, 'fields': {'hashtag': 'Stylogue'}},\n",
       " {'model': 'app.hashtag', 'pk': 894, 'fields': {'hashtag': 'GentleMonster'}},\n",
       " {'model': 'app.hashtag', 'pk': 895, 'fields': {'hashtag': 'diormen'}},\n",
       " {'model': 'app.hashtag', 'pk': 896, 'fields': {'hashtag': 'kingdom'}},\n",
       " {'model': 'app.hashtag', 'pk': 897, 'fields': {'hashtag': '언제나'}},\n",
       " {'model': 'app.hashtag', 'pk': 898, 'fields': {'hashtag': '섹시걸'}},\n",
       " {'model': 'app.hashtag', 'pk': 899, 'fields': {'hashtag': 'mommyfashion'}},\n",
       " {'model': 'app.hashtag', 'pk': 900, 'fields': {'hashtag': '이치반쿠지'}},\n",
       " {'model': 'app.hashtag', 'pk': 901, 'fields': {'hashtag': '정수정'}},\n",
       " {'model': 'app.hashtag', 'pk': 902, 'fields': {'hashtag': '용돈왕창'}},\n",
       " {'model': 'app.hashtag', 'pk': 903, 'fields': {'hashtag': 'パクボゴム'}},\n",
       " {'model': 'app.hashtag', 'pk': 904, 'fields': {'hashtag': '몸짓'}},\n",
       " {'model': 'app.hashtag', 'pk': 905, 'fields': {'hashtag': 'alphaforce'}},\n",
       " {'model': 'app.hashtag', 'pk': 906, 'fields': {'hashtag': '아크네스튜디오'}},\n",
       " {'model': 'app.hashtag', 'pk': 907, 'fields': {'hashtag': '캐릭터'}},\n",
       " {'model': 'app.hashtag', 'pk': 908, 'fields': {'hashtag': '호랑이'}},\n",
       " {'model': 'app.hashtag', 'pk': 909, 'fields': {'hashtag': '축구'}},\n",
       " {'model': 'app.hashtag', 'pk': 910, 'fields': {'hashtag': '이벤트'}},\n",
       " {'model': 'app.hashtag',\n",
       "  'pk': 911,\n",
       "  'fields': {'hashtag': '오늘도_최상의_컨디션은_아이더와_함께'}},\n",
       " {'model': 'app.hashtag', 'pk': 912, 'fields': {'hashtag': '수확'}},\n",
       " {'model': 'app.hashtag', 'pk': 913, 'fields': {'hashtag': '슬림핏청바지'}},\n",
       " {'model': 'app.hashtag', 'pk': 914, 'fields': {'hashtag': 'HIGHCUT현장'}},\n",
       " {'model': 'app.hashtag', 'pk': 915, 'fields': {'hashtag': '벚꽃놀이'}},\n",
       " {'model': 'app.hashtag',\n",
       "  'pk': 916,\n",
       "  'fields': {'hashtag': 'LoveYourself_SpeakYourself'}},\n",
       " {'model': 'app.hashtag', 'pk': 917, 'fields': {'hashtag': 'Mirror'}},\n",
       " {'model': 'app.hashtag', 'pk': 918, 'fields': {'hashtag': 'smok'}},\n",
       " {'model': 'app.hashtag', 'pk': 919, 'fields': {'hashtag': '길오솔'}},\n",
       " {'model': 'app.hashtag', 'pk': 920, 'fields': {'hashtag': 'Grammy'}},\n",
       " {'model': 'app.hashtag', 'pk': 921, 'fields': {'hashtag': '소설'}},\n",
       " {'model': 'app.hashtag', 'pk': 922, 'fields': {'hashtag': '문의톡Noble95'}},\n",
       " {'model': 'app.hashtag', 'pk': 923, 'fields': {'hashtag': '출발출발'}},\n",
       " {'model': 'app.hashtag', 'pk': 924, 'fields': {'hashtag': '흔녀그램'}},\n",
       " {'model': 'app.hashtag', 'pk': 925, 'fields': {'hashtag': 'cheese'}},\n",
       " {'model': 'app.hashtag', 'pk': 926, 'fields': {'hashtag': '엠비션'}},\n",
       " {'model': 'app.hashtag', 'pk': 927, 'fields': {'hashtag': '찰칵'}},\n",
       " {'model': 'app.hashtag', 'pk': 928, 'fields': {'hashtag': '슈퍼맨사이즈'}},\n",
       " {'model': 'app.hashtag', 'pk': 929, 'fields': {'hashtag': '05년생'}},\n",
       " {'model': 'app.hashtag', 'pk': 930, 'fields': {'hashtag': '헤일리'}},\n",
       " {'model': 'app.hashtag', 'pk': 931, 'fields': {'hashtag': '짐니'}},\n",
       " {'model': 'app.hashtag', 'pk': 932, 'fields': {'hashtag': '그들과'}},\n",
       " {'model': 'app.hashtag', 'pk': 933, 'fields': {'hashtag': 'TommyNow'}},\n",
       " {'model': 'app.hashtag', 'pk': 934, 'fields': {'hashtag': '한터차트'}},\n",
       " {'model': 'app.hashtag', 'pk': 935, 'fields': {'hashtag': '자이언츠'}},\n",
       " {'model': 'app.hashtag', 'pk': 936, 'fields': {'hashtag': '런닝맨'}},\n",
       " {'model': 'app.hashtag', 'pk': 937, 'fields': {'hashtag': '엠엘비신발'}},\n",
       " {'model': 'app.hashtag', 'pk': 938, 'fields': {'hashtag': '코드쿤스트'}},\n",
       " {'model': 'app.hashtag', 'pk': 939, 'fields': {'hashtag': '줄때받자'}},\n",
       " {'model': 'app.hashtag', 'pk': 940, 'fields': {'hashtag': '짜장면곱빼기'}},\n",
       " {'model': 'app.hashtag', 'pk': 941, 'fields': {'hashtag': '에로즈셀라비'}},\n",
       " {'model': 'app.hashtag', 'pk': 942, 'fields': {'hashtag': '쌍안경'}},\n",
       " {'model': 'app.hashtag', 'pk': 943, 'fields': {'hashtag': '인증샷'}},\n",
       " {'model': 'app.hashtag', 'pk': 944, 'fields': {'hashtag': '서주현'}},\n",
       " {'model': 'app.hashtag', 'pk': 945, 'fields': {'hashtag': '슈퍼래쉬가드'}},\n",
       " {'model': 'app.hashtag', 'pk': 946, 'fields': {'hashtag': 'HM'}},\n",
       " {'model': 'app.hashtag', 'pk': 947, 'fields': {'hashtag': 'cake'}},\n",
       " {'model': 'app.hashtag', 'pk': 948, 'fields': {'hashtag': '투표계트친소'}},\n",
       " {'model': 'app.hashtag', 'pk': 949, 'fields': {'hashtag': '헤이즈'}},\n",
       " {'model': 'app.hashtag', 'pk': 950, 'fields': {'hashtag': '현장스케치'}},\n",
       " {'model': 'app.hashtag', 'pk': 951, 'fields': {'hashtag': '호로바합니다'}},\n",
       " {'model': 'app.hashtag', 'pk': 952, 'fields': {'hashtag': '朴炯植'}},\n",
       " {'model': 'app.hashtag', 'pk': 953, 'fields': {'hashtag': 'Reaction'}},\n",
       " {'model': 'app.hashtag', 'pk': 954, 'fields': {'hashtag': '아'}},\n",
       " {'model': 'app.hashtag', 'pk': 955, 'fields': {'hashtag': '비하인드컷'}},\n",
       " {'model': 'app.hashtag', 'pk': 956, 'fields': {'hashtag': 'Gong_cha'}},\n",
       " {'model': 'app.hashtag', 'pk': 957, 'fields': {'hashtag': 'W_EXCLUSIVE'}},\n",
       " {'model': 'app.hashtag', 'pk': 958, 'fields': {'hashtag': '솜뭉치'}},\n",
       " {'model': 'app.hashtag', 'pk': 959, 'fields': {'hashtag': '오빠들미안해요'}},\n",
       " {'model': 'app.hashtag', 'pk': 960, 'fields': {'hashtag': '스다마사키'}},\n",
       " {'model': 'app.hashtag', 'pk': 961, 'fields': {'hashtag': '프리즘스톤'}},\n",
       " {'model': 'app.hashtag', 'pk': 962, 'fields': {'hashtag': 'mymuse'}},\n",
       " {'model': 'app.hashtag', 'pk': 963, 'fields': {'hashtag': '잠실새내'}},\n",
       " {'model': 'app.hashtag', 'pk': 964, 'fields': {'hashtag': '팬TALK'}},\n",
       " {'model': 'app.hashtag', 'pk': 965, 'fields': {'hashtag': '라우터'}},\n",
       " {'model': 'app.hashtag', 'pk': 966, 'fields': {'hashtag': 'キムビョングァン'}},\n",
       " {'model': 'app.hashtag', 'pk': 967, 'fields': {'hashtag': '마마건'}},\n",
       " {'model': 'app.hashtag', 'pk': 968, 'fields': {'hashtag': '매크로'}},\n",
       " {'model': 'app.hashtag', 'pk': 969, 'fields': {'hashtag': '영훈'}},\n",
       " {'model': 'app.hashtag', 'pk': 970, 'fields': {'hashtag': '그루미'}},\n",
       " {'model': 'app.hashtag', 'pk': 971, 'fields': {'hashtag': '피땀눈물'}},\n",
       " {'model': 'app.hashtag', 'pk': 972, 'fields': {'hashtag': '김복동할머니'}},\n",
       " {'model': 'app.hashtag', 'pk': 973, 'fields': {'hashtag': '플래그쉽스토어'}},\n",
       " {'model': 'app.hashtag', 'pk': 974, 'fields': {'hashtag': '501데이'}},\n",
       " {'model': 'app.hashtag', 'pk': 975, 'fields': {'hashtag': '크리스마스카드'}},\n",
       " {'model': 'app.hashtag', 'pk': 976, 'fields': {'hashtag': '헤드코기'}},\n",
       " {'model': 'app.hashtag', 'pk': 977, 'fields': {'hashtag': '영서중'}},\n",
       " {'model': 'app.hashtag', 'pk': 978, 'fields': {'hashtag': '민호'}},\n",
       " {'model': 'app.hashtag', 'pk': 979, 'fields': {'hashtag': '정연'}},\n",
       " {'model': 'app.hashtag', 'pk': 980, 'fields': {'hashtag': '너도인간이니OST'}},\n",
       " {'model': 'app.hashtag', 'pk': 981, 'fields': {'hashtag': 'bluewings'}},\n",
       " {'model': 'app.hashtag', 'pk': 982, 'fields': {'hashtag': 'ken'}},\n",
       " {'model': 'app.hashtag', 'pk': 983, 'fields': {'hashtag': 'chess'}},\n",
       " {'model': 'app.hashtag', 'pk': 984, 'fields': {'hashtag': '보이스'}},\n",
       " {'model': 'app.hashtag', 'pk': 985, 'fields': {'hashtag': 'BT'}},\n",
       " {'model': 'app.hashtag', 'pk': 986, 'fields': {'hashtag': '최병찬_포기하_지마'}},\n",
       " {'model': 'app.hashtag', 'pk': 987, 'fields': {'hashtag': '아이더봄상품'}},\n",
       " {'model': 'app.hashtag', 'pk': 988, 'fields': {'hashtag': 'umji'}},\n",
       " {'model': 'app.hashtag', 'pk': 989, 'fields': {'hashtag': '봄신상'}},\n",
       " {'model': 'app.hashtag', 'pk': 990, 'fields': {'hashtag': 'Dior'}},\n",
       " {'model': 'app.hashtag', 'pk': 991, 'fields': {'hashtag': '휠라사랑해요'}},\n",
       " {'model': 'app.hashtag', 'pk': 992, 'fields': {'hashtag': 'chanellipstick'}},\n",
       " {'model': 'app.hashtag', 'pk': 993, 'fields': {'hashtag': '방탄오빠들'}},\n",
       " {'model': 'app.hashtag', 'pk': 994, 'fields': {'hashtag': '꾹이'}},\n",
       " {'model': 'app.hashtag', 'pk': 995, 'fields': {'hashtag': '샤넬체인백'}},\n",
       " {'model': 'app.hashtag', 'pk': 996, 'fields': {'hashtag': '커플'}},\n",
       " {'model': 'app.hashtag', 'pk': 997, 'fields': {'hashtag': '슬랙스'}},\n",
       " {'model': 'app.hashtag', 'pk': 998, 'fields': {'hashtag': 'TheEnd'}},\n",
       " {'model': 'app.hashtag', 'pk': 999, 'fields': {'hashtag': '반짝'}},\n",
       " {'model': 'app.hashtag', 'pk': 1000, 'fields': {'hashtag': '박보검'}},\n",
       " ...]"
      ]
     },
     "execution_count": 22,
     "metadata": {},
     "output_type": "execute_result"
    }
   ],
   "source": [
    "dbinit_hashtags"
   ]
  },
  {
   "cell_type": "code",
   "execution_count": 18,
   "metadata": {},
   "outputs": [],
   "source": [
    "with open('dbinit_hashtags.json', 'w') as f:\n",
    "    json.dump(dbinit_hashtags, f)"
   ]
  },
  {
   "cell_type": "code",
   "execution_count": 29,
   "metadata": {},
   "outputs": [],
   "source": [
    "cols = ['hashtag']\n",
    "with open('dbinit_hashtags.csv', 'w', encoding='UTF-8') as f:\n",
    "    writer = csv.DictWriter(f, fieldnames=cols)\n",
    "    writer.writeheader()\n",
    "    for data in dbinit_hashtags:\n",
    "        writer.writerow(data['fields'])"
   ]
  },
  {
   "cell_type": "code",
   "execution_count": 30,
   "metadata": {},
   "outputs": [],
   "source": [
    "from app.models import Hashtag"
   ]
  },
  {
   "cell_type": "code",
   "execution_count": 34,
   "metadata": {},
   "outputs": [
    {
     "data": {
      "text/plain": [
       "(0, {})"
      ]
     },
     "execution_count": 34,
     "metadata": {},
     "output_type": "execute_result"
    }
   ],
   "source": [
    "Hashtag.objects.all().delete()"
   ]
  },
  {
   "cell_type": "code",
   "execution_count": null,
   "metadata": {},
   "outputs": [],
   "source": []
  },
  {
   "cell_type": "markdown",
   "metadata": {},
   "source": [
    "# Feed model"
   ]
  },
  {
   "cell_type": "code",
   "execution_count": 19,
   "metadata": {},
   "outputs": [],
   "source": [
    "from app.models import Brand, Profile, Hashtag"
   ]
  },
  {
   "cell_type": "code",
   "execution_count": 81,
   "metadata": {},
   "outputs": [
    {
     "data": {
      "application/vnd.jupyter.widget-view+json": {
       "model_id": "05eed0bf89ae4b68b5841387b99588d9",
       "version_major": 2,
       "version_minor": 0
      },
      "text/plain": [
       "HBox(children=(IntProgress(value=0, max=46960), HTML(value='')))"
      ]
     },
     "metadata": {},
     "output_type": "display_data"
    }
   ],
   "source": [
    "dbinit_feeds = []\n",
    "\n",
    "for pk, feed in enumerate(tqdm(feeds)):\n",
    "    membership_pk = Brand.objects.get(name=feed['membership']).pk\n",
    "    author_pk = Profile.objects.get(user__email=feed['author']+'@getch.com').pk\n",
    "    hashtag_pks = list(Hashtag.objects.filter(hashtag__in=feed['hashtags']).values_list('pk', flat=True))\n",
    "    \n",
    "    fields = {\n",
    "        'membership': membership_pk, \n",
    "        'author': author_pk, \n",
    "        'timestamp': str(pd.Timestamp(feed['created_at']).tz_localize(None)), \n",
    "        'nlikes': feed['nlikes'], \n",
    "        'content': feed['content'], \n",
    "        'hashtags': hashtag_pks\n",
    "    }\n",
    "    \n",
    "    if 'feed_image' in feed:\n",
    "        fields['feed_image'] = 'feed_images/' + feed['membership'] + '/' + feed['author'] + '/' + feed['feed_image'].split('/')[-1]\n",
    "    \n",
    "    dbinit_feeds.append({\n",
    "        'model': 'app.feed', \n",
    "        'pk': pk+1, \n",
    "        'fields': fields\n",
    "    })    "
   ]
  },
  {
   "cell_type": "code",
   "execution_count": 88,
   "metadata": {},
   "outputs": [],
   "source": [
    "dbinit_feeds;"
   ]
  },
  {
   "cell_type": "code",
   "execution_count": 83,
   "metadata": {},
   "outputs": [],
   "source": [
    "with open('dbinit_feeds.json', 'w') as f:\n",
    "    json.dump(dbinit_feeds, f)"
   ]
  },
  {
   "cell_type": "code",
   "execution_count": null,
   "metadata": {},
   "outputs": [],
   "source": []
  },
  {
   "cell_type": "code",
   "execution_count": null,
   "metadata": {},
   "outputs": [],
   "source": []
  },
  {
   "cell_type": "code",
   "execution_count": 1,
   "metadata": {},
   "outputs": [],
   "source": [
    "from app.models import Feed"
   ]
  },
  {
   "cell_type": "code",
   "execution_count": 27,
   "metadata": {},
   "outputs": [
    {
     "data": {
      "text/plain": [
       "<QuerySet [<Feed: 2019-04-09 10:19:51 yogipower@getch.com>, <Feed: 2019-01-30 06:25:19 _MasterShoe_@getch.com>, <Feed: 2019-05-19 13:58:55 helloanimals@getch.com>, <Feed: 2019-03-19 12:24:30 sellittoyou@getch.com>, <Feed: 2019-04-12 13:51:45 ddungbom_mino@getch.com>, <Feed: 2019-01-02 19:01:14 AidenLee862@getch.com>, <Feed: 2019-02-04 03:42:22 altchang@getch.com>, <Feed: 2019-06-19 09:33:35 midasmarin@getch.com>, <Feed: 2019-05-05 08:40:28 chulhonp@getch.com>, <Feed: 2019-04-12 05:47:52 ddungbom_mino@getch.com>, <Feed: 2019-04-23 09:11:25 URmystar_0330@getch.com>, <Feed: 2019-03-03 19:11:40 Kim_JiSooYG1@getch.com>, <Feed: 2019-04-27 00:15:33 midasmarin@getch.com>, <Feed: 2019-03-25 02:03:43 getitk@getch.com>, <Feed: 2019-04-23 07:27:27 URmystar_0330@getch.com>, <Feed: 2019-03-20 03:29:47 pyobongbong@getch.com>, <Feed: 2019-05-04 07:06:57 midasmarin@getch.com>, <Feed: 2019-04-27 02:26:06 Eternal_1229@getch.com>, <Feed: 2019-04-17 14:09:46 hyun8034@getch.com>, <Feed: 2019-04-12 14:27:28 ddungbom_mino@getch.com>, '...(remaining elements truncated)...']>"
      ]
     },
     "execution_count": 27,
     "metadata": {},
     "output_type": "execute_result"
    }
   ],
   "source": [
    "res = Feed.objects.filter(hashtags__hashtag__in=['nike', 'adidas']); res"
   ]
  },
  {
   "cell_type": "code",
   "execution_count": 28,
   "metadata": {},
   "outputs": [
    {
     "data": {
      "text/plain": [
       "'미노야 널 좋아해💗\\n\\n#WINNER \\n#위너 \\n#송민호\\n#MINO\\n#아디다스\\n#adidas\\n@official_mino_ https://t.co/7hq2HWcUgU'"
      ]
     },
     "execution_count": 28,
     "metadata": {},
     "output_type": "execute_result"
    }
   ],
   "source": [
    "res[100].content"
   ]
  },
  {
   "cell_type": "code",
   "execution_count": 29,
   "metadata": {},
   "outputs": [
    {
     "data": {
      "text/plain": [
       "<QuerySet [<Hashtag: MINO>, <Hashtag: 송민호>, <Hashtag: 위너>, <Hashtag: adidas>, <Hashtag: 아디다스>, <Hashtag: WINNER>]>"
      ]
     },
     "execution_count": 29,
     "metadata": {},
     "output_type": "execute_result"
    }
   ],
   "source": [
    "res[100].hashtags.all()"
   ]
  },
  {
   "cell_type": "code",
   "execution_count": null,
   "metadata": {},
   "outputs": [],
   "source": []
  },
  {
   "cell_type": "code",
   "execution_count": null,
   "metadata": {},
   "outputs": [],
   "source": []
  },
  {
   "cell_type": "code",
   "execution_count": 1,
   "metadata": {},
   "outputs": [],
   "source": [
    "import os"
   ]
  },
  {
   "cell_type": "code",
   "execution_count": 4,
   "metadata": {},
   "outputs": [
    {
     "data": {
      "text/plain": [
       "'C://test\\\\kkk.jpg'"
      ]
     },
     "execution_count": 4,
     "metadata": {},
     "output_type": "execute_result"
    }
   ],
   "source": [
    "os.path.join('C://', 'test', 'kkk.jpg')"
   ]
  },
  {
   "cell_type": "code",
   "execution_count": null,
   "metadata": {},
   "outputs": [],
   "source": []
  }
 ],
 "metadata": {
  "kernelspec": {
   "display_name": "Django Shell-Plus",
   "language": "python",
   "name": "django_extensions"
  },
  "language_info": {
   "codemirror_mode": {
    "name": "ipython",
    "version": 3
   },
   "file_extension": ".py",
   "mimetype": "text/x-python",
   "name": "python",
   "nbconvert_exporter": "python",
   "pygments_lexer": "ipython3",
   "version": "3.7.3"
  }
 },
 "nbformat": 4,
 "nbformat_minor": 2
}
