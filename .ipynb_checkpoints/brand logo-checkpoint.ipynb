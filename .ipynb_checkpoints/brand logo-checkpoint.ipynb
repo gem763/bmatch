{
 "cells": [
  {
   "cell_type": "code",
   "execution_count": 11,
   "metadata": {},
   "outputs": [],
   "source": [
    "import requests\n",
    "import json\n",
    "from bs4 import BeautifulSoup"
   ]
  },
  {
   "cell_type": "code",
   "execution_count": 18,
   "metadata": {},
   "outputs": [],
   "source": [
    "doc = requests.get('https://autocomplete.clearbit.com/v1/companies/suggest?query=umbro')\n",
    "soup = BeautifulSoup(doc.text, 'html.parser')\n",
    "brandinfo = json.loads(doc.text)[0]"
   ]
  },
  {
   "cell_type": "code",
   "execution_count": 20,
   "metadata": {},
   "outputs": [
    {
     "data": {
      "text/plain": [
       "('Umbro', 'umbro.com', 'https://logo.clearbit.com/umbro.com')"
      ]
     },
     "execution_count": 20,
     "metadata": {},
     "output_type": "execute_result"
    }
   ],
   "source": [
    "brandinfo['name'], brandinfo['domain'], brandinfo['logo']"
   ]
  },
  {
   "cell_type": "code",
   "execution_count": 21,
   "metadata": {},
   "outputs": [],
   "source": [
    "def logourl_and_homepage(brand):\n",
    "    endpoint = 'https://autocomplete.clearbit.com/v1/companies/suggest?query='\n",
    "    doc = requests.get(endpoint + brand)\n",
    "    brandinfo = json.loads(doc.text)[0]\n",
    "    return brandinfo['logo'], brandinfo['domain']"
   ]
  },
  {
   "cell_type": "code",
   "execution_count": 23,
   "metadata": {},
   "outputs": [
    {
     "data": {
      "text/plain": [
       "('https://logo.clearbit.com/adidas-group.com', 'adidas-group.com')"
      ]
     },
     "execution_count": 23,
     "metadata": {},
     "output_type": "execute_result"
    }
   ],
   "source": [
    "logourl_and_homepage('adidas')"
   ]
  },
  {
   "cell_type": "code",
   "execution_count": null,
   "metadata": {},
   "outputs": [],
   "source": []
  }
 ],
 "metadata": {
  "kernelspec": {
   "display_name": "Python 3",
   "language": "python",
   "name": "python3"
  },
  "language_info": {
   "codemirror_mode": {
    "name": "ipython",
    "version": 3
   },
   "file_extension": ".py",
   "mimetype": "text/x-python",
   "name": "python",
   "nbconvert_exporter": "python",
   "pygments_lexer": "ipython3",
   "version": "3.7.1"
  }
 },
 "nbformat": 4,
 "nbformat_minor": 2
}
