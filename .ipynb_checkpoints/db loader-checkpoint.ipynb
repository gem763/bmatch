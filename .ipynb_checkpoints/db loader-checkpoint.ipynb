{
 "cells": [
  {
   "cell_type": "code",
   "execution_count": 4,
   "metadata": {},
   "outputs": [
    {
     "ename": "ModuleNotFoundError",
     "evalue": "No module named 'django'",
     "output_type": "error",
     "traceback": [
      "\u001b[1;31m---------------------------------------------------------------------------\u001b[0m",
      "\u001b[1;31mModuleNotFoundError\u001b[0m                       Traceback (most recent call last)",
      "\u001b[1;32m<ipython-input-4-6f502efbc5cc>\u001b[0m in \u001b[0;36m<module>\u001b[1;34m\u001b[0m\n\u001b[0;32m      9\u001b[0m \u001b[1;32mfrom\u001b[0m \u001b[0mcollections\u001b[0m \u001b[1;32mimport\u001b[0m \u001b[0mCounter\u001b[0m\u001b[1;33m\u001b[0m\u001b[1;33m\u001b[0m\u001b[0m\n\u001b[0;32m     10\u001b[0m \u001b[1;32mfrom\u001b[0m \u001b[0mIPython\u001b[0m\u001b[1;33m.\u001b[0m\u001b[0mcore\u001b[0m\u001b[1;33m.\u001b[0m\u001b[0mdebugger\u001b[0m \u001b[1;32mimport\u001b[0m \u001b[0mset_trace\u001b[0m\u001b[1;33m\u001b[0m\u001b[1;33m\u001b[0m\u001b[0m\n\u001b[1;32m---> 11\u001b[1;33m \u001b[1;32mfrom\u001b[0m \u001b[0mapp\u001b[0m\u001b[1;33m.\u001b[0m\u001b[0mmodels\u001b[0m \u001b[1;32mimport\u001b[0m \u001b[0mCustomEmailUser\u001b[0m\u001b[1;33m,\u001b[0m \u001b[0mProfile\u001b[0m\u001b[1;33m,\u001b[0m \u001b[0mHashtag\u001b[0m\u001b[1;33m,\u001b[0m \u001b[0mBrand\u001b[0m\u001b[1;33m,\u001b[0m \u001b[0mFeed\u001b[0m\u001b[1;33m,\u001b[0m \u001b[0mChannel\u001b[0m\u001b[1;33m\u001b[0m\u001b[1;33m\u001b[0m\u001b[0m\n\u001b[0m\u001b[0;32m     12\u001b[0m \u001b[1;33m\u001b[0m\u001b[0m\n\u001b[0;32m     13\u001b[0m \u001b[1;32mfrom\u001b[0m \u001b[0mtqdm\u001b[0m\u001b[1;33m.\u001b[0m\u001b[0mauto\u001b[0m \u001b[1;32mimport\u001b[0m \u001b[0mtqdm\u001b[0m\u001b[1;33m\u001b[0m\u001b[1;33m\u001b[0m\u001b[0m\n",
      "\u001b[1;32m~\\Documents\\GitHub\\bmatch\\app\\models.py\u001b[0m in \u001b[0;36m<module>\u001b[1;34m\u001b[0m\n\u001b[1;32m----> 1\u001b[1;33m \u001b[1;32mfrom\u001b[0m \u001b[0mdjango\u001b[0m\u001b[1;33m.\u001b[0m\u001b[0mdb\u001b[0m \u001b[1;32mimport\u001b[0m \u001b[0mmodels\u001b[0m\u001b[1;33m\u001b[0m\u001b[1;33m\u001b[0m\u001b[0m\n\u001b[0m\u001b[0;32m      2\u001b[0m \u001b[1;32mfrom\u001b[0m \u001b[0mdjango\u001b[0m\u001b[1;33m.\u001b[0m\u001b[0mconf\u001b[0m \u001b[1;32mimport\u001b[0m \u001b[0msettings\u001b[0m\u001b[1;33m\u001b[0m\u001b[1;33m\u001b[0m\u001b[0m\n\u001b[0;32m      3\u001b[0m \u001b[1;32mfrom\u001b[0m \u001b[0mdjango\u001b[0m\u001b[1;33m.\u001b[0m\u001b[0murls\u001b[0m \u001b[1;32mimport\u001b[0m \u001b[0mreverse_lazy\u001b[0m\u001b[1;33m\u001b[0m\u001b[1;33m\u001b[0m\u001b[0m\n\u001b[0;32m      4\u001b[0m \u001b[1;31m# from django.core.urlresolvers import reverse_lazy\u001b[0m\u001b[1;33m\u001b[0m\u001b[1;33m\u001b[0m\u001b[1;33m\u001b[0m\u001b[0m\n\u001b[0;32m      5\u001b[0m \u001b[1;32mimport\u001b[0m \u001b[0mjson\u001b[0m\u001b[1;33m\u001b[0m\u001b[1;33m\u001b[0m\u001b[0m\n",
      "\u001b[1;31mModuleNotFoundError\u001b[0m: No module named 'django'"
     ]
    }
   ],
   "source": [
    "import requests\n",
    "import pandas as pd\n",
    "import numpy as np\n",
    "import json\n",
    "import os\n",
    "import glob\n",
    "import re\n",
    "import time\n",
    "from collections import Counter\n",
    "from IPython.core.debugger import set_trace\n",
    "from app.models import CustomEmailUser, Profile, Hashtag, Brand, Feed, Channel\n",
    "\n",
    "from tqdm.auto import tqdm\n",
    "tqdm.pandas()"
   ]
  },
  {
   "cell_type": "markdown",
   "metadata": {},
   "source": [
    "# DB 초기화"
   ]
  },
  {
   "cell_type": "code",
   "execution_count": 3,
   "metadata": {},
   "outputs": [
    {
     "data": {
      "text/plain": [
       "'helinox.png'"
      ]
     },
     "execution_count": 3,
     "metadata": {},
     "output_type": "execute_result"
    }
   ],
   "source": [
    "def get_logo_fname(bname, where):\n",
    "    try:\n",
    "        return glob.glob(where + '/' + bname + '.*')[0].split('\\\\')[-1]\n",
    "    except:\n",
    "        return 'need file.jpg'\n",
    "    \n",
    "get_logo_fname('helinox', 'uploads/brand_images')"
   ]
  },
  {
   "cell_type": "code",
   "execution_count": 2,
   "metadata": {},
   "outputs": [],
   "source": []
  },
  {
   "cell_type": "code",
   "execution_count": null,
   "metadata": {},
   "outputs": [],
   "source": []
  },
  {
   "cell_type": "code",
   "execution_count": null,
   "metadata": {},
   "outputs": [],
   "source": []
  },
  {
   "cell_type": "code",
   "execution_count": null,
   "metadata": {},
   "outputs": [],
   "source": []
  },
  {
   "cell_type": "code",
   "execution_count": null,
   "metadata": {},
   "outputs": [],
   "source": []
  },
  {
   "cell_type": "code",
   "execution_count": 5,
   "metadata": {},
   "outputs": [],
   "source": [
    "Brand.objects.all().delete();\n",
    "Channel.objects.all().delete();\n",
    "CustomEmailUser.objects.all().delete();\n",
    "Profile.objects.all().delete();\n",
    "Hashtag.objects.all().delete();\n",
    "Feed.objects.all().delete();"
   ]
  },
  {
   "cell_type": "code",
   "execution_count": 6,
   "metadata": {},
   "outputs": [
    {
     "data": {
      "application/vnd.jupyter.widget-view+json": {
       "model_id": "9bbd5db63cd14478b0d3f9f677246636",
       "version_major": 2,
       "version_minor": 0
      },
      "text/plain": [
       "HBox(children=(IntProgress(value=0, max=324), HTML(value='')))"
      ]
     },
     "metadata": {},
     "output_type": "display_data"
    },
    {
     "name": "stdout",
     "output_type": "stream",
     "text": [
      "\n"
     ]
    }
   ],
   "source": [
    "bulk_brand = []\n",
    "ibrands = list(pd.read_excel('data/keywords and logos.xlsx', sheet_name='20190430').itertuples())[3:]\n",
    "\n",
    "for i, row in enumerate(tqdm(sorted(ibrands, key=lambda x:x.shortname)[::-1])):\n",
    "    obj = Brand()\n",
    "    obj.id = i+1\n",
    "    obj.name = row.shortname\n",
    "    obj.fullname_kr = row.koname\n",
    "    obj.fullname_en = row.fullname\n",
    "    obj.keywords = row.keywords\n",
    "    # obj.website = row.website\n",
    "    obj.origin = row.origin\n",
    "    obj.awareness = row.awareness\n",
    "    obj.category = row.category.lower()\n",
    "    obj.description = ''\n",
    "    # obj.history = ''\n",
    "    obj.image = os.path.join('brand_images', get_logo_fname(row.shortname, 'uploads/brand_images'))\n",
    "    bulk_brand.append(obj)\n",
    "    \n",
    "Brand.objects.bulk_create(bulk_brand);"
   ]
  },
  {
   "cell_type": "code",
   "execution_count": 7,
   "metadata": {},
   "outputs": [
    {
     "data": {
      "application/vnd.jupyter.widget-view+json": {
       "model_id": "f16628341c2c4e8aa788528453ce9406",
       "version_major": 2,
       "version_minor": 0
      },
      "text/plain": [
       "HBox(children=(IntProgress(value=0, max=324), HTML(value='')))"
      ]
     },
     "metadata": {},
     "output_type": "display_data"
    },
    {
     "name": "stdout",
     "output_type": "stream",
     "text": [
      "\n"
     ]
    }
   ],
   "source": [
    "bulk_channel = []\n",
    "for i, br in enumerate(tqdm(bulk_brand)):\n",
    "    obj = Channel()\n",
    "    obj.id = i+1\n",
    "    obj.content = br\n",
    "    bulk_channel.append(obj)\n",
    "    \n",
    "Channel.objects.bulk_create(bulk_channel);"
   ]
  },
  {
   "cell_type": "code",
   "execution_count": 22,
   "metadata": {},
   "outputs": [],
   "source": []
  },
  {
   "cell_type": "code",
   "execution_count": 14,
   "metadata": {},
   "outputs": [],
   "source": []
  },
  {
   "cell_type": "code",
   "execution_count": 8,
   "metadata": {},
   "outputs": [],
   "source": [
    "users = None\n",
    "with open('users.json', encoding='UTF-8-sig') as f:\n",
    "    users = json.load(f)"
   ]
  },
  {
   "cell_type": "code",
   "execution_count": 9,
   "metadata": {},
   "outputs": [
    {
     "data": {
      "application/vnd.jupyter.widget-view+json": {
       "model_id": "7015e3918d5240ff86c244f0cb49581b",
       "version_major": 2,
       "version_minor": 0
      },
      "text/plain": [
       "HBox(children=(IntProgress(value=0, max=8872), HTML(value='')))"
      ]
     },
     "metadata": {},
     "output_type": "display_data"
    },
    {
     "name": "stdout",
     "output_type": "stream",
     "text": [
      "\n"
     ]
    }
   ],
   "source": [
    "bulk_emailuser = []\n",
    "for _id, _user in tqdm(users.items()):\n",
    "    obj = CustomEmailUser()\n",
    "    obj.id = _id\n",
    "    obj.email = _user['user'] + '@getch.com'\n",
    "    bulk_emailuser.append(obj)\n",
    "    \n",
    "CustomEmailUser.objects.bulk_create(bulk_emailuser);"
   ]
  },
  {
   "cell_type": "code",
   "execution_count": 25,
   "metadata": {},
   "outputs": [
    {
     "data": {
      "application/vnd.jupyter.widget-view+json": {
       "model_id": "4c5243c0058f4e69b131baea0c4a791c",
       "version_major": 2,
       "version_minor": 0
      },
      "text/plain": [
       "HBox(children=(IntProgress(value=0, max=8872), HTML(value='')))"
      ]
     },
     "metadata": {},
     "output_type": "display_data"
    },
    {
     "name": "stdout",
     "output_type": "stream",
     "text": [
      "\n"
     ]
    }
   ],
   "source": [
    "bulk_profile = []\n",
    "for i, (_id, _user) in enumerate(tqdm(list(users.items())[:])):\n",
    "    obj = Profile()\n",
    "    obj.id = _id\n",
    "    obj.user = bulk_emailuser[i]\n",
    "    obj.image = 'profile_images/' + _user['user'] + '@getch.com' + '/' + _user['profile_image'].split('/')[-1]\n",
    "    bulk_profile.append(obj)\n",
    "    \n",
    "Profile.objects.bulk_create(bulk_profile);\n",
    "# Profile.objects.bulk_update(bulk_profile, ['image']);"
   ]
  },
  {
   "cell_type": "code",
   "execution_count": 11,
   "metadata": {},
   "outputs": [],
   "source": [
    "hashtags = None\n",
    "with open('hashtags.json', encoding='UTF-8-sig') as f:\n",
    "    hashtags = json.load(f)"
   ]
  },
  {
   "cell_type": "code",
   "execution_count": 12,
   "metadata": {},
   "outputs": [
    {
     "data": {
      "text/plain": [
       "'바보'"
      ]
     },
     "execution_count": 12,
     "metadata": {},
     "output_type": "execute_result"
    }
   ],
   "source": [
    "EMOJI = r'[\\U00010000-\\U0010ffff]'\n",
    "re.sub(EMOJI, '', '바보')"
   ]
  },
  {
   "cell_type": "code",
   "execution_count": 13,
   "metadata": {},
   "outputs": [
    {
     "data": {
      "application/vnd.jupyter.widget-view+json": {
       "model_id": "326086428dc24f8e8a98b210d9ce5a82",
       "version_major": 2,
       "version_minor": 0
      },
      "text/plain": [
       "HBox(children=(IntProgress(value=0, max=21662), HTML(value='')))"
      ]
     },
     "metadata": {},
     "output_type": "display_data"
    },
    {
     "name": "stdout",
     "output_type": "stream",
     "text": [
      "\n"
     ]
    }
   ],
   "source": [
    "bulk_hashtags = []\n",
    "\n",
    "for i, _tag in enumerate(tqdm(hashtags)):\n",
    "    obj = Hashtag()\n",
    "    obj.id = i+1\n",
    "    _tag = re.sub(EMOJI, '', _tag) # MySQL에서는 이모티콘 저장이 잘 안된다. 아예 지워버리자...\n",
    "    \n",
    "    if _tag != '':\n",
    "        obj.hashtag = _tag\n",
    "        bulk_hashtags.append(obj)"
   ]
  },
  {
   "cell_type": "code",
   "execution_count": 14,
   "metadata": {},
   "outputs": [],
   "source": [
    "Hashtag.objects.bulk_create(bulk_hashtags);"
   ]
  },
  {
   "cell_type": "code",
   "execution_count": null,
   "metadata": {},
   "outputs": [],
   "source": []
  },
  {
   "cell_type": "code",
   "execution_count": 15,
   "metadata": {},
   "outputs": [],
   "source": [
    "channels_dict = {ch.content.name:ch.pk for ch in bulk_channel}"
   ]
  },
  {
   "cell_type": "code",
   "execution_count": 16,
   "metadata": {},
   "outputs": [],
   "source": [
    "profile_dict = {pr.user.email:pr for pr in bulk_profile}"
   ]
  },
  {
   "cell_type": "code",
   "execution_count": 17,
   "metadata": {},
   "outputs": [],
   "source": [
    "hashtags_dict = {ht.hashtag:ht.pk for ht in bulk_hashtags}"
   ]
  },
  {
   "cell_type": "code",
   "execution_count": null,
   "metadata": {},
   "outputs": [],
   "source": []
  },
  {
   "cell_type": "code",
   "execution_count": 3,
   "metadata": {},
   "outputs": [],
   "source": [
    "feeds = None\n",
    "with open('feeds.json', encoding='UTF-8-sig') as f:\n",
    "    feeds = json.load(f)"
   ]
  },
  {
   "cell_type": "code",
   "execution_count": 5,
   "metadata": {},
   "outputs": [],
   "source": [
    "feeds;"
   ]
  },
  {
   "cell_type": "code",
   "execution_count": null,
   "metadata": {},
   "outputs": [],
   "source": []
  },
  {
   "cell_type": "code",
   "execution_count": 17,
   "metadata": {},
   "outputs": [
    {
     "data": {
      "application/vnd.jupyter.widget-view+json": {
       "model_id": "125ed3e5a1024444a60faba1297b2a54",
       "version_major": 2,
       "version_minor": 0
      },
      "text/plain": [
       "HBox(children=(IntProgress(value=0, max=46960), HTML(value='')))"
      ]
     },
     "metadata": {},
     "output_type": "display_data"
    },
    {
     "name": "stdout",
     "output_type": "stream",
     "text": [
      "\n"
     ]
    }
   ],
   "source": [
    "bulk_feeds = []\n",
    "\n",
    "for i, _feed in enumerate(tqdm(feeds[:])):\n",
    "    obj = Feed()\n",
    "    obj.id = i+1\n",
    "    # obj.membership = brand_dict[_feed['membership']] # 이렇게 foreignkey가 들어가려면, 해당 필드의 id가 있어야 하는듯 하다 (확인은 안됨)\n",
    "    obj.author = profile_dict[_feed['author']+'@getch.com']\n",
    "    obj.timestamp = str(pd.Timestamp(_feed['created_at']).tz_localize(None))\n",
    "    obj.nlikes = _feed['nlikes']\n",
    "    obj.content = re.sub(EMOJI, '', _feed['content'])\n",
    "    \n",
    "    if 'feed_image' in _feed:\n",
    "        # pass\n",
    "        # _feed[membership] 부분은, page가 여러개 있는 경우 - 로 연결하는 걸로: nike-adidas-custompage 등\n",
    "        obj.image = 'feed_images/' + _feed['membership'] + '/' + _feed['author'] + '@getch.com' + '/' + _feed['feed_image'].split('/')[-1]\n",
    "    \n",
    "    bulk_feeds.append(obj)"
   ]
  },
  {
   "cell_type": "code",
   "execution_count": 18,
   "metadata": {},
   "outputs": [],
   "source": [
    "Feed.objects.bulk_update(bulk_feeds, ['timestamp']);\n",
    "# Feed.objects.bulk_update(bulk_feeds, ['image']);\n",
    "# Feed.objects.bulk_create(bulk_feeds);"
   ]
  },
  {
   "cell_type": "code",
   "execution_count": null,
   "metadata": {},
   "outputs": [],
   "source": []
  },
  {
   "cell_type": "code",
   "execution_count": 21,
   "metadata": {},
   "outputs": [
    {
     "data": {
      "application/vnd.jupyter.widget-view+json": {
       "model_id": "01fae6f54c4f4d9cb542a04d4de5602d",
       "version_major": 2,
       "version_minor": 0
      },
      "text/plain": [
       "HBox(children=(IntProgress(value=0, max=46960), HTML(value='')))"
      ]
     },
     "metadata": {},
     "output_type": "display_data"
    },
    {
     "name": "stdout",
     "output_type": "stream",
     "text": [
      "\n"
     ]
    }
   ],
   "source": [
    "FeedHashtagsRelation = Feed.hashtags.through\n",
    "\n",
    "relations = []\n",
    "for i, _feed in enumerate(tqdm(feeds)):\n",
    "    for ht in _feed['hashtags']:\n",
    "        ht = re.sub(EMOJI, '', ht)\n",
    "        if ht != '':\n",
    "            relations.append(FeedHashtagsRelation(feed_id=i+1, hashtag_id=hashtags_dict[ht]))\n",
    "            \n",
    "FeedHashtagsRelation.objects.bulk_create(relations);"
   ]
  },
  {
   "cell_type": "code",
   "execution_count": 23,
   "metadata": {},
   "outputs": [
    {
     "data": {
      "application/vnd.jupyter.widget-view+json": {
       "model_id": "babb77ba84c84182bf4ad0d411bbacaf",
       "version_major": 2,
       "version_minor": 0
      },
      "text/plain": [
       "HBox(children=(IntProgress(value=0, max=46960), HTML(value='')))"
      ]
     },
     "metadata": {},
     "output_type": "display_data"
    },
    {
     "name": "stdout",
     "output_type": "stream",
     "text": [
      "\n"
     ]
    }
   ],
   "source": [
    "FeedChannelsRelation = Feed.channels.through\n",
    "\n",
    "relations = []\n",
    "for i, _feed in enumerate(tqdm(feeds)):\n",
    "    relations.append(FeedChannelsRelation(feed_id=i+1, channel_id=channels_dict[_feed['membership']]))\n",
    "            \n",
    "FeedChannelsRelation.objects.bulk_create(relations);"
   ]
  },
  {
   "cell_type": "code",
   "execution_count": null,
   "metadata": {},
   "outputs": [],
   "source": []
  },
  {
   "cell_type": "code",
   "execution_count": null,
   "metadata": {},
   "outputs": [],
   "source": []
  },
  {
   "cell_type": "code",
   "execution_count": null,
   "metadata": {},
   "outputs": [],
   "source": []
  },
  {
   "cell_type": "code",
   "execution_count": null,
   "metadata": {},
   "outputs": [],
   "source": []
  },
  {
   "cell_type": "code",
   "execution_count": 52,
   "metadata": {},
   "outputs": [],
   "source": [
    "worldcup = {'nike-adidas':'nike', '8seconds-zara':'zara', 'nike-puma':'puma'}"
   ]
  },
  {
   "cell_type": "code",
   "execution_count": 9,
   "metadata": {},
   "outputs": [],
   "source": [
    "with open('db_init.json', encoding='UTF-8-sig') as f:\n",
    "    db = json.load(f)\n",
    "    ids = {b['fields']['name']:b['fields']['identity'] for b in db}"
   ]
  },
  {
   "cell_type": "code",
   "execution_count": 27,
   "metadata": {},
   "outputs": [],
   "source": [
    "get_id = lambda bname: {i['key']:i['value'] for i in json.loads(ids[bname])}"
   ]
  },
  {
   "cell_type": "code",
   "execution_count": 50,
   "metadata": {},
   "outputs": [],
   "source": [
    "def idmix(**weights):\n",
    "    score = {}\n",
    "    for bname, w in weights.items():\n",
    "        for k,v in get_id(bname).items():\n",
    "            score[k] = score[k] + v*w if k in score else v*w\n",
    "            \n",
    "    score_sum = sum(score.values())\n",
    "    return {k:v/score_sum for k,v in score.items()}"
   ]
  },
  {
   "cell_type": "code",
   "execution_count": 53,
   "metadata": {},
   "outputs": [
    {
     "data": {
      "text/plain": [
       "{'럭셔리-캐주얼': 0.15265017667844524,\n",
       " '유니크-대중성': 0.15477031802120142,\n",
       " '정통성-트렌디': 0.058657243816254416,\n",
       " '포멀-화제성': 0.6339222614840989}"
      ]
     },
     "execution_count": 53,
     "metadata": {},
     "output_type": "execute_result"
    }
   ],
   "source": [
    "idmix(**weighting(worldcup))"
   ]
  },
  {
   "cell_type": "code",
   "execution_count": 45,
   "metadata": {},
   "outputs": [],
   "source": [
    "def weighting(compares, like=2, morelike=3):\n",
    "    weights = {}\n",
    "    for pair,selected in compares.items():\n",
    "        for b in pair.split('-'):\n",
    "            add = like if b==selected else 1\n",
    "            weights[b] = weights[b] + add if b in weights else add\n",
    "    return weights"
   ]
  },
  {
   "cell_type": "code",
   "execution_count": 46,
   "metadata": {},
   "outputs": [
    {
     "data": {
      "text/plain": [
       "{'nike': 3, 'adidas': 1, '8seconds': 1, 'jara': 2, 'puma': 2}"
      ]
     },
     "execution_count": 46,
     "metadata": {},
     "output_type": "execute_result"
    }
   ],
   "source": [
    "weighting(worldcup)"
   ]
  },
  {
   "cell_type": "code",
   "execution_count": null,
   "metadata": {},
   "outputs": [],
   "source": []
  },
  {
   "cell_type": "code",
   "execution_count": null,
   "metadata": {},
   "outputs": [],
   "source": []
  },
  {
   "cell_type": "code",
   "execution_count": 27,
   "metadata": {},
   "outputs": [
    {
     "data": {
      "text/plain": [
       "datetime.datetime(2019, 1, 1, 0, 10, 42)"
      ]
     },
     "execution_count": 27,
     "metadata": {},
     "output_type": "execute_result"
    }
   ],
   "source": [
    "Feed.objects.order_by('timestamp').first().timestamp"
   ]
  },
  {
   "cell_type": "code",
   "execution_count": 32,
   "metadata": {},
   "outputs": [
    {
     "data": {
      "text/plain": [
       "Timestamp('2019-08-14 18:07:07.261770')"
      ]
     },
     "execution_count": 32,
     "metadata": {},
     "output_type": "execute_result"
    }
   ],
   "source": [
    "pd.Timestamp.now().tz_localize(None)"
   ]
  },
  {
   "cell_type": "code",
   "execution_count": 58,
   "metadata": {},
   "outputs": [
    {
     "data": {
      "text/plain": [
       "datetime.date(2019, 3, 19)"
      ]
     },
     "execution_count": 58,
     "metadata": {},
     "output_type": "execute_result"
    }
   ],
   "source": [
    "_from = (pd.Timestamp(Feed.objects.order_by('timestamp').last().timestamp) - pd.DateOffset(months=3)).date(); _from"
   ]
  },
  {
   "cell_type": "code",
   "execution_count": 65,
   "metadata": {},
   "outputs": [],
   "source": [
    "test = Feed.objects.filter(timestamp__date__gte=_from).order_by('timestamp')"
   ]
  },
  {
   "cell_type": "code",
   "execution_count": 66,
   "metadata": {},
   "outputs": [
    {
     "data": {
      "text/plain": [
       "datetime.date(2019, 3, 19)"
      ]
     },
     "execution_count": 66,
     "metadata": {},
     "output_type": "execute_result"
    }
   ],
   "source": [
    "list(test)[0].timestamp.date()"
   ]
  },
  {
   "cell_type": "code",
   "execution_count": 67,
   "metadata": {},
   "outputs": [
    {
     "data": {
      "text/plain": [
       "datetime.date(2019, 6, 19)"
      ]
     },
     "execution_count": 67,
     "metadata": {},
     "output_type": "execute_result"
    }
   ],
   "source": [
    "list(test)[-1].timestamp.date()"
   ]
  },
  {
   "cell_type": "code",
   "execution_count": 80,
   "metadata": {
    "collapsed": true
   },
   "outputs": [
    {
     "data": {
      "text/plain": [
       "[('toms', 5295),\n",
       " ('아미', 2306),\n",
       " ('콜롬비아', 1839),\n",
       " ('축구', 1783),\n",
       " ('한국', 1759),\n",
       " ('친선경기', 1749),\n",
       " ('이명박', 1744),\n",
       " ('토스', 1743),\n",
       " ('김우빈', 1743),\n",
       " ('꽁머니', 1743),\n",
       " ('신태용', 1743),\n",
       " ('재충전', 1743),\n",
       " ('트럼프', 1743),\n",
       " ('첫충전', 1743),\n",
       " ('방탄소년단', 1437),\n",
       " ('BTS', 981),\n",
       " ('동국제강', 879),\n",
       " ('홍콩명품쇼핑몰', 803),\n",
       " ('system', 736),\n",
       " ('Goat', 730),\n",
       " ('cherry', 692),\n",
       " ('언더커버', 638),\n",
       " ('루이비통', 573),\n",
       " ('에이스', 569),\n",
       " ('ACE', 564),\n",
       " ('Day7', 460),\n",
       " ('강다니엘', 458),\n",
       " ('박보검', 413),\n",
       " ('샤넬', 406),\n",
       " ('아이더', 401),\n",
       " ('브이티', 396),\n",
       " ('VT', 388),\n",
       " ('브이티코스메틱', 362),\n",
       " ('ARMY', 362),\n",
       " ('아디다스', 360),\n",
       " ('방탄', 352),\n",
       " ('구찌', 336),\n",
       " ('명품', 332),\n",
       " ('VTCOSMETICS', 316),\n",
       " ('UNDERCOVER', 311),\n",
       " ('디올', 308),\n",
       " ('나이키', 293),\n",
       " ('VTXBTS', 283),\n",
       " ('로렉스', 279),\n",
       " ('황민현', 263),\n",
       " ('프라다', 247),\n",
       " ('LouisVuitton', 245),\n",
       " ('VT팝업스토어', 240),\n",
       " ('민현', 237),\n",
       " ('부산', 236),\n",
       " ('아미트친소', 229),\n",
       " ('겟잇케이', 225),\n",
       " ('신발', 225),\n",
       " ('에르메스', 224),\n",
       " ('정국', 213),\n",
       " ('발렌시아가', 213),\n",
       " ('머스터', 211),\n",
       " ('레디메이드', 210),\n",
       " ('양도', 205),\n",
       " ('맞팔', 202),\n",
       " ('광주', 202),\n",
       " ('지갑', 197),\n",
       " ('가방', 196),\n",
       " ('nike', 191),\n",
       " ('KangDaniel', 191),\n",
       " ('bts', 188),\n",
       " ('VTXBTS팝업스토어', 177),\n",
       " ('강남', 177),\n",
       " ('구두', 176),\n",
       " ('파텍필립', 175),\n",
       " ('체리', 172),\n",
       " ('위너', 169),\n",
       " ('강유찬', 168),\n",
       " ('젠틀몬스터', 159),\n",
       " ('qww54', 159),\n",
       " ('EIDER', 158),\n",
       " ('몽클레르', 158),\n",
       " ('adidas', 156),\n",
       " ('엘르', 156),\n",
       " ('찬열', 155),\n",
       " ('공항패션', 153),\n",
       " ('참스', 153),\n",
       " ('동국제강ㅊ', 149),\n",
       " ('찬', 147),\n",
       " ('뉴이스트', 146),\n",
       " ('동국제강ㅌ', 144),\n",
       " ('동국제강ㅍ', 143),\n",
       " ('동국제강ㅜ', 143),\n",
       " ('동국제강ㅡ', 143),\n",
       " ('동국제강ㅠ', 142),\n",
       " ('오프화이트', 137),\n",
       " ('톰브라운', 136),\n",
       " ('지방시', 136),\n",
       " ('CHANYEOL', 130),\n",
       " ('김병관', 130),\n",
       " ('EXO', 123),\n",
       " ('army', 121),\n",
       " ('HwangMinhyun', 121),\n",
       " ('서울패션위크', 118),\n",
       " ('朴寶劍', 116)]"
      ]
     },
     "execution_count": 80,
     "metadata": {},
     "output_type": "execute_result"
    }
   ],
   "source": [
    "Counter(Hashtag.objects.filter(feed__timestamp__date__gte=_from).values_list('hashtag', flat=True)).most_common(100)"
   ]
  },
  {
   "cell_type": "code",
   "execution_count": 90,
   "metadata": {},
   "outputs": [],
   "source": [
    "kkk = Feed.objects.filter(hashtags__hashtag='toms').exclude(content__contains='카지노')"
   ]
  },
  {
   "cell_type": "code",
   "execution_count": 91,
   "metadata": {},
   "outputs": [
    {
     "data": {
      "text/plain": [
       "0"
      ]
     },
     "execution_count": 91,
     "metadata": {},
     "output_type": "execute_result"
    }
   ],
   "source": [
    "len(kkk.values_list('content', flat=True))"
   ]
  },
  {
   "cell_type": "code",
   "execution_count": 1,
   "metadata": {},
   "outputs": [],
   "source": [
    "import imghdr"
   ]
  },
  {
   "cell_type": "code",
   "execution_count": 20,
   "metadata": {},
   "outputs": [],
   "source": [
    "adr = 'uploads/feed_images/adidas/PatatoSweet@getch.com/D88gnyJWkAALLgO.jpg'\n",
    "# adr = 'uploads/feed_images/adidas/_aka_kei@getch.com/4LxJR6b6he1PoeiK'"
   ]
  },
  {
   "cell_type": "code",
   "execution_count": 22,
   "metadata": {},
   "outputs": [
    {
     "data": {
      "text/plain": [
       "True"
      ]
     },
     "execution_count": 22,
     "metadata": {},
     "output_type": "execute_result"
    }
   ],
   "source": [
    "imghdr.what(adr)==None"
   ]
  },
  {
   "cell_type": "code",
   "execution_count": null,
   "metadata": {},
   "outputs": [],
   "source": []
  }
 ],
 "metadata": {
  "kernelspec": {
   "display_name": "Django Shell-Plus",
   "language": "python",
   "name": "django_extensions"
  },
  "language_info": {
   "codemirror_mode": {
    "name": "ipython",
    "version": 3
   },
   "file_extension": ".py",
   "mimetype": "text/x-python",
   "name": "python",
   "nbconvert_exporter": "python",
   "pygments_lexer": "ipython3",
   "version": "3.7.3"
  }
 },
 "nbformat": 4,
 "nbformat_minor": 2
}
