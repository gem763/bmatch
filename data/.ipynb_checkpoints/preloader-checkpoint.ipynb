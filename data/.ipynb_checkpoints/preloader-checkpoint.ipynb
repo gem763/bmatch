{
 "cells": [
  {
   "cell_type": "code",
   "execution_count": 6,
   "metadata": {},
   "outputs": [
    {
     "ename": "AppRegistryNotReady",
     "evalue": "Apps aren't loaded yet.",
     "output_type": "error",
     "traceback": [
      "\u001b[1;31m---------------------------------------------------------------------------\u001b[0m",
      "\u001b[1;31mAppRegistryNotReady\u001b[0m                       Traceback (most recent call last)",
      "\u001b[1;32m<ipython-input-6-7f9b9eb9dcd6>\u001b[0m in \u001b[0;36m<module>\u001b[1;34m\u001b[0m\n\u001b[0;32m      6\u001b[0m \u001b[1;32mimport\u001b[0m \u001b[0mtime\u001b[0m\u001b[1;33m\u001b[0m\u001b[1;33m\u001b[0m\u001b[0m\n\u001b[0;32m      7\u001b[0m \u001b[1;32mfrom\u001b[0m \u001b[0mtwython\u001b[0m \u001b[1;32mimport\u001b[0m \u001b[0mTwython\u001b[0m\u001b[1;33m,\u001b[0m \u001b[0mTwythonRateLimitError\u001b[0m\u001b[1;33m,\u001b[0m \u001b[0mTwythonError\u001b[0m\u001b[1;33m\u001b[0m\u001b[1;33m\u001b[0m\u001b[0m\n\u001b[1;32m----> 8\u001b[1;33m \u001b[1;32mfrom\u001b[0m \u001b[0mapp\u001b[0m\u001b[1;33m.\u001b[0m\u001b[0mmodels\u001b[0m \u001b[1;32mimport\u001b[0m \u001b[0mBrand\u001b[0m\u001b[1;33m,\u001b[0m \u001b[0mProfile\u001b[0m\u001b[1;33m,\u001b[0m \u001b[0mHashtag\u001b[0m\u001b[1;33m\u001b[0m\u001b[1;33m\u001b[0m\u001b[0m\n\u001b[0m\u001b[0;32m      9\u001b[0m \u001b[1;32mfrom\u001b[0m \u001b[0mcustom_user\u001b[0m\u001b[1;33m.\u001b[0m\u001b[0mmodels\u001b[0m \u001b[1;32mimport\u001b[0m \u001b[0mEmailUser\u001b[0m\u001b[1;33m\u001b[0m\u001b[1;33m\u001b[0m\u001b[0m\n\u001b[0;32m     10\u001b[0m \u001b[1;31m# from tqdm import tqdm_notebook\u001b[0m\u001b[1;33m\u001b[0m\u001b[1;33m\u001b[0m\u001b[1;33m\u001b[0m\u001b[0m\n",
      "\u001b[1;32m~\\Documents\\GitHub\\bmatch\\app\\models.py\u001b[0m in \u001b[0;36m<module>\u001b[1;34m\u001b[0m\n\u001b[0;32m     11\u001b[0m \u001b[1;33m\u001b[0m\u001b[0m\n\u001b[0;32m     12\u001b[0m \u001b[1;33m\u001b[0m\u001b[0m\n\u001b[1;32m---> 13\u001b[1;33m \u001b[1;32mclass\u001b[0m \u001b[0mOption\u001b[0m\u001b[1;33m(\u001b[0m\u001b[0mmodels\u001b[0m\u001b[1;33m.\u001b[0m\u001b[0mModel\u001b[0m\u001b[1;33m)\u001b[0m\u001b[1;33m:\u001b[0m\u001b[1;33m\u001b[0m\u001b[1;33m\u001b[0m\u001b[0m\n\u001b[0m\u001b[0;32m     14\u001b[0m     idwords_default = [\n\u001b[0;32m     15\u001b[0m         {\"럭셔리\": \"럭셔리 고급 호화 과시 명품 luxury 비싼 고가 expensive pricy pricey\",\n",
      "\u001b[1;32m~\\Documents\\GitHub\\bmatch\\venv\\lib\\site-packages\\django\\db\\models\\base.py\u001b[0m in \u001b[0;36m__new__\u001b[1;34m(cls, name, bases, attrs, **kwargs)\u001b[0m\n\u001b[0;32m    101\u001b[0m \u001b[1;33m\u001b[0m\u001b[0m\n\u001b[0;32m    102\u001b[0m         \u001b[1;31m# Look for an application configuration to attach the model to.\u001b[0m\u001b[1;33m\u001b[0m\u001b[1;33m\u001b[0m\u001b[1;33m\u001b[0m\u001b[0m\n\u001b[1;32m--> 103\u001b[1;33m         \u001b[0mapp_config\u001b[0m \u001b[1;33m=\u001b[0m \u001b[0mapps\u001b[0m\u001b[1;33m.\u001b[0m\u001b[0mget_containing_app_config\u001b[0m\u001b[1;33m(\u001b[0m\u001b[0mmodule\u001b[0m\u001b[1;33m)\u001b[0m\u001b[1;33m\u001b[0m\u001b[1;33m\u001b[0m\u001b[0m\n\u001b[0m\u001b[0;32m    104\u001b[0m \u001b[1;33m\u001b[0m\u001b[0m\n\u001b[0;32m    105\u001b[0m         \u001b[1;32mif\u001b[0m \u001b[0mgetattr\u001b[0m\u001b[1;33m(\u001b[0m\u001b[0mmeta\u001b[0m\u001b[1;33m,\u001b[0m \u001b[1;34m'app_label'\u001b[0m\u001b[1;33m,\u001b[0m \u001b[1;32mNone\u001b[0m\u001b[1;33m)\u001b[0m \u001b[1;32mis\u001b[0m \u001b[1;32mNone\u001b[0m\u001b[1;33m:\u001b[0m\u001b[1;33m\u001b[0m\u001b[1;33m\u001b[0m\u001b[0m\n",
      "\u001b[1;32m~\\Documents\\GitHub\\bmatch\\venv\\lib\\site-packages\\django\\apps\\registry.py\u001b[0m in \u001b[0;36mget_containing_app_config\u001b[1;34m(self, object_name)\u001b[0m\n\u001b[0;32m    250\u001b[0m         \u001b[0mReturn\u001b[0m \u001b[1;32mNone\u001b[0m \u001b[1;32mif\u001b[0m \u001b[0mthe\u001b[0m \u001b[0mobject\u001b[0m \u001b[0misn\u001b[0m\u001b[0;31m'\u001b[0m\u001b[0mt\u001b[0m \u001b[1;32min\u001b[0m \u001b[0many\u001b[0m \u001b[0mregistered\u001b[0m \u001b[0mapp\u001b[0m \u001b[0mconfig\u001b[0m\u001b[1;33m.\u001b[0m\u001b[1;33m\u001b[0m\u001b[1;33m\u001b[0m\u001b[0m\n\u001b[0;32m    251\u001b[0m         \"\"\"\n\u001b[1;32m--> 252\u001b[1;33m         \u001b[0mself\u001b[0m\u001b[1;33m.\u001b[0m\u001b[0mcheck_apps_ready\u001b[0m\u001b[1;33m(\u001b[0m\u001b[1;33m)\u001b[0m\u001b[1;33m\u001b[0m\u001b[1;33m\u001b[0m\u001b[0m\n\u001b[0m\u001b[0;32m    253\u001b[0m         \u001b[0mcandidates\u001b[0m \u001b[1;33m=\u001b[0m \u001b[1;33m[\u001b[0m\u001b[1;33m]\u001b[0m\u001b[1;33m\u001b[0m\u001b[1;33m\u001b[0m\u001b[0m\n\u001b[0;32m    254\u001b[0m         \u001b[1;32mfor\u001b[0m \u001b[0mapp_config\u001b[0m \u001b[1;32min\u001b[0m \u001b[0mself\u001b[0m\u001b[1;33m.\u001b[0m\u001b[0mapp_configs\u001b[0m\u001b[1;33m.\u001b[0m\u001b[0mvalues\u001b[0m\u001b[1;33m(\u001b[0m\u001b[1;33m)\u001b[0m\u001b[1;33m:\u001b[0m\u001b[1;33m\u001b[0m\u001b[1;33m\u001b[0m\u001b[0m\n",
      "\u001b[1;32m~\\Documents\\GitHub\\bmatch\\venv\\lib\\site-packages\\django\\apps\\registry.py\u001b[0m in \u001b[0;36mcheck_apps_ready\u001b[1;34m(self)\u001b[0m\n\u001b[0;32m    133\u001b[0m             \u001b[1;31m# exception.\u001b[0m\u001b[1;33m\u001b[0m\u001b[1;33m\u001b[0m\u001b[1;33m\u001b[0m\u001b[0m\n\u001b[0;32m    134\u001b[0m             \u001b[0msettings\u001b[0m\u001b[1;33m.\u001b[0m\u001b[0mINSTALLED_APPS\u001b[0m\u001b[1;33m\u001b[0m\u001b[1;33m\u001b[0m\u001b[0m\n\u001b[1;32m--> 135\u001b[1;33m             \u001b[1;32mraise\u001b[0m \u001b[0mAppRegistryNotReady\u001b[0m\u001b[1;33m(\u001b[0m\u001b[1;34m\"Apps aren't loaded yet.\"\u001b[0m\u001b[1;33m)\u001b[0m\u001b[1;33m\u001b[0m\u001b[1;33m\u001b[0m\u001b[0m\n\u001b[0m\u001b[0;32m    136\u001b[0m \u001b[1;33m\u001b[0m\u001b[0m\n\u001b[0;32m    137\u001b[0m     \u001b[1;32mdef\u001b[0m \u001b[0mcheck_models_ready\u001b[0m\u001b[1;33m(\u001b[0m\u001b[0mself\u001b[0m\u001b[1;33m)\u001b[0m\u001b[1;33m:\u001b[0m\u001b[1;33m\u001b[0m\u001b[1;33m\u001b[0m\u001b[0m\n",
      "\u001b[1;31mAppRegistryNotReady\u001b[0m: Apps aren't loaded yet."
     ]
    }
   ],
   "source": [
    "import pandas as pd\n",
    "from IPython.core.debugger import set_trace\n",
    "import json\n",
    "import re\n",
    "import os\n",
    "import time\n",
    "from twython import Twython, TwythonRateLimitError, TwythonError\n",
    "from app.models import Brand, Profile, Hashtag\n",
    "from custom_user.models import EmailUser\n",
    "from tqdm.autonotebook import tqdm\n",
    "tqdm.pandas()"
   ]
  },
  {
   "cell_type": "markdown",
   "metadata": {},
   "source": [
    "# Scraping"
   ]
  },
  {
   "cell_type": "code",
   "execution_count": 79,
   "metadata": {},
   "outputs": [],
   "source": [
    "df = pd.read_excel('../texcrapy/keywords and logos.xlsx', \n",
    "                   sheet_name='20190304')[['shortname','kw_supporter','kw_supported','keywords']][3:];df\n",
    "_or = lambda kw: ' OR '.join(['#' + k.strip() for k in kw.split(',')])\n",
    "\n",
    "qry_base = {row.shortname:_or(row.keywords) for row in df.itertuples()}\n",
    "supporters = df.shortname[df.kw_supporter==True]\n",
    "qry_sup = ' OR '.join([qry_base[sup] for sup in supporters]); qry_sup\n",
    "qry = {row.shortname: '(' + qry_base[row.shortname] + ') AND (' + qry_sup + ')' if row.kw_supported==True else qry_base[row.shortname] for row in df.itertuples()}"
   ]
  },
  {
   "cell_type": "code",
   "execution_count": 58,
   "metadata": {},
   "outputs": [
    {
     "ename": "NameError",
     "evalue": "name 'texcrapy' is not defined",
     "output_type": "error",
     "traceback": [
      "\u001b[1;31m---------------------------------------------------------------------------\u001b[0m",
      "\u001b[1;31mNameError\u001b[0m                                 Traceback (most recent call last)",
      "\u001b[1;32m<timed exec>\u001b[0m in \u001b[0;36m<module>\u001b[1;34m\u001b[0m\n",
      "\u001b[1;31mNameError\u001b[0m: name 'texcrapy' is not defined"
     ]
    }
   ],
   "source": [
    "%%time\n",
    "what = ['id']#, 'likes', 'text', 'timestamp', 'user']\n",
    "texcrapy.scrap(qry, what=what, lang='ko', start='2019-01-01', end='2019-06-20', download_to='scrapped/getch')"
   ]
  },
  {
   "cell_type": "code",
   "execution_count": null,
   "metadata": {},
   "outputs": [],
   "source": []
  },
  {
   "cell_type": "code",
   "execution_count": 22,
   "metadata": {},
   "outputs": [],
   "source": [
    "from glob import glob\n",
    "glob_pattern = os.path.join('../texcrapy/scrapped/twitter_getch', '*')\n",
    "fnames = glob(glob_pattern)\n",
    "# fnames = ['scrapped/twitter_getch/' + fname for fname in os.listdir('../texcrapy/scrapped/twitter_getch')]"
   ]
  },
  {
   "cell_type": "code",
   "execution_count": 23,
   "metadata": {},
   "outputs": [
    {
     "data": {
      "application/vnd.jupyter.widget-view+json": {
       "model_id": "d45a1ddd77114171bf2a6e2216f8580e",
       "version_major": 2,
       "version_minor": 0
      },
      "text/plain": [
       "HBox(children=(IntProgress(value=0, max=323), HTML(value='')))"
      ]
     },
     "metadata": {},
     "output_type": "display_data"
    },
    {
     "name": "stdout",
     "output_type": "stream",
     "text": [
      "\n"
     ]
    }
   ],
   "source": [
    "tweet_ids = {}\n",
    "for fname in tqdm(fnames[:]):\n",
    "    with open(fname, encoding='UTF-8-sig') as f:\n",
    "        for item, docs in json.load(f).items():\n",
    "            if len(docs) > 0:\n",
    "                tweet_ids[item] = set()\n",
    "                for doc in docs: tweet_ids[item].add(doc['id'])"
   ]
  },
  {
   "cell_type": "code",
   "execution_count": 5,
   "metadata": {},
   "outputs": [],
   "source": [
    "tweet_ids;"
   ]
  },
  {
   "cell_type": "code",
   "execution_count": null,
   "metadata": {},
   "outputs": [],
   "source": []
  },
  {
   "cell_type": "markdown",
   "metadata": {},
   "source": [
    "# 트위터 크롤링 (by ID)"
   ]
  },
  {
   "cell_type": "code",
   "execution_count": 24,
   "metadata": {},
   "outputs": [],
   "source": [
    "CONSUMER_KEY = 'gFeP16lpEBKux4K6GO2LfLEWI'\n",
    "CONSUMER_SECRET = '38yzPyI8vqUqrCV0RLc1ugl8Se1pYA2Nlderk9Rj3DUaE5VTpA'\n",
    "OAUTH_TOKEN = '1085907708413267970-nyk4nvgG9miNTqRmg4jkFnmZfqW254'\n",
    "OAUTH_TOKEN_SECRET = 'ty2TIFFSorxmMKMq0VlqcIWrgqpJqdHBW9z3ye0J4BeL7'\n",
    "\n",
    "twitter = Twython(CONSUMER_KEY, CONSUMER_SECRET, OAUTH_TOKEN, OAUTH_TOKEN_SECRET)"
   ]
  },
  {
   "cell_type": "code",
   "execution_count": 76,
   "metadata": {
    "scrolled": true
   },
   "outputs": [
    {
     "data": {
      "application/vnd.jupyter.widget-view+json": {
       "model_id": "4aec44493ffe493ba4d0dcce4bd7880e",
       "version_major": 2,
       "version_minor": 0
      },
      "text/plain": [
       "HBox(children=(IntProgress(value=0, max=2), HTML(value='')))"
      ]
     },
     "metadata": {},
     "output_type": "display_data"
    },
    {
     "data": {
      "application/vnd.jupyter.widget-view+json": {
       "model_id": "",
       "version_major": 2,
       "version_minor": 0
      },
      "text/plain": [
       "HBox(children=(IntProgress(value=0, max=1), HTML(value='')))"
      ]
     },
     "metadata": {},
     "output_type": "display_data"
    },
    {
     "data": {
      "application/vnd.jupyter.widget-view+json": {
       "model_id": "",
       "version_major": 2,
       "version_minor": 0
      },
      "text/plain": [
       "HBox(children=(IntProgress(value=0, max=19), HTML(value='')))"
      ]
     },
     "metadata": {},
     "output_type": "display_data"
    },
    {
     "name": "stdout",
     "output_type": "stream",
     "text": [
      "\n"
     ]
    }
   ],
   "source": [
    "feeds = []\n",
    "users = set()\n",
    "hashtags = set()\n",
    "\n",
    "def get_hashtags(tweet):\n",
    "    _hashtags = tweet['entities']['hashtags']\n",
    "    \n",
    "    if len(_hashtags) > 0:\n",
    "        return {ht['text'] for ht in _hashtags}\n",
    "    else:\n",
    "        return set()\n",
    "                \n",
    "\n",
    "def get_user(tweet):\n",
    "    _user = tweet['user']\n",
    "    \n",
    "    user = {}\n",
    "    user['user'] = _user['screen_name']\n",
    "\n",
    "    if 'profile_image_url' in _user:\n",
    "        user['profile_image'] = _user['profile_image_url']\n",
    "            \n",
    "    return user\n",
    "        \n",
    "    \n",
    "def get_pix(tweet):\n",
    "    entities = tweet['entities']\n",
    "    \n",
    "    if 'media' in entities:\n",
    "        media = entities['media']\n",
    "        \n",
    "        if len(media) > 0:\n",
    "            _media = media[0]\n",
    "            \n",
    "            if 'media_url' in _media:\n",
    "                return _media['media_url']\n",
    "            \n",
    "    return None\n",
    "    \n",
    "\n",
    "def get_feed(tweet, bname, hashtags):\n",
    "    feed = {\n",
    "        'membership': bname, \n",
    "        'author': tweet['user']['screen_name'], \n",
    "        'created_at': tweet['created_at'], \n",
    "        'nlikes': tweet['favorite_count'], \n",
    "        'content': tweet['text'],\n",
    "        'hashtags': list(hashtags),\n",
    "    }\n",
    "    \n",
    "    pix = get_pix(tweet)\n",
    "    \n",
    "    if pix is not None:\n",
    "        feed['pix'] = pix\n",
    "        \n",
    "    return feed\n",
    "        \n",
    "    \n",
    "for bname, ids in tqdm(list(tweet_ids.items())[:2]):\n",
    "    for tw_id in tqdm(ids, leave=False):\n",
    "        try:\n",
    "            tw = twitter.show_status(id=tw_id)\n",
    "            _hashtags = get_hashtags(tw)\n",
    "            _user = get_user(tw)\n",
    "            _feed = get_feed(tw, bname, _hashtags)\n",
    "            \n",
    "            hashtags |= _hashtags\n",
    "            users.add(frozenset(_user.items()))\n",
    "            feeds.append(_feed)\n",
    "                    \n",
    "                    \n",
    "        except TwythonRateLimitError as error:\n",
    "            remainder = float(twitter.get_lastfunction_header(header='x-rate-limit-reset')) - time.time()\n",
    "            twitter.disconnect()\n",
    "            time.sleep(remainder)\n",
    "            twitter = Twython(CONSUMER_KEY, CONSUMER_SECRET, OAUTH_TOKEN, OAUTH_TOKEN_SECRET)\n",
    "            continue\n",
    "        \n",
    "        except TwythonError as e:\n",
    "            print(bname, _id, e)"
   ]
  },
  {
   "cell_type": "code",
   "execution_count": 77,
   "metadata": {
    "scrolled": true
   },
   "outputs": [
    {
     "data": {
      "text/plain": [
       "{frozenset({('profile_image',\n",
       "             'http://pbs.twimg.com/profile_images/1140586197909037056/MRy_Mn13_normal.jpg'),\n",
       "            ('user', 'agonyman')}),\n",
       " frozenset({('profile_image',\n",
       "             'http://pbs.twimg.com/profile_images/723049898157834240/PZH9sfj5_normal.jpg'),\n",
       "            ('user', 'fashionncom')}),\n",
       " frozenset({('profile_image',\n",
       "             'http://pbs.twimg.com/profile_images/827483601646219264/acnVudFs_normal.jpg'),\n",
       "            ('user', 'kanghui__')}),\n",
       " frozenset({('profile_image',\n",
       "             'http://pbs.twimg.com/profile_images/1123868952927637505/pXgIXYNZ_normal.jpg'),\n",
       "            ('user', '8056LpjXNJdgwuj')}),\n",
       " frozenset({('profile_image',\n",
       "             'http://pbs.twimg.com/profile_images/899504981656477696/UYe5Z8JL_normal.jpg'),\n",
       "            ('user', 'i_ilyo')}),\n",
       " frozenset({('profile_image',\n",
       "             'http://pbs.twimg.com/profile_images/1029773819081183232/L2-i6nGr_normal.jpg'),\n",
       "            ('user', 'jung_sang_won')}),\n",
       " frozenset({('profile_image',\n",
       "             'http://pbs.twimg.com/profile_images/604481976528011264/ZqhWDujV_normal.jpg'),\n",
       "            ('user', 'rvd3065')}),\n",
       " frozenset({('profile_image',\n",
       "             'http://pbs.twimg.com/profile_images/1104406524405796864/hcZq31jS_normal.jpg'),\n",
       "            ('user', 'Lilith36910318')}),\n",
       " frozenset({('profile_image',\n",
       "             'http://pbs.twimg.com/profile_images/1142420953562877952/Zpgq7w8p_normal.jpg'),\n",
       "            ('user', 'joggingdan')}),\n",
       " frozenset({('profile_image',\n",
       "             'http://pbs.twimg.com/profile_images/1133647436813987840/T2xj6cCa_normal.jpg'),\n",
       "            ('user', 'woodz_golmu')}),\n",
       " frozenset({('profile_image',\n",
       "             'http://pbs.twimg.com/profile_images/1031438191511855106/h6WKfU8c_normal.jpg'),\n",
       "            ('user', 'musinsacom')}),\n",
       " frozenset({('profile_image',\n",
       "             'http://pbs.twimg.com/profile_images/965194964106792960/byVMGAaP_normal.jpg'),\n",
       "            ('user', '4buynsell')}),\n",
       " frozenset({('profile_image',\n",
       "             'http://pbs.twimg.com/profile_images/1130299010613358592/2z0vgQF1_normal.jpg'),\n",
       "            ('user', 'DazedKorea')}),\n",
       " frozenset({('profile_image',\n",
       "             'http://pbs.twimg.com/profile_images/1112937892169474049/4l3C6QTh_normal.png'),\n",
       "            ('user', 'SeoulStore_twt')})}"
      ]
     },
     "execution_count": 77,
     "metadata": {},
     "output_type": "execute_result"
    }
   ],
   "source": [
    "users"
   ]
  },
  {
   "cell_type": "code",
   "execution_count": 78,
   "metadata": {
    "collapsed": true
   },
   "outputs": [
    {
     "data": {
      "text/plain": [
       "{'3000만큼사랑해',\n",
       " '4dx',\n",
       " '8SECONDS',\n",
       " '8SxME',\n",
       " '8seconds',\n",
       " 'MUSINSA',\n",
       " 'SPA',\n",
       " 'baggies',\n",
       " 'bigbang',\n",
       " 'buckaroo',\n",
       " 'cardigan',\n",
       " 'cgv',\n",
       " 'file',\n",
       " 'gd',\n",
       " 'gdragon',\n",
       " 'goods',\n",
       " 'jiyong',\n",
       " 'kwonjiyong',\n",
       " 'menstyle',\n",
       " 'onepunchman',\n",
       " 'shirts',\n",
       " 'uniqlo',\n",
       " '가로수길',\n",
       " '굿즈',\n",
       " '권지용',\n",
       " '노트',\n",
       " '단독특가',\n",
       " '대리',\n",
       " '데이즈드',\n",
       " '드리미',\n",
       " '롯데시네마',\n",
       " '롱패딩',\n",
       " '명동',\n",
       " '무신사',\n",
       " '무신사TV',\n",
       " '무신사스토어',\n",
       " '무인양품',\n",
       " '브이로그',\n",
       " '블레이저',\n",
       " '빅뱅',\n",
       " '서울스토어',\n",
       " '셔츠',\n",
       " '스파오',\n",
       " '슬로건',\n",
       " '알바',\n",
       " '양도',\n",
       " '어벤져스',\n",
       " '에잇세컨즈',\n",
       " '옷',\n",
       " '완판남',\n",
       " '유니클로',\n",
       " '잠옷',\n",
       " '조승연',\n",
       " '지드래곤',\n",
       " '지디',\n",
       " '출근룩',\n",
       " '트렌치코트',\n",
       " '파일',\n",
       " '파자마',\n",
       " '판매',\n",
       " '패션',\n",
       " '한현민'}"
      ]
     },
     "execution_count": 78,
     "metadata": {},
     "output_type": "execute_result"
    }
   ],
   "source": [
    "hashtags"
   ]
  },
  {
   "cell_type": "code",
   "execution_count": 79,
   "metadata": {
    "collapsed": true
   },
   "outputs": [
    {
     "data": {
      "text/plain": [
       "[{'membership': '1017alyx9sm',\n",
       "  'author': 'DazedKorea',\n",
       "  'created_at': 'Wed Jan 23 08:20:49 +0000 2019',\n",
       "  'nlikes': 10,\n",
       "  'content': '매튜 윌리엄스의 1017 알릭스 9SM는 카이어 거버를 필두로 ‘Ex Nihilo(라틴어로 ‘무에서 벗어나다’를 의미)’란 이름의 하이테크 컬렉션을 펼쳤습니다. \\n\\n더 자세한 내용은 #데이즈드 인스타그램을… https://t.co/nMn8zUzio3',\n",
       "  'hashtags': ['데이즈드']},\n",
       " {'membership': '8seconds',\n",
       "  'author': 'agonyman',\n",
       "  'created_at': 'Wed May 29 01:25:53 +0000 2019',\n",
       "  'nlikes': 0,\n",
       "  'content': '새벽엔 좀 선선하더만 아침부터 햇살이 좀 강하네. \\n\\n이럴 땐...\\n\\n#menstyle \\n#uniqlo #cardigan \\n#buckaroo #baggies \\n#onepunchman #shirts… https://t.co/sHLkSodd2h',\n",
       "  'hashtags': ['buckaroo',\n",
       "   'cardigan',\n",
       "   'uniqlo',\n",
       "   'baggies',\n",
       "   'menstyle',\n",
       "   'onepunchman',\n",
       "   'shirts']},\n",
       " {'membership': '8seconds',\n",
       "  'author': 'musinsacom',\n",
       "  'created_at': 'Thu Jun 13 05:12:28 +0000 2019',\n",
       "  'nlikes': 16,\n",
       "  'content': '최대 할인율 72% 까지!🔥 여름 신상 세일\\n#에잇세컨즈 19 S/S 슈퍼세일 START!\\n\\nhttps://t.co/wVdMU3xvYL\\n_\\n#MUSINSA #무신사 #무신사스토어\\n#8SECONDS #셔츠… https://t.co/AXTiHZOA6a',\n",
       "  'hashtags': ['셔츠', 'MUSINSA', '에잇세컨즈', '무신사스토어', '무신사', '8SECONDS']},\n",
       " {'membership': '8seconds',\n",
       "  'author': 'rvd3065',\n",
       "  'created_at': 'Sat May 04 03:08:03 +0000 2019',\n",
       "  'nlikes': 0,\n",
       "  'content': '오늘도 데일리룩 셀카찍기!😄\\n#8SxME #에잇세컨즈\\n.\\n역시 조명은 화장실이 최고야 👍\\n그나저나 오늘 날씨 완전 더워요.\\n모두 옷차림 가볍게♡\\n행복한 주말 보내시기요🤗 https://t.co/bvTogYFGQM',\n",
       "  'hashtags': ['8SxME', '에잇세컨즈']},\n",
       " {'membership': '8seconds',\n",
       "  'author': 'rvd3065',\n",
       "  'created_at': 'Sun May 05 05:13:12 +0000 2019',\n",
       "  'nlikes': 0,\n",
       "  'content': '자연스럽게 잘 걸렸엉ㅋ\\n#8SxME #에잇세컨즈\\n.\\n.\\n오늘 날씨 무엇? 27도 완전 여름이에요😭😭😭 https://t.co/d2ArtZwHFR',\n",
       "  'hashtags': ['8SxME', '에잇세컨즈']},\n",
       " {'membership': '8seconds',\n",
       "  'author': 'fashionncom',\n",
       "  'created_at': 'Tue Jun 18 03:08:17 +0000 2019',\n",
       "  'nlikes': 0,\n",
       "  'content': '에잇세컨즈, 수영복도 레트로! 여름 휴가 시즌 위한 스웸웨어 전개 https://t.co/BNYX9yMCfj #에잇세컨즈 https://t.co/hPChfXedi4',\n",
       "  'hashtags': ['에잇세컨즈'],\n",
       "  'pix': 'http://pbs.twimg.com/media/D9UAXSWUIAA7MzE.jpg'},\n",
       " {'membership': '8seconds',\n",
       "  'author': 'Lilith36910318',\n",
       "  'created_at': 'Fri Feb 15 05:22:00 +0000 2019',\n",
       "  'nlikes': 0,\n",
       "  'content': '장갑사려다가 남녀 모델포즈 온도차 뭐냐.... 장갑파시는 거면 장갑만 보여주시죠. 여성장갑은 왜 모델얼굴로 판매하십니까? 게다가 옷은 여성 모델은 웃는 게 대다수인 반면 남자 모델은 다 무표정임. 옷 사는데… https://t.co/iRShUvV41g',\n",
       "  'hashtags': []},\n",
       " {'membership': '8seconds',\n",
       "  'author': 'joggingdan',\n",
       "  'created_at': 'Tue Jun 11 11:11:13 +0000 2019',\n",
       "  'nlikes': 5,\n",
       "  'content': '에잇세컨즈 티 일부러 xl로 시켰는데,,,이것도 품절이래요,,,금요일까지 행복하게 기다릴 자신 있었눈데,,,,조스녕 책임져 완판남아ㅡㅡ 너때매 내옷 품절돼서 못사고있잖아 #조승연 #완판남 #에잇세컨즈… https://t.co/apZ8zHesCE',\n",
       "  'hashtags': ['조승연', '완판남', '에잇세컨즈']},\n",
       " {'membership': '8seconds',\n",
       "  'author': 'SeoulStore_twt',\n",
       "  'created_at': 'Sat Mar 23 03:00:07 +0000 2019',\n",
       "  'nlikes': 0,\n",
       "  'content': '단돈 💸2만원으로 삶의 질 올리는 법.ssul\\n👉서울스토어에서 에잇세컨즈 파자마를 구입한다💕\\n⠀⠀⠀⠀⠀⠀⠀⠀⠀⠀⠀⠀⠀⠀⠀⠀⠀\\n에잇세컨즈 ➡️ https://t.co/YkR2giRMnN\\n-\\n#서울스토어 #에잇세컨즈 #단독특가 #파자마 #잠옷',\n",
       "  'hashtags': ['잠옷', '파자마', '에잇세컨즈', '단독특가', '서울스토어']},\n",
       " {'membership': '8seconds',\n",
       "  'author': 'fashionncom',\n",
       "  'created_at': 'Tue Jun 04 03:23:36 +0000 2019',\n",
       "  'nlikes': 0,\n",
       "  'content': '삼성물산 패션, 에잇세컨즈 빛낼 일반인 모델 ‘8인방’ 공개 https://t.co/ll29w04Reu #에잇세컨즈 https://t.co/KqY1prwtop',\n",
       "  'hashtags': ['에잇세컨즈'],\n",
       "  'pix': 'http://pbs.twimg.com/media/D8L9m_FUYAA6UaM.jpg'},\n",
       " {'membership': '8seconds',\n",
       "  'author': 'woodz_golmu',\n",
       "  'created_at': 'Sat Jun 15 07:19:08 +0000 2019',\n",
       "  'nlikes': 2,\n",
       "  'content': '승연이 주황색티 사신 분들 M이랑 L 중에 뭐사셨어요?? 라지 엄청 길다고 해서 고민 ㅠㅠ #조승연 #에잇세컨즈 https://t.co/T47JLCJivi',\n",
       "  'hashtags': ['조승연', '에잇세컨즈'],\n",
       "  'pix': 'http://pbs.twimg.com/media/D9FdA1AUYAAcCA0.jpg'},\n",
       " {'membership': '8seconds',\n",
       "  'author': '8056LpjXNJdgwuj',\n",
       "  'created_at': 'Wed May 08 10:03:00 +0000 2019',\n",
       "  'nlikes': 0,\n",
       "  'content': '두번째 영상 업로드으 😝\\n#롯데시네마 #드리미 #알바 #브이로그 #cgv #4dx #에잇세컨즈 #어벤져스 #3000만큼사랑해\\n\\n🍿롯데시네마 알바 브이로그 / CGV가서 4DX로 영화 어벤져스 봐요🎬 https://t.co/nmY9jGPzh7',\n",
       "  'hashtags': ['브이로그',\n",
       "   'cgv',\n",
       "   '어벤져스',\n",
       "   '3000만큼사랑해',\n",
       "   '드리미',\n",
       "   '에잇세컨즈',\n",
       "   '4dx',\n",
       "   '알바',\n",
       "   '롯데시네마']},\n",
       " {'membership': '8seconds',\n",
       "  'author': 'i_ilyo',\n",
       "  'created_at': 'Tue Jun 11 06:17:18 +0000 2019',\n",
       "  'nlikes': 0,\n",
       "  'content': '기본에 충실한 제품을 찾는 소비 트렌드와도 연관돼\\n\\n#유니클로 #무인양품 #스파오 #에잇세컨즈 #SPA #패션\\n\\nhttps://t.co/ixHyJbLUtl',\n",
       "  'hashtags': ['스파오', 'SPA', '에잇세컨즈', '무인양품', '패션', '유니클로']},\n",
       " {'membership': '8seconds',\n",
       "  'author': '4buynsell',\n",
       "  'created_at': 'Tue Apr 02 12:34:46 +0000 2019',\n",
       "  'nlikes': 3,\n",
       "  'content': '#빅뱅 #지디 #지드래곤 #권지용 #에잇세컨즈 #굿즈 #양도 #판매 #파일 #슬로건 #노트 #bigbang #gdragon #gd #jiyong #kwonjiyong #goods #8seconds #file… https://t.co/C0oC8DlXiL',\n",
       "  'hashtags': ['슬로건',\n",
       "   '판매',\n",
       "   '지드래곤',\n",
       "   '굿즈',\n",
       "   '권지용',\n",
       "   'file',\n",
       "   '지디',\n",
       "   'goods',\n",
       "   'gdragon',\n",
       "   '에잇세컨즈',\n",
       "   'gd',\n",
       "   'jiyong',\n",
       "   '빅뱅',\n",
       "   'kwonjiyong',\n",
       "   '파일',\n",
       "   'bigbang',\n",
       "   '양도',\n",
       "   '노트',\n",
       "   '8seconds']},\n",
       " {'membership': '8seconds',\n",
       "  'author': 'jung_sang_won',\n",
       "  'created_at': 'Tue Jan 15 13:34:37 +0000 2019',\n",
       "  'nlikes': 1,\n",
       "  'content': '에잇세컨즈 명동본점, 가로수길점에서 옷 대리 픽업해주실 분 구합니다 ㅠㅠ 사례비 만원 드려요 가능하신분 디엠 주세요 ! #에잇세컨즈 #대리 #옷 #패션 #명동 #가로수길',\n",
       "  'hashtags': ['에잇세컨즈', '명동', '패션', '가로수길', '옷', '대리']},\n",
       " {'membership': '8seconds',\n",
       "  'author': 'kanghui__',\n",
       "  'created_at': 'Thu Mar 21 15:13:08 +0000 2019',\n",
       "  'nlikes': 3,\n",
       "  'content': '비글남친 촬영끝🙌\\n#8seconds\\xa0@8seconds_official\\xa0\\n#에잇세컨즈 https://t.co/kxVSQBMguv',\n",
       "  'hashtags': ['에잇세컨즈', '8seconds'],\n",
       "  'pix': 'http://pbs.twimg.com/media/D2MQuyJUkAEI0T2.jpg'},\n",
       " {'membership': '8seconds',\n",
       "  'author': 'rvd3065',\n",
       "  'created_at': 'Fri May 03 03:18:27 +0000 2019',\n",
       "  'nlikes': 0,\n",
       "  'content': '혼자 뭐하냐구요??\\n.\\n.\\n.\\n이벤트 참여 ㅋㅋ\\n#8SxME #에잇세컨즈\\n.\\n.\\n자신의 데일리룩으로 8SxME 모델컨테스트 참여하세요^^\\n.\\n뽑히신 분들은 #한현민 과 함께 화보 찍을수 있는 기회가♡\\n.… https://t.co/gfK6gCdBPP',\n",
       "  'hashtags': ['8SxME', '한현민', '에잇세컨즈']},\n",
       " {'membership': '8seconds',\n",
       "  'author': 'musinsacom',\n",
       "  'created_at': 'Fri Feb 08 00:28:18 +0000 2019',\n",
       "  'nlikes': 11,\n",
       "  'content': '🔥최대 71% 할인율🔥 #에잇세컨즈 8데이 특가🤑\\n2월 8일 금요일, 단 하루☝️ 무신사스토어에서!\\n\\nhttps://t.co/DWkdB70f8X\\n\\n#롱패딩 63,900원\\n#트렌치코트 47,900원\\n#블레이저… https://t.co/qa825InSIH',\n",
       "  'hashtags': ['블레이저', '롱패딩', '에잇세컨즈', '트렌치코트']},\n",
       " {'membership': '8seconds',\n",
       "  'author': 'musinsacom',\n",
       "  'created_at': 'Tue Apr 30 10:18:25 +0000 2019',\n",
       "  'nlikes': 6,\n",
       "  'content': '#에잇세컨즈 직원들은 어떻게 입을까? \\n은근슬쩍 PPL 출근룩~👍 내일 공개!\\n\\n#무신사TV 에잇세컨즈\\n직원들 #출근룩 내일 확인📺 \\nhttps://t.co/hNYrLycMNR \\n_ \\n#MUSINSA… https://t.co/m0U8LBzrht',\n",
       "  'hashtags': ['출근룩', 'MUSINSA', '무신사TV', '에잇세컨즈']},\n",
       " {'membership': '8seconds',\n",
       "  'author': 'rvd3065',\n",
       "  'created_at': 'Fri May 03 03:21:08 +0000 2019',\n",
       "  'nlikes': 0,\n",
       "  'content': '혼자 뭐하냐구요??\\n.\\n.\\n.\\n이벤트 참여 ㅋㅋ\\n#8SxME #에잇세컨즈\\n.\\n.\\n자신의 데일리룩으로 8SxME 모델컨테스트 참여하세요^^\\n.\\n뽑히신 분들은 #한현민 과 함께 화보 찍을수 있는 기회가♡\\n.… https://t.co/PkbRmoSRyA',\n",
       "  'hashtags': ['8SxME', '한현민', '에잇세컨즈']}]"
      ]
     },
     "execution_count": 79,
     "metadata": {},
     "output_type": "execute_result"
    }
   ],
   "source": [
    "feeds"
   ]
  },
  {
   "cell_type": "code",
   "execution_count": null,
   "metadata": {},
   "outputs": [],
   "source": []
  },
  {
   "cell_type": "markdown",
   "metadata": {},
   "source": [
    "# 테스트유저 만들기\n",
    "## 1. Custom user model (email 기반)\n",
    "\n",
    "\n",
    "여기서부터 시작하자"
   ]
  },
  {
   "cell_type": "code",
   "execution_count": 80,
   "metadata": {},
   "outputs": [
    {
     "data": {
      "application/vnd.jupyter.widget-view+json": {
       "model_id": "0fd0361501114328977bf11c28e45655",
       "version_major": 2,
       "version_minor": 0
      },
      "text/plain": [
       "HBox(children=(IntProgress(value=0, max=14), HTML(value='')))"
      ]
     },
     "metadata": {},
     "output_type": "display_data"
    },
    {
     "name": "stdout",
     "output_type": "stream",
     "text": [
      "\n"
     ]
    }
   ],
   "source": [
    "dbinit_test_users = []\n",
    "pk = 100000000\n",
    "\n",
    "for user in tqdm(users):\n",
    "    _user = dict(user)\n",
    "    \n",
    "    dbinit_test_users.append({\n",
    "        'model': 'custom_user.EmailUser', \n",
    "        'pk': pk, \n",
    "        'fields': {\n",
    "            'email': _user['user'] + '@getch.com', \n",
    "        }\n",
    "    })\n",
    "    pk += 1"
   ]
  },
  {
   "cell_type": "code",
   "execution_count": 83,
   "metadata": {},
   "outputs": [],
   "source": [
    "dbinit_test_users;"
   ]
  },
  {
   "cell_type": "code",
   "execution_count": 40,
   "metadata": {},
   "outputs": [],
   "source": [
    "# dbinit_test_users = []\n",
    "# users = []\n",
    "# pk = 1000000\n",
    "\n",
    "# for fname in fnames:\n",
    "#     with open(fname, encoding='UTF-8-sig') as f:\n",
    "#         for item, docs in json.load(f).items():\n",
    "#             for doc in docs:\n",
    "#                 user = doc['user']\n",
    "                \n",
    "#                 if user not in users:\n",
    "#                     users.append(user)\n",
    "                \n",
    "#                     dbinit_test_users.append({\n",
    "#                         'model': 'custom_user.EmailUser', \n",
    "#                         'pk': pk, \n",
    "#                         'fields': {\n",
    "#                             'email': user + '@getch.com', \n",
    "#                         }\n",
    "#                     })\n",
    "#                     pk += 1"
   ]
  },
  {
   "cell_type": "code",
   "execution_count": 46,
   "metadata": {},
   "outputs": [],
   "source": [
    "with open('dbinit_test_users.json', 'w') as f:\n",
    "    json.dump(dbinit_test_users, f)"
   ]
  },
  {
   "cell_type": "markdown",
   "metadata": {},
   "source": [
    "## 2. Profile model"
   ]
  },
  {
   "cell_type": "code",
   "execution_count": 48,
   "metadata": {},
   "outputs": [],
   "source": [
    "dbinit_test_profiles = []\n",
    "pk = 1000000\n",
    "\n",
    "for user in dbinit_test_users:\n",
    "    user_pk = user['pk']\n",
    "\n",
    "    dbinit_test_profiles.append({\n",
    "        'model': 'app.profile', \n",
    "        'pk': pk, \n",
    "        'fields': {\n",
    "            'user': user_pk, \n",
    "        }\n",
    "    })\n",
    "    pk += 1"
   ]
  },
  {
   "cell_type": "code",
   "execution_count": 50,
   "metadata": {},
   "outputs": [],
   "source": [
    "with open('dbinit_test_profiles.json', 'w') as f:\n",
    "    json.dump(dbinit_test_profiles, f)"
   ]
  },
  {
   "cell_type": "code",
   "execution_count": null,
   "metadata": {},
   "outputs": [],
   "source": []
  },
  {
   "cell_type": "markdown",
   "metadata": {},
   "source": [
    "# Hashtag model"
   ]
  },
  {
   "cell_type": "code",
   "execution_count": 17,
   "metadata": {},
   "outputs": [],
   "source": [
    "def get_hashtags(text):\n",
    "    LINEBREAK = r'\\n' # str.replace에서는 r'\\n'으로 검색이 안된다\n",
    "    RT = '((?: rt)|(?:^rt))[^ @]?'\n",
    "    EMOJI = r'[\\U00010000-\\U0010ffff]'\n",
    "    DOTS = '…'\n",
    "    LONG_BLANK = r'[ ]+'\n",
    "    SPECIALS = r'([^ a-zA-Z0-9_\\u3131-\\u3163\\uac00-\\ud7a3]+)|([ㄱ-ㅣ]+)'\n",
    "    \n",
    "    # \\u3131-\\u3163\\uac00-\\ud7a3 는 한글을 의미함\n",
    "    # URL = r'(?P<url>(https?://)?(www[.])?[^ \\u3131-\\u3163\\uac00-\\ud7a3]+[.][a-z]{2,6}\\b([^ \\u3131-\\u3163\\uac00-\\ud7a3]*))'\n",
    "    URL1 = r'(?:https?:\\/\\/)?(?:www[.])?[^ :\\u3131-\\u3163\\uac00-\\ud7a3]+[.][a-zA-Z]{2,6}\\b(?:[^ \\u3131-\\u3163\\uac00-\\ud7a3]*)'\n",
    "    URL2 = r'pic.twitter.com/[a-zA-Z0-9_]+'\n",
    "    URL = '|'.join((URL1, URL2))\n",
    "    \n",
    "    HASHTAG = r'#(?P<inner_hashtag>[^ #@]+)'\n",
    "    MENTION = r'@(?P<inner_mention>[^ #@]+)' \n",
    "    \n",
    "    #text = text.lower()\n",
    "    text = re.sub(URL, ' ', text)\n",
    "    text = re.sub(MENTION, ' ', text)                \n",
    "    text = re.sub('|'.join((LINEBREAK, RT, EMOJI, DOTS)), ' ', text)\n",
    "    #text = re.sub('|'.join((LINEBREAK, RT, EMOJI, DOTS, SPECIALS)), ' ', text)\n",
    "    #set_trace()\n",
    "    return set(re.findall(HASHTAG, text))"
   ]
  },
  {
   "cell_type": "code",
   "execution_count": 70,
   "metadata": {},
   "outputs": [],
   "source": [
    "dbinit_hashtag = []\n",
    "hashtags = set()\n",
    "pk = 0\n",
    "\n",
    "for fname in fnames:\n",
    "    with open(fname, encoding='UTF-8-sig') as f:\n",
    "        for item, docs in json.load(f).items():\n",
    "            for doc in docs:\n",
    "                hashtags |= get_hashtags(doc['text'])\n",
    "                \n",
    "for tag in hashtags:\n",
    "    dbinit_hashtag.append({\n",
    "        'model': 'app.hashtag', \n",
    "        'pk': pk, \n",
    "        'fields': {\n",
    "            'hashtag': tag, \n",
    "        }\n",
    "    })\n",
    "    pk += 1"
   ]
  },
  {
   "cell_type": "code",
   "execution_count": 72,
   "metadata": {},
   "outputs": [],
   "source": [
    "hashtags;"
   ]
  },
  {
   "cell_type": "code",
   "execution_count": 73,
   "metadata": {},
   "outputs": [],
   "source": [
    "with open('dbinit_hashtag.json', 'w') as f:\n",
    "    json.dump(dbinit_hashtag, f)"
   ]
  },
  {
   "cell_type": "code",
   "execution_count": null,
   "metadata": {},
   "outputs": [],
   "source": []
  },
  {
   "cell_type": "markdown",
   "metadata": {},
   "source": [
    "# Feed model"
   ]
  },
  {
   "cell_type": "code",
   "execution_count": 3,
   "metadata": {},
   "outputs": [],
   "source": [
    "from twython import Twython\n",
    "from app.models import Brand, Profile, Hashtag, Feed\n",
    "from custom_user.models import EmailUser"
   ]
  },
  {
   "cell_type": "code",
   "execution_count": 38,
   "metadata": {},
   "outputs": [
    {
     "data": {
      "application/vnd.jupyter.widget-view+json": {
       "model_id": "8a9656b7aaee49819fc87fcb48ad7f44",
       "version_major": 2,
       "version_minor": 0
      },
      "text/plain": [
       "HBox(children=(IntProgress(value=0, max=324), HTML(value='')))"
      ]
     },
     "metadata": {},
     "output_type": "display_data"
    }
   ],
   "source": [
    "dbinit_feed = []\n",
    "pk = 0\n",
    "\n",
    "for fname in tqdm_notebook(fnames):\n",
    "    with open(fname, encoding='UTF-8-sig') as f:\n",
    "        for item, docs in json.load(f).items():\n",
    "            for doc in docs:\n",
    "                _hashtags = get_hashtags(doc['text'])\n",
    "                hashtag_pks = list(Hashtag.objects.filter(hashtag__in=_hashtags).values_list('pk', flat=True))\n",
    "                membership_pk = Brand.objects.get(name=item).pk\n",
    "                author_pk = Profile.objects.get(user__email=doc['user']+'@getch.com').pk\n",
    "                \n",
    "                dbinit_feed.append({\n",
    "                    'model': 'app.feed', \n",
    "                    'pk': pk, \n",
    "                    'fields': {\n",
    "                        'membership': membership_pk, \n",
    "                        'author': author_pk, \n",
    "                        'timestamp': doc['timestamp'], \n",
    "                        'nlikes': doc['likes'], \n",
    "                        'content': doc['text'], \n",
    "                        'hashtags': hashtag_pks\n",
    "                    }\n",
    "                })\n",
    "                pk += 1"
   ]
  },
  {
   "cell_type": "code",
   "execution_count": 39,
   "metadata": {},
   "outputs": [],
   "source": [
    "with open('dbinit_feed.json', 'w') as f:\n",
    "    json.dump(dbinit_feed, f)"
   ]
  },
  {
   "cell_type": "code",
   "execution_count": null,
   "metadata": {},
   "outputs": [],
   "source": []
  },
  {
   "cell_type": "markdown",
   "metadata": {},
   "source": [
    "## 중복 레코드 제거: Scrap 과정에서 실수한 부분..."
   ]
  },
  {
   "cell_type": "code",
   "execution_count": 17,
   "metadata": {},
   "outputs": [],
   "source": [
    "dbinit_feed_file = open('dbinit_feed.json', encoding='UTF-8-sig')\n",
    "dbinit_feed = json.load(dbinit_feed_file)\n",
    "dbinit_feed_file.close()"
   ]
  },
  {
   "cell_type": "code",
   "execution_count": 44,
   "metadata": {},
   "outputs": [],
   "source": [
    "unique_feeds = {feed['fields']['content']:feed['fields'] for feed in dbinit_feed}.values()\n",
    "_dbinit_feed = {}\n",
    "\n",
    "for pk, feed in enumerate(unique_feeds):\n",
    "    _dbinit_feed[feed['content']] = {\n",
    "        'model': 'app.feed', \n",
    "        'pk': pk, \n",
    "        'fields': feed\n",
    "    }"
   ]
  },
  {
   "cell_type": "code",
   "execution_count": 39,
   "metadata": {},
   "outputs": [],
   "source": [
    "# with open('dbinit_feed.json', 'w') as f:\n",
    "#     json.dump(_dbinit_feed, f)"
   ]
  },
  {
   "cell_type": "code",
   "execution_count": null,
   "metadata": {},
   "outputs": [],
   "source": []
  },
  {
   "cell_type": "markdown",
   "metadata": {},
   "source": [
    "## 이미지 추가"
   ]
  },
  {
   "cell_type": "code",
   "execution_count": 43,
   "metadata": {},
   "outputs": [],
   "source": [
    "_dbinit_feed[:5];"
   ]
  },
  {
   "cell_type": "code",
   "execution_count": null,
   "metadata": {},
   "outputs": [],
   "source": []
  },
  {
   "cell_type": "code",
   "execution_count": null,
   "metadata": {},
   "outputs": [],
   "source": []
  },
  {
   "cell_type": "code",
   "execution_count": null,
   "metadata": {},
   "outputs": [],
   "source": []
  },
  {
   "cell_type": "code",
   "execution_count": 49,
   "metadata": {},
   "outputs": [
    {
     "data": {
      "application/vnd.jupyter.widget-view+json": {
       "model_id": "f48ee9d346eb41b19829e623178683f8",
       "version_major": 2,
       "version_minor": 0
      },
      "text/plain": [
       "HBox(children=(IntProgress(value=0, max=5), HTML(value='')))"
      ]
     },
     "metadata": {},
     "output_type": "display_data"
    },
    {
     "name": "stdout",
     "output_type": "stream",
     "text": [
      "> <ipython-input-49-e3463746909d>(5)<module>()\n",
      "      3         for item, docs in json.load(_fname).items():\n",
      "      4             set_trace()\n",
      "----> 5             for doc in docs:\n",
      "      6                 tweet_id = doc['id']\n",
      "      7                 feed = _dbinit_feed[doc['text']]\n",
      "\n",
      "ipdb> docs\n",
      "[{'user': 'CorsoComoSeoul', 'id': '1113334761970446336', 'timestamp': '2019-04-03 06:57:46', 'text': '⠀⠀⠀\\n032C의 신규 컬렉션이 10 꼬르소 꼬모에 입고되었습니다.\\n⠀⠀⠀\\nNew collection from 032C is available to shop @CorsoComoSeoul .\\n⠀⠀⠀\\n#10corsocomoseoul #10corsocomoAvenuel #10CCfashion #032C #newcollection… https://www.instagram.com/p/BvyL5GUgnuy/?utm_source=ig_twitter_share&igshid=18myfhdiohi54\\xa0…', 'likes': '0'}, {'user': 'CorsoComoSeoul', 'id': '1113334761970446336', 'timestamp': '2019-04-03 06:57:46', 'text': '⠀⠀⠀\\n032C의 신규 컬렉션이 10 꼬르소 꼬모에 입고되었습니다.\\n⠀⠀⠀\\nNew collection from 032C is available to shop @CorsoComoSeoul .\\n⠀⠀⠀\\n#10corsocomoseoul #10corsocomoAvenuel #10CCfashion #032C #newcollection… https://www.instagram.com/p/BvyL5GUgnuy/?utm_source=ig_twitter_share&igshid=18myfhdiohi54\\xa0…', 'likes': '0'}]\n",
      "ipdb> set(docs)\n",
      "*** TypeError: unhashable type: 'dict'\n",
      "ipdb> frozenset(docs)\n",
      "*** TypeError: unhashable type: 'dict'\n",
      "ipdb> q\n"
     ]
    },
    {
     "ename": "BdbQuit",
     "evalue": "",
     "output_type": "error",
     "traceback": [
      "\u001b[1;31m---------------------------------------------------------------------------\u001b[0m",
      "\u001b[1;31mBdbQuit\u001b[0m                                   Traceback (most recent call last)",
      "\u001b[1;32m<ipython-input-49-e3463746909d>\u001b[0m in \u001b[0;36m<module>\u001b[1;34m\u001b[0m\n\u001b[0;32m      3\u001b[0m         \u001b[1;32mfor\u001b[0m \u001b[0mitem\u001b[0m\u001b[1;33m,\u001b[0m \u001b[0mdocs\u001b[0m \u001b[1;32min\u001b[0m \u001b[0mjson\u001b[0m\u001b[1;33m.\u001b[0m\u001b[0mload\u001b[0m\u001b[1;33m(\u001b[0m\u001b[0m_fname\u001b[0m\u001b[1;33m)\u001b[0m\u001b[1;33m.\u001b[0m\u001b[0mitems\u001b[0m\u001b[1;33m(\u001b[0m\u001b[1;33m)\u001b[0m\u001b[1;33m:\u001b[0m\u001b[1;33m\u001b[0m\u001b[1;33m\u001b[0m\u001b[0m\n\u001b[0;32m      4\u001b[0m             \u001b[0mset_trace\u001b[0m\u001b[1;33m(\u001b[0m\u001b[1;33m)\u001b[0m\u001b[1;33m\u001b[0m\u001b[1;33m\u001b[0m\u001b[0m\n\u001b[1;32m----> 5\u001b[1;33m             \u001b[1;32mfor\u001b[0m \u001b[0mdoc\u001b[0m \u001b[1;32min\u001b[0m \u001b[0mdocs\u001b[0m\u001b[1;33m:\u001b[0m\u001b[1;33m\u001b[0m\u001b[1;33m\u001b[0m\u001b[0m\n\u001b[0m\u001b[0;32m      6\u001b[0m                 \u001b[0mtweet_id\u001b[0m \u001b[1;33m=\u001b[0m \u001b[0mdoc\u001b[0m\u001b[1;33m[\u001b[0m\u001b[1;34m'id'\u001b[0m\u001b[1;33m]\u001b[0m\u001b[1;33m\u001b[0m\u001b[1;33m\u001b[0m\u001b[0m\n\u001b[0;32m      7\u001b[0m                 \u001b[0mfeed\u001b[0m \u001b[1;33m=\u001b[0m \u001b[0m_dbinit_feed\u001b[0m\u001b[1;33m[\u001b[0m\u001b[0mdoc\u001b[0m\u001b[1;33m[\u001b[0m\u001b[1;34m'text'\u001b[0m\u001b[1;33m]\u001b[0m\u001b[1;33m]\u001b[0m\u001b[1;33m\u001b[0m\u001b[1;33m\u001b[0m\u001b[0m\n",
      "\u001b[1;32m<ipython-input-49-e3463746909d>\u001b[0m in \u001b[0;36m<module>\u001b[1;34m\u001b[0m\n\u001b[0;32m      3\u001b[0m         \u001b[1;32mfor\u001b[0m \u001b[0mitem\u001b[0m\u001b[1;33m,\u001b[0m \u001b[0mdocs\u001b[0m \u001b[1;32min\u001b[0m \u001b[0mjson\u001b[0m\u001b[1;33m.\u001b[0m\u001b[0mload\u001b[0m\u001b[1;33m(\u001b[0m\u001b[0m_fname\u001b[0m\u001b[1;33m)\u001b[0m\u001b[1;33m.\u001b[0m\u001b[0mitems\u001b[0m\u001b[1;33m(\u001b[0m\u001b[1;33m)\u001b[0m\u001b[1;33m:\u001b[0m\u001b[1;33m\u001b[0m\u001b[1;33m\u001b[0m\u001b[0m\n\u001b[0;32m      4\u001b[0m             \u001b[0mset_trace\u001b[0m\u001b[1;33m(\u001b[0m\u001b[1;33m)\u001b[0m\u001b[1;33m\u001b[0m\u001b[1;33m\u001b[0m\u001b[0m\n\u001b[1;32m----> 5\u001b[1;33m             \u001b[1;32mfor\u001b[0m \u001b[0mdoc\u001b[0m \u001b[1;32min\u001b[0m \u001b[0mdocs\u001b[0m\u001b[1;33m:\u001b[0m\u001b[1;33m\u001b[0m\u001b[1;33m\u001b[0m\u001b[0m\n\u001b[0m\u001b[0;32m      6\u001b[0m                 \u001b[0mtweet_id\u001b[0m \u001b[1;33m=\u001b[0m \u001b[0mdoc\u001b[0m\u001b[1;33m[\u001b[0m\u001b[1;34m'id'\u001b[0m\u001b[1;33m]\u001b[0m\u001b[1;33m\u001b[0m\u001b[1;33m\u001b[0m\u001b[0m\n\u001b[0;32m      7\u001b[0m                 \u001b[0mfeed\u001b[0m \u001b[1;33m=\u001b[0m \u001b[0m_dbinit_feed\u001b[0m\u001b[1;33m[\u001b[0m\u001b[0mdoc\u001b[0m\u001b[1;33m[\u001b[0m\u001b[1;34m'text'\u001b[0m\u001b[1;33m]\u001b[0m\u001b[1;33m]\u001b[0m\u001b[1;33m\u001b[0m\u001b[1;33m\u001b[0m\u001b[0m\n",
      "\u001b[1;32mC:\\ProgramData\\Anaconda3\\lib\\bdb.py\u001b[0m in \u001b[0;36mtrace_dispatch\u001b[1;34m(self, frame, event, arg)\u001b[0m\n\u001b[0;32m     86\u001b[0m             \u001b[1;32mreturn\u001b[0m \u001b[1;31m# None\u001b[0m\u001b[1;33m\u001b[0m\u001b[1;33m\u001b[0m\u001b[0m\n\u001b[0;32m     87\u001b[0m         \u001b[1;32mif\u001b[0m \u001b[0mevent\u001b[0m \u001b[1;33m==\u001b[0m \u001b[1;34m'line'\u001b[0m\u001b[1;33m:\u001b[0m\u001b[1;33m\u001b[0m\u001b[1;33m\u001b[0m\u001b[0m\n\u001b[1;32m---> 88\u001b[1;33m             \u001b[1;32mreturn\u001b[0m \u001b[0mself\u001b[0m\u001b[1;33m.\u001b[0m\u001b[0mdispatch_line\u001b[0m\u001b[1;33m(\u001b[0m\u001b[0mframe\u001b[0m\u001b[1;33m)\u001b[0m\u001b[1;33m\u001b[0m\u001b[1;33m\u001b[0m\u001b[0m\n\u001b[0m\u001b[0;32m     89\u001b[0m         \u001b[1;32mif\u001b[0m \u001b[0mevent\u001b[0m \u001b[1;33m==\u001b[0m \u001b[1;34m'call'\u001b[0m\u001b[1;33m:\u001b[0m\u001b[1;33m\u001b[0m\u001b[1;33m\u001b[0m\u001b[0m\n\u001b[0;32m     90\u001b[0m             \u001b[1;32mreturn\u001b[0m \u001b[0mself\u001b[0m\u001b[1;33m.\u001b[0m\u001b[0mdispatch_call\u001b[0m\u001b[1;33m(\u001b[0m\u001b[0mframe\u001b[0m\u001b[1;33m,\u001b[0m \u001b[0marg\u001b[0m\u001b[1;33m)\u001b[0m\u001b[1;33m\u001b[0m\u001b[1;33m\u001b[0m\u001b[0m\n",
      "\u001b[1;32mC:\\ProgramData\\Anaconda3\\lib\\bdb.py\u001b[0m in \u001b[0;36mdispatch_line\u001b[1;34m(self, frame)\u001b[0m\n\u001b[0;32m    111\u001b[0m         \u001b[1;32mif\u001b[0m \u001b[0mself\u001b[0m\u001b[1;33m.\u001b[0m\u001b[0mstop_here\u001b[0m\u001b[1;33m(\u001b[0m\u001b[0mframe\u001b[0m\u001b[1;33m)\u001b[0m \u001b[1;32mor\u001b[0m \u001b[0mself\u001b[0m\u001b[1;33m.\u001b[0m\u001b[0mbreak_here\u001b[0m\u001b[1;33m(\u001b[0m\u001b[0mframe\u001b[0m\u001b[1;33m)\u001b[0m\u001b[1;33m:\u001b[0m\u001b[1;33m\u001b[0m\u001b[1;33m\u001b[0m\u001b[0m\n\u001b[0;32m    112\u001b[0m             \u001b[0mself\u001b[0m\u001b[1;33m.\u001b[0m\u001b[0muser_line\u001b[0m\u001b[1;33m(\u001b[0m\u001b[0mframe\u001b[0m\u001b[1;33m)\u001b[0m\u001b[1;33m\u001b[0m\u001b[1;33m\u001b[0m\u001b[0m\n\u001b[1;32m--> 113\u001b[1;33m             \u001b[1;32mif\u001b[0m \u001b[0mself\u001b[0m\u001b[1;33m.\u001b[0m\u001b[0mquitting\u001b[0m\u001b[1;33m:\u001b[0m \u001b[1;32mraise\u001b[0m \u001b[0mBdbQuit\u001b[0m\u001b[1;33m\u001b[0m\u001b[1;33m\u001b[0m\u001b[0m\n\u001b[0m\u001b[0;32m    114\u001b[0m         \u001b[1;32mreturn\u001b[0m \u001b[0mself\u001b[0m\u001b[1;33m.\u001b[0m\u001b[0mtrace_dispatch\u001b[0m\u001b[1;33m\u001b[0m\u001b[1;33m\u001b[0m\u001b[0m\n\u001b[0;32m    115\u001b[0m \u001b[1;33m\u001b[0m\u001b[0m\n",
      "\u001b[1;31mBdbQuit\u001b[0m: "
     ]
    }
   ],
   "source": [
    "for fname in tqdm_notebook(fnames[:5]):\n",
    "    with open(fname, encoding='UTF-8-sig') as _fname:\n",
    "        for item, docs in json.load(_fname).items():\n",
    "            set_trace()\n",
    "            for doc in docs:\n",
    "                tweet_id = doc['id']\n",
    "                feed = _dbinit_feed[doc['text']]\n",
    "                print(feed)"
   ]
  },
  {
   "cell_type": "code",
   "execution_count": null,
   "metadata": {},
   "outputs": [],
   "source": []
  },
  {
   "cell_type": "code",
   "execution_count": null,
   "metadata": {},
   "outputs": [],
   "source": []
  },
  {
   "cell_type": "code",
   "execution_count": null,
   "metadata": {},
   "outputs": [],
   "source": []
  },
  {
   "cell_type": "code",
   "execution_count": null,
   "metadata": {},
   "outputs": [],
   "source": []
  },
  {
   "cell_type": "code",
   "execution_count": null,
   "metadata": {},
   "outputs": [],
   "source": []
  },
  {
   "cell_type": "code",
   "execution_count": null,
   "metadata": {},
   "outputs": [],
   "source": []
  },
  {
   "cell_type": "code",
   "execution_count": 51,
   "metadata": {},
   "outputs": [],
   "source": []
  },
  {
   "cell_type": "code",
   "execution_count": 29,
   "metadata": {
    "scrolled": false
   },
   "outputs": [
    {
     "data": {
      "text/plain": [
       "{'BTSISCOMING', 'MAP_OF_THE_SOUL_PERSONA'}"
      ]
     },
     "execution_count": 29,
     "metadata": {},
     "output_type": "execute_result"
    }
   ],
   "source": [
    "{ht['text'] for ht in twitter.show_status(id='1112390453813338112')['entities']['hashtags']}"
   ]
  },
  {
   "cell_type": "code",
   "execution_count": null,
   "metadata": {},
   "outputs": [],
   "source": []
  },
  {
   "cell_type": "code",
   "execution_count": 64,
   "metadata": {},
   "outputs": [
    {
     "data": {
      "text/plain": [
       "{'created_at': 'Sun Jun 23 01:03:29 +0000 2019',\n",
       " 'id': 1142599021342707713,\n",
       " 'id_str': '1142599021342707713',\n",
       " 'text': 'How Owning A Tesla Model 3 For 1 Year Has Changed My\\xa0Life https://t.co/BXvlkO68O5 https://t.co/UJbFZk6FWm',\n",
       " 'truncated': False,\n",
       " 'entities': {'hashtags': [],\n",
       "  'symbols': [],\n",
       "  'user_mentions': [],\n",
       "  'urls': [{'url': 'https://t.co/BXvlkO68O5',\n",
       "    'expanded_url': 'https://cleantechnica.com/2019/06/22/how-owning-a-tesla-model-3-for-1-year-has-changed-my-life/',\n",
       "    'display_url': 'cleantechnica.com/2019/06/22/how…',\n",
       "    'indices': [58, 81]}],\n",
       "  'media': [{'id': 1142599019438493697,\n",
       "    'id_str': '1142599019438493697',\n",
       "    'indices': [82, 105],\n",
       "    'media_url': 'http://pbs.twimg.com/media/D9tTwSJXUAEjiFU.png',\n",
       "    'media_url_https': 'https://pbs.twimg.com/media/D9tTwSJXUAEjiFU.png',\n",
       "    'url': 'https://t.co/UJbFZk6FWm',\n",
       "    'display_url': 'pic.twitter.com/UJbFZk6FWm',\n",
       "    'expanded_url': 'https://twitter.com/cleantechnica/status/1142599021342707713/photo/1',\n",
       "    'type': 'photo',\n",
       "    'sizes': {'small': {'w': 680, 'h': 680, 'resize': 'fit'},\n",
       "     'large': {'w': 1024, 'h': 1024, 'resize': 'fit'},\n",
       "     'medium': {'w': 1024, 'h': 1024, 'resize': 'fit'},\n",
       "     'thumb': {'w': 150, 'h': 150, 'resize': 'crop'}}}]},\n",
       " 'extended_entities': {'media': [{'id': 1142599019438493697,\n",
       "    'id_str': '1142599019438493697',\n",
       "    'indices': [82, 105],\n",
       "    'media_url': 'http://pbs.twimg.com/media/D9tTwSJXUAEjiFU.png',\n",
       "    'media_url_https': 'https://pbs.twimg.com/media/D9tTwSJXUAEjiFU.png',\n",
       "    'url': 'https://t.co/UJbFZk6FWm',\n",
       "    'display_url': 'pic.twitter.com/UJbFZk6FWm',\n",
       "    'expanded_url': 'https://twitter.com/cleantechnica/status/1142599021342707713/photo/1',\n",
       "    'type': 'photo',\n",
       "    'sizes': {'small': {'w': 680, 'h': 680, 'resize': 'fit'},\n",
       "     'large': {'w': 1024, 'h': 1024, 'resize': 'fit'},\n",
       "     'medium': {'w': 1024, 'h': 1024, 'resize': 'fit'},\n",
       "     'thumb': {'w': 150, 'h': 150, 'resize': 'crop'}}}]},\n",
       " 'source': '<a href=\"http://publicize.wp.com/\" rel=\"nofollow\">WordPress.com</a>',\n",
       " 'in_reply_to_status_id': None,\n",
       " 'in_reply_to_status_id_str': None,\n",
       " 'in_reply_to_user_id': None,\n",
       " 'in_reply_to_user_id_str': None,\n",
       " 'in_reply_to_screen_name': None,\n",
       " 'user': {'id': 17060015,\n",
       "  'id_str': '17060015',\n",
       "  'name': 'CleanTechnica',\n",
       "  'screen_name': 'cleantechnica',\n",
       "  'location': '',\n",
       "  'description': \"World's #1 cleantech & clean energy website. Solar energy, wind energy, electric vehicles, & more. For tweeting commentary, see site director @zshahan3\",\n",
       "  'url': 'http://t.co/xWehwh1qy0',\n",
       "  'entities': {'url': {'urls': [{'url': 'http://t.co/xWehwh1qy0',\n",
       "      'expanded_url': 'http://cleantechnica.com',\n",
       "      'display_url': 'cleantechnica.com',\n",
       "      'indices': [0, 22]}]},\n",
       "   'description': {'urls': []}},\n",
       "  'protected': False,\n",
       "  'followers_count': 93194,\n",
       "  'friends_count': 133,\n",
       "  'listed_count': 2375,\n",
       "  'created_at': 'Thu Oct 30 04:29:39 +0000 2008',\n",
       "  'favourites_count': 2393,\n",
       "  'utc_offset': None,\n",
       "  'time_zone': None,\n",
       "  'geo_enabled': False,\n",
       "  'verified': False,\n",
       "  'statuses_count': 41283,\n",
       "  'lang': None,\n",
       "  'contributors_enabled': False,\n",
       "  'is_translator': False,\n",
       "  'is_translation_enabled': False,\n",
       "  'profile_background_color': '424142',\n",
       "  'profile_background_image_url': 'http://abs.twimg.com/images/themes/theme1/bg.png',\n",
       "  'profile_background_image_url_https': 'https://abs.twimg.com/images/themes/theme1/bg.png',\n",
       "  'profile_background_tile': False,\n",
       "  'profile_image_url': 'http://pbs.twimg.com/profile_images/1093738345052569600/vckkGshd_normal.jpg',\n",
       "  'profile_image_url_https': 'https://pbs.twimg.com/profile_images/1093738345052569600/vckkGshd_normal.jpg',\n",
       "  'profile_banner_url': 'https://pbs.twimg.com/profile_banners/17060015/1549602786',\n",
       "  'profile_link_color': '1597C2',\n",
       "  'profile_sidebar_border_color': 'FFFFFF',\n",
       "  'profile_sidebar_fill_color': 'DDEEF6',\n",
       "  'profile_text_color': '333333',\n",
       "  'profile_use_background_image': False,\n",
       "  'has_extended_profile': False,\n",
       "  'default_profile': False,\n",
       "  'default_profile_image': False,\n",
       "  'following': False,\n",
       "  'follow_request_sent': False,\n",
       "  'notifications': False,\n",
       "  'translator_type': 'none'},\n",
       " 'geo': None,\n",
       " 'coordinates': None,\n",
       " 'place': None,\n",
       " 'contributors': None,\n",
       " 'is_quote_status': False,\n",
       " 'retweet_count': 1033,\n",
       " 'favorite_count': 6998,\n",
       " 'favorited': False,\n",
       " 'retweeted': False,\n",
       " 'possibly_sensitive': False,\n",
       " 'possibly_sensitive_appealable': False,\n",
       " 'lang': 'en'}"
      ]
     },
     "execution_count": 64,
     "metadata": {},
     "output_type": "execute_result"
    }
   ],
   "source": [
    "twitter.show_status(id='1142599021342707713')"
   ]
  },
  {
   "cell_type": "code",
   "execution_count": 61,
   "metadata": {},
   "outputs": [],
   "source": [
    "aa = {'a':1, 'b':2, 'c':3}\n",
    "bb = {'a':1, 'b':2}"
   ]
  },
  {
   "cell_type": "code",
   "execution_count": 62,
   "metadata": {},
   "outputs": [
    {
     "data": {
      "text/plain": [
       "{frozenset({('a', 1), ('b', 2)}), frozenset({('a', 1), ('b', 2), ('c', 3)})}"
      ]
     },
     "execution_count": 62,
     "metadata": {},
     "output_type": "execute_result"
    }
   ],
   "source": [
    "{frozenset(aa.items()), frozenset(bb.items())}"
   ]
  },
  {
   "cell_type": "code",
   "execution_count": 72,
   "metadata": {},
   "outputs": [
    {
     "data": {
      "text/plain": [
       "frozenset({('a', 1), ('b', 2), ('c', 3)})"
      ]
     },
     "execution_count": 72,
     "metadata": {},
     "output_type": "execute_result"
    }
   ],
   "source": [
    "frozenset(aa.items())"
   ]
  },
  {
   "cell_type": "code",
   "execution_count": null,
   "metadata": {},
   "outputs": [],
   "source": []
  }
 ],
 "metadata": {
  "kernelspec": {
   "display_name": "Django Shell-Plus",
   "language": "python",
   "name": "django_extensions"
  },
  "language_info": {
   "codemirror_mode": {
    "name": "ipython",
    "version": 3
   },
   "file_extension": ".py",
   "mimetype": "text/x-python",
   "name": "python",
   "nbconvert_exporter": "python",
   "pygments_lexer": "ipython3",
   "version": "3.7.3"
  }
 },
 "nbformat": 4,
 "nbformat_minor": 2
}
