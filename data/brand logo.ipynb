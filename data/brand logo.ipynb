{
 "cells": [
  {
   "cell_type": "code",
   "execution_count": 65,
   "metadata": {},
   "outputs": [],
   "source": [
    "import requests\n",
    "import json\n",
    "import pandas as pd\n",
    "import glob\n",
    "import os\n",
    "from bs4 import BeautifulSoup"
   ]
  },
  {
   "cell_type": "code",
   "execution_count": 31,
   "metadata": {},
   "outputs": [],
   "source": [
    "def brandinfo(bname):\n",
    "    endpoint = 'https://autocomplete.clearbit.com/v1/companies/suggest?query='\n",
    "    doc = requests.get(endpoint + bname)\n",
    "    info = json.loads(doc.text)\n",
    "            \n",
    "    return info"
   ]
  },
  {
   "cell_type": "code",
   "execution_count": 47,
   "metadata": {},
   "outputs": [],
   "source": [
    "def logo(bname):\n",
    "    return [info['logo'] for info in brandinfo(bname)]"
   ]
  },
  {
   "cell_type": "code",
   "execution_count": 33,
   "metadata": {},
   "outputs": [],
   "source": [
    "def brandinfos(*bnames):\n",
    "    return {bname:brandinfo(bname) for bname in bnames}"
   ]
  },
  {
   "cell_type": "code",
   "execution_count": 48,
   "metadata": {},
   "outputs": [
    {
     "data": {
      "text/plain": [
       "['https://logo.clearbit.com/nike.com',\n",
       " 'https://logo.clearbit.com/nike.com.br',\n",
       " 'https://logo.clearbit.com/nikevision.com',\n",
       " 'https://logo.clearbit.com/nikelab.jp',\n",
       " 'https://logo.clearbit.com/nikeshoebot.com']"
      ]
     },
     "execution_count": 48,
     "metadata": {},
     "output_type": "execute_result"
    }
   ],
   "source": [
    "logo('nike')"
   ]
  },
  {
   "cell_type": "code",
   "execution_count": 44,
   "metadata": {},
   "outputs": [],
   "source": []
  },
  {
   "cell_type": "code",
   "execution_count": 57,
   "metadata": {},
   "outputs": [],
   "source": [
    "bnames = list(pd.read_excel('keywords.xlsx')['item'].iloc[3:])\n",
    "\n",
    "def get_logo_files(bname):\n",
    "    logos = logo(bname)\n",
    "\n",
    "    for i, logourl in enumerate(logos):\n",
    "        img = requests.get(logourl).content\n",
    "        with open('app/static/logos/' + bname + '_' + str(i) + '.jpg', 'wb') as f:\n",
    "            f.write(img)"
   ]
  },
  {
   "cell_type": "code",
   "execution_count": 55,
   "metadata": {},
   "outputs": [],
   "source": [
    "for bname in bnames:\n",
    "    get_logo_files(bname)"
   ]
  },
  {
   "cell_type": "code",
   "execution_count": 69,
   "metadata": {},
   "outputs": [
    {
     "data": {
      "text/plain": [
       "['logos\\\\veja_0.jpg',\n",
       " 'logos\\\\veja_1.jpg',\n",
       " 'logos\\\\veja_2.jpg',\n",
       " 'logos\\\\veja_3.jpg',\n",
       " 'logos\\\\veja_4.jpg']"
      ]
     },
     "execution_count": 69,
     "metadata": {},
     "output_type": "execute_result"
    }
   ],
   "source": [
    "[x.replace('app/static/','') for x in glob.glob('app/static/logos/' + bname + '_*')]"
   ]
  },
  {
   "cell_type": "code",
   "execution_count": 67,
   "metadata": {},
   "outputs": [
    {
     "data": {
      "text/plain": [
       "['app/static/logos\\\\veja_0.jpg',\n",
       " 'app/static/logos\\\\veja_1.jpg',\n",
       " 'app/static/logos\\\\veja_2.jpg',\n",
       " 'app/static/logos\\\\veja_3.jpg',\n",
       " 'app/static/logos\\\\veja_4.jpg']"
      ]
     },
     "execution_count": 67,
     "metadata": {},
     "output_type": "execute_result"
    }
   ],
   "source": [
    "glob.glob('app/static/logos/' + bname + '_*')"
   ]
  },
  {
   "cell_type": "code",
   "execution_count": 68,
   "metadata": {},
   "outputs": [
    {
     "data": {
      "text/plain": [
       "'bc'"
      ]
     },
     "execution_count": 68,
     "metadata": {},
     "output_type": "execute_result"
    }
   ],
   "source": [
    "'abc'.replace('a','')"
   ]
  },
  {
   "cell_type": "code",
   "execution_count": null,
   "metadata": {},
   "outputs": [],
   "source": []
  }
 ],
 "metadata": {
  "kernelspec": {
   "display_name": "Python 3",
   "language": "python",
   "name": "python3"
  },
  "language_info": {
   "codemirror_mode": {
    "name": "ipython",
    "version": 3
   },
   "file_extension": ".py",
   "mimetype": "text/x-python",
   "name": "python",
   "nbconvert_exporter": "python",
   "pygments_lexer": "ipython3",
   "version": "3.7.1"
  }
 },
 "nbformat": 4,
 "nbformat_minor": 2
}
