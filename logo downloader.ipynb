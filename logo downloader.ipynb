{
 "cells": [
  {
   "cell_type": "code",
   "execution_count": 77,
   "metadata": {},
   "outputs": [],
   "source": [
    "import requests\n",
    "import pandas as pd\n",
    "import numpy as np\n",
    "import json\n",
    "import os\n",
    "# from sklearn import preprocessing\n",
    "from IPython.core.debugger import set_trace\n",
    "from tqdm.autonotebook import tqdm\n",
    "tqdm.pandas()\n",
    "import glob\n",
    "import re\n",
    "import time\n",
    "from collections import Counter"
   ]
  },
  {
   "cell_type": "code",
   "execution_count": 4,
   "metadata": {
    "collapsed": true
   },
   "outputs": [
    {
     "data": {
      "text/html": [
       "<div>\n",
       "<style scoped>\n",
       "    .dataframe tbody tr th:only-of-type {\n",
       "        vertical-align: middle;\n",
       "    }\n",
       "\n",
       "    .dataframe tbody tr th {\n",
       "        vertical-align: top;\n",
       "    }\n",
       "\n",
       "    .dataframe thead th {\n",
       "        text-align: right;\n",
       "    }\n",
       "</style>\n",
       "<table border=\"1\" class=\"dataframe\">\n",
       "  <thead>\n",
       "    <tr style=\"text-align: right;\">\n",
       "      <th></th>\n",
       "      <th>shortname</th>\n",
       "      <th>logourl</th>\n",
       "    </tr>\n",
       "  </thead>\n",
       "  <tbody>\n",
       "    <tr>\n",
       "      <th>3</th>\n",
       "      <td>8seconds</td>\n",
       "      <td>https://ko.wikipedia.org/wiki/%EC%97%90%EC%9E%...</td>\n",
       "    </tr>\n",
       "    <tr>\n",
       "      <th>4</th>\n",
       "      <td>adidas</td>\n",
       "      <td>http://i0.wp.com/s3.store.hypebeast.com/media/...</td>\n",
       "    </tr>\n",
       "    <tr>\n",
       "      <th>5</th>\n",
       "      <td>adidasoriginal</td>\n",
       "      <td>http://i0.wp.com/s3.store.hypebeast.com/media/...</td>\n",
       "    </tr>\n",
       "    <tr>\n",
       "      <th>6</th>\n",
       "      <td>asics</td>\n",
       "      <td>http://i0.wp.com/s3.store.hypebeast.com/media/...</td>\n",
       "    </tr>\n",
       "    <tr>\n",
       "      <th>7</th>\n",
       "      <td>balenciaga</td>\n",
       "      <td>http://i0.wp.com/s3.store.hypebeast.com/media/...</td>\n",
       "    </tr>\n",
       "    <tr>\n",
       "      <th>8</th>\n",
       "      <td>bally</td>\n",
       "      <td>https://upload.wikimedia.org/wikipedia/en/thum...</td>\n",
       "    </tr>\n",
       "    <tr>\n",
       "      <th>9</th>\n",
       "      <td>beanpole</td>\n",
       "      <td>https://t1.daumcdn.net/cfile/tistory/02482D495...</td>\n",
       "    </tr>\n",
       "    <tr>\n",
       "      <th>10</th>\n",
       "      <td>benetton</td>\n",
       "      <td>https://upload.wikimedia.org/wikipedia/commons...</td>\n",
       "    </tr>\n",
       "    <tr>\n",
       "      <th>11</th>\n",
       "      <td>blackyak</td>\n",
       "      <td>https://scontent-icn1-1.xx.fbcdn.net/v/t1.0-9/...</td>\n",
       "    </tr>\n",
       "    <tr>\n",
       "      <th>12</th>\n",
       "      <td>buckaroo</td>\n",
       "      <td>https://scontent-icn1-1.xx.fbcdn.net/v/t1.0-9/...</td>\n",
       "    </tr>\n",
       "    <tr>\n",
       "      <th>13</th>\n",
       "      <td>burberry</td>\n",
       "      <td>https://upload.wikimedia.org/wikipedia/commons...</td>\n",
       "    </tr>\n",
       "    <tr>\n",
       "      <th>14</th>\n",
       "      <td>calvinklein</td>\n",
       "      <td>http://i0.wp.com/s3.store.hypebeast.com/media/...</td>\n",
       "    </tr>\n",
       "    <tr>\n",
       "      <th>15</th>\n",
       "      <td>canadagoose</td>\n",
       "      <td>http://i0.wp.com/s3.store.hypebeast.com/media/...</td>\n",
       "    </tr>\n",
       "    <tr>\n",
       "      <th>16</th>\n",
       "      <td>chanel</td>\n",
       "      <td>https://en.wikipedia.org/wiki/File:Chanel_logo...</td>\n",
       "    </tr>\n",
       "    <tr>\n",
       "      <th>17</th>\n",
       "      <td>coach</td>\n",
       "      <td>https://upload.wikimedia.org/wikipedia/en/thum...</td>\n",
       "    </tr>\n",
       "    <tr>\n",
       "      <th>18</th>\n",
       "      <td>converse</td>\n",
       "      <td>http://i0.wp.com/s3.store.hypebeast.com/media/...</td>\n",
       "    </tr>\n",
       "    <tr>\n",
       "      <th>19</th>\n",
       "      <td>crocs</td>\n",
       "      <td>https://upload.wikimedia.org/wikipedia/commons...</td>\n",
       "    </tr>\n",
       "    <tr>\n",
       "      <th>20</th>\n",
       "      <td>daks</td>\n",
       "      <td>https://www.rosl.org.uk/images/AFFINITY_PARTNE...</td>\n",
       "    </tr>\n",
       "    <tr>\n",
       "      <th>21</th>\n",
       "      <td>descente</td>\n",
       "      <td>https://upload.wikimedia.org/wikipedia/commons...</td>\n",
       "    </tr>\n",
       "    <tr>\n",
       "      <th>22</th>\n",
       "      <td>diesel</td>\n",
       "      <td>https://upload.wikimedia.org/wikipedia/commons...</td>\n",
       "    </tr>\n",
       "    <tr>\n",
       "      <th>23</th>\n",
       "      <td>dior</td>\n",
       "      <td>http://i0.wp.com/s3.store.hypebeast.com/media/...</td>\n",
       "    </tr>\n",
       "    <tr>\n",
       "      <th>24</th>\n",
       "      <td>dkny</td>\n",
       "      <td>http://logok.org/wp-content/uploads/2014/05/DK...</td>\n",
       "    </tr>\n",
       "    <tr>\n",
       "      <th>25</th>\n",
       "      <td>drmartens</td>\n",
       "      <td>http://i0.wp.com/s3.store.hypebeast.com/media/...</td>\n",
       "    </tr>\n",
       "    <tr>\n",
       "      <th>26</th>\n",
       "      <td>eastpak</td>\n",
       "      <td>https://upload.wikimedia.org/wikipedia/en/thum...</td>\n",
       "    </tr>\n",
       "    <tr>\n",
       "      <th>27</th>\n",
       "      <td>fila</td>\n",
       "      <td>http://i0.wp.com/s3.store.hypebeast.com/media/...</td>\n",
       "    </tr>\n",
       "    <tr>\n",
       "      <th>28</th>\n",
       "      <td>gap</td>\n",
       "      <td>http://i0.wp.com/s3.store.hypebeast.com/media/...</td>\n",
       "    </tr>\n",
       "    <tr>\n",
       "      <th>29</th>\n",
       "      <td>giordano</td>\n",
       "      <td>https://upload.wikimedia.org/wikipedia/commons...</td>\n",
       "    </tr>\n",
       "    <tr>\n",
       "      <th>30</th>\n",
       "      <td>givenchy</td>\n",
       "      <td>http://i0.wp.com/s3.store.hypebeast.com/media/...</td>\n",
       "    </tr>\n",
       "    <tr>\n",
       "      <th>31</th>\n",
       "      <td>gucci</td>\n",
       "      <td>https://upload.wikimedia.org/wikipedia/commons...</td>\n",
       "    </tr>\n",
       "    <tr>\n",
       "      <th>32</th>\n",
       "      <td>guess</td>\n",
       "      <td>https://1000logos.net/wp-content/uploads/2017/...</td>\n",
       "    </tr>\n",
       "    <tr>\n",
       "      <th>...</th>\n",
       "      <td>...</td>\n",
       "      <td>...</td>\n",
       "    </tr>\n",
       "    <tr>\n",
       "      <th>295</th>\n",
       "      <td>readymade</td>\n",
       "      <td>http://www.readymade-official.com/images/logo.png</td>\n",
       "    </tr>\n",
       "    <tr>\n",
       "      <th>296</th>\n",
       "      <td>richardson</td>\n",
       "      <td>https://cdn.shopify.com/s/files/1/1726/7265/fi...</td>\n",
       "    </tr>\n",
       "    <tr>\n",
       "      <th>297</th>\n",
       "      <td>rokit</td>\n",
       "      <td>https://s3-eu-west-1.amazonaws.com/efr-images-...</td>\n",
       "    </tr>\n",
       "    <tr>\n",
       "      <th>298</th>\n",
       "      <td>salomon</td>\n",
       "      <td>https://www.irunfar.com/wp-content/uploads/Sal...</td>\n",
       "    </tr>\n",
       "    <tr>\n",
       "      <th>299</th>\n",
       "      <td>seventhheaven</td>\n",
       "      <td>https://cdn.shopify.com/s/files/1/2569/5922/fi...</td>\n",
       "    </tr>\n",
       "    <tr>\n",
       "      <th>300</th>\n",
       "      <td>someware</td>\n",
       "      <td>https://images.garmentory.com/stores/1235/logo...</td>\n",
       "    </tr>\n",
       "    <tr>\n",
       "      <th>301</th>\n",
       "      <td>sssworldcorp</td>\n",
       "      <td>https://static1.squarespace.com/static/592fe21...</td>\n",
       "    </tr>\n",
       "    <tr>\n",
       "      <th>302</th>\n",
       "      <td>stereovinyls</td>\n",
       "      <td>https://cdn.dealspotr.com/zc-images/merchants/...</td>\n",
       "    </tr>\n",
       "    <tr>\n",
       "      <th>303</th>\n",
       "      <td>studioseven</td>\n",
       "      <td>https://www.seven-official.jp/assets/images/sl...</td>\n",
       "    </tr>\n",
       "    <tr>\n",
       "      <th>305</th>\n",
       "      <td>dolcegabbana</td>\n",
       "      <td>https://upload.wikimedia.org/wikipedia/commons...</td>\n",
       "    </tr>\n",
       "    <tr>\n",
       "      <th>306</th>\n",
       "      <td>ragbone</td>\n",
       "      <td>http://i0.wp.com/s3.store.hypebeast.com/media/...</td>\n",
       "    </tr>\n",
       "    <tr>\n",
       "      <th>307</th>\n",
       "      <td>n21</td>\n",
       "      <td>https://scontent-icn1-1.xx.fbcdn.net/v/t1.0-9/...</td>\n",
       "    </tr>\n",
       "    <tr>\n",
       "      <th>308</th>\n",
       "      <td>freitag</td>\n",
       "      <td>https://logonoid.com/images/freitag-logo.png</td>\n",
       "    </tr>\n",
       "    <tr>\n",
       "      <th>309</th>\n",
       "      <td>cutlerandgross</td>\n",
       "      <td>http://www.themusicroom.co.uk/wp-content/uploa...</td>\n",
       "    </tr>\n",
       "    <tr>\n",
       "      <th>310</th>\n",
       "      <td>tartoptical</td>\n",
       "      <td>http://tartoptical.co.kr/images/mainv2_about_l...</td>\n",
       "    </tr>\n",
       "    <tr>\n",
       "      <th>311</th>\n",
       "      <td>heritagefloss</td>\n",
       "      <td>http://heritagefloss1.cafe24.com/srcc/mlogo.jpg</td>\n",
       "    </tr>\n",
       "    <tr>\n",
       "      <th>312</th>\n",
       "      <td>urutokyo</td>\n",
       "      <td>http://uru-tokyo.com/tumblr/logo_uru.png</td>\n",
       "    </tr>\n",
       "    <tr>\n",
       "      <th>313</th>\n",
       "      <td>snowpeak</td>\n",
       "      <td>http://i0.wp.com/s3.store.hypebeast.com/media/...</td>\n",
       "    </tr>\n",
       "    <tr>\n",
       "      <th>314</th>\n",
       "      <td>moscot</td>\n",
       "      <td>http://whitehouseoptometrists.com.au/wp-conten...</td>\n",
       "    </tr>\n",
       "    <tr>\n",
       "      <th>315</th>\n",
       "      <td>ystrdystmrrw</td>\n",
       "      <td>http://www.memphis.jp/news/assets_c/2017/07/Ys...</td>\n",
       "    </tr>\n",
       "    <tr>\n",
       "      <th>316</th>\n",
       "      <td>abecrombiefitch</td>\n",
       "      <td>https://anf.scene7.com/is/image/anf/ANF_LOGO_5...</td>\n",
       "    </tr>\n",
       "    <tr>\n",
       "      <th>317</th>\n",
       "      <td>ambush</td>\n",
       "      <td>http://i0.wp.com/s3.store.hypebeast.com/media/...</td>\n",
       "    </tr>\n",
       "    <tr>\n",
       "      <th>318</th>\n",
       "      <td>martinerose</td>\n",
       "      <td>https://cdn.shopify.com/s/files/1/0041/7434/83...</td>\n",
       "    </tr>\n",
       "    <tr>\n",
       "      <th>319</th>\n",
       "      <td>vivastudio</td>\n",
       "      <td>https://scontent-icn1-1.xx.fbcdn.net/v/t1.0-9/...</td>\n",
       "    </tr>\n",
       "    <tr>\n",
       "      <th>320</th>\n",
       "      <td>lmc</td>\n",
       "      <td>https://sizestores.s3.amazonaws.com/wp-content...</td>\n",
       "    </tr>\n",
       "    <tr>\n",
       "      <th>322</th>\n",
       "      <td>veja</td>\n",
       "      <td>https://pngimage.net/wp-content/uploads/2018/0...</td>\n",
       "    </tr>\n",
       "    <tr>\n",
       "      <th>323</th>\n",
       "      <td>braindead</td>\n",
       "      <td>http://i0.wp.com/s3.store.hypebeast.com/media/...</td>\n",
       "    </tr>\n",
       "    <tr>\n",
       "      <th>324</th>\n",
       "      <td>danner</td>\n",
       "      <td>http://i0.wp.com/s3.store.hypebeast.com/media/...</td>\n",
       "    </tr>\n",
       "    <tr>\n",
       "      <th>325</th>\n",
       "      <td>filson</td>\n",
       "      <td>http://i0.wp.com/s3.store.hypebeast.com/media/...</td>\n",
       "    </tr>\n",
       "    <tr>\n",
       "      <th>326</th>\n",
       "      <td>gosharubchinskiy</td>\n",
       "      <td>http://i0.wp.com/s3.store.hypebeast.com/media/...</td>\n",
       "    </tr>\n",
       "  </tbody>\n",
       "</table>\n",
       "<p>319 rows × 2 columns</p>\n",
       "</div>"
      ],
      "text/plain": [
       "            shortname                                            logourl\n",
       "3            8seconds  https://ko.wikipedia.org/wiki/%EC%97%90%EC%9E%...\n",
       "4              adidas  http://i0.wp.com/s3.store.hypebeast.com/media/...\n",
       "5      adidasoriginal  http://i0.wp.com/s3.store.hypebeast.com/media/...\n",
       "6               asics  http://i0.wp.com/s3.store.hypebeast.com/media/...\n",
       "7          balenciaga  http://i0.wp.com/s3.store.hypebeast.com/media/...\n",
       "8               bally  https://upload.wikimedia.org/wikipedia/en/thum...\n",
       "9            beanpole  https://t1.daumcdn.net/cfile/tistory/02482D495...\n",
       "10           benetton  https://upload.wikimedia.org/wikipedia/commons...\n",
       "11           blackyak  https://scontent-icn1-1.xx.fbcdn.net/v/t1.0-9/...\n",
       "12           buckaroo  https://scontent-icn1-1.xx.fbcdn.net/v/t1.0-9/...\n",
       "13           burberry  https://upload.wikimedia.org/wikipedia/commons...\n",
       "14        calvinklein  http://i0.wp.com/s3.store.hypebeast.com/media/...\n",
       "15        canadagoose  http://i0.wp.com/s3.store.hypebeast.com/media/...\n",
       "16             chanel  https://en.wikipedia.org/wiki/File:Chanel_logo...\n",
       "17              coach  https://upload.wikimedia.org/wikipedia/en/thum...\n",
       "18           converse  http://i0.wp.com/s3.store.hypebeast.com/media/...\n",
       "19              crocs  https://upload.wikimedia.org/wikipedia/commons...\n",
       "20               daks  https://www.rosl.org.uk/images/AFFINITY_PARTNE...\n",
       "21           descente  https://upload.wikimedia.org/wikipedia/commons...\n",
       "22             diesel  https://upload.wikimedia.org/wikipedia/commons...\n",
       "23               dior  http://i0.wp.com/s3.store.hypebeast.com/media/...\n",
       "24               dkny  http://logok.org/wp-content/uploads/2014/05/DK...\n",
       "25          drmartens  http://i0.wp.com/s3.store.hypebeast.com/media/...\n",
       "26            eastpak  https://upload.wikimedia.org/wikipedia/en/thum...\n",
       "27               fila  http://i0.wp.com/s3.store.hypebeast.com/media/...\n",
       "28                gap  http://i0.wp.com/s3.store.hypebeast.com/media/...\n",
       "29           giordano  https://upload.wikimedia.org/wikipedia/commons...\n",
       "30           givenchy  http://i0.wp.com/s3.store.hypebeast.com/media/...\n",
       "31              gucci  https://upload.wikimedia.org/wikipedia/commons...\n",
       "32              guess  https://1000logos.net/wp-content/uploads/2017/...\n",
       "..                ...                                                ...\n",
       "295         readymade  http://www.readymade-official.com/images/logo.png\n",
       "296        richardson  https://cdn.shopify.com/s/files/1/1726/7265/fi...\n",
       "297             rokit  https://s3-eu-west-1.amazonaws.com/efr-images-...\n",
       "298           salomon  https://www.irunfar.com/wp-content/uploads/Sal...\n",
       "299     seventhheaven  https://cdn.shopify.com/s/files/1/2569/5922/fi...\n",
       "300          someware  https://images.garmentory.com/stores/1235/logo...\n",
       "301      sssworldcorp  https://static1.squarespace.com/static/592fe21...\n",
       "302      stereovinyls  https://cdn.dealspotr.com/zc-images/merchants/...\n",
       "303       studioseven  https://www.seven-official.jp/assets/images/sl...\n",
       "305      dolcegabbana  https://upload.wikimedia.org/wikipedia/commons...\n",
       "306           ragbone  http://i0.wp.com/s3.store.hypebeast.com/media/...\n",
       "307               n21  https://scontent-icn1-1.xx.fbcdn.net/v/t1.0-9/...\n",
       "308           freitag       https://logonoid.com/images/freitag-logo.png\n",
       "309    cutlerandgross  http://www.themusicroom.co.uk/wp-content/uploa...\n",
       "310       tartoptical  http://tartoptical.co.kr/images/mainv2_about_l...\n",
       "311     heritagefloss    http://heritagefloss1.cafe24.com/srcc/mlogo.jpg\n",
       "312          urutokyo           http://uru-tokyo.com/tumblr/logo_uru.png\n",
       "313          snowpeak  http://i0.wp.com/s3.store.hypebeast.com/media/...\n",
       "314            moscot  http://whitehouseoptometrists.com.au/wp-conten...\n",
       "315      ystrdystmrrw  http://www.memphis.jp/news/assets_c/2017/07/Ys...\n",
       "316   abecrombiefitch  https://anf.scene7.com/is/image/anf/ANF_LOGO_5...\n",
       "317            ambush  http://i0.wp.com/s3.store.hypebeast.com/media/...\n",
       "318       martinerose  https://cdn.shopify.com/s/files/1/0041/7434/83...\n",
       "319        vivastudio  https://scontent-icn1-1.xx.fbcdn.net/v/t1.0-9/...\n",
       "320               lmc  https://sizestores.s3.amazonaws.com/wp-content...\n",
       "322              veja  https://pngimage.net/wp-content/uploads/2018/0...\n",
       "323         braindead  http://i0.wp.com/s3.store.hypebeast.com/media/...\n",
       "324            danner  http://i0.wp.com/s3.store.hypebeast.com/media/...\n",
       "325            filson  http://i0.wp.com/s3.store.hypebeast.com/media/...\n",
       "326  gosharubchinskiy  http://i0.wp.com/s3.store.hypebeast.com/media/...\n",
       "\n",
       "[319 rows x 2 columns]"
      ]
     },
     "execution_count": 4,
     "metadata": {},
     "output_type": "execute_result"
    }
   ],
   "source": [
    "logo_urls = pd.read_excel('keywords and logos.xlsx', sheet_name='20190215')[['shortname','logourl']].dropna(); logo_urls"
   ]
  },
  {
   "cell_type": "code",
   "execution_count": 1,
   "metadata": {
    "collapsed": true
   },
   "outputs": [
    {
     "ename": "NameError",
     "evalue": "name 'tqdm_notebook' is not defined",
     "output_type": "error",
     "traceback": [
      "\u001b[1;31m---------------------------------------------------------------------------\u001b[0m",
      "\u001b[1;31mNameError\u001b[0m                                 Traceback (most recent call last)",
      "\u001b[1;32m<ipython-input-1-713cd79eb3ec>\u001b[0m in \u001b[0;36m<module>\u001b[1;34m\u001b[0m\n\u001b[1;32m----> 1\u001b[1;33m \u001b[1;32mfor\u001b[0m \u001b[0mrow\u001b[0m \u001b[1;32min\u001b[0m \u001b[0mtqdm_notebook\u001b[0m\u001b[1;33m(\u001b[0m\u001b[0mlogo_urls\u001b[0m\u001b[1;33m.\u001b[0m\u001b[0mitertuples\u001b[0m\u001b[1;33m(\u001b[0m\u001b[1;33m)\u001b[0m\u001b[1;33m)\u001b[0m\u001b[1;33m:\u001b[0m\u001b[1;33m\u001b[0m\u001b[1;33m\u001b[0m\u001b[0m\n\u001b[0m\u001b[0;32m      2\u001b[0m     \u001b[1;31m#if row.brand not in ['beanpole','chanel','diesel','jansport','lafuma']:\u001b[0m\u001b[1;33m\u001b[0m\u001b[1;33m\u001b[0m\u001b[1;33m\u001b[0m\u001b[0m\n\u001b[0;32m      3\u001b[0m     \u001b[1;31m#    continue\u001b[0m\u001b[1;33m\u001b[0m\u001b[1;33m\u001b[0m\u001b[1;33m\u001b[0m\u001b[0m\n\u001b[0;32m      4\u001b[0m \u001b[1;33m\u001b[0m\u001b[0m\n\u001b[0;32m      5\u001b[0m     \u001b[0mfname\u001b[0m \u001b[1;33m=\u001b[0m \u001b[1;34m'app/static/logos/'\u001b[0m \u001b[1;33m+\u001b[0m \u001b[0mrow\u001b[0m\u001b[1;33m.\u001b[0m\u001b[0mshortname\u001b[0m \u001b[1;33m+\u001b[0m \u001b[1;34m'.jpg'\u001b[0m\u001b[1;33m\u001b[0m\u001b[1;33m\u001b[0m\u001b[0m\n",
      "\u001b[1;31mNameError\u001b[0m: name 'tqdm_notebook' is not defined"
     ]
    }
   ],
   "source": [
    "for row in tqdm_notebook(logo_urls.itertuples()):\n",
    "    #if row.brand not in ['beanpole','chanel','diesel','jansport','lafuma']:\n",
    "    #    continue\n",
    "    \n",
    "    fname = 'app/static/logos/' + row.shortname + '.jpg'\n",
    "    if not os.path.isfile(fname):\n",
    "        try:\n",
    "            img = requests.get(row.logourl).content\n",
    "            with open(fname, 'wb') as f:\n",
    "                f.write(img)\n",
    "        except:\n",
    "            print(row.shortname)"
   ]
  },
  {
   "cell_type": "code",
   "execution_count": 19,
   "metadata": {},
   "outputs": [
    {
     "data": {
      "text/plain": [
       "array(['https://ko.wikipedia.org/wiki/%EC%97%90%EC%9E%87%EC%84%B8%EC%BB%A8%EC%A6%88#/media/File:8_seconds_logo.gif'],\n",
       "      dtype=object)"
      ]
     },
     "execution_count": 19,
     "metadata": {},
     "output_type": "execute_result"
    }
   ],
   "source": [
    "logo_urls.logourl[logo_urls.shortname=='8seconds'].values"
   ]
  },
  {
   "cell_type": "code",
   "execution_count": 12,
   "metadata": {},
   "outputs": [],
   "source": [
    "url = 'https://t1tallinn.com/wp-content/uploads/2018/10/MandarinaDuck_T1.jpg'\n",
    "img = requests.get(url).content\n",
    "with open('test.jpg', 'wb') as f:\n",
    "    f.write(img)"
   ]
  },
  {
   "cell_type": "code",
   "execution_count": null,
   "metadata": {},
   "outputs": [],
   "source": []
  },
  {
   "cell_type": "markdown",
   "metadata": {},
   "source": [
    "# DB 초기화"
   ]
  },
  {
   "cell_type": "code",
   "execution_count": 3,
   "metadata": {},
   "outputs": [
    {
     "data": {
      "text/plain": [
       "'helinox.png'"
      ]
     },
     "execution_count": 3,
     "metadata": {},
     "output_type": "execute_result"
    }
   ],
   "source": [
    "# def get_identity(bname):\n",
    "#     try:\n",
    "#         return identity.loc[bname].to_dict()\n",
    "#     except:\n",
    "#         return dict()\n",
    "    \n",
    "def get_logo_fname(bname, where):\n",
    "    try:\n",
    "        return glob.glob(where + '/' + bname + '.*')[0].split('\\\\')[-1]\n",
    "    except:\n",
    "        return 'need file.jpg'\n",
    "    \n",
    "get_logo_fname('helinox', 'uploads/brand_images')"
   ]
  },
  {
   "cell_type": "code",
   "execution_count": 2,
   "metadata": {},
   "outputs": [],
   "source": [
    "from app.models import CustomEmailUser, Profile, Hashtag, Brand, Feed, Channel"
   ]
  },
  {
   "cell_type": "code",
   "execution_count": null,
   "metadata": {},
   "outputs": [],
   "source": []
  },
  {
   "cell_type": "code",
   "execution_count": 231,
   "metadata": {},
   "outputs": [
    {
     "data": {
      "text/plain": [
       "<QuerySet [<Feed: 2019-07-30 15:53:08.323767 jingwen1119@getch.com>]>"
      ]
     },
     "execution_count": 231,
     "metadata": {},
     "output_type": "execute_result"
    }
   ],
   "source": [
    "# Feed.objects.get(content__contains='@official_hoony_ https://t.co/gooeO4TGY6').pages.all()\n",
    "Page.objects.get(page__name='adidas').feed_set.filter(content__contains='@official_hoony_ https://t.co/gooeO4TGY6')"
   ]
  },
  {
   "cell_type": "code",
   "execution_count": 438,
   "metadata": {
    "scrolled": false
   },
   "outputs": [
    {
     "name": "stdout",
     "output_type": "stream",
     "text": [
      "************* 0.0011606216430664062\n"
     ]
    },
    {
     "data": {
      "application/vnd.jupyter.widget-view+json": {
       "model_id": "70bcb4c5dfc548e18134151bb0da00c5",
       "version_major": 2,
       "version_minor": 0
      },
      "text/plain": [
       "HBox(children=(IntProgress(value=0, max=10), HTML(value='')))"
      ]
     },
     "metadata": {},
     "output_type": "display_data"
    },
    {
     "name": "stdout",
     "output_type": "stream",
     "text": [
      "0.8752291202545166\n"
     ]
    }
   ],
   "source": [
    "_page = Page.objects.get(page__name='adidas')\n",
    "\n",
    "st = time.time()\n",
    "_page_feeds = _page.feed_set.all().prefetch_related('hashtags', 'pages__content').select_related('author').order_by('-timestamp')[:10]\n",
    "print('*************', time.time()-st)\n",
    "\n",
    "_feeds = []\n",
    "st0 = time.time()\n",
    "for feed in tqdm(_page_feeds):\n",
    "    st = time.time()\n",
    "    \n",
    "    _feed = {\n",
    "        'id': feed.pk,\n",
    "        'author_image': feed.author.image.name,\n",
    "        'content': feed.content,\n",
    "        #'hashtags': list(feed.hashtags.values_list('hashtag', flat=True)),\n",
    "        'hashtags': [str(tag) for tag in feed.hashtags.all()],\n",
    "        'image' : feed.image.name,\n",
    "        'pages_image': [{'name':page.content.name, 'image':page.content.image.name} for page in feed.pages.all()],\n",
    "        'timestamp': feed.timestamp.strftime('%Y-%m-%d %H:%M:%S'),\n",
    "    }\n",
    "\n",
    "    _feeds.append(_feed)\n",
    "    #print(time.time() - st)\n",
    "\n",
    "print(time.time()-st0)"
   ]
  },
  {
   "cell_type": "code",
   "execution_count": 439,
   "metadata": {
    "collapsed": true
   },
   "outputs": [
    {
     "data": {
      "text/plain": [
       "[{'id': 806,\n",
       "  'author_image': 'profile_images/midasmarin@getch.com/b9P_NPBI_normal.jpeg',\n",
       "  'content': 'Cut #winterdaily #abcmart #dubai #adidas #일하기 싫은날 paju https://t.co/0JAWpQbq7E',\n",
       "  'hashtags': ['일하기', 'abcmart', 'adidas', 'dubai', 'winterdaily'],\n",
       "  'image': '',\n",
       "  'pages_image': [{'name': 'adidas', 'image': 'brand_images\\\\adidas.jpg'}],\n",
       "  'timestamp': '2019-07-30 15:53:08'},\n",
       " {'id': 809,\n",
       "  'author_image': 'profile_images/midasmarin@getch.com/b9P_NPBI_normal.jpeg',\n",
       "  'content': '영화보러 가다가 동네에서 알바할까??\\n#dubai #winterdaily #rolex #busan #adidas #vans#redbull https://t.co/eDuHkiapRM',\n",
       "  'hashtags': ['busan', 'adidas', 'rolex', 'dubai', 'winterdaily'],\n",
       "  'image': '',\n",
       "  'pages_image': [{'name': 'adidas', 'image': 'brand_images\\\\adidas.jpg'}],\n",
       "  'timestamp': '2019-07-30 15:53:08'},\n",
       " {'id': 804,\n",
       "  'author_image': 'profile_images/midasmarin@getch.com/b9P_NPBI_normal.jpeg',\n",
       "  'content': '하이킥의 진수!!#winterdaily #abcmart #dubai #adidas #vans #redbull https://t.co/0CWtRPgSbi',\n",
       "  'hashtags': ['abcmart', 'adidas', 'vans', 'redbull', 'dubai', 'winterdaily'],\n",
       "  'image': '',\n",
       "  'pages_image': [{'name': 'adidas', 'image': 'brand_images\\\\adidas.jpg'}],\n",
       "  'timestamp': '2019-07-30 15:53:08'},\n",
       " {'id': 805,\n",
       "  'author_image': 'profile_images/altchang@getch.com/AMe5gBmv_normal.jpg',\n",
       "  'content': '춥고 바람 엄청 부는 토요일 라운딩 \\n자세 교정 드라이브 샷 200개 연습 후 42홀로 마무리\\n#innovadiscs #discgolf #koreadiscgolf #ulsandiscgolf… https://t.co/m73gPcM82P',\n",
       "  'hashtags': ['innovadiscs', 'koreadiscgolf', 'discgolf', 'ulsandiscgolf'],\n",
       "  'image': '',\n",
       "  'pages_image': [{'name': 'adidas', 'image': 'brand_images\\\\adidas.jpg'}],\n",
       "  'timestamp': '2019-07-30 15:53:08'},\n",
       " {'id': 807,\n",
       "  'author_image': 'profile_images/a9j8NyXpViMYJdu@getch.com/im18NEZ-_normal.jpg',\n",
       "  'content': '사람들이 아디다스 인줄 모름!!\\n\\n#아디다스#프로피어#어글리슈즈\\n#아디다스프로피어#블랙#라임\\n#아디다스프로피어블랙라임#adidas#prophere busan, South Korea https://t.co/cb1mDYCnwP',\n",
       "  'hashtags': [],\n",
       "  'image': '',\n",
       "  'pages_image': [{'name': 'adidas', 'image': 'brand_images\\\\adidas.jpg'}],\n",
       "  'timestamp': '2019-07-30 15:53:08'},\n",
       " {'id': 808,\n",
       "  'author_image': 'profile_images/jebi_167@getch.com/NQdhi03w_normal.jpg',\n",
       "  'content': '[갓세븐 아디다스 와펜 양도]\\n맨투맨을 사니 갑자기 구하고 싶어서 늦게 뒷북 쳐봅니다  잭슨이나 영재 구매 원해요! 편하게 디엠주세요 \\n\\n#갓세븐 #아디다스 #와펜 #갓세븐양도 https://t.co/4XdGPTHC7S',\n",
       "  'hashtags': ['와펜', '갓세븐', '갓세븐양도', '아디다스'],\n",
       "  'image': 'feed_images/adidas/jebi_167@getch.com/DwZeIpxWwAA1CZ8.jpg',\n",
       "  'pages_image': [{'name': 'adidas', 'image': 'brand_images\\\\adidas.jpg'}],\n",
       "  'timestamp': '2019-07-30 15:53:08'},\n",
       " {'id': 802,\n",
       "  'author_image': 'profile_images/ContactDreamer@getch.com/SatDwUqH_normal.jpg',\n",
       "  'content': '4월 4째주 #3D프린터 뉴스를 전해드립니다.\\n\\n- #Henkel 의 3D프린터용 쓰레기 재활용 방안\\n- 어떤 기술들이 CAD를 변화시킬까요?\\n- #ZEISS, #GOM 합병\\n- #Prusa Research… https://t.co/TBjsDDTVDL',\n",
       "  'hashtags': ['3D프린터', 'GOM', 'Henkel', 'Prusa', 'ZEISS'],\n",
       "  'image': '',\n",
       "  'pages_image': [{'name': 'adidas', 'image': 'brand_images\\\\adidas.jpg'}],\n",
       "  'timestamp': '2019-07-30 15:53:08'},\n",
       " {'id': 803,\n",
       "  'author_image': 'profile_images/bona_preorder@getch.com/iWkSwqma_normal.jpg',\n",
       "  'content': '[#พรีออเดอร์] 슈퍼스타 우먼스\\nSUPERSTAR W #adidas \\nSize220-250\\nราคา3,200฿\\nค่าส่งREG50|EMS80\\nสนใจสินค้าสอบถามได้ค่ะ… https://t.co/PICfockMBe',\n",
       "  'hashtags': ['adidas', 'พรีออเดอร์'],\n",
       "  'image': '',\n",
       "  'pages_image': [{'name': 'adidas', 'image': 'brand_images\\\\adidas.jpg'}],\n",
       "  'timestamp': '2019-07-30 15:53:08'},\n",
       " {'id': 811,\n",
       "  'author_image': 'profile_images/topstarnews@getch.com/_JvgQbNh_normal.jpg',\n",
       "  'content': '[4K직캠] 정혜성(Jung\\xa0Hye\\xa0Sung), 빛이 나는 각선미(190322) #프라이노크 #FREIKNOCK #아디다스 #Adidas #정혜성 #JungHyeSung https://t.co/fBZS4TdRWH',\n",
       "  'hashtags': ['정혜성', '아디다스', 'Adidas', 'FREIKNOCK', 'JungHyeSung', '프라이노크'],\n",
       "  'image': '',\n",
       "  'pages_image': [{'name': 'adidas', 'image': 'brand_images\\\\adidas.jpg'}],\n",
       "  'timestamp': '2019-07-30 15:53:08'},\n",
       " {'id': 810,\n",
       "  'author_image': 'profile_images/cool83031@getch.com/zWrz-1AR_normal.jpg',\n",
       "  'content': '#명품 #레플리카 #명품가방  #구찌시계 #구찌신발 #A급짝퉁 #명품이미테이션 #방탄소년단 #레플리카사이트 #명품도매 #이미테이션   #as급명품 #AS명품 #짝퉁 #남성명품 #여성명품\\n#아디다스 #나이키… https://t.co/v5vaR7yMOT',\n",
       "  'hashtags': ['여성명품',\n",
       "   '명품가방',\n",
       "   '나이키',\n",
       "   '구찌시계',\n",
       "   '아디다스',\n",
       "   '명품이미테이션',\n",
       "   'AS명품',\n",
       "   '레플리카사이트',\n",
       "   '방탄소년단',\n",
       "   'as급명품',\n",
       "   '이미테이션',\n",
       "   '명품도매',\n",
       "   '구찌신발',\n",
       "   'A급짝퉁',\n",
       "   '명품',\n",
       "   '레플리카',\n",
       "   '짝퉁',\n",
       "   '남성명품'],\n",
       "  'image': '',\n",
       "  'pages_image': [{'name': 'adidas', 'image': 'brand_images\\\\adidas.jpg'}],\n",
       "  'timestamp': '2019-07-30 15:53:08'}]"
      ]
     },
     "execution_count": 439,
     "metadata": {},
     "output_type": "execute_result"
    }
   ],
   "source": [
    "_feeds"
   ]
  },
  {
   "cell_type": "code",
   "execution_count": 309,
   "metadata": {
    "collapsed": true
   },
   "outputs": [
    {
     "data": {
      "text/plain": [
       "<QuerySet [<Feed: 2019-07-30 15:53:08.323767 smilehninggg_@getch.com>, <Feed: 2019-07-30 15:53:08.323767 kkP5W7TeATN4y9A@getch.com>, <Feed: 2019-07-30 15:53:08.323767 dbsduddk13@getch.com>, <Feed: 2019-07-30 15:53:08.323767 newsenstar@getch.com>, <Feed: 2019-07-30 15:53:08.323767 Canada_Dobie@getch.com>, <Feed: 2019-07-30 15:53:08.323767 daon3333@getch.com>, <Feed: 2019-07-30 15:53:08.323767 sY09STZgaz7gIbl@getch.com>, <Feed: 2019-07-30 15:53:08.323767 weloveadidas@getch.com>, <Feed: 2019-07-30 15:53:08.323767 URmystar_0330@getch.com>, <Feed: 2019-07-30 15:53:08.323767 sY09STZgaz7gIbl@getch.com>, <Feed: 2019-07-30 15:53:08.323767 SagkmXoaQWNUpNs@getch.com>, <Feed: 2019-07-30 15:53:08.323767 sY09STZgaz7gIbl@getch.com>, <Feed: 2019-07-30 15:53:08.323767 ddungbom_mino@getch.com>, <Feed: 2019-07-30 15:53:08.323767 Canada_Dobie@getch.com>, <Feed: 2019-07-30 15:53:08.323767 altchang@getch.com>, <Feed: 2019-07-30 15:53:08.323767 instiz@getch.com>, <Feed: 2019-07-30 15:53:08.323767 JmDH9oYlQfIT989@getch.com>, <Feed: 2019-07-30 15:53:08.323767 gwangjununa@getch.com>, <Feed: 2019-07-30 15:53:08.323767 GVGSHOP@getch.com>, <Feed: 2019-07-30 15:53:08.323767 winner4lover@getch.com>, '...(remaining elements truncated)...']>"
      ]
     },
     "execution_count": 309,
     "metadata": {},
     "output_type": "execute_result"
    }
   ],
   "source": [
    "_page_feeds"
   ]
  },
  {
   "cell_type": "code",
   "execution_count": null,
   "metadata": {},
   "outputs": [],
   "source": []
  },
  {
   "cell_type": "code",
   "execution_count": null,
   "metadata": {},
   "outputs": [],
   "source": []
  },
  {
   "cell_type": "code",
   "execution_count": null,
   "metadata": {},
   "outputs": [],
   "source": []
  },
  {
   "cell_type": "code",
   "execution_count": 5,
   "metadata": {},
   "outputs": [],
   "source": [
    "Brand.objects.all().delete();\n",
    "Channel.objects.all().delete();\n",
    "CustomEmailUser.objects.all().delete();\n",
    "Profile.objects.all().delete();\n",
    "Hashtag.objects.all().delete();\n",
    "Feed.objects.all().delete();"
   ]
  },
  {
   "cell_type": "code",
   "execution_count": 6,
   "metadata": {},
   "outputs": [
    {
     "data": {
      "application/vnd.jupyter.widget-view+json": {
       "model_id": "9bbd5db63cd14478b0d3f9f677246636",
       "version_major": 2,
       "version_minor": 0
      },
      "text/plain": [
       "HBox(children=(IntProgress(value=0, max=324), HTML(value='')))"
      ]
     },
     "metadata": {},
     "output_type": "display_data"
    },
    {
     "name": "stdout",
     "output_type": "stream",
     "text": [
      "\n"
     ]
    }
   ],
   "source": [
    "bulk_brand = []\n",
    "ibrands = list(pd.read_excel('data/keywords and logos.xlsx', sheet_name='20190430').itertuples())[3:]\n",
    "\n",
    "for i, row in enumerate(tqdm(sorted(ibrands, key=lambda x:x.shortname)[::-1])):\n",
    "    obj = Brand()\n",
    "    obj.id = i+1\n",
    "    obj.name = row.shortname\n",
    "    obj.fullname_kr = row.koname\n",
    "    obj.fullname_en = row.fullname\n",
    "    obj.keywords = row.keywords\n",
    "    # obj.website = row.website\n",
    "    obj.origin = row.origin\n",
    "    obj.awareness = row.awareness\n",
    "    obj.category = row.category.lower()\n",
    "    obj.description = ''\n",
    "    # obj.history = ''\n",
    "    obj.image = os.path.join('brand_images', get_logo_fname(row.shortname, 'uploads/brand_images'))\n",
    "    bulk_brand.append(obj)\n",
    "    \n",
    "Brand.objects.bulk_create(bulk_brand);"
   ]
  },
  {
   "cell_type": "code",
   "execution_count": 7,
   "metadata": {},
   "outputs": [
    {
     "data": {
      "application/vnd.jupyter.widget-view+json": {
       "model_id": "f16628341c2c4e8aa788528453ce9406",
       "version_major": 2,
       "version_minor": 0
      },
      "text/plain": [
       "HBox(children=(IntProgress(value=0, max=324), HTML(value='')))"
      ]
     },
     "metadata": {},
     "output_type": "display_data"
    },
    {
     "name": "stdout",
     "output_type": "stream",
     "text": [
      "\n"
     ]
    }
   ],
   "source": [
    "bulk_channel = []\n",
    "for i, br in enumerate(tqdm(bulk_brand)):\n",
    "    obj = Channel()\n",
    "    obj.id = i+1\n",
    "    obj.content = br\n",
    "    bulk_channel.append(obj)\n",
    "    \n",
    "Channel.objects.bulk_create(bulk_channel);"
   ]
  },
  {
   "cell_type": "code",
   "execution_count": 22,
   "metadata": {},
   "outputs": [],
   "source": []
  },
  {
   "cell_type": "code",
   "execution_count": 14,
   "metadata": {},
   "outputs": [],
   "source": []
  },
  {
   "cell_type": "code",
   "execution_count": 8,
   "metadata": {},
   "outputs": [],
   "source": [
    "users = None\n",
    "with open('users.json', encoding='UTF-8-sig') as f:\n",
    "    users = json.load(f)"
   ]
  },
  {
   "cell_type": "code",
   "execution_count": 9,
   "metadata": {},
   "outputs": [
    {
     "data": {
      "application/vnd.jupyter.widget-view+json": {
       "model_id": "7015e3918d5240ff86c244f0cb49581b",
       "version_major": 2,
       "version_minor": 0
      },
      "text/plain": [
       "HBox(children=(IntProgress(value=0, max=8872), HTML(value='')))"
      ]
     },
     "metadata": {},
     "output_type": "display_data"
    },
    {
     "name": "stdout",
     "output_type": "stream",
     "text": [
      "\n"
     ]
    }
   ],
   "source": [
    "bulk_emailuser = []\n",
    "for _id, _user in tqdm(users.items()):\n",
    "    obj = CustomEmailUser()\n",
    "    obj.id = _id\n",
    "    obj.email = _user['user'] + '@getch.com'\n",
    "    bulk_emailuser.append(obj)\n",
    "    \n",
    "CustomEmailUser.objects.bulk_create(bulk_emailuser);"
   ]
  },
  {
   "cell_type": "code",
   "execution_count": 25,
   "metadata": {},
   "outputs": [
    {
     "data": {
      "application/vnd.jupyter.widget-view+json": {
       "model_id": "4c5243c0058f4e69b131baea0c4a791c",
       "version_major": 2,
       "version_minor": 0
      },
      "text/plain": [
       "HBox(children=(IntProgress(value=0, max=8872), HTML(value='')))"
      ]
     },
     "metadata": {},
     "output_type": "display_data"
    },
    {
     "name": "stdout",
     "output_type": "stream",
     "text": [
      "\n"
     ]
    }
   ],
   "source": [
    "bulk_profile = []\n",
    "for i, (_id, _user) in enumerate(tqdm(list(users.items())[:])):\n",
    "    obj = Profile()\n",
    "    obj.id = _id\n",
    "    obj.user = bulk_emailuser[i]\n",
    "    obj.image = 'profile_images/' + _user['user'] + '@getch.com' + '/' + _user['profile_image'].split('/')[-1]\n",
    "    bulk_profile.append(obj)\n",
    "    \n",
    "Profile.objects.bulk_create(bulk_profile);\n",
    "# Profile.objects.bulk_update(bulk_profile, ['image']);"
   ]
  },
  {
   "cell_type": "code",
   "execution_count": 11,
   "metadata": {},
   "outputs": [],
   "source": [
    "hashtags = None\n",
    "with open('hashtags.json', encoding='UTF-8-sig') as f:\n",
    "    hashtags = json.load(f)"
   ]
  },
  {
   "cell_type": "code",
   "execution_count": 12,
   "metadata": {},
   "outputs": [
    {
     "data": {
      "text/plain": [
       "'바보'"
      ]
     },
     "execution_count": 12,
     "metadata": {},
     "output_type": "execute_result"
    }
   ],
   "source": [
    "EMOJI = r'[\\U00010000-\\U0010ffff]'\n",
    "re.sub(EMOJI, '', '바보')"
   ]
  },
  {
   "cell_type": "code",
   "execution_count": 13,
   "metadata": {},
   "outputs": [
    {
     "data": {
      "application/vnd.jupyter.widget-view+json": {
       "model_id": "326086428dc24f8e8a98b210d9ce5a82",
       "version_major": 2,
       "version_minor": 0
      },
      "text/plain": [
       "HBox(children=(IntProgress(value=0, max=21662), HTML(value='')))"
      ]
     },
     "metadata": {},
     "output_type": "display_data"
    },
    {
     "name": "stdout",
     "output_type": "stream",
     "text": [
      "\n"
     ]
    }
   ],
   "source": [
    "bulk_hashtags = []\n",
    "\n",
    "for i, _tag in enumerate(tqdm(hashtags)):\n",
    "    obj = Hashtag()\n",
    "    obj.id = i+1\n",
    "    _tag = re.sub(EMOJI, '', _tag) # MySQL에서는 이모티콘 저장이 잘 안된다. 아예 지워버리자...\n",
    "    \n",
    "    if _tag != '':\n",
    "        obj.hashtag = _tag\n",
    "        bulk_hashtags.append(obj)"
   ]
  },
  {
   "cell_type": "code",
   "execution_count": 14,
   "metadata": {},
   "outputs": [],
   "source": [
    "Hashtag.objects.bulk_create(bulk_hashtags);"
   ]
  },
  {
   "cell_type": "code",
   "execution_count": null,
   "metadata": {},
   "outputs": [],
   "source": []
  },
  {
   "cell_type": "code",
   "execution_count": 15,
   "metadata": {},
   "outputs": [],
   "source": [
    "channels_dict = {ch.content.name:ch.pk for ch in bulk_channel}"
   ]
  },
  {
   "cell_type": "code",
   "execution_count": 16,
   "metadata": {},
   "outputs": [],
   "source": [
    "profile_dict = {pr.user.email:pr for pr in bulk_profile}"
   ]
  },
  {
   "cell_type": "code",
   "execution_count": 17,
   "metadata": {},
   "outputs": [],
   "source": [
    "hashtags_dict = {ht.hashtag:ht.pk for ht in bulk_hashtags}"
   ]
  },
  {
   "cell_type": "code",
   "execution_count": null,
   "metadata": {},
   "outputs": [],
   "source": []
  },
  {
   "cell_type": "code",
   "execution_count": 9,
   "metadata": {},
   "outputs": [],
   "source": [
    "feeds = None\n",
    "with open('feeds.json', encoding='UTF-8-sig') as f:\n",
    "    feeds = json.load(f)"
   ]
  },
  {
   "cell_type": "code",
   "execution_count": 13,
   "metadata": {},
   "outputs": [],
   "source": [
    "feeds;"
   ]
  },
  {
   "cell_type": "code",
   "execution_count": null,
   "metadata": {},
   "outputs": [],
   "source": []
  },
  {
   "cell_type": "code",
   "execution_count": 17,
   "metadata": {},
   "outputs": [
    {
     "data": {
      "application/vnd.jupyter.widget-view+json": {
       "model_id": "125ed3e5a1024444a60faba1297b2a54",
       "version_major": 2,
       "version_minor": 0
      },
      "text/plain": [
       "HBox(children=(IntProgress(value=0, max=46960), HTML(value='')))"
      ]
     },
     "metadata": {},
     "output_type": "display_data"
    },
    {
     "name": "stdout",
     "output_type": "stream",
     "text": [
      "\n"
     ]
    }
   ],
   "source": [
    "bulk_feeds = []\n",
    "\n",
    "for i, _feed in enumerate(tqdm(feeds[:])):\n",
    "    obj = Feed()\n",
    "    obj.id = i+1\n",
    "    # obj.membership = brand_dict[_feed['membership']] # 이렇게 foreignkey가 들어가려면, 해당 필드의 id가 있어야 하는듯 하다 (확인은 안됨)\n",
    "    obj.author = profile_dict[_feed['author']+'@getch.com']\n",
    "    obj.timestamp = str(pd.Timestamp(_feed['created_at']).tz_localize(None))\n",
    "    obj.nlikes = _feed['nlikes']\n",
    "    obj.content = re.sub(EMOJI, '', _feed['content'])\n",
    "    \n",
    "    if 'feed_image' in _feed:\n",
    "        # pass\n",
    "        # _feed[membership] 부분은, page가 여러개 있는 경우 - 로 연결하는 걸로: nike-adidas-custompage 등\n",
    "        obj.image = 'feed_images/' + _feed['membership'] + '/' + _feed['author'] + '@getch.com' + '/' + _feed['feed_image'].split('/')[-1]\n",
    "    \n",
    "    bulk_feeds.append(obj)"
   ]
  },
  {
   "cell_type": "code",
   "execution_count": 18,
   "metadata": {},
   "outputs": [],
   "source": [
    "Feed.objects.bulk_update(bulk_feeds, ['timestamp']);\n",
    "# Feed.objects.bulk_update(bulk_feeds, ['image']);\n",
    "# Feed.objects.bulk_create(bulk_feeds);"
   ]
  },
  {
   "cell_type": "code",
   "execution_count": null,
   "metadata": {},
   "outputs": [],
   "source": []
  },
  {
   "cell_type": "code",
   "execution_count": 21,
   "metadata": {},
   "outputs": [
    {
     "data": {
      "application/vnd.jupyter.widget-view+json": {
       "model_id": "01fae6f54c4f4d9cb542a04d4de5602d",
       "version_major": 2,
       "version_minor": 0
      },
      "text/plain": [
       "HBox(children=(IntProgress(value=0, max=46960), HTML(value='')))"
      ]
     },
     "metadata": {},
     "output_type": "display_data"
    },
    {
     "name": "stdout",
     "output_type": "stream",
     "text": [
      "\n"
     ]
    }
   ],
   "source": [
    "FeedHashtagsRelation = Feed.hashtags.through\n",
    "\n",
    "relations = []\n",
    "for i, _feed in enumerate(tqdm(feeds)):\n",
    "    for ht in _feed['hashtags']:\n",
    "        ht = re.sub(EMOJI, '', ht)\n",
    "        if ht != '':\n",
    "            relations.append(FeedHashtagsRelation(feed_id=i+1, hashtag_id=hashtags_dict[ht]))\n",
    "            \n",
    "FeedHashtagsRelation.objects.bulk_create(relations);"
   ]
  },
  {
   "cell_type": "code",
   "execution_count": 23,
   "metadata": {},
   "outputs": [
    {
     "data": {
      "application/vnd.jupyter.widget-view+json": {
       "model_id": "babb77ba84c84182bf4ad0d411bbacaf",
       "version_major": 2,
       "version_minor": 0
      },
      "text/plain": [
       "HBox(children=(IntProgress(value=0, max=46960), HTML(value='')))"
      ]
     },
     "metadata": {},
     "output_type": "display_data"
    },
    {
     "name": "stdout",
     "output_type": "stream",
     "text": [
      "\n"
     ]
    }
   ],
   "source": [
    "FeedChannelsRelation = Feed.channels.through\n",
    "\n",
    "relations = []\n",
    "for i, _feed in enumerate(tqdm(feeds)):\n",
    "    relations.append(FeedChannelsRelation(feed_id=i+1, channel_id=channels_dict[_feed['membership']]))\n",
    "            \n",
    "FeedChannelsRelation.objects.bulk_create(relations);"
   ]
  },
  {
   "cell_type": "code",
   "execution_count": null,
   "metadata": {},
   "outputs": [],
   "source": []
  },
  {
   "cell_type": "code",
   "execution_count": null,
   "metadata": {},
   "outputs": [],
   "source": []
  },
  {
   "cell_type": "code",
   "execution_count": null,
   "metadata": {},
   "outputs": [],
   "source": []
  },
  {
   "cell_type": "code",
   "execution_count": null,
   "metadata": {},
   "outputs": [],
   "source": []
  },
  {
   "cell_type": "code",
   "execution_count": 52,
   "metadata": {},
   "outputs": [],
   "source": [
    "worldcup = {'nike-adidas':'nike', '8seconds-zara':'zara', 'nike-puma':'puma'}"
   ]
  },
  {
   "cell_type": "code",
   "execution_count": 9,
   "metadata": {},
   "outputs": [],
   "source": [
    "with open('db_init.json', encoding='UTF-8-sig') as f:\n",
    "    db = json.load(f)\n",
    "    ids = {b['fields']['name']:b['fields']['identity'] for b in db}"
   ]
  },
  {
   "cell_type": "code",
   "execution_count": 27,
   "metadata": {},
   "outputs": [],
   "source": [
    "get_id = lambda bname: {i['key']:i['value'] for i in json.loads(ids[bname])}"
   ]
  },
  {
   "cell_type": "code",
   "execution_count": 50,
   "metadata": {},
   "outputs": [],
   "source": [
    "def idmix(**weights):\n",
    "    score = {}\n",
    "    for bname, w in weights.items():\n",
    "        for k,v in get_id(bname).items():\n",
    "            score[k] = score[k] + v*w if k in score else v*w\n",
    "            \n",
    "    score_sum = sum(score.values())\n",
    "    return {k:v/score_sum for k,v in score.items()}"
   ]
  },
  {
   "cell_type": "code",
   "execution_count": 53,
   "metadata": {},
   "outputs": [
    {
     "data": {
      "text/plain": [
       "{'럭셔리-캐주얼': 0.15265017667844524,\n",
       " '유니크-대중성': 0.15477031802120142,\n",
       " '정통성-트렌디': 0.058657243816254416,\n",
       " '포멀-화제성': 0.6339222614840989}"
      ]
     },
     "execution_count": 53,
     "metadata": {},
     "output_type": "execute_result"
    }
   ],
   "source": [
    "idmix(**weighting(worldcup))"
   ]
  },
  {
   "cell_type": "code",
   "execution_count": 45,
   "metadata": {},
   "outputs": [],
   "source": [
    "def weighting(compares, like=2, morelike=3):\n",
    "    weights = {}\n",
    "    for pair,selected in compares.items():\n",
    "        for b in pair.split('-'):\n",
    "            add = like if b==selected else 1\n",
    "            weights[b] = weights[b] + add if b in weights else add\n",
    "    return weights"
   ]
  },
  {
   "cell_type": "code",
   "execution_count": 46,
   "metadata": {},
   "outputs": [
    {
     "data": {
      "text/plain": [
       "{'nike': 3, 'adidas': 1, '8seconds': 1, 'jara': 2, 'puma': 2}"
      ]
     },
     "execution_count": 46,
     "metadata": {},
     "output_type": "execute_result"
    }
   ],
   "source": [
    "weighting(worldcup)"
   ]
  },
  {
   "cell_type": "code",
   "execution_count": null,
   "metadata": {},
   "outputs": [],
   "source": []
  },
  {
   "cell_type": "code",
   "execution_count": null,
   "metadata": {},
   "outputs": [],
   "source": []
  },
  {
   "cell_type": "code",
   "execution_count": 27,
   "metadata": {},
   "outputs": [
    {
     "data": {
      "text/plain": [
       "datetime.datetime(2019, 1, 1, 0, 10, 42)"
      ]
     },
     "execution_count": 27,
     "metadata": {},
     "output_type": "execute_result"
    }
   ],
   "source": [
    "Feed.objects.order_by('timestamp').first().timestamp"
   ]
  },
  {
   "cell_type": "code",
   "execution_count": 32,
   "metadata": {},
   "outputs": [
    {
     "data": {
      "text/plain": [
       "Timestamp('2019-08-14 18:07:07.261770')"
      ]
     },
     "execution_count": 32,
     "metadata": {},
     "output_type": "execute_result"
    }
   ],
   "source": [
    "pd.Timestamp.now().tz_localize(None)"
   ]
  },
  {
   "cell_type": "code",
   "execution_count": 58,
   "metadata": {},
   "outputs": [
    {
     "data": {
      "text/plain": [
       "datetime.date(2019, 3, 19)"
      ]
     },
     "execution_count": 58,
     "metadata": {},
     "output_type": "execute_result"
    }
   ],
   "source": [
    "_from = (pd.Timestamp(Feed.objects.order_by('timestamp').last().timestamp) - pd.DateOffset(months=3)).date(); _from"
   ]
  },
  {
   "cell_type": "code",
   "execution_count": 65,
   "metadata": {},
   "outputs": [],
   "source": [
    "test = Feed.objects.filter(timestamp__date__gte=_from).order_by('timestamp')"
   ]
  },
  {
   "cell_type": "code",
   "execution_count": 66,
   "metadata": {},
   "outputs": [
    {
     "data": {
      "text/plain": [
       "datetime.date(2019, 3, 19)"
      ]
     },
     "execution_count": 66,
     "metadata": {},
     "output_type": "execute_result"
    }
   ],
   "source": [
    "list(test)[0].timestamp.date()"
   ]
  },
  {
   "cell_type": "code",
   "execution_count": 67,
   "metadata": {},
   "outputs": [
    {
     "data": {
      "text/plain": [
       "datetime.date(2019, 6, 19)"
      ]
     },
     "execution_count": 67,
     "metadata": {},
     "output_type": "execute_result"
    }
   ],
   "source": [
    "list(test)[-1].timestamp.date()"
   ]
  },
  {
   "cell_type": "code",
   "execution_count": 80,
   "metadata": {
    "collapsed": true
   },
   "outputs": [
    {
     "data": {
      "text/plain": [
       "[('toms', 5295),\n",
       " ('아미', 2306),\n",
       " ('콜롬비아', 1839),\n",
       " ('축구', 1783),\n",
       " ('한국', 1759),\n",
       " ('친선경기', 1749),\n",
       " ('이명박', 1744),\n",
       " ('토스', 1743),\n",
       " ('김우빈', 1743),\n",
       " ('꽁머니', 1743),\n",
       " ('신태용', 1743),\n",
       " ('재충전', 1743),\n",
       " ('트럼프', 1743),\n",
       " ('첫충전', 1743),\n",
       " ('방탄소년단', 1437),\n",
       " ('BTS', 981),\n",
       " ('동국제강', 879),\n",
       " ('홍콩명품쇼핑몰', 803),\n",
       " ('system', 736),\n",
       " ('Goat', 730),\n",
       " ('cherry', 692),\n",
       " ('언더커버', 638),\n",
       " ('루이비통', 573),\n",
       " ('에이스', 569),\n",
       " ('ACE', 564),\n",
       " ('Day7', 460),\n",
       " ('강다니엘', 458),\n",
       " ('박보검', 413),\n",
       " ('샤넬', 406),\n",
       " ('아이더', 401),\n",
       " ('브이티', 396),\n",
       " ('VT', 388),\n",
       " ('브이티코스메틱', 362),\n",
       " ('ARMY', 362),\n",
       " ('아디다스', 360),\n",
       " ('방탄', 352),\n",
       " ('구찌', 336),\n",
       " ('명품', 332),\n",
       " ('VTCOSMETICS', 316),\n",
       " ('UNDERCOVER', 311),\n",
       " ('디올', 308),\n",
       " ('나이키', 293),\n",
       " ('VTXBTS', 283),\n",
       " ('로렉스', 279),\n",
       " ('황민현', 263),\n",
       " ('프라다', 247),\n",
       " ('LouisVuitton', 245),\n",
       " ('VT팝업스토어', 240),\n",
       " ('민현', 237),\n",
       " ('부산', 236),\n",
       " ('아미트친소', 229),\n",
       " ('겟잇케이', 225),\n",
       " ('신발', 225),\n",
       " ('에르메스', 224),\n",
       " ('정국', 213),\n",
       " ('발렌시아가', 213),\n",
       " ('머스터', 211),\n",
       " ('레디메이드', 210),\n",
       " ('양도', 205),\n",
       " ('맞팔', 202),\n",
       " ('광주', 202),\n",
       " ('지갑', 197),\n",
       " ('가방', 196),\n",
       " ('nike', 191),\n",
       " ('KangDaniel', 191),\n",
       " ('bts', 188),\n",
       " ('VTXBTS팝업스토어', 177),\n",
       " ('강남', 177),\n",
       " ('구두', 176),\n",
       " ('파텍필립', 175),\n",
       " ('체리', 172),\n",
       " ('위너', 169),\n",
       " ('강유찬', 168),\n",
       " ('젠틀몬스터', 159),\n",
       " ('qww54', 159),\n",
       " ('EIDER', 158),\n",
       " ('몽클레르', 158),\n",
       " ('adidas', 156),\n",
       " ('엘르', 156),\n",
       " ('찬열', 155),\n",
       " ('공항패션', 153),\n",
       " ('참스', 153),\n",
       " ('동국제강ㅊ', 149),\n",
       " ('찬', 147),\n",
       " ('뉴이스트', 146),\n",
       " ('동국제강ㅌ', 144),\n",
       " ('동국제강ㅍ', 143),\n",
       " ('동국제강ㅜ', 143),\n",
       " ('동국제강ㅡ', 143),\n",
       " ('동국제강ㅠ', 142),\n",
       " ('오프화이트', 137),\n",
       " ('톰브라운', 136),\n",
       " ('지방시', 136),\n",
       " ('CHANYEOL', 130),\n",
       " ('김병관', 130),\n",
       " ('EXO', 123),\n",
       " ('army', 121),\n",
       " ('HwangMinhyun', 121),\n",
       " ('서울패션위크', 118),\n",
       " ('朴寶劍', 116)]"
      ]
     },
     "execution_count": 80,
     "metadata": {},
     "output_type": "execute_result"
    }
   ],
   "source": [
    "Counter(Hashtag.objects.filter(feed__timestamp__date__gte=_from).values_list('hashtag', flat=True)).most_common(100)"
   ]
  },
  {
   "cell_type": "code",
   "execution_count": 90,
   "metadata": {},
   "outputs": [],
   "source": [
    "kkk = Feed.objects.filter(hashtags__hashtag='toms').exclude(content__contains='카지노')"
   ]
  },
  {
   "cell_type": "code",
   "execution_count": 91,
   "metadata": {},
   "outputs": [
    {
     "data": {
      "text/plain": [
       "0"
      ]
     },
     "execution_count": 91,
     "metadata": {},
     "output_type": "execute_result"
    }
   ],
   "source": [
    "len(kkk.values_list('content', flat=True))"
   ]
  },
  {
   "cell_type": "code",
   "execution_count": null,
   "metadata": {},
   "outputs": [],
   "source": []
  }
 ],
 "metadata": {
  "kernelspec": {
   "display_name": "Django Shell-Plus",
   "language": "python",
   "name": "django_extensions"
  },
  "language_info": {
   "codemirror_mode": {
    "name": "ipython",
    "version": 3
   },
   "file_extension": ".py",
   "mimetype": "text/x-python",
   "name": "python",
   "nbconvert_exporter": "python",
   "pygments_lexer": "ipython3",
   "version": "3.7.3"
  }
 },
 "nbformat": 4,
 "nbformat_minor": 2
}
